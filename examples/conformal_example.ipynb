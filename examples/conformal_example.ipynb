{
 "cells": [
  {
   "cell_type": "code",
   "execution_count": 2,
   "metadata": {},
   "outputs": [],
   "source": [
    "# %%\n",
    "import numpy as np\n",
    "from tqdm import tqdm\n",
    "import copy\n",
    "import torch\n",
    "from data import get_school_data\n",
    "\n",
    "from ugnn.networks import Dynamic_Network, Unfolded_Network\n",
    "from ugnn.utils.masks import non_zero_degree_mask, mask_split, pad_unfolded_mask\n",
    "from ugnn.gnns import GCN, train, valid\n",
    "from ugnn.conformal import get_prediction_sets"
   ]
  },
  {
   "cell_type": "markdown",
   "metadata": {},
   "source": [
    "### Load data"
   ]
  },
  {
   "cell_type": "code",
   "execution_count": 3,
   "metadata": {},
   "outputs": [
    {
     "name": "stdout",
     "output_type": "stream",
     "text": [
      "Number of time windows: 9\n",
      "Number of nodes: 236\n"
     ]
    }
   ],
   "source": [
    "# %%\n",
    "As, node_labels, all_labels = get_school_data(return_all_labels=True)\n",
    "T = len(As)\n",
    "n = As[0].shape[0]\n",
    "num_classes = len(np.unique(node_labels))\n",
    "\n",
    "# Convert to a torch geometric dataset containing T graphs\n",
    "dyn_network = Dynamic_Network(As, node_labels)\n",
    "\n",
    "# Unfold the T graphs into a single graph\n",
    "unf_network = Unfolded_Network(dyn_network)[0]\n"
   ]
  },
  {
   "cell_type": "markdown",
   "metadata": {},
   "source": [
    "### Set up masks for the specified regime"
   ]
  },
  {
   "cell_type": "code",
   "execution_count": 4,
   "metadata": {},
   "outputs": [],
   "source": [
    "# %%\n",
    "# See https://arxiv.org/abs/2405.19230 for details on different regimes\n",
    "regime = \"temporal transductive\"\n",
    "data_mask = non_zero_degree_mask(As, n, T)\n",
    "train_mask, valid_mask, calib_mask, test_mask = mask_split(\n",
    "    data_mask, split_props=[0.2, 0.1, 0.35, 0.35], regime=regime\n",
    ")\n",
    "\n",
    "# Pad masks to include anchor nodes (required when unfolding)\n",
    "train_mask = pad_unfolded_mask(train_mask, n)\n",
    "valid_mask = pad_unfolded_mask(valid_mask, n)\n",
    "calib_mask = pad_unfolded_mask(calib_mask, n)\n",
    "test_mask = pad_unfolded_mask(test_mask, n)\n"
   ]
  },
  {
   "cell_type": "markdown",
   "metadata": {},
   "source": [
    "### Train a UGCN"
   ]
  },
  {
   "cell_type": "code",
   "execution_count": 5,
   "metadata": {},
   "outputs": [
    {
     "name": "stderr",
     "output_type": "stream",
     "text": [
      "100%|██████████| 200/200 [00:07<00:00, 26.23it/s]"
     ]
    },
    {
     "name": "stdout",
     "output_type": "stream",
     "text": [
      "Test accuracy: 0.950\n"
     ]
    },
    {
     "name": "stderr",
     "output_type": "stream",
     "text": [
      "\n"
     ]
    }
   ],
   "source": [
    "# %%\n",
    "model = GCN(\n",
    "    num_nodes=unf_network.num_nodes, num_channels=16, num_classes=num_classes, seed=123\n",
    ")\n",
    "optimizer = torch.optim.Adam(model.parameters(), lr=0.01, weight_decay=5e-4)\n",
    "\n",
    "max_valid_acc = 0\n",
    "for epoch in tqdm(range(200)):\n",
    "    _ = train(model, unf_network, train_mask, optimizer)\n",
    "    valid_acc = valid(model, unf_network, valid_mask)\n",
    "\n",
    "    if valid_acc > max_valid_acc:\n",
    "        max_valid_acc = valid_acc\n",
    "        best_model = copy.deepcopy(model)\n",
    "\n",
    "test_acc = valid(model, unf_network, test_mask)\n",
    "print(f\"Test accuracy: {test_acc:0.3f}\")\n"
   ]
  },
  {
   "cell_type": "markdown",
   "metadata": {},
   "source": [
    "### Compute conformal prediction sets"
   ]
  },
  {
   "cell_type": "markdown",
   "metadata": {},
   "source": [
    "First, let's use the Adaptive Prediction Sets (APS) method to compute conformal prediction sets. "
   ]
  },
  {
   "cell_type": "code",
   "execution_count": 6,
   "metadata": {},
   "outputs": [
    {
     "name": "stdout",
     "output_type": "stream",
     "text": [
      "Node 1937 (True label 2A): ['1B', '2A', '2B', '3A', '4B']\n",
      "Node 2168 (True label 1B): ['1B', '2A', '2B']\n",
      "Node 1735 (True label 2B): ['2A', '3A', '3B', '4A', '4B', '5A', '5B', 'Teachers']\n",
      "Node 1988 (True label 3A): ['1A', '3A', '3B', '4B', '5B']\n",
      "Node 2110 (True label 5B): ['1A', '3A', '3B', '4B']\n",
      "Node 1663 (True label 1A): []\n",
      "Node 1998 (True label 3A): ['1A', '3A', '3B']\n",
      "Node 1840 (True label 5A): ['2B', '3A', '4B', '5A', '5B', 'Teachers']\n",
      "Node 2199 (True label 2B): ['1B', '3A', '3B', '4A', '4B', '5A', '5B', 'Teachers']\n",
      "Node 2020 (True label 3B): ['4A']\n"
     ]
    }
   ],
   "source": [
    "# %%\n",
    "output = best_model(unf_network.x, unf_network.edge_index, unf_network.edge_weight)\n",
    "all_pred_sets = get_prediction_sets(\n",
    "    output, unf_network, calib_mask, test_mask, score_function=\"APS\", alpha=0.1\n",
    ")\n",
    "\n",
    "for calib_node_idx in np.random.randint(len(all_pred_sets), size=10):\n",
    "    node_pred_set = all_pred_sets[calib_node_idx]\n",
    "    node_idx = np.where(calib_mask == 1)[0][calib_node_idx]\n",
    "\n",
    "    # Convert predictions to label names\n",
    "    possible_labels_for_node = [\n",
    "        str(all_labels[pred]) for pred in np.where(node_pred_set == 1)[0]\n",
    "    ]\n",
    "    print(\n",
    "        f\"Node {node_idx} (True label {str(all_labels[unf_network.y[node_idx]])}): {possible_labels_for_node}\"\n",
    "    )"
   ]
  },
  {
   "cell_type": "markdown",
   "metadata": {},
   "source": [
    "### Visualise the UGCN Embedding\n",
    "\n",
    "The embedding is 11-dimensional, due to there being 11 classes in this data.\n",
    "\n",
    "Let's visualise the embedding by reducing to 2D using PCA."
   ]
  },
  {
   "cell_type": "code",
   "execution_count": 7,
   "metadata": {},
   "outputs": [],
   "source": [
    "from sklearn.decomposition import PCA\n",
    "import pyemb as eb\n",
    "\n",
    "# As we're unfolding, we get both an anchor and dynamic embedding\n",
    "# Let's select the dynamic embedding\n",
    "emb = output.detach()[n:]\n",
    "\n",
    "# Reduce to 2D\n",
    "emb = PCA(n_components=2).fit_transform(emb)"
   ]
  },
  {
   "cell_type": "code",
   "execution_count": 11,
   "metadata": {},
   "outputs": [
    {
     "data": {
      "application/vnd.plotly.v1+json": {
       "config": {
        "plotlyServerURL": "https://plot.ly"
       },
       "data": [
        {
         "hovertemplate": "Label=0<br>Time=0<br>Dimension 1=%{x}<br>Dimension 2=%{y}<extra></extra>",
         "legendgroup": "0",
         "marker": {
          "color": "#636efa",
          "symbol": "circle"
         },
         "mode": "markers",
         "name": "0",
         "orientation": "v",
         "showlegend": true,
         "type": "scatter",
         "x": {
          "bdata": "F/z7GoHBBcCo/JrRJZkDwAHv3XasBAXA6pLox2I2B8DKRwjT2kr7v4HmaCuscgLAhzH+XS85BsDDuIM19fMCwJKxuv+W+APANoGNQa43A8BnGtt/7dkBwKNF9tRxVgLAnCSclVOOAcAGdrmtVvEAwKNVjApQ0wHAVSN4gFb6BcAJBUgRjtAHwDKpCmiH4wTALdVokhUeA8CkPXpuRoTzP011ePhBhPM/B8RL2mlB/r8=",
          "dtype": "f8"
         },
         "xaxis": "x",
         "y": {
          "bdata": "WB1LA1PE+j/E/Er67Bj6P/6FWaZ7i/o/SBh1xjBl+z8QNYi4eJX1P3wXKvela/c/PuAIiFfu+D8aQh062gj4PxjcMXERQvo/qgmf8+Ki+j8gSBmsaUb6Pwq6vvK42/c/3MRfcNjW9z9cv1iJO0z2P8zc6996ufY/4rW31w7o+j9g2jog70X7P2RqKiwthPs/EGvsud1I+T/oUP+cgTT7v+wK2kfXNPu/IsteTXzR9T8=",
          "dtype": "f8"
         },
         "yaxis": "y"
        },
        {
         "hovertemplate": "Label=1<br>Time=0<br>Dimension 1=%{x}<br>Dimension 2=%{y}<extra></extra>",
         "legendgroup": "1",
         "marker": {
          "color": "#EF553B",
          "symbol": "circle"
         },
         "mode": "markers",
         "name": "1",
         "orientation": "v",
         "showlegend": true,
         "type": "scatter",
         "x": {
          "bdata": "ZuWD20QBDMCgoYykYwIFwJzJAYSQMgjAf6pMu18hBcAs24l04DsBwO2w7AuX7QjAQqirYesIAcBlqQAk3+wFwKi9FGoY+AjANeZFR12RBMACmifNYkUFwFPJLw8PQgXA55BVuMuSBsCqPtLZFCgEwOqtbZ8yBwTAhLPJyvnU/b9eW8FFV8IDwN4XW2hSDwrAipciBgVgBcC6lbhW6PAFwAF+lNGKfADA7NqDyvhJCMBYXuDM56QGwB5DOyHZ9APAkFnSE4VoDcA=",
          "dtype": "f8"
         },
         "xaxis": "x",
         "y": {
          "bdata": "nZQ+6Drw6L+sAbezmHXSv1iSyifbkd+/4jfuahNX178spLFLPuWxv7vSz7LAF+C/OEwCs6EH0b84JKmKecvPv6VuuQs+ReK/KhtJnaYjy7+IK2O6XB7Yv3CjV+6fZdW/JojsDw+d3L+qqx11SjvSv7pDhmspvNO/pCZ0sAmwxb+c+NLUifTMv8lNmndRSOO/6teYSMmP0L8QdbIaEW3bv4zlcg/V2cK/RnaQo7pD4b8obGFfLQTav2j4d8ki/9G/I3i1dXAp6b8=",
          "dtype": "f8"
         },
         "yaxis": "y"
        },
        {
         "hovertemplate": "Label=2<br>Time=0<br>Dimension 1=%{x}<br>Dimension 2=%{y}<extra></extra>",
         "legendgroup": "2",
         "marker": {
          "color": "#00cc96",
          "symbol": "circle"
         },
         "mode": "markers",
         "name": "2",
         "orientation": "v",
         "showlegend": true,
         "type": "scatter",
         "x": {
          "bdata": "UjC32CNy/L/ysvx9N379v/5VeLr0AwDAoys8tGJo9r+YFsVpge79v6rBuzHMLwDA+gNJb5U/+7920ExOgdwAwEnjclZnmfu/g11yylYJ/r+z2+dQU+AAwHRBKQUJv/m/Vh9WFn55/L/aEibcljH1vyptg5uIVP+/Z1Oq+/ZH+78DyHPCjLT/vy7//hZIVPm/ypHkV+gM47+qT3qhke3+v1hu+pIhH/6/takeKuS6878=",
          "dtype": "f8"
         },
         "xaxis": "x",
         "y": {
          "bdata": "Tlsf3ywM+7+4asc3GP35v4P8+pz1AwfATnO67W+19r/MoSADVEUCwHer7//SLQPABgjJ0bDfA8DWNkK5nEAEwFKBBtMHDwDAmD0NcRYSAsAreOoAEDoGwE5pP+jFGfq/pu/AOkgo+b/OTgzZwMD3vzCy+oteHAXATCXfTYEoA8BRSPWpiv8CwObOOBbyfP+/+mswQyjR+b+6088ULnsGwHIny4GPNAXACJaz59WB/r8=",
          "dtype": "f8"
         },
         "yaxis": "y"
        },
        {
         "hovertemplate": "Label=3<br>Time=0<br>Dimension 1=%{x}<br>Dimension 2=%{y}<extra></extra>",
         "legendgroup": "3",
         "marker": {
          "color": "#ab63fa",
          "symbol": "circle"
         },
         "mode": "markers",
         "name": "3",
         "orientation": "v",
         "showlegend": true,
         "type": "scatter",
         "x": {
          "bdata": "DGbK/Kfq678S3EJ203fwv8NQE/ByYd2/yZ+/fBKI878wYsgXMRzpvxpzMEi7Fuy/ZvDxSPDg0r8cfQhinkDpv+zLzQnJAeW/LIbMmPgB579PdoCtS7LwvyTuyQWdqPC/8H18F10l6b8M0kyNH+zxv4TpITVO1+y/xjV4u16h5r+SgLzwZ/Huv/bjr8MCiuq/mM4Sw8uz7L84YcjokzHiv/GtJdtphPM/NmjCu6RJ6L9xSWUYbq/kv34AK4rga+m/3uc7/xS16L8=",
          "dtype": "f8"
         },
         "xaxis": "x",
         "y": {
          "bdata": "6sOyW7uP/79cFznjwYoBwK5MHWKJlPW/ewd64wJZBsC5KdSXQQYBwPALEMGA4fy/2u881qq1AMDMX346sGUDwLroAOy+QQTAQgkU5/4//r+z23OJ30QAwPAuQa1cDQnA1LFIPvKNAcAsGtjbMAkMwJ6VqjdlMQHAnb5d9P4DBMC0N11EXi8BwAyVxBlv1v2/SMBHEzsV/78rrMjTA1wCwIo8Gvp5NPu/dqudF1XI/b/iUw3tZ5UIwKjJo5efLQHACDdfafgXB8A=",
          "dtype": "f8"
         },
         "yaxis": "y"
        },
        {
         "hovertemplate": "Label=4<br>Time=0<br>Dimension 1=%{x}<br>Dimension 2=%{y}<extra></extra>",
         "legendgroup": "4",
         "marker": {
          "color": "#FFA15A",
          "symbol": "circle"
         },
         "mode": "markers",
         "name": "4",
         "orientation": "v",
         "showlegend": true,
         "type": "scatter",
         "x": {
          "bdata": "inHszNTX5L8Ie0d6qo3iv5xltQVJpOO/jMKb6js/0r+mkMTfdQvkv+gHZrDBDOW/0AlsygC44b8gi/vgfMnivx5XAfYNJuO/C82hL6cT3b8MBdsc9+LnvxAkBaV9A+G/lv/bJa8g2b9Pb9diHxzYv4BaqMsjKOm/AKePhFkh4b+wBjvfaQ7gv1JWeHRkaOe/oIprNHCi479Q1agK/eXhv4Zb+8NApuG/AP/d9eOB5b/P5OKi7fHgvw==",
          "dtype": "f8"
         },
         "xaxis": "x",
         "y": {
          "bdata": "f8S6wkIWAkCEMeHtn2gEQEsCO7tkdwBAko/GmT47/z8skSR64dcJQImQ6QW6XQJAO0SugU4yA0BIYLx9pwj8P1Snqc1sl/4//WZY2SmiAED0Af0c3hEEQBhSAsgkKABAgUImyFYAAUB7mmCdKJYCQEBs302Q+QVAiMMkZ1XXAEDMELgCJWgDQLgfalftXgRAVP35U1ZUBED0/jGmhsMBQEr4sBN7LgdAoxyeqoPzA0BpvhHx7xECQA==",
          "dtype": "f8"
         },
         "yaxis": "y"
        },
        {
         "hovertemplate": "Label=5<br>Time=0<br>Dimension 1=%{x}<br>Dimension 2=%{y}<extra></extra>",
         "legendgroup": "5",
         "marker": {
          "color": "#19d3f3",
          "symbol": "circle"
         },
         "mode": "markers",
         "name": "5",
         "orientation": "v",
         "showlegend": true,
         "type": "scatter",
         "x": {
          "bdata": "tK0UYWun4b8xBuMeKabav+fzKQx9PNm/b3Bazm1O478QCdS55ZDevy4AygLcweK/Y3kkYkmc4L8m0TTz18/jvzfHzHNsQeC/QHBzkQTzzL+AkY2qVLnWvxbXBNEO5+K/rO7Il78K3r8XjjRqKJzhvxRVp+x8/t6/rMNA9vQz3L8a1wBXIoLgvzKlMstI6OG/kk8AMnbc4b/Ge8wEqebev+JzEaBjp9y/",
          "dtype": "f8"
         },
         "xaxis": "x",
         "y": {
          "bdata": "EmPPo3naBkC9co1eulQCQJ5i/4FMSgNA5Fw7jkZXDUB0U/6wzMUEQOLQGHJeKAlADmL9bQ/XDEAzsWviVrwOQOueH+d4nQdAGEHgNHpe+z/1Qb1Un5MCQFND8H2/ng1ADHiCFGDNBkAzG0c2/oEIQHKwWJGVaghAM6pYZGNJA0CUxiFSHkAHQBhva+wvlQtAPadx7CG1B0A3TYulYrEFQGiex73LxwNA",
          "dtype": "f8"
         },
         "yaxis": "y"
        },
        {
         "hovertemplate": "Label=6<br>Time=0<br>Dimension 1=%{x}<br>Dimension 2=%{y}<extra></extra>",
         "legendgroup": "6",
         "marker": {
          "color": "#FF6692",
          "symbol": "circle"
         },
         "mode": "markers",
         "name": "6",
         "orientation": "v",
         "showlegend": true,
         "type": "scatter",
         "x": {
          "bdata": "Ugt4V0Cf6D8Qya+f+6PrP6qrijtYhPM/9hmEXXqE8z+OMr4MSPjhP1NHinhphPE/CGo9CEU26z8USTlYdU/sP9ZHXs2Mzes/rlXR48909j9mSAcglYHoP6ApcJ3BueU/2rLDmNZT9j8MUOsCxcjlPzSstNkxA+o/moWJlaAa5T+kStR/dJ/uP9b57D9Tseo/xjDe3HjE5j9EZIvWmoDwP4DDnPIUYuc/",
          "dtype": "f8"
         },
         "xaxis": "x",
         "y": {
          "bdata": "w02e+Uvn4D9u/mCCv3njP0I/XkJaNPu/TnJxPHU0+7+i6tki0hnfPxJK83zOC9g/FO4eNqod4j9EalvBvbzfP3jx55jQzeA/Ip9GaxBF2j+SVbOmTJDSPwwOnCgrXeE//dHc78IM1D+43E/AvazjPzLZ1BaXPOM/MEjCVeTZ1D9jixwDw/DYP/HuCthADOA/2xnnRtL24j9X988Aow/gP8xPUCigSOI/",
          "dtype": "f8"
         },
         "yaxis": "y"
        },
        {
         "hovertemplate": "Label=7<br>Time=0<br>Dimension 1=%{x}<br>Dimension 2=%{y}<extra></extra>",
         "legendgroup": "7",
         "marker": {
          "color": "#B6E880",
          "symbol": "circle"
         },
         "mode": "markers",
         "name": "7",
         "orientation": "v",
         "showlegend": true,
         "type": "scatter",
         "x": {
          "bdata": "gtivkzyE8z9Xjqob4yXcP8+H91xrud4/7N6ja3X55T+WYdGIuuLgPyZUyqSfueI/jIvCPpoa5j/aJsxwdYrkP4mOiSC7kt4/VNJ1XfAq6z++aR4sYT7qP1L22dTGS+A/7KD1uHSK5j8yC6AgsWHkP4rnXfcfkeg/+iSt0Exz7j86MQI7Z+LhP+CpVOJq7+M/yh6ngkQt5D/RP/g60N/aP3bcd7WrReI/puT89WIw5T8=",
          "dtype": "f8"
         },
         "xaxis": "x",
         "y": {
          "bdata": "tM2PWWs0+7+GwWM9dKf2P4z1VzyRtPY/XMFVzuQb/z/A/Ldd48P1P+zpHu+HYPc/YDWa2ToF/z/WeB+3LWX8P6gGYgCjuPk/3Jj5RVjzAEDO4pyfMib+PzBEuQrapvQ/LzGO56IuAECaFKlBJHb7P7WlNEViQABAAZHr5HC0AEAOtyUcdtD7P2wK46GDyvU/+JyrHPXp/z+yJHWNbJf7PwTn7xQpIfw/Mphc/4wa2z8=",
          "dtype": "f8"
         },
         "yaxis": "y"
        },
        {
         "hovertemplate": "Label=8<br>Time=0<br>Dimension 1=%{x}<br>Dimension 2=%{y}<extra></extra>",
         "legendgroup": "8",
         "marker": {
          "color": "#FF97FF",
          "symbol": "circle"
         },
         "mode": "markers",
         "name": "8",
         "orientation": "v",
         "showlegend": true,
         "type": "scatter",
         "x": {
          "bdata": "4JJ+dXPWD0D9roqfjmcMQDwd20QtBQZAyGQdawDiEEDrV7IdRZUHQHeIHbYMyQdAdwDVCjEkDUCh2ItBTUkNQDgcnKKesgdArNg33zQzCEDyzhWDXpwGQGKyXEwdbQJAUXiqmgGfAkBqQcsUuHgIQN4Y0HnzMQpAigSIaeMdBUBfBhcXdacHQAmU6OHxWQ5Alk70JXODA0CX6IrDlYTzPxtPhOU2hPM/y+qELdHnBEA=",
          "dtype": "f8"
         },
         "xaxis": "x",
         "y": {
          "bdata": "ydOY5aj/57/+usHjSojiv5wowUIMR9G/uR89XlmX7b+i+eTpUR/Vv9I2PRJCddW/p4dFd4jo5r92l+Mz7SnmvyxOtFFVS9e/lre0NUpO2b8ITvbu5n3Nv0jQA1fliqe/QKw51EUhwL+oiqZcIdvev2862uFJK+K/wt2gotwW2b8CqcgcdAjVvyMdlhsTVee/mFpeHHT+178C097vSTT7vwSw9vR+NPu/b59+aaKu4L8=",
          "dtype": "f8"
         },
         "yaxis": "y"
        },
        {
         "hovertemplate": "Label=9<br>Time=0<br>Dimension 1=%{x}<br>Dimension 2=%{y}<extra></extra>",
         "legendgroup": "9",
         "marker": {
          "color": "#FECB52",
          "symbol": "circle"
         },
         "mode": "markers",
         "name": "9",
         "orientation": "v",
         "showlegend": true,
         "type": "scatter",
         "x": {
          "bdata": "SMpGFemq/T9w2PXnpsUAQBd4s/koHgJAL01ryFSNAUAZyJm9nvgLQGG4nUyytgxAdqf9JupbC0DHGLg8cwALQLZnhSgXZQFA3HwAoxHiAkAOxSgBW0ABQAHg3CCthgFAzv6DNW6gDkCd7reLQAsHQJq82fTuRQFAXub1ft3jA0CbzoasidYBQKeLmnDW6gBAGOzfwbamC0CVE4YrqcYGQHdDGqeJCwJANOdcCft3BUAQsC3jnm0FQA==",
          "dtype": "f8"
         },
         "xaxis": "x",
         "y": {
          "bdata": "anZruwcdxr+u9k5jGI/ZvyKPA9uVUMe/Omob3AS31b9s//8qiZjkv3neDvplL+i/umoAOgxm4L+p7vksvXziv+T3wjsJO8O/PoY06OMz2L8sPywaBkLav7QA0vuR2uG/X41u/sSN7L/S9a54FOrav5T23o69YMG/IgFOceXL07+2G++8ZBXYvzRL895HPMG/SQjw6JE45r/8E+C/tuPUv4gZLxQzLc2/BNK8kb2e379mIQZM1Erkvw==",
          "dtype": "f8"
         },
         "yaxis": "y"
        },
        {
         "hovertemplate": "Label=10<br>Time=0<br>Dimension 1=%{x}<br>Dimension 2=%{y}<extra></extra>",
         "legendgroup": "10",
         "marker": {
          "color": "#636efa",
          "symbol": "circle"
         },
         "mode": "markers",
         "name": "10",
         "orientation": "v",
         "showlegend": true,
         "type": "scatter",
         "x": {
          "bdata": "pd1m1XsjEMAFkJ068W4MQN8NZ1TwOQTAPmVCDaK99j8y0KCJPPfWv3+xKbRiLfw/O5M6pccSBMBPogcHU4X1v4Qm1gg7wd2/e6s6KmSE8z8=",
          "dtype": "f8"
         },
         "xaxis": "x",
         "y": {
          "bdata": "Sjao+MKF8b/iA5kxPzLmv3Qd07YJyQ3A/t67cXy5uD+6SBhv75UBQJCdBwH3A8Y/uKwj8mRT+j/b42G6DOwQwEQPE45NUQdA7MN0X3U0+78=",
          "dtype": "f8"
         },
         "yaxis": "y"
        }
       ],
       "frames": [
        {
         "data": [
          {
           "hovertemplate": "Label=0<br>Time=0<br>Dimension 1=%{x}<br>Dimension 2=%{y}<extra></extra>",
           "legendgroup": "0",
           "marker": {
            "color": "#636efa",
            "symbol": "circle"
           },
           "mode": "markers",
           "name": "0",
           "orientation": "v",
           "showlegend": true,
           "type": "scatter",
           "x": {
            "bdata": "F/z7GoHBBcCo/JrRJZkDwAHv3XasBAXA6pLox2I2B8DKRwjT2kr7v4HmaCuscgLAhzH+XS85BsDDuIM19fMCwJKxuv+W+APANoGNQa43A8BnGtt/7dkBwKNF9tRxVgLAnCSclVOOAcAGdrmtVvEAwKNVjApQ0wHAVSN4gFb6BcAJBUgRjtAHwDKpCmiH4wTALdVokhUeA8CkPXpuRoTzP011ePhBhPM/B8RL2mlB/r8=",
            "dtype": "f8"
           },
           "xaxis": "x",
           "y": {
            "bdata": "WB1LA1PE+j/E/Er67Bj6P/6FWaZ7i/o/SBh1xjBl+z8QNYi4eJX1P3wXKvela/c/PuAIiFfu+D8aQh062gj4PxjcMXERQvo/qgmf8+Ki+j8gSBmsaUb6Pwq6vvK42/c/3MRfcNjW9z9cv1iJO0z2P8zc6996ufY/4rW31w7o+j9g2jog70X7P2RqKiwthPs/EGvsud1I+T/oUP+cgTT7v+wK2kfXNPu/IsteTXzR9T8=",
            "dtype": "f8"
           },
           "yaxis": "y"
          },
          {
           "hovertemplate": "Label=1<br>Time=0<br>Dimension 1=%{x}<br>Dimension 2=%{y}<extra></extra>",
           "legendgroup": "1",
           "marker": {
            "color": "#EF553B",
            "symbol": "circle"
           },
           "mode": "markers",
           "name": "1",
           "orientation": "v",
           "showlegend": true,
           "type": "scatter",
           "x": {
            "bdata": "ZuWD20QBDMCgoYykYwIFwJzJAYSQMgjAf6pMu18hBcAs24l04DsBwO2w7AuX7QjAQqirYesIAcBlqQAk3+wFwKi9FGoY+AjANeZFR12RBMACmifNYkUFwFPJLw8PQgXA55BVuMuSBsCqPtLZFCgEwOqtbZ8yBwTAhLPJyvnU/b9eW8FFV8IDwN4XW2hSDwrAipciBgVgBcC6lbhW6PAFwAF+lNGKfADA7NqDyvhJCMBYXuDM56QGwB5DOyHZ9APAkFnSE4VoDcA=",
            "dtype": "f8"
           },
           "xaxis": "x",
           "y": {
            "bdata": "nZQ+6Drw6L+sAbezmHXSv1iSyifbkd+/4jfuahNX178spLFLPuWxv7vSz7LAF+C/OEwCs6EH0b84JKmKecvPv6VuuQs+ReK/KhtJnaYjy7+IK2O6XB7Yv3CjV+6fZdW/JojsDw+d3L+qqx11SjvSv7pDhmspvNO/pCZ0sAmwxb+c+NLUifTMv8lNmndRSOO/6teYSMmP0L8QdbIaEW3bv4zlcg/V2cK/RnaQo7pD4b8obGFfLQTav2j4d8ki/9G/I3i1dXAp6b8=",
            "dtype": "f8"
           },
           "yaxis": "y"
          },
          {
           "hovertemplate": "Label=2<br>Time=0<br>Dimension 1=%{x}<br>Dimension 2=%{y}<extra></extra>",
           "legendgroup": "2",
           "marker": {
            "color": "#00cc96",
            "symbol": "circle"
           },
           "mode": "markers",
           "name": "2",
           "orientation": "v",
           "showlegend": true,
           "type": "scatter",
           "x": {
            "bdata": "UjC32CNy/L/ysvx9N379v/5VeLr0AwDAoys8tGJo9r+YFsVpge79v6rBuzHMLwDA+gNJb5U/+7920ExOgdwAwEnjclZnmfu/g11yylYJ/r+z2+dQU+AAwHRBKQUJv/m/Vh9WFn55/L/aEibcljH1vyptg5uIVP+/Z1Oq+/ZH+78DyHPCjLT/vy7//hZIVPm/ypHkV+gM47+qT3qhke3+v1hu+pIhH/6/takeKuS6878=",
            "dtype": "f8"
           },
           "xaxis": "x",
           "y": {
            "bdata": "Tlsf3ywM+7+4asc3GP35v4P8+pz1AwfATnO67W+19r/MoSADVEUCwHer7//SLQPABgjJ0bDfA8DWNkK5nEAEwFKBBtMHDwDAmD0NcRYSAsAreOoAEDoGwE5pP+jFGfq/pu/AOkgo+b/OTgzZwMD3vzCy+oteHAXATCXfTYEoA8BRSPWpiv8CwObOOBbyfP+/+mswQyjR+b+6088ULnsGwHIny4GPNAXACJaz59WB/r8=",
            "dtype": "f8"
           },
           "yaxis": "y"
          },
          {
           "hovertemplate": "Label=3<br>Time=0<br>Dimension 1=%{x}<br>Dimension 2=%{y}<extra></extra>",
           "legendgroup": "3",
           "marker": {
            "color": "#ab63fa",
            "symbol": "circle"
           },
           "mode": "markers",
           "name": "3",
           "orientation": "v",
           "showlegend": true,
           "type": "scatter",
           "x": {
            "bdata": "DGbK/Kfq678S3EJ203fwv8NQE/ByYd2/yZ+/fBKI878wYsgXMRzpvxpzMEi7Fuy/ZvDxSPDg0r8cfQhinkDpv+zLzQnJAeW/LIbMmPgB579PdoCtS7LwvyTuyQWdqPC/8H18F10l6b8M0kyNH+zxv4TpITVO1+y/xjV4u16h5r+SgLzwZ/Huv/bjr8MCiuq/mM4Sw8uz7L84YcjokzHiv/GtJdtphPM/NmjCu6RJ6L9xSWUYbq/kv34AK4rga+m/3uc7/xS16L8=",
            "dtype": "f8"
           },
           "xaxis": "x",
           "y": {
            "bdata": "6sOyW7uP/79cFznjwYoBwK5MHWKJlPW/ewd64wJZBsC5KdSXQQYBwPALEMGA4fy/2u881qq1AMDMX346sGUDwLroAOy+QQTAQgkU5/4//r+z23OJ30QAwPAuQa1cDQnA1LFIPvKNAcAsGtjbMAkMwJ6VqjdlMQHAnb5d9P4DBMC0N11EXi8BwAyVxBlv1v2/SMBHEzsV/78rrMjTA1wCwIo8Gvp5NPu/dqudF1XI/b/iUw3tZ5UIwKjJo5efLQHACDdfafgXB8A=",
            "dtype": "f8"
           },
           "yaxis": "y"
          },
          {
           "hovertemplate": "Label=4<br>Time=0<br>Dimension 1=%{x}<br>Dimension 2=%{y}<extra></extra>",
           "legendgroup": "4",
           "marker": {
            "color": "#FFA15A",
            "symbol": "circle"
           },
           "mode": "markers",
           "name": "4",
           "orientation": "v",
           "showlegend": true,
           "type": "scatter",
           "x": {
            "bdata": "inHszNTX5L8Ie0d6qo3iv5xltQVJpOO/jMKb6js/0r+mkMTfdQvkv+gHZrDBDOW/0AlsygC44b8gi/vgfMnivx5XAfYNJuO/C82hL6cT3b8MBdsc9+LnvxAkBaV9A+G/lv/bJa8g2b9Pb9diHxzYv4BaqMsjKOm/AKePhFkh4b+wBjvfaQ7gv1JWeHRkaOe/oIprNHCi479Q1agK/eXhv4Zb+8NApuG/AP/d9eOB5b/P5OKi7fHgvw==",
            "dtype": "f8"
           },
           "xaxis": "x",
           "y": {
            "bdata": "f8S6wkIWAkCEMeHtn2gEQEsCO7tkdwBAko/GmT47/z8skSR64dcJQImQ6QW6XQJAO0SugU4yA0BIYLx9pwj8P1Snqc1sl/4//WZY2SmiAED0Af0c3hEEQBhSAsgkKABAgUImyFYAAUB7mmCdKJYCQEBs302Q+QVAiMMkZ1XXAEDMELgCJWgDQLgfalftXgRAVP35U1ZUBED0/jGmhsMBQEr4sBN7LgdAoxyeqoPzA0BpvhHx7xECQA==",
            "dtype": "f8"
           },
           "yaxis": "y"
          },
          {
           "hovertemplate": "Label=5<br>Time=0<br>Dimension 1=%{x}<br>Dimension 2=%{y}<extra></extra>",
           "legendgroup": "5",
           "marker": {
            "color": "#19d3f3",
            "symbol": "circle"
           },
           "mode": "markers",
           "name": "5",
           "orientation": "v",
           "showlegend": true,
           "type": "scatter",
           "x": {
            "bdata": "tK0UYWun4b8xBuMeKabav+fzKQx9PNm/b3Bazm1O478QCdS55ZDevy4AygLcweK/Y3kkYkmc4L8m0TTz18/jvzfHzHNsQeC/QHBzkQTzzL+AkY2qVLnWvxbXBNEO5+K/rO7Il78K3r8XjjRqKJzhvxRVp+x8/t6/rMNA9vQz3L8a1wBXIoLgvzKlMstI6OG/kk8AMnbc4b/Ge8wEqebev+JzEaBjp9y/",
            "dtype": "f8"
           },
           "xaxis": "x",
           "y": {
            "bdata": "EmPPo3naBkC9co1eulQCQJ5i/4FMSgNA5Fw7jkZXDUB0U/6wzMUEQOLQGHJeKAlADmL9bQ/XDEAzsWviVrwOQOueH+d4nQdAGEHgNHpe+z/1Qb1Un5MCQFND8H2/ng1ADHiCFGDNBkAzG0c2/oEIQHKwWJGVaghAM6pYZGNJA0CUxiFSHkAHQBhva+wvlQtAPadx7CG1B0A3TYulYrEFQGiex73LxwNA",
            "dtype": "f8"
           },
           "yaxis": "y"
          },
          {
           "hovertemplate": "Label=6<br>Time=0<br>Dimension 1=%{x}<br>Dimension 2=%{y}<extra></extra>",
           "legendgroup": "6",
           "marker": {
            "color": "#FF6692",
            "symbol": "circle"
           },
           "mode": "markers",
           "name": "6",
           "orientation": "v",
           "showlegend": true,
           "type": "scatter",
           "x": {
            "bdata": "Ugt4V0Cf6D8Qya+f+6PrP6qrijtYhPM/9hmEXXqE8z+OMr4MSPjhP1NHinhphPE/CGo9CEU26z8USTlYdU/sP9ZHXs2Mzes/rlXR48909j9mSAcglYHoP6ApcJ3BueU/2rLDmNZT9j8MUOsCxcjlPzSstNkxA+o/moWJlaAa5T+kStR/dJ/uP9b57D9Tseo/xjDe3HjE5j9EZIvWmoDwP4DDnPIUYuc/",
            "dtype": "f8"
           },
           "xaxis": "x",
           "y": {
            "bdata": "w02e+Uvn4D9u/mCCv3njP0I/XkJaNPu/TnJxPHU0+7+i6tki0hnfPxJK83zOC9g/FO4eNqod4j9EalvBvbzfP3jx55jQzeA/Ip9GaxBF2j+SVbOmTJDSPwwOnCgrXeE//dHc78IM1D+43E/AvazjPzLZ1BaXPOM/MEjCVeTZ1D9jixwDw/DYP/HuCthADOA/2xnnRtL24j9X988Aow/gP8xPUCigSOI/",
            "dtype": "f8"
           },
           "yaxis": "y"
          },
          {
           "hovertemplate": "Label=7<br>Time=0<br>Dimension 1=%{x}<br>Dimension 2=%{y}<extra></extra>",
           "legendgroup": "7",
           "marker": {
            "color": "#B6E880",
            "symbol": "circle"
           },
           "mode": "markers",
           "name": "7",
           "orientation": "v",
           "showlegend": true,
           "type": "scatter",
           "x": {
            "bdata": "gtivkzyE8z9Xjqob4yXcP8+H91xrud4/7N6ja3X55T+WYdGIuuLgPyZUyqSfueI/jIvCPpoa5j/aJsxwdYrkP4mOiSC7kt4/VNJ1XfAq6z++aR4sYT7qP1L22dTGS+A/7KD1uHSK5j8yC6AgsWHkP4rnXfcfkeg/+iSt0Exz7j86MQI7Z+LhP+CpVOJq7+M/yh6ngkQt5D/RP/g60N/aP3bcd7WrReI/puT89WIw5T8=",
            "dtype": "f8"
           },
           "xaxis": "x",
           "y": {
            "bdata": "tM2PWWs0+7+GwWM9dKf2P4z1VzyRtPY/XMFVzuQb/z/A/Ldd48P1P+zpHu+HYPc/YDWa2ToF/z/WeB+3LWX8P6gGYgCjuPk/3Jj5RVjzAEDO4pyfMib+PzBEuQrapvQ/LzGO56IuAECaFKlBJHb7P7WlNEViQABAAZHr5HC0AEAOtyUcdtD7P2wK46GDyvU/+JyrHPXp/z+yJHWNbJf7PwTn7xQpIfw/Mphc/4wa2z8=",
            "dtype": "f8"
           },
           "yaxis": "y"
          },
          {
           "hovertemplate": "Label=8<br>Time=0<br>Dimension 1=%{x}<br>Dimension 2=%{y}<extra></extra>",
           "legendgroup": "8",
           "marker": {
            "color": "#FF97FF",
            "symbol": "circle"
           },
           "mode": "markers",
           "name": "8",
           "orientation": "v",
           "showlegend": true,
           "type": "scatter",
           "x": {
            "bdata": "4JJ+dXPWD0D9roqfjmcMQDwd20QtBQZAyGQdawDiEEDrV7IdRZUHQHeIHbYMyQdAdwDVCjEkDUCh2ItBTUkNQDgcnKKesgdArNg33zQzCEDyzhWDXpwGQGKyXEwdbQJAUXiqmgGfAkBqQcsUuHgIQN4Y0HnzMQpAigSIaeMdBUBfBhcXdacHQAmU6OHxWQ5Alk70JXODA0CX6IrDlYTzPxtPhOU2hPM/y+qELdHnBEA=",
            "dtype": "f8"
           },
           "xaxis": "x",
           "y": {
            "bdata": "ydOY5aj/57/+usHjSojiv5wowUIMR9G/uR89XlmX7b+i+eTpUR/Vv9I2PRJCddW/p4dFd4jo5r92l+Mz7SnmvyxOtFFVS9e/lre0NUpO2b8ITvbu5n3Nv0jQA1fliqe/QKw51EUhwL+oiqZcIdvev2862uFJK+K/wt2gotwW2b8CqcgcdAjVvyMdlhsTVee/mFpeHHT+178C097vSTT7vwSw9vR+NPu/b59+aaKu4L8=",
            "dtype": "f8"
           },
           "yaxis": "y"
          },
          {
           "hovertemplate": "Label=9<br>Time=0<br>Dimension 1=%{x}<br>Dimension 2=%{y}<extra></extra>",
           "legendgroup": "9",
           "marker": {
            "color": "#FECB52",
            "symbol": "circle"
           },
           "mode": "markers",
           "name": "9",
           "orientation": "v",
           "showlegend": true,
           "type": "scatter",
           "x": {
            "bdata": "SMpGFemq/T9w2PXnpsUAQBd4s/koHgJAL01ryFSNAUAZyJm9nvgLQGG4nUyytgxAdqf9JupbC0DHGLg8cwALQLZnhSgXZQFA3HwAoxHiAkAOxSgBW0ABQAHg3CCthgFAzv6DNW6gDkCd7reLQAsHQJq82fTuRQFAXub1ft3jA0CbzoasidYBQKeLmnDW6gBAGOzfwbamC0CVE4YrqcYGQHdDGqeJCwJANOdcCft3BUAQsC3jnm0FQA==",
            "dtype": "f8"
           },
           "xaxis": "x",
           "y": {
            "bdata": "anZruwcdxr+u9k5jGI/ZvyKPA9uVUMe/Omob3AS31b9s//8qiZjkv3neDvplL+i/umoAOgxm4L+p7vksvXziv+T3wjsJO8O/PoY06OMz2L8sPywaBkLav7QA0vuR2uG/X41u/sSN7L/S9a54FOrav5T23o69YMG/IgFOceXL07+2G++8ZBXYvzRL895HPMG/SQjw6JE45r/8E+C/tuPUv4gZLxQzLc2/BNK8kb2e379mIQZM1Erkvw==",
            "dtype": "f8"
           },
           "yaxis": "y"
          },
          {
           "hovertemplate": "Label=10<br>Time=0<br>Dimension 1=%{x}<br>Dimension 2=%{y}<extra></extra>",
           "legendgroup": "10",
           "marker": {
            "color": "#636efa",
            "symbol": "circle"
           },
           "mode": "markers",
           "name": "10",
           "orientation": "v",
           "showlegend": true,
           "type": "scatter",
           "x": {
            "bdata": "pd1m1XsjEMAFkJ068W4MQN8NZ1TwOQTAPmVCDaK99j8y0KCJPPfWv3+xKbRiLfw/O5M6pccSBMBPogcHU4X1v4Qm1gg7wd2/e6s6KmSE8z8=",
            "dtype": "f8"
           },
           "xaxis": "x",
           "y": {
            "bdata": "Sjao+MKF8b/iA5kxPzLmv3Qd07YJyQ3A/t67cXy5uD+6SBhv75UBQJCdBwH3A8Y/uKwj8mRT+j/b42G6DOwQwEQPE45NUQdA7MN0X3U0+78=",
            "dtype": "f8"
           },
           "yaxis": "y"
          }
         ],
         "name": "0"
        },
        {
         "data": [
          {
           "hovertemplate": "Label=0<br>Time=1<br>Dimension 1=%{x}<br>Dimension 2=%{y}<extra></extra>",
           "legendgroup": "0",
           "marker": {
            "color": "#636efa",
            "symbol": "circle"
           },
           "mode": "markers",
           "name": "0",
           "orientation": "v",
           "showlegend": true,
           "type": "scatter",
           "x": {
            "bdata": "dRrKxN2sAMA4KeVb6IMEwM+w0S8EGATAQxc4/7pWAMDIVsfKUIT/vy8c1er0yAXArv+KXiqRBcAQMqxCycEAwHJCD1IOKwDAXWEZJdcSAcC2HiELWfX+v4+QoDc3cPq/Z+ikFvgRAcD3+FlUL70AwMrl0sze9fy/ndzGWG3HAsAtvPOahyT5v6D7dgMyqALAdH5kdOg0AsDskrUnpITzPx+g1PBEhPM/lL2uM2LV/b8=",
            "dtype": "f8"
           },
           "xaxis": "x",
           "y": {
            "bdata": "/NwCoDLb+D9eRa4Zw4H6PwBLQTsmdfo/KGtLJIS99j9mCc/8mmb5P6ik1UqUx/s/MrbcJlUx+j8YaP2tsTb3P/5DamczgPY/Sn/rCKwI+D+6/e0aLTP2P3o/AXJnAfI/dvUNVtsc9z8YhZMdXhz3P0r2U/dAe/I/TtGU6m4d+T8JNTRJG3TxP6yzHBFeEvg/WlO0aj93+j863bHwczT7vw7BUOORNPu/Yubzh9kz9z8=",
            "dtype": "f8"
           },
           "yaxis": "y"
          },
          {
           "hovertemplate": "Label=1<br>Time=1<br>Dimension 1=%{x}<br>Dimension 2=%{y}<extra></extra>",
           "legendgroup": "1",
           "marker": {
            "color": "#EF553B",
            "symbol": "circle"
           },
           "mode": "markers",
           "name": "1",
           "orientation": "v",
           "showlegend": true,
           "type": "scatter",
           "x": {
            "bdata": "u+ixJhhiDMABCXu3HbQMwE6pwWeEvAvAO1/lGtheCMBuIlUQdtMMwHhHNAqALg3A/VvpEj94DMDSWC7szQ8QwKGDpzjncg7AT74Tvl5lEMCV/EJNk0UNwIkJWYjWggnAaEIB1WyBEcD4lW7EnxgIwH1xQmojHg3AIz601oMND8Ac4/Bmbf8OwG0MRvwoHQ/AZKcVZQ1dDcB8KonP644NwF2V9J3PoQnAH2PvFk9KDsBrWS9PO5gOwLZJsf3o1BDAy8L53qsDEcA=",
            "dtype": "f8"
           },
           "xaxis": "x",
           "y": {
            "bdata": "EPFzDREkAMDybQuCAU/8v/yaE6XUpAHAdhJL3Z6I+L8ODCol/Mfyv34awkrJqva/cjiRa0Q2AcCxSKApalcEwOaUBzKs+f2/50GRq/oIAcDsLfKhZaD9v0n2nFLpgQPAXIidRv16A8DytN3Q9kv5v3ocdp5BhQPAZnua68jh/r/q+1nqq+f8v0U/p077VQPAaR5Yf0+CBcA84mT3niD1vwYZN+LHwfu/Qo4kuawP/78Iie/hcYjzv64It1fTSPi/cRiOMUrmAcA=",
            "dtype": "f8"
           },
           "yaxis": "y"
          },
          {
           "hovertemplate": "Label=2<br>Time=1<br>Dimension 1=%{x}<br>Dimension 2=%{y}<extra></extra>",
           "legendgroup": "2",
           "marker": {
            "color": "#00cc96",
            "symbol": "circle"
           },
           "mode": "markers",
           "name": "2",
           "orientation": "v",
           "showlegend": true,
           "type": "scatter",
           "x": {
            "bdata": "SMbhd26k9b9khijvBK/2vxqMQzeaV/O/hrzzLuImx7/mfPjk51vpv7SacyvWK/a/Rm03j1OL87+0u1vQEHv2vyRfNW3CF9y/Gcy4sBHi9L/q6Px+RGL2vymvmvQKfvO/UbpzjwWl+L9JiWit4Fb4vybVQsWNwOy/mKUqcx319r8QX1QkZWj4vzezj++CV/a/1upBmZYF679stHARUYTzP45x9+ZfFPS/gVKfH8q29L8=",
            "dtype": "f8"
           },
           "xaxis": "x",
           "y": {
            "bdata": "gIxPbzPL9r/CdxJ/lX32v1JB5V0e1vW/xg+A7px+9r8Ql0Rw/Oz4vxDbv/BVqPi//6Kq1ly4AcAs10iNre/5v/w3zRFMjvy/WHctGYAp978W+bYpf4L0v3T9mvbYEwDADtfVXGcS+b80RaXszSD6v8LHrKDuwvu/dMS85x93AMBKMBd+LzD4v6qFVtzmGfC/iiy7FX6g8r8kMjW8gzT7v5YOXAidRPC/PjEZhWYDAcA=",
            "dtype": "f8"
           },
           "yaxis": "y"
          },
          {
           "hovertemplate": "Label=3<br>Time=1<br>Dimension 1=%{x}<br>Dimension 2=%{y}<extra></extra>",
           "legendgroup": "3",
           "marker": {
            "color": "#ab63fa",
            "symbol": "circle"
           },
           "mode": "markers",
           "name": "3",
           "orientation": "v",
           "showlegend": true,
           "type": "scatter",
           "x": {
            "bdata": "8l5CviSn+b9J6+M7hoYAwHR4wHl0A/q/zpH4qvcl9L/ppS9/qBcEwEXPv6nCivS/SUC6CMBS/L+ZOb1S+on+v01RAZHZjf+/rmxjuXH79r91qpzVN4YAwOl950WBtvO/bng/5j9p979bJjFzV+AAwHE4RANbTQbAWgXxSgFnAMAcIT2b52MDwHy0GJmcj/e/fKz5mYenCMDIHGPWFrTyv/uVFRbO+fC/jmErrjyVAsD9HMYpXfH7v8TRn6ieAALAj1kcIiooAcA=",
            "dtype": "f8"
           },
           "xaxis": "x",
           "y": {
            "bdata": "opPxAoUmDMDYm1HunOEHwCfca3mbMg3AdcSEnonKEcAzuvFkQ08QwBtNMkBSMRLAWj9IHa4dEsAiVGiupxwSwCWwUTerbw3AUJc5eoWYD8DimMzq3UkRwJc8bUZLvBHAtKEfSBsKDsB+F/7G6D8RwMTD5j4VCRLA5Tp40DdoEsAfGr5h/MQSwH7CormfWRDA3hJSYldRFMC+OYc65n4OwLk2LWaKnALAEG8i/+CBDcCS1jGsMxYOwKNuAFMzBAPAr9plwwRWEsA=",
            "dtype": "f8"
           },
           "yaxis": "y"
          },
          {
           "hovertemplate": "Label=4<br>Time=1<br>Dimension 1=%{x}<br>Dimension 2=%{y}<extra></extra>",
           "legendgroup": "4",
           "marker": {
            "color": "#FFA15A",
            "symbol": "circle"
           },
           "mode": "markers",
           "name": "4",
           "orientation": "v",
           "showlegend": true,
           "type": "scatter",
           "x": {
            "bdata": "frBWjZOx6r/q5fKYxAfqvwiK2JEpm9K/kjZPkY3v5L/CyvkyYLDlv+AiIzVAWO2/3KumLdGY6b8ERl89wu3qvyq0zYB6ZOa/VtLaXMsU6b96S7+8H3Plvxf1+jxnTNm/U+rstCt35L8ed9fhjZDiv3YrtlMDbuq/eok3Oq35478OeFiieGLgv57vSHdzkum/yD/EV3fN6r+G/0OC/qbrv6pSkAvDvOG/cE6b4cyu5r9qr5G3OAHjvw==",
            "dtype": "f8"
           },
           "xaxis": "x",
           "y": {
            "bdata": "52PjMjqCCkBCinlmIacMQGoMXPRGiARAFvvPN1fPBkCwxG8+bO8HQLdtXIpPWQpAO/e8Cs7uCUDlMY8e5JUGQFhr/FhJ5wdAXgyDcfVrBEDSrGP0Y+ILQPI5+JqR/QFA87TF61rKBkCsuhQjggD/P3Ta5iBcDQhAGe7dKY4FA0A1VoFGESAGQAg/8wtn+gVAXPiVXiVXCkAIMX//MfcIQFtMjY4epARAVcWBszn3BkBu+mjwtrsEQA==",
            "dtype": "f8"
           },
           "yaxis": "y"
          },
          {
           "hovertemplate": "Label=5<br>Time=1<br>Dimension 1=%{x}<br>Dimension 2=%{y}<extra></extra>",
           "legendgroup": "5",
           "marker": {
            "color": "#19d3f3",
            "symbol": "circle"
           },
           "mode": "markers",
           "name": "5",
           "orientation": "v",
           "showlegend": true,
           "type": "scatter",
           "x": {
            "bdata": "14uvKrO9979Ip/mV5Kjwv3Se/hpTJd6/wBy414D76r+yThYE43Hev5oK/SXyguu/egPAom6b9b+rXf1zJTTwv2C3/5+QveK/KqADgYJU6r+yoUcy32rov3Z19HOrceq/piQcRk8X4b8iI/hQX0LZv3C9ae8O0eK/iJVR6TXN8r/eL4JGUOfjv3hX3wLTjeu/0HteR/s36L/mU6LHcIzov6QWDmOuu+G/",
            "dtype": "f8"
           },
           "xaxis": "x",
           "y": {
            "bdata": "x6PLbRAJBECyTJ6InY4HQGoX9iL5/QVAb7Ni7OmLCUDOUuB/2Zz9P1TBJQ3gMglAw4/0uZMrAUDX+naNR44HQF8jSBXEogxAu7HP+R7wAEC1pDGK0XUMQEknS271LgdALPzQrsCuC0Bgq6lpBHoEQK3i0iwAvgtACaWp47JeB0D0TsKmv2UOQBrL7wO+6QxAeIkmcxvdDUCgUmIFwywNQJpX5ro5dg1A",
            "dtype": "f8"
           },
           "yaxis": "y"
          },
          {
           "hovertemplate": "Label=6<br>Time=1<br>Dimension 1=%{x}<br>Dimension 2=%{y}<extra></extra>",
           "legendgroup": "6",
           "marker": {
            "color": "#FF6692",
            "symbol": "circle"
           },
           "mode": "markers",
           "name": "6",
           "orientation": "v",
           "showlegend": true,
           "type": "scatter",
           "x": {
            "bdata": "NCZp1BqH9z9x7vRn1g/3P05EomfIBOg/uO7azrOh7D+qCZpFRAi2P1+Q0EhMSwJANEd6RuctAkDw8yM88YUEQHFFT1K/UvQ/7ba46lpuC0CX3Wc4iMf2P7wsDm+HdAhAKEXf+Ahs/z/2mSQlC5sOQGCmgmqULOo/SQYkz092+D8eT2bFtHr8P3fksI1I0vE/kGwbIgvZ/T8mD6zHccH+P/6ijJ6HuwxA",
            "dtype": "f8"
           },
           "xaxis": "x",
           "y": {
            "bdata": "g/YRxzNX7L/QLVFI5qvBP5K7778xbOY/VdQEoZ8f4T8Wmd8PZeT3vwuPC9VQ8Oe/ApKL5D+p9L9A12mO8+3zv7BBmw9dVKW/iCwXbklu4b820Z7D8lfHP0riWR1tFvW/ycrrn+KI7L9woPZ+KKvkv+Igvas8AsU/qN2uPty7oL96vjJ8ZZbYv5QaPoB5k94/HsRAmIViyj9E1Rqbk/z9vw7A4sLhsvC/",
            "dtype": "f8"
           },
           "yaxis": "y"
          },
          {
           "hovertemplate": "Label=7<br>Time=1<br>Dimension 1=%{x}<br>Dimension 2=%{y}<extra></extra>",
           "legendgroup": "7",
           "marker": {
            "color": "#B6E880",
            "symbol": "circle"
           },
           "mode": "markers",
           "name": "7",
           "orientation": "v",
           "showlegend": true,
           "type": "scatter",
           "x": {
            "bdata": "EOsJketS4z/wIc4kNJbrP3qw9FKn0+U/lK/GvFYG4z/mZiuzYLrlPxAMKakDYOY/fJ18IoUt4z+yUZdg++brP/D70HCkxuA/2DZObAks4D8G6YhQVB7oPzo1whTlPOw/JjyNk1Lu4j8SQV/dFJrkP5RNJudqW+Q/BphdY9/x4T8Hs4Wmd1nfPw5+Lly1COY/PKa9dqkq4T9lutSuEgrcP+BTo2Q05OU/4sBdIT8V4D8=",
            "dtype": "f8"
           },
           "xaxis": "x",
           "y": {
            "bdata": "Sd6GxFMb8D/6nW5zQzD4Py4Muwf59fU/BPkgx7mU9D/BejtrISzWPwJ/djr5Tvo/ZGH66qTN+z+81h0D0zH6P3qgDCM/zPU/NrVvh3an9T/gwc5x2pb9P5LXSFolB/s/+l5SllOY+T+EnTjF5bf3P7iPFoWXS/o/bBlIJ9q+9j+wG77H96b2Pz5/9e4dMPw/LngsQWnL+T9I2BpUM2P5P1pAlmoBMP4/0hjM/Zmi+j8=",
            "dtype": "f8"
           },
           "yaxis": "y"
          },
          {
           "hovertemplate": "Label=8<br>Time=1<br>Dimension 1=%{x}<br>Dimension 2=%{y}<extra></extra>",
           "legendgroup": "8",
           "marker": {
            "color": "#FF97FF",
            "symbol": "circle"
           },
           "mode": "markers",
           "name": "8",
           "orientation": "v",
           "showlegend": true,
           "type": "scatter",
           "x": {
            "bdata": "wf+Y4vt3GECymtP8MTMWQE9R+z0ltxRAFdsWtejyGUBJBv74OzYTQLZiFj3n5hhA6VNkYYYTGUAiTB+jEgMUQJEloiThfhhABANFRaRGD0Dc/eHFmyoRQBd9Pl/mbBlA3GdI+LzfCkATRIDNX7AUQIHQX8y7vRNAxNODO6jlEkCI3HRb0vYWQM6tKp2DnRNATMwTfuTuD0AD9HDzBYTzP3OvuOM9hPM/8Y8bGz1hGEA=",
            "dtype": "f8"
           },
           "xaxis": "x",
           "y": {
            "bdata": "0o5GEokj/L8gGlRuxH35v27m09UvVfS/eNwBC+jq/r8oyp0JyOLxv6hwvAUpwv2/ktrtSx4F/b+CaOI/Xmjzv/JfL2vjcvy/AwDb5Wf557933qBBYsvsv0ppEj2/UP2/hvL6MDIl2r+2L9+AXeX0v2LYlXMELfO/ii3+u86/8L/QHtjo/1T6v0Cxs+xNLPS/WVb1l3hV77/Q8+S4gTT7v3J30EywNPu/ahLysbo6+78=",
            "dtype": "f8"
           },
           "yaxis": "y"
          },
          {
           "hovertemplate": "Label=9<br>Time=1<br>Dimension 1=%{x}<br>Dimension 2=%{y}<extra></extra>",
           "legendgroup": "9",
           "marker": {
            "color": "#FECB52",
            "symbol": "circle"
           },
           "mode": "markers",
           "name": "9",
           "orientation": "v",
           "showlegend": true,
           "type": "scatter",
           "x": {
            "bdata": "1CbBoAEyFEDyuy70DvUVQPg7Ga5XsBVAzZv+ttK3FEDV5XOawuYXQBdar1O59BdA0G4h1fAgEkBsZwwFikISQPq0UtcwphdAP1jK84XHFUDEDrKUqVQWQEEQOHbFuRZA+wPCkkqXGED6lCYAHf4UQC+egQdJ+xRA3rZj0h/FFEAm4gfOL6IUQOV6ChQDcRZAgSdVq3p9FkBpPCZDd88ZQBQz2HabkhRAB9wE4+FkFEBwSTTbMNAVQA==",
            "dtype": "f8"
           },
           "xaxis": "x",
           "y": {
            "bdata": "PkOCWZ9a9L9WNGJRBAr4vwAi8YNhTfa/GoFBXM0Y9r/CJ4WivGr6v1a6g/oCkvu/fL7eNt99/b827QBhOl3wv4YYL2G9v/m/Lh5dhEbT9r9kPDexGMj4v6Yyz54DUvi/ensM3BSu/L9YhErAycj0v6yGxeatZfS/iDsiz0Gw9r8wOf8Vulz1vzI25rCPXPm/JHwgYb2A+L9AuDTys2//v7SXHmXZcvW/0Nx10eBA9b8MtqpymHL4vw==",
            "dtype": "f8"
           },
           "yaxis": "y"
          },
          {
           "hovertemplate": "Label=10<br>Time=1<br>Dimension 1=%{x}<br>Dimension 2=%{y}<extra></extra>",
           "legendgroup": "10",
           "marker": {
            "color": "#636efa",
            "symbol": "circle"
           },
           "mode": "markers",
           "name": "10",
           "orientation": "v",
           "showlegend": true,
           "type": "scatter",
           "x": {
            "bdata": "pT1TJsNpDMA4+Ye/m9UQQOLEqoD7swHAW7OvykuHEUAMZQaQUO3pvxIh/n/Qb/k/ZS2CcOC9AMBECOiDQiUAwOxR7Utkt+m/N4qpbTWE8z8=",
            "dtype": "f8"
           },
           "xaxis": "x",
           "y": {
            "bdata": "ArLfs5HI+r+F2YGcuc3vv4ZCZLJ0twTAwwj4b4hP7b9E2jTYC4sLQFITCipDqtq/jN0sQ0oU9j+u7D43OjANwCEBxUIDBQlAnNxncaU0+78=",
            "dtype": "f8"
           },
           "yaxis": "y"
          }
         ],
         "name": "1"
        },
        {
         "data": [
          {
           "hovertemplate": "Label=0<br>Time=2<br>Dimension 1=%{x}<br>Dimension 2=%{y}<extra></extra>",
           "legendgroup": "0",
           "marker": {
            "color": "#636efa",
            "symbol": "circle"
           },
           "mode": "markers",
           "name": "0",
           "orientation": "v",
           "showlegend": true,
           "type": "scatter",
           "x": {
            "bdata": "lkbuZ/23A8Cwu6KlMAkDwNbiN7DGAgDAiygQ5TAZAcAZVeNGJBIDwBa90BKxeAXAqwg4fZnnAMBW/gtsuOcHwBvOn+kCswPASi/pLBilAMCtzWV/Z/wDwI4sAr07xwfA8RghZsUACMDLsSY8yXcAwBtOMrZp8wPAGX+6sWjVBcClWQigKMIEwM/1IhJzNAXAYx8tpBbpAsBGV0l+g2IDwC6/kAAzhPM/xmg1B8wOAMA=",
            "dtype": "f8"
           },
           "xaxis": "x",
           "y": {
            "bdata": "KpmkcmB89j+4QKy0TLX3Pz31NxXyMgRAm6mV4iqeAUAEg1BGVb/+P7QdETcAeuc/wBXJXt+29z/sM0VWhML4P9o6BBPfPfw/CFFL4+EQ+T/c/qzu2430P12g4FmvlfI/hCA6qdy39T/Zk0d0FjYBQFEjb7XDDABACtjPf2sf9j94fwMx32/bP4YPFsvjjwFArtnPmpEyCECzd1Iut8/xP/ik9PlyNPu/ySg9r7yIA0A=",
            "dtype": "f8"
           },
           "yaxis": "y"
          },
          {
           "hovertemplate": "Label=1<br>Time=2<br>Dimension 1=%{x}<br>Dimension 2=%{y}<extra></extra>",
           "legendgroup": "1",
           "marker": {
            "color": "#EF553B",
            "symbol": "circle"
           },
           "mode": "markers",
           "name": "1",
           "orientation": "v",
           "showlegend": true,
           "type": "scatter",
           "x": {
            "bdata": "Q0AWF6IkD8BZG+1N/ckKwOE7YdzpuwvASqWYJjSgCsDjAxdV4t0KwIS59P4lZA/ARRukeTfkC8A8litqH6wNwAXuUCRyuQ/AXd00vBn/DcBtNhgPIysPwC1+u7MGTQ3A2cNoaohTCsBSLhy/n+AFwCgLw8lg3gjAFwseix5NCsAvahHgfYMQwPqcUfYPgQ/Au3of0/psD8APutpoPAENwDorhiMlNwvAnAWDQqMRC8AgUnLNuqgMwId7pOywkQ/AeY0pLolhEMA=",
            "dtype": "f8"
           },
           "xaxis": "x",
           "y": {
            "bdata": "usjQzDPU9L9wRLAE4YXBP952VP0GJN2/FQZLb/qF4r/DuqdD8DXvvw3/Hs+qqOa/vcfV44hv6b9deWTSZSrjv6i/3OVbxfK/SlNTM+9D/r9fEYbbtCbtv2j6VYWc2N2/nH7iO4yN3b8yqYSc577fPwrM45oqI+E/CN2cwgEvzL9OUA2I40vyv1s561ZrI+m/KAUc+Vta9L9U3BQq0VP3v8Mgq+N8E+a/i0RIxDXR57/qxLDq+A71v0YWXAJpPPG/0qk6PUkR8r8=",
            "dtype": "f8"
           },
           "yaxis": "y"
          },
          {
           "hovertemplate": "Label=2<br>Time=2<br>Dimension 1=%{x}<br>Dimension 2=%{y}<extra></extra>",
           "legendgroup": "2",
           "marker": {
            "color": "#00cc96",
            "symbol": "circle"
           },
           "mode": "markers",
           "name": "2",
           "orientation": "v",
           "showlegend": true,
           "type": "scatter",
           "x": {
            "bdata": "Jdll4t9W/r+W1jxXDqX6vyuJslSJeATAR7GRoSQrAcDpYpsBu/8DwLzFMLxJfwTABHicxVaRAsBmSO4KzRwBwKStsa5pkwDATBoaoC8o/L/+DEvZwHP4vwd9y3l8jP+/UZwXCiNW/b+8w3M+zp//vw4oCNb2tALAhgYtsX3qAMBSpJirf/QBwMMNGd7rDwLAfc3gYLHdBMByRKAnJUMCwPDrvGFWk/y/slMApOCLBcA=",
            "dtype": "f8"
           },
           "xaxis": "x",
           "y": {
            "bdata": "xA8RdAG78b+LDG/4mWjjv99hZ9fpUwDAAq7EMm8g+L88oEd4UqIIwIL9Hm0hbfS/keg3qZ/FA8AGhFxCiWv7v049mH9/UPy/+IAjayBL+79vQikZue/uv5thYSzg+em/HdFeeNMW6L9+XdlChVn6v8IB1rdDwAbAWL7YJSviA8DIwU7Jyo75v4lvKsGsAQDA9HfZ6zL//b8CC+7xGqb1v8Tw9G8bEfW/l+AvaEi2AMA=",
            "dtype": "f8"
           },
           "yaxis": "y"
          },
          {
           "hovertemplate": "Label=3<br>Time=2<br>Dimension 1=%{x}<br>Dimension 2=%{y}<extra></extra>",
           "legendgroup": "3",
           "marker": {
            "color": "#ab63fa",
            "symbol": "circle"
           },
           "mode": "markers",
           "name": "3",
           "orientation": "v",
           "showlegend": true,
           "type": "scatter",
           "x": {
            "bdata": "kO5CiVHl9b/h8tmIp7r2v9ufvDuu6/m/RO5NQB4U+b/cbS0JjePpv8816H50z/a/mnzVCpM+978W7ZvYWEH3v9kZYd2eJ/m/XzeNUso1+b+Fy2yG81T/v5g4Ydvk7fi/tfLiMiE2+r9NIKlgRBvzv+hv/JYwqvi/eGHRUMAF/b9nNb0D2rT3v8aahqRa0gDA2SKp+O31+r+9X3J6V9L2vwzk/xmB0+m/FjUhoY8l+r8+M8IlzFT0v74bCRVMu/a/3ww77C/G9b8=",
            "dtype": "f8"
           },
           "xaxis": "x",
           "y": {
            "bdata": "erSkoqoKD8DuZylAJUAMwLZPd8IxWxDAmtxrnw1aEcAc+NQk5bX3vy6D73bWmhDAvfcbEz2eEsA+rJajMnEQwBK9uk1sohDAZQabjtVdEsAM2c13z30LwP7nP0FqJBLAvs0Bcpp6DMCKNrRDzFsCwCDpUx6gXg/AJTjUf3YFGMDCGcsXSDsQwMuEORvQNwjAD3i1PnmzEcB0S96+D7sHwEY/km4sWvu/LmPUqFNVEMAK4+sYLU0TwAz7pnAWCAnACstEtpXpEsA=",
            "dtype": "f8"
           },
           "yaxis": "y"
          },
          {
           "hovertemplate": "Label=4<br>Time=2<br>Dimension 1=%{x}<br>Dimension 2=%{y}<extra></extra>",
           "legendgroup": "4",
           "marker": {
            "color": "#FFA15A",
            "symbol": "circle"
           },
           "mode": "markers",
           "name": "4",
           "orientation": "v",
           "showlegend": true,
           "type": "scatter",
           "x": {
            "bdata": "mcIGBCaH+b8Ln/WTJKr0v+kCNzLVcfW/FKoLWT3A9L+LdJDSUgnyv7q9J62oFPm/tpJRU1rg9b+jnTFFuQf3v6qbCGG2m/K/TfJ1wT7L9b8X8TBIDgf9vzffsTHINfK/GgujWDmb779cmBBuWRPvv5BA6+R/VP+/E4Hb1ewp+7/CMNnp2Hb3v+4vDJjXE/K/1Le2mLvb9L92cCHVV23vv3k/7t3jEfa/0v3hU1CT8r+OFL6l/Rr2vw==",
            "dtype": "f8"
           },
           "xaxis": "x",
           "y": {
            "bdata": "35UnLD4vCUBOD4BwDOoMQDgcMZ6kRgFAc+/izipLDkD4nOO0kUgRQGOJw2IsAwlAo0aOCN8kCUDGj7r4oz0JQP0JsOqBZQVANMHTAF6KC0AY08VZkn4FQFkK/yEioAhARJkp8lLKDkCDl1cPS9AMQPIFm6IFR7w/GXCNHt9rCkATbVLjrWkEQHRHHQCXhRBAHqy6MZqsBED3jQFJmj0PQC51141zdv4/kc+Jb0ewAkAk/S4XcxkJQA==",
            "dtype": "f8"
           },
           "yaxis": "y"
          },
          {
           "hovertemplate": "Label=5<br>Time=2<br>Dimension 1=%{x}<br>Dimension 2=%{y}<extra></extra>",
           "legendgroup": "5",
           "marker": {
            "color": "#19d3f3",
            "symbol": "circle"
           },
           "mode": "markers",
           "name": "5",
           "orientation": "v",
           "showlegend": true,
           "type": "scatter",
           "x": {
            "bdata": "VXj+J5+a9b+wDt9USALxvwkscQ3ZWfC/kOYxOESG9L/ac6XxTCfqv3I1kLHahe2/95dVBkaT8b8EGnsuL7bmvwzBUJVo8e+/86jsZvKQ9r95uc9Gftfyv/hSIj3Osu+/ECBTrZm4478r3cgrW8v6v1ze0uuTevK/GwnfaDes9b+VvEpihaj0v+peTPyaxvW/m8lH50WC8L+AFajeK/Dtv72q5rDGFvG/",
            "dtype": "f8"
           },
           "xaxis": "x",
           "y": {
            "bdata": "jxNVbzxRCkAM7/Ez8tINQIVKOAoIswlA2HTwVaudBUBlgNcvxMgJQNm9BGbEMApA+OQOM1qnEUCykekrZZgIQG40Kf0YcwlAnByWsDNg/z/JGGPRY14MQE6BNGqhagVALmcIcu5iDkD+UgYQX4wBQDBwMl+/twNAz5LD1lSKCUA6wJ+k5d0IQJp/qFisSv4/sTAwbk/ZAEDxWooctJ0MQHsYr9dDjglA",
            "dtype": "f8"
           },
           "yaxis": "y"
          },
          {
           "hovertemplate": "Label=6<br>Time=2<br>Dimension 1=%{x}<br>Dimension 2=%{y}<extra></extra>",
           "legendgroup": "6",
           "marker": {
            "color": "#FF6692",
            "symbol": "circle"
           },
           "mode": "markers",
           "name": "6",
           "orientation": "v",
           "showlegend": true,
           "type": "scatter",
           "x": {
            "bdata": "C4lwVU588j+AyklDfij0P8Tvs+v7g+4/FHiFrXcp6T/alhP/GN3gPxD6Beg3HvI/z81RS/b+8j9xwGlJLqrxP2p+QnkhV/E/HE03a71a9j8g4OQkVufrP8xODGpg2es/13txghrd9D9QNTcMIy7vP9OafFIKKfM/B7inNqQi8T/g8fMIDjb6P/B4agpazO8/aH19WLN25j+UVfVAl2HrP9DI7+oiJ/U/",
            "dtype": "f8"
           },
           "xaxis": "x",
           "y": {
            "bdata": "lwwZj+Ac4D+ZbDBY5VPgP80WF5Fn3OI/ancmQbLO4j8aF3mCfHK6P1xnEcP21N4/jz/x6Vhn4j/KxFBEXyPcP1OK+x61a+A/tKaDezx12D+a072hIhrkP0iTsLisTOI/j1ISD2V13D/Zk/q+usfiPwFXZ8b1w+A/PbciavfC3z/7APty7c3TP3CiEz+h5OA/ToLuvEkR4j8EyWeXVZPhP1tBWnahb9o/",
            "dtype": "f8"
           },
           "yaxis": "y"
          },
          {
           "hovertemplate": "Label=7<br>Time=2<br>Dimension 1=%{x}<br>Dimension 2=%{y}<extra></extra>",
           "legendgroup": "7",
           "marker": {
            "color": "#B6E880",
            "symbol": "circle"
           },
           "mode": "markers",
           "name": "7",
           "orientation": "v",
           "showlegend": true,
           "type": "scatter",
           "x": {
            "bdata": "/wPquX2X3j/OkW2tY2DmP+R2viMqeOk/wLFPiNJV4z+BtuiRbaS/v5LxpVpGMuM/0vORfWL+6z+AA0XdTBN3v+4npGSWO+0/vby+JucI8j+mfvAMCe/pPwbpwuu7Z+g/bGAw+bJO6T+ASHmUvjzhP/fCi4CU1dc/1C10mv6Vzj+2RcC/70HhP87JRP7GaOk/MELJjmQ44z+DHDFJMNPyP/3G8jt9LPE/K+C8yuZr3j8=",
            "dtype": "f8"
           },
           "xaxis": "x",
           "y": {
            "bdata": "nVOjTgwNAkCFWiTdJFgEQOe4Mcy8KAFA6KHHoFhh8z+ihnlhyQQAQF62NDxXp/M/3vqmFfPNAUBOWzumBuoAQMcU7VqrUwFA+k2IoDQ0CEAchfReJi8AQFpnKelmJwNAwngJWYM9BECjNqY3TogCQIubEokr7wRAwzjafTf3AECxRAbf68EAQFNvtaFEBQlAuU+PbtIrAUDRcj7/poMCQMpXPvm16QJA0KBs6gkG/D8=",
            "dtype": "f8"
           },
           "yaxis": "y"
          },
          {
           "hovertemplate": "Label=8<br>Time=2<br>Dimension 1=%{x}<br>Dimension 2=%{y}<extra></extra>",
           "legendgroup": "8",
           "marker": {
            "color": "#FF97FF",
            "symbol": "circle"
           },
           "mode": "markers",
           "name": "8",
           "orientation": "v",
           "showlegend": true,
           "type": "scatter",
           "x": {
            "bdata": "/nmTkrTt/D8SU1o1t1wPQOlDz77ohwNArAkpaPgnBEBL3oCXl2sCQE16tD66RQJACarOhUuuAUCDVBECC0gDQP0eQdqwMwNAurKtlAcSBEA+i3v+N24FQKSeVE+3mwBA5Z7GRRQeEEDCXTsQstr2P8FCsPwdmgJAmHJtXNYeAkAm+XVeKub+P7fSnERKngJAujU+SiGsBUD64pWCa4TzP5O3YKRlhPM/U8tcNDcMBEA=",
            "dtype": "f8"
           },
           "xaxis": "x",
           "y": {
            "bdata": "QAbP3V8ks784WgMQWqT0v6wCi1JiJde/lDEJAcNKzL+4zlZxFCbTv7iSXVYA09y/XKdXO4kdz79GuKICNZvfvypoQwTo49S/dMEVf8xK0b/0BrIpt2/bv1KEJSCKCsC/vIvE49Q/9r/z+Ep4CEPhvzzuMhwrPdC/LFtY7luJ07+4uKzhfCGuv9BUwpt9t9u/7mOoHmmW4b8sLjfnjTT7v1wq6u5vNPu/pNyCEvQo2r8=",
            "dtype": "f8"
           },
           "yaxis": "y"
          },
          {
           "hovertemplate": "Label=9<br>Time=2<br>Dimension 1=%{x}<br>Dimension 2=%{y}<extra></extra>",
           "legendgroup": "9",
           "marker": {
            "color": "#FECB52",
            "symbol": "circle"
           },
           "mode": "markers",
           "name": "9",
           "orientation": "v",
           "showlegend": true,
           "type": "scatter",
           "x": {
            "bdata": "LzMhGWBwAkBI50bMe9MHQAqh9PC7QwdAEZTNu66AAEBnLspbbJAKQGY8PFZ/jANA9yVxy4u2AkBMegHeTy0DQMETe3Y2BgRAIn8+P8D9CUBzyi5ki8YGQFV88H6GnQZAWc8CqG8hEUBByC1BczgHQGaifoiIoQFAvp1SCg5+AkAxCy5PCboHQEr9HjKX3QFA+8yJSsp6CUCGtqlFsYYFQN+qcDM8LgBAOEblD5bZCkACxtTUQu0LQA==",
            "dtype": "f8"
           },
           "xaxis": "x",
           "y": {
            "bdata": "ZLNUhekUzr9g8sJRMJzbv041khspGdi/EAemcIr02r8Rd10XAFzmvz7xhTw7wNC/IE9mcRNcz7/YQcvVCwzIv1A3LpLMOMO/TRw3B1wA4L9ok/ofKHjWv9bJ2zoq7dm/PFOBZJQi8L+krrLB+WvVv/YORNYXBNC/9J2BL+EhwL+ADA210fTbv4ztTgCQQcK/xGQNmerq3b+2Q0xZ9bPSv4BQSK6X+9m/KoNY/Kj58b/Ewe/Dbwzjvw==",
            "dtype": "f8"
           },
           "yaxis": "y"
          },
          {
           "hovertemplate": "Label=10<br>Time=2<br>Dimension 1=%{x}<br>Dimension 2=%{y}<extra></extra>",
           "legendgroup": "10",
           "marker": {
            "color": "#636efa",
            "symbol": "circle"
           },
           "mode": "markers",
           "name": "10",
           "orientation": "v",
           "showlegend": true,
           "type": "scatter",
           "x": {
            "bdata": "YCNXAuDWEMByFeYAH2AGQCYno3vSyv2/3DsLMZdNCED5JaVk6Jfwv1/9HLKPSPY/b4RY1rF1AcAwHdRBCSAAwB6kUTUNAuq/bHiV03d86T8=",
            "dtype": "f8"
           },
           "xaxis": "x",
           "y": {
            "bdata": "smBpqWe4879STfFEMTHWv/K+SzOTBva/Tg4yewDg3b/Ao8mw87QFQCC4ERxQ9tg/0uhhzJoC/T+khNZhAk8TwHvi5oLnOwZAHWi/OUWeAEA=",
            "dtype": "f8"
           },
           "yaxis": "y"
          }
         ],
         "name": "2"
        },
        {
         "data": [
          {
           "hovertemplate": "Label=0<br>Time=3<br>Dimension 1=%{x}<br>Dimension 2=%{y}<extra></extra>",
           "legendgroup": "0",
           "marker": {
            "color": "#636efa",
            "symbol": "circle"
           },
           "mode": "markers",
           "name": "0",
           "orientation": "v",
           "showlegend": true,
           "type": "scatter",
           "x": {
            "bdata": "mCMHv6x6BMCflWjzEEwDwMhutVACZgDAc3VmQvyh/7+U0eXIQcYLwNooIy0nDgzA/sH6R13vBcCNtiW4T9//v+EFJeF9pwrAtLKhos81CMBWGb6yAdwHwNMAAzw/SwPAOJG5fEcRBMC0UmmhMxX+vysg4UAHTgPA7FlGQk1qA8B0/d9ANDIHwMcdlTW3ogfAuFuRD+k4BcBXjMWc6PEEwN6gtqCChPM/Gd8d6QiZAsA=",
            "dtype": "f8"
           },
           "xaxis": "x",
           "y": {
            "bdata": "nEJu2Ewt47+IVKfGlxr6P7QaWTYPz/c/NHaI/zsJxb+ey0C2iNGwP1HFzyykN9M/NPsj59jP+z/xlsyIDsrxP+u2Njipa8o/1qj/doDM17+IvaI6merMv+yfCk8Pqfk/HAKJav1K4j+0z4jgYpPeP/xlWqFik/U/bMmcPjmCtj8fAVP2alLiP9iY22SygKe/CCOQxqj3+z+TIcNS+ofwP+i1Aah7NPu/Lli/PZDI+T8=",
            "dtype": "f8"
           },
           "yaxis": "y"
          },
          {
           "hovertemplate": "Label=1<br>Time=3<br>Dimension 1=%{x}<br>Dimension 2=%{y}<extra></extra>",
           "legendgroup": "1",
           "marker": {
            "color": "#EF553B",
            "symbol": "circle"
           },
           "mode": "markers",
           "name": "1",
           "orientation": "v",
           "showlegend": true,
           "type": "scatter",
           "x": {
            "bdata": "7mS0QDuwC8BOrvKY6yENwIt4xQDQzwXAdzV9drmVA8CqSNAIl53+v5/8ijpQxQbAcNU0M6EaC8ASNaildHkHwJ92qaDMTgXA/ukLRsEZBsDReAAUfZgBwB0EndsWLv6/ZMTEfyWTC8D5sziHi2EIwPEJ8ey90w3A02qVrMJvCsBjoxeZN5EDwBK6U8b2SgTAAeNyO3l2A8CwGHlQWwcQwJsUwkm1dwDAaAmxT7ik/L9DpTjdYKkJwIa/sQkcDgrAobCmwNRLDsA=",
            "dtype": "f8"
           },
           "xaxis": "x",
           "y": {
            "bdata": "xcv3S8Qs7r/bvz3N92rtvzDarcV35du//Bj68eNbzr9o/JQisXG/v/XGzCjmvOi/r3uh1Z5W6b96KeuFH5LEPyWw+eNPeuu/rjwX1Doq0r/2fhdW2U7Fvwa5ZVblq8a/zj0KJkpl8L/bh2fT4Onnv4cSDinfr+i/LOJ28SpR8L/0chFEKyrIv6DtXTqfrNe/zhK+0py+wb8VFbxUJn/vv8JO/EaYscG/mjorkBehyb/L+k6dNPnnvzqOp9EM6N6/Z77VZbYa6b8=",
            "dtype": "f8"
           },
           "yaxis": "y"
          },
          {
           "hovertemplate": "Label=2<br>Time=3<br>Dimension 1=%{x}<br>Dimension 2=%{y}<extra></extra>",
           "legendgroup": "2",
           "marker": {
            "color": "#00cc96",
            "symbol": "circle"
           },
           "mode": "markers",
           "name": "2",
           "orientation": "v",
           "showlegend": true,
           "type": "scatter",
           "x": {
            "bdata": "6tCmyqMUBsBL/3ss4a8BwN0ls+f14wnA8OTLqufR9L8riXlfy673v/t+LwPH/Pq/Frb4bqIw9L9p3TQNjpYHwOoBTmXRiPO/t395CekKAMAdGrgX+Vj4vz4didkw0/S/jNGmykRsA8CuvAoMQQXwv2ISBf+UVQTAPmz7YwBt978D3XcXrgr4vzApOQJC4fq/7OXjLnBW+r/W6O7f6fzpv4RNOadZsPG/kLpu0GwGAMA=",
            "dtype": "f8"
           },
           "xaxis": "x",
           "y": {
            "bdata": "GwZZeCyLAMB08qmr38n+vym86UKL0wPAZArEf2IL+79H9s+iF1YCwBzm3iFQ+v+/jMtJ7P3Z+L8IKVcXNmUBwJbg7SpZWPe/fn229f8F+b+modfYCZwAwMosN6Dftv2/EL3U55Gu/L9avToAZuz+v6xXJwx/1wLA7MPorEvz/78mrNYcwmL9v94scbwo1P+/WBdNq+xn+L8Mny0X683jv5HiXdSqu+e/2bL5GGUuBcA=",
            "dtype": "f8"
           },
           "yaxis": "y"
          },
          {
           "hovertemplate": "Label=3<br>Time=3<br>Dimension 1=%{x}<br>Dimension 2=%{y}<extra></extra>",
           "legendgroup": "3",
           "marker": {
            "color": "#ab63fa",
            "symbol": "circle"
           },
           "mode": "markers",
           "name": "3",
           "orientation": "v",
           "showlegend": true,
           "type": "scatter",
           "x": {
            "bdata": "enITUkin/r9OZAiFTm7xv8dT+ILHbwPAUvnrDZHi7r/sA8vR0bHov3mZxQptEve/Zg9lOnIa+79SZPhNPDTtvyB9hHhksv6/KewSwlIm+b86wc6n4oLvv/DQapD3c/W/o7Hg341f8L/Mkvdl7Bblv7XdAdv2HP+/KZ+LdcP0A8BKMWxWwf3xvyk7f3h3pvy/3GL91dS/8L+gjKifCiTgvzQDpeTuDvW/kvrSxc+36L++bsnHo5gAwOj6rg8ZYKi/l0k8s4BWAcA=",
            "dtype": "f8"
           },
           "xaxis": "x",
           "y": {
            "bdata": "f6En1JflBsDyVbyPeTkDwDmorhRkfwvATvs43kjw9r9JS/UkMysBwNgKA6/uLgnAGGU/DhfYBcCcEC8xPPn/v84wH9UIHPC/4QoseK96AMBa6/6XIkz6v+NTtQApEQLAbt22nHiO9L9W9Z0c5xkOwCdQdwGu1ADA0/aOru+wBcDrBxFIyasJwOdri3NpJQbAdqNrn6Fq+b/wraiZ5D3yv/H8qQDkvui/7JkGqy6W9r946uVhzwX2vzascfYlavK/eSk9rVQvBcA=",
            "dtype": "f8"
           },
           "yaxis": "y"
          },
          {
           "hovertemplate": "Label=4<br>Time=3<br>Dimension 1=%{x}<br>Dimension 2=%{y}<extra></extra>",
           "legendgroup": "4",
           "marker": {
            "color": "#FFA15A",
            "symbol": "circle"
           },
           "mode": "markers",
           "name": "4",
           "orientation": "v",
           "showlegend": true,
           "type": "scatter",
           "x": {
            "bdata": "FImEozlh+L8k3OdeAKrhP/6z82HLEOa/O9oCyTY58L9UNBMRhNvqv6xf5h8uE82/Orrs8uJy4z8OcyQO1wrov1COXbvl0eO/chtbpGdh5b9Wa/FVfGrhv5i47bnISt6/LenGboFs/L+5vndssib4vzTTdEXzbuQ/ov8Pw2rPAMDlf68JSiXbv/bnwdPwf+G/F/0OnhIt4L+w8L3WYVDuv+ga6sbUyNO/LTI4GgWkw7+xf1iA10jzvw==",
            "dtype": "f8"
           },
           "xaxis": "x",
           "y": {
            "bdata": "QAXg/xhS9z9EecwvVhD/P+iwbXYVwgVAtqStPI2Z7z9R0c1Dt4EFQOxAYZVzh/Y/pvcqAM3+8z+w9qzz8Ez1P9te5JeNNgJA0+rYZUlQAkALGtMpKYEEQPB5/PzrVf8/6FXmIs5x6z9YZCtw3djsP+uzZ7+7SwFAhEspXCfH2j8D82hsg5EBQGCZTIAUcgFAdVOAzpsABkCYzTmXgJP7P6hUtVj/q/Y/uoOLyNxJ9z9Tgv6I1gPfPw==",
            "dtype": "f8"
           },
           "yaxis": "y"
          },
          {
           "hovertemplate": "Label=5<br>Time=3<br>Dimension 1=%{x}<br>Dimension 2=%{y}<extra></extra>",
           "legendgroup": "5",
           "marker": {
            "color": "#19d3f3",
            "symbol": "circle"
           },
           "mode": "markers",
           "name": "5",
           "orientation": "v",
           "showlegend": true,
           "type": "scatter",
           "x": {
            "bdata": "9vLekm983b+DAypmRhDZv1/76MDXb9u/YKE7Abzc4r8H6K8DBtXQv8fNFl46dtg/ePnnzS0N6j9gkHtAGJjrv+pZRY/LF8+/87Sqddth47+2GfGyarHYv8wHtrnLUdu/i1OMLqEe37/Oe200wpLBP3inFhpkxdu/ChsPMufc8T+SfjiJq/Pgv1pzRMMhDOK/Fy6srGFk8D/osQzviongv+gOA3a0JvY/",
            "dtype": "f8"
           },
           "xaxis": "x",
           "y": {
            "bdata": "VzRxSBhyB0AsQDssZ9kBQJo+FjjasQRA8vFiOJc4BkD4z//MddD9Px7XQuE6/whAD9lfIDFnAUCszQjKf0n0P+IwqDYyaQNANMnOUkH6AkB1rATkjD0CQPcLO8lPSQNA5wwFVHRwCUCIPY/k5GfwPyG1w5w18AhABG6nBkiD9z8GT3BLdlwGQAqWQeV7bAZAXuM6l/R8+T8IbL67LLMHQN+DSUKsJ/I/",
            "dtype": "f8"
           },
           "yaxis": "y"
          },
          {
           "hovertemplate": "Label=6<br>Time=3<br>Dimension 1=%{x}<br>Dimension 2=%{y}<extra></extra>",
           "legendgroup": "6",
           "marker": {
            "color": "#FF6692",
            "symbol": "circle"
           },
           "mode": "markers",
           "name": "6",
           "orientation": "v",
           "showlegend": true,
           "type": "scatter",
           "x": {
            "bdata": "qkD3qZ89/z9mzNcynd3pP4ACmUE50/Y/ZDhooOaA9T+a5HwzAZXhP/S9631RX/s/Gc5JlX8j8j+GaJC++xvjP3/iKqk6EPM/UCT38qe27j9wFo/iv1rlP+j7ZRmuSPg/TckLONXVCEBp+rCbpk36PwnGGV9knPE/LmCBm85o9T8aFz/6GCj9P+x473Xkl+k/HrXelmE5+j8uF4evXfHwP+vdxT7iCvY/",
            "dtype": "f8"
           },
           "xaxis": "x",
           "y": {
            "bdata": "H9GQM7Kq8j/wmK6NJVPhPwzyLqYktuw/zE57qHlaxT+Se1MfrMLiPxZ8oaYpDNs/PAc+rqFS3j+aC7bnZv/kP/0qVN10k+4/MBKBbWLI4T/ybJfatFPkP14hOKIAcNE/aT1H4r0r679i0LTJniPZP1A+39e1dOI/c/w4fsH35j8EA/SdwmHxP/gKDKNTkO8/MvvFN/2Z8T8QRy8JOZfjP9Y3j6p3it8/",
            "dtype": "f8"
           },
           "yaxis": "y"
          },
          {
           "hovertemplate": "Label=7<br>Time=3<br>Dimension 1=%{x}<br>Dimension 2=%{y}<extra></extra>",
           "legendgroup": "7",
           "marker": {
            "color": "#B6E880",
            "symbol": "circle"
           },
           "mode": "markers",
           "name": "7",
           "orientation": "v",
           "showlegend": true,
           "type": "scatter",
           "x": {
            "bdata": "6TtNGmaE8z8EX3yqhxnwP+wAVdLkCuE//ttdJJrk8D8VsIuHzx39P1wS5tgkhPM/MB6n4XlH9j+GZ4edLQfjP4t727og3/A/CeHijicH0D8XwS2iszv7P6OglydEjdg/PDw6ImF17D9M/E3Ef7LiP67ARg5Y0uI/pDhhRIvE5D/aYZhEgYTzP/Jdm2XA6vw/tdyLB8wcAUBzHZf0op/fP/IUWN5W4+M/UobiWOZK7D8=",
            "dtype": "f8"
           },
           "xaxis": "x",
           "y": {
            "bdata": "+CQQCH00+78+Cnrogo33P9yhW1RFUO4/PrQ4sHfI5T/6fvydZabhPzJeMZxjNPu/0jeyIrVg5z/CIsF1Ncz0P2DVmJOrxOQ/jub3TV1v1j+T30HyLFfnP4JW9KBGne8/nFZB5E7k+T88k8O6UeLvP3hLutqrJPE/bniBr2lH9z9gijCrgjT7v9A+HeCjY+I/I8T5Fy8S7j+IeV+XCR75P0MYR1NgmNU/IKETAE/K+T8=",
            "dtype": "f8"
           },
           "yaxis": "y"
          },
          {
           "hovertemplate": "Label=8<br>Time=3<br>Dimension 1=%{x}<br>Dimension 2=%{y}<extra></extra>",
           "legendgroup": "8",
           "marker": {
            "color": "#FF97FF",
            "symbol": "circle"
           },
           "mode": "markers",
           "name": "8",
           "orientation": "v",
           "showlegend": true,
           "type": "scatter",
           "x": {
            "bdata": "Iz3pc6HpCkCiA9BtPtwUQAyj43r8JA9ArwQtGRB0EkCdWdOReKQGQDbuw1cFgRRARKfeDpH6DUAx5Ln5AnoLQKv75XKxdgtAsW6MtevdCED0vy2kZMkJQFuZIfHxBBBAmcBmgpJYBEB1Z2LT3FMCQE1dd/BsIghAK42FSwusCUDfnbI8OhISQE6E0RlblBBA9e2QwQF1DECgoHwwRoTzP54/IoRYhPM/N72BNhzuB0A=",
            "dtype": "f8"
           },
           "xaxis": "x",
           "y": {
            "bdata": "Xfslz/Uy7L/cQtz+SBvwvyMkybyo1ei/WM76YHvc8b8iyVtd5q3UvwDLr96cZvG/AE3YZ0KOdD/W3isXrMThv397WQj74uG/jDcX0deq27/CYg+MR33cvxu9NrsEQui/yFat+QZu5L+cinaqdWPDP46Gp0iPrti/FHIt6iJp2r99wNynRDPnv5grMzDJzc2/C752uchi5b80DooVkjT7v/bJW991NPu/6N46y0Ri278=",
            "dtype": "f8"
           },
           "yaxis": "y"
          },
          {
           "hovertemplate": "Label=9<br>Time=3<br>Dimension 1=%{x}<br>Dimension 2=%{y}<extra></extra>",
           "legendgroup": "9",
           "marker": {
            "color": "#FECB52",
            "symbol": "circle"
           },
           "mode": "markers",
           "name": "9",
           "orientation": "v",
           "showlegend": true,
           "type": "scatter",
           "x": {
            "bdata": "1bmLeE1xAUAoZjTJ8o/7P6NRuyMBDQdAHkqc/BTcAEB7dL/9bO4HQEDwuyqxrQpAWDjOKBKE8z9TS1O4YVgLQDfK+kiJfgJANItQoZhdDUAuxzOYCMH+Pw6pW3phbQFATLOZeQwLD0C1RCWyPZQOQOR5NSonrgJAJuMTvFgdDkB+T58oQN0RQHMi3LAs/QpAMjNNqlD+8z+Xr7418c8KQNTeR7gtxQhA1+Dx302E8z9dy3eQXtUIQA==",
            "dtype": "f8"
           },
           "xaxis": "x",
           "y": {
            "bdata": "uuG/+PdYwL/+FgZo/zTCv97ww0d7A9G/zJ4BSmR7ur+KM+vptxjJv1pdXS0rVPK/qHK011s0+7/bqxnwIlHpvx5ZvUXPh9s/klhgueXu379YsbLJ9Ya2v46YGuJ//d2/2fbExDlB5b8A4BRazFeNP0HcWGA2NeW/bOyyThbV0r+V1b4FYEHnv7IQeQA1kvC/PJ24TBSp4D+42k/zYfq4v1qkE0CRIdG/VAITjb40+7+NlLydx8TBPw==",
            "dtype": "f8"
           },
           "yaxis": "y"
          },
          {
           "hovertemplate": "Label=10<br>Time=3<br>Dimension 1=%{x}<br>Dimension 2=%{y}<extra></extra>",
           "legendgroup": "10",
           "marker": {
            "color": "#636efa",
            "symbol": "circle"
           },
           "mode": "markers",
           "name": "10",
           "orientation": "v",
           "showlegend": true,
           "type": "scatter",
           "x": {
            "bdata": "Jgy/fyvRD8D+1PsNwoL8P/+49OpOF/i/uaItgwtrDEB6wl6y/0Lwvzxm9SNHu/4/z4L3lZzj/b/8/Gzs1uEBwAfrJedt+9m/DKK9lxJD8D8=",
            "dtype": "f8"
           },
           "xaxis": "x",
           "y": {
            "bdata": "7bcjZRUI7r8kQkH7DYvMv9CZD3a/DQLA8yvinEBF678qXZbikGkFQG9vr7SiBuA/EJfM114b9T9ir2k09kkQwDb5WS3D+QRAuGK+S/pW+j8=",
            "dtype": "f8"
           },
           "yaxis": "y"
          }
         ],
         "name": "3"
        },
        {
         "data": [
          {
           "hovertemplate": "Label=0<br>Time=4<br>Dimension 1=%{x}<br>Dimension 2=%{y}<extra></extra>",
           "legendgroup": "0",
           "marker": {
            "color": "#636efa",
            "symbol": "circle"
           },
           "mode": "markers",
           "name": "0",
           "orientation": "v",
           "showlegend": true,
           "type": "scatter",
           "x": {
            "bdata": "as3ZnYBLCMAg+7dWzITzPx2gwyNwhPM/4UyiNTw+4L//HYi1PITzPyOUs04GIATA4IkMKWKE8z92QXXlNYTzP3s6imFWIgLA4gUW5hzpCcBkjgjryLkFwC4yduYKhPM/EYF6LXWBAsAMRJgW55wHwPJ5m+MnhPM/9dE/8Ioy97+lOJhBVGICwCvv335SDATAtrFxAmeE8z9vlST1X4TzPzGrZqxxDQbAFWv75FGE8z8=",
            "dtype": "f8"
           },
           "xaxis": "x",
           "y": {
            "bdata": "H9IcqZxH77+6LvZDajT7v7j2SKuUNPu/hM1ZtjS50b8+OlvnYjT7vywq8mhB0tc/Tu//nXU0+788b942SjT7v2Nqyxr+z+2/CxiljzpS4b9AypXIqoLKvxbycTpUNPu/AK4ahCwXl7/2pBnYgFzUv7wLOstaNPu/TO4JuScV979GNuGH7dTfPyQ8F7NGhPK/gtUbAkw0+7+sjQvcgzT7v+bnqBCW7uC/+hRpjCU0+78=",
            "dtype": "f8"
           },
           "yaxis": "y"
          },
          {
           "hovertemplate": "Label=1<br>Time=4<br>Dimension 1=%{x}<br>Dimension 2=%{y}<extra></extra>",
           "legendgroup": "1",
           "marker": {
            "color": "#EF553B",
            "symbol": "circle"
           },
           "mode": "markers",
           "name": "1",
           "orientation": "v",
           "showlegend": true,
           "type": "scatter",
           "x": {
            "bdata": "GA2hVj+5BcBEs5w8q5QFwL8thBhzEgXA8eivk2qE8z93VrJhQ4TzP4RMM5Y23AnAqn1n5lfQCMDR1eCdQYwEwN28IV9CgwXABSQKhoptBMCaSKD8dYTzPwJBAOUVhPM/jSRealN7BMCNP4RQrBoGwFRtb9ruWQXAE2dZRdtaBMBC5ttkTITzP+NAiqJVhPM/QGtr8kCE8z8fJZG/RewIwPczk/5ZhPM/o20aeBGE8z8VCzcWAOQFwKNGbp1xhPM/cUb+6V42BMA=",
            "dtype": "f8"
           },
           "xaxis": "x",
           "y": {
            "bdata": "EFL2jBpJ5b8gXxQtg0SHP8WBI4Soj+a/COXPpYw0+790c5PwTjT7vzVhfMMLXum/cN5krr/X379SOAXI+P7iP/hOpsCkgvC/TaMWWnor7r+YtT8+TTT7vzBi9SuTNPu/aE97n5rE37/pa+e8yA7vv7al05WW/tu/u9Ms0oJE6L8WNvtRaTT7vwQMbTd4NPu/foabn3w0+7+6IPnitb/TvyhTFuFZNPu/WKfMVIE0+7+AtA+uo6Hxvw7nSfSfNPu/pLSCyFnBsb8=",
            "dtype": "f8"
           },
           "yaxis": "y"
          },
          {
           "hovertemplate": "Label=2<br>Time=4<br>Dimension 1=%{x}<br>Dimension 2=%{y}<extra></extra>",
           "legendgroup": "2",
           "marker": {
            "color": "#00cc96",
            "symbol": "circle"
           },
           "mode": "markers",
           "name": "2",
           "orientation": "v",
           "showlegend": true,
           "type": "scatter",
           "x": {
            "bdata": "JJVREwxVBsDJbpzx75QAwMvJ6UvWmwfAFVkRTjqE8z/s0ZE7P4TzP/vnbNqtLALAW7+djzmE8z983xWb8OMEwMOO61cphPM/rcpclZqm9r9eYB0eSoTzP9pFEdoVhPM/AaPmur2BAcC3rD4WcYTzP7kyFOVenwHAOZhWqDeE8z/QRafdY4TzP4dCBlxShPM/XjouCT6E8z9FHbRCH4TzP2/UPRVPhPM/dYZ/zGGE8z8=",
            "dtype": "f8"
           },
           "xaxis": "x",
           "y": {
            "bdata": "tNHlCWjEuz+NgPhLygrov5q405AOxvG/UOCc6Ig0+78YNltSbjT7vxf+BNMJmeW/9mC2AHA0+79pcd4X6tHhv5yYbkMWNPu/kI1jCo+V8L8m0tsMTjT7v4hf0FKGNPu/hT1ZfiXz6L+iPXFdbzT7v+xklEG7Xdq/HhWvmYM0+7/GHBj2cTT7v1AecE57NPu/lhsGSJI0+78G7bRnSTT7vyxC9ud5NPu/GjQN0HQ0+78=",
            "dtype": "f8"
           },
           "yaxis": "y"
          },
          {
           "hovertemplate": "Label=3<br>Time=4<br>Dimension 1=%{x}<br>Dimension 2=%{y}<extra></extra>",
           "legendgroup": "3",
           "marker": {
            "color": "#ab63fa",
            "symbol": "circle"
           },
           "mode": "markers",
           "name": "3",
           "orientation": "v",
           "showlegend": true,
           "type": "scatter",
           "x": {
            "bdata": "hoePyPcrAcCKD0KOhITzP0FW1PfVqwPAycJXOF2E8z/jmLjZW4TzP4Idx9HATQDAprdoN16LAMAFPnbjZ4TzP0RSxAYcfQDAAUsaw3iE8z+CSv4tcITzP0PzDN9QhPM/K5qWOoeE8z9kGGs5QYTzPz4k+ydGowjAiPlEYBRTBcDHU8db5DcGwDgnwpQDyAPAYeoO5lmE8z+4K4Y8d4TzP+ILwNHPA/+/nFGWPjGE8z9raP77MCsDwC+gLIk5hPM/EgWY3B5yAsA=",
            "dtype": "f8"
           },
           "xaxis": "x",
           "y": {
            "bdata": "hwdkJdB/5b8gUiGcrDT7v7nqYf06pOi/akIDqVg0+79uEuM1WzT7v2gBkZDrz/C/AhD/W/sf1r8O1M/0YjT7v0IUQAatOso/mKVOv2o0+788wweSnzT7v9YGHCWjNPu/UpUuhXY0+78Y5S43kTT7v3zup2oIuva/q+i8ZkL07r8gYdlMuAXUv8B4drAysvW/Gndbgjw0+79yyz5WgjT7vwg830IhIrI/rjVTTkU0+7/oMkHheHHJP+KbaOITNPu/uv1Zl/h/3r8=",
            "dtype": "f8"
           },
           "yaxis": "y"
          },
          {
           "hovertemplate": "Label=4<br>Time=4<br>Dimension 1=%{x}<br>Dimension 2=%{y}<extra></extra>",
           "legendgroup": "4",
           "marker": {
            "color": "#FFA15A",
            "symbol": "circle"
           },
           "mode": "markers",
           "name": "4",
           "orientation": "v",
           "showlegend": true,
           "type": "scatter",
           "x": {
            "bdata": "gjrq1VWjAsDw5kfnBGrxP7Etm6gRhPM/ACTzhL9tAcCUKKD2VoTzPzi+2ZpDhPM/gjXnAJkL/z9eLan30f0EwAJUPFY4hPM/B8RlvoCE8z9sgf7jdITzP/0ATR9MhPM/FxTdxbmVBcAPVUkWShYEwNjNKFSqf+Y/EleTtqHyAcCkSJtiboTzP9mECUM/hPM/krlNFHKE8z+WOOWOfb0BwJRPkhU/hPM/IW6xhk+E8z+hHY20OjMAwA==",
            "dtype": "f8"
           },
           "xaxis": "x",
           "y": {
            "bdata": "X/0tnlPV2D9U5XoJ8wT2PwhyXc8/NPu/QLYkkFAlyz+8NESRWTT7vyIIMsePNPu/NBaPLnvw7D9oTQ7XkaGtv4oNIpybNPu/npg8c3k0+7+K/AIeiDT7v5ib1JBnNPu//iPFsVWw4b+UfmXvQBPVv8YHnFaLjfw/BkKxv0hN8b/m2BPlrTT7vzIPutV/NPu/hHFi/HA0+7+BaanqRvrsv8KIFMeNNPu/3NK29Ww0+78oJSroSvKjvw==",
            "dtype": "f8"
           },
           "yaxis": "y"
          },
          {
           "hovertemplate": "Label=5<br>Time=4<br>Dimension 1=%{x}<br>Dimension 2=%{y}<extra></extra>",
           "legendgroup": "5",
           "marker": {
            "color": "#19d3f3",
            "symbol": "circle"
           },
           "mode": "markers",
           "name": "5",
           "orientation": "v",
           "showlegend": true,
           "type": "scatter",
           "x": {
            "bdata": "YSUcn0yE8z+Xk7JQRYTzP14dzKlnhPM/zQ+DiHCE8z/yT0bBRoTzP82eeypHcfQ/A/aY15OT9z88ZmNYUBIAQOTmDvMkhPM/ZXhMDNS8BkDDohC3GoTzP2aZoaBchPM/7BS8XT+E8z9mWm2g4Qv/P7mx662OhPM/cwKr3T4uAkCABB4hOYTzPwuQwQJZhPM/bZ42Cfpm+z/E+FU+XYTzP0N43Nuud/s/",
            "dtype": "f8"
           },
           "xaxis": "x",
           "y": {
            "bdata": "SLg1TFs0+7/mV7aqfjT7vwiZBamaNPu/Hl2zMnY0+78I6YlGcjT7v2IeAUyVLvY/dX1h9/wZ5j9w5wTBUXDzP95oCh5ENPu/mTULRnq66D8wFK+xkzT7v2h9DZ+bNPu/xslSsmE0+7/5K3jw1v3lPw6ifKF8NPu/Bhf40kif5z9AXMmtWTT7v8AljU1sNPu/6luM3tiS7D8ga7hIcDT7v3bSF7JjAuQ/",
            "dtype": "f8"
           },
           "yaxis": "y"
          },
          {
           "hovertemplate": "Label=6<br>Time=4<br>Dimension 1=%{x}<br>Dimension 2=%{y}<extra></extra>",
           "legendgroup": "6",
           "marker": {
            "color": "#FF6692",
            "symbol": "circle"
           },
           "mode": "markers",
           "name": "6",
           "orientation": "v",
           "showlegend": true,
           "type": "scatter",
           "x": {
            "bdata": "8Q5+JCxQ8j9qeU0+VYTzP3TSQWYue+0/duhaPz2E8z8/SVMev8HyP+AzNK0y9eI/93Hs8oCE8z+a35vUFITzPzSELCEstPQ/JxTFZW+E8z/UkU5qZoTzPy6tEmpvBvk/Cm1f8L2aCEAZQTFGvzP7P62rDAs+hPM/0gycWR4//z8+LbA1k331P9DuypTtuc+/Km/V4I3X9T9UFt9RZITzP9mnKMx8PfE/",
            "dtype": "f8"
           },
           "xaxis": "x",
           "y": {
            "bdata": "JNGTkuYm7j/W3nZjdDT7v/QMaz7Bp/U/mG6sMEU0+7+oywjiDKfjPxSuijYEQOo/btKUU240+7+YurwIiDT7v/qr6shqN+U/KPrWjWc0+7/CA1PlaTT7v/yvsJmFQOU/vtoO4/IV2b/e5pg6efncP5hKEyebNPu/r6ke97jf6z9oBk/JHTz3P8ir5lnRrfM/sjqai5U49j8aN+SFdjT7v8QyCFubFPI/",
            "dtype": "f8"
           },
           "yaxis": "y"
          },
          {
           "hovertemplate": "Label=7<br>Time=4<br>Dimension 1=%{x}<br>Dimension 2=%{y}<extra></extra>",
           "legendgroup": "7",
           "marker": {
            "color": "#B6E880",
            "symbol": "circle"
           },
           "mode": "markers",
           "name": "7",
           "orientation": "v",
           "showlegend": true,
           "type": "scatter",
           "x": {
            "bdata": "JwYJwQuE8z9qq5XRb4TzP9j/LgSbhPM/b9hbFLb3AEB0sy1nsF/5P0A6VBeihPM/sM724akQ/j+XprQPXoTzP/7qBighavQ/dKoIw1m/9T/b8VIr+JjyP6KC0h1BhPM/GgAszx+E8z+hpDTnkoTzP1ikQoJihPM/7BLXwiaE8z+czW4HM4TzPzlK4gf3//Q/DOCW4sr2+D8prf/AboTzP3RewwYkhPM/JYiVE2SE8z8=",
            "dtype": "f8"
           },
           "xaxis": "x",
           "y": {
            "bdata": "gvb416I0+7/Ykz4zojT7v0p7XPKCNPu/g1AbHZ4z5T9by2zvIjnxPwDdOOJmNPu//soOQIoE8z8g2DB9gTT7v46IVVPcVfc/kGpasmdP5z+3Pmnp4cbpP2APXYhINPu/tN/G6480+7+UooHPTTT7v1b12KddNPu/it+6i6g0+7/0l8mqqTT7v2kXTtLm0+0/N8siCtJi9D9sF9cBlzT7v44JI0tuNPu/WqbA+r00+78=",
            "dtype": "f8"
           },
           "yaxis": "y"
          },
          {
           "hovertemplate": "Label=8<br>Time=4<br>Dimension 1=%{x}<br>Dimension 2=%{y}<extra></extra>",
           "legendgroup": "8",
           "marker": {
            "color": "#FF97FF",
            "symbol": "circle"
           },
           "mode": "markers",
           "name": "8",
           "orientation": "v",
           "showlegend": true,
           "type": "scatter",
           "x": {
            "bdata": "u5XdJVhZBUBy8meUwxMJQBY+atxLhPM/Pc6TR4b4C0DLF47TcYTzPyMO8dU/HApAaMefdXikAUCLO0g1DoTzPz8B7JJ/hPM/LN5vJWKE8z/O31lxSnL/P1O3Wf5qdPw/Q7651yWE8z+6MQUuGJAGQPMSQ1ckhPM/2AHWJVfa+T/F1XFme+MNQFGSDrheggdAx6PjayKE8z9aVPM1N4TzP+/YF1R2hPM/8QnBQEiE8z8=",
            "dtype": "f8"
           },
           "xaxis": "x",
           "y": {
            "bdata": "t0NIUnfd0z+ynEpZ9Ea/PyomHiu1NPu/mA+8FdYeqr8azjhjkTT7vxv7aCnS8ec/mXFq6zJH0j+UP1xerzT7vx4KX1BONPu/uMDnbjc0+78tG5KEZz/UP8gTbhzz7qy//o/fKXM0+7/wUIZCJhLUP3C9YPJYNPu/qA3tLAR67z+WtjELuPewP8DmA0MsnK2/UFW/Bjk0+7/43gtUPzT7v5hlpxZqNPu/APgW+240+78=",
            "dtype": "f8"
           },
           "yaxis": "y"
          },
          {
           "hovertemplate": "Label=9<br>Time=4<br>Dimension 1=%{x}<br>Dimension 2=%{y}<extra></extra>",
           "legendgroup": "9",
           "marker": {
            "color": "#FECB52",
            "symbol": "circle"
           },
           "mode": "markers",
           "name": "9",
           "orientation": "v",
           "showlegend": true,
           "type": "scatter",
           "x": {
            "bdata": "9OnUBEWE8z9i4Tg7MITzPzr38Qmv4ApARGk/7+30/j+zX+C2zA4IQOHTjuw1hPM/KdBRUDyE8z8QSl6YFjQFQBJ6+kIzLfk/1d3gLVpQAEAAcXZVPoTzP26DV0VdeP8/RBqqu0fwCUDYSen6Zcr9P52othxghPM/3+ENqURYAkCLRJ7DdsoJQLv8aYJQhPM/LzjmYqWtA0Dw9+L3lbsMQPw+QfVDqAVACUsud2KE8z+IcOz4/PMIQA==",
            "dtype": "f8"
           },
           "xaxis": "x",
           "y": {
            "bdata": "NPYtAIU0+7/UJK+hOzT7v1DlW352vb+/aJbNJkW26z/dPZZBV0rPP2Z7wVaRNPu/OjVcb4c0+7/YrEsNJuPeP+4sjH0ErPQ/OIRfG7pitL/sPpYjQDT7v1fLabHKs+8/BC/cBRjKt7+WkB4D92zqP9BzuVxRNPu/Xx3Ax7AozT94fDQzGkXoP867tHaPNPu/1DVGwS+y4D+ic55GySm3P6xnqerYhLk/Cpof4nM0+7+uAHdAgInCPw==",
            "dtype": "f8"
           },
           "yaxis": "y"
          },
          {
           "hovertemplate": "Label=10<br>Time=4<br>Dimension 1=%{x}<br>Dimension 2=%{y}<extra></extra>",
           "legendgroup": "10",
           "marker": {
            "color": "#636efa",
            "symbol": "circle"
           },
           "mode": "markers",
           "name": "10",
           "orientation": "v",
           "showlegend": true,
           "type": "scatter",
           "x": {
            "bdata": "7Cg51Y5vuj9UOd2SS4LWvzPip5lWhPM/xfbyyySE8z/AvsWJIITzP6idC+Y7hPM/BPKtdwCE8z867E9Mi4TzP+LKH41NMOm/1CF9aSrwxD8=",
            "dtype": "f8"
           },
           "xaxis": "x",
           "y": {
            "bdata": "uXvWLeU15j9Q+dDU4O7CP3g0f4m2NPu/Zp0qoIA0+78Ug2YnRDT7v0Ki6x94NPu/OmDVSlE0+7/MLxkdbDT7v993maC+aOS/YIE0sAB91b8=",
            "dtype": "f8"
           },
           "yaxis": "y"
          }
         ],
         "name": "4"
        },
        {
         "data": [
          {
           "hovertemplate": "Label=0<br>Time=5<br>Dimension 1=%{x}<br>Dimension 2=%{y}<extra></extra>",
           "legendgroup": "0",
           "marker": {
            "color": "#636efa",
            "symbol": "circle"
           },
           "mode": "markers",
           "name": "0",
           "orientation": "v",
           "showlegend": true,
           "type": "scatter",
           "x": {
            "bdata": "0V/dMIJ5CcCDQXxO0yn9v03lSg0x5wTAAMa6sFD2BMAiFusUXTH9v2R7rvKlUgfAZuj9Mr4Y+b9FwM/0NrgDwJ12DyBa0APARrp7/KHgBsDRDLW2CAMJwCA7BN++BPK/f+U3NetmAsC4psEnPb4FwI5JHtL0NvW/5ByLtq4H/7/iOn2o5REGwIUZA51P4gHANOk+GvJhAcBxsk/8NScDwJPlG1adUAzAgnLQUTj7/L8=",
            "dtype": "f8"
           },
           "xaxis": "x",
           "y": {
            "bdata": "FTt9L7891D9LJRl8iLvoP51QOQgYRe8/cBRuwMxw0D/ajSKXATL1P2C4YDr2Ftk/jAe4dFnw3D9ckjwglof4PzAtjHH5WaG/Kl1MKzvpyT/4KU2ZDPq6P+BAom2aUe8/pOcjt8zYwj8WP+s4OUjmP6pmfeM+P/w/6FQhcc9v8b+CbWLqVvntP971BlY5V9s/2aA29rUG6j84/ZxAGxrxP0AKS8jmNN2/lsO25GgN9D8=",
            "dtype": "f8"
           },
           "yaxis": "y"
          },
          {
           "hovertemplate": "Label=1<br>Time=5<br>Dimension 1=%{x}<br>Dimension 2=%{y}<extra></extra>",
           "legendgroup": "1",
           "marker": {
            "color": "#EF553B",
            "symbol": "circle"
           },
           "mode": "markers",
           "name": "1",
           "orientation": "v",
           "showlegend": true,
           "type": "scatter",
           "x": {
            "bdata": "bFdxQ+i6/r+wvtCRBB0JwAf95iEoOf+/ltipllD/+7+aMkI60Br+v32X/I8K4gTA3kwNvrzlA8Dw7iSVZY8EwIkcDjX16QXAX3Q84ylPAMDGXwNOeznzv3iEK75tvv2/IrewtR5V+L/zw8eQRjQFwOY2YMzh6wTAltMpoCdcAcBYQDw09ML1v/qncqlO5vy/bYZ6Lws5A8AJEZ/i9hgHwOXFFKcvhPM/EoKaVE2E8z+4AV2f0I0AwHCjBsZE5v+/UfPNnz9ZAMA=",
            "dtype": "f8"
           },
           "xaxis": "x",
           "y": {
            "bdata": "pap9eoW80D97WreBbbfnv4wFMhM64PK/mJIwejSn0L9ouV0Rtu7av/zohBQlDNq/EWgYSRog7b/Uri7eDEm3v6p9ttJKmLo/bFZiuRC/yL9wYw7pnuO1v+RUkotxidW/33e8kWQp8D9Gx2UOF4rcv+SdWfQNuM6/JDckgurm4L/ArCN84Fjcv2YRgpfBgdW/N4+M0pSD7L/gIwkmEJjQv251hCNsNPu/MOp4JCY0+780DZreOcr1v+Drua9bvZi/pAjEMDdL1b8=",
            "dtype": "f8"
           },
           "yaxis": "y"
          },
          {
           "hovertemplate": "Label=2<br>Time=5<br>Dimension 1=%{x}<br>Dimension 2=%{y}<extra></extra>",
           "legendgroup": "2",
           "marker": {
            "color": "#00cc96",
            "symbol": "circle"
           },
           "mode": "markers",
           "name": "2",
           "orientation": "v",
           "showlegend": true,
           "type": "scatter",
           "x": {
            "bdata": "f5BrxNiyAMChScwIpC/zv5vZFr8sO/+/LBVnUjuE8z9bJUwLO4TzP1K3OSOgr/6/b+58+nqE8z9QReMOtsX9v1a+8OJ/hPM/1NAypNZQAMAuV9EAFGDevyIzdVY+hPM/Cs55KZrV/7877wyLGDD5v3gVBTHHEf+/NMRAJCKE8z/QLQFYQoTzP5VHS2NRhPM/WLQXGXOE8z+aGnETc4TzPzxW5JV6hPM/WSAhTkqE8z8=",
            "dtype": "f8"
           },
           "xaxis": "x",
           "y": {
            "bdata": "qXFCeRd857+P5IYIF2nsv/Ifu2DpofC/cBHGTGI0+79IvT1TZDT7v6OACS45ReG/9r2Ih1U0+79GzDj1PZDxv7YAyVKINPu/2gFgNMKl8L/WdWBeWLT8v/IRlo0hNPu/mbzPzdU05b/Epb+pW28FwDS6peV0HfC/jrAlWkA0+7/+NT5ifDT7v0Jiz2xcNPu/XGVh/nQ0+78KKH5gezT7v6a05LaONPu/Pg4shko0+78=",
            "dtype": "f8"
           },
           "yaxis": "y"
          },
          {
           "hovertemplate": "Label=3<br>Time=5<br>Dimension 1=%{x}<br>Dimension 2=%{y}<extra></extra>",
           "legendgroup": "3",
           "marker": {
            "color": "#ab63fa",
            "symbol": "circle"
           },
           "mode": "markers",
           "name": "3",
           "orientation": "v",
           "showlegend": true,
           "type": "scatter",
           "x": {
            "bdata": "bqs+9X5C7b/S/1P6rpXnv7UbasDXowPA4NBX2aXb7L8YlzgxjMquP6hjf/Lbtfq/lLJX+LhZ/b9il4+1L1Puv7w9wIpnzf2/qv03vQsg6L/XZemJ3Jr2vwI50mPlIfm/KEmVUdXF6b9dOAzC7Knxvw4RqKdbWfu/Wxrr+kAtAsC5zk8hG00AwLTAeSdqsP6/brqKih+S4b8YTGMe+DLmvzD/s/aDI/6/RlX771ls6b9iBaPS1dr5v5oq2PgA++2/7G3mzAPOAsA=",
            "dtype": "f8"
           },
           "xaxis": "x",
           "y": {
            "bdata": "DiUbDVe39r8Jh/LpNcMCwExCOjFcuvW/nsLtGMdDAMCqmf/E+Q//v6gCR9aomgPAHQrble8BA8ASEV5PzfAFwBZ7AESz7fu/ej0pvwIIA8DUQChJtq8OwG40buxb7xHADqqFXONtBsDy8KXbmH4CwIBGxuTtOwDAkvLdqQcuBMCv5YXfAWIBwBToAiCyTfu/QiceAZ3Q97/4XGpe1IMIwDx1pZiDNwTAa8xLToqCAMAabMc+itH2v4euOVCfwQLATWRHEfurAcA=",
            "dtype": "f8"
           },
           "yaxis": "y"
          },
          {
           "hovertemplate": "Label=4<br>Time=5<br>Dimension 1=%{x}<br>Dimension 2=%{y}<extra></extra>",
           "legendgroup": "4",
           "marker": {
            "color": "#FFA15A",
            "symbol": "circle"
           },
           "mode": "markers",
           "name": "4",
           "orientation": "v",
           "showlegend": true,
           "type": "scatter",
           "x": {
            "bdata": "0odm2h/n8b+12fmtrI/ePyi2eqExtre/PWrTOnSV/b8gkbZhWyDZvwmFLVqout2/79B2lrMC3D/KxAfK+ev4vyR0fX9QhPM/ADGwLA8b2r92ojtn5HjMv2bgMJ4YRdK/5d01ECvN+b+RQt1iyoX3v2qWt2g9/u2/+V/+Cmoo9792za63zbvjvxfUXOZT+9+/KCiNL6G74L/0HLjzm2v1v3cHxeJmhPM/fR0WX3dN3L+edlrt/Jf2vw==",
            "dtype": "f8"
           },
           "xaxis": "x",
           "y": {
            "bdata": "RYE4hq0U7j/uqGxs3k7xPxq4fM7n89s/MKT1TYRB9z9HELunv5UAQLzQFubtdQNANkQDazNR+T9sQJiBCdXiP5gvLlbkNPu/wlu6SiMu/z9a4QUfOuv5P35IgghoX/c/C8gE2IFH8z9aikAxPoz7P45EdNo5G/8/ACQiovBxmT+sX1pukmECQJshtTGJRgBAl1onnP+FAkCI0wcDwputP/4oExebNPu/daWwgDNYAEC1wbQ1tYnpPw==",
            "dtype": "f8"
           },
           "yaxis": "y"
          },
          {
           "hovertemplate": "Label=5<br>Time=5<br>Dimension 1=%{x}<br>Dimension 2=%{y}<extra></extra>",
           "legendgroup": "5",
           "marker": {
            "color": "#19d3f3",
            "symbol": "circle"
           },
           "mode": "markers",
           "name": "5",
           "orientation": "v",
           "showlegend": true,
           "type": "scatter",
           "x": {
            "bdata": "UqlzUdS/378wtUt0YQXdv9cGqGf36Nu/bqFyWN2O4r/BphvnLYTzP2DXJLx1hNU/TE8j8q5HtT9QhkMUgODDvzAUt0DiFNU/Oii+N/3m2r9vFf5WayPgv9AF4yHpwdq/SVqFr6Cx3b+b5RavPIzZPxqvkPdHnNe/Bm1YAAaipL98zuz0/B/fv8wQR0yAx+O/wJHtOkTiZr/u3rWCTaXXv9a1fJEVV8U/",
            "dtype": "f8"
           },
           "xaxis": "x",
           "y": {
            "bdata": "hqp+sGLEBUC6kT2egK4CQCHrNda0ewRArwDr8nAMCkBSo4WIuTT7v0INm9XB9v8/QqEO59r89z98Q04zErX1PxYcDDQt1eE/kPBNeags/D8OT1W5KW4GQPf8UM8FawJAhFqTWElTBEDv/9/Y4vACQHB7Wnzywf8/jv47PqeU/z9Ijs/xyjsFQAkD2PVJwQpAuVPI4WdCAUDZApCwznwCQFLR5BGv6ABA",
            "dtype": "f8"
           },
           "yaxis": "y"
          },
          {
           "hovertemplate": "Label=6<br>Time=5<br>Dimension 1=%{x}<br>Dimension 2=%{y}<extra></extra>",
           "legendgroup": "6",
           "marker": {
            "color": "#FF6692",
            "symbol": "circle"
           },
           "mode": "markers",
           "name": "6",
           "orientation": "v",
           "showlegend": true,
           "type": "scatter",
           "x": {
            "bdata": "b2X+2pl7+D/UPpCsFtzjPzq3sRcjqO0/ae1jK7fj3D87kWER2oTSPx0Ia+TGBdw/xGOScaLW4T/aS/byijXjP2QQAmeqF/M/4kuyS6gh5z8OJy5vnDD0P8zKZypHCOo/2k41fC3w9T/u7JbrMcvsP5/uNS1thPM/FYHLc0wR9z/7cDGCO232PxL5yTtGb/C/Y4ruLTzl9D/o5i02O+zgP5RSP4T/aeo/",
            "dtype": "f8"
           },
           "xaxis": "x",
           "y": {
            "bdata": "iguue0c65T/ts0nyyxnjPyz8lavv678/dom/+Vn14T+O36h3nbXsP83B7c/lYtc/brmT5wm65T94YKZGR//eP26NlfxA7Oc/OpRRL2IG4j+WjwuyvVHDP17DPUaGYes/pBRvCdAg4r8saJeylEjwP1wJzFm7NPu/fCVVWfhM1D/LEaWOJa3wP/erntQlP+8/yuvF6EM67T81wDUY3PvIP0T31+SqZdI/",
            "dtype": "f8"
           },
           "yaxis": "y"
          },
          {
           "hovertemplate": "Label=7<br>Time=5<br>Dimension 1=%{x}<br>Dimension 2=%{y}<extra></extra>",
           "legendgroup": "7",
           "marker": {
            "color": "#B6E880",
            "symbol": "circle"
           },
           "mode": "markers",
           "name": "7",
           "orientation": "v",
           "showlegend": true,
           "type": "scatter",
           "x": {
            "bdata": "TGTse3vt5j8qi06xa9DkPzrxfOfZReM/rO4BkrcAzj/lpqWN2ZPxPySKSfwrUOU/gGhlxaL80b+KWUd3x9/gP3J+4NnW/uk/38DBBbjl2z8WEHYrFpDgP/i7miv7kuE/iD2L02wt4j9evlqSXYTzP9LZUqpuXeQ/jDBwjC0X4z9wU4PmA4TzP/YjbbNKSvI/pLY/7Ixm8D8q66cuLyHkP5Rxhyz7O+M/UNzv7fgj5D8=",
            "dtype": "f8"
           },
           "xaxis": "x",
           "y": {
            "bdata": "O402n9sB2T/OTFqBnjr3P8TlFLSwHfY/BmFc9Zyo+j9M/07qnQrwP6COHgSL1fk/Atw1GMq1/j+d1Yn2N1jwPwIUWFSTofg/hHgKXX4k9T8WOPfKhVHyP9yP5oRxPfo/wHdaxcHR7z/63drMPTT7v6ItEgjtbfw/1klsK1uq9D+KuLyvnDT7v6pMwEckz/k/ruoPv08X9T/Q6utA8WDZP5BWFMqgWvo/ShUxZIxi+D8=",
            "dtype": "f8"
           },
           "yaxis": "y"
          },
          {
           "hovertemplate": "Label=8<br>Time=5<br>Dimension 1=%{x}<br>Dimension 2=%{y}<extra></extra>",
           "legendgroup": "8",
           "marker": {
            "color": "#FF97FF",
            "symbol": "circle"
           },
           "mode": "markers",
           "name": "8",
           "orientation": "v",
           "showlegend": true,
           "type": "scatter",
           "x": {
            "bdata": "nEC66oCGB0BJhbkYgysHQFjCZXJL/QJAbTy3hiG+AUDKQgEuKK/+P9eBZ8ztwgNAqd6VWQ6jDUAtQW2ZnJsEQL71mGkzZQZAhNYz+t4zCEDSynrmkikGQNvNQ//KkAZA2k75Kl6E8z8odVJRWX8RQBc0CtE4owVAyfi1w/grCUDNJSvn/WsJQOpQbTgnzf4/jTmqyfE+BECZ8pDuDUYMQEtcZqYj3AVAIiehHjqE8z8=",
            "dtype": "f8"
           },
           "xaxis": "x",
           "y": {
            "bdata": "RPqFc65L87+bIfHu6xPgvxYBQL/ApN6/Cmnhgf7i8r/AVKokVpbMv9DqYpSDvdS/MhinSfDB0r9oc1gZoFXdv84kRNFv89y/LtwLVgYz37/YkXCavsfRv4dp/eR57e2/NGpyc4s0+79z5hhaRdjuv942kq0Wj9i/q5446rju6r8FoMJkrKjivwB90A/u53c/9d6eQHfX4L8FSNIZv3nkv9pCgjIse96/vOcwp0s0+78=",
            "dtype": "f8"
           },
           "yaxis": "y"
          },
          {
           "hovertemplate": "Label=9<br>Time=5<br>Dimension 1=%{x}<br>Dimension 2=%{y}<extra></extra>",
           "legendgroup": "9",
           "marker": {
            "color": "#FECB52",
            "symbol": "circle"
           },
           "mode": "markers",
           "name": "9",
           "orientation": "v",
           "showlegend": true,
           "type": "scatter",
           "x": {
            "bdata": "AYWEHUDP+T/R6ipaO6cGQFn1ls0d/g1AlvuWu13q5T9UWIhUpxYMQJZFFc7SgwBA75flGGatAUAQrg3/H4TzPxeaMXVoU/c/xkliSS+zBUDggu7vPj0KQIp7N5jRCg5AQ6CRGTuuCUDNNOHPa6MGQEhWezD02/8//3LJR9N0AEDScDXOmnMQQElnUR9v//k/BPDWCwGi/D9eOAPVJUcGQKQ+pjKTuQRAtDr6PVyE8z8cb09NDvUJQA==",
            "dtype": "f8"
           },
           "xaxis": "x",
           "y": {
            "bdata": "GIUGI88V1L+asut21xfVv3AZdFMmfLa/uvVu2Pxg5D/RANh5FiXsv/DKDLl3eqW/zgtcFWhY378KSucIfDT7vyUvREfniNI/UGxU9ECGyL9c08tSAqPhv8FRXPbi3ue/gMQslf1TqT8iqjX7+JPAP/xMUygG/sm/APOOkeOQ5z9rZt6zohnrvwA3kSg3vpy/5H4OpP9t1r8Nrnfgv2fnv7LxBq6rx+O/wBbGoFE0+7978oLmrMPsvw==",
            "dtype": "f8"
           },
           "yaxis": "y"
          },
          {
           "hovertemplate": "Label=10<br>Time=5<br>Dimension 1=%{x}<br>Dimension 2=%{y}<extra></extra>",
           "legendgroup": "10",
           "marker": {
            "color": "#636efa",
            "symbol": "circle"
           },
           "mode": "markers",
           "name": "10",
           "orientation": "v",
           "showlegend": true,
           "type": "scatter",
           "x": {
            "bdata": "prGsexpJ4r9dtlgYe04EQK3VHMZDhPM/Wd7hOn14CUBznRcnLK3dv0hF3rdmi+k/NtgKtvig5b+i3ijAk/f2v6SKxwPRwdi/s2GXeaWr3D8=",
            "dtype": "f8"
           },
           "xaxis": "x",
           "y": {
            "bdata": "6OEF7fOltz+guLeEWOHLv8ImA+pTNPu/gBWbCSsk5L83aunBsK4DQNCm2/m+xPA/VIWSqRGR6D+AZ1aiFHQPwEF9S6RqMgNA1OveeV5Q8D8=",
            "dtype": "f8"
           },
           "yaxis": "y"
          }
         ],
         "name": "5"
        },
        {
         "data": [
          {
           "hovertemplate": "Label=0<br>Time=6<br>Dimension 1=%{x}<br>Dimension 2=%{y}<extra></extra>",
           "legendgroup": "0",
           "marker": {
            "color": "#636efa",
            "symbol": "circle"
           },
           "mode": "markers",
           "name": "0",
           "orientation": "v",
           "showlegend": true,
           "type": "scatter",
           "x": {
            "bdata": "fKRnz5jnAsDqzw7jD6T6v7P5r/defwPAGjZ6qrPx/L9F9ogMZiD4v4aDSvGofQTAnBdjsrLeAMA/mnkkvIv4v393nFSqxfy/WpO6LItt+b80IwA4jhH/vy/v7FxVUgLAeuP52VJFAMCOzgCh62n9v76ba2RrpAPAYykBawNZAMC6lG8uJ0H4v4qv5c9bvfq/zDMl9XRq/r+/W5fzna8CwAwDuzyZ6u2/WCSgyg2JAsA=",
            "dtype": "f8"
           },
           "xaxis": "x",
           "y": {
            "bdata": "igaQJHd++j8g5WPJz2f3Pwg9vPuLovs/Gqk5mVeY9D+gAIQRd1f0P8Jtjabzwvg/2r/szGRw9z8U6LeYI/L0P3T50HstgfM/wqEBx1LM8T+chNXT0Ur2PygGfzBiRfk/6hHBt13X9T8XJVWp7jbzPzaTMj7uqvc/0EzUp6SK9z82Uu1B4crzP5QA+aCJovM/fr9ek2H7+D9k4FmfK/vzP8+2+r04t+g/EOkF5PQp+T8=",
            "dtype": "f8"
           },
           "yaxis": "y"
          },
          {
           "hovertemplate": "Label=1<br>Time=6<br>Dimension 1=%{x}<br>Dimension 2=%{y}<extra></extra>",
           "legendgroup": "1",
           "marker": {
            "color": "#EF553B",
            "symbol": "circle"
           },
           "mode": "markers",
           "name": "1",
           "orientation": "v",
           "showlegend": true,
           "type": "scatter",
           "x": {
            "bdata": "v6jZ0qfMD8A/lNIXboURwMP8EVBPdhHAWgMbAlDZEMDWiXyk/gsQwNwQXxoXNg7AT7NtbHcSEsDmxUAbI0cRwLUcwtdntRHASOLAg5ioEMDR8p6aXhAPwD/HPzYs4BHAfLHypiaZEMAhRcdZctkQwKQs1z5yfAbAth9KKpqhDsDUoCXzyJ0RwIxOty3vPBLAElWa8ouHDMBR79nQPtIRwBdIQFzUsg/AKOzVfsNQEcDQNrGrCUwOwCPOQucPnhDAxu7KUKRnEMA=",
            "dtype": "f8"
           },
           "xaxis": "x",
           "y": {
            "bdata": "iiPL9rTf8b88uHcV/WH2v9xha1TaH/W/hpeTCM92878cCHrhFVLxv+Hd/tNe8e2/fgZxpphC97+k2U19Pzv1v3xR7zzJOfa/JlppP8Oh8r/oYwWJqUjwvzDwmbcpBPe/Fr/LreX9879KV+c2TJ/0v7SzD99bXNW/0uPGd05b8b/wECQ7VYT1v/jfgHh2V/e/o4Pa/7jG6b/YQnvnMJb3v1qq6//hVvC/5HtjevlB9b+9gd96UPLtv9YB/ApgufO//EfEdcVd878=",
            "dtype": "f8"
           },
           "yaxis": "y"
          },
          {
           "hovertemplate": "Label=2<br>Time=6<br>Dimension 1=%{x}<br>Dimension 2=%{y}<extra></extra>",
           "legendgroup": "2",
           "marker": {
            "color": "#00cc96",
            "symbol": "circle"
           },
           "mode": "markers",
           "name": "2",
           "orientation": "v",
           "showlegend": true,
           "type": "scatter",
           "x": {
            "bdata": "MCb7H1+E8z+WyopPd4TzP7DGdBV3hPM/fu3QooGE8z/ZF/9xBITzP6N+l9hrhPM/XfIDm2CE8z92qFxIb4TzP8P+wQdZhPM/zqmZrUWE8z/S/SQMbV3evwWE0vUVhPM/8EQqEFuE8z+cXEnj6mXhv42W0ld1hPM/b3KwKYCE8z9EjmUEQoTzP3Z9q3FuhPM/GvulF0WE8z/BuUSrR4TzP9dUQiIzhPM/vE7EUXSE8z8=",
            "dtype": "f8"
           },
           "xaxis": "x",
           "y": {
            "bdata": "+oU2n0w0+79SrxfJdTT7vwicDPBbNPu/+C4qPHU0+7+MU4S4UDT7v8Z+Pal8NPu/+MxpLEk0+7+ER7UHSDT7v2QnNw9+NPu/8nOh62k0+7+i15YOt7T8vwZLbPZ1NPu/AvcCNLU0+78CYGTqPB/+v85i4NM8NPu/HEORd0s0+7+wDZPrWTT7v3C1KERJNPu/0rwZOqI0+78Wyu8vhjT7v0jRtclJNPu/Tlu3GlU0+78=",
            "dtype": "f8"
           },
           "yaxis": "y"
          },
          {
           "hovertemplate": "Label=3<br>Time=6<br>Dimension 1=%{x}<br>Dimension 2=%{y}<extra></extra>",
           "legendgroup": "3",
           "marker": {
            "color": "#ab63fa",
            "symbol": "circle"
           },
           "mode": "markers",
           "name": "3",
           "orientation": "v",
           "showlegend": true,
           "type": "scatter",
           "x": {
            "bdata": "uwDlb0ZT878q3mykBd/dv5YL7ip2p+y/oprhs0BB9L9txVv1z6rkv8egygwoqvG/Wq0wPmRb9L+4V0k57DDxv0bEOSh20fK/tm4LwfUR7b8csK8IIubvv6I4IISsLfW/dHeHgrUK5r/YxpT4FAr2v1tujbfso/G/xO2IKOyi9L+AY8eAsBvzv28UXj4vffO/MGMyJxXv879kNcNQYBPlv+YMHkjOXd+/vutrv9va7L8k6ILLCnHwv2IR6DMHJe6/b9vVxhnN478=",
            "dtype": "f8"
           },
           "xaxis": "x",
           "y": {
            "bdata": "yTwF3b9+BcBCETf8Emv+v6JL4PABgfi/utelchXZBMAeyf0nZMf9v+u1kufdXQLABeHHAekoEMAGevoQm4ADwGxmcO9eDQXAdVb5bwiqA8AUaTJftaX8v0A3b+t6jQfAmERET7Ts+r/rZEDJpOoMwLu9X7baNwXAfAoMSjAhDsB1ewXMRAMKwE+uvSSuVgPAv3u1LJjNA8C1stUVw8cCwMbKW/hCBfy/KMXCvii8+7/32BOoXZkAwJrpsvs0B/y/3zW2afFgBMA=",
            "dtype": "f8"
           },
           "yaxis": "y"
          },
          {
           "hovertemplate": "Label=4<br>Time=6<br>Dimension 1=%{x}<br>Dimension 2=%{y}<extra></extra>",
           "legendgroup": "4",
           "marker": {
            "color": "#FFA15A",
            "symbol": "circle"
           },
           "mode": "markers",
           "name": "4",
           "orientation": "v",
           "showlegend": true,
           "type": "scatter",
           "x": {
            "bdata": "Tv6BAVfr5L/4GxP0GW/Yv3hQGB7z5be/KNYCE42E8z/E5UECt2rkv4it0vVAlOe/YOQQWfmA5b+qb+0bQgvTv/QxIEa79Oe/NlWsTHFZ2L/SO0D3fWjev+gbx8M7+OK/J4spr3750b/5zIxYbxfXv/QUuua25MU/+I7qeGaE8z8ORafzkKjjv3KRhUAV1Om/dp9iEPV74b8WBBSWkPDlv9X9V0h9d96/J8pa0bHs4L/3qisUn0Divw==",
            "dtype": "f8"
           },
           "xaxis": "x",
           "y": {
            "bdata": "x1HOJiuJBkBHawyCL+oBQH6jKT9E8ts/wA2C8yU0+78D/LksMOkGQGWC5U2Z+QlASjQ2pvxJBkBYto6o0xD3P7ZLLbJdvQZArBx1Cw1R/j/101JsduoAQObNPvsAIwFAgPSUa5h/+T/RUK3KB1IBQE/c/3KtSuU/ZEoPpxE0+78QEMoPe+sEQAvBczgPAAlAwYpXKDwdCECSOphJQ14DQGiX6ZgIGwJAlVISEqzYAUDFugEcHMIDQA==",
            "dtype": "f8"
           },
           "yaxis": "y"
          },
          {
           "hovertemplate": "Label=5<br>Time=6<br>Dimension 1=%{x}<br>Dimension 2=%{y}<extra></extra>",
           "legendgroup": "5",
           "marker": {
            "color": "#19d3f3",
            "symbol": "circle"
           },
           "mode": "markers",
           "name": "5",
           "orientation": "v",
           "showlegend": true,
           "type": "scatter",
           "x": {
            "bdata": "ZtF6Evt+4r+DQq10/frQv3tb12Z1f82/HkkUJo1Q4r/kxdPjB8TSP+aF7NdOh+K/bhV6bxvW5b8SHeK0V+7ev3Pxj9p7vdI/gJidTB3r2r/b7VvsGJHhvxzm/UDI2NO/QipLa/jn0r/0mktbvIfev6CGa5Skk9C/hydm6sXs4b/QnzkIWBTgvxCT9bDfxeO/AEziC4aU4L+qM9g1Kl3hv0Hl5NReW82/",
            "dtype": "f8"
           },
           "xaxis": "x",
           "y": {
            "bdata": "rhwb+aTlCECOcuPz5+D9P6T3uD1qLv0/8ayxd121B0A6lybmfLbZP1k1nIAmoApAaOsBHQXeCUC0Hcj6VqEFQJrPSVtIvtk/OUWTk4grBkD5EJAbNqIFQBgKY3fcl/8/hsDZfywx/D8ZUUavp3MEQKq3gDGb2ABALTzrxa5OBUDBwaPnH3UEQF+qKQlKCgtAd9ZmaDkGBkA5XhLfsnwHQEj+ZiWQSf0/",
            "dtype": "f8"
           },
           "yaxis": "y"
          },
          {
           "hovertemplate": "Label=6<br>Time=6<br>Dimension 1=%{x}<br>Dimension 2=%{y}<extra></extra>",
           "legendgroup": "6",
           "marker": {
            "color": "#FF6692",
            "symbol": "circle"
           },
           "mode": "markers",
           "name": "6",
           "orientation": "v",
           "showlegend": true,
           "type": "scatter",
           "x": {
            "bdata": "qvtcrAYt8j/aNTHy2BjyP3sEkfTu+fI/e8vM/aej8j/ge3V97r7nP0GvyeALBfg/dOAdAQPE+D89GXDSH/3zP5LwCtVcle8/qfiTLVVZ9T9zzTRSvTnxP1y8OHXD/ew/yP3geS/t7D/CGw+x2FbtP+n9fT6W7/U/XvKiHVAk8T+o9CfW4y72P/0PGgNWqfE/hicUPUV+9z+yaCrSc5LrP7tQcp/ccvc/",
            "dtype": "f8"
           },
           "xaxis": "x",
           "y": {
            "bdata": "+B30DSu74T9UIZhz+g3ePxAFyjesgd0/fkarRCcs4D8mLVo5bj3hPwszsHkZS9g/mdKyJ31f2D9jjbgS6WPdP57VuuqmNuI/XnrLI3I+3T+mz/tDk6LiP9zOOKstUt8/E4uUW33x5D+oD83jEvvhP5TymdKDRds/L7M2loNc4D9YXTD/AMTZP2jxP6lBG+I/lvl2Iixn1j+qND85JhjhP11WQ4g85dE/",
            "dtype": "f8"
           },
           "yaxis": "y"
          },
          {
           "hovertemplate": "Label=7<br>Time=6<br>Dimension 1=%{x}<br>Dimension 2=%{y}<extra></extra>",
           "legendgroup": "7",
           "marker": {
            "color": "#B6E880",
            "symbol": "circle"
           },
           "mode": "markers",
           "name": "7",
           "orientation": "v",
           "showlegend": true,
           "type": "scatter",
           "x": {
            "bdata": "LBN7etq54j9EhyCdhVnvP9o9sl6Qw+g//nOdnaTg5T8K0drRvhLiP6rdIFQsWu0/MI8wHbBZ7D/vIpjPme/cP6Cgc1X9j+0/3WaXK57a3D+iaio7KLXkP0C4wzZwLOY/qsz4Cke24D/kveiBWujnP+OSknDqOfA/3OlLzP9P5T9O2grDBa7mP450gM4GHuo/zoOaLxE64z9q3UkOjw3oP00RUQ7PdPA/aG9L/C6J7j8=",
            "dtype": "f8"
           },
           "xaxis": "x",
           "y": {
            "bdata": "oYec70fj8D9SY3c+ccwAQGJvik7PsP8/GPiedc8z+T+MJurZHXjwPwOPAgsvGwFAhOSbDK25AEDqwlAqc/L1P0T5zVHdSgFA3tWnTAd+8D/W99aVP1v8P/RhYX6NHvw//EJfqMTt+D9a7+gUMW/8P33I8w6AhABAfoht/XtP/T9E8kBi+Az+P58IfyecJwBA/HmRxp/Z+j/CYnW64An+P81NS3ZhPQFA9wOdR4woAEA=",
            "dtype": "f8"
           },
           "yaxis": "y"
          },
          {
           "hovertemplate": "Label=8<br>Time=6<br>Dimension 1=%{x}<br>Dimension 2=%{y}<extra></extra>",
           "legendgroup": "8",
           "marker": {
            "color": "#FF97FF",
            "symbol": "circle"
           },
           "mode": "markers",
           "name": "8",
           "orientation": "v",
           "showlegend": true,
           "type": "scatter",
           "x": {
            "bdata": "0r+ErRzcDkDiLAytLiUJQDCG0yEr/QZA79T9BgQ9BUDubnWecFEPQAzsAqrjFQlAVsGJOTC8C0BEpEIQixcOQJNJBnkF5hFAg1jG9lPiCEDoTLcT9SQCQI4WoNc7pQVA67kUWRmvAUBhi9UkZTAMQM3h+2OnzwtAPpFppgusEEDg80x5ErMMQJLq+MQkfAZATN2kGA/q/z9vRQE0mtcRQOniB6VhKwtARf85GjqE8z8=",
            "dtype": "f8"
           },
           "xaxis": "x",
           "y": {
            "bdata": "3m+jv/8q5r+Xh06iWXvgvyog3DSAgti/3KfgdUM5y78xPIp+VNLpv7YjKsfTctm/tKH/Q/eT4r/Z/gFxlE/ov/5dYuidW/C/xoaT/Bbj3b8w7QPNknXGvwQog96s2cm/ds7kabd10L+fsE3olSXjv+FwkhHvsOK/r+B+CtXl7r8SwCeh7jziv4xfVHLzxty/mm5Tv5l307/TNwnlIhfvv4w6SYSX/+W/MplZvq40+78=",
            "dtype": "f8"
           },
           "yaxis": "y"
          },
          {
           "hovertemplate": "Label=9<br>Time=6<br>Dimension 1=%{x}<br>Dimension 2=%{y}<extra></extra>",
           "legendgroup": "9",
           "marker": {
            "color": "#FECB52",
            "symbol": "circle"
           },
           "mode": "markers",
           "name": "9",
           "orientation": "v",
           "showlegend": true,
           "type": "scatter",
           "x": {
            "bdata": "XOna5ZKD/j8TIRKRyFwMQBVAFzixWARA2Y1j5yeIB0APM+mMZgEAQKEOc772lfc/F3o8vsxrBEBsvyEWVYTzPwBpD10mJQZA3AcSF+CkC0Bj11cWV0gQQPAAdgLPrxBAf9iV2NcYA0AtdkJeVsEAQOyZ0dhfSwdAVxNPUnR7AkAEvFVk4oULQNtmZlRj1QFAkCvY5BfM9D+yUjSiMeYJQNjgnh2uyfw/zqArP/nQ+T9jKcMOd/8JQA==",
            "dtype": "f8"
           },
           "xaxis": "x",
           "y": {
            "bdata": "VDQgyYvusr/wm+n1NCPkv1qP1vdgbtS/EDcdiyWp3L8IsYqZJj3Av1yzIyzavru/wiSoUbf207+c6gA+gTT7vxBak0EXL9K/KkrNbsGQ4b9Rrne8CIDtv6W3+Dlfze+/OITakU202b88vSKdygrSv8SkUV0emd+/0Hpp+VtLzr9zVCaB5trkv0zB+QxKoti/EBONf0sipL9ahL8+hEvgv1Aa5NADs5i/7FI/clwa1L9IzPXPRHngvw==",
            "dtype": "f8"
           },
           "yaxis": "y"
          },
          {
           "hovertemplate": "Label=10<br>Time=6<br>Dimension 1=%{x}<br>Dimension 2=%{y}<extra></extra>",
           "legendgroup": "10",
           "marker": {
            "color": "#636efa",
            "symbol": "circle"
           },
           "mode": "markers",
           "name": "10",
           "orientation": "v",
           "showlegend": true,
           "type": "scatter",
           "x": {
            "bdata": "LW1pudyBEMCz52LkbMgQQLFr68lmhPM/ZdZcUngxDkBTDgswKeziv4Ywh9un8/g/HEdPcwJQ7r+weJXAi9j5v0j7RiPyW+W/wEnRyQo17z8=",
            "dtype": "f8"
           },
           "xaxis": "x",
           "y": {
            "bdata": "cK8xBJQ58b9XHhRD3gLsv0z8e1ApNPu/d5GR/02f57/1xbiGioYLQPCMqcCFU9g/H1okHhZE6T+fIxkm/9UTwGb5e/mwFAhAfuLtbulNAUA=",
            "dtype": "f8"
           },
           "yaxis": "y"
          }
         ],
         "name": "6"
        },
        {
         "data": [
          {
           "hovertemplate": "Label=0<br>Time=7<br>Dimension 1=%{x}<br>Dimension 2=%{y}<extra></extra>",
           "legendgroup": "0",
           "marker": {
            "color": "#636efa",
            "symbol": "circle"
           },
           "mode": "markers",
           "name": "0",
           "orientation": "v",
           "showlegend": true,
           "type": "scatter",
           "x": {
            "bdata": "rSUaCxyr8b82WkSCU5MIwLI5JfH4nvq/GKA1PhuS8L/t3zXJJhYAwDNnr6dR3ADArX5mrwShBcDrP61yhzQCwFmXIp1bTf6/UrFuJ1UW4r9AKBDCDeYAwAv0KVN0PwHA7vgs/JO4/L86yZcR9xf8v2EVFrmqF/i/8Ihuqzm4A8BC9xWkgfwHwH09cBucCwPAbUZ+q6UX9L/UpNYd3usFwKzaOUevggXAjVb9TJ+w2T8=",
            "dtype": "f8"
           },
           "xaxis": "x",
           "y": {
            "bdata": "wCv4/Gh4AEB+/faOZMD7P2qB3gF7ofY/h6Q1gbXqBECCegzuBl76PwWAwfyWeQJAs/3ZWHR2AUAkpYNgXh/2P06ofA7N4PY/7KNkVcJH9D9G5LVVI/77P34b64Pqmvk/5k9Asf9z+j9glf83K5v7P11GE9fYOQFAEnUoxpQo+T+CzrAaKrb7P2b/1WkuZ/o/IoLJH/2tA0CCe3rhz/r7P4I2ESphAv0/koLsQci0AUA=",
            "dtype": "f8"
           },
           "yaxis": "y"
          },
          {
           "hovertemplate": "Label=1<br>Time=7<br>Dimension 1=%{x}<br>Dimension 2=%{y}<extra></extra>",
           "legendgroup": "1",
           "marker": {
            "color": "#EF553B",
            "symbol": "circle"
           },
           "mode": "markers",
           "name": "1",
           "orientation": "v",
           "showlegend": true,
           "type": "scatter",
           "x": {
            "bdata": "6y6FEvxKDcA/UmhiS5IOwCgMe3ODiQvAIx2POwL9C8B7w2ChhMgLwLQ01WlbzwzAwQdihrYQD8Ab1msvxYUOwBMNYQ+DpAvAouiEc8TrDMAeXsri7ZoMwPo9guFJ0A7Age0XRnCfDcDAqsy7oaINwDRTr+Z/ghDA0FwjGb1gCcAt9n6QZrkMwN2Mq7G8dg3Awb27MmaRD8AirJjVxMYPwGfvYmSwzQ3AvbNWRilBD8Ciynvp18wMwHbbYlnQRBDAmPd7G4k4DsA=",
            "dtype": "f8"
           },
           "xaxis": "x",
           "y": {
            "bdata": "mShlSmgK7L+KJCwfqXbxv5/BFpBuP+e/nwsj0dSr5r9DjCbU7+Pov1uVy3X//ey/bH2Lhgjr8L8p0YEmypvuv5VbwMQI4+q/2S+oMZTN6b+FkNMyoLvov39SLXAoKe6/g/pyOo3x778Vq74D6M7sv8aem7CpS/O/L8u/iL4D5L9n0JF1yIXqv38EoA/Y9um/3D9h4a2x8L+UeEawcdHxv8eVZKxoweq/L8T2Tk727r93wTdj7+fqvyKrfXPjfPK/q3JGKwIX7r8=",
            "dtype": "f8"
           },
           "yaxis": "y"
          },
          {
           "hovertemplate": "Label=2<br>Time=7<br>Dimension 1=%{x}<br>Dimension 2=%{y}<extra></extra>",
           "legendgroup": "2",
           "marker": {
            "color": "#00cc96",
            "symbol": "circle"
           },
           "mode": "markers",
           "name": "2",
           "orientation": "v",
           "showlegend": true,
           "type": "scatter",
           "x": {
            "bdata": "8kqJb49p/L9JCnsOnff6v2D2U0YWSfe/goeBB4NCx7+mLHmWbwHSv+pgFrYvMvu/QQMSooTO87+st90BEO77v+5iOwFKgvS/jwzsWQso97/ViJxWtSb9v99S9TBs4vS/MqwgWrkZ/L+buE1sTcrzvwtCU809Nvm/SLgqyExl97+jKsOPT/X2vxKZVypMu+q/cGOYyETv8r9HkD8PRYTzP8HSuYovmfe/uP1YAzA29r8=",
            "dtype": "f8"
           },
           "xaxis": "x",
           "y": {
            "bdata": "XuErY5Ng+r9KSu/0jabyv+hu56qnRfO/YpBp7R599r90SHmSUCr3v4bguDujmPy/0IpKvTa08r8mVrEJ9lT8v9jbEIsXvfi/2mBWtjqp+r+ZOdCgclICwFrfRO28Kfe/qgBchmQm+r9yaIFgduX8v/YZnDKsVgDAxkHKCOu0+79aXGUHzP72v7qs/79OxeG/HY+QKDfA7b9W9nVLADT7v/y7zEvRJP6/YOKov2MQ9b8=",
            "dtype": "f8"
           },
           "yaxis": "y"
          },
          {
           "hovertemplate": "Label=3<br>Time=7<br>Dimension 1=%{x}<br>Dimension 2=%{y}<extra></extra>",
           "legendgroup": "3",
           "marker": {
            "color": "#ab63fa",
            "symbol": "circle"
           },
           "mode": "markers",
           "name": "3",
           "orientation": "v",
           "showlegend": true,
           "type": "scatter",
           "x": {
            "bdata": "8F4D0Yqt9L/KACQ2QGrZv2jmy5ZMX/a/Jou1h0Ms979YBDKJ+Az1vxDvZUKfUvG/aG+rSvke+L9K5djuUuf2v/5CHCTCiPK/RkhTaiFI97/sFALJHG3rv2kaaaKxYPW/+G7pWeXl9L8/jcVcWVjxvwK9lpJ49fK/wev2dc6K+b9WdNk9AZj1v5/nLXxNr/S/CG0Sob+c+r8IEgQ5LwH5vyGAbsW3U/C/NujLsoyp7b81qucyBrT0v8XgUPGlZfm/tMnZ2KCj5L8=",
            "dtype": "f8"
           },
           "xaxis": "x",
           "y": {
            "bdata": "/W+JwoZVCMBESJb6ntsAwCYrVS6yzRDAASUYQlMxEsDGhehG6ucNwBE+Fx/8lgXA18Yi9wVwE8DW5+j0L94QwB3vaf1W8AjAlz8BtudrC8ASnObHZL/5v8RXxnXtewrA4s/hTJDpBMABykA0lRQCwNojF68ZDA7ASvRUhRa6EcD9ybhDiwMQwO5SQTV6hhDAxOVi90Q4E8DMoHNAWuEQwM6hQIbM8wnAQGXg/2TSA8A0dUTKdIAOwEnEeEkePBLAhazgz6K5AcA=",
            "dtype": "f8"
           },
           "yaxis": "y"
          },
          {
           "hovertemplate": "Label=4<br>Time=7<br>Dimension 1=%{x}<br>Dimension 2=%{y}<extra></extra>",
           "legendgroup": "4",
           "marker": {
            "color": "#FFA15A",
            "symbol": "circle"
           },
           "mode": "markers",
           "name": "4",
           "orientation": "v",
           "showlegend": true,
           "type": "scatter",
           "x": {
            "bdata": "rlHyeJQd4b9g6UCEmVjlP4Ztw4lrw8W/6C9xBKlzoT8GUKozTszmvwcoYYa0Et+/AA7mHJY/ib8w/awtgcvlv4h5a3aCvOu/SXU1uvLY2b+QEFB4sRrsP7DxlahaPOW/+sskp+MM6L9IuY5OgILSvwhv9SUDyeC/OKDbGJpm7L+Eso08lNrpv5iW+8eLX80/tNVT2Wnby7/xM7cGzAnXvwAWxc1aT4A/MIaFrEiK0b/8w42m+Jfsvw==",
            "dtype": "f8"
           },
           "xaxis": "x",
           "y": {
            "bdata": "qcAGnR5PDkA2rvUDaIgJQA+hCBifxQxASVAsamFFC0ASlFh0QmgQQLuJLOZIvw9AIu7hFeegDUA8Zl9aVs0QQKwyfSnTzhBA67/oI8GbDEBQVjPVPeEJQO4R5hJTHgZAJm6MKBnfD0C//86J/cQNQGEUGKgocw1AqjPQSpzNDkCHJzlYcJoQQATTASnQ4g5A7x1GJXrSDkDnyeS3QRcQQHsFiuTQSwdA02h84VBND0DmP6RS5nwMQA==",
            "dtype": "f8"
           },
           "yaxis": "y"
          },
          {
           "hovertemplate": "Label=5<br>Time=7<br>Dimension 1=%{x}<br>Dimension 2=%{y}<extra></extra>",
           "legendgroup": "5",
           "marker": {
            "color": "#19d3f3",
            "symbol": "circle"
           },
           "mode": "markers",
           "name": "5",
           "orientation": "v",
           "showlegend": true,
           "type": "scatter",
           "x": {
            "bdata": "qG1iKr824L8ydHwf7RvPP1T7+GszO8M/5NlYocwk5j80V5vwzNbRv1RPgtYb0+m/II0ETzpp679ocWzaFEOqv9NiuFa0BtI/cP+kqjZan7+2VKz/0WLJv6wYvP7cddu/w4WuJXuZ3790IZjIt0jPP2/wS8j+Vtc/E3v6S8Jf8j9QM+KRkErUP9Yt+awCf9A/Ov9CaRfn6j/SkLE+gerJP1g/qkgf0+U/",
            "dtype": "f8"
           },
           "xaxis": "x",
           "y": {
            "bdata": "IYmJUSm5EEAF1jlLZxkOQLshy1JUewtAgqHZ0G6UC0DuAzff0xoLQNTQO+i5qg5A5x2r4wJYEEDvauXos2IPQFyTvEKvGQ1AIdsBnpwIC0DtXGpYRDAOQH5f04eFRBBAL4LZT+pBDkCtwSrt5qoMQD3LJ/rV5Q1AKQ0U0cwACUAjr0wRRU8LQABUtQ9X/AtAXyVWaFnbCkCWjv993BoQQLePCJPM7wRA",
            "dtype": "f8"
           },
           "yaxis": "y"
          },
          {
           "hovertemplate": "Label=6<br>Time=7<br>Dimension 1=%{x}<br>Dimension 2=%{y}<extra></extra>",
           "legendgroup": "6",
           "marker": {
            "color": "#FF6692",
            "symbol": "circle"
           },
           "mode": "markers",
           "name": "6",
           "orientation": "v",
           "showlegend": true,
           "type": "scatter",
           "x": {
            "bdata": "Rd7OypqXAEC6HSmhUd3yP5m9eT2B/PA/MXnocPsF/D9YCfnAF2rqP2cWJGkky/g/criZPYwx8T/N+SsfKsf3PwfdVxxTG/Q/j4V7uZDY9j/I9MCHf/jlP07J5h+a6/0/50tsDih5+T+WxvU9mTDrPzcKnyqKvfc/RV1z+KUj9z9Z/MrigSL3P1Z5T8Cgk+k/9e08L+mv9T96WBDm4c/yP+/8Dzhg4PM/",
            "dtype": "f8"
           },
           "xaxis": "x",
           "y": {
            "bdata": "Zr1lv1/euz+KDqFdrVLgPw5AJOB4f94/3KWkrTAV0j/wGmEf9JvhP6Y7/mIfTNM/mpYykSrX4T9dYQ98gP3VPyI9b3BsFts/wCin6k6Z2T9+HYduKEDlP2jltOTjFMQ/szXkj59Y1D+sdQOWYZ3VP9aLDjENsdg/RINtlcNW1z/SF2a3A5XWPxhRweV8QOE/ig4Ma3hH2D/d3z0GrmndP/DP2CKTBd4/",
            "dtype": "f8"
           },
           "yaxis": "y"
          },
          {
           "hovertemplate": "Label=7<br>Time=7<br>Dimension 1=%{x}<br>Dimension 2=%{y}<extra></extra>",
           "legendgroup": "7",
           "marker": {
            "color": "#B6E880",
            "symbol": "circle"
           },
           "mode": "markers",
           "name": "7",
           "orientation": "v",
           "showlegend": true,
           "type": "scatter",
           "x": {
            "bdata": "LE1bl+PR/T91E5Eso7n2Pxid16yfyO8/FBsob2jf9D+ODRqav43iP5KpSbsH/Os/jOlSnzZ48D/gmtVC+1/yP8zz/+OHfeI/j11YXjtR9j90rrm6xrXuPyla/dXEu/Y/9ncRQ+iu9T/DFX+FlUn4PxTacJGFPwFA1mjkDcN14D9IpHbn+4f+P/u1xKga6Nk/LP4VyrJk6z/MB+l0MuDpP4fwfSIIOvc/uP7sgYHiAEA=",
            "dtype": "f8"
           },
           "xaxis": "x",
           "y": {
            "bdata": "GHo4TAFU9z9S/ZN96z/7PyU4PQReLwJADzdH01icBkBwEMs5S1UDQLsqPPfDDAZAy8jr/40tCECUuAWy4ycDQN5zWqeq8gNAlVqTPYXaAUAkO/4WGZwFQJzva3UmnAJAjHqKtZA0/T9UI1Ip1nUBQJJX3uXHLgFAUT302xxDAUC1QHPdiA4AQPiiKsfloQFAarMopWoFAkAYTpM8ia4AQH/N96VItgFAbjx6a66h+T8=",
            "dtype": "f8"
           },
           "yaxis": "y"
          },
          {
           "hovertemplate": "Label=8<br>Time=7<br>Dimension 1=%{x}<br>Dimension 2=%{y}<extra></extra>",
           "legendgroup": "8",
           "marker": {
            "color": "#FF97FF",
            "symbol": "circle"
           },
           "mode": "markers",
           "name": "8",
           "orientation": "v",
           "showlegend": true,
           "type": "scatter",
           "x": {
            "bdata": "XzsPi0LBEUD+3iIz0nMQQPANX6oeUAtAZRgbTTkeEEBWZn2WEEUNQPIrcUlzngxAG+yPiXZ3B0BaGu7bnZwPQMShKGFl2g9AbGfMDoIqC0BdpsMqmEgMQHhlRIu0DQ9AxZZ1LhYMEECa46rBlgQTQIAR7GzHQhBAEEwgpAYEDEBD+5QbMscNQArfGWdsgxFA6ehFUnDkEkAGhKnu8TYKQEpdZEvCygpAzBm9imqE8z8=",
            "dtype": "f8"
           },
           "xaxis": "x",
           "y": {
            "bdata": "DgljSWvF5b8A+YkUXP/NvwSMWuBVrOc/8ycEAkug6L+izrrJHLDlP3zpOdzx5uY/SbF7O3t35T9ISViqdajLv8A+/J6M+uI/tSUroaQi1D9ksU8nV7Pgv+to+zbMWOC/7ggofAg52r/5M/qC/Z/tv/iwcLagkLu/GHu8TbFNtr+KNgQTC8i5PyFa9kmy1+2/53ehiXDj5b+gzM3BRzrUvy5I8LhCKt8/Fp1eVJ00+78=",
            "dtype": "f8"
           },
           "yaxis": "y"
          },
          {
           "hovertemplate": "Label=9<br>Time=7<br>Dimension 1=%{x}<br>Dimension 2=%{y}<extra></extra>",
           "legendgroup": "9",
           "marker": {
            "color": "#FECB52",
            "symbol": "circle"
           },
           "mode": "markers",
           "name": "9",
           "orientation": "v",
           "showlegend": true,
           "type": "scatter",
           "x": {
            "bdata": "q4Q5Ufw6CEBPicjUjpEHQOLFOdY3cg9ARc/4cuKjAUDsl4cAg3MTQMJm4HcAEQ9ABaQCb7JnDkAnptcJeITzPyP58XnKlhNAht2AIbIpD0DoFdFKbBsRQHcsepo8CRJA5ILbYYeqDkDJMp032kgRQFVMi+t1jg5ATtfr1n6eEUA7jgwGrZoRQNC41Ojy+A9A4arIVFyMBkCWrmAU7yoOQFUsSzXfMQZAGfYmOZ54BEA/kt9yStELQA==",
            "dtype": "f8"
           },
           "xaxis": "x",
           "y": {
            "bdata": "5pFiekrQtj+8qnUSmz3cP+tSOAcdGuW/wHSzJe0Ffz8cwryDHYnyv14zEv0LAMS/xqIDprNC5r9EwbhJiDT7v9pMHuiHffO/uM/eiZJr279RsWri41fqv2sJ/GMDQOe/zsW+OPGh1r+TXp9cF/jhv1Q0Wty8Pdq/prhG+wwI9r9xdI75JQfqv2iU+6lAaNG/dNC4UpS+yr/QWjOah8jxvz7BG69xF9K/QDNBmcTC0r+jgG6mm8Ppvw==",
            "dtype": "f8"
           },
           "yaxis": "y"
          },
          {
           "hovertemplate": "Label=10<br>Time=7<br>Dimension 1=%{x}<br>Dimension 2=%{y}<extra></extra>",
           "legendgroup": "10",
           "marker": {
            "color": "#636efa",
            "symbol": "circle"
           },
           "mode": "markers",
           "name": "10",
           "orientation": "v",
           "showlegend": true,
           "type": "scatter",
           "x": {
            "bdata": "LeycW4+KEcDY3bThKsQPQO0OMtvG0/y/nIsu5QcFEEDAfuVO14WGv3pQXLbhI/A/xJj+3yNK8b8bOkX8GyDUv2ZCpjdzWeG/pZdfCwHj9T8=",
            "dtype": "f8"
           },
           "xaxis": "x",
           "y": {
            "bdata": "3P3KcsP19b/w8m0PObzxv46BWfrgfwLAMD973nBI0b89FSvk2a8LQL+vT/UaB+E/mMCIzDxU+D8f3/O3fVkRwDDbipNX5xBA5ovCQxSyAUA=",
            "dtype": "f8"
           },
           "yaxis": "y"
          }
         ],
         "name": "7"
        },
        {
         "data": [
          {
           "hovertemplate": "Label=0<br>Time=8<br>Dimension 1=%{x}<br>Dimension 2=%{y}<extra></extra>",
           "legendgroup": "0",
           "marker": {
            "color": "#636efa",
            "symbol": "circle"
           },
           "mode": "markers",
           "name": "0",
           "orientation": "v",
           "showlegend": true,
           "type": "scatter",
           "x": {
            "bdata": "UBBy4Bdi+L8AgrRig5Htv7OF111J/vu/XmVDHEGhAMBSTwDIzojyv+RCCjEkAfW/UlaNVsOA8r+8pJOF0Mbiv7zPPwkrBdS/Kywuykjb9L/wpf3LzCHwvz96N2Zw1fG/TcZGjWsi9b8q6RJjV8L5v8lIg8UHfgDAVK92QKtV87/NXLETUkj4vwy/jU2jd+W/lmmt6fEc7b/mRpf1LKX4v+QZmx9rdeW/qFnTYiiU+r8=",
            "dtype": "f8"
           },
           "xaxis": "x",
           "y": {
            "bdata": "LC7EDK9T8z+WeX+5ZHbqP6Ze5NZH6vQ/fOSNfdve9z9YcARKvT/yP4uc8EEYzPA/AC+1Ys+06j8T/wPvUwPHP3jvpweP+M8/Tr/iPoa18T/O8NyRGU3rP0CDl2tGDeg/HHfJyOHu7z+W8G14yrHsP/7sgTvu0vQ/eAWs8Ngi8j8wPNZnr1LwPw0MyOLHTcs/yaj81cPq6D+sICnDuarzP51AkRuaZ8s/OroUK2Ry9T8=",
            "dtype": "f8"
           },
           "yaxis": "y"
          },
          {
           "hovertemplate": "Label=1<br>Time=8<br>Dimension 1=%{x}<br>Dimension 2=%{y}<extra></extra>",
           "legendgroup": "1",
           "marker": {
            "color": "#EF553B",
            "symbol": "circle"
           },
           "mode": "markers",
           "name": "1",
           "orientation": "v",
           "showlegend": true,
           "type": "scatter",
           "x": {
            "bdata": "ZQARqCg/B8CmGrhGH3ADwAV4Eoge5gXAskC4hdCOAcAbif2zgmoEwHxp6eFvOgTA53GQB6XoBMBl9kuVTZIFwAKlk1BK8QbAizzpULdCBcC1eTPzcSv/v9LGQdprhPM/S5HmesWpBcCj4JJ1Fm8GwJ8iuv6Fzvy/cLnG7h5W/L+2ifch27AFwIjzijRBFQjA/VkchxHHBsBM7Ua3CsAEwA9tg8OFcgjAF3pkExV+CMC2V/75eTMCwK6GineIMQvANCKdftz7AsA=",
            "dtype": "f8"
           },
           "xaxis": "x",
           "y": {
            "bdata": "4mYvA3zJ378MaqPcwjjPvyC7xGtAUNe/VOLTs1cmu7/Icamu24DOv7Lz/otjUNS/hMp3sf2x0b8oL7NsKZTZv2gw8FLejeC/7OVdePJg0r/MXR1PFTu9vyDuj6FnNPu/OIfYu/AO2b8AYhLqVlrXv8Y8RZeXVNG/KujG4LuQx7+Oocn3ohbWv16m9Ps95OC/lrHjSC8v27+Y8Fr2TIzdvxel406zw+C/qUlryX5R4b9spdp4UnjQv5sak+GNgOe/MIRtsWY01L8=",
            "dtype": "f8"
           },
           "yaxis": "y"
          },
          {
           "hovertemplate": "Label=2<br>Time=8<br>Dimension 1=%{x}<br>Dimension 2=%{y}<extra></extra>",
           "legendgroup": "2",
           "marker": {
            "color": "#00cc96",
            "symbol": "circle"
           },
           "mode": "markers",
           "name": "2",
           "orientation": "v",
           "showlegend": true,
           "type": "scatter",
           "x": {
            "bdata": "huvgpcQlA8ApV07HkXP9v4/nKKI/sv+/V0n1qIKR/b8PsqqpPu3xvy1AilwRo/q/jkMPiuKk/7/wtoyqUaT/v4A/mvCgLfK/BEsiF45f/r8PR+5wATr+v8UXLtzj4v2/9LXWU3/H/L+SwiNwrkb+v1E7ELoe6Pi/S7YYZH0q/b8tfSH5ZKP+v5KY9ROfc+e/PPLKMj7mAMA+tAeFs6v2v54149FCKfG/7+S0M3MA+78=",
            "dtype": "f8"
           },
           "xaxis": "x",
           "y": {
            "bdata": "jvTPtQ7mCcB4MMMOmWkBwBtqleW1KgjAyvTl+3LyAMDW4Rw+aZH6v4RpTH2MHv6/kJa6cup4A8Dq4q/WpeYDwK4cSxdKZvW/s4+nyY/EAsB4vYL9gbv+vzm0xGeK8wHA2rh+Q1Ew/r8xen8vj6oAwF4StodRsQTAkS+Yz/2dA8DW7BplwAMBwNYltzbxIPC/NMiLiJXlAcB8Tu649Qr9v37Nz4Z4Qfm/hu/1ohgB/78=",
            "dtype": "f8"
           },
           "yaxis": "y"
          },
          {
           "hovertemplate": "Label=3<br>Time=8<br>Dimension 1=%{x}<br>Dimension 2=%{y}<extra></extra>",
           "legendgroup": "3",
           "marker": {
            "color": "#ab63fa",
            "symbol": "circle"
           },
           "mode": "markers",
           "name": "3",
           "orientation": "v",
           "showlegend": true,
           "type": "scatter",
           "x": {
            "bdata": "MPfanTab7b/mdek8lWHov0c8nnNmY92/VEc5s40E8r/CGHvn8Fjnv5gtTLQgWLs/hItw8ebM6L/YcZSFyjjqvwyy+AfnEfG/QE3QWzRB8L89gZhnnHvev/5zPvwkPPS/ukmcAtrk3r9AnenTlZzvvw7U30mH3Nu/4oyD8VyT579a2n0TbXjov8RziB2ieO+/MO7BO1te7786baEB58nqvzYkPy0wh+m/3ie7NKDbwb90upZfbH/jvw6Szi2nCeq/n9Jcxyo42L8=",
            "dtype": "f8"
           },
           "xaxis": "x",
           "y": {
            "bdata": "um3BCy6c/b+gO4ZX6KL7v24VSxAulPW/h1toDHuZAcAE8kYQSn39vxSIomj4PPe/FvM6KTl2AsC5gZ1ZQxUBwPWFD/COwwfAlysuQr8AAcAUdjOoRaH3vybyB7WfVQfAIFJ5eI7D+b9Hj3+kus8BwCLV78Adxf6/9ryxyK04BMAEqNh11zMBwN2fKe8foADAuM00DMBa/79Sfg1cyQoCwDs0tM1dRAHAEEonf38G8b+qcdN/GQcAwMYnzWXay/W/TywF5DOyAcA=",
            "dtype": "f8"
           },
           "yaxis": "y"
          },
          {
           "hovertemplate": "Label=4<br>Time=8<br>Dimension 1=%{x}<br>Dimension 2=%{y}<extra></extra>",
           "legendgroup": "4",
           "marker": {
            "color": "#FFA15A",
            "symbol": "circle"
           },
           "mode": "markers",
           "name": "4",
           "orientation": "v",
           "showlegend": true,
           "type": "scatter",
           "x": {
            "bdata": "bobWiPSx67+am8toP5npv+jNK+114Oa/hPbxwq8C6b9KgDu/2gHqv6732V6dh+i/RLhVd1JN6b9AKyQggEXsvywdnx20dOe/VntcGpq06b8mgFko8bjov5qpqPrc/um/fPjANVpY579kD/ocC8novxrVF3NLXuW/tu1xYf477L9CPZhDPH3mv6rXt8Q32um/HgQYrugK5L/26/USqYXnv/6ImclB+ui/fklJtNKX5b/Wne3R9Y3ovw==",
            "dtype": "f8"
           },
           "xaxis": "x",
           "y": {
            "bdata": "Uof3DIQtCEAaW7UoBGMKQDlvmZHaxgZANx7GxAB7B0Bfadzxgb4MQOOKqPUSogdA5eCwLgojB0DNu4Kj4QsGQCaIZukvTwVACENSs/25BEC54WccPLIHQDB/rlmCCwNACk1EYtmECECOt0MU/QQHQKDkkfFo2gFAAtttqd9nBkC9WCDpR1kHQNByyLd0jghAdpoVrrD3BkAqhOsFj/kHQNmrgLpRTghA9e4ZiaDUBUCz+FurCzYHQA==",
            "dtype": "f8"
           },
           "yaxis": "y"
          },
          {
           "hovertemplate": "Label=5<br>Time=8<br>Dimension 1=%{x}<br>Dimension 2=%{y}<extra></extra>",
           "legendgroup": "5",
           "marker": {
            "color": "#19d3f3",
            "symbol": "circle"
           },
           "mode": "markers",
           "name": "5",
           "orientation": "v",
           "showlegend": true,
           "type": "scatter",
           "x": {
            "bdata": "43RNCZdK4b/NG836zxfjv41uUfdGYNq/EgEL4wll4r9pkVN4qqbVPxgK9eXlO+O/dqupE0Aj5L/skhIuyKLhv8gXokojFuC/k9lLIoMf4b9SKJtYx0bjvyxxcNHWe+S/0PDBvipz378uHElQUnjivyusAt/nn9+/VbOtiaAx4b/WNutToCnjvxtMl3Sb2uK/4DkHZKMc47+n0XdosfrjvyFW5zjsxN2/",
            "dtype": "f8"
           },
           "xaxis": "x",
           "y": {
            "bdata": "bJ+y0aysDkDFTajio3MLQH6afP/UIANALAoWvYZ8CkC0NfV/2RHjP0vyZYa0Rg1A3+sxQH98DUC/n4BuHJUKQDpy/XmEiQtAIYUlk5C6CkC8mmxCOu0JQOIWmSQ9qQlASI18O3+1CkB2lIDqXbcJQN008BffHQdACwbpm+70CUAwVeQTZKsLQIPiNfOMBwtAdWu8mGZBDkDV/Re7n18NQA12TRD/LARA",
            "dtype": "f8"
           },
           "yaxis": "y"
          },
          {
           "hovertemplate": "Label=6<br>Time=8<br>Dimension 1=%{x}<br>Dimension 2=%{y}<extra></extra>",
           "legendgroup": "6",
           "marker": {
            "color": "#FF6692",
            "symbol": "circle"
           },
           "mode": "markers",
           "name": "6",
           "orientation": "v",
           "showlegend": true,
           "type": "scatter",
           "x": {
            "bdata": "fPAIRNuv4z/CgWjamKbkP/uE1FJqDPE/tVMT3PII+D/+jb4Z4BTjPxAtxPPS7OE/OrwKPXR+5D+OxrLMiCbkP4AiyGrFzuc/KRt9bFlB8D9ONPGjJs/lPxRGbxd3zug/N3lPN6FN8T9oKUZC7uPnP5hzGEpBO+c/oqCn8V7b4j9srsuFlwLsP7pjPxArOug/OkpCspdm5T/db8eor2DzP353sMdFCeU/",
            "dtype": "f8"
           },
           "xaxis": "x",
           "y": {
            "bdata": "7DKh/puE4j+boqFYCyrkPwwgrhYvj90/dmDLnuZf1z+2C7UH0f7HP1e4tkz22eE/vmFibFv95D8O+80STo3lP3K0K5xNWuE//ICvdis54j+6U8czjQviPwKfHag4rOE/ODFcpFR44D/o4f1mN/XbP+RGqDHsZuE/4CUh6t5fzb8mTb6H+sbgP7fmvJaBnOM/VCapknDK4D/wRt++PknbPzx81qSrpuM/",
            "dtype": "f8"
           },
           "yaxis": "y"
          },
          {
           "hovertemplate": "Label=7<br>Time=8<br>Dimension 1=%{x}<br>Dimension 2=%{y}<extra></extra>",
           "legendgroup": "7",
           "marker": {
            "color": "#B6E880",
            "symbol": "circle"
           },
           "mode": "markers",
           "name": "7",
           "orientation": "v",
           "showlegend": true,
           "type": "scatter",
           "x": {
            "bdata": "k399V8Ub3z8+w/nuTj7lP7qeNmmNfOE/MFRtwDvm6D+6jk4dOoTzPyy07GHg9eI/xsg64IAj4z9A2YPuaWHhP7E6/MmtMt0/nOdq8G814T90u3v+kqrjP0VGjFT2Rd8/yqi3BgtP4D+C53NM3yvlP17nWb1khOI/R1wNyKQ+2j/YV6S6P4TzP26abZfLCeQ/ZBmxTEA74D/7F52VJzjbP4bK6uj+s+c/6m2iQFtV4T8=",
            "dtype": "f8"
           },
           "xaxis": "x",
           "y": {
            "bdata": "+BJkBud47z/uNfb1VOf4P97SOFAdh/Q/eEB+JkZs/D+M08iEgTT7v4JP2gSWSvk/LK2Hr+xM/T9UCHKU5EPzP24H0Ull0vU/rjSB5Hp7+T9Wkt56pPr2P+45Um5nVfU/YqwGxsGv9T8+hlBYQhzbPxice/oJevU/bUN6jeAb8D/mL9IqejT7v/TT8pEHUfk/2oIFOkQz+T8gXws3+rP4Pxa5EznWdfw/LjpU+ymo+D8=",
            "dtype": "f8"
           },
           "yaxis": "y"
          },
          {
           "hovertemplate": "Label=8<br>Time=8<br>Dimension 1=%{x}<br>Dimension 2=%{y}<extra></extra>",
           "legendgroup": "8",
           "marker": {
            "color": "#FF97FF",
            "symbol": "circle"
           },
           "mode": "markers",
           "name": "8",
           "orientation": "v",
           "showlegend": true,
           "type": "scatter",
           "x": {
            "bdata": "OGyjLet0AUDCnNa7uy4LQOqOGz6O0xBAcWyc6iWyDkArNVuF5/0MQCtxX/GyqAhAmPBgjCAnEkDzl6sTkloQQE4Z3U2naRBAojmX0iydDUDgL2NSnSMLQKNoVDKwQQtAv7E+ruLNBEAJFXVwX+IEQJQSfoKXqg9AVLrybRQ4EEB0sA35014MQCLxy5G7UwpAq0IujPxRDkC1yn+Ib9sKQKlx8mzn6BBAfttNU1OE8z8=",
            "dtype": "f8"
           },
           "xaxis": "x",
           "y": {
            "bdata": "2B8r+xH9ob+x0xjIpo/hv7XPTVrUh+6/+g2GA65h5r9Loe7x1lfjv3KInE6LA9i/mtH02CtC8b/91pQiyM3sv3dycHx4yu2/Jf666Jwh6b9ezFKRXljjvxKKRnsPh96/TicWNyl01b8IylqY+5jPv395IhBue+i/c9NMYHPi7L8desiz/JrgvxPgG9IisOG/ld6E0U1C579EqQGzVCXhv8vVttWBWe2/FqP4j6Q0+78=",
            "dtype": "f8"
           },
           "yaxis": "y"
          },
          {
           "hovertemplate": "Label=9<br>Time=8<br>Dimension 1=%{x}<br>Dimension 2=%{y}<extra></extra>",
           "legendgroup": "9",
           "marker": {
            "color": "#FECB52",
            "symbol": "circle"
           },
           "mode": "markers",
           "name": "9",
           "orientation": "v",
           "showlegend": true,
           "type": "scatter",
           "x": {
            "bdata": "rVKj3BcfAECu2avvbYoDQPgCnjzDBwdAY7fDGLSzAUDFKqO31ksKQEFY1av/Xvs/U7lDJTOBAkBehIP+OITzP8Dx9T5eiQJAoAp1Lbo2DEAuq3Qpt80DQKah/1ww4AtAxhIvTJdADEDuDdEhVoUGQPCmYRDwUQdA08QIQODEB0AKzzU3ZE/7P9EmCI8bKwJAx8oKv/5/BkB4d5ucpIwLQIEFp8IfagFAMKls7zmE8z9Vop7ETTIAQA==",
            "dtype": "f8"
           },
           "xaxis": "x",
           "y": {
            "bdata": "qHW5Gauwwr+ygBlNXzjQv+y8EIawmtO/KNHFKM5Ny7/Ove9UtAbjv+C8mvZbgbQ/HJojOmXWt78+WihedjT7v+rhk1KLQcO/tP5WUAhW5b9gl1izRgfRv49NsLg54eO/tcgMsSMt6b98lGmDmuLMv3Yzn8dhJdW/oJE/qlqs1b84ISjA5UHgv7InvwM5K8q/QP1Tkikx1b94TvnDXPXjv3L/pqQyNcC/FC60ErE0+78yPPAT8gXRvw==",
            "dtype": "f8"
           },
           "yaxis": "y"
          },
          {
           "hovertemplate": "Label=10<br>Time=8<br>Dimension 1=%{x}<br>Dimension 2=%{y}<extra></extra>",
           "legendgroup": "10",
           "marker": {
            "color": "#636efa",
            "symbol": "circle"
           },
           "mode": "markers",
           "name": "10",
           "orientation": "v",
           "showlegend": true,
           "type": "scatter",
           "x": {
            "bdata": "X8CxhS9JEMD3hOYj7SQOQNiy+KkjFQLANZBOY6ZzDUAuM0t+o4/rvyDJt0zbD+k/i1RGIP9x978M3YL+/pTnv3h5cPqGRuO/qvmSen0a4D8=",
            "dtype": "f8"
           },
           "xaxis": "x",
           "y": {
            "bdata": "rLpOHPUf8b9IZcrb25Llv32zBwGHxgfAAAnMseAa5b9pV4Ira/MKQFGZLtBtcN0/pNMYuMRE9D/CBpT1ehcAwNhQmaTB2gtAoC4fuiXV+D8=",
            "dtype": "f8"
           },
           "yaxis": "y"
          }
         ],
         "name": "8"
        }
       ],
       "layout": {
        "legend": {
         "title": {
          "text": "Label"
         },
         "tracegroupgap": 0
        },
        "margin": {
         "t": 60
        },
        "sliders": [
         {
          "active": 0,
          "currentvalue": {
           "prefix": "Time="
          },
          "len": 0.9,
          "pad": {
           "b": 10,
           "t": 60
          },
          "steps": [
           {
            "args": [
             [
              "0"
             ],
             {
              "frame": {
               "duration": 0,
               "redraw": false
              },
              "fromcurrent": true,
              "mode": "immediate",
              "transition": {
               "duration": 0,
               "easing": "linear"
              }
             }
            ],
            "label": "0",
            "method": "animate"
           },
           {
            "args": [
             [
              "1"
             ],
             {
              "frame": {
               "duration": 0,
               "redraw": false
              },
              "fromcurrent": true,
              "mode": "immediate",
              "transition": {
               "duration": 0,
               "easing": "linear"
              }
             }
            ],
            "label": "1",
            "method": "animate"
           },
           {
            "args": [
             [
              "2"
             ],
             {
              "frame": {
               "duration": 0,
               "redraw": false
              },
              "fromcurrent": true,
              "mode": "immediate",
              "transition": {
               "duration": 0,
               "easing": "linear"
              }
             }
            ],
            "label": "2",
            "method": "animate"
           },
           {
            "args": [
             [
              "3"
             ],
             {
              "frame": {
               "duration": 0,
               "redraw": false
              },
              "fromcurrent": true,
              "mode": "immediate",
              "transition": {
               "duration": 0,
               "easing": "linear"
              }
             }
            ],
            "label": "3",
            "method": "animate"
           },
           {
            "args": [
             [
              "4"
             ],
             {
              "frame": {
               "duration": 0,
               "redraw": false
              },
              "fromcurrent": true,
              "mode": "immediate",
              "transition": {
               "duration": 0,
               "easing": "linear"
              }
             }
            ],
            "label": "4",
            "method": "animate"
           },
           {
            "args": [
             [
              "5"
             ],
             {
              "frame": {
               "duration": 0,
               "redraw": false
              },
              "fromcurrent": true,
              "mode": "immediate",
              "transition": {
               "duration": 0,
               "easing": "linear"
              }
             }
            ],
            "label": "5",
            "method": "animate"
           },
           {
            "args": [
             [
              "6"
             ],
             {
              "frame": {
               "duration": 0,
               "redraw": false
              },
              "fromcurrent": true,
              "mode": "immediate",
              "transition": {
               "duration": 0,
               "easing": "linear"
              }
             }
            ],
            "label": "6",
            "method": "animate"
           },
           {
            "args": [
             [
              "7"
             ],
             {
              "frame": {
               "duration": 0,
               "redraw": false
              },
              "fromcurrent": true,
              "mode": "immediate",
              "transition": {
               "duration": 0,
               "easing": "linear"
              }
             }
            ],
            "label": "7",
            "method": "animate"
           },
           {
            "args": [
             [
              "8"
             ],
             {
              "frame": {
               "duration": 0,
               "redraw": false
              },
              "fromcurrent": true,
              "mode": "immediate",
              "transition": {
               "duration": 0,
               "easing": "linear"
              }
             }
            ],
            "label": "8",
            "method": "animate"
           }
          ],
          "x": 0.1,
          "xanchor": "left",
          "y": 0,
          "yanchor": "top"
         }
        ],
        "template": {
         "data": {
          "bar": [
           {
            "error_x": {
             "color": "#2a3f5f"
            },
            "error_y": {
             "color": "#2a3f5f"
            },
            "marker": {
             "line": {
              "color": "#E5ECF6",
              "width": 0.5
             },
             "pattern": {
              "fillmode": "overlay",
              "size": 10,
              "solidity": 0.2
             }
            },
            "type": "bar"
           }
          ],
          "barpolar": [
           {
            "marker": {
             "line": {
              "color": "#E5ECF6",
              "width": 0.5
             },
             "pattern": {
              "fillmode": "overlay",
              "size": 10,
              "solidity": 0.2
             }
            },
            "type": "barpolar"
           }
          ],
          "carpet": [
           {
            "aaxis": {
             "endlinecolor": "#2a3f5f",
             "gridcolor": "white",
             "linecolor": "white",
             "minorgridcolor": "white",
             "startlinecolor": "#2a3f5f"
            },
            "baxis": {
             "endlinecolor": "#2a3f5f",
             "gridcolor": "white",
             "linecolor": "white",
             "minorgridcolor": "white",
             "startlinecolor": "#2a3f5f"
            },
            "type": "carpet"
           }
          ],
          "choropleth": [
           {
            "colorbar": {
             "outlinewidth": 0,
             "ticks": ""
            },
            "type": "choropleth"
           }
          ],
          "contour": [
           {
            "colorbar": {
             "outlinewidth": 0,
             "ticks": ""
            },
            "colorscale": [
             [
              0,
              "#0d0887"
             ],
             [
              0.1111111111111111,
              "#46039f"
             ],
             [
              0.2222222222222222,
              "#7201a8"
             ],
             [
              0.3333333333333333,
              "#9c179e"
             ],
             [
              0.4444444444444444,
              "#bd3786"
             ],
             [
              0.5555555555555556,
              "#d8576b"
             ],
             [
              0.6666666666666666,
              "#ed7953"
             ],
             [
              0.7777777777777778,
              "#fb9f3a"
             ],
             [
              0.8888888888888888,
              "#fdca26"
             ],
             [
              1,
              "#f0f921"
             ]
            ],
            "type": "contour"
           }
          ],
          "contourcarpet": [
           {
            "colorbar": {
             "outlinewidth": 0,
             "ticks": ""
            },
            "type": "contourcarpet"
           }
          ],
          "heatmap": [
           {
            "colorbar": {
             "outlinewidth": 0,
             "ticks": ""
            },
            "colorscale": [
             [
              0,
              "#0d0887"
             ],
             [
              0.1111111111111111,
              "#46039f"
             ],
             [
              0.2222222222222222,
              "#7201a8"
             ],
             [
              0.3333333333333333,
              "#9c179e"
             ],
             [
              0.4444444444444444,
              "#bd3786"
             ],
             [
              0.5555555555555556,
              "#d8576b"
             ],
             [
              0.6666666666666666,
              "#ed7953"
             ],
             [
              0.7777777777777778,
              "#fb9f3a"
             ],
             [
              0.8888888888888888,
              "#fdca26"
             ],
             [
              1,
              "#f0f921"
             ]
            ],
            "type": "heatmap"
           }
          ],
          "histogram": [
           {
            "marker": {
             "pattern": {
              "fillmode": "overlay",
              "size": 10,
              "solidity": 0.2
             }
            },
            "type": "histogram"
           }
          ],
          "histogram2d": [
           {
            "colorbar": {
             "outlinewidth": 0,
             "ticks": ""
            },
            "colorscale": [
             [
              0,
              "#0d0887"
             ],
             [
              0.1111111111111111,
              "#46039f"
             ],
             [
              0.2222222222222222,
              "#7201a8"
             ],
             [
              0.3333333333333333,
              "#9c179e"
             ],
             [
              0.4444444444444444,
              "#bd3786"
             ],
             [
              0.5555555555555556,
              "#d8576b"
             ],
             [
              0.6666666666666666,
              "#ed7953"
             ],
             [
              0.7777777777777778,
              "#fb9f3a"
             ],
             [
              0.8888888888888888,
              "#fdca26"
             ],
             [
              1,
              "#f0f921"
             ]
            ],
            "type": "histogram2d"
           }
          ],
          "histogram2dcontour": [
           {
            "colorbar": {
             "outlinewidth": 0,
             "ticks": ""
            },
            "colorscale": [
             [
              0,
              "#0d0887"
             ],
             [
              0.1111111111111111,
              "#46039f"
             ],
             [
              0.2222222222222222,
              "#7201a8"
             ],
             [
              0.3333333333333333,
              "#9c179e"
             ],
             [
              0.4444444444444444,
              "#bd3786"
             ],
             [
              0.5555555555555556,
              "#d8576b"
             ],
             [
              0.6666666666666666,
              "#ed7953"
             ],
             [
              0.7777777777777778,
              "#fb9f3a"
             ],
             [
              0.8888888888888888,
              "#fdca26"
             ],
             [
              1,
              "#f0f921"
             ]
            ],
            "type": "histogram2dcontour"
           }
          ],
          "mesh3d": [
           {
            "colorbar": {
             "outlinewidth": 0,
             "ticks": ""
            },
            "type": "mesh3d"
           }
          ],
          "parcoords": [
           {
            "line": {
             "colorbar": {
              "outlinewidth": 0,
              "ticks": ""
             }
            },
            "type": "parcoords"
           }
          ],
          "pie": [
           {
            "automargin": true,
            "type": "pie"
           }
          ],
          "scatter": [
           {
            "fillpattern": {
             "fillmode": "overlay",
             "size": 10,
             "solidity": 0.2
            },
            "type": "scatter"
           }
          ],
          "scatter3d": [
           {
            "line": {
             "colorbar": {
              "outlinewidth": 0,
              "ticks": ""
             }
            },
            "marker": {
             "colorbar": {
              "outlinewidth": 0,
              "ticks": ""
             }
            },
            "type": "scatter3d"
           }
          ],
          "scattercarpet": [
           {
            "marker": {
             "colorbar": {
              "outlinewidth": 0,
              "ticks": ""
             }
            },
            "type": "scattercarpet"
           }
          ],
          "scattergeo": [
           {
            "marker": {
             "colorbar": {
              "outlinewidth": 0,
              "ticks": ""
             }
            },
            "type": "scattergeo"
           }
          ],
          "scattergl": [
           {
            "marker": {
             "colorbar": {
              "outlinewidth": 0,
              "ticks": ""
             }
            },
            "type": "scattergl"
           }
          ],
          "scattermap": [
           {
            "marker": {
             "colorbar": {
              "outlinewidth": 0,
              "ticks": ""
             }
            },
            "type": "scattermap"
           }
          ],
          "scattermapbox": [
           {
            "marker": {
             "colorbar": {
              "outlinewidth": 0,
              "ticks": ""
             }
            },
            "type": "scattermapbox"
           }
          ],
          "scatterpolar": [
           {
            "marker": {
             "colorbar": {
              "outlinewidth": 0,
              "ticks": ""
             }
            },
            "type": "scatterpolar"
           }
          ],
          "scatterpolargl": [
           {
            "marker": {
             "colorbar": {
              "outlinewidth": 0,
              "ticks": ""
             }
            },
            "type": "scatterpolargl"
           }
          ],
          "scatterternary": [
           {
            "marker": {
             "colorbar": {
              "outlinewidth": 0,
              "ticks": ""
             }
            },
            "type": "scatterternary"
           }
          ],
          "surface": [
           {
            "colorbar": {
             "outlinewidth": 0,
             "ticks": ""
            },
            "colorscale": [
             [
              0,
              "#0d0887"
             ],
             [
              0.1111111111111111,
              "#46039f"
             ],
             [
              0.2222222222222222,
              "#7201a8"
             ],
             [
              0.3333333333333333,
              "#9c179e"
             ],
             [
              0.4444444444444444,
              "#bd3786"
             ],
             [
              0.5555555555555556,
              "#d8576b"
             ],
             [
              0.6666666666666666,
              "#ed7953"
             ],
             [
              0.7777777777777778,
              "#fb9f3a"
             ],
             [
              0.8888888888888888,
              "#fdca26"
             ],
             [
              1,
              "#f0f921"
             ]
            ],
            "type": "surface"
           }
          ],
          "table": [
           {
            "cells": {
             "fill": {
              "color": "#EBF0F8"
             },
             "line": {
              "color": "white"
             }
            },
            "header": {
             "fill": {
              "color": "#C8D4E3"
             },
             "line": {
              "color": "white"
             }
            },
            "type": "table"
           }
          ]
         },
         "layout": {
          "annotationdefaults": {
           "arrowcolor": "#2a3f5f",
           "arrowhead": 0,
           "arrowwidth": 1
          },
          "autotypenumbers": "strict",
          "coloraxis": {
           "colorbar": {
            "outlinewidth": 0,
            "ticks": ""
           }
          },
          "colorscale": {
           "diverging": [
            [
             0,
             "#8e0152"
            ],
            [
             0.1,
             "#c51b7d"
            ],
            [
             0.2,
             "#de77ae"
            ],
            [
             0.3,
             "#f1b6da"
            ],
            [
             0.4,
             "#fde0ef"
            ],
            [
             0.5,
             "#f7f7f7"
            ],
            [
             0.6,
             "#e6f5d0"
            ],
            [
             0.7,
             "#b8e186"
            ],
            [
             0.8,
             "#7fbc41"
            ],
            [
             0.9,
             "#4d9221"
            ],
            [
             1,
             "#276419"
            ]
           ],
           "sequential": [
            [
             0,
             "#0d0887"
            ],
            [
             0.1111111111111111,
             "#46039f"
            ],
            [
             0.2222222222222222,
             "#7201a8"
            ],
            [
             0.3333333333333333,
             "#9c179e"
            ],
            [
             0.4444444444444444,
             "#bd3786"
            ],
            [
             0.5555555555555556,
             "#d8576b"
            ],
            [
             0.6666666666666666,
             "#ed7953"
            ],
            [
             0.7777777777777778,
             "#fb9f3a"
            ],
            [
             0.8888888888888888,
             "#fdca26"
            ],
            [
             1,
             "#f0f921"
            ]
           ],
           "sequentialminus": [
            [
             0,
             "#0d0887"
            ],
            [
             0.1111111111111111,
             "#46039f"
            ],
            [
             0.2222222222222222,
             "#7201a8"
            ],
            [
             0.3333333333333333,
             "#9c179e"
            ],
            [
             0.4444444444444444,
             "#bd3786"
            ],
            [
             0.5555555555555556,
             "#d8576b"
            ],
            [
             0.6666666666666666,
             "#ed7953"
            ],
            [
             0.7777777777777778,
             "#fb9f3a"
            ],
            [
             0.8888888888888888,
             "#fdca26"
            ],
            [
             1,
             "#f0f921"
            ]
           ]
          },
          "colorway": [
           "#636efa",
           "#EF553B",
           "#00cc96",
           "#ab63fa",
           "#FFA15A",
           "#19d3f3",
           "#FF6692",
           "#B6E880",
           "#FF97FF",
           "#FECB52"
          ],
          "font": {
           "color": "#2a3f5f"
          },
          "geo": {
           "bgcolor": "white",
           "lakecolor": "white",
           "landcolor": "#E5ECF6",
           "showlakes": true,
           "showland": true,
           "subunitcolor": "white"
          },
          "hoverlabel": {
           "align": "left"
          },
          "hovermode": "closest",
          "mapbox": {
           "style": "light"
          },
          "paper_bgcolor": "white",
          "plot_bgcolor": "#E5ECF6",
          "polar": {
           "angularaxis": {
            "gridcolor": "white",
            "linecolor": "white",
            "ticks": ""
           },
           "bgcolor": "#E5ECF6",
           "radialaxis": {
            "gridcolor": "white",
            "linecolor": "white",
            "ticks": ""
           }
          },
          "scene": {
           "xaxis": {
            "backgroundcolor": "#E5ECF6",
            "gridcolor": "white",
            "gridwidth": 2,
            "linecolor": "white",
            "showbackground": true,
            "ticks": "",
            "zerolinecolor": "white"
           },
           "yaxis": {
            "backgroundcolor": "#E5ECF6",
            "gridcolor": "white",
            "gridwidth": 2,
            "linecolor": "white",
            "showbackground": true,
            "ticks": "",
            "zerolinecolor": "white"
           },
           "zaxis": {
            "backgroundcolor": "#E5ECF6",
            "gridcolor": "white",
            "gridwidth": 2,
            "linecolor": "white",
            "showbackground": true,
            "ticks": "",
            "zerolinecolor": "white"
           }
          },
          "shapedefaults": {
           "line": {
            "color": "#2a3f5f"
           }
          },
          "ternary": {
           "aaxis": {
            "gridcolor": "white",
            "linecolor": "white",
            "ticks": ""
           },
           "baxis": {
            "gridcolor": "white",
            "linecolor": "white",
            "ticks": ""
           },
           "bgcolor": "#E5ECF6",
           "caxis": {
            "gridcolor": "white",
            "linecolor": "white",
            "ticks": ""
           }
          },
          "title": {
           "x": 0.05
          },
          "xaxis": {
           "automargin": true,
           "gridcolor": "white",
           "linecolor": "white",
           "ticks": "",
           "title": {
            "standoff": 15
           },
           "zerolinecolor": "white",
           "zerolinewidth": 2
          },
          "yaxis": {
           "automargin": true,
           "gridcolor": "white",
           "linecolor": "white",
           "ticks": "",
           "title": {
            "standoff": 15
           },
           "zerolinecolor": "white",
           "zerolinewidth": 2
          }
         }
        },
        "updatemenus": [
         {
          "buttons": [
           {
            "args": [
             null,
             {
              "frame": {
               "duration": 500,
               "redraw": false
              },
              "fromcurrent": true,
              "mode": "immediate",
              "transition": {
               "duration": 500,
               "easing": "linear"
              }
             }
            ],
            "label": "&#9654;",
            "method": "animate"
           },
           {
            "args": [
             [
              null
             ],
             {
              "frame": {
               "duration": 0,
               "redraw": false
              },
              "fromcurrent": true,
              "mode": "immediate",
              "transition": {
               "duration": 0,
               "easing": "linear"
              }
             }
            ],
            "label": "&#9724;",
            "method": "animate"
           }
          ],
          "direction": "left",
          "pad": {
           "r": 10,
           "t": 70
          },
          "showactive": false,
          "type": "buttons",
          "x": 0.1,
          "xanchor": "right",
          "y": 0,
          "yanchor": "top"
         }
        ],
        "xaxis": {
         "anchor": "y",
         "domain": [
          0,
          1
         ],
         "range": [
          -4.780440583410095,
          6.7081502727476785
         ],
         "title": {
          "text": "Dimension 1"
         }
        },
        "yaxis": {
         "anchor": "x",
         "domain": [
          0,
          1
         ],
         "range": [
          -6.213710149030759,
          4.62180531853325
         ],
         "title": {
          "text": "Dimension 2"
         }
        }
       }
      }
     },
     "metadata": {},
     "output_type": "display_data"
    }
   ],
   "source": [
    "# Animated plot\n",
    "spatial_node_labels = node_labels[0:n]\n",
    "anim_fig = eb.quick_plot(emb, n, T, node_labels=spatial_node_labels)"
   ]
  },
  {
   "cell_type": "code",
   "execution_count": 28,
   "metadata": {},
   "outputs": [
    {
     "data": {
      "image/png": "[encoded data removed]",
      "text/plain": [
       "<Figure size 1000x500 with 2 Axes>"
      ]
     },
     "metadata": {},
     "output_type": "display_data"
    }
   ],
   "source": [
    "# Plot specific snapshots \n",
    "\n",
    "# Select snapshots to be shown\n",
    "points_of_interest = [0, 5]\n",
    "point_labels = [\"Classtime\", \"Lunchtime\"]\n",
    "\n",
    "# Plot the snapshots\n",
    "snap_fig = eb.snapshot_plot(\n",
    "    emb.reshape(T, n, 2),\n",
    "    node_labels = spatial_node_labels,\n",
    "    idx_of_interest = points_of_interest,\n",
    "    title=point_labels,\n",
    "    sharex = True,\n",
    "    sharey = True,\n",
    "    tick_labels = True,\n",
    "    add_legend=True,\n",
    "    cmap=\"tab20\"\n",
    ")"
   ]
  }
 ],
 "metadata": {
  "kernelspec": {
   "display_name": ".venv",
   "language": "python",
   "name": "python3"
  },
  "language_info": {
   "codemirror_mode": {
    "name": "ipython",
    "version": 3
   },
   "file_extension": ".py",
   "mimetype": "text/x-python",
   "name": "python",
   "nbconvert_exporter": "python",
   "pygments_lexer": "ipython3",
   "version": "3.12.10"
  }
 },
 "nbformat": 4,
 "nbformat_minor": 2
}
