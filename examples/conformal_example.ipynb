{
 "cells": [
  {
   "cell_type": "code",
   "execution_count": 1,
   "metadata": {},
   "outputs": [],
   "source": [
    "# %%\n",
    "import numpy as np\n",
    "from tqdm import tqdm\n",
    "import copy\n",
    "import torch\n",
    "from data import get_school_data\n",
    "\n",
    "from ugnn.networks import Dynamic_Network, Unfolded_Network\n",
    "from ugnn.utils.masks import non_zero_degree_mask, mask_split, pad_unfolded_mask\n",
    "from ugnn.gnns import GCN, train, valid\n",
    "from ugnn.conformal import get_prediction_sets"
   ]
  },
  {
   "cell_type": "markdown",
   "metadata": {},
   "source": [
    "### Load data"
   ]
  },
  {
   "cell_type": "code",
   "execution_count": 2,
   "metadata": {},
   "outputs": [
    {
     "name": "stdout",
     "output_type": "stream",
     "text": [
      "Number of time windows: 9\n",
      "Number of nodes: 236\n"
     ]
    }
   ],
   "source": [
    "# %%\n",
    "As, node_labels, all_labels = get_school_data(return_all_labels=True)\n",
    "T = len(As)\n",
    "n = As[0].shape[0]\n",
    "num_classes = len(np.unique(node_labels))\n",
    "\n",
    "# Convert to a torch geometric dataset containing T graphs\n",
    "dyn_network = Dynamic_Network(As, node_labels)\n",
    "\n",
    "# Unfold the T graphs into a single graph\n",
    "unf_network = Unfolded_Network(dyn_network)[0]\n"
   ]
  },
  {
   "cell_type": "markdown",
   "metadata": {},
   "source": [
    "### Set up masks for the specified regime"
   ]
  },
  {
   "cell_type": "code",
   "execution_count": 3,
   "metadata": {},
   "outputs": [],
   "source": [
    "# %%\n",
    "# See https://arxiv.org/abs/2405.19230 for details on different regimes\n",
    "regime = \"temporal transductive\"\n",
    "data_mask = non_zero_degree_mask(As, n, T)\n",
    "train_mask, valid_mask, calib_mask, test_mask = mask_split(\n",
    "    data_mask, split_props=[0.2, 0.1, 0.35, 0.35], regime=regime\n",
    ")\n",
    "\n",
    "# Pad masks to include anchor nodes (required when unfolding)\n",
    "train_mask = pad_unfolded_mask(train_mask, n)\n",
    "valid_mask = pad_unfolded_mask(valid_mask, n)\n",
    "calib_mask = pad_unfolded_mask(calib_mask, n)\n",
    "test_mask = pad_unfolded_mask(test_mask, n)\n"
   ]
  },
  {
   "cell_type": "markdown",
   "metadata": {},
   "source": [
    "### Train a UGCN"
   ]
  },
  {
   "cell_type": "code",
   "execution_count": 4,
   "metadata": {},
   "outputs": [
    {
     "name": "stderr",
     "output_type": "stream",
     "text": [
      "100%|██████████| 200/200 [00:04<00:00, 43.44it/s]"
     ]
    },
    {
     "name": "stdout",
     "output_type": "stream",
     "text": [
      "Test accuracy: 0.950\n"
     ]
    },
    {
     "name": "stderr",
     "output_type": "stream",
     "text": [
      "\n"
     ]
    }
   ],
   "source": [
    "# %%\n",
    "model = GCN(\n",
    "    num_nodes=unf_network.num_nodes, num_channels=16, num_classes=num_classes, seed=123\n",
    ")\n",
    "optimizer = torch.optim.Adam(model.parameters(), lr=0.01, weight_decay=5e-4)\n",
    "\n",
    "max_valid_acc = 0\n",
    "for epoch in tqdm(range(200)):\n",
    "    _ = train(model, unf_network, train_mask, optimizer)\n",
    "    valid_acc = valid(model, unf_network, valid_mask)\n",
    "\n",
    "    if valid_acc > max_valid_acc:\n",
    "        max_valid_acc = valid_acc\n",
    "        best_model = copy.deepcopy(model)\n",
    "\n",
    "test_acc = valid(model, unf_network, test_mask)\n",
    "print(f\"Test accuracy: {test_acc:0.3f}\")\n"
   ]
  },
  {
   "cell_type": "markdown",
   "metadata": {},
   "source": [
    "### Compute conformal prediction sets"
   ]
  },
  {
   "cell_type": "code",
   "execution_count": 5,
   "metadata": {},
   "outputs": [
    {
     "name": "stdout",
     "output_type": "stream",
     "text": [
      "Node 1937 (True label 2A): ['1B', '2A', '2B', '3A', '4B']\n",
      "Node 2168 (True label 1B): ['1B', '2A', '2B']\n",
      "Node 1735 (True label 2B): ['2A', '3A', '3B', '4A', '4B', '5A', '5B', 'Teachers']\n",
      "Node 1988 (True label 3A): ['1A', '3A', '3B', '4B', '5B']\n",
      "Node 2110 (True label 5B): ['1A', '3A', '3B', '4B']\n",
      "Node 1663 (True label 1A): []\n",
      "Node 1998 (True label 3A): ['1A', '3A', '3B']\n",
      "Node 1840 (True label 5A): ['2B', '3A', '4B', '5A', '5B', 'Teachers']\n",
      "Node 2199 (True label 2B): ['1B', '3A', '3B', '4A', '4B', '5A', '5B', 'Teachers']\n",
      "Node 2020 (True label 3B): ['4A']\n"
     ]
    }
   ],
   "source": [
    "# %%\n",
    "output = best_model(unf_network.x, unf_network.edge_index, unf_network.edge_weight)\n",
    "all_pred_sets = get_prediction_sets(\n",
    "    output, unf_network, calib_mask, test_mask, alpha=0.1\n",
    ")\n",
    "\n",
    "for calib_node_idx in np.random.randint(len(all_pred_sets), size=10):\n",
    "    node_pred_set = all_pred_sets[calib_node_idx]\n",
    "    node_idx = np.where(calib_mask == 1)[0][calib_node_idx]\n",
    "\n",
    "    # Convert predictions to label names\n",
    "    possible_labels_for_node = [\n",
    "        str(all_labels[pred]) for pred in np.where(node_pred_set == 1)[0]\n",
    "    ]\n",
    "    print(\n",
    "        f\"Node {node_idx} (True label {str(all_labels[unf_network.y[node_idx]])}): {possible_labels_for_node}\"\n",
    "    )"
   ]
  },
  {
   "cell_type": "code",
   "execution_count": 8,
   "metadata": {},
   "outputs": [
    {
     "name": "stdout",
     "output_type": "stream",
     "text": [
      "Penalty: 0.0, Avg size: 3.5548961424332344\n",
      "Penalty: 1e-05, Avg size: 3.5548961424332344\n",
      "Penalty: 0.0001, Avg size: 3.5548961424332344\n",
      "Penalty: 0.001, Avg size: 3.5548961424332344\n",
      "Penalty: 0.01, Avg size: 3.5548961424332344\n",
      "Penalty: 0.1, Avg size: 3.5548961424332344\n",
      "Penalty: 0.5, Avg size: 3.5548961424332344\n",
      "\n",
      "Best penalty: 0.0\n",
      "Node 2206 (True label 2B): ['1B', '3A', '3B', '4B']\n",
      "Node 1742 (True label 2B): ['1A', '2A', '3A', '3B', '4B', 'Teachers']\n",
      "Node 2081 (True label 5A): ['4A', '4B', '5A', '5B', 'Teachers']\n",
      "Node 1765 (True label 3A): ['1A', '1B', '3A', '3B', '4B']\n",
      "Node 1897 (True label 1A): ['4B']\n",
      "Node 1957 (True label 2B): ['1B', '2A', '2B']\n",
      "Node 2156 (True label 1B): ['1B', '2A', '2B', '3A']\n",
      "Node 1672 (True label 1A): ['1B', '2B']\n",
      "Node 1995 (True label 3A): ['1A', '3A', '3B', '4B']\n",
      "Node 1906 (True label 1A): ['1A', '3A', '3B', '4B']\n"
     ]
    }
   ],
   "source": [
    "from ugnn.conformal import new_get_prediction_sets\n",
    "\n",
    "# %%\n",
    "output = best_model(unf_network.x, unf_network.edge_index, unf_network.edge_weight)\n",
    "all_pred_sets = new_get_prediction_sets(\n",
    "    output, unf_network, calib_mask, test_mask, score_function=\"RAPS\", alpha=0.1\n",
    ")\n",
    "\n",
    "for calib_node_idx in np.random.randint(len(all_pred_sets), size=10):\n",
    "    node_pred_set = all_pred_sets[calib_node_idx]\n",
    "    node_idx = np.where(calib_mask == 1)[0][calib_node_idx]\n",
    "\n",
    "    # Convert predictions to label names\n",
    "    possible_labels_for_node = [\n",
    "        str(all_labels[pred]) for pred in np.where(node_pred_set == 1)[0]\n",
    "    ]\n",
    "    print(\n",
    "        f\"Node {node_idx} (True label {str(all_labels[unf_network.y[node_idx]])}): {possible_labels_for_node}\"\n",
    "    )"
   ]
  }
 ],
 "metadata": {
  "kernelspec": {
   "display_name": ".venv",
   "language": "python",
   "name": "python3"
  },
  "language_info": {
   "codemirror_mode": {
    "name": "ipython",
    "version": 3
   },
   "file_extension": ".py",
   "mimetype": "text/x-python",
   "name": "python",
   "nbconvert_exporter": "python",
   "pygments_lexer": "ipython3",
   "version": "3.13.2"
  }
 },
 "nbformat": 4,
 "nbformat_minor": 2
}
