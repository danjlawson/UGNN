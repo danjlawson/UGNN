{
 "cells": [
  {
   "cell_type": "code",
   "execution_count": 1,
   "metadata": {},
   "outputs": [],
   "source": [
    "# %%\n",
    "import numpy as np\n",
    "from tqdm import tqdm\n",
    "import copy\n",
    "import torch\n",
    "from data import get_school_data\n",
    "\n",
    "from ugnn.networks import Dynamic_Network, Unfolded_Network\n",
    "from ugnn.utils.masks import non_zero_degree_mask, mask_split, pad_unfolded_mask\n",
    "from ugnn.gnns import GCN, train, valid\n",
    "from ugnn.conformal import get_prediction_sets"
   ]
  },
  {
   "cell_type": "markdown",
   "metadata": {},
   "source": [
    "### Load data"
   ]
  },
  {
   "cell_type": "code",
   "execution_count": 2,
   "metadata": {},
   "outputs": [
    {
     "name": "stdout",
     "output_type": "stream",
     "text": [
      "Number of time windows: 18\n",
      "Number of nodes: 242\n"
     ]
    }
   ],
   "source": [
    "# %%\n",
    "As, node_labels, all_labels = get_school_data(return_all_labels=True)\n",
    "T = len(As)\n",
    "n = As[0].shape[0]\n",
    "num_classes = len(np.unique(node_labels))\n",
    "\n",
    "# Convert to a torch geometric dataset containing T graphs\n",
    "dyn_network = Dynamic_Network(As, node_labels)\n",
    "\n",
    "# Unfold the T graphs into a single graph\n",
    "unf_network = Unfolded_Network(dyn_network)[0]\n"
   ]
  },
  {
   "cell_type": "markdown",
   "metadata": {},
   "source": [
    "### Set up masks for the specified regime"
   ]
  },
  {
   "cell_type": "code",
   "execution_count": 3,
   "metadata": {},
   "outputs": [],
   "source": [
    "# %%\n",
    "# See https://arxiv.org/abs/2405.19230 for details on different regimes\n",
    "regime = \"temporal transductive\"\n",
    "data_mask = non_zero_degree_mask(As, n, T)\n",
    "train_mask, valid_mask, calib_mask, test_mask = mask_split(\n",
    "    data_mask, split_props=[0.2, 0.1, 0.35, 0.35], regime=regime\n",
    ")\n",
    "\n",
    "# Pad masks to include anchor nodes (required when unfolding)\n",
    "train_mask = pad_unfolded_mask(train_mask, n)\n",
    "valid_mask = pad_unfolded_mask(valid_mask, n)\n",
    "calib_mask = pad_unfolded_mask(calib_mask, n)\n",
    "test_mask = pad_unfolded_mask(test_mask, n)\n"
   ]
  },
  {
   "cell_type": "markdown",
   "metadata": {},
   "source": [
    "### Train a UGCN"
   ]
  },
  {
   "cell_type": "code",
   "execution_count": 4,
   "metadata": {},
   "outputs": [
    {
     "name": "stderr",
     "output_type": "stream",
     "text": [
      "100%|██████████| 200/200 [00:27<00:00,  7.40it/s]\n"
     ]
    },
    {
     "name": "stdout",
     "output_type": "stream",
     "text": [
      "Test accuracy: 0.893\n"
     ]
    }
   ],
   "source": [
    "# %%\n",
    "model = GCN(\n",
    "    num_nodes=unf_network.num_nodes, num_channels=16, num_classes=num_classes, seed=123\n",
    ")\n",
    "optimizer = torch.optim.Adam(model.parameters(), lr=0.01, weight_decay=5e-4)\n",
    "\n",
    "max_valid_acc = 0\n",
    "for epoch in tqdm(range(200)):\n",
    "    _ = train(model, unf_network, train_mask, optimizer)\n",
    "    valid_acc = valid(model, unf_network, valid_mask)\n",
    "\n",
    "    if valid_acc > max_valid_acc:\n",
    "        max_valid_acc = valid_acc\n",
    "        best_model = copy.deepcopy(model)\n",
    "\n",
    "test_acc = valid(model, unf_network, test_mask)\n",
    "print(f\"Test accuracy: {test_acc:0.3f}\")\n"
   ]
  },
  {
   "cell_type": "markdown",
   "metadata": {},
   "source": [
    "### Compute conformal prediction sets"
   ]
  },
  {
   "cell_type": "markdown",
   "metadata": {},
   "source": [
    "First, let's use the Adaptive Prediction Sets (APS) method to compute conformal prediction sets. "
   ]
  },
  {
   "cell_type": "code",
   "execution_count": 5,
   "metadata": {},
   "outputs": [
    {
     "name": "stdout",
     "output_type": "stream",
     "text": [
      "Node 4352 (True label Teachers): ['1A', '1B', '2A', '2B', '3A']\n",
      "Node 3657 (True label 1B): ['1A']\n",
      "Node 4162 (True label 2A): ['1B', '2A', '2B']\n",
      "Node 3492 (True label 3A): ['1A', '1B', '2A', '3A', '3B']\n",
      "Node 3675 (True label 1B): ['1A', '1B', '2A']\n",
      "Node 3095 (True label 5A): ['4A', '4B', '5B']\n",
      "Node 3097 (True label 5A): ['4A', '5A']\n",
      "Node 3704 (True label 2B): ['1A', '2A', '2B', '3A']\n",
      "Node 2941 (True label 1B): ['1A', '1B', '4A']\n",
      "Node 3704 (True label 2B): ['1A', '2A', '2B', '3A']\n"
     ]
    }
   ],
   "source": [
    "# %%\n",
    "output = best_model(unf_network.x, unf_network.edge_index, unf_network.edge_weight)\n",
    "all_pred_sets = get_prediction_sets(\n",
    "    output, unf_network, calib_mask, test_mask, score_function=\"APS\", alpha=0.1\n",
    ")\n",
    "\n",
    "for calib_node_idx in np.random.randint(len(all_pred_sets), size=10):\n",
    "    node_pred_set = all_pred_sets[calib_node_idx]\n",
    "    node_idx = np.where(calib_mask == 1)[0][calib_node_idx]\n",
    "\n",
    "    # Convert predictions to label names\n",
    "    possible_labels_for_node = [\n",
    "        str(all_labels[pred]) for pred in np.where(node_pred_set == 1)[0]\n",
    "    ]\n",
    "    print(\n",
    "        f\"Node {node_idx} (True label {str(all_labels[unf_network.y[node_idx]])}): {possible_labels_for_node}\"\n",
    "    )"
   ]
  },
  {
   "cell_type": "markdown",
   "metadata": {},
   "source": [
    "### Visualise the UGCN Embedding\n",
    "\n",
    "The embedding is 11-dimensional, due to there being 11 classes in this data.\n",
    "\n",
    "Let's visualise the embedding by reducing to 2D using PCA."
   ]
  },
  {
   "cell_type": "code",
   "execution_count": 6,
   "metadata": {},
   "outputs": [],
   "source": [
    "from sklearn.decomposition import PCA\n",
    "import pyemb as eb\n",
    "\n",
    "# As we're unfolding, we get both an anchor and dynamic embedding\n",
    "# Let's select the dynamic embedding\n",
    "emb = output.detach()[n:]\n",
    "\n",
    "# Reduce to 2D\n",
    "emb = PCA(n_components=2).fit_transform(emb)"
   ]
  },
  {
   "cell_type": "code",
   "execution_count": 7,
   "metadata": {},
   "outputs": [
    {
     "data": {
      "application/vnd.plotly.v1+json": {
       "config": {
        "plotlyServerURL": "https://plot.ly"
       },
       "data": [
        {
         "hovertemplate": "Label=0<br>Time=0<br>Dimension 1=%{x}<br>Dimension 2=%{y}<extra></extra>",
         "legendgroup": "0",
         "marker": {
          "color": "#636efa",
          "symbol": "circle"
         },
         "mode": "markers",
         "name": "0",
         "orientation": "v",
         "showlegend": true,
         "type": "scatter",
         "x": {
          "bdata": "GffTllKv/r9u2P2pW7P6vzFsd00Sgv2/Q9Zk059xAMCV7JHeACHxv3RyDCPDSvi/o/T+jRwt/7+6aqYzEbj5vwZx+Fnoifq/fCRHFEnc+r+WiDhc1sf4v8T4h4BGSvi/UQlf/Sf19r/9r8K92Sj2v1BoGwBlXve/Mdxj/gos/r9QSG8VG/wAwA8yY6/IXP2/sIVzJ+c4vD9kUB+mdjm8P/CDDiweObw/yvlVOcTM87+UTddHHmP6vw==",
          "dtype": "f8"
         },
         "xaxis": "x",
         "y": {
          "bdata": "BhcKD/ly8T8+OMO/B1byPyijwuqDxPI/kl1Qmqkm8T/+bbR7btLxP0Siun9P8vE/4JRu2LA98T+rfwiZZp3yP/GGfmJTH/M/3GTECj1y8j+PqSVMUx7yP59A1ROSB/M/SLuJk2Hr8j+wYKNv6ZfyPzZnwJekRvI/39y4pYaG8j9+kt9QOQjxPy6MlCwkQPI/tsadVZc1CcDE1uj9kzUJwGqF97+VNQnA/trYyKdJ8D/L1ONzfs/yPw==",
          "dtype": "f8"
         },
         "yaxis": "y"
        },
        {
         "hovertemplate": "Label=1<br>Time=0<br>Dimension 1=%{x}<br>Dimension 2=%{y}<extra></extra>",
         "legendgroup": "1",
         "marker": {
          "color": "#EF553B",
          "symbol": "circle"
         },
         "mode": "markers",
         "name": "1",
         "orientation": "v",
         "showlegend": true,
         "type": "scatter",
         "x": {
          "bdata": "XQj7BEdc9L8RgFsvKIr4v/LT5B3xTPO/6VHsmAx//L/p6iuXFx76vxjpGmEnsO6/Pim+iyic9L/iYkCbMg75v8yhUyjDOPO/e1nRemuE9b+YLRmFJ/jyvxw6T46/4PC/XC8Xin2/9L+eSzeNG9Hzv8QYS5teEOm/pdnPQPQ/8r/73WDbstX4v4Vku8e6WPW/V52V3Nwk9b++EXCzPMD2vybhoJRXW+2/VmeLyiOk+L++pMsoDmjzv1GaiGR5tf2/65Cw8VRy8r8=",
          "dtype": "f8"
         },
         "xaxis": "x",
         "y": {
          "bdata": "CqhgwS9Y/z/IV0KJo+gAQExuTJhJ7v4/ll6t7O7iAUAzFq0K0zEBQOOuyXSJqfg/VmWYTwMaAED6gfWKDkIBQMzuobym6f4/EjlDYS2N/z9FQEJwIzD/P+oXuAf6Y/s/DKo4cLmG/j8LYLvv2w7+PyfmHOEAgvY/GleW00su/j+PDv+PQpIBQKqoQeYmlv8/OqDp1ZxAAEAMrlMr6jcAQNZylxMquvg/4YKQo8jyAEApuxSUkYT/P96CFeYOZwJASAG+K+A//j8=",
          "dtype": "f8"
         },
         "yaxis": "y"
        },
        {
         "hovertemplate": "Label=2<br>Time=0<br>Dimension 1=%{x}<br>Dimension 2=%{y}<extra></extra>",
         "legendgroup": "2",
         "marker": {
          "color": "#00cc96",
          "symbol": "circle"
         },
         "mode": "markers",
         "name": "2",
         "orientation": "v",
         "showlegend": true,
         "type": "scatter",
         "x": {
          "bdata": "7X62IVqL+b9VbFVMrlMBwMHRGIw9WPe/qxQKwmFu/L9RnvdxO8v/v81DhLP5c/m/n8OsKPf8/78LdkCpKsT8vyvnISPmof2/8QSbnngeAMANytL08X74vyu8Gopxafm/mpR9Lt3T8r/7KDM/0O79vwwBm/Ckx/m/T17Ho+/EAMCgitFn+WL5v3mJbChAPfu/Dyv6Xkjd/r8FmaUvSZ4AwHqScLE3Z/u/WJKZ3cM4vD9DOVwu74L0vw==",
          "dtype": "f8"
         },
         "xaxis": "x",
         "y": {
          "bdata": "cO3GPMDH3r/EzVq8b3v2v7Rh2IT2XOS/DGtN8Uwu679oMtwNjJLuv5DqHY/Aqeq/AmYQPcNt8L/gK9ozWGntvyxWAp/1Req/dM154pVJ8r8YN4GI+xbkvzihI/Ku492/CO+K+LDE4L+gEWuvKVLxv6CeUGsLA+2/0FqCVzwG8r/OGTD5QAkAwMSDyLKJ7uW/IMSUf3648b9cna6ET0z0v4Asjwh15Oy/cDQ7fps1CcDWf9cDOSfyvw==",
          "dtype": "f8"
         },
         "yaxis": "y"
        },
        {
         "hovertemplate": "Label=3<br>Time=0<br>Dimension 1=%{x}<br>Dimension 2=%{y}<extra></extra>",
         "legendgroup": "3",
         "marker": {
          "color": "#ab63fa",
          "symbol": "circle"
         },
         "mode": "markers",
         "name": "3",
         "orientation": "v",
         "showlegend": true,
         "type": "scatter",
         "x": {
          "bdata": "JhHHeEph0L8eJ27NbdLUv+Q6DEKPg6O/B7wTnorPwL+c15R5fyGhP0G0bXzTJc6/imhMe4TEtb8GltoASx21vxQlI+GxzKC/SGhb4TI10L8+5I4fd++1v02qKD8N68+/Ialz7OI8xr9KgZRFGaG0vyFdBl6IJsq/7STzNisuxL9/UZIjjQnDv5TLi2yTSqI/yE/rX/84vD/7uG3HUX/Fv+AwgPOqObw/ed10LRAkwL8w8pq5TtiEP7Y8HV1BEri/Zh/Y+aaKur8X6cGiiMTNvw==",
          "dtype": "f8"
         },
         "xaxis": "x",
         "y": {
          "bdata": "RLLGJF0K6r98mEWuiD3yv4ItAwkxm/G/sO2SmeWR7b/elSIrmgv6v/x9XhgFhum/Hj8m3HEt9L/gizzzAU/wv4YV5EMHA/e/mL0zo00s9L/M3W0UHOrvv1amVx0Xmvi/fFImI07p7L+CyJsQk4DxvxBk+h/Eee6/sGUSaDP+678YVzaHvkjrv8ZeeVG//fS/LnKmw5s1CcAkezoFAcQAwACzbeeTNQnAiBRjsunV57/OmUTB1MDzv0QAfKQSmeu/AB6Zy5XY8b+YbwXsk/7mvw==",
          "dtype": "f8"
         },
         "yaxis": "y"
        },
        {
         "hovertemplate": "Label=4<br>Time=0<br>Dimension 1=%{x}<br>Dimension 2=%{y}<extra></extra>",
         "legendgroup": "4",
         "marker": {
          "color": "#FFA15A",
          "symbol": "circle"
         },
         "mode": "markers",
         "name": "4",
         "orientation": "v",
         "showlegend": true,
         "type": "scatter",
         "x": {
          "bdata": "I8anlxmbAsDOAw8q/Y/2vymUbT66B/W/lsslotzb+b9eepr2Ex30v6MQwbkCn/m/mZFYANDR9b/7LuJOfrL9v2xuDAhwdvG/3JB6qXv78r/EMCLqTSz5vwHAptB3B+a/G7jxZqgH9r9a3hYwQ8X3v9sT9vVj7/y/TfgeH2xr97+OcsyExAn5vx3I5cv4//6/50k7tXvz+7+PgrRBpOH6v6WXzfCZKPe//MnDOz+c9b/sWKcCk4L7vw==",
          "dtype": "f8"
         },
         "xaxis": "x",
         "y": {
          "bdata": "flbv69oK9j8MbWFhnJ7xPxJf9gDiXOs/bpPwadg48T9Nk4iQim/sP+TI3Te+j/M/48GjHVmO7T9YkqqaN3z0P9ARQsHOdNw/mH1FTfzZ3D/+ePZEB+3zPwAtWktLIte/uCjVOyKA8T9rJxxwtHDxP4r95l7jOPQ/HknrWEe78T+5Ju+atk3xP81kLApz8fM/sdtTtoXP9D+Is5KLM7b1P6g6IMRkvvE/UI76yotN1z+UNz7uoJ7zPw==",
          "dtype": "f8"
         },
         "yaxis": "y"
        },
        {
         "hovertemplate": "Label=5<br>Time=0<br>Dimension 1=%{x}<br>Dimension 2=%{y}<extra></extra>",
         "legendgroup": "5",
         "marker": {
          "color": "#19d3f3",
          "symbol": "circle"
         },
         "mode": "markers",
         "name": "5",
         "orientation": "v",
         "showlegend": true,
         "type": "scatter",
         "x": {
          "bdata": "CS+z6fvZ479+EZ6ntXXSv/4OgWzRdt+/UGETO6q647+lhyHb84zmvwAX7mG1/dy/bV+Ab++Uz7+GjTVYLHvSv1cgrPxF++O/ciaiAdtc2b8CCWD+heXSv24JYEJXObw/3TPUQPFHzb/eSu7NsV3Rv5ZdJzAbBd+/wt+0xjBg2b8yH42sfnPRv0ZbsO0LMNe/tKjB/QJo17+mh9XDIl3dv1qUdz3DKNe/mFFYc4lK3L8=",
          "dtype": "f8"
         },
         "xaxis": "x",
         "y": {
          "bdata": "RmT4xWd8AUAGqYNXe1b7P9U+0jQhCf8/4CnkwYo7AUC257VUUd4BQCbjyFN+l/0/7ceXxEx4+T8QA6FO/jz6P0lJLBZRzwFAuQEuYKw1/z8YXjXqGyb6P5K6sW6TNQnABxgkghfc8z/ZEHf0qJDrPwemmcIANgFA8shy03+m/j+mVOXkBwr6PytPn9+45v4/YDyLMowKAED4ePZWNxsAQJ1OMSHoif4/Y+nLS7+t/j8=",
          "dtype": "f8"
         },
         "yaxis": "y"
        },
        {
         "hovertemplate": "Label=6<br>Time=0<br>Dimension 1=%{x}<br>Dimension 2=%{y}<extra></extra>",
         "legendgroup": "6",
         "marker": {
          "color": "#FF6692",
          "symbol": "circle"
         },
         "mode": "markers",
         "name": "6",
         "orientation": "v",
         "showlegend": true,
         "type": "scatter",
         "x": {
          "bdata": "P5ihHQAWBUC2HEdg4a8FQB+BWj3ykgdAS9FhXTdCBkAkMi4+Y7cGQHyGhwjf9w1AVH31jln4/T8RCzAK3FEDQAVBTkAPmgFAQFitq8H2CEDsVtHoqTi8P/wfMgsAObw/UVT14WYYC0DZgHrgx6oFQNrs+H7E4ARAmm4VO3kXAkCtu3XMSK8HQI24hDBX4gNA4jhaTMPdAkCDaBBwe0EKQE/JabfrVwNA",
          "dtype": "f8"
         },
         "xaxis": "x",
         "y": {
          "bdata": "xCLV3GuS2T8cOt40KufhP0T4zt1NP94/YpUc/T8u4D9U/TOof3TbP6ilKli2vcQ/qHmAquXkwD/YjK/U+6/bP0SAQTSKM9g//EpmQeGG1D/K/kLbmjUJwHLWHFCTNQnAzH1V11Zn4D84yckl3yHdP4y1cFBCJ+E/ZE2mOGhi1z8o7NWaZhrZP/4vMjiuNOA/6ii37xwC4j8YqQYsr13VP1r/wGB4zOM/",
          "dtype": "f8"
         },
         "yaxis": "y"
        },
        {
         "hovertemplate": "Label=7<br>Time=0<br>Dimension 1=%{x}<br>Dimension 2=%{y}<extra></extra>",
         "legendgroup": "7",
         "marker": {
          "color": "#B6E880",
          "symbol": "circle"
         },
         "mode": "markers",
         "name": "7",
         "orientation": "v",
         "showlegend": true,
         "type": "scatter",
         "x": {
          "bdata": "CmWikZMt2T/UjXzOUjm8P9LjKdbLDdU/VymU/Lin1z9WCKI+o0nXP4pEgIvCBNs/1rX2EHPF2T/bmRhCEv3YPw9+bgpzoMY/VGImQWmQ0j94UG9vBRjePxZSUbiRJ+A/GjJXZDZI1z+2ZM7D0YnOP75S6Nmzat0/9sB6qyCI0j/f/KQzC1bdP2o+I0gUato/EBV75kFU3T/s9QvA8Di8PzLbou/a/NA/dg9w048w0z8teRpbVXfWPw==",
          "dtype": "f8"
         },
         "xaxis": "x",
         "y": {
          "bdata": "CPgbL+Nazr9g3cEDmjUJwIBizn/s7YQ/AH4l065wa7/ABKiwoU6YP8DVenNs7t2/yLhYj+kQ0r9gYdIdrGuxP4CgqsZIo76/RF+/YwQ90L9ApVg3cCOuv8xrR/cimNW/AFuCtuByqT9ggz5Cv3XRvwgKYzmf8cA/IHNZZJiVqD+wXXcRNzDKv9A/Uyhch8W/mCVKAWIkw78kuqMalTUJwDCBDAIH9PK/XBgnOz670b/Asxmz6KPIvw==",
          "dtype": "f8"
         },
         "yaxis": "y"
        },
        {
         "hovertemplate": "Label=8<br>Time=0<br>Dimension 1=%{x}<br>Dimension 2=%{y}<extra></extra>",
         "legendgroup": "8",
         "marker": {
          "color": "#FF97FF",
          "symbol": "circle"
         },
         "mode": "markers",
         "name": "8",
         "orientation": "v",
         "showlegend": true,
         "type": "scatter",
         "x": {
          "bdata": "tzMIUYvcA0CLvBcEqdoEQAJN4aEmVAtApBYsboK6BEBoTzCIFzUJQAJav7oz+ghAwg0YD5WWDEAY+I5XpTm8PwIUrVv6dQVAPgpbhTk5vD+czjsUuCEDQHkqw7VKSQRApXb/VUKdCEDMOnRx1xQAQCfGbr3DeQFAGVVsEruh/z9G0FT15eEDQKwV+ghpoAhAPPk04fJHCEB6m0Na4zkFQHVdgX80ogRAxiy31izsA0A=",
          "dtype": "f8"
         },
         "xaxis": "x",
         "y": {
          "bdata": "Gy0p16fb/T8ObngsA+P9Pxeo9YJ/bfo/272oeN9A9j9rHQ0E8uzyP/AoMHCPG/U/f/hicVlw9z/CjJNSkzUJwEiPiBkbhMQ/dnGeG5c1CcCkM3byVEP0PwMLrlW1gv4/TAlBkHvC/T+BZCi/vvP2P3fzfH52afg/u2lAAW0M/D+y/cwFBjT+P0Igytt0hPA/gGryzNoQ+j+Y7VBjvZv6P/jr0UMPk/8/7aD45uiO/T8=",
          "dtype": "f8"
         },
         "yaxis": "y"
        },
        {
         "hovertemplate": "Label=9<br>Time=0<br>Dimension 1=%{x}<br>Dimension 2=%{y}<extra></extra>",
         "legendgroup": "9",
         "marker": {
          "color": "#FECB52",
          "symbol": "circle"
         },
         "mode": "markers",
         "name": "9",
         "orientation": "v",
         "showlegend": true,
         "type": "scatter",
         "x": {
          "bdata": "7X3KNtcIC0Dyo8rEbysIQM+pk41DHQhAX/NEWQm2AkCnTVuxZZ0BQClgSyH/JAFA5MnbcDVp+z8uFnTBRPsMQJlewiDa4QVAhThsumnaAkDsYWd4i6kBQBHBstdbRABA3uCCMNvQAkApwzWzT5sJQGAjMOqa9gNA2vQiO+ddCEDXUY6ycDUGQPU0DzI/hQJAlvnuGAM5vD+WA04woSP/P5BXpt5uywBAZp7qmjaUAECKvZW8HgACQKHdx5uplwNA",
          "dtype": "f8"
         },
         "xaxis": "x",
         "y": {
          "bdata": "gC3JHTSr4j9QG0aMdN72P+o2tKnskvQ/LwSAg9Db5T+EbLW0P2jgP5DKxbChLbk/nHdki+1N0b/ot48D5e/cP42lX8rCM/A/iH680q9u1z9NNd4kQLnzP1rtanvZNuc/tKXINiHj3z/o+GahEGHpP992xp/4qfw/9OXHVgZe9D9wUhImJQPTP6c9lA87Eeo/8ptD25o1CcDgWHYpNKu4P4AqUQ9a+Mq/J1TSLEmY9T8YmXYgW8LVP0LxKkMvJeE/",
          "dtype": "f8"
         },
         "yaxis": "y"
        },
        {
         "hovertemplate": "Label=10<br>Time=0<br>Dimension 1=%{x}<br>Dimension 2=%{y}<extra></extra>",
         "legendgroup": "10",
         "marker": {
          "color": "#636efa",
          "symbol": "circle"
         },
         "mode": "markers",
         "name": "10",
         "orientation": "v",
         "showlegend": true,
         "type": "scatter",
         "x": {
          "bdata": "d5jMmpxtBsCo3b2A8l4LQKhviVhSsQDAKR5lKw31DUBFUwJLibj7v1+qnCdxAAFAbfwu6IGQ9r8KffvFDqDUv9iJKDUKObw/LMCkV2Ii2b8=",
          "dtype": "f8"
         },
         "xaxis": "x",
         "y": {
          "bdata": "8TJ1KR1FAMDGl0UNm+fuP4NiBrGtwgJA9Nmj4qhj0T/BtVYqdPHyPxjzje/QqeI/Vx15LvY98T+AGf/S42gBwMx5SsOZNQnAiScWIQBE/z8=",
          "dtype": "f8"
         },
         "yaxis": "y"
        }
       ],
       "frames": [
        {
         "data": [
          {
           "hovertemplate": "Label=0<br>Time=0<br>Dimension 1=%{x}<br>Dimension 2=%{y}<extra></extra>",
           "legendgroup": "0",
           "marker": {
            "color": "#636efa",
            "symbol": "circle"
           },
           "mode": "markers",
           "name": "0",
           "orientation": "v",
           "showlegend": true,
           "type": "scatter",
           "x": {
            "bdata": "GffTllKv/r9u2P2pW7P6vzFsd00Sgv2/Q9Zk059xAMCV7JHeACHxv3RyDCPDSvi/o/T+jRwt/7+6aqYzEbj5vwZx+Fnoifq/fCRHFEnc+r+WiDhc1sf4v8T4h4BGSvi/UQlf/Sf19r/9r8K92Sj2v1BoGwBlXve/Mdxj/gos/r9QSG8VG/wAwA8yY6/IXP2/sIVzJ+c4vD9kUB+mdjm8P/CDDiweObw/yvlVOcTM87+UTddHHmP6vw==",
            "dtype": "f8"
           },
           "xaxis": "x",
           "y": {
            "bdata": "BhcKD/ly8T8+OMO/B1byPyijwuqDxPI/kl1Qmqkm8T/+bbR7btLxP0Siun9P8vE/4JRu2LA98T+rfwiZZp3yP/GGfmJTH/M/3GTECj1y8j+PqSVMUx7yP59A1ROSB/M/SLuJk2Hr8j+wYKNv6ZfyPzZnwJekRvI/39y4pYaG8j9+kt9QOQjxPy6MlCwkQPI/tsadVZc1CcDE1uj9kzUJwGqF97+VNQnA/trYyKdJ8D/L1ONzfs/yPw==",
            "dtype": "f8"
           },
           "yaxis": "y"
          },
          {
           "hovertemplate": "Label=1<br>Time=0<br>Dimension 1=%{x}<br>Dimension 2=%{y}<extra></extra>",
           "legendgroup": "1",
           "marker": {
            "color": "#EF553B",
            "symbol": "circle"
           },
           "mode": "markers",
           "name": "1",
           "orientation": "v",
           "showlegend": true,
           "type": "scatter",
           "x": {
            "bdata": "XQj7BEdc9L8RgFsvKIr4v/LT5B3xTPO/6VHsmAx//L/p6iuXFx76vxjpGmEnsO6/Pim+iyic9L/iYkCbMg75v8yhUyjDOPO/e1nRemuE9b+YLRmFJ/jyvxw6T46/4PC/XC8Xin2/9L+eSzeNG9Hzv8QYS5teEOm/pdnPQPQ/8r/73WDbstX4v4Vku8e6WPW/V52V3Nwk9b++EXCzPMD2vybhoJRXW+2/VmeLyiOk+L++pMsoDmjzv1GaiGR5tf2/65Cw8VRy8r8=",
            "dtype": "f8"
           },
           "xaxis": "x",
           "y": {
            "bdata": "CqhgwS9Y/z/IV0KJo+gAQExuTJhJ7v4/ll6t7O7iAUAzFq0K0zEBQOOuyXSJqfg/VmWYTwMaAED6gfWKDkIBQMzuobym6f4/EjlDYS2N/z9FQEJwIzD/P+oXuAf6Y/s/DKo4cLmG/j8LYLvv2w7+PyfmHOEAgvY/GleW00su/j+PDv+PQpIBQKqoQeYmlv8/OqDp1ZxAAEAMrlMr6jcAQNZylxMquvg/4YKQo8jyAEApuxSUkYT/P96CFeYOZwJASAG+K+A//j8=",
            "dtype": "f8"
           },
           "yaxis": "y"
          },
          {
           "hovertemplate": "Label=2<br>Time=0<br>Dimension 1=%{x}<br>Dimension 2=%{y}<extra></extra>",
           "legendgroup": "2",
           "marker": {
            "color": "#00cc96",
            "symbol": "circle"
           },
           "mode": "markers",
           "name": "2",
           "orientation": "v",
           "showlegend": true,
           "type": "scatter",
           "x": {
            "bdata": "7X62IVqL+b9VbFVMrlMBwMHRGIw9WPe/qxQKwmFu/L9RnvdxO8v/v81DhLP5c/m/n8OsKPf8/78LdkCpKsT8vyvnISPmof2/8QSbnngeAMANytL08X74vyu8Gopxafm/mpR9Lt3T8r/7KDM/0O79vwwBm/Ckx/m/T17Ho+/EAMCgitFn+WL5v3mJbChAPfu/Dyv6Xkjd/r8FmaUvSZ4AwHqScLE3Z/u/WJKZ3cM4vD9DOVwu74L0vw==",
            "dtype": "f8"
           },
           "xaxis": "x",
           "y": {
            "bdata": "cO3GPMDH3r/EzVq8b3v2v7Rh2IT2XOS/DGtN8Uwu679oMtwNjJLuv5DqHY/Aqeq/AmYQPcNt8L/gK9ozWGntvyxWAp/1Req/dM154pVJ8r8YN4GI+xbkvzihI/Ku492/CO+K+LDE4L+gEWuvKVLxv6CeUGsLA+2/0FqCVzwG8r/OGTD5QAkAwMSDyLKJ7uW/IMSUf3648b9cna6ET0z0v4Asjwh15Oy/cDQ7fps1CcDWf9cDOSfyvw==",
            "dtype": "f8"
           },
           "yaxis": "y"
          },
          {
           "hovertemplate": "Label=3<br>Time=0<br>Dimension 1=%{x}<br>Dimension 2=%{y}<extra></extra>",
           "legendgroup": "3",
           "marker": {
            "color": "#ab63fa",
            "symbol": "circle"
           },
           "mode": "markers",
           "name": "3",
           "orientation": "v",
           "showlegend": true,
           "type": "scatter",
           "x": {
            "bdata": "JhHHeEph0L8eJ27NbdLUv+Q6DEKPg6O/B7wTnorPwL+c15R5fyGhP0G0bXzTJc6/imhMe4TEtb8GltoASx21vxQlI+GxzKC/SGhb4TI10L8+5I4fd++1v02qKD8N68+/Ialz7OI8xr9KgZRFGaG0vyFdBl6IJsq/7STzNisuxL9/UZIjjQnDv5TLi2yTSqI/yE/rX/84vD/7uG3HUX/Fv+AwgPOqObw/ed10LRAkwL8w8pq5TtiEP7Y8HV1BEri/Zh/Y+aaKur8X6cGiiMTNvw==",
            "dtype": "f8"
           },
           "xaxis": "x",
           "y": {
            "bdata": "RLLGJF0K6r98mEWuiD3yv4ItAwkxm/G/sO2SmeWR7b/elSIrmgv6v/x9XhgFhum/Hj8m3HEt9L/gizzzAU/wv4YV5EMHA/e/mL0zo00s9L/M3W0UHOrvv1amVx0Xmvi/fFImI07p7L+CyJsQk4DxvxBk+h/Eee6/sGUSaDP+678YVzaHvkjrv8ZeeVG//fS/LnKmw5s1CcAkezoFAcQAwACzbeeTNQnAiBRjsunV57/OmUTB1MDzv0QAfKQSmeu/AB6Zy5XY8b+YbwXsk/7mvw==",
            "dtype": "f8"
           },
           "yaxis": "y"
          },
          {
           "hovertemplate": "Label=4<br>Time=0<br>Dimension 1=%{x}<br>Dimension 2=%{y}<extra></extra>",
           "legendgroup": "4",
           "marker": {
            "color": "#FFA15A",
            "symbol": "circle"
           },
           "mode": "markers",
           "name": "4",
           "orientation": "v",
           "showlegend": true,
           "type": "scatter",
           "x": {
            "bdata": "I8anlxmbAsDOAw8q/Y/2vymUbT66B/W/lsslotzb+b9eepr2Ex30v6MQwbkCn/m/mZFYANDR9b/7LuJOfrL9v2xuDAhwdvG/3JB6qXv78r/EMCLqTSz5vwHAptB3B+a/G7jxZqgH9r9a3hYwQ8X3v9sT9vVj7/y/TfgeH2xr97+OcsyExAn5vx3I5cv4//6/50k7tXvz+7+PgrRBpOH6v6WXzfCZKPe//MnDOz+c9b/sWKcCk4L7vw==",
            "dtype": "f8"
           },
           "xaxis": "x",
           "y": {
            "bdata": "flbv69oK9j8MbWFhnJ7xPxJf9gDiXOs/bpPwadg48T9Nk4iQim/sP+TI3Te+j/M/48GjHVmO7T9YkqqaN3z0P9ARQsHOdNw/mH1FTfzZ3D/+ePZEB+3zPwAtWktLIte/uCjVOyKA8T9rJxxwtHDxP4r95l7jOPQ/HknrWEe78T+5Ju+atk3xP81kLApz8fM/sdtTtoXP9D+Is5KLM7b1P6g6IMRkvvE/UI76yotN1z+UNz7uoJ7zPw==",
            "dtype": "f8"
           },
           "yaxis": "y"
          },
          {
           "hovertemplate": "Label=5<br>Time=0<br>Dimension 1=%{x}<br>Dimension 2=%{y}<extra></extra>",
           "legendgroup": "5",
           "marker": {
            "color": "#19d3f3",
            "symbol": "circle"
           },
           "mode": "markers",
           "name": "5",
           "orientation": "v",
           "showlegend": true,
           "type": "scatter",
           "x": {
            "bdata": "CS+z6fvZ479+EZ6ntXXSv/4OgWzRdt+/UGETO6q647+lhyHb84zmvwAX7mG1/dy/bV+Ab++Uz7+GjTVYLHvSv1cgrPxF++O/ciaiAdtc2b8CCWD+heXSv24JYEJXObw/3TPUQPFHzb/eSu7NsV3Rv5ZdJzAbBd+/wt+0xjBg2b8yH42sfnPRv0ZbsO0LMNe/tKjB/QJo17+mh9XDIl3dv1qUdz3DKNe/mFFYc4lK3L8=",
            "dtype": "f8"
           },
           "xaxis": "x",
           "y": {
            "bdata": "RmT4xWd8AUAGqYNXe1b7P9U+0jQhCf8/4CnkwYo7AUC257VUUd4BQCbjyFN+l/0/7ceXxEx4+T8QA6FO/jz6P0lJLBZRzwFAuQEuYKw1/z8YXjXqGyb6P5K6sW6TNQnABxgkghfc8z/ZEHf0qJDrPwemmcIANgFA8shy03+m/j+mVOXkBwr6PytPn9+45v4/YDyLMowKAED4ePZWNxsAQJ1OMSHoif4/Y+nLS7+t/j8=",
            "dtype": "f8"
           },
           "yaxis": "y"
          },
          {
           "hovertemplate": "Label=6<br>Time=0<br>Dimension 1=%{x}<br>Dimension 2=%{y}<extra></extra>",
           "legendgroup": "6",
           "marker": {
            "color": "#FF6692",
            "symbol": "circle"
           },
           "mode": "markers",
           "name": "6",
           "orientation": "v",
           "showlegend": true,
           "type": "scatter",
           "x": {
            "bdata": "P5ihHQAWBUC2HEdg4a8FQB+BWj3ykgdAS9FhXTdCBkAkMi4+Y7cGQHyGhwjf9w1AVH31jln4/T8RCzAK3FEDQAVBTkAPmgFAQFitq8H2CEDsVtHoqTi8P/wfMgsAObw/UVT14WYYC0DZgHrgx6oFQNrs+H7E4ARAmm4VO3kXAkCtu3XMSK8HQI24hDBX4gNA4jhaTMPdAkCDaBBwe0EKQE/JabfrVwNA",
            "dtype": "f8"
           },
           "xaxis": "x",
           "y": {
            "bdata": "xCLV3GuS2T8cOt40KufhP0T4zt1NP94/YpUc/T8u4D9U/TOof3TbP6ilKli2vcQ/qHmAquXkwD/YjK/U+6/bP0SAQTSKM9g//EpmQeGG1D/K/kLbmjUJwHLWHFCTNQnAzH1V11Zn4D84yckl3yHdP4y1cFBCJ+E/ZE2mOGhi1z8o7NWaZhrZP/4vMjiuNOA/6ii37xwC4j8YqQYsr13VP1r/wGB4zOM/",
            "dtype": "f8"
           },
           "yaxis": "y"
          },
          {
           "hovertemplate": "Label=7<br>Time=0<br>Dimension 1=%{x}<br>Dimension 2=%{y}<extra></extra>",
           "legendgroup": "7",
           "marker": {
            "color": "#B6E880",
            "symbol": "circle"
           },
           "mode": "markers",
           "name": "7",
           "orientation": "v",
           "showlegend": true,
           "type": "scatter",
           "x": {
            "bdata": "CmWikZMt2T/UjXzOUjm8P9LjKdbLDdU/VymU/Lin1z9WCKI+o0nXP4pEgIvCBNs/1rX2EHPF2T/bmRhCEv3YPw9+bgpzoMY/VGImQWmQ0j94UG9vBRjePxZSUbiRJ+A/GjJXZDZI1z+2ZM7D0YnOP75S6Nmzat0/9sB6qyCI0j/f/KQzC1bdP2o+I0gUato/EBV75kFU3T/s9QvA8Di8PzLbou/a/NA/dg9w048w0z8teRpbVXfWPw==",
            "dtype": "f8"
           },
           "xaxis": "x",
           "y": {
            "bdata": "CPgbL+Nazr9g3cEDmjUJwIBizn/s7YQ/AH4l065wa7/ABKiwoU6YP8DVenNs7t2/yLhYj+kQ0r9gYdIdrGuxP4CgqsZIo76/RF+/YwQ90L9ApVg3cCOuv8xrR/cimNW/AFuCtuByqT9ggz5Cv3XRvwgKYzmf8cA/IHNZZJiVqD+wXXcRNzDKv9A/Uyhch8W/mCVKAWIkw78kuqMalTUJwDCBDAIH9PK/XBgnOz670b/Asxmz6KPIvw==",
            "dtype": "f8"
           },
           "yaxis": "y"
          },
          {
           "hovertemplate": "Label=8<br>Time=0<br>Dimension 1=%{x}<br>Dimension 2=%{y}<extra></extra>",
           "legendgroup": "8",
           "marker": {
            "color": "#FF97FF",
            "symbol": "circle"
           },
           "mode": "markers",
           "name": "8",
           "orientation": "v",
           "showlegend": true,
           "type": "scatter",
           "x": {
            "bdata": "tzMIUYvcA0CLvBcEqdoEQAJN4aEmVAtApBYsboK6BEBoTzCIFzUJQAJav7oz+ghAwg0YD5WWDEAY+I5XpTm8PwIUrVv6dQVAPgpbhTk5vD+czjsUuCEDQHkqw7VKSQRApXb/VUKdCEDMOnRx1xQAQCfGbr3DeQFAGVVsEruh/z9G0FT15eEDQKwV+ghpoAhAPPk04fJHCEB6m0Na4zkFQHVdgX80ogRAxiy31izsA0A=",
            "dtype": "f8"
           },
           "xaxis": "x",
           "y": {
            "bdata": "Gy0p16fb/T8ObngsA+P9Pxeo9YJ/bfo/272oeN9A9j9rHQ0E8uzyP/AoMHCPG/U/f/hicVlw9z/CjJNSkzUJwEiPiBkbhMQ/dnGeG5c1CcCkM3byVEP0PwMLrlW1gv4/TAlBkHvC/T+BZCi/vvP2P3fzfH52afg/u2lAAW0M/D+y/cwFBjT+P0Igytt0hPA/gGryzNoQ+j+Y7VBjvZv6P/jr0UMPk/8/7aD45uiO/T8=",
            "dtype": "f8"
           },
           "yaxis": "y"
          },
          {
           "hovertemplate": "Label=9<br>Time=0<br>Dimension 1=%{x}<br>Dimension 2=%{y}<extra></extra>",
           "legendgroup": "9",
           "marker": {
            "color": "#FECB52",
            "symbol": "circle"
           },
           "mode": "markers",
           "name": "9",
           "orientation": "v",
           "showlegend": true,
           "type": "scatter",
           "x": {
            "bdata": "7X3KNtcIC0Dyo8rEbysIQM+pk41DHQhAX/NEWQm2AkCnTVuxZZ0BQClgSyH/JAFA5MnbcDVp+z8uFnTBRPsMQJlewiDa4QVAhThsumnaAkDsYWd4i6kBQBHBstdbRABA3uCCMNvQAkApwzWzT5sJQGAjMOqa9gNA2vQiO+ddCEDXUY6ycDUGQPU0DzI/hQJAlvnuGAM5vD+WA04woSP/P5BXpt5uywBAZp7qmjaUAECKvZW8HgACQKHdx5uplwNA",
            "dtype": "f8"
           },
           "xaxis": "x",
           "y": {
            "bdata": "gC3JHTSr4j9QG0aMdN72P+o2tKnskvQ/LwSAg9Db5T+EbLW0P2jgP5DKxbChLbk/nHdki+1N0b/ot48D5e/cP42lX8rCM/A/iH680q9u1z9NNd4kQLnzP1rtanvZNuc/tKXINiHj3z/o+GahEGHpP992xp/4qfw/9OXHVgZe9D9wUhImJQPTP6c9lA87Eeo/8ptD25o1CcDgWHYpNKu4P4AqUQ9a+Mq/J1TSLEmY9T8YmXYgW8LVP0LxKkMvJeE/",
            "dtype": "f8"
           },
           "yaxis": "y"
          },
          {
           "hovertemplate": "Label=10<br>Time=0<br>Dimension 1=%{x}<br>Dimension 2=%{y}<extra></extra>",
           "legendgroup": "10",
           "marker": {
            "color": "#636efa",
            "symbol": "circle"
           },
           "mode": "markers",
           "name": "10",
           "orientation": "v",
           "showlegend": true,
           "type": "scatter",
           "x": {
            "bdata": "d5jMmpxtBsCo3b2A8l4LQKhviVhSsQDAKR5lKw31DUBFUwJLibj7v1+qnCdxAAFAbfwu6IGQ9r8KffvFDqDUv9iJKDUKObw/LMCkV2Ii2b8=",
            "dtype": "f8"
           },
           "xaxis": "x",
           "y": {
            "bdata": "8TJ1KR1FAMDGl0UNm+fuP4NiBrGtwgJA9Nmj4qhj0T/BtVYqdPHyPxjzje/QqeI/Vx15LvY98T+AGf/S42gBwMx5SsOZNQnAiScWIQBE/z8=",
            "dtype": "f8"
           },
           "yaxis": "y"
          }
         ],
         "name": "0"
        },
        {
         "data": [
          {
           "hovertemplate": "Label=0<br>Time=1<br>Dimension 1=%{x}<br>Dimension 2=%{y}<extra></extra>",
           "legendgroup": "0",
           "marker": {
            "color": "#636efa",
            "symbol": "circle"
           },
           "mode": "markers",
           "name": "0",
           "orientation": "v",
           "showlegend": true,
           "type": "scatter",
           "x": {
            "bdata": "11X8XYKC9r8Zrj2eBSP8v0LPkreG0Pu/IDSr4ihG9L90ay2RbWb1vx1OQ9dqOP+/+/oqpkQw/r+H81nylTD2v2z59A09+vO/hkL67Zvg9r9BijmkdiL1vyEBB2hPH/C/dPuKdXsd9r+WuRDTjyr2v+VZjeOaBPK/cTeL9J1Z+b9MSKbJAurvvzOVxOYavvi/NpV3Q1Y5vD8UzXvK+ji8P+7+EjU6Obw/sZeXwkWr87+kc6AIgrP4vw==",
            "dtype": "f8"
           },
           "xaxis": "x",
           "y": {
            "bdata": "HPI1P00N8j8bwF8l5NryP/dOCmanJPI//uNsmk9H8T/IudKzy4LyP37TELKfWfE/00AhaKdM8j+otaQ6CSjwP4HPn6wHYPI/WsyWn/QI8T85mtboMALvP8IYjYQcLPA/4tjbw2JU8j8qkR+jTc3yP4LbSc8L0fE/UVAqGnk48j8Vsh9El//pP5LuUtcJjPI/Mp8sspc1CcDsCas/mDUJwDDsUbSZNQnANk2txAtb8D+yyg6lEeXxPw==",
            "dtype": "f8"
           },
           "yaxis": "y"
          },
          {
           "hovertemplate": "Label=1<br>Time=1<br>Dimension 1=%{x}<br>Dimension 2=%{y}<extra></extra>",
           "legendgroup": "1",
           "marker": {
            "color": "#EF553B",
            "symbol": "circle"
           },
           "mode": "markers",
           "name": "1",
           "orientation": "v",
           "showlegend": true,
           "type": "scatter",
           "x": {
            "bdata": "xeaputz1+78dSS58GQL7v2ORCibgPPe/wG1oB8uY978raEJGEIj8v8tpu9/yFPS/fz5fqohDAcDQYHx8s+j7v2GlHfDB1v+/A3wMnisJ/78w6Scy/r3zv2GF9/27Sv2/idPDFgkv+L94TmnXTFL4v1c4ZsopiADAwYfV91Dq/L/KW3nRHw78v5fRjWH2I/2/rjzn/h1y+7+IZCNY/4ICwCDQoX30SPa/eeMocU62/b9TSkuBVpv7v14Fw+6K5gHABDjr7JFMAcA=",
            "dtype": "f8"
           },
           "xaxis": "x",
           "y": {
            "bdata": "9g+3wbUE9D8easZLNJTuP0IFngcdqvk/eZWjfOEQ8z9OYh78r4L/PxtQgI4EufI/Ixl5VjDP8D8ws4nP8dv3P4NSIRd7o/c/Eutoa5Nf8j/wiOPha0riP8GCObdg+v4/YGgZI6pZ9T8kNfH2gSPwP47NXPNMQPo/GJ4Ri1S69z/oYcIGA8fyPxrb5HzXkOM/bXcfpV5ZAEC0c3nh59f2P82y3mDEx/M/nKnteTi3+D8yYIs8O6L6P5HLUzi9Ffo/BPoO9A5LAUA=",
            "dtype": "f8"
           },
           "yaxis": "y"
          },
          {
           "hovertemplate": "Label=2<br>Time=1<br>Dimension 1=%{x}<br>Dimension 2=%{y}<extra></extra>",
           "legendgroup": "2",
           "marker": {
            "color": "#00cc96",
            "symbol": "circle"
           },
           "mode": "markers",
           "name": "2",
           "orientation": "v",
           "showlegend": true,
           "type": "scatter",
           "x": {
            "bdata": "E96HLdFV9L8TMSz0b5rwvz/4n3HDgeS/7NOddftB67//O0CW6vn0v5AEFfCa5O2/SLo6PsGU9L/oMDcxzckBwEZyjzxjo/O/qxpH2EG187/0wfpRFd7sv8CnsYzhKPa/ormClssP9L+KQ1daEKj0v+rI8NFAQvW/CtMHSilL9r84wgpPh/nrvwYpnEcxOfS/Dni5s0s5vD8bjwgS7+/xv3Y53CNdYPK/RJefG0I5vD+0kjwVAibvvw==",
            "dtype": "f8"
           },
           "xaxis": "x",
           "y": {
            "bdata": "GKBoCbJK37+AMBjmtWPev+6mMqxYbPa/4H1BH/Fe6b+A9lyo2yXiv7SmywUsGe6/FBGSfvS+4L8chugvZFwDwCAu4dg4QOG/WBpCwcKp3r/Y63rYQtfpv9g6HKQ1qty/5CWPP2lV4b+6T1ptdZjyv8whgLuKAui/OMJViw5i378Q6tEiMMLmv+AzzD0dFeC/jC+NlJw1CcCY1p0LZ6bLvwjyUBh60cq/zmwQ/pg1CcDyZWZORSfwvw==",
            "dtype": "f8"
           },
           "yaxis": "y"
          },
          {
           "hovertemplate": "Label=3<br>Time=1<br>Dimension 1=%{x}<br>Dimension 2=%{y}<extra></extra>",
           "legendgroup": "3",
           "marker": {
            "color": "#ab63fa",
            "symbol": "circle"
           },
           "mode": "markers",
           "name": "3",
           "orientation": "v",
           "showlegend": true,
           "type": "scatter",
           "x": {
            "bdata": "XBCOtBuC7L8h1VKtfzTEP1EcUjZpMvC/SGQa3THZmT8tpW5cwADlv1wSUFHd0eS/qvQoRQFk479qU5+awaXhvwJxGQV24uu/gNIkRrqIuz/+yL3QjR7avwq0D3666uy/DuQ1VZz49L88xd3Ql/jYv1Y3LzWb3u+/su23FJIW0j9RXnubhvX1vy5Hny+CYsQ/auSBCYY90r+JgcFgB+Hlv4qFr6keObw/jyx+G6DL4L91O3YR1MfnvzrObet8OfC/dLCZQREy6L/kRsaV3p/rvw==",
            "dtype": "f8"
           },
           "xaxis": "x",
           "y": {
            "bdata": "9HL2saaf5b9MTje3WfICwIzFHQrFpPO/ngZwNjn4AsCVymqMltUAwKLFABaNV/q/8ICJNgWU97/INbTGOWTEP8aEjio0BQDAlAmo0Og3BMDeTI78T8L9vyZVGj7BoP6/BplhRRgA9r9c+lRzTckAwNolQuHZY/y/7vATdLH2/b9SjPiAepv8v3Jm7HnDjP6/dFjWkq0u7L/k3tPVEmD3vwaBRAGZNQnAvN8/G++T/L++os3Tt0Pzv7bQee2DAPS/hPfY1yE8/7/4neJzUDr8vw==",
            "dtype": "f8"
           },
           "yaxis": "y"
          },
          {
           "hovertemplate": "Label=4<br>Time=1<br>Dimension 1=%{x}<br>Dimension 2=%{y}<extra></extra>",
           "legendgroup": "4",
           "marker": {
            "color": "#FFA15A",
            "symbol": "circle"
           },
           "mode": "markers",
           "name": "4",
           "orientation": "v",
           "showlegend": true,
           "type": "scatter",
           "x": {
            "bdata": "KOlWe5d8AcAJSFjRkA0BwH9vW1XaBf+/6QmPv258BMC/5pwbFi4BwDT6iLs3yATAszjXrOCv/L/jBFV5OPkEwFVkib8hXPm/fbB9ocWb/r+gwrUliPYEwJsga/plOQLA+2RY/XWd+r8Pn5H22Kn7v+oCam3WTwDApw9si/9x+L+dd7WroA8EwKlq0AJbrPq/HeX7VccfAMAV7LsV2uoEwIDTdkDwifu/ai7gBZg29b/wLFmJV9QGwA==",
            "dtype": "f8"
           },
           "xaxis": "x",
           "y": {
            "bdata": "9kYovp/h9T+qcrMPYPr2P2niPLF5R/c/eR7Ddu5d9j+V7rcL03H2PzYwIMqHTvc/eKSPmHEX9j9MByq2ku32P52D6X9i9/A/Ljw9ougG9z+Ku1GUQsv2P5IAu0fmHvc/1zSVGiGt8z+Gn8J3X+H0P+b84bca2fY/LL4iIcBe8z/qpaFAxgH3P4BT7V6EEvU/fLdpi9419j8L0KdYU7n2P17bMYNd7fQ/LN6Nf2Ne6z+7wY/UO2T2Pw==",
            "dtype": "f8"
           },
           "yaxis": "y"
          },
          {
           "hovertemplate": "Label=5<br>Time=1<br>Dimension 1=%{x}<br>Dimension 2=%{y}<extra></extra>",
           "legendgroup": "5",
           "marker": {
            "color": "#19d3f3",
            "symbol": "circle"
           },
           "mode": "markers",
           "name": "5",
           "orientation": "v",
           "showlegend": true,
           "type": "scatter",
           "x": {
            "bdata": "+GzcAl+Z5b8OFRzY9I3Sv1EkZEqj1Oa/Ji+G8YmA7L+4FV4HcyjqvxwlKkFGVOS/FtkiK5Pw6b8aCRdL4t/XvwfLhsTA6OG/IzCWKu8b4r+GtfeTq5Plv0iysIwHObw/YV3J68A35786RdZiK/zfv8aPlpfmZOi/el1jvLD96b96Zwn4DZjrvxazkVBXyeO/YHGMjdZw1L+2xWNa/qHiv402p3zprfG/0tkLw+Kw6L8=",
            "dtype": "f8"
           },
           "xaxis": "x",
           "y": {
            "bdata": "SrusEvCsAUDtYI9D2nD2P+jTsdSu8gBAqbmnURzI+z8EGl7fKo8AQIKV5gp+ywBAPeY2ZR0tAkA9QpyH0Qn+P+Hajfi8DgFAWJnmpJlZAUCtW8UXkJkBQKQDIkaYNQnAKkiTonhXAkAU/LfnRPD7P7QEv96hYwJAbSFuj41JAUD9lSI6nBYCQI49c9ouswFA0WjEgrBs/T/C5qLPyoABQAz1S/0/YQFAMyCxhgcQAkA=",
            "dtype": "f8"
           },
           "yaxis": "y"
          },
          {
           "hovertemplate": "Label=6<br>Time=1<br>Dimension 1=%{x}<br>Dimension 2=%{y}<extra></extra>",
           "legendgroup": "6",
           "marker": {
            "color": "#FF6692",
            "symbol": "circle"
           },
           "mode": "markers",
           "name": "6",
           "orientation": "v",
           "showlegend": true,
           "type": "scatter",
           "x": {
            "bdata": "sQE69iqzDECOnaGnrY4NQM00M+vghBBAJuCv9v9LEEBB2K9PJ6oMQPnjveenixRAVWgnaXrwDEDoAqkQiyESQDCsufg/a/0/SDWcH/rZEECvIcA+42sGQEntMkKdaQVAQDte73aOEECs9ICeqLgUQDdZppDTuQdA90q89iLcDkCnVZ1QtyMQQEnWYqSHhhRAYLsfOpsMEEDcKQZodFIOQAphbxHKCwlA",
            "dtype": "f8"
           },
           "xaxis": "x",
           "y": {
            "bdata": "WIiDT1sBx78QBrBrAEPAP3BUGOMakua/IAk+xVI20j9QbZsxEJ+8P6gcVL9bK8+/ADqqryr7tD/I6Ah2Dw3Rv0j+H8OqDea/oGdhvKbsu7+0dhF5WNfdP3StzekKn+A/BAc6IcSt479ogV997sfTPyDW8bEhF9Q/YHeSs1Wysj9wb9hLUIXFv5RMdEONHtW/sGmDwFtVzj/g0Kimh27lvyQWgixtI9o/",
            "dtype": "f8"
           },
           "yaxis": "y"
          },
          {
           "hovertemplate": "Label=7<br>Time=1<br>Dimension 1=%{x}<br>Dimension 2=%{y}<extra></extra>",
           "legendgroup": "7",
           "marker": {
            "color": "#B6E880",
            "symbol": "circle"
           },
           "mode": "markers",
           "name": "7",
           "orientation": "v",
           "showlegend": true,
           "type": "scatter",
           "x": {
            "bdata": "N/KAijGYzD9jYPuHYVvQP1R0aKYcGrs/WMofmHC/1T85zHoZBbPSP5Zs44JeZdc/odeXHWzA2z8URnBOnubMPyEgRvAdOtM/KcTUVWFI1D+QUE7Ky8vYPzQPMR80geA/XKoqRKUt0z/SOC783MbRP6lbfLAGstk/8Pya8YaZ2z8fEPgR/w/WP1Dspof5hNI/bdPff+l81T+Y8IJQejq8P34WY5OiKNE/Fh/rSAyf1j+Mx3NzpwjaPw==",
            "dtype": "f8"
           },
           "xaxis": "x",
           "y": {
            "bdata": "AFEJ2HLh1L9gC98z53Pkv6BJxTlljNm/Qj7DYZX8878EfskRUA7Sv4BP7fET1KU/cKHp2JYcv79QbG4JlIbvvzQDL6RwMe+/wHNXOzqE3L+Aedfv/wiHP3DS95VZMsg/wFIm8KVem78exym1co7wv1AvwDPmUrY/EKsfVtF81z94rHGHEn/EvxhtrvJjCdy/KI3j5Irt2b/IDBJtlTUJwEiaRX9RL8O/aAMKSV3k078I+XgDFNHTvw==",
            "dtype": "f8"
           },
           "yaxis": "y"
          },
          {
           "hovertemplate": "Label=8<br>Time=1<br>Dimension 1=%{x}<br>Dimension 2=%{y}<extra></extra>",
           "legendgroup": "8",
           "marker": {
            "color": "#FF97FF",
            "symbol": "circle"
           },
           "mode": "markers",
           "name": "8",
           "orientation": "v",
           "showlegend": true,
           "type": "scatter",
           "x": {
            "bdata": "qIxaGHoAFkAimPU1J4MSQII5JNdJHhZA66PVJ2LNE0DD5NBZ8E8TQJq1XT/8hxVApPtu5j3dFkDauH+6pDm8P9MBFMWxPRZANrEJ2KI5vD+tEt+DQNoRQIXOyOJVuhNAo6cfZRDJEUAwBW1hbaoLQPjMDAaDOxZAIWMF1/ETCUCVdu9xkbARQE+3nL1KphBAiOPcyNfuEEBwlHdZsO4VQMH0t3Ux0QxA6ZTILdNND0A=",
            "dtype": "f8"
           },
           "xaxis": "x",
           "y": {
            "bdata": "0NUT5lQe1D+pXKw8jw3xP6g6ife50d8/b1uO3PR57D+CEkRGtHPwP3bPUtECg+M/j5Pfo9M85z+0RIn1kzUJwIDcI5jtVN4/LKnYAJg1CcC84UvCBc3vPyhoJ3FZu+4/dhIoFjai8T9BIqMLcLL6Pwb/mNRvnOQ/GrpD3rS69z8xchUpcUHzPxc+XQ04QfQ/LNAJPZKp+D/Cf9YVLoDhP+8iMqDDqfg/lTaa9jLr8D8=",
            "dtype": "f8"
           },
           "yaxis": "y"
          },
          {
           "hovertemplate": "Label=9<br>Time=1<br>Dimension 1=%{x}<br>Dimension 2=%{y}<extra></extra>",
           "legendgroup": "9",
           "marker": {
            "color": "#FECB52",
            "symbol": "circle"
           },
           "mode": "markers",
           "name": "9",
           "orientation": "v",
           "showlegend": true,
           "type": "scatter",
           "x": {
            "bdata": "TBgnG0fSFUCmX264GwURQBWvlp+5bhJAIXuVdUGxFECgL9/VPAoUQJV4HxuJsBNAOJY4Gw8QFUAHPWxzIrcXQI1Sw2wi+BRApqXjlQodFEBzqIKkfqITQAeEEQ2NDxNAhoWBZYgzFECT6gMEjN4UQGh2gET/bRdAFJAn3IHLFEDHWstqP8MTQFjejfIjixRAPuYWudQ4vD+b9Nh7NGISQPLAkim5XxVAxZU/eutzFEApfokdWOYTQGkLgTXovBRA",
            "dtype": "f8"
           },
           "xaxis": "x",
           "y": {
            "bdata": "QIXZw8dLpz91sX9ZoNvlPyEGprdxEeg/EPmy/8cy4D+8VYQLTyndP0x8e0uOadg/rLATOXW70T8YYKX8SsTEvxAaIQWZGts/uEXGpygV4z/A0jlOBY/KPxiKqmnHXtc/1AopKX0L0D/UWr37WAvVPwg33HmGA9I/2OkgqBQOwj8gtYP1xoHDPzDfzniZbNk/ogqoIZc1CcBETDXGVprXPzA+ZTn9+rW/QIvDG2ZTlD/4zZdlW2PCP+BNZ7aobMq/",
            "dtype": "f8"
           },
           "yaxis": "y"
          },
          {
           "hovertemplate": "Label=10<br>Time=1<br>Dimension 1=%{x}<br>Dimension 2=%{y}<extra></extra>",
           "legendgroup": "10",
           "marker": {
            "color": "#636efa",
            "symbol": "circle"
           },
           "mode": "markers",
           "name": "10",
           "orientation": "v",
           "showlegend": true,
           "type": "scatter",
           "x": {
            "bdata": "5t7ijkuwAcARyYS+p+oPQKCsD7vzx/i/cd7znSufDUAqY2TtNLv1v50NL2odjQ9AVGtpUanzBMBABr/lgBHkv+xNulo1Obw/fDtxr2JP7L8=",
            "dtype": "f8"
           },
           "xaxis": "x",
           "y": {
            "bdata": "Br+GEFzn8b84DmxJ0TrMPzRx5TL9Ov4/IPkTPOIswj+dMqjP/I3yPy69ySROsPY/HLE4ocXo9z+mWhrQreT0vxZsSBaZNQnAFsxV+CbR/j8=",
            "dtype": "f8"
           },
           "yaxis": "y"
          }
         ],
         "name": "1"
        },
        {
         "data": [
          {
           "hovertemplate": "Label=0<br>Time=2<br>Dimension 1=%{x}<br>Dimension 2=%{y}<extra></extra>",
           "legendgroup": "0",
           "marker": {
            "color": "#636efa",
            "symbol": "circle"
           },
           "mode": "markers",
           "name": "0",
           "orientation": "v",
           "showlegend": true,
           "type": "scatter",
           "x": {
            "bdata": "F1j9cs61AsC7l2fsqaH9v6lpCNiTuwXAifiB0wi+BcDzS8eBxvYDwOTdJ285AgTA4IWjZ0wgAcCrpOX82iQDwNYvxoccOAPAI+CgKBUnAcBCdX2RQ4EBwCllWh4xKQLAiyV1lMelBMAtAK3BNMf/vwE+Eq+T4QTAyZk9GtDsBMAGCGNQvR0FwNgJZQ4ijAfAsUFcuYGyA8B86y+4hTm8P8qIvSwRObw/GTb7AMec/r8ADHJaRvsDwA==",
            "dtype": "f8"
           },
           "xaxis": "x",
           "y": {
            "bdata": "fFzbE+j81z9wUUxP5mDqP7in4z6dlM4/qDCYUjp7wz8l/K+Xc1bnP0CDXDVdvre/tIsNNYxo2D+VeIS98+XpPxAWg0A2fO0/sMSpM8H5wT9syblUoCngP2y4knBpMOc/gC6hDO5o3T9lkG+u2PPpP3KMyLAVAeI/GMIDe41m3T+cZdS619LSv8uGl7PVuOc/ALQb1ENhXr9AR0RHmDUJwO5/1tebNQnABLsV7/b93z/iSWALqJHyPw==",
            "dtype": "f8"
           },
           "yaxis": "y"
          },
          {
           "hovertemplate": "Label=1<br>Time=2<br>Dimension 1=%{x}<br>Dimension 2=%{y}<extra></extra>",
           "legendgroup": "1",
           "marker": {
            "color": "#EF553B",
            "symbol": "circle"
           },
           "mode": "markers",
           "name": "1",
           "orientation": "v",
           "showlegend": true,
           "type": "scatter",
           "x": {
            "bdata": "KAO7hXIGAsBtVCQ5GpkAwLn4LnQLSP6/BTJBaD5vAsBV4OCQxhsBwBXm+zPp+v+/m/lo6GI/AsC7w4m/9P4AwIkgEvBV4P+/64pj5DZcAcCFzIVy6c8BwMvQYx8Yav2/B+CNsPtj/r86VzP241wDwJvAfKKPWv6/J9Ca0qwqAcBXhJr1z6UDwMR+E+s8gADAJ1TBBMOl/L9SKekOVcoAwDJdeY+IV/u/A8nXS0PA+r8pYGvn9oEAwHCNNcG5UwHAR6Yfd6sLAcA=",
            "dtype": "f8"
           },
           "xaxis": "x",
           "y": {
            "bdata": "nfbdTSXmAEB8jE4txiYCQFOAVL4CgwBAtKWE7HeN/j/FCpJqGCUDQJpU6CyIYgBAmhYYr/AYAkDJAnpw188CQAplBrtDgfQ/UrjIJxVTAkB07vWLq9cBQA+iYI32nv4//KSse7+pAEAKRefs8/z/P0gEL2k3TAJAJtSXBdjiAkBK5hzdG6AAQCnABknaw/8/Sqog2S2T/j91IL4WlJX7P7g1rtyzswFAixIQFky0AUDLeslT8B/3PzRFlVfJygJAadJ4xaGoAkA=",
            "dtype": "f8"
           },
           "yaxis": "y"
          },
          {
           "hovertemplate": "Label=2<br>Time=2<br>Dimension 1=%{x}<br>Dimension 2=%{y}<extra></extra>",
           "legendgroup": "2",
           "marker": {
            "color": "#00cc96",
            "symbol": "circle"
           },
           "mode": "markers",
           "name": "2",
           "orientation": "v",
           "showlegend": true,
           "type": "scatter",
           "x": {
            "bdata": "INT20w+qBMBJYWKY4xQKwDUWuK2hcwDAlpuX4HbwBMCGqbi7QhUJwMe3BO5PMgTA6JoJ4Yy5BMAkrJZObR8FwAX2GmdDof2/RKJPvu0WA8Dxf0Qjipj/vxpSc9LSkgHAR8EgZTlgAsATWS7Qh9ICwDJOO1A4BALAr+yiAUSWBcAggARDH3IHwJyL2QprRALA5VFEihDhB8B8sroOhNsDwG/pEU+z8AjADIYG2F45vD/h4gX39rMIwA==",
            "dtype": "f8"
           },
           "xaxis": "x",
           "y": {
            "bdata": "FEyPWWas9b/anC7rDaD8v+A9R+Tr6+S/EFwrWOSp+L+2Da0ALabyvwiEeFX2Efe/2lZrTm2U+780RybOPbv1v8AAbYxakOS/YK3rlbnH879IS+BsMajMv6iYMUdhye2/ANrVUgbX8L92cv+ATxLzvxCDkGeRf/O/CjcSuERu878i4kr7Y1D4v25UHSP06/O/VKj+QZS4+L8SlHPieJLzv7K7IpaddPq/ttvhnJQ1CcCKRbYSiNH2vw==",
            "dtype": "f8"
           },
           "yaxis": "y"
          },
          {
           "hovertemplate": "Label=3<br>Time=2<br>Dimension 1=%{x}<br>Dimension 2=%{y}<extra></extra>",
           "legendgroup": "3",
           "marker": {
            "color": "#ab63fa",
            "symbol": "circle"
           },
           "mode": "markers",
           "name": "3",
           "orientation": "v",
           "showlegend": true,
           "type": "scatter",
           "x": {
            "bdata": "BqdFQIKV2r93XF5YC7/hv1WBWDVbGsm/4OhreZSp2L8snzI+6yTYv7Az5lBiote/GWJyh57R4r97FnJsC4Pgv7hiHgE+0ti/4oOmu3iN4b++GG7BgEjhv848FZFpFeC/7pnD2qC34L9SjJVKdk7qvwfpG0amVeG/nwvNZ9UH8r9UJlZoMmHjvzTVLP+Ett6/6rQwa0i/v7/oqcoy1CnSv2Rug3G6OLw/Ub1U23/U5L/Y0bVzumzgv+x/elpA0uG/CHesk1MV3r+Sn2Ds/grsvw==",
            "dtype": "f8"
           },
           "xaxis": "x",
           "y": {
            "bdata": "BFnfcv+q+79c3moIeTsBwEh1l39v69e/H9cIfVzNAcDwBp6+9iIFwJby2BMW/P2/mK8zVKZ6/78KHl/oH0H1v3DB/vWYawLA/jsy+DTKAcCcclGkJLL5v3Du/PegPum/eiIx3ovl/L+q1SJuR6ALwM5pl1TSJP+/pI64rxun8L8wPDlOo24BwOitIQSNefW/xAfofRUM7L/SJ1nuckcEwMjSspCUNQnA7KghO3lIA8CmXC+5csr8vxDJyJ6j5vy/EJjzwtu0AMDIcmYFuQLzvw==",
            "dtype": "f8"
           },
           "yaxis": "y"
          },
          {
           "hovertemplate": "Label=4<br>Time=2<br>Dimension 1=%{x}<br>Dimension 2=%{y}<extra></extra>",
           "legendgroup": "4",
           "marker": {
            "color": "#FFA15A",
            "symbol": "circle"
           },
           "mode": "markers",
           "name": "4",
           "orientation": "v",
           "showlegend": true,
           "type": "scatter",
           "x": {
            "bdata": "iVIo7DOTCMBswJw8CZAFwGlNXPv/wAbAuTSHCae3CcCUXOZcqkAKwD+nMod8FwzAV7nacY6HB8CBvM0C9LMKwDRGOgia9QPAoBzZNgTJA8DzX7FzUH0GwGCK08Xq7gTAOC2Wt+0sBcD/iT0yrSIGwMR05F0P/QnA3XbwQ4f2BsANSUFUwlQDwNdLOI+8SQbAcnw5Sn+4AcAP3LDokC0GwGIh+PSTvgbAc+FoKd5gCMAvx7RvLugEwA==",
            "dtype": "f8"
           },
           "xaxis": "x",
           "y": {
            "bdata": "yWHQyHK/8T8muBCnxwfyP3lX/9cmEfQ/8tzvW4Dd6T/2Cm1NnjbyPxsBdM9jKu0//hNGbamn8D/rZaAyHLTrP2dt4lMV7vA/prPdRQwc9z+aPhAlqG/xPwBiRbMFp4w/0/t9FMF69z8gdIG3IFnpP+90Cau7b/U/VJQyuPCy0D9BrpyR5Pr2P0AfaGBMBKg/+gcQZHqO8j/8MrYYTrbdPznyKD1cHfM/bHv9wXC/7D8f8mZOogXzPw==",
            "dtype": "f8"
           },
           "yaxis": "y"
          },
          {
           "hovertemplate": "Label=5<br>Time=2<br>Dimension 1=%{x}<br>Dimension 2=%{y}<extra></extra>",
           "legendgroup": "5",
           "marker": {
            "color": "#19d3f3",
            "symbol": "circle"
           },
           "mode": "markers",
           "name": "5",
           "orientation": "v",
           "showlegend": true,
           "type": "scatter",
           "x": {
            "bdata": "HXgUDWDNAMBiHinaNAbxv8lEFKeN2ADAItuP5tk0A8BsXKixP57rvydMz/oiqf2/2UL9A3iYAMCtjsbBLcj8v2b7sAdeM/a/PLyh0xaT+L+LEmIIINoAwLjvVqLyOLw/UdB3pmoZ+L940ZyQhe7sv6kpHdahb/2/SQCGCeGKAsAFyCSFW28EwPHRFNWU5wPA3gIqblneBMDq5IR5KgD2v0tH685s0gHA1sHprA+R678=",
            "dtype": "f8"
           },
           "xaxis": "x",
           "y": {
            "bdata": "Koa2SIJg8D9DUL0diJH9P8/PlnGrbfI/b82qpjQ1/j8qBs3KowX5P5hK0JjjpPc/BhmSAbg//D/oiCgxeO/6Pzg8JQ4RJ/g/Wnw5KSk2+j9cNmJ0i/fvPzizvK+WNQnAZXT952mOAEAHsjsFaef9P6bKbxv58eo/orAAtccQ8j86cE1jnZ3zPzNZOOVgb+w/QzI+ThER5j+KTK3xwev3Pwo9RewIW/Q/PMfUwCGC+D8=",
            "dtype": "f8"
           },
           "yaxis": "y"
          },
          {
           "hovertemplate": "Label=6<br>Time=2<br>Dimension 1=%{x}<br>Dimension 2=%{y}<extra></extra>",
           "legendgroup": "6",
           "marker": {
            "color": "#FF6692",
            "symbol": "circle"
           },
           "mode": "markers",
           "name": "6",
           "orientation": "v",
           "showlegend": true,
           "type": "scatter",
           "x": {
            "bdata": "1qNF41OKC0CsNFegM2oMQGe/W0j1XQpAag3EsXbqC0B/7mCmg7AJQPukrUJEkg1AYNs7IiBkBkDFEJ+RdKsFQKDIpqbVhQJAx4amW1u2CkASEp2mtvUGQIV018KqBgVAgzw/j4dyDUDD+CVYkqYIQI8fShrYFQtA/vDKp0kNC0CD3aSdAAIRQFmYmxLRcgxARBu8pDqwA0Db0WBx0XMHQCD5EFriiQdA",
            "dtype": "f8"
           },
           "xaxis": "x",
           "y": {
            "bdata": "+ImRUf1V0D9cS9eXAmnQP3ht1sxzvdo/SILojKvRzj+QlSqux4zXP6Dkq5wAwMQ/riclJH8T4T+yWiq0CUXhPxD6BzLa07i/HP5MaNdY1T+Yqd10bAbfPxQFHch8S+A/0HXHVuJGxD+gy7SX6sDcP1w/OaKgtdA/BHe6fmyQ0T9gJYtHDFevv1Q9p9Sl1NE/IPt2Wc8o4D+cIm6fN9zbPyAGeUk+Otw/",
            "dtype": "f8"
           },
           "yaxis": "y"
          },
          {
           "hovertemplate": "Label=7<br>Time=2<br>Dimension 1=%{x}<br>Dimension 2=%{y}<extra></extra>",
           "legendgroup": "7",
           "marker": {
            "color": "#B6E880",
            "symbol": "circle"
           },
           "mode": "markers",
           "name": "7",
           "orientation": "v",
           "showlegend": true,
           "type": "scatter",
           "x": {
            "bdata": "71BsocXLwb/auyrIoC7Yv4QuY+ZBIKC/IF2lEIaM97+ihgVjPkLfP7w06jo33NC/ilOwfegfv7/YSpE/7DebP5z6wM/t2ey/7FbnGbxS1L8KNV9RNajJP1x/p4VF9Oy/cuo62K7Qtb8us2fEfg6zvyrJrPr/Hta/1W4pXE754T+SAfkpOgyyv/4bF1la2bK/EtwUkWX36b/och+KTTm8Py52eBElFNG/eEhHo2j/2L8udSIwsYrTPw==",
            "dtype": "f8"
           },
           "xaxis": "x",
           "y": {
            "bdata": "/upY9o8M9b+UzcbvY/Luv5jCNSSZ3ee/CpBIpfKI8b/QCRHzlw/av0jHX0pjvvG/hHj5H5GY979IaA3e3f3sv2CKFviKq8y/6qy646Ob/r8Mw0buqLDyv+ZxnajNqfC/WHkaGJsf77+IL1MMYHrtv+oY2qAWmvC/BMUH5UiF6r/0iq5N6fjrv7T50qHJMfC/EH/3yZxh678a1d0enDUJwKhxh8jPQve/sM2Q9jMx7L+a1F0yvif1vw==",
            "dtype": "f8"
           },
           "yaxis": "y"
          },
          {
           "hovertemplate": "Label=8<br>Time=2<br>Dimension 1=%{x}<br>Dimension 2=%{y}<extra></extra>",
           "legendgroup": "8",
           "marker": {
            "color": "#FF97FF",
            "symbol": "circle"
           },
           "mode": "markers",
           "name": "8",
           "orientation": "v",
           "showlegend": true,
           "type": "scatter",
           "x": {
            "bdata": "hZ5aawcB9j/6iuWZzK3+PxFQbDpI8fc/+5iaxF3z/j8PPmD5QDIIQM85z4fPJv4/D8/UKY/QAEASj6pHsji8PxTO/MB2pv8/zi3Ei9c4vD/riU4Wygv9PxE8Nyh2Tvs/KflqT1Yq+z/U+YFIwp4CQPpOkCvKoP0/c88r4Wnr/D+jbY2g0jIEQFLq+f96Pv4/LjTadqk+/j8YtQ/xg1AAQAhCiGN/JgFAr1disoD/AkA=",
            "dtype": "f8"
           },
           "xaxis": "x",
           "y": {
            "bdata": "XFgyu5l56z9gDkUwU0L6P5vCr4YNJfU/F/bEj1iS+z/mP2gNSanzP2Y9BsvMVPo/0MD9xUHi/j8mdFQ5ljUJwLpurGGuhfo/5gb0k5c1CcCSm37LHgX4P9swiLaPiPk/pqgIbLPX9T+NRwV4+eb3P2MErmHYHPo/KGiQiRqH2b8i9BJUNl33P2Z/8rCa9/o/BWUpL/Tn9z/VWP1uYfX7P1n/8fyUYv4/vMa7bMXu+T8=",
            "dtype": "f8"
           },
           "yaxis": "y"
          },
          {
           "hovertemplate": "Label=9<br>Time=2<br>Dimension 1=%{x}<br>Dimension 2=%{y}<extra></extra>",
           "legendgroup": "9",
           "marker": {
            "color": "#FECB52",
            "symbol": "circle"
           },
           "mode": "markers",
           "name": "9",
           "orientation": "v",
           "showlegend": true,
           "type": "scatter",
           "x": {
            "bdata": "y5JrjgN5A0BdbYGqkrADQBrX2AvUPgRAHBU9hImFBUC+fJ8QVuELQIzGhTh92wdArrIMn5iaBkBPMDcTQKEQQA2WaVVfogdA2+NMEFj6AkCjjhkm0UwEQEsNzUBAlAhAj4RSP7CRAkBzifB1Ts0KQE0pZyC6DwZAiRil8EPXCUDpNU1GSqH0P8AUYFx6ighAUM014lY5vD9rvcHuzQwEQE+bUV24HwlAVKXtq2QrAEDdWZgEtCABQEANCSWMEQ1A",
            "dtype": "f8"
           },
           "xaxis": "x",
           "y": {
            "bdata": "aNjDMHa13j+0a2M7daHVP3AcliuuRdo/VFOD/u8O3T/gsyjzgB2yPzTyMrfU0dI/+KernqQk0D/YFJOIxKvFv2AScudHn9s/yN/R7FS5xT9MLFn6/TbZPwAYEiY8r8k/3ChAUSh62z/gv5u1knPFPzx9GjzYZtY/SD1Pdh0gxD8Qn9J4vBDqv4j/dt+VAsw/OGsY0p01CcAUOEIefkDQP8jqGEqOatE/MD9K1vDMvb/gEDH23RnLv1Bzl33Sk7E/",
            "dtype": "f8"
           },
           "yaxis": "y"
          },
          {
           "hovertemplate": "Label=10<br>Time=2<br>Dimension 1=%{x}<br>Dimension 2=%{y}<extra></extra>",
           "legendgroup": "10",
           "marker": {
            "color": "#636efa",
            "symbol": "circle"
           },
           "mode": "markers",
           "name": "10",
           "orientation": "v",
           "showlegend": true,
           "type": "scatter",
           "x": {
            "bdata": "0ip2dJALBcBFPKQgISoIQHprbm0Z5wHAYw6C6IvMD0ApSBCC7pH7vz2rmOL8IwNAPM9I/NWHAMBO64JFsPD2v4YvfGNOF9w/A6bRkBYR878=",
            "dtype": "f8"
           },
           "xaxis": "x",
           "y": {
            "bdata": "wqoKAIJ5+b+wvjUrYIXKP3dlf0/I8AJAAKjDQVhAqD8eHLgX4VnyP/F1IEjQ4gBA59QS/Jww8z8Iaph8tx8EwChJIa6skde/yN7n1JXm+T8=",
            "dtype": "f8"
           },
           "yaxis": "y"
          }
         ],
         "name": "2"
        },
        {
         "data": [
          {
           "hovertemplate": "Label=0<br>Time=3<br>Dimension 1=%{x}<br>Dimension 2=%{y}<extra></extra>",
           "legendgroup": "0",
           "marker": {
            "color": "#636efa",
            "symbol": "circle"
           },
           "mode": "markers",
           "name": "0",
           "orientation": "v",
           "showlegend": true,
           "type": "scatter",
           "x": {
            "bdata": "QSj/VMzt+r+voZNZC633v2X93eMRMva/qjpwjt9v87/5Bzd1LsQBwFL2hOmp7ALAc5dYE3OP/79kaxyzgg70vyH5JKb27gHA6UFqewsA/L//kTCU9wb/vww+7yzdgPq/McI7gZtA/r8xN4FZpXTyv9PF6SLDSPm/KYaiyr7Q+b9rT5fINPD/vySd6oOvNADAVSvJFlY6/b+cW5BXSDm8PxJotoFWObw/i1rnKAjX9r/Fcmmra9P9vw==",
            "dtype": "f8"
           },
           "xaxis": "x",
           "y": {
            "bdata": "6J8RdFHyzT9a2+llvonxP5+Ar+GsHPM/vMzbJL2f1z9klX/5oEfsP3jrUi5NEuo/c8IyuwA78T+MLMVvx0z0P0va4G/kkew/bFvfFNZG7D+EClVPtHnhPwa51j2jVfI/0MTwpe/F6D+CBl7VLtjjPwzosik12/E/gElEVNQ7zj8wDGo95SvwP9S3dGXOYtI/18euCp4Z6T8kJTkFmjUJwFxcQkaYNQnAw98gAkfC8T/sU+mLs77xPw==",
            "dtype": "f8"
           },
           "yaxis": "y"
          },
          {
           "hovertemplate": "Label=1<br>Time=3<br>Dimension 1=%{x}<br>Dimension 2=%{y}<extra></extra>",
           "legendgroup": "1",
           "marker": {
            "color": "#EF553B",
            "symbol": "circle"
           },
           "mode": "markers",
           "name": "1",
           "orientation": "v",
           "showlegend": true,
           "type": "scatter",
           "x": {
            "bdata": "6YgWin0KA8BHGx+E9Br8v0qZzN7btfK/Zla4QlUbAMB/lKjI0vH8v/49tZKRAgDAA//nZv5kAsAFD/wPwVX0v7afXcpjP/W/teGfT7BQ8L+SuHU7zTTrvzZ/LMMgiu2/+XKQBF27/L8IGskFjpMBwGr6AdwUr/u/SVifngSF878RaTDmdWzzv7vrIPDVUPK/ISt/ALXL/7/euGXk/LECwLgjYLn8SO2/TIHq1hyP7L/ctSJw2xYFwGscC6zi7wLAnNKSBg7S978=",
            "dtype": "f8"
           },
           "xaxis": "x",
           "y": {
            "bdata": "Xpvrcdya8T+lJYAejzTsPyevua6WHf4/tgLAT6Ys9j/JWM94K8/uPyepd+CjOuk/XNqIewC98z9351to27D1P7JKrFJ0QwBA61HfbbL2+z9RjGoip8L2P9wxa3az1fg/16p+45ER8D8AT0J25kbyP1gYGWcpJPQ/rUJ6XLta/j8MiAmuaxf+PzYfbnLq8P0/7DYth5aP8T+IRd9ye8zcP/6yFCbO/fg/oii+56MR9T9c9GMTQavyP7hb2fe8MfQ/1FEN+PR/AUA=",
            "dtype": "f8"
           },
           "yaxis": "y"
          },
          {
           "hovertemplate": "Label=2<br>Time=3<br>Dimension 1=%{x}<br>Dimension 2=%{y}<extra></extra>",
           "legendgroup": "2",
           "marker": {
            "color": "#00cc96",
            "symbol": "circle"
           },
           "mode": "markers",
           "name": "2",
           "orientation": "v",
           "showlegend": true,
           "type": "scatter",
           "x": {
            "bdata": "8ZZc5S7X+L+6LIB09qIEwHeD7Qm2/PS//XxSTk7w8r+Quo+x5Vf4vxLkx0EaLO2/OBDXRFboBMCNvf7vplz2v3vuCrH/k/y/vkmPSRM38r+C+h68k7jvvxviWai7OQPAvQNs7iN5+L8bJ1jr5mH5v5Z7J/b8avW/5HL1kkka9b+IEwKcuxPzvytaDRiRtgTApDvjjM/g6L/47VMuO5nuv5i/pJippfi/XAYA/c85vD+/oQGJIOz5vw==",
            "dtype": "f8"
           },
           "xaxis": "x",
           "y": {
            "bdata": "3B3yYU9y5b+UQ7d6kdvtv5B4cCy9Jea/3IvUxix56r/aB5kVwtbwv6iGVuoO9uC/eGzN8NrW8b8YKNB/8Qfsv6h6BFxljui/OEyx16Dz5r+MZWNSQD3mvzCnVIsBue+/MPPHYqWf+b+s21701u/nv4wgpfv+Te+/cMILNVnF5L+I0PrKcZHgv4CqRglglO+/sHo1NDE917+YmMzXuXbHvzAE2cmV++m/yKXV6p01CcBgHlDQgmTwvw==",
            "dtype": "f8"
           },
           "yaxis": "y"
          },
          {
           "hovertemplate": "Label=3<br>Time=3<br>Dimension 1=%{x}<br>Dimension 2=%{y}<extra></extra>",
           "legendgroup": "3",
           "marker": {
            "color": "#ab63fa",
            "symbol": "circle"
           },
           "mode": "markers",
           "name": "3",
           "orientation": "v",
           "showlegend": true,
           "type": "scatter",
           "x": {
            "bdata": "zIYXTPRZ0b+izVO5Z2TRv8YAEzWSWru/fAOt6hiD5r81d7xBu5f0v27QsYqZEfW/y0crnJKK+b/+SCYqcIDBP0gHlVM/3/W/D8ZDfulr47/ac1VEqMLcv/YVBXS7qcU/N2SMJtuV8r99HoG5bSH+vwzYS0R/dei/KMpZpB2G9b8iZXPZRH7hv11BgnB71cW/HFWudExu6r+zppm8LN3xv1LaxEEKObw/E8MzUI988L9d+12wjHn6v6ULx4y8Ns+/2fRB3GPpyr/TWkaFKW/Mvw==",
            "dtype": "f8"
           },
           "xaxis": "x",
           "y": {
            "bdata": "hPXSdKxz8b+8z4ODNRDhv3iU1T5Zwu+/Mu6JY4W09b9oOm38V6r8v7g2fOFtY/m/4Dy4prGg+b8tirgNimMCwAR4xdr6q++/CJ4r8HRC6b/IK+bddLHav9xYDGAH7gPA+PF+D9706b9M1bmhTB31v66WmSIdWgHAsA0jTiy2+78oX/rBjLvhv6jYn9PXce+/wF01TD+6mT8g0AML+uS5v+Y1sNSWNQnARMO4I41i7b8QzMJ8tr/avyzyBuB8OeC/OBKI2QEj7b84ZsdDNyrkvw==",
            "dtype": "f8"
           },
           "yaxis": "y"
          },
          {
           "hovertemplate": "Label=4<br>Time=3<br>Dimension 1=%{x}<br>Dimension 2=%{y}<extra></extra>",
           "legendgroup": "4",
           "marker": {
            "color": "#FFA15A",
            "symbol": "circle"
           },
           "mode": "markers",
           "name": "4",
           "orientation": "v",
           "showlegend": true,
           "type": "scatter",
           "x": {
            "bdata": "jeU6J+8q/7+Wrb1Sclr4v+cM0IwD6/y/XvFN8DTBwj84/xCCln74v8sn91WZugPAfY8RCyIO+r9FmiliPl36v2t2+z+SDve/Nzsft74IA8AVc1Jjy/T1v+DS2NpULXK/ukaFzCMhAcATUe2/m9D4v5BvP6RQvfa/7SwkTbMW/7+kOno/jdUAwO4VuS2xB/C/nyDNih9o9r9zc4dWaUz+v7+sTOyR6fW/ctMtXjCkAcCwAehyCWrgvw==",
            "dtype": "f8"
           },
           "xaxis": "x",
           "y": {
            "bdata": "UDcUjDqR9T8rkgArVf3zPzAx+mJEAtw/70vE9P4Y6D+myLZ3P2jgP3R86X38V9Y/jCkKYQwi8z+7fA08n2/zP/W/dq2nLeY/xF5heil42D+yhS04JuXkP1Dzd/KeHfY/00+K55qC5T+AygyHpV/jP2uGmOc+YvQ/xPCVIXHB9T924nSqJkPgPyiHXqGJQt8/BlhDZPLx4z/IacUFdWj0Pwk+j1UFA+k/QJVep1UK4z/gRNP8bIbkPw==",
            "dtype": "f8"
           },
           "yaxis": "y"
          },
          {
           "hovertemplate": "Label=5<br>Time=3<br>Dimension 1=%{x}<br>Dimension 2=%{y}<extra></extra>",
           "legendgroup": "5",
           "marker": {
            "color": "#19d3f3",
            "symbol": "circle"
           },
           "mode": "markers",
           "name": "5",
           "orientation": "v",
           "showlegend": true,
           "type": "scatter",
           "x": {
            "bdata": "pmuH1Jv01r93b1LbTOHFv5MkO6SIQcU/NsM3vw/X7D/44MI7lJDtvxRav1HDd9O/rZOIPb7Iyb/w9RfdhN/Wv5/stR42ncu/o9skQju94b/eqMWArtrwP47TygwmObw/OaysEaCNyr/saKyQTRXqv36M3YTKbda/NhWHTlTM2b+fKN9fF6PjP3ratsnce9S/FL782sUN0T/+DrAscirgv1RtaoA3SNi/GeBGh2L58T8=",
            "dtype": "f8"
           },
           "xaxis": "x",
           "y": {
            "bdata": "TjXUEour/j+t2KmCjuzzP7sfH0n6Tfk/MmLYIcRu9T8bUlLzyQLtP2AwkndE3/M/9H1UJuDj+T+z4dMzVOb7P8CstRexDPo/f0VOzX1RAED677fcS7PgP/QM+nCUNQnAeGgiAeSp+D/tvLUSDav8PwJsdIrzyf4//B37n6AqAEAymzOIcFfxPyMbvwIjRP4/gJdf4olO7z+74RbezUcAQD1I7naLZABAEFH6UA0E3z8=",
            "dtype": "f8"
           },
           "yaxis": "y"
          },
          {
           "hovertemplate": "Label=6<br>Time=3<br>Dimension 1=%{x}<br>Dimension 2=%{y}<extra></extra>",
           "legendgroup": "6",
           "marker": {
            "color": "#FF6692",
            "symbol": "circle"
           },
           "mode": "markers",
           "name": "6",
           "orientation": "v",
           "showlegend": true,
           "type": "scatter",
           "x": {
            "bdata": "7wvhtMPIBkA9EIWFLIwEQPE1bMGxqQpAGjablph6AEAdHk1YWQAHQCR/0IMgOAZA+oSZM1VZAUCK534cSN8IQKepjSli1/k/KFMlcOWhDUCeGh6zNhQAQJSNGB6EkAZAwV6vPY/FEUBkF66rn5UEQNGw/1NChQhA6KrrnpUHB0D9funetKkGQH9ImZglOQdAzotwjzw7BkCOFvMLZ/UJQIfhVO3cevw/",
            "dtype": "f8"
           },
           "xaxis": "x",
           "y": {
            "bdata": "eFV6IQc1xj/M87KoHbXgP2wudCrbJtQ/Guz+9UeU4j/AV33o8se+PzSP1kfKCuI/CMdroDNi5D9QqF6gcfe+P/CgkgAuy9s/sAWAJXwltL9g9OVsVYCyP5CXiZj3dtu/eHeKWzYI578wDzgI/c3EvzDUA6XQY90/cHu7m/kj1z/gL0ySMr7FPwDasEnW3Z8/iO+9Ez09yz/ME8/LnunZP+wDSuskiOQ/",
            "dtype": "f8"
           },
           "yaxis": "y"
          },
          {
           "hovertemplate": "Label=7<br>Time=3<br>Dimension 1=%{x}<br>Dimension 2=%{y}<extra></extra>",
           "legendgroup": "7",
           "marker": {
            "color": "#B6E880",
            "symbol": "circle"
           },
           "mode": "markers",
           "name": "7",
           "orientation": "v",
           "showlegend": true,
           "type": "scatter",
           "x": {
            "bdata": "LAguFsul+D+CxFhn3Ti8P5UZRCK5YtA/GmMKVb/C0z9yXsWgQJztP7KD7X5KW/E/cXE/5mHt/j8mlfenn8nEPywg28Pq4QFAvD3Dvyg4vD+C6BfyXZ3+P68Jd1RwmNk/iM4HEKI5vD++BMhy7z/fPxXU9KowhwBAm3bQrVf52z962VyNO1/hPw6uWd4UOdA/cPZ70UwD2j8swqtEMzm8PwWHkwWGWMw/dBADEjA/AkDY8BbhYDDdPw==",
            "dtype": "f8"
           },
           "xaxis": "x",
           "y": {
            "bdata": "6DdVvC2T1T9QddTlmDUJwJCLIbZrCMy/QFnyUOOc4b8ABwUYHGakP6Bzz1iZIKS/cPKJt1GGtj/sXWsPCnHVv3DR2ZTLq8w/yIbc7Zs1CcCgEOJFWtrDv8Ag9v9Lu5K/JlwYxJk1CcBKcmWuk9Lwv2DqaMe5W6q/0DaNxLzbzD+0GR5CTDXyv1igAjqFFN2/UB0lWbi04r+2a+9dmjUJwEb83EfL2fK/QLfEH1ky17+ISSLHD0Dtvw==",
            "dtype": "f8"
           },
           "yaxis": "y"
          },
          {
           "hovertemplate": "Label=8<br>Time=3<br>Dimension 1=%{x}<br>Dimension 2=%{y}<extra></extra>",
           "legendgroup": "8",
           "marker": {
            "color": "#FF97FF",
            "symbol": "circle"
           },
           "mode": "markers",
           "name": "8",
           "orientation": "v",
           "showlegend": true,
           "type": "scatter",
           "x": {
            "bdata": "Wzgrst3BEEDIS0N8ig4DQHZurpWlowZAUIga9aw1CUD/9KlxrsURQK6yGymKXAdA7nimfwfWDUBSRtqIgTm8P3KGlyTO0QNATq+BZJM5vD9MyTUK9RYHQNI4CChefw5A4+Q+D8R9C0DJXMW2bn8HQFGkJhhKUgxAKk/gwCGVAEB+5DAME5P/P84nySE8QARAi3/Xr6n4BkBSJwpmzyAGQGVGqEYcyQRA3IvbOna1CEA=",
            "dtype": "f8"
           },
           "xaxis": "x",
           "y": {
            "bdata": "pElwsiK++D82kCHM8lgAQNgTMmPHevc/6Eki+9E0AUCY2l2cKEPzP5jaReX8K/E/MNIKo/3y9j+CL1bslzUJwJHYVxFi/gBAAEdl7pU1CcBgETFuuKnvP5OWsRMiN/k/jr1eDzj98z8fDpzr6gwAQOI3+X2WPOo/BXMk/17t9T84uQixuEzqPyUjQfa1qQBAEDpFWBAuAEDZAkEx1+UBQE7kX5qpOAFAcgHzJcmj7T8=",
            "dtype": "f8"
           },
           "yaxis": "y"
          },
          {
           "hovertemplate": "Label=9<br>Time=3<br>Dimension 1=%{x}<br>Dimension 2=%{y}<extra></extra>",
           "legendgroup": "9",
           "marker": {
            "color": "#FECB52",
            "symbol": "circle"
           },
           "mode": "markers",
           "name": "9",
           "orientation": "v",
           "showlegend": true,
           "type": "scatter",
           "x": {
            "bdata": "NrxXJWP+CUACN8/Amzi8P4O8gFF8MwtACEWouwZUBUBCR3r4zD4KQGWR7MU7UwFA4sNDdhBYA0CRvsolUHoLQOsGqiXTuQpAsSaNS5+6AkDs+qnsXvAMQGWRJyqb6BBACpG0hS4cCUATjf+BeuvwPxOzYrfKmAlAKxYskzRZB0BmIgvsoji8PzKl7mDeNwRA1i7jfug5vD8+KDZyBbkCQHQdgKU2pAFAOl3gv0YcCEChHQ9RDakDQKY8p59VegZA",
            "dtype": "f8"
           },
           "xaxis": "x",
           "y": {
            "bdata": "+EXD45rC6r8qPNPfmDUJwCA8hbrcjsQ/CDqEwntCyz/wEueLONm2P0iWlluB8NE/UBZBCgNQyr+AIJl0VqjsP3GfKX86gOg/WHDzd8i22b+4F09tCB3HP+zauH5IZek/wMXQ/ovQ778yvP8HFnzgP9a6VgSrUOQ/gcL07TAA6z8CbGK/njUJwPCaAEmqdco/gsuo+5I1CcDQ7SWx2YzUPyBauzhkKq8/hD7X14KK3D9A0ey+Ksifv4cxirf+TfM/",
            "dtype": "f8"
           },
           "yaxis": "y"
          },
          {
           "hovertemplate": "Label=10<br>Time=3<br>Dimension 1=%{x}<br>Dimension 2=%{y}<extra></extra>",
           "legendgroup": "10",
           "marker": {
            "color": "#636efa",
            "symbol": "circle"
           },
           "mode": "markers",
           "name": "10",
           "orientation": "v",
           "showlegend": true,
           "type": "scatter",
           "x": {
            "bdata": "SNFOP3A6678Bm2qEr6b8P1yp14iNOwLAlc321uvrDECPtmXOm9n2v6WfltGXjwZArdiNFTmdAMBfl2scZsX7v1zgrw40iPI/mM5qb+uN1L8=",
            "dtype": "f8"
           },
           "xaxis": "x",
           "y": {
            "bdata": "mGj6gxIZ6r8wHRBZfqzAP1HbyiZZlvo/cIzwYDZxvj8oM5LyqcnwPwgmivmc7v4/Bhl+kT/s9D9pMPYC2f4AwIAwg9M43L0/e7LhbWw1/T8=",
            "dtype": "f8"
           },
           "yaxis": "y"
          }
         ],
         "name": "3"
        },
        {
         "data": [
          {
           "hovertemplate": "Label=0<br>Time=4<br>Dimension 1=%{x}<br>Dimension 2=%{y}<extra></extra>",
           "legendgroup": "0",
           "marker": {
            "color": "#636efa",
            "symbol": "circle"
           },
           "mode": "markers",
           "name": "0",
           "orientation": "v",
           "showlegend": true,
           "type": "scatter",
           "x": {
            "bdata": "WCbiZrvg+7+U9LX2Nzi8P66Y0a66OLw/UrkXw+CJur8Cyrz5lzi8P2mGKzJTbv2/cD4Wq7Q4vD/ezFXmMDm8P9dUEYvOYva/TzJmmz7L/7+fcCvN9M39v+RcgRFwOLw/BywZ1XDZ/7+yBdg7qlEAwEwoKTVsObw/6RIwEvr24r8/LS4+YAv+v+2jJh0tJPi/xAWa5685vD8GTMHjJzq8P3agRxNDg/q/3g7XxlM5vD/uMbsHuDi8Pw==",
            "dtype": "f8"
           },
           "xaxis": "x",
           "y": {
            "bdata": "LsAzq5OI4z/mzmt2lzUJwAhY9IuaNQnAkJ2r310q0z+0gleFnTUJwF8QyeGAs/M/CNT8oZw1CcDg1HitlTUJwMDPYfVtor4/TWTICNXu6T8mkuBzBIriPxp8oOSYNQnAdP3XD9U37z+YzbcANWvoP5LcasCZNQnAwJ5Il+OInb8BHs6YSPHrP5A3Mchu2dM/oA9A+Jc1CcAEJKfOlDUJwANPR9Cm3ek/GAwU25Y1CcAeg+1WkjUJwA==",
            "dtype": "f8"
           },
           "yaxis": "y"
          },
          {
           "hovertemplate": "Label=1<br>Time=4<br>Dimension 1=%{x}<br>Dimension 2=%{y}<extra></extra>",
           "legendgroup": "1",
           "marker": {
            "color": "#EF553B",
            "symbol": "circle"
           },
           "mode": "markers",
           "name": "1",
           "orientation": "v",
           "showlegend": true,
           "type": "scatter",
           "x": {
            "bdata": "nbxDXVMS/L/qRSCK2IoCwAQ7vvuHObw/h+B5+Q+o+79dTZYyBfoBwD8wejnO7wDAE1sP6whwAcDdOu2gyyX3v4rRYKYXSPm/yvKeUy45vD8q+Hne8jm8PxgXk8r/OLw/hAHApF+i+b9hwRYwIs/8v/rXjckdPfe/7HQ2Jbk4vD+ab5YBBTm8P0iYwexYObw/N83lO71B/b+yqDmdYsr4v66GYjrPOLw/frsaBGE5vD9d6dL4+GH/v/k2c9FGbP+/wAZ55Uw5vD8=",
            "dtype": "f8"
           },
           "xaxis": "x",
           "y": {
            "bdata": "PUcX7Bou6T8AZWBu2wO4v/AEViiWNQnA6MrMkvbT3j8AJ1uaZ17bP6qn0UqmgOQ/m3LldcP07j/0PAwqEPTQPz84Jqyv3vk/LKMcCpg1CcCq8dReljUJwIgSxe+YNQnApEuYzIe90D/uiYCQzCnjPy6q6q+dgOM/ShsUMZU1CcBQYplsmjUJwPRnAeWXNQnAZEimrqdq1z8/tJehs7bqP14CN9eYNQnAxm2YvJM1CcAxMkg2QffuPzgZUvw6WOM/8kRp9pg1CcA=",
            "dtype": "f8"
           },
           "yaxis": "y"
          },
          {
           "hovertemplate": "Label=2<br>Time=4<br>Dimension 1=%{x}<br>Dimension 2=%{y}<extra></extra>",
           "legendgroup": "2",
           "marker": {
            "color": "#00cc96",
            "symbol": "circle"
           },
           "mode": "markers",
           "name": "2",
           "orientation": "v",
           "showlegend": true,
           "type": "scatter",
           "x": {
            "bdata": "IeN9HUkO/b/CblKQC3kEwKLgM7AEObw/woZaNu84vD8UR9MbReD1v+rY6p0zOLw/kxl4ry+rAcCYE6Azqjm8P5hQRMyZXuO/JCyskpU4vD8kl3RDXzm8P1shBi2TpPq/nHVIY3g4vD9vjk/sjQP7v3xbcTeZObw/YmP0p8M4vD8i3kYrWDi8P5DqU/gQ6APA5tF9BeU5vD9O9KQZATm8PwAfTI95OLw/8kKNfy85vD+4LJuIgzm8Pw==",
            "dtype": "f8"
           },
           "xaxis": "x",
           "y": {
            "bdata": "AA3nq951hr8gY1TaBSStvzYbz66SNQnA7pOJdpY1CcD4f9LzFsDcP9x51SWYNQnAAMBWKcbzxD+QTdc/mjUJwMBgEPtTIKg/SOZAn5o1CcDI7XJtmzUJwGQ+mfD5U9G/RhbwIZg1CcA418WCq1LXPzJ0TvaYNQnAet9t44w1CcAmTWKMljUJwEFnblsJWeY/sCPfNJQ1CcCUxM9ilzUJwFrghcOYNQnAooPzWZA1CcAgCojckTUJwA==",
            "dtype": "f8"
           },
           "yaxis": "y"
          },
          {
           "hovertemplate": "Label=3<br>Time=4<br>Dimension 1=%{x}<br>Dimension 2=%{y}<extra></extra>",
           "legendgroup": "3",
           "marker": {
            "color": "#ab63fa",
            "symbol": "circle"
           },
           "mode": "markers",
           "name": "3",
           "orientation": "v",
           "showlegend": true,
           "type": "scatter",
           "x": {
            "bdata": "BF/eEzw5vD/wP2I2ZDi8P6goMsCcObw/aMpnjBSS+L84O4UVWvPyv+SeQK6hGvm/oVVyVdE+97/4M9k8nzm8P05RfgUDR/e/QHqJQSY5vD+ajvSiHjm8Pw6F3GIeObw/IYMGkGHn/r9TkCE0vHAAwIQyOLcq5wLAa7neHc/O9r/awBhkfDi8P/w4A3JGObw/ELJFEVDu+L9xiAyhxx//v0K6jwicOLw/FNS68nY5vD9xJfSNx9X4v4LSSExBObw/Rq1TQ+o4vD/mvGiQVDm8Pw==",
            "dtype": "f8"
           },
           "xaxis": "x",
           "y": {
            "bdata": "us6vspc1CcDc5MtZmDUJwPQA1RuaNQnAODx3cdwZyL8wYrQGMJXUP5gyvJDsftM/B3gIWxTK5z/OmHF1ljUJwICLbfIyP+I/xn0A1pc1CcC4zt71ljUJwPjvMRGYNQnAAH9bCxRZdr9gLq0YrEyrP/C2FQy6UuM/EE5WXz5Hx79moAV2lzUJwFKSefCaNQnAaVdG5QDl5T9DdDPpcz3nP5hyoTqbNQnAgCprk5k1CcCLHPAb2ObnP3Kd/l6WNQnAJPmphpc1CcC8UVg3ljUJwA==",
            "dtype": "f8"
           },
           "yaxis": "y"
          },
          {
           "hovertemplate": "Label=4<br>Time=4<br>Dimension 1=%{x}<br>Dimension 2=%{y}<extra></extra>",
           "legendgroup": "4",
           "marker": {
            "color": "#FFA15A",
            "symbol": "circle"
           },
           "mode": "markers",
           "name": "4",
           "orientation": "v",
           "showlegend": true,
           "type": "scatter",
           "x": {
            "bdata": "EMf1by45vD9Ws88Vgzi8P8/h00AhhPy/V53H8iEa+T8+iJIb4pQBwDyWMTr+VALAOste1zU5vD9mCFA7ODm8P5j93X08Obw/ZusZRoELAcBY02R3/zi8P2xtVkZeFvU/l01DvDJf/L92SVAfqzi8P4Iq+uulOLw/uHz56VY5vD+L10j4ZVX/vwoAkKN5Obw/SARp1885vD8QS/SEFTm8P1FTYYHacP2/ZNGLkejjAMDIqQflu4nuPw==",
            "dtype": "f8"
           },
           "xaxis": "x",
           "y": {
            "bdata": "/DdAkJs1CcB45bQflzUJwFCf5dRpE+E/L16BTJ6+5T/8BQRnGojgP65EZNztleQ/Fj7Ls5U1CcBeWACPmzUJwD5NH8SWNQnAwHBqKV3CqD92ZAuzlzUJwDc5cBUkV/M/YCfezyXaoz+ojcW0mjUJwP5or6CZNQnAYD8Yi5c1CcBQFKbviFi1v2iT2NaXNQnARj/sqZQ1CcBYNrmDljUJwJxtzxFIp9s/0MUGbjGx4T+vEW1MKOznPw==",
            "dtype": "f8"
           },
           "yaxis": "y"
          },
          {
           "hovertemplate": "Label=5<br>Time=4<br>Dimension 1=%{x}<br>Dimension 2=%{y}<extra></extra>",
           "legendgroup": "5",
           "marker": {
            "color": "#19d3f3",
            "symbol": "circle"
           },
           "mode": "markers",
           "name": "5",
           "orientation": "v",
           "showlegend": true,
           "type": "scatter",
           "x": {
            "bdata": "7HkWVto4vD/yufBO1ji8P0bdzDwHL/Q/kHEz6PsM9z9xvTovbD4BQCDadt2UOLw/5Hq1B0o5vD/2KqHMhzi8P7bxBaAoObw//CWKeNc4vD9PInfLFeP7P/q04zmgObw/Mpbp3dg4vD8h9gxoRjYFQJSChl7bOLw/dvNb4VM5vD8OXiTk/gj+Pw58AIQpObw/yEs+pY+6AEAEYG4qIDm8P0QIJ7rPOLw/S7zcTBrV+D8=",
            "dtype": "f8"
           },
           "xaxis": "x",
           "y": {
            "bdata": "fFeVv5Y1CcBWJSCdlzUJwOmPlmJaZe4/PbaQ0WTY6T9m6OSMiCbjP3wYzHSaNQnA1BAz4Jo1CcAOj9l1lTUJwK7xNC+XNQnApKQnx5M1CcAKxwveMjTtP1qopCycNQnAjPc/nJk1CcCUkEfoVIvYP6ZkG3WZNQnALB+WEpY1CcDksOWWyivwP1DNl1eYNQnA9BgeI9Jz7j/+QVtSlzUJwL5aN2CVNQnAG81SDAxU5z8=",
            "dtype": "f8"
           },
           "yaxis": "y"
          },
          {
           "hovertemplate": "Label=6<br>Time=4<br>Dimension 1=%{x}<br>Dimension 2=%{y}<extra></extra>",
           "legendgroup": "6",
           "marker": {
            "color": "#FF6692",
            "symbol": "circle"
           },
           "mode": "markers",
           "name": "6",
           "orientation": "v",
           "showlegend": true,
           "type": "scatter",
           "x": {
            "bdata": "6HubE11J+D8gozEbsji8Pzi1tGocObw/dEyBVlk5vD84NVanfzf9P9TvQUBnObw/CNEMw085vD81OE2ynnYEQEnz4Qkd6Pw/gOFXh+ct8T8w5tInd+b3P6iRsRiFObw/MqTEmgFtCUDDVEn5S+X6P2LUx9oCObw/Nh70I790AkB+yNDs4Pj6P1eNBfSACgBAtfhWnVmbAEDWCwesWTm8P2lgBMJbhuc/",
            "dtype": "f8"
           },
           "xaxis": "x",
           "y": {
            "bdata": "sw802U8Z5z+qaJNmlzUJwGgWHN6XNQnAwtafTZY1CcAwVW9w5WDkPzzZSt6WNQnAUDXvWJc1CcAP/xVXLW7pPwZpkp9+beA/7Dln6wXA4D88jQk0FsPqPxpeXsqbNQnAGDUpUNhO07/Ad5MIthPaP26AZNeWNQnAhJO5isXL6T+rPqN71yHqPwyCv7lToO8/uKaatMCE5z+Kmbm7njUJwPzkfoC4++0/",
            "dtype": "f8"
           },
           "yaxis": "y"
          },
          {
           "hovertemplate": "Label=7<br>Time=4<br>Dimension 1=%{x}<br>Dimension 2=%{y}<extra></extra>",
           "legendgroup": "7",
           "marker": {
            "color": "#B6E880",
            "symbol": "circle"
           },
           "mode": "markers",
           "name": "7",
           "orientation": "v",
           "showlegend": true,
           "type": "scatter",
           "x": {
            "bdata": "rxetJ9iA/z9YSS+kLzm8P2KZuXZ3Obw/ZAGV8KQ5vD8d9/yy5L37P3nF2W2AKwFA2Nelr7mxAEDU5gNOGjm8P8nlDFSK4/o/ghxYSWY5vD+Zj9oTIi7+P3okEh7/OLw/pPs4brE5vD82yuVQ2ji8P1rlUv6jMvs/4srghA45vD+mwrH2Xzm8P05ZHXsIObw/CNNYIek4vD96xxtJ+ji8P8oh5EquOLw/LeTtlpaB/j/KFYk74ji8Pw==",
            "dtype": "f8"
           },
           "xaxis": "x",
           "y": {
            "bdata": "DAek6p0p4z9iPOJDlzUJwJw68quaNQnAmpmAl5g1CcBq2TI5AnjkP9uaDekumOw/lqYaKzlT6j+AQ0p1mTUJwGZvomPm9OI/ViwBMZw1CcD+NYU/oz/pP5h+qH6XNQnAgKlsmZc1CcBIhej+lTUJwLI4ipdvaOM/YFv5bZU1CcBG/bzokjUJwN58SVyVNQnAPFWubJY1CcBorp64lDUJwLZ5PgmXNQnA5aC0g57z6j82R4DhlDUJwA==",
            "dtype": "f8"
           },
           "yaxis": "y"
          },
          {
           "hovertemplate": "Label=8<br>Time=4<br>Dimension 1=%{x}<br>Dimension 2=%{y}<extra></extra>",
           "legendgroup": "8",
           "marker": {
            "color": "#FF97FF",
            "symbol": "circle"
           },
           "mode": "markers",
           "name": "8",
           "orientation": "v",
           "showlegend": true,
           "type": "scatter",
           "x": {
            "bdata": "yRltzyiGA0DyIdV3ODm8PwgdWM3EsQdA7iPOPqw4vD8xKc6KsjQIQDOBd2hkUgBABF1+Ln0ACUAYPrtVUDm8P+YZ8n6LObw/4uBWTLs4vD8hSh8fYND7P+8D5GKuFQtAmigJIO36BkCKsn4wMjm8P0GbCgl5NAJA1JEolDw5vD92MGyEwsEGQOYrALXvOLw/0k3N6x05vD8c39tHBDm8P3bzFwFdObw/7ho7aIE//T8=",
            "dtype": "f8"
           },
           "xaxis": "x",
           "y": {
            "bdata": "v+iIU2DV8D/Iez63lDUJwMJWmySuavA/Ugj5KZs1CcDimwCG2kHyP8AVBTJeUfA/B9V9SLM49D/aPQe5lTUJwLbQ4tKUNQnA1sOvGJo1CcAySjHrblv2P4ijNozrdOo/PeYoCy/e7z86RI2tmTUJwHAYWaBZCbs/vBNlvZU1CcASkdyx+grwP6CGy/KZNQnA3t876Jc1CcBITgZMljUJwMb3UKyXNQnAyhpjXsMq8D8=",
            "dtype": "f8"
           },
           "yaxis": "y"
          },
          {
           "hovertemplate": "Label=9<br>Time=4<br>Dimension 1=%{x}<br>Dimension 2=%{y}<extra></extra>",
           "legendgroup": "9",
           "marker": {
            "color": "#FECB52",
            "symbol": "circle"
           },
           "mode": "markers",
           "name": "9",
           "orientation": "v",
           "showlegend": true,
           "type": "scatter",
           "x": {
            "bdata": "EIvZ+Cs5vD+qPYKGoDi8P58AgScLJgJAHbjTCtBf/z9cHA197hoCQDRSDO3COLw/gwiauMAd/z+kNkPFO/QIQA8c0oDf1vU/NEYSXu44vD8VvFFs7x4EQEnkuL40NwRAFC02e+k4vD82HiSdC9ACQJgZfAsuDwpAZQ3I43fHBEAC4sRf0zi8PyVCZRysOglA0MNecL85vD+cywxwZjm8P0LFNEuTOLw/IyyaHcbYB0CcoxTv4wkBQES8Ex31tAhA",
            "dtype": "f8"
           },
           "xaxis": "x",
           "y": {
            "bdata": "SrtqUJU1CcDGu1o0lTUJwEYg44sL5/I/LUmr9o9w8T/uTJI8k4DhP/BDYZiTNQnALrbgHak89z+kKJNEcabtP1ogiDgEZ/c/yh990Jg1CcBdvEr7tWDlP/THSAXKIuw/lt9sn5Y1CcCRiNydfRXsPz/w07Y2N+U/JQ7sMEaT8z8cvrPInDUJwPVC1NJnxeo/dFJy65g1CcA82PxwlzUJwJzN01ybNQnAxFz7XqMV2j8YI5ICUfbIP1dR50LIyfI/",
            "dtype": "f8"
           },
           "yaxis": "y"
          },
          {
           "hovertemplate": "Label=10<br>Time=4<br>Dimension 1=%{x}<br>Dimension 2=%{y}<extra></extra>",
           "legendgroup": "10",
           "marker": {
            "color": "#636efa",
            "symbol": "circle"
           },
           "mode": "markers",
           "name": "10",
           "orientation": "v",
           "showlegend": true,
           "type": "scatter",
           "x": {
            "bdata": "RIpi3ng5vD8JS5saYHzCvwzKnO0WRdw/6JZpEiQ4vD/0Es9Arzi8P3KSEhxEObw/LBIxxZ84vD9YZRlU3zi8P7uymi57BOg/gkaQIOp50b8=",
            "dtype": "f8"
           },
           "xaxis": "x",
           "y": {
            "bdata": "POW6mpg1CcA8zTn+nUPSP92xKntwZOU/Eo38yJo1CcDolcWnmjUJwC4MFwmXNQnAsqBz9pU1CcAsdUsRlTUJwJCdH7dWzr4/IJdms1TZ2D8=",
            "dtype": "f8"
           },
           "yaxis": "y"
          }
         ],
         "name": "4"
        },
        {
         "data": [
          {
           "hovertemplate": "Label=0<br>Time=5<br>Dimension 1=%{x}<br>Dimension 2=%{y}<extra></extra>",
           "legendgroup": "0",
           "marker": {
            "color": "#636efa",
            "symbol": "circle"
           },
           "mode": "markers",
           "name": "0",
           "orientation": "v",
           "showlegend": true,
           "type": "scatter",
           "x": {
            "bdata": "gdkvVfT8AcDIcBSafHLxvzlBZQt9GPu/saXGvKYx/r8tc9DFuyfzv2WtDACZ1f6/gDJrFCFY579UoD1+tqH4v/O/Jse0UPK/ldddDucCAMASZfDPaLUBwFYs9L0oedW/8HTs9x0u978FzyYKE4f/v6oKF8Dk9O+/xBfvPZn28b+sgtAR4vEAwCMc2Yg3I/S/yMlAdfpz9r+Gc87FETm8P221WYMyaATAWGyxlqnb9b/xcLj/yKn3vw==",
            "dtype": "f8"
           },
           "xaxis": "x",
           "y": {
            "bdata": "QshB6FN36T9ulenhnvPmP2IVYlsC3PM/x1Oh8VV96z9j0kIW5dnwP9GF+nLIv/A/EAr//sTE6z9OBlgDzlz1PyFVKuhjuOU/qkPh/HII6D9VAGRR8/PlP1Uiwgr/SfM/DE9GYRsM2T9/r/cJ4qXpPyjlFQq1Guo/uNmVzssm2b+pQeRdvEnqP7WTacAvhO8/PZoDmvjg7T9kCtSemzUJwAjWaKlnq+A/whGR9cf+8D+LVE6lJkroPw==",
            "dtype": "f8"
           },
           "yaxis": "y"
          },
          {
           "hovertemplate": "Label=1<br>Time=5<br>Dimension 1=%{x}<br>Dimension 2=%{y}<extra></extra>",
           "legendgroup": "1",
           "marker": {
            "color": "#EF553B",
            "symbol": "circle"
           },
           "mode": "markers",
           "name": "1",
           "orientation": "v",
           "showlegend": true,
           "type": "scatter",
           "x": {
            "bdata": "bdklkZHu/r++izUvr77sv15gjL6Ejey/vIrLW2KO8b/ek3XFoU/7v3WIMU0QJ/m/aZWo6+wS+L8mYrxSM2H1v8C5/65kavG/B9xaBEm+4r8qhPsI1Lbvv4SqcXFqjvC/LhSLa1p++r+3Mdo65x7/v0v3CL1WSvC/3vkX8M0K6b/TcwWY6Unxv8HPOKNLvfy/JiAXuW1B8b/HK/wv7S/2vyr0fwblOLw/xJJllsk5vD8cTz5FTUv5v3IK7dDuLu6/Johh0WOD6r8=",
            "dtype": "f8"
           },
           "xaxis": "x",
           "y": {
            "bdata": "OMA2PmGK3T/wYDyplkSzv6iazrI4sfQ/GvAeifpI8T/68tQ6GYPoPyY9fdCXEeM/C9YYK6mq6D9kmaoqJQz2PwD57PELy/k/pXFYDZIL6j8UNV1Xcq30P7uLlXxCofQ/OCaCoSzq3j/UnPAUJSrhP+S3apJGcfM/jHZDnQka6T+0S7mzr632PxAUgc0Br/g/wCrX/UNVpz8oH+elaS7xPyCq4S6SNQnAHmxJYZk1CcAGMtrR9Cv1P5BNOI3C4eQ/a+wofggu+T8=",
            "dtype": "f8"
           },
           "yaxis": "y"
          },
          {
           "hovertemplate": "Label=2<br>Time=5<br>Dimension 1=%{x}<br>Dimension 2=%{y}<extra></extra>",
           "legendgroup": "2",
           "marker": {
            "color": "#00cc96",
            "symbol": "circle"
           },
           "mode": "markers",
           "name": "2",
           "orientation": "v",
           "showlegend": true,
           "type": "scatter",
           "x": {
            "bdata": "h+tpu/Pp57/xUVcyXoz0v67yBMQhObw/0H4tn4I5vD+wVnTCRoj1v5oBgQvxOLw/puPFZ3MT9b/SIdki4ji8P0CMywtJmva/3FHYKccH5r/SIiM7KTm8PyqRjjWpfPK/7XhT/qBu/r81iTcQ3cb0v+CTWmY5Obw/kkn2/Aw5vD9ifDSKQzm8P7GPFDDwNvS/xI8AOTs5vD/E/qUafzm8P6b5cgE2Obw/ytsJfHA5vD9aF8nLizm8Pw==",
            "dtype": "f8"
           },
           "xaxis": "x",
           "y": {
            "bdata": "IF1uiBA6qL9A8vNgbZSjP+wujk+VNQnAWgHJKZg1CcBAmzfkNjO9P8ocHheXNQnAYD2fQNmJrb90s8DIkzUJwCDU2P1x1cO/YAB+bmku97/IQP78mTUJwIBvXAgBCL4/4m5pYM6Z/r/ksabpFs/aP160K9iZNQnA7IIKG5k1CcA0rAcimDUJwMI3+xANkeQ/6PPy/Zo1CcDi8qo7mTUJwDjGAsqWNQnALjUmNJo1CcBab3u8lTUJwA==",
            "dtype": "f8"
           },
           "yaxis": "y"
          },
          {
           "hovertemplate": "Label=3<br>Time=5<br>Dimension 1=%{x}<br>Dimension 2=%{y}<extra></extra>",
           "legendgroup": "3",
           "marker": {
            "color": "#ab63fa",
            "symbol": "circle"
           },
           "mode": "markers",
           "name": "3",
           "orientation": "v",
           "showlegend": true,
           "type": "scatter",
           "x": {
            "bdata": "gpsYgcJbtr8JG/skWxfFv5Rjc2Gercg/UBbI9JeK7r8mbvyYDnnxv/TaW1tVMti/O1nt+5nN/b/7x4ZpBC7Hv1uO+4uClva/gBB1AEWK378KEbVJe4uyv4iLIemictG/FrUPsE1S6r/NIHrnl/D4v5XEmn2hU/G/S6TlpCHX8r/q8bRv/nazv+80cmSjksu//pKEpCWB6L+3lMedGO7xv04BGnFAObw/XEIJRAoKqb9xq1Pbrz71vzpVNM7n0LS/8R1Q/yDcxL/cmigqUmbYvw==",
            "dtype": "f8"
           },
           "xaxis": "x",
           "y": {
            "bdata": "UvrM6XRN8L8AnXxgP3XovwDPa1rBuvm/nO0Uu/0O6r885B0SLNTkv0Coa0D7uMY/PDd7Xbny1b/ulWqw22Xwv5gV/K44MeK/UFkUb/MuA8D8P58vEC7xv6wwgxxnDO2/mJBymvk96b8UclJy2OjrvzQyvw/ssPK/9LbDfDUp7r+spUqW+T/zv4IppLbk4/G/lPfanHnf6b9IEDECxVTXv2ywTs6VNQnA3F0E7mEw8L8Q4kfLDijhv9RudD9DlOq//jWvASpy8r+AtGAOGij/vw==",
            "dtype": "f8"
           },
           "yaxis": "y"
          },
          {
           "hovertemplate": "Label=4<br>Time=5<br>Dimension 1=%{x}<br>Dimension 2=%{y}<extra></extra>",
           "legendgroup": "4",
           "marker": {
            "color": "#FFA15A",
            "symbol": "circle"
           },
           "mode": "markers",
           "name": "4",
           "orientation": "v",
           "showlegend": true,
           "type": "scatter",
           "x": {
            "bdata": "EXLzGgvQ9r9QeBQUoTm8P+mg8gbi8P6/PTHseSZCwb+aXrsxA4X5v7GYo5DIWfm/HqcF5Xnq7L+6slYvJDD4vwVHCtPBqPm/ta+nK0Av+b9LhFHGMfr3vwTiLJovZfO/GYpv0ryU9L/lFud2xXn4v8dGBmpjVPa/GAl6tH7KAMBnPpTsEAr1v3bP50jPOLw/i9IckH+y8791wf6stU74v8oPruIjb/W/RQ5R0iZ+AMB2CtAJXsq5Pw==",
            "dtype": "f8"
           },
           "xaxis": "x",
           "y": {
            "bdata": "Eu98nP5M7D+AfFa3mDUJwKSUuoqfvPQ//HC45wor3T+9R5dwD73nPxSqU1To7+4/9E1Sc29d3z+1azoCDIvlPyr2SD6Bx+I/Sz2ztHiV7D+YejAXOKLxP/wViBOMQvI/PGfwY2ce0z/QdWgzjwbyPw4VLYxuteM/QDJN+jTkzj+A6VUCHECDP85LbGOZNQnACkmjMfGx6j+TZ7Cv6t3xP5Ztuh0k0e4/Cjxu4l9j8D9Mfcf4uTbZPw==",
            "dtype": "f8"
           },
           "yaxis": "y"
          },
          {
           "hovertemplate": "Label=5<br>Time=5<br>Dimension 1=%{x}<br>Dimension 2=%{y}<extra></extra>",
           "legendgroup": "5",
           "marker": {
            "color": "#19d3f3",
            "symbol": "circle"
           },
           "mode": "markers",
           "name": "5",
           "orientation": "v",
           "showlegend": true,
           "type": "scatter",
           "x": {
            "bdata": "D5+rIW8f4b8WsJUEMjm8P2BmD+KCCuE/hR/RgC7s5z/ssjn3svbMP8A0RAbr1te/jF74rrWH0L8GvrcNNnDRvzbnrAORztG/rjV2chag078A/ah0fYekP5b+h22gObw/REawYZqu17/mJy5C/nHVvxj7ODoKbd2/u3kHQOhRzr9U6PV/FbTCP97YoOCxatS/zKGyRVXx3z8NCSS6DofNv1IpXO+vWtW/wC4mvxC7tT8=",
            "dtype": "f8"
           },
           "xaxis": "x",
           "y": {
            "bdata": "aJV+GrIoAUBAcbB7mDUJwPSW6asQZvM/PTqsMBGF7D+G1MqfxCDjP68H+ao3Bvk/8bySypF8+T8ZdqMzLdD6P1GLo9EyL/Q/OdmHp0At/T+DnB52s1z3Px7QQQ2VNQnAQCtLyMbx/D/b+xGdMjPoP3RQ6AEHHwFAVwZ62p/6+j9TOOrB6y7zP8JuY80k+f0/f26WFHGy+D/W7jtXLvD2PwTyhxJkCv4/Gf2qqCP89j8=",
            "dtype": "f8"
           },
           "yaxis": "y"
          },
          {
           "hovertemplate": "Label=6<br>Time=5<br>Dimension 1=%{x}<br>Dimension 2=%{y}<extra></extra>",
           "legendgroup": "6",
           "marker": {
            "color": "#FF6692",
            "symbol": "circle"
           },
           "mode": "markers",
           "name": "6",
           "orientation": "v",
           "showlegend": true,
           "type": "scatter",
           "x": {
            "bdata": "+xxCRhodB0CwILxo/uj/P+VnJmwaWwFANpIC0T2e/j861kpv7ZoBQOZvQbBfvwJAkXonxLIL6z9HT3T0lwf+P6CBlGa02/s/j/NfIclq/z+sZHAfppT+P7w/2EhOOvo/0py7vemfA0BxKtGuxBP2PwjILVomObw/jmLcszG+BUDC2Z99qNADQPMWkZBnR/0/y1MyxrS0B0A17I7l69T9P78tvVqDxMW/",
            "dtype": "f8"
           },
           "xaxis": "x",
           "y": {
            "bdata": "DgnO7kDY5D88UsaF4S3dPzKNwYBE1OM/bBymv8QI3j8ka9spDIjQP2jVxtF0q90/ZFNpL8cr4r90I2MnBjPnP0zWbLTWPN0/gMxhX/i0nz/4o8PVIBngP2yFJRsSU9Y/8MFi3S7Ctr94+yGypRneP6KUZEyXNQnA+M7i8R/6wj8oorzTupjQP1AgkwJaWrY/JFc+oMkG1D+gCJGPUO6xP0mUL3Eb2/M/",
            "dtype": "f8"
           },
           "yaxis": "y"
          },
          {
           "hovertemplate": "Label=7<br>Time=5<br>Dimension 1=%{x}<br>Dimension 2=%{y}<extra></extra>",
           "legendgroup": "7",
           "marker": {
            "color": "#B6E880",
            "symbol": "circle"
           },
           "mode": "markers",
           "name": "7",
           "orientation": "v",
           "showlegend": true,
           "type": "scatter",
           "x": {
            "bdata": "yjD5KqKs1j9grzTrI/jUPwVGoooUBdA/fBlnRDVf1D9fXL2x8pPuPxGHoAOY0vM/pJMIQ1bD7j821g9d2ZnQP+gQswDut/M/7KwFVSX+1D+28jyu9b7Wv4Pt3DFXqtg/pulvGqw5vD9i87WZmsfVP1WCLwkcyfA/83jIDIPx0j+IjU/7I63QP5SH5tXuOLw/8wahG6Zi0z9Udv2Tyzi8P9A+3tyGp9Y/3hTGFcyT+z+Lr7bhT9nUPw==",
            "dtype": "f8"
           },
           "xaxis": "x",
           "y": {
            "bdata": "eH9yNKW94T8qEu1aTZ3zvywzLdEY0tK/BAZBpJhQ4b90K1suv4bTP/rXw5AoFOY/VKDHvhpb0z8UMnYkbNjSv0kyZ5NEtPA/XDPRIsXS0b/1Nad7Lv3qPwCwGWH7d56/UqFNdZo1CcCUL3xZ+rDgv3B4wXNxZ8A/JDbVNnBb5b+gylPr86biv5KiaeaZNQnAAEV/thqF2r/iklAZlDUJwAgWoLQPbca/TNlc+s3y2z94EgfdDnHWvw==",
            "dtype": "f8"
           },
           "yaxis": "y"
          },
          {
           "hovertemplate": "Label=8<br>Time=5<br>Dimension 1=%{x}<br>Dimension 2=%{y}<extra></extra>",
           "legendgroup": "8",
           "marker": {
            "color": "#FF97FF",
            "symbol": "circle"
           },
           "mode": "markers",
           "name": "8",
           "orientation": "v",
           "showlegend": true,
           "type": "scatter",
           "x": {
            "bdata": "j1vQ7fiEAkC9NlGWUNP7PxgOTMi4DwZAreN4rFIZ/T8HdKruvZIHQIIFsu0MHAhA9O2usP1jAECiN3vpV2kBQMj2Y5sPObw/DKoIPxnBBkDMgGbEp9oGQL8EC4MIvwVA/VFm9NN6/z8D5Dgy/fD/Px546Nvy1QNACFrEqOE4vD9UiCFZR8QQQIMdVM8/jwFAw4MUhHQoAEBQKTrmwXICQGhC+8OsNwNAs5Tk7lQ2BUA=",
            "dtype": "f8"
           },
           "xaxis": "x",
           "y": {
            "bdata": "oh/6lTGM/T/iphvz7cb2P/59WftqEvg/w8YmryMd+T/4tw/joCnxPxYk0KZkvfg/2DIyYUA27T9ynjiq9n3+P4wNCleaNQnA+WQiOgg/AkDkW+9NAEjiPzWh916Nd/A/Fkp+zBbs8z95n9ZjP+37P+GrZvoVqeg/ZpzDCZc1CcA03YEyUcTuP18EzbDRAABADnmjnrLY/D/ACQkQ+DsAQAShqE3L5gBAbpL/EJDu9T8=",
            "dtype": "f8"
           },
           "yaxis": "y"
          },
          {
           "hovertemplate": "Label=9<br>Time=5<br>Dimension 1=%{x}<br>Dimension 2=%{y}<extra></extra>",
           "legendgroup": "9",
           "marker": {
            "color": "#FECB52",
            "symbol": "circle"
           },
           "mode": "markers",
           "name": "9",
           "orientation": "v",
           "showlegend": true,
           "type": "scatter",
           "x": {
            "bdata": "GF8KoKwKAkD03y3AD9IAQA7YLO91Obw/yrpMeQHA+z/O5RV5FU8HQPaXr083SgtA1qGwYpv9DEAikBnyH0gHQOnUing0TgVADOttWRlUAEBoCpXjo5b/P1I1W0eu4A5AZV3nLMpDAEAUzk8y+swBQIvBPASjmghAQGE4Pi2xCkBwXPD+rji8PwydbPze1w5AGDN7CQw5vD/7z1xo6tT6P+oxfmVz6wdARES/MhyJBkAgRn/0G9f1Px+2Dn58twpA",
            "dtype": "f8"
           },
           "xaxis": "x",
           "y": {
            "bdata": "oG86wAgT2z9AXXrPDv/Fv25/d++ZNQnAwPcKwwnl1j8w5yv0hwKxv3AUdZNUxME/AAl76iHp3j9wLcmvH47sP8BVL2SDIuw/cGX98BPnxj+e1NjWXDnxP8CLvUCGWc0/2HzNUC8NzD8gHEwFYHbaPxhnqiuEp98/9A5KBmJ77j9yLFjEljUJwCDCRewajas/hrzc3pY1CcD4Vif3PNzNvzybJIzVotI/AC+PMrmVpD8CZQzLVaXhP7CJ+xKIRL2/",
            "dtype": "f8"
           },
           "yaxis": "y"
          },
          {
           "hovertemplate": "Label=10<br>Time=5<br>Dimension 1=%{x}<br>Dimension 2=%{y}<extra></extra>",
           "legendgroup": "10",
           "marker": {
            "color": "#636efa",
            "symbol": "circle"
           },
           "mode": "markers",
           "name": "10",
           "orientation": "v",
           "showlegend": true,
           "type": "scatter",
           "x": {
            "bdata": "NvA6tms5vD+iStrZj8cFQIKROZyvVba/OgLTj/CNAkBwFd1nF1iFPwBOCFlXSgNAYFtN6oRA7r/6/PSOgm7ev4dx2aTYIPI/ASOYbN57578=",
            "dtype": "f8"
           },
           "xaxis": "x",
           "y": {
            "bdata": "6l34lJM1CcAouI6Ub47XPzTlR1sLufU/8NJJlICG0D+iLFf/1BbgP+Tppb0NQQJAJhfsqBbh9D/qR+P6mkr/v+IYCc/8Ces/ebEqvsL1/j8=",
            "dtype": "f8"
           },
           "yaxis": "y"
          }
         ],
         "name": "5"
        },
        {
         "data": [
          {
           "hovertemplate": "Label=0<br>Time=6<br>Dimension 1=%{x}<br>Dimension 2=%{y}<extra></extra>",
           "legendgroup": "0",
           "marker": {
            "color": "#636efa",
            "symbol": "circle"
           },
           "mode": "markers",
           "name": "0",
           "orientation": "v",
           "showlegend": true,
           "type": "scatter",
           "x": {
            "bdata": "ZaaeCzAx+r9V2CCFEXzxv0GMWDes5Pq/JnCUHykA8r8RYrIdPZnwv36LjlAQDPy/pVWD47Io9r/eHgn1/TfwvwiDJHThEfK/fRkiZ6Ep8b98H9UJWMn0v6Jr2tSQNfi/XhovcWcr9b/DtWC53wLzv+J7JiNa6vq/fuRC6kka9r+g4SUtgobuv3agrtirZvG/svtFaaSX+L/QjghDdTm8P7jr2TWt4u2/ZaFF2YsV+b9+nNdW2qL0vw==",
            "dtype": "f8"
           },
           "xaxis": "x",
           "y": {
            "bdata": "vgyaJ5Ds8j+n/gpwrvrwPx7G+cU++/E/cNIGFQQO8D98RYl5m5TtP5j/Q8kG6vI/nMWAUMh38j+88c5silLtP/c/KSujd/E/0AjdsssL7z9z1mWuI6zxP+x5TdzCcvM/FIIY/iC28j8ltvCf7wHxP07/PYfGCfI/OBQQaQ5J8z+xZxJiDmjuP29p0zN6/e4/jl46TD869T9sg1DkmzUJwI14RnIgRuU/Fg++DC4B8j9s3yn+4gPxPw==",
            "dtype": "f8"
           },
           "yaxis": "y"
          },
          {
           "hovertemplate": "Label=1<br>Time=6<br>Dimension 1=%{x}<br>Dimension 2=%{y}<extra></extra>",
           "legendgroup": "1",
           "marker": {
            "color": "#EF553B",
            "symbol": "circle"
           },
           "mode": "markers",
           "name": "1",
           "orientation": "v",
           "showlegend": true,
           "type": "scatter",
           "x": {
            "bdata": "uy0Q//aZAsCllWSfH18CwFsRYU3nRQHAJm1b9EuPAMBqXtZDJwgAwAQtas40aAPAC5JgRsomAsDpS8smYcwCwH3mqQEhAQHA7uX5I3uVAMBuUqTZXDADwALgYkt19gDAYwZ16acBAsAAU8tXNKv2v3Ncz12Jwv+/JhcIk+JVAsAOj5xDPzIDwOsYLqhRUP2/z9z9G+kC/7+kKcd17+UBwFBoWCGecwDA/rdZF+79AsAC4z+n0RIDwPkzFC/6dAHAi5buJMMZAcA=",
            "dtype": "f8"
           },
           "xaxis": "x",
           "y": {
            "bdata": "9GE9WsEqA0DT7qKFQEQDQLXQtNKyzAJATeBFgVCmAkDNaVG5YI8CQEhl0MmFWANANvhYjNEWA0AiCGMP+E8DQGAkriSgxgJAHKJ/osGAAkCM6hGp0V4DQOqih/nmswJAcICMPMX4AkAfwoQkFYgAQHIpSt32kwJAVEtgZj8uA0A+cl3+/EUDQNEP2I447wFAFkpIXNJLAkCJCeV1/tsCQPqiGTiJBQJAFaaO9ZIpA0CThyq44R4DQCsY/gOfxwJAt0NnlM7ZAkA=",
            "dtype": "f8"
           },
           "yaxis": "y"
          },
          {
           "hovertemplate": "Label=2<br>Time=6<br>Dimension 1=%{x}<br>Dimension 2=%{y}<extra></extra>",
           "legendgroup": "2",
           "marker": {
            "color": "#00cc96",
            "symbol": "circle"
           },
           "mode": "markers",
           "name": "2",
           "orientation": "v",
           "showlegend": true,
           "type": "scatter",
           "x": {
            "bdata": "IKJIAGc5vD8Y3ID/GTm8PxJH/nwBObw/3lBx2ks5vD8gR6iqVzm8PwrhanQ5Obw/pElxY4E5vD/o9ZpA1Di8P4aZvqurOLw/R3ioDvbl/r/6+zYnizm8Pz7DFTQPObw/XtRmbX6I+r8O9jan3Dm8PxZCEWf+OLw/4HdYKfo4vD9cM7S88ji8P4askZzfOLw/GKcHAqg5vD9CojvN7ji8P+JnGSj4Obw/wPstBxo5vD/oicqd8zi8Pw==",
            "dtype": "f8"
           },
           "xaxis": "x",
           "y": {
            "bdata": "TO1F5ZY1CcCOYvwulTUJwAZAb1mVNQnA7B2aqJY1CcDOmFq1ljUJwJw6u+6VNQnAkFpBAZw1CcAszlC/mDUJwHYUHnSbNQnABL/lzHbg/79YKt4FnTUJwOAh062UNQnAR+HcMT7LAcA41F0inzUJwPJ43TGUNQnAdsbomZk1CcACasvqlzUJwNDiz5OZNQnAYszgy5c1CcBwgsSLmDUJwH45e3eVNQnAnDigH5w1CcB2idmTmDUJwA==",
            "dtype": "f8"
           },
           "yaxis": "y"
          },
          {
           "hovertemplate": "Label=3<br>Time=6<br>Dimension 1=%{x}<br>Dimension 2=%{y}<extra></extra>",
           "legendgroup": "3",
           "marker": {
            "color": "#ab63fa",
            "symbol": "circle"
           },
           "mode": "markers",
           "name": "3",
           "orientation": "v",
           "showlegend": true,
           "type": "scatter",
           "x": {
            "bdata": "glOdCp4Zsr9qwtbIQvXYv37GZ/QSrL6/NrCbXbFv0r940iuE7b/Qv9RreQF7sNO/1SDVWfbXyb8hOroWJi/Nv/zumA2YbqE/CoxmdzuT1r8WRZqFEXi0vzRO5wyLS9e/hnhsIJnG0r+egKHe3+rUv6Z6rtuDdNG/AFG3KjnI0r8qytrSJHTVvxTUZTfFm6e/ptMoIiYmtb8GbIccCrLQv7DmWhN4Obw/MpqUyDeMv79upK4J/73Sv1fb1wHhpMW/RQ3gM8GJzL8jyiRzpKnJvw==",
            "dtype": "f8"
           },
           "xaxis": "x",
           "y": {
            "bdata": "UJWlCrlP9r8IobSP6X7tvyQRS47cg+i/7FSzxROL7r8NpS/9fCkBwPw4BwoUgfO/jGOdCGG05L/MYM7DVq/ov2A02lFivfW/1L7Z8pQD9L+QAouSwpjrv+597eZyaPu/REK+FZuf8L8gVgu8lKf5v4gw8C30Mvi/xpvu9lJv8b801ddBKCXxv04kcEj1b/O/yFvS0sqA77+cEIAAlf/nvwgLE16bNQnAsvqp2ENV8b8oIVe9bXDuvyzIfllaC+q/TNqm6Z4r8L9kfvHHx9Xmvw==",
            "dtype": "f8"
           },
           "yaxis": "y"
          },
          {
           "hovertemplate": "Label=4<br>Time=6<br>Dimension 1=%{x}<br>Dimension 2=%{y}<extra></extra>",
           "legendgroup": "4",
           "marker": {
            "color": "#FFA15A",
            "symbol": "circle"
           },
           "mode": "markers",
           "name": "4",
           "orientation": "v",
           "showlegend": true,
           "type": "scatter",
           "x": {
            "bdata": "sirG1OrG+7/wgppFcFMAwNBSZeqPObw/uTxSMEmB+7/T3OnnYF31v1qJsZZbCvy/+8SUru2O9b96/zpmxJHyv3DfCKDErvi/5i0YEo1j+L/QxBu5VtMAwG7M/+q8TQHAVpZ/C8w5vD/cz0HUEg37v9BL6cTrnwDAqCvP8UG867/B5JU0MF77v4Vm2bmPt/O/3MA6UVw/+L+p8qomHG78v0VwAK0pn/m/M4rJFOTy+b98miC34Cn4vw==",
            "dtype": "f8"
           },
           "xaxis": "x",
           "y": {
            "bdata": "bi7hlyxG9z8XFm4lPv71P0xK4paYNQnAfDQVylsC9j8VQv7mZ+3mP0gAOG5ZCvc/fuVHWIf87T9kWZNyC/zzPys8pUPK4fE/eDK6WPXj5T/dLHCeraX3PzDU39rbS+A/iJ1/Z5g1CcDofzx65pTzPzm5sugPCPg/aOjB22VX2L/0IdF0XSnzP3YQY6ymFPQ/NnRM1IhE8T9D4943dUv3P8M5tD/RzvM/N1zor3Xh6j+fbRpnPzLxPw==",
            "dtype": "f8"
           },
           "yaxis": "y"
          },
          {
           "hovertemplate": "Label=5<br>Time=6<br>Dimension 1=%{x}<br>Dimension 2=%{y}<extra></extra>",
           "legendgroup": "5",
           "marker": {
            "color": "#19d3f3",
            "symbol": "circle"
           },
           "mode": "markers",
           "name": "5",
           "orientation": "v",
           "showlegend": true,
           "type": "scatter",
           "x": {
            "bdata": "rIjLPPb/2b9U/0QAGLTavzyyjc5tft+/7u1SOtzr3r+CBudHJ2bkv/QvNQ+qf6s/pnYTIp024L90BPhUnQnjvyVKlWKn6+G/z6MuY6hyw7/h9Full5bMv1a1F/qUObw/sO9IOlY7479QqHBKXA7avzgpU4HMS+a/PFdI+G7B5L+ELFZLcv/Vv3Czl9bxFOO/KMkfvcGn0b+lypbnvZ/hv3zTpsPd6Nq/Ma2W4TCk5L8=",
            "dtype": "f8"
           },
           "xaxis": "x",
           "y": {
            "bdata": "EU1154JZAEB4BXzVShT3P7fHRCYDiwFAznDZuZrcAED/ztqow7n7P0DVjOcKQMe/Hvf6sjuE8j+iiOTP+qrxP16qQw2YLfQ/EXdHmpfE8z/IrAhJQK31P7Iz85KZNQnA2LwHn9DA/D+0qJ7lk7D8P6ALtJ+mdABAWC/deesi/z8k21DnFID8P7zI2p/X0Po/0pB45U6b/D/fU0wDBIz4P/TgmvFFhgBA+bEUj7Gw+z8=",
            "dtype": "f8"
           },
           "yaxis": "y"
          },
          {
           "hovertemplate": "Label=6<br>Time=6<br>Dimension 1=%{x}<br>Dimension 2=%{y}<extra></extra>",
           "legendgroup": "6",
           "marker": {
            "color": "#FF6692",
            "symbol": "circle"
           },
           "mode": "markers",
           "name": "6",
           "orientation": "v",
           "showlegend": true,
           "type": "scatter",
           "x": {
            "bdata": "1s8cp29tC0Bnk5+LjhQMQFIuGeNlIA5ApUrpfVW/DUBOkmY5cnQJQC8rkuqbMA1AZr3xPIf+CkBrgVkZtAIJQDdJXBKBnANAX0oMoYXXD0B6BE/72e4LQGbAp7ZQ0wpAB1LGOmD9BkBKA2dnPGQIQEz8kk+i+Q1A1F90QfaKCkBU2VpHF40PQMTcn3e2mBBAAdBxVGs7EEDp+RZOaskGQPYpM53RuglA",
            "dtype": "f8"
           },
           "xaxis": "x",
           "y": {
            "bdata": "gDJWp8xszj+oz+dxFTDKPzjMmR+8s9M/eGmVKwpkxj/sr8GFHNfYPwjjf5SypMM/oDNvgieh1D9QPD8tMyfLPwDhsp7D1N8/wF7v2Y2ntD/ofZ2aVhbRP0zv88Urr9M/kALOjhFF3T/Q5z++mAPaPyDx3x1uw7c/oHENrOYh0z8A2nRUZEWpPxCexUD9Ira/QKqtpnC6lD8MnAusGmjbP5Rpx/5XKdY/",
            "dtype": "f8"
           },
           "yaxis": "y"
          },
          {
           "hovertemplate": "Label=7<br>Time=6<br>Dimension 1=%{x}<br>Dimension 2=%{y}<extra></extra>",
           "legendgroup": "7",
           "marker": {
            "color": "#B6E880",
            "symbol": "circle"
           },
           "mode": "markers",
           "name": "7",
           "orientation": "v",
           "showlegend": true,
           "type": "scatter",
           "x": {
            "bdata": "4KP5MkGg0z8jQ9HwjGPUP3ZSgreMKd4/Pj/1uvth1D9bGjIl1lHcPzZ+Hpzutsc/z4bjMf1S1T9Yigpla0bbPyevXkFiXdU/TYrLFaq33D9yy+nJ7TXhP7xPOlnBAtg/huAuFu0n2T9Celb+LZDdP/cRWFjofNs/a0D6KB7k3T+QbkzTkjPUP/L65c7NkNk/QWyGQgoT4D8UchsXrDi8P/E8d+KuhuE/FMwz4/No3D/+5xf9WbrePw==",
            "dtype": "f8"
           },
           "xaxis": "x",
           "y": {
            "bdata": "aDgEq4Nb3L+kRx55E1rlv+DtDkQdvcO/AAP06rUJxL9gWSet9FvivyChzZRNXLC/sA5ITylr0r9IRpWGk3bFv6znPqASueO/xPABXg5D4r9AZTsPR8fMvxiK0G3AocC/BFy+ZN0h0L8IHHn0Bs/kv5D5PxaFhLs/AJG6kJeOhj+Q071MepbDv+jsMkJmxdi/3Jcx3f2U4r9w8+V9mDUJwCijWdDl89q/2EUVOm1M0b/csymDOlPkvw==",
            "dtype": "f8"
           },
           "yaxis": "y"
          },
          {
           "hovertemplate": "Label=8<br>Time=6<br>Dimension 1=%{x}<br>Dimension 2=%{y}<extra></extra>",
           "legendgroup": "8",
           "marker": {
            "color": "#FF97FF",
            "symbol": "circle"
           },
           "mode": "markers",
           "name": "8",
           "orientation": "v",
           "showlegend": true,
           "type": "scatter",
           "x": {
            "bdata": "CuLj2bLaBEDOtN0XgQwKQJ5MrThY5AhA8B4zXFSZAkCGM0u46QcEQLnhf/jOhAZAaLrCqv8RAkARFM6JLtcFQDLRPYfPOLw/8vhnuixLC0BpY+p2bhcJQCLxbT1kxAZAFbl9XgRNAkA7fXlycIT9P630PV2WKwJA37JRWGan/j+/yEH1wtwGQGhFzSSxGAZAGqv3wBUnB0CXz/WVrPMLQHjR/IdoxgNAQ8rFVEcR/j8=",
            "dtype": "f8"
           },
           "xaxis": "x",
           "y": {
            "bdata": "fCYqnSEmAUDmZddN1MEBQI39wyhalgJAL6kqCguEAECsz5KuRugAQBWfhVT84wFA1sT3T3Tv/z/2ONVOf9MBQHxgb6qWNQnARTppWRlTA0CAiNerO/ICQNtes/V17QFAamoH9TDG/z/lioo/rmH4P7wIp9EMLABAPMnaYlj/+j+utBeoe1YCQPQSlTRFDgJAz0AfvnqvAkAxxAeC2UUDQOMfyyMiVQFA/G1kOxM5/D8=",
            "dtype": "f8"
           },
           "yaxis": "y"
          },
          {
           "hovertemplate": "Label=9<br>Time=6<br>Dimension 1=%{x}<br>Dimension 2=%{y}<extra></extra>",
           "legendgroup": "9",
           "marker": {
            "color": "#FECB52",
            "symbol": "circle"
           },
           "mode": "markers",
           "name": "9",
           "orientation": "v",
           "showlegend": true,
           "type": "scatter",
           "x": {
            "bdata": "HzVsMn/wAED4xObeklkGQM5eaqxEObw/vkfDXBPmB0BC5sTNV0MNQCrGmNmMexBAprwGDaJ9EEBng6AFfdUEQNSkxuWaVgNAnj5+UWyzCEDlXVlxO1YEQCNhgdTjoAxAN8hUCbdBBECXwEuAuA/4P7XTxR5QuQtA9hSETloIA0BoJLqZnNT6P07m4bUIOQZAoDw49As5vD8y8NmUfW0AQM2YydiEaw1A+NRK6PXpAEAKFRAGf48JQN5mLRfOpQtA",
            "dtype": "f8"
           },
           "xaxis": "x",
           "y": {
            "bdata": "UJxTrUJ6ub8gooeJx63KP7zlvB6WNQnAtOfzy08x0z8ArDCVNQ5WP1BUPm4HNtC/6I19+uoMyb9AIX3nkYfGP5DPzrhhlrU/QBXEVQVRsT/gqp1p6qTIP0DOH6tg6JY/AI8kUZemq79gM4n43bSlvwCJYroFP5k/jLFPFNGw1D/w92JBS9/NvzBlA44MD8Q/OJXnS5M1CcC8zotJCBXTP4BzcRV2xJY/iKc1IqbD1D+QwOZOf/W+P4Bmb0r3CpU/",
            "dtype": "f8"
           },
           "yaxis": "y"
          },
          {
           "hovertemplate": "Label=10<br>Time=6<br>Dimension 1=%{x}<br>Dimension 2=%{y}<extra></extra>",
           "legendgroup": "10",
           "marker": {
            "color": "#636efa",
            "symbol": "circle"
           },
           "mode": "markers",
           "name": "10",
           "orientation": "v",
           "showlegend": true,
           "type": "scatter",
           "x": {
            "bdata": "8gqxLs44vD9HHojCg7EQQETZbvTE6QDAwHQmQFt+EEAOHAiQ69Hcvz0jyeTPKQdAeS9xyRO34L9/1ZN+cu7iv7zsTWYuzts/mFjZElcLAMA=",
            "dtype": "f8"
           },
           "xaxis": "x",
           "y": {
            "bdata": "XAnzLpc1CcDQk5sxfsbDvy466+z5vwJAANR7nEB2Ur8Ae0FrNtTdP8TrnKoLigJAS/ZNPXYLAUCYhLrsSbIEwFzBVO8zo+O/fhszJz5z9j8=",
            "dtype": "f8"
           },
           "yaxis": "y"
          }
         ],
         "name": "6"
        },
        {
         "data": [
          {
           "hovertemplate": "Label=0<br>Time=7<br>Dimension 1=%{x}<br>Dimension 2=%{y}<extra></extra>",
           "legendgroup": "0",
           "marker": {
            "color": "#636efa",
            "symbol": "circle"
           },
           "mode": "markers",
           "name": "0",
           "orientation": "v",
           "showlegend": true,
           "type": "scatter",
           "x": {
            "bdata": "pOYtQDUb8b+p2Td9gOcBwMFmWtAF/fK/aqQYlq7J8785PPvUbOr3v1XpV8rNVPu/vY3qDBuhAMAuet5EpY34v/KOglb/N/e/+rh+RUn91r8b75GnXy74v57b3/RfLvq/KatohEkL+L/XZcX+zjn0v4hxp/8s8/W/jERIk+xn+78GpySMsN4BwDmi3VFAKPu/i2zNl7Rk/79gQxosCjq8P0E3Hnc+qwDA2KadlZpg0b+2OxzeNj7vvw==",
            "dtype": "f8"
           },
           "xaxis": "x",
           "y": {
            "bdata": "Ntosi/Zc7T+fFZtFPCTwP2Q7ebvzhuo/RJ680EZy8z/VYP7131blP0Gp65b0fO0/lQppHjm68T9Befgl6+TxP99SLutaTOs/NOLGo8W98T+PLZbAmbDwP4ZgpinQbu8/KBIWrc9N8j+gLJEEqLvhP9p1XTkCpOA/K1QVdXYl5z8TOSQRR7TsP4TrMHk4aOw/VC5U1bth8D+KTLk3mzUJwDwsZ4qeOO8/sD36ajPLtj++4bhEfpruPw==",
            "dtype": "f8"
           },
           "yaxis": "y"
          },
          {
           "hovertemplate": "Label=1<br>Time=7<br>Dimension 1=%{x}<br>Dimension 2=%{y}<extra></extra>",
           "legendgroup": "1",
           "marker": {
            "color": "#EF553B",
            "symbol": "circle"
           },
           "mode": "markers",
           "name": "1",
           "orientation": "v",
           "showlegend": true,
           "type": "scatter",
           "x": {
            "bdata": "z/2Tmzjz/r+txp0RJjz9vw7/Q3uJ8vq/NyTHD75J/r+14JHLo7v+v6jKbg34FgDASNI8N/FWAMBRInaqkQz8v6+p4vcwAv6/KZWb+ldv/b+req1j8pH/v28Sdw9s8/2/edIdrodS/b/OaYFu6zkBwOyVCKe4SPi/nVsJHPak/L9pfZdvc5b8v0uae7rX9v+/CfFsQGgm/L+fsV/4X87+v3FCy+Qzpf2/cx0l7m5TAMC1o5D5PEQAwK8bSasECP6/McYecR7/AMA=",
            "dtype": "f8"
           },
           "xaxis": "x",
           "y": {
            "bdata": "BNDhTIRdAkC1AMqm9Q0CQLPoaZ3SCgJANxrLaa5eAkAisfQBBBoCQNu8G+62vwJAabgNElmmAkDloKD6as0BQKz1ueocJgJAFMeQUn4AAkCc1FOfLpkCQN+tdzGX3AFASN3tdCJcAkDyHplixr8CQKNROsBfGgFAwOubJpUbAkARtZdANlACQPc/dLOslgJATfYcTQHwAUDnE2vJhUgCQBoMnuc3VgJAbDRT3K3XAkAPLZFq/3sCQDAS/xTgUgJAHJ4J9fjeAkA=",
            "dtype": "f8"
           },
           "yaxis": "y"
          },
          {
           "hovertemplate": "Label=2<br>Time=7<br>Dimension 1=%{x}<br>Dimension 2=%{y}<extra></extra>",
           "legendgroup": "2",
           "marker": {
            "color": "#00cc96",
            "symbol": "circle"
           },
           "mode": "markers",
           "name": "2",
           "orientation": "v",
           "showlegend": true,
           "type": "scatter",
           "x": {
            "bdata": "tuwDttNZ9798BzO+fIv1v3/wEq7Ycf+/y7woBsqj/L/gAWTDodH5v/gUQCfZQvC/wvWqPQpQ+b+pZJBgDJP4v1sKxNn6HvW/j5C+SpWE+7/dYxVJVaPzv96JObOMAfm/WbY5UhKU87+IvqP6AS73v5GIYoCazvS/qPdZEJ0q9r9CMvP7AbLwv8MTBNOh/vm/psgsWWM4vD+8xjLAgXD2v9BtDJ+YV/K/pqUQsjE6vD+AsjtCAGL0vw==",
            "dtype": "f8"
           },
           "xaxis": "x",
           "y": {
            "bdata": "sLrdbXEg2b/YYMdT2xTVv15kesL8Sv+/Qp90K/VR/L+ApO/sYtXivwSMb8XZHta/yJN0zKv53b8YLCse7L7vv2QM51zIR+O/VFDkybt67b/sM9a8OEDhvyBaUyKyV9q/9Hjpb+G26L9EdIGthyTnv7Csx6qbjOK/AP/3xUy74L+4X3+ENJPav7yfCF6W/OS/bu2PiZk1CcCQ87axvjzjvxBFdg8IeeG/qJ8dK5Q1CcAYozYNp5ffvw==",
            "dtype": "f8"
           },
           "yaxis": "y"
          },
          {
           "hovertemplate": "Label=3<br>Time=7<br>Dimension 1=%{x}<br>Dimension 2=%{y}<extra></extra>",
           "legendgroup": "3",
           "marker": {
            "color": "#ab63fa",
            "symbol": "circle"
           },
           "mode": "markers",
           "name": "3",
           "orientation": "v",
           "showlegend": true,
           "type": "scatter",
           "x": {
            "bdata": "jEBMaa+i0z+s11bWOHnbvyylOmJQeNe/Or6uZpUH0r+i+Z1/0pXcv9LiO/25RNW/GOJrWIAr2L/whrxLW/fhv55ZN46FQrC/AOxxcx822b/kWK0WysLVv9jvQv0J+dG/bFqlkH120L+A60yKL7Dgv1j3ApZxwte/hCxGbMfp1b/JWa4r4+Hiv9JwpkoifuC/0Qabv8Qmxr+QVU1m697Tv05QpuWeObw/HF8WcR372r9waP1q9EXQv94mOuQWGrq/VO7z2STv2b/d+/FbVXXEvw==",
            "dtype": "f8"
           },
           "xaxis": "x",
           "y": {
            "bdata": "/NkFCtYx7b88SXlzqrUDwPQdXi1O+/y/dByHkGtA8r/UKszC8L0FwC42HrySiPa/DyGHhZyUAcD/RfO1R48CwOZhkRRGNvK/yEQqEibs979UYuBOe8nzv2jAB6tEl+2/kl8pMany+7+XDo8kN2oCwM16V3g5AADAyE7EnMLp/78WfuxGdQ4FwOjOUv38oAHAnE/POQuf9r9uF0Navwj+vx5t5CGYNQnAxpOjh2ES+7++Wwk+Ncz0vxpDYA1LtfC/3zkrHyegAcDgWNIWC2zkvw==",
            "dtype": "f8"
           },
           "yaxis": "y"
          },
          {
           "hovertemplate": "Label=4<br>Time=7<br>Dimension 1=%{x}<br>Dimension 2=%{y}<extra></extra>",
           "legendgroup": "4",
           "marker": {
            "color": "#FFA15A",
            "symbol": "circle"
           },
           "mode": "markers",
           "name": "4",
           "orientation": "v",
           "showlegend": true,
           "type": "scatter",
           "x": {
            "bdata": "bc7Tl23GBsA9uC1PrPcFwFoacota1Pu/WME7yB9KAsBuVZhT1B0HwOicpsCJMwDARtkWa/GeA8AH+bhpyDT3v0ndune0U/y/1aRgO/jaA8BtHWFtZlcDwNOUoMdHYQTAMCfvjsjOA8AF4mZ3JdsFwIad4POv2gHAEdAh7FpaAsCPp/dFOBgFwFCCXWfPCvm/tPYHGIUuAcDM4qA5a54CwG2/7NBu1ALAp2yGWuZRA8ClhCZPSaX6vw==",
            "dtype": "f8"
           },
           "xaxis": "x",
           "y": {
            "bdata": "COE5nvEN9z8bqLodlNn5PzikfqiY/Pw/dCOY2qgs+T8XLeEpvYf2P8AEUhKioP0/+8Gzdjdo+T/sPOCbi+XwP4Q6Ax867/c/ZYsyWQcm+T9aW360rJz5P793kbpZFvk/y0oaDNtg+j8zo2Mu+4v6PxYQARpoDvk/cfiPXBsO9T9oiq58yND3P3eCbmM24vU/uFrnrPNH+T/gtjx/kF/7PxhuC18wrfg/7iGsb1Pt9z/HyjhtxjH2Pw==",
            "dtype": "f8"
           },
           "yaxis": "y"
          },
          {
           "hovertemplate": "Label=5<br>Time=7<br>Dimension 1=%{x}<br>Dimension 2=%{y}<extra></extra>",
           "legendgroup": "5",
           "marker": {
            "color": "#19d3f3",
            "symbol": "circle"
           },
           "mode": "markers",
           "name": "5",
           "orientation": "v",
           "showlegend": true,
           "type": "scatter",
           "x": {
            "bdata": "IwC6cUmL4r8evqSIi73hv59DNtTagPi/iqxgJyvb9L/oQEDTRIfuvysdNtYbVvC/135S4rFX8r9Qma1T6Dnvv1JS7NlR6PS/CkQNrvrH87+2jQwpvX/Tv/xGQdqaOLw/UYjSobNU8r9QIcYqtSDSv9SV/6m3N+q/f5Uk8wFT8b/w7So/WIaSPxWxYiD41+W/3ciWJYMR8L8QJ0+ClGDvvyks9eGOg/O/wjLgnNa60r8=",
            "dtype": "f8"
           },
           "xaxis": "x",
           "y": {
            "bdata": "a7E8bVdk+D+pgqa1uN/3P1o+jBpd0/k/slFa8AGYAEDzPfljDXr8P9pe/2YeH/w/qDPL41a4+z+wk1ZC1m31P1SsURukFvY/I1pGfray+T8m/3rlWC/zP6QU+dOaNQnA/mIDtBsU/T8zO83qYdP7P9udpIx+PfQ/dQCxaeMf/T/DR+75xrjxP5+1SoiER/s/mzsD2RT69j/N/K8vi8bzPxsns1R1Zvw/h7WPuVOM/D8=",
            "dtype": "f8"
           },
           "yaxis": "y"
          },
          {
           "hovertemplate": "Label=6<br>Time=7<br>Dimension 1=%{x}<br>Dimension 2=%{y}<extra></extra>",
           "legendgroup": "6",
           "marker": {
            "color": "#FF6692",
            "symbol": "circle"
           },
           "mode": "markers",
           "name": "6",
           "orientation": "v",
           "showlegend": true,
           "type": "scatter",
           "x": {
            "bdata": "CJYLyF/ZEEBciw3QCTUMQM90QfncUwpA2QSC+ngOD0ALplFsPP4LQMJ9V58QIA9AMmKTHk4TA0DWxt3flrcRQMO8Q9irQgVAqmR6CNxdEECBycG+UWAKQFWdAe0HZBBAtcp79rSJEEC8MHv6dVsBQHb/Ns9ffA9A/qViDg4LEECBZRz+DD4PQFlqt6gD/gtAFPvL3tueDkC2qs6oaOALQL+bK9G09QNA",
            "dtype": "f8"
           },
           "xaxis": "x",
           "y": {
            "bdata": "4OVsOMkYv78AlfTJxzrRPwyF+Rakd9I/8DTsLCUlsj+kCMghlX3TP0DIdBr2PrQ/nOAB0aEa4T8Qlb9NqCjLv3blb7wpR+A/QDgI0Xh9pL+ErZL3DTTVP6Dm6p8c/ao/oBRvkWCZs7+EyOwejxnWP7AhLrQgBLY/IK+hyJPDsz/gn8xKGnK3Pxw1oz/ZztI/8J5fJmj1sT/UzWYdy0XRP8xWsa2Y4eA/",
            "dtype": "f8"
           },
           "yaxis": "y"
          },
          {
           "hovertemplate": "Label=7<br>Time=7<br>Dimension 1=%{x}<br>Dimension 2=%{y}<extra></extra>",
           "legendgroup": "7",
           "marker": {
            "color": "#B6E880",
            "symbol": "circle"
           },
           "mode": "markers",
           "name": "7",
           "orientation": "v",
           "showlegend": true,
           "type": "scatter",
           "x": {
            "bdata": "4IoRevJg0z+TjWc7U1HxP5jPIgQg794/5hHydo8V4D9EuDQmDcKmv/I3RHjF6uY/qsP+r6792D/4DqGCgU7fPx6opiaeGrU/V4NIMjI+x79+vp/3wvPWv+L8/qTV7b0/KWq9ame97D+TBZeI05/rP0EMdz52QtU/sPcnGKc55D9akYO1TgDmPz09mdvoKOQ/4fMJugRX9D/CWtr1NTq8P/o2ivcclfY/gvMSC3hhuz9WTa7Z5WjqPw==",
            "dtype": "f8"
           },
           "xaxis": "x",
           "y": {
            "bdata": "pKI4Z0q40L+wL/bubfbGP/Ch6t0JH9i/ogl7/vZ84j/AOPa2dGqWv9Qgg1E05+W/UNRLfORmzb8kMX00F2nhvyBZEGUx56u/4HceIiAVvT84I61cG/zqv3zp6wbq8tK/AN8Gnhp35L9AMVytu5DEP4DGq6VSVIu/aLply+a75j8A/utT8gquv4j/ocxATsC/4JLSSyPo1L+UhBMgnjUJwIAmqKdm3t2/4E9dN/mevL8AbGKf32+9vw==",
            "dtype": "f8"
           },
           "yaxis": "y"
          },
          {
           "hovertemplate": "Label=8<br>Time=7<br>Dimension 1=%{x}<br>Dimension 2=%{y}<extra></extra>",
           "legendgroup": "8",
           "marker": {
            "color": "#FF97FF",
            "symbol": "circle"
           },
           "mode": "markers",
           "name": "8",
           "orientation": "v",
           "showlegend": true,
           "type": "scatter",
           "x": {
            "bdata": "ux/gn8RGAEDKoErBVwQBQCLTBb04fwpARiiFWrMj/D/WmvFLEmMIQDhwH8dXr/Q/NG0gxlyyCUDlmzlmF8wAQHQEqV2jOLw/YJABlK8hBECOJnNA8OUEQNkFlR/E9wJAHmKyfuH7CkB0QUDV3QcLQBCbxVEhfwdAm3kI3Vw4CUAUMms0dMoMQGFZj7Ix2gdAQ1+a1G4mA0AP6NjK8Xz7P/EEid+k/wFAMqbDtZZeBkA=",
            "dtype": "f8"
           },
           "xaxis": "x",
           "y": {
            "bdata": "Ji2FARRS8T/9JnzoIIX+P94usz842gNAyok+Oym++T/iSBfsoQb0P1EeVtKiH/o/Ykx7FFWxAUBaTBm5Vj8DQFpAM7maNQnAtNLhufVgAkDsQYC8FmMDQMjULhA71vY/I8Orye9WA0AjKjLJDe0AQO/YDy8MXwFA6yYMBH7yAEDuFGJrGdEBQLpbGXPLJwNA1SuWeMJt+z+pUm9GxCjzPx6wIwMM4P4/17bTEaBKAUA=",
            "dtype": "f8"
           },
           "yaxis": "y"
          },
          {
           "hovertemplate": "Label=9<br>Time=7<br>Dimension 1=%{x}<br>Dimension 2=%{y}<extra></extra>",
           "legendgroup": "9",
           "marker": {
            "color": "#FECB52",
            "symbol": "circle"
           },
           "mode": "markers",
           "name": "9",
           "orientation": "v",
           "showlegend": true,
           "type": "scatter",
           "x": {
            "bdata": "4zoMyjsPDUAWii7ovgcOQOA6ctLbOLw/GWiIhnOxEkDxXSn2wr0NQFbeKMyTBxBAEdEcRp94EUBc1kQ3X/0MQEL79Dz1aw9AvlXTkKNODUCREj+vpdUQQESt2jV1mhBAGY7SoA6pD0AfdTFnjTQKQASqewSDng1AFWezAZhOEkClgBIhsBYFQLBxzh49xQ1AplglPRk5vD+/VuP6uEoIQLSkR1tIhQVAny4vDFwGB0DjagagZjUCQHCXFyFgxAtA",
            "dtype": "f8"
           },
           "xaxis": "x",
           "y": {
            "bdata": "KAB5fLvxxr/A7y3ykninPxrD28iVNQnAkOphYCWqz79wNjGPeT7Pv9D4QMuaw8C/7KWRJfly4r8AjtOGGCKMv7A6MNkckMY/KJc99s8RzT+YrmvPicnkv9iktAHIgdm/8BBYAoD/v7/ARZr15KjKPzRyxE+t5ei/3Ps0zFu40L+k4XU2Y0vWP+DgvLcPUda/eNVDbpk1CcDAGgcHBESrP6CU2CbjpMq/4Pvu/wOqwb8g6dwiQh3NP1jcjwCJccG/",
            "dtype": "f8"
           },
           "yaxis": "y"
          },
          {
           "hovertemplate": "Label=10<br>Time=7<br>Dimension 1=%{x}<br>Dimension 2=%{y}<extra></extra>",
           "legendgroup": "10",
           "marker": {
            "color": "#636efa",
            "symbol": "circle"
           },
           "mode": "markers",
           "name": "10",
           "orientation": "v",
           "showlegend": true,
           "type": "scatter",
           "x": {
            "bdata": "Kd2BKI4M/b/xCEZ3/LMPQBhFibkqMgLAFwQsSTy1CEDYqEdL9g7ovzn2bleS+AhAAIXbjDz59L83Py8llyXiPyHEiY7AR+M/0Y356vguAsA=",
            "dtype": "f8"
           },
           "xaxis": "x",
           "y": {
            "bdata": "VKQWEqBj7b+kB9xFkw7Vv6bAGnZxFANAPJRiGfPg2D8/94hlJIvnPzvCda2pOgBA4hThd6fY8z8esYfANj8DwNDtiMOY096/nkta/Ave9j8=",
            "dtype": "f8"
           },
           "yaxis": "y"
          }
         ],
         "name": "7"
        },
        {
         "data": [
          {
           "hovertemplate": "Label=0<br>Time=8<br>Dimension 1=%{x}<br>Dimension 2=%{y}<extra></extra>",
           "legendgroup": "0",
           "marker": {
            "color": "#636efa",
            "symbol": "circle"
           },
           "mode": "markers",
           "name": "0",
           "orientation": "v",
           "showlegend": true,
           "type": "scatter",
           "x": {
            "bdata": "0KqDK4iL7b+iC5vDtbzsv8Q1eCQ5N/K/zSLCdwhh9b/WSPKc6cPuv5h7r9l0c+u/6m9g/EuB8r+lFOfwqaLgv8zBaPAhm/O/un3VDMkj6r9s1vXZt7HmvzwLEBvQAui/mrt5UZiH7L8q5mlbA0rvvyZ258oJafW/9PLgTAVh6L9G9wWASYDuv7g3ZXQBTNu/qB3kpI/67r94ObHd/Ti8P6wIrGZ6Tdu/oZsjjyEw8r8KKi/bS8btvw==",
            "dtype": "f8"
           },
           "xaxis": "x",
           "y": {
            "bdata": "jAWTOUPq7j+CJ0SNz/viPyldFsNlhfI/ZJ++gnD98T/OC957FmrpP55klaD9A+s/xEBY9wph4j8w39HyQbTgv+D3o9RyWdI/+rrk2T2U5z+MLrTwbrfZPwgFUKzFq9E/sfTVdHFy6z8OeT+UnX/vP9/6HOgnhfI/Z7xxwvhu6D8bR3j/E/bkP4gzs3uIt9W/JnfDvDzQ7z8w4s+YnDUJwMiXSn75u9W/hRCa6NYB7T+E6paDoIbhPw==",
            "dtype": "f8"
           },
           "yaxis": "y"
          },
          {
           "hovertemplate": "Label=1<br>Time=8<br>Dimension 1=%{x}<br>Dimension 2=%{y}<extra></extra>",
           "legendgroup": "1",
           "marker": {
            "color": "#EF553B",
            "symbol": "circle"
           },
           "mode": "markers",
           "name": "1",
           "orientation": "v",
           "showlegend": true,
           "type": "scatter",
           "x": {
            "bdata": "0heOJf3X8r8w+AjILLH2v1Dc1RXLbvC/OKHUvP4H+L84YKkajAj1v5iv02Oh3fO/GdgzYsjD9L9/E+52tYf3vzg1N1CcgvS/wlOhbAm17r9qjYB+DDm8P+v1rhoyI/S/03LsTPqM9r9WDyzMiyLwv/YBNs14+eu/NyEswiHL9L/f8JZN35L2v6IsSn5beva/2plHTRwT8L9+6/C5u8f1v7uxqRFIS/m/P/GOqpM1+b+NRq1474Hyv5u17nQs3/G/lXtM2vPv+78=",
            "dtype": "f8"
           },
           "xaxis": "x",
           "y": {
            "bdata": "3G0+e3IZ/j9q6TArlr//Pzsj8BIzAfw/Kh1MUqmsAEBM0frAZmH+PyuDO0E0Yf8/KSL9x4xo/z+aM2utY08AQGK8EhFcWv8/5MqE2mrm+T/kWQtZljUJwEI+qStaw/4/SDeww/tzAEAnm0/SQDL3PzWCT+svtvY/779uusoKAEBX+1xvCtQAQCLoW5yiPABAeJjjzSTt+z9dOhV9NpT/P+5b7Fta7wBAGmkx2KAhAUDbOzMO+/39PyEt/J+BL/w/Sg40VDzOAUA=",
            "dtype": "f8"
           },
           "yaxis": "y"
          },
          {
           "hovertemplate": "Label=2<br>Time=8<br>Dimension 1=%{x}<br>Dimension 2=%{y}<extra></extra>",
           "legendgroup": "2",
           "marker": {
            "color": "#00cc96",
            "symbol": "circle"
           },
           "mode": "markers",
           "name": "2",
           "orientation": "v",
           "showlegend": true,
           "type": "scatter",
           "x": {
            "bdata": "8YIMBiuO/L/vMg+rmAcBwFe+qiKUoPy/rw2jTSp98r/9KriSveX3v6lq7lEo+P2/h/45heZP/b+xHlMFQKz2vz9ReSau0v6/I8bBxugj/L+nVV/GnIz8v/9EaIDouvy/lwm4Cwnz/L+EpBxsOeP3vyNxmnlGx/2/dbdLUZby/78DnYFE2dT/v3Cu5IZJzgPA/12fEfQL978D81uHAyvzv8/Tichc1/O/Vj9KGow5vD+tqXdG13b4vw==",
            "dtype": "f8"
           },
           "xaxis": "x",
           "y": {
            "bdata": "DLZ7omKi7L/6GvXRUoj3v8C7VvDr+Om/2Mg4/RA75b+E+0qYioLhv1Srx6c3DO2/tGVFGscR6b/4s3zU7Uzrv2wK4yqL9fC/HB9KJJ1z57+oY5ZkoQnrv7T5w4vu5u2/ICFgG+KM7L98csSsVNXrvzSutHtVLvK/nhyDdDyh8L/YRlwYmYHvv6ZuQFb0nfq/aER3YMXi57/Aj3cjSnfjv5gqEQK2Euy/eJkEiI41CcAgk17tLSzkvw==",
            "dtype": "f8"
           },
           "yaxis": "y"
          },
          {
           "hovertemplate": "Label=3<br>Time=8<br>Dimension 1=%{x}<br>Dimension 2=%{y}<extra></extra>",
           "legendgroup": "3",
           "marker": {
            "color": "#ab63fa",
            "symbol": "circle"
           },
           "mode": "markers",
           "name": "3",
           "orientation": "v",
           "showlegend": true,
           "type": "scatter",
           "x": {
            "bdata": "dSCLdQQdw78QZCAqXBvUv1zXNHFpNau/OAkfYXvhoT++SazArIa9v9Xcv4Vw/M6/dpL1MKvlsL8FyziDBe7Pv7Cwb2KKD5E/uLt09Kcw1r8m7RvfEwa2v6HYshEzlsS/JFji10A7qb+0vZ1Ye9SjvylLQtVJOcK/ubifkg8Uzr9LWoBkC4bJv0P6Gn0hPMm/IqnAbP/ouL+cBTR2w/Ksv2bdiEAUObw//wy6pn+dz79bJtR+VvPLv9BJ4FYcN4+/gRkeTGtvzr8oYb6axAGZPw==",
            "dtype": "f8"
           },
           "xaxis": "x",
           "y": {
            "bdata": "gH8Ht4tY7L9AgoEaMqbpvyw22+0p9Oq/LmUSeLUXBMDyilaTEW7xv8h4JzC21ei/AraudH4z9L8wVmxzB4PovxDqeSd5cPm/EJ9fgZvL9L9MzdNgypzzvwQUAM+MrO2/KmLyEoL98r+4JzRpi/ryvwDJz4yAIu2/oOcDRYEN6r8QfN0Y4hjpvyzBf8tUT+u/xFWS5cAD87+oJSTvN5jsv6Te6E2UNQnAlLhOjNN96b+6Zq2Vd531v+XGpPckawHATPsku7vr7L/U1rSbsAvyvw==",
            "dtype": "f8"
           },
           "yaxis": "y"
          },
          {
           "hovertemplate": "Label=4<br>Time=8<br>Dimension 1=%{x}<br>Dimension 2=%{y}<extra></extra>",
           "legendgroup": "4",
           "marker": {
            "color": "#FFA15A",
            "symbol": "circle"
           },
           "mode": "markers",
           "name": "4",
           "orientation": "v",
           "showlegend": true,
           "type": "scatter",
           "x": {
            "bdata": "f4abpo4SB8CTvLeuIO3+v9/8ppRFKgLAf02xuwPTAMBFKOoHVVIBwNkWWj/FuQLAq6J330pZ/79ZIajF6lYBwMEW6bqCv/y/EY5VwcM9/78i+10dc40AwGlWnPI7nvm/km6kGg6OAcBkMVWN5voAwI68vZMvjgDA3NS/wdhJAcBMdg2r4QcCwEUAoRP/ywHAT+ja52bS/r+TKYA47nIAwHmECms/+QDATPuW+F02AcDR2UlwMfYEwA==",
            "dtype": "f8"
           },
           "xaxis": "x",
           "y": {
            "bdata": "7gCl2JRE9j/oXDrcS6D1P/yLpqglnPY/PcFDsuxn9j8ZHT8UZKf2P0tCWZfFKPY/1NxVFodG9j8hKzHwetX2P7eNfI25/PQ/yFyPLCUL+D8KSRGGCP71P2B2LSe9o/M/Rz0Q6evT9T8gv9EGSGb2P4pXzXH2Lvg/D1PqZcSc9j9uClJrPE/2PyKzY3cZAfc/cXcoT+8y9T+SN297Jeb1PxqQKtblLvY/0rF8+X9r9j+4o6sbizf2Pw==",
            "dtype": "f8"
           },
           "yaxis": "y"
          },
          {
           "hovertemplate": "Label=5<br>Time=8<br>Dimension 1=%{x}<br>Dimension 2=%{y}<extra></extra>",
           "legendgroup": "5",
           "marker": {
            "color": "#19d3f3",
            "symbol": "circle"
           },
           "mode": "markers",
           "name": "5",
           "orientation": "v",
           "showlegend": true,
           "type": "scatter",
           "x": {
            "bdata": "FcP3yfyd4L84wR0x8+SSv5g+KrsGHeO/ei0sfXLM4799/OyVkSbgvx46e7SOi+K/cM1cGHXY4L8mlAPNaoDQv5hQnPDm4eC/W1eGhKuG4b98l7eqZQbSv6AOq8COObw/tDP6TSQ13b8HDZWWxgHjv7hy1dtpit2/DBu81nCk6L9+Di6C7vbev5rw8khWgOW/eMRy2eVR3L8Q7ZSISinWvwch0XM4P+W/J/Jk4Nyt5L8=",
            "dtype": "f8"
           },
           "xaxis": "x",
           "y": {
            "bdata": "Whpjds9aAUAAer51Fsu6v602Fk+2GgJARE9u4ppZAkATcZjMlzsBQKDCyUVcgwFAxETQP7K7AUBMfE9bocP7PxWPGOPmkQBAj4l9qt1oAUBAQ119P679P2zXIISXNQnAjGMdTnGvAEA2JCw2ly8BQNh2bgzASAFAGBEmKKl8AUBUXHk4r38AQCFXvVFGywBAj31dV252AEBTKWlvTan+PzgQtYdKIwJAi22UGbZxAkA=",
            "dtype": "f8"
           },
           "yaxis": "y"
          },
          {
           "hovertemplate": "Label=6<br>Time=8<br>Dimension 1=%{x}<br>Dimension 2=%{y}<extra></extra>",
           "legendgroup": "6",
           "marker": {
            "color": "#FF6692",
            "symbol": "circle"
           },
           "mode": "markers",
           "name": "6",
           "orientation": "v",
           "showlegend": true,
           "type": "scatter",
           "x": {
            "bdata": "c/7vkCTCAUB8oXpPHiMBQMRjqwzRHANAQDeQRuXdAkD/XbydSioDQCYOiEvDZghAG7lyEreUAUC8rXMhytkFQCe65tiTLf8/6y0GzTcXAEDussW9LHYLQDZPCrgRmgtAspmynquwCUAI83/wJWEFQA4ZCrTDIQNA7JGFhA2yB0DTB8yHaRcGQM6AAkYtUgJARewovzGjAEAjh9RRv5YMQLPFadJ/LgRA",
            "dtype": "f8"
           },
           "xaxis": "x",
           "y": {
            "bdata": "uGFuMhWX3j9GS4XFiDzgP36KIXkW0uI/fDFmhGYW4z8G6dkPMPvhP4Tmu9yVE9o/iPrXF5hj5D8k3I7PKafXPwBsd/2TuXU/WCWN+/6H3j8AzrZee13LPyAU4E2M3d8/TDbZMQVG1T/EtkUJagvZPxjC0vODN94/cOmjzqTc2L/S6H0IznngP3aB1R8S+uM/Al9Wxcgo4j/oz6m+i7fIP8BXwkYCI+I/",
            "dtype": "f8"
           },
           "yaxis": "y"
          },
          {
           "hovertemplate": "Label=7<br>Time=8<br>Dimension 1=%{x}<br>Dimension 2=%{y}<extra></extra>",
           "legendgroup": "7",
           "marker": {
            "color": "#B6E880",
            "symbol": "circle"
           },
           "mode": "markers",
           "name": "7",
           "orientation": "v",
           "showlegend": true,
           "type": "scatter",
           "x": {
            "bdata": "nE7T8S5x2j8YtZXTQlXDP8PNsem4Y9I/JkR41svV0j+8uOgivu3VP9GY7DOfANc//iRGd9gR0j8SdQiNXi7GPySQr6r4OLw/KiWo/0zz1T/vCxiAA27bP/6a5oURwMo/xmX8tMU5vD+nusoD8A3YP1yuyVSqd9k/TcMf1CnY2j+gyZqGgCTSPyF1zKWR/dA/i5xVg7XT1j8aSS6Dvzi8P2JsFT916tg/MTXcBk/T1j+A/KUiBOnXPw==",
            "dtype": "f8"
           },
           "xaxis": "x",
           "y": {
            "bdata": "4I8WZdcOx79Igae5Qz7dv+jq/dGt08K/qKUGtrUT1b8ASF2zCr9jvwDx6sWfXI6/FLyhJg7k1L9EOVudiyrUvxJDVzOVNQnAeDQgp7uIzb+wg2DxvKW2P4B8n5n6Upm/VLuW05o1CcAUqk5T/0bRv/AuFFSkO8I/rPUVNbX92D94TNXiN/PFvwTTL65K9PK/+GVs3xCX0L8CcVMVljUJwBC0xcSSULa/QDWKrQZvmL+QmR4lLlLdvw==",
            "dtype": "f8"
           },
           "yaxis": "y"
          },
          {
           "hovertemplate": "Label=8<br>Time=8<br>Dimension 1=%{x}<br>Dimension 2=%{y}<extra></extra>",
           "legendgroup": "8",
           "marker": {
            "color": "#FF97FF",
            "symbol": "circle"
           },
           "mode": "markers",
           "name": "8",
           "orientation": "v",
           "showlegend": true,
           "type": "scatter",
           "x": {
            "bdata": "4ffTbygdBEAV3E2xxCUHQE+zElk+v/4/g3x+ElnwCUCEqqIvZJMFQEWfJ9myqAtAv1fJ2gbvB0ARy7UrklIKQPayd4dMObw/f+nXPt8tBUDZqfGjwRYJQLIXPQ+PtAZAXR9me+NEBUBwhqFl8I8HQDVwUnj1qgZAc9eVkwQ7AUCzveSnPbYBQOFgZoTCUglAoPK0cPpACUBINX1mBJIJQDVdDoX0eghACZCmA709BUA=",
            "dtype": "f8"
           },
           "xaxis": "x",
           "y": {
            "bdata": "088R8THtAEBWvF057fcBQNwkcRfYj/w/S0UeBHhMA0BaJ0W4sGoBQPG/2V3kbANAisw5P3nWAkAqaYjCzZMDQEgYOX+ZNQnA0qRo4pvsAUCe/rAeskMDQFZE2zcF+wFA7Zszl393AUCAF1dpb14CQPuH/cep+wFAvrVggELv/T9IG4ZwiL/+P8fFhbTxzwJA/jkU0gg2A0ADuZp9hxsDQAEeqxLNFAFAe6uTMMRkAUA=",
            "dtype": "f8"
           },
           "yaxis": "y"
          },
          {
           "hovertemplate": "Label=9<br>Time=8<br>Dimension 1=%{x}<br>Dimension 2=%{y}<extra></extra>",
           "legendgroup": "9",
           "marker": {
            "color": "#FECB52",
            "symbol": "circle"
           },
           "mode": "markers",
           "name": "9",
           "orientation": "v",
           "showlegend": true,
           "type": "scatter",
           "x": {
            "bdata": "iiJE/YU1/z+XqF+6NKQDQJCRoyr8OLw/80FkQZpCBUAoPr5HmssMQGS7kLDMUwVAwxZx4MpjDEBRj+Gn0wsNQH3KjjFVAglAeEs5WRKvCUC0tsRwjIAKQIlfXw/xxPo/97LpgDvpBEDyaYHcysMIQOtm5gm7mAxAKdH1q0HgC0CgzUgPFTm8P5YxE3WsnAlAyH5jrmk4vD+Un61JQ6EBQLameQyTxgVA7wUT2guBA0AXCoOtV68CQJKMwgT8NwJA",
            "dtype": "f8"
           },
           "xaxis": "x",
           "y": {
            "bdata": "xFH7QHFu3D/wrJMa8b3ePzBi4jWTNQnAeDg9+XgA1T8AooR+dzZhv4huqEZsy88/cFAsEUdatz/wg9SlU5Wwv/Tz3ia+xNI/GFxVlWKQyT9AzKwnQpnEP9gLDoka0ce/QLuif1jmyT9QgDATSznJP5AZ7Yt60LA/wCl9PxzIpz/sixC2ljUJwDDdUGWm2Ms/zjsJjZk1CcD4sae7xt7KP2jnVHMouMo/vDqtxKhj0z/M9XUj9jvVP0hdpktLOM8/",
            "dtype": "f8"
           },
           "yaxis": "y"
          },
          {
           "hovertemplate": "Label=10<br>Time=8<br>Dimension 1=%{x}<br>Dimension 2=%{y}<extra></extra>",
           "legendgroup": "10",
           "marker": {
            "color": "#636efa",
            "symbol": "circle"
           },
           "mode": "markers",
           "name": "10",
           "orientation": "v",
           "showlegend": true,
           "type": "scatter",
           "x": {
            "bdata": "r/wrRyXpAsBtoV/LA50PQPMgtKSL5QDAy5pNa7MsA0CK2N9mROTtv3GfK/8HGgdAyyV3pFVWBcDqK+fgAT+wv90ONvAK288/LIkNQITu378=",
            "dtype": "f8"
           },
           "xaxis": "x",
           "y": {
            "bdata": "qgg3jb7d979QSWHyxFu4vzW70RCL+wJAwGzaWOPQ4D8VheSE+BHvP/hoxx/vfAJAj1e1D7Xc9j+oVF2jAtTwv3BYT8HkJMC/3IiVl2FTAUA=",
            "dtype": "f8"
           },
           "yaxis": "y"
          }
         ],
         "name": "8"
        },
        {
         "data": [
          {
           "hovertemplate": "Label=0<br>Time=9<br>Dimension 1=%{x}<br>Dimension 2=%{y}<extra></extra>",
           "legendgroup": "0",
           "marker": {
            "color": "#636efa",
            "symbol": "circle"
           },
           "mode": "markers",
           "name": "0",
           "orientation": "v",
           "showlegend": true,
           "type": "scatter",
           "x": {
            "bdata": "Kfy5R6a0/r/M9C9GU8/wv6vI02irrv2/xU6TbxeGAcDblwPqAhD9v0/13eBXN/q/WwQ/SkxUAsCTGhvdhez0v/qVzCsmkwDAGcmeu8z+/b9KeKC8JWz2v+YMGkxVq/m/6524oP1m9r9grEhUYVjzv61LHgb2J/2/tW2jDDdt/79ONlpokM76vw+1Y9YBEv+/0eOUtuNA/b/NUylmKmH3vxsh50DaVf2/1XkRt2qU+b9GGzrcDmr4vw==",
            "dtype": "f8"
           },
           "xaxis": "x",
           "y": {
            "bdata": "xy7a8SyV7z/FI/DGRu/tP6r2QNtm4/E/3iY4HObq8D/6sFYGoMnxP/iCrXyOF/M/yp79v9G47j8tM0lSdQnxP0+4GzEaafA/OcTVHT0F8T8+UWZq+XfwPzUIuqMONvM/klM9mAyx8z8+5lHfI5/xP6Im6id+3vA/5H9/0gN98D8nd8jdQuzwP40+6WHDIfI/Eau2nTWC8j8Wo/p5InfzP2tqwalNDvI/WCbGkY7Q8j/uWnqKsk/zPw==",
            "dtype": "f8"
           },
           "yaxis": "y"
          },
          {
           "hovertemplate": "Label=1<br>Time=9<br>Dimension 1=%{x}<br>Dimension 2=%{y}<extra></extra>",
           "legendgroup": "1",
           "marker": {
            "color": "#EF553B",
            "symbol": "circle"
           },
           "mode": "markers",
           "name": "1",
           "orientation": "v",
           "showlegend": true,
           "type": "scatter",
           "x": {
            "bdata": "4XRW38qw/r+24pcokHj7v3R0srQYY/a/SUZ/2UUp/b+tTkg6JJD8v4n0iwAnr/u/RJgCrCFo+r8p9vY12Nr/v4y21R3Rfvm/Ts0fjjPj9b/YgKUU8jm8P2Bmqp4w4fi/ls9ULUAy+786BzL02HP6v5UziTZTTPO/CCdIvJfm9r8pRIEo0k3+vzHVNaztlPS/jsBsnTkH9r8IDzIAVNTzvxc9GZxxLPW/hJ143hrO+7913ovwzT//v+8A8Tes//2/wCvN0FF/8r8=",
            "dtype": "f8"
           },
           "xaxis": "x",
           "y": {
            "bdata": "k+al6vRjAkA3hG61YgICQA0qfX87TQBAX5g59tMRAkCpLfqhNgACQFBhx0pb1gFAbvKnad2yAUBaQM2zftQCQOanvMsIhQFApQ8bzQeHAEAY8HBAmDUJwNhW/PnLRgFAt/0gNsnWAUASyUewjrIBQGgZlBjtev8//Mw8O3sWAUCUDe8UI38CQLIh6Nwg/P8/SsN96L6DAEBSDwdDjxUAQA/CcQSDPgBAXRt1vUYcAkAAOLadR50CQJoUvvqKbQJAb+qbEMjT/T8=",
            "dtype": "f8"
           },
           "yaxis": "y"
          },
          {
           "hovertemplate": "Label=2<br>Time=9<br>Dimension 1=%{x}<br>Dimension 2=%{y}<extra></extra>",
           "legendgroup": "2",
           "marker": {
            "color": "#00cc96",
            "symbol": "circle"
           },
           "mode": "markers",
           "name": "2",
           "orientation": "v",
           "showlegend": true,
           "type": "scatter",
           "x": {
            "bdata": "blGs/EJ+BMDubbYOm4oCwJxg+HSsZ+2/PlkxiaVVAsAthObFNq4FwDckM25FRgPAITJyYkzQAcAKf1J9q1YAwD9SimnNeQXAR0Pd+TsJBcDcnPP3biAAwCHNmK/vFP+/FSmd1O46+r/U3/y/EBsCwNEdbXzRRQHANX2wo3KqBsB7GyybVEAFwA2Xf2g+WQXAPoysEUKnA8Dacl0PHccCwAOivrOdmQbAippHqic5vD8d/QLRQz4FwA==",
            "dtype": "f8"
           },
           "xaxis": "x",
           "y": {
            "bdata": "4vFKUqAL/L9K+Wu1Y2/4v2gr9VcCLem/li9oWgM4+r9NAtjLSGQAwDxoRI8Ne/i/kEpasVjn9b/AmbZzS/r0vzo606F8Hf+/rMQCEU/r/L8sXWupCujwv7gZFpJZUuu/jJqnH8Ka5L8cMnKBopz3v3AiasSNU/W/xsRAKqFBAcAEE19OG8j9v0jWYRHQTf+/WJsyQLbK+L/MscXqtBr1v+ApPNnd7QDAmmpp45U1CcCQcrs9Ujn+vw==",
            "dtype": "f8"
           },
           "yaxis": "y"
          },
          {
           "hovertemplate": "Label=3<br>Time=9<br>Dimension 1=%{x}<br>Dimension 2=%{y}<extra></extra>",
           "legendgroup": "3",
           "marker": {
            "color": "#ab63fa",
            "symbol": "circle"
           },
           "mode": "markers",
           "name": "3",
           "orientation": "v",
           "showlegend": true,
           "type": "scatter",
           "x": {
            "bdata": "OCrmilHq1r++raRZDxjUvw6Z0ajNVdq/aGrMkQhC17+Ml7oNd0PTv2rbmLuFs9q/alpgWuv20r8lVdLfN9PPv7CCnbOXPo+/hFDnWO0R3L92KisYR0bRv7yn+Dl06tm/w1Gv9sKO5b/SIwEPtL/Vv3wGP8VbAde/sFG8UB2o1L+ezji25ozUv/Yp/0XR39a/624i+uLlz7/7UBQKYyzEv5lIsuTn9s6/cdXjYEPHyL/S9Hanc/Tdv3KByz3W3NG/KvJ7A5f22b+KbRrA/VXVvw==",
            "dtype": "f8"
           },
           "xaxis": "x",
           "y": {
            "bdata": "mF8UCk+g9L+q3tzkJav7v6TQQiz2QP6/iulp9xQc97+6QCWKm+QEwKCATP86K/2/iKWumjAa/r+k351gjCv6v9r5x58HxPW/uMZLUnxc/7/iSIrD4Rvzv1QgIlKLP/q/VkyhcYcDAMCaMrAmQqACwFyL2nrkYfy/slJqz7wm/7/gHXo2lFz6v7TANc8GaPa/BCt1sM4G6784L0kY3z3tv/AIf/7TK/a/uIC2bFy98L8kr1KrdcYBwLTJ4xvgq/+/Elsy2WnR/r/QFZzRyk/2vw==",
            "dtype": "f8"
           },
           "yaxis": "y"
          },
          {
           "hovertemplate": "Label=4<br>Time=9<br>Dimension 1=%{x}<br>Dimension 2=%{y}<extra></extra>",
           "legendgroup": "4",
           "marker": {
            "color": "#FFA15A",
            "symbol": "circle"
           },
           "mode": "markers",
           "name": "4",
           "orientation": "v",
           "showlegend": true,
           "type": "scatter",
           "x": {
            "bdata": "XESY8k+tAMAwtfflhUECwNodXNlY4Pi/TCdJHpCUA8DV56mY4c8AwPnuBbIZpvy/5cM6JI+6/b/mhTFcLSkBwGrUAktUAPO/vdRKol5aAsDCJqApM5gDwJo+XNhcA/i/1/coxzWT/r9YZimByaL5v6WARrao9v2/uqHYqc6hAcCpP5j1WBgBwOkmJ8c1EgLA+mtVxHxcAcBtwZecm8f2v4zdYHRg0/m/ZLmuvWor97/tZBsr7D78vw==",
            "dtype": "f8"
           },
           "xaxis": "x",
           "y": {
            "bdata": "itofnY7/+T/fIwUQu+L7P9Eik4u1v/s/M50KVmhp+T+GVuVamqD6Pymp62CKafw/992j4Ji6+T+J/Vzlpof6PyjBdNUQSds/bQcKnE/Y+z+CtpEzDin5P1YMybfHd/Y/NoDXDfIZ/D/BbGnV65zlP55C5/XXKvo/QtOAO/wz+D9Z17unPpz6P8UOMyBEpvo/wiEvCBZ0+z+zcHq+JMf7P68jLtAe7Pc/YO2k1Efk+z9hoIGm9hX6Pw==",
            "dtype": "f8"
           },
           "yaxis": "y"
          },
          {
           "hovertemplate": "Label=5<br>Time=9<br>Dimension 1=%{x}<br>Dimension 2=%{y}<extra></extra>",
           "legendgroup": "5",
           "marker": {
            "color": "#19d3f3",
            "symbol": "circle"
           },
           "mode": "markers",
           "name": "5",
           "orientation": "v",
           "showlegend": true,
           "type": "scatter",
           "x": {
            "bdata": "46vWFcs15b8yEgJwhrzqv+5ANAUkfPu/k0KkFbom9b+E1oX2SZz1v3opEIS6Wuu/vxETfoXs8r92HwmFTKb7v0I31br2OLw/dJoha3wC7b9BrKOqG9TyvwP2Lwrpvfe/GSqLnvMK8r8fHnXnxn/mv5FEzlJcRfa/FwhVrWV7+b/I9bdHtdHpvzqfyNYylfa/xJwO36vH9L/FRCg/Z63/v1ovfgzzj/O/+eBxkQ4b578=",
            "dtype": "f8"
           },
           "xaxis": "x",
           "y": {
            "bdata": "p3g2ZpLLAECkrv+KxR/1P1hHJvfyIv4/adVhf760+z+oIrK9Nuj/P7YLqWAWtv4/Exdi7ju1/z9sL90Ei0D/P5Ka0zyWNQnAwAHbFJKAAED+c8dKURH/P7YsDvPwlf8/jMlriCYk/z+S4B+gOCoAQEWbJnQJ+f0/yOT153hh/j9LLlDpcxn9P8bDTK9PuQBAGbkv3rRf/j+cB99FnkT8Pw4vzg0s3P4/1mnS1613AUA=",
            "dtype": "f8"
           },
           "yaxis": "y"
          },
          {
           "hovertemplate": "Label=6<br>Time=9<br>Dimension 1=%{x}<br>Dimension 2=%{y}<extra></extra>",
           "legendgroup": "6",
           "marker": {
            "color": "#FF6692",
            "symbol": "circle"
           },
           "mode": "markers",
           "name": "6",
           "orientation": "v",
           "showlegend": true,
           "type": "scatter",
           "x": {
            "bdata": "la+hL8cIBUD8VxaRswIJQNLFVhBx1AVAFvjlxGVGC0AQgYLPuI8JQDXD6UTQpQxA3bjUfd+XCECucnVmE3YFQJIxwgzjjANAyWQwgyOMDEDmtwEPZ+sKQJCZO0hNiQdAiMQZ8rklDEAP1yrd8dILQBrVCieAEwlAA3oC4JK1AkDt8SSvO6UKQCu2PEaz1wVAneRMemYnBkBpc4gqzMsOQK2yT92mNAdA",
            "dtype": "f8"
           },
           "xaxis": "x",
           "y": {
            "bdata": "UTjddJN75z+0JD3HCnrbP5xij+xzOOM/HD7WyrM10z98pVBFYDfaPyA2YUQvYsg/9KixHaCv0j+Y9RE1SvLZP7QlzSpFRdY/QDR7i+GezD+wstrjY6rVP4iwpiaf6Ng/IBFalxtDyz/A86HvjtfQPygL2dzaJ9I/UJ0GECRU3T80gOcnx1nVP1QK0R+ZAuE/KJQwsRSl2T+Yew/NAXjCP+5gChjaQ+A/",
            "dtype": "f8"
           },
           "yaxis": "y"
          },
          {
           "hovertemplate": "Label=7<br>Time=9<br>Dimension 1=%{x}<br>Dimension 2=%{y}<extra></extra>",
           "legendgroup": "7",
           "marker": {
            "color": "#B6E880",
            "symbol": "circle"
           },
           "mode": "markers",
           "name": "7",
           "orientation": "v",
           "showlegend": true,
           "type": "scatter",
           "x": {
            "bdata": "fiDXN/Os3D/0MPlNP+XCP3nUiEOnOdE/DPZsupci2z9KleVCzMTeP1yh91+ruOE/mm2p8qqb3z/SkR6F27fVP5Kd6A+mJdw/GNjERUBl3T905gJ+PuLdP+zRR6fTzdY/zsO+ubf21D/mE+k0fvfcP7A79FRk2OE/75B105oI3z+RQzlL/RPXP9uRMry1ReE/uOolWqAG4T/zgLT+eQPhP5IyqMkcObw/2Q2W05d11z+AP3hHbnTdPw==",
            "dtype": "f8"
           },
           "xaxis": "x",
           "y": {
            "bdata": "+P+giHYw2L/U6t+nlIvRP4jaaW8m79C/AOyP781rsr8gAiogtezXv7jpt23c0Ni/IIw+Mgy+tr8wqZL1FmLVv7h632RSIcS/sA1YMbLm3r/I7Fh2u53GP4Qgvz5Y3tO/aGViQcoty79oTSvlV5LVv3DTxxd8xr2/IA80J83RpT94F05qVOvgv5y1ndWsJeW/+IwigdDv67+gQvkstFbSvwbaIOqUNQnALMz2MPWr1j8A4wKlIfzYvw==",
            "dtype": "f8"
           },
           "yaxis": "y"
          },
          {
           "hovertemplate": "Label=8<br>Time=9<br>Dimension 1=%{x}<br>Dimension 2=%{y}<extra></extra>",
           "legendgroup": "8",
           "marker": {
            "color": "#FF97FF",
            "symbol": "circle"
           },
           "mode": "markers",
           "name": "8",
           "orientation": "v",
           "showlegend": true,
           "type": "scatter",
           "x": {
            "bdata": "+nDoqmpCA0CpmskGY2YCQJKSJHrXq/w/q0tmZajlCkDBUTKwDusBQIF/9bBZtgBA7tX33DFLAUCPXYCYdIMGQGI4nvAIOrw/w6nWRF2MAUBS2eHCLzwHQEgt6/HNzgNAw/K2/yzBBkDK6ZiQX0T9P9/HRy3x1f8/hB1s4cjH+z+4p2njBgkEQByVvmuir/8/EkfwFZ64A0B1tzKl5xAIQC00rugpwABAPgVrV8a6AEA=",
            "dtype": "f8"
           },
           "xaxis": "x",
           "y": {
            "bdata": "JImMMzSkAEAVxJ5jixQAQMGrIZ9ZWvo/yCbLIoVjA0C2ZB0Zg5n/PyFjujXFq/0/fjbhP9pH/z+ODMQhLxQCQAT2OnuaNQnAB4/HuHhF/z/CMSEqzMQCQLwLPZfIkQBAxH9UD1XZAUBozlLBJe76P+KurAVg2Pw/Vl9HUo8K9j9BeuEpkXUBQOuxh3bhafw/b14qjpHR/j8p/VZFc5ICQGj59yV5sP4/AT57AKTN/j8=",
            "dtype": "f8"
           },
           "yaxis": "y"
          },
          {
           "hovertemplate": "Label=9<br>Time=9<br>Dimension 1=%{x}<br>Dimension 2=%{y}<extra></extra>",
           "legendgroup": "9",
           "marker": {
            "color": "#FECB52",
            "symbol": "circle"
           },
           "mode": "markers",
           "name": "9",
           "orientation": "v",
           "showlegend": true,
           "type": "scatter",
           "x": {
            "bdata": "YGAmJ2ydDEAhHSE80s0HQOx72sWfObw/OH8PpgsvCUCdPH8iOl4NQMcv/2S0yQ5AS/801/64AkDQL9C8ndAQQM67jRfx8QdAcOHOXDc5vD+Pvs07/LwFQBqsJYueXQlAN1H52qbHCECIVyDh81cCQLzUBizupwZAJtkKgPQaCkDN3dZpt/YEQMANMa+yIBBADsPkyKzYCEBkJlP/9kkKQKA1CrDV0whA6/omGOTDDEDyCWcTCiwJQJJDARwIBQ5A",
            "dtype": "f8"
           },
           "xaxis": "x",
           "y": {
            "bdata": "wGZuXEuJmT/sQ0FNS+PQP+qLoSuZNQnAGOVBJkw/1D8AphKqb6yKP6Au5dMdl6W/gBJm0Ev62D8UPtwsmE/UvyDiqDsnzs8/Aq4l0ZU1CcDICxwYO63XP/CI+vF6/Lo/uLKDl11qwj9ox+qldhvaPwChO6w/5sM/QNOx62a1wD+Q+Haf0THJP9CFKLs9RMa/QKzEYG1Yuz8QGLBPq4m5P9SfoVDhFtA/8JrYDV1euT/QpXA4zFS6P0D4lOLT4qq/",
            "dtype": "f8"
           },
           "yaxis": "y"
          },
          {
           "hovertemplate": "Label=10<br>Time=9<br>Dimension 1=%{x}<br>Dimension 2=%{y}<extra></extra>",
           "legendgroup": "10",
           "marker": {
            "color": "#636efa",
            "symbol": "circle"
           },
           "mode": "markers",
           "name": "10",
           "orientation": "v",
           "showlegend": true,
           "type": "scatter",
           "x": {
            "bdata": "XeRBfFXKB8BJvihgMTQFQNgdkRlACwLALDMWTmHPCkBbf99ufjD0v49BES8CngNApK/Z9/85AcACYXvcZOLhv2xBHLZzF9g/dyS3O5K09r8=",
            "dtype": "f8"
           },
           "xaxis": "x",
           "y": {
            "bdata": "WbvDUKppAsDAEcVgT8bfP1ugQ9alDQNAbKX23atJ0T/cTyR4W/HyP+QomQF+8wBA0SQ4gTen+j9qrDAeVIYMwCwk1Gztk+O/4L5LzQ08+T8=",
            "dtype": "f8"
           },
           "yaxis": "y"
          }
         ],
         "name": "9"
        },
        {
         "data": [
          {
           "hovertemplate": "Label=0<br>Time=10<br>Dimension 1=%{x}<br>Dimension 2=%{y}<extra></extra>",
           "legendgroup": "0",
           "marker": {
            "color": "#636efa",
            "symbol": "circle"
           },
           "mode": "markers",
           "name": "0",
           "orientation": "v",
           "showlegend": true,
           "type": "scatter",
           "x": {
            "bdata": "GUm0mYMQ/b8QFfgQDO7ov8YkGhU00Pi/8b2GBg+R+b+VOfFqJI/1vyJS8i/HH/G/ZrbI5984vD+E7h/HGvryv551K7OFZvW/RyViPq/38L92Jk/AlsfpvyAdsv2vWPe/YVKoh9tg8r987HtGwwP1v6PwfID5r/y/e5NhPTx+8b9YDO0rcjm8P29lbWsfOvK/DXrgBr/68r8cDz68Yjm8P1HVaTmrz/S/jLizjs0N+7+Ug9BYT+jyvw==",
            "dtype": "f8"
           },
           "xaxis": "x",
           "y": {
            "bdata": "OgJiabz08T/zTTRkrH/oP/h+kQTXq/M/tsbgPNyx8j9xwbjOj6zyPzRDr46ZSfE/RgVndJk1CcBxm/q0ZuTxP2nURcQzCvI/YL5l8b288D+X/GJsesnmP8RxOwVzQOA/vswOPxWf8j8TblLVZQfyP8h3mBFivfI/xT2DeU/f7T+8p7fPmTUJwPO3Wel4WPA/EKhtdNED8j8yOYGDmTUJwORA4oj1l/E/3Dx0NImf8j/wsuxIFm/xPw==",
            "dtype": "f8"
           },
           "yaxis": "y"
          },
          {
           "hovertemplate": "Label=1<br>Time=10<br>Dimension 1=%{x}<br>Dimension 2=%{y}<extra></extra>",
           "legendgroup": "1",
           "marker": {
            "color": "#EF553B",
            "symbol": "circle"
           },
           "mode": "markers",
           "name": "1",
           "orientation": "v",
           "showlegend": true,
           "type": "scatter",
           "x": {
            "bdata": "a4ihahM/AMA112ZEajj8vymCziMuQQHAfDi+a6qIAcB7bcqhCxUDwPaRKD57HPW/hC1osySK+r/LE5efPfkAwDODSu9ozf+/k+rz9Oya+7/nCJc9Vyvmv7fiByOrXQDAHXsZsl9G+L8VcjK7JwvzvzXwbMxYwPO/A27TMCD3/r+illeHHHvYv9jQtIrhKvG/Sf9d8JOj+b8ljmeaeEb/v7ggCMPqDQDA7oZ1PoqcAMD6d3JOn7ABwN9L55FCa/6/XAod3ApLA8A=",
            "dtype": "f8"
           },
           "xaxis": "x",
           "y": {
            "bdata": "pWXnvTbw+z9yMkuwo9gBQAG6NYMb/QJAWpvcVpss/j8P31MAnpz6P1fqi3lpGP0/qHrAA+cZ/j8ZJJZkVfn9P7wlekQl6v0/UelIeeZJ/z8A19dGPXyuv6+oFsoBUv0/hJWe2lEn/D/sMi+jr4H6P0q20XWQiQBAv6LYl6/a+D+jYbyN8aD7P8bhonZyAfo/XpInk/WnAUDNiKs6bO8AQLLnr6X+egJATskirelT+j9V1c7f/wz9P/5F3C7LZQJASPrwziVbA0A=",
            "dtype": "f8"
           },
           "yaxis": "y"
          },
          {
           "hovertemplate": "Label=2<br>Time=10<br>Dimension 1=%{x}<br>Dimension 2=%{y}<extra></extra>",
           "legendgroup": "2",
           "marker": {
            "color": "#00cc96",
            "symbol": "circle"
           },
           "mode": "markers",
           "name": "2",
           "orientation": "v",
           "showlegend": true,
           "type": "scatter",
           "x": {
            "bdata": "rD4X5i7CBsB42J/Rs+kHwJzkDb4T7vC/j5wVwiC/A8BvgXJj53n2v30Y4HjRDQfAqJhp7LgFBMA8igAAGmQBwIlL+t0SCP2/xBAwWK/QBsALbW/fcwYEwAzb5HnfQgTAtINXsDb9A8BmBFgnauoFwMqxMxaYyAHAPV0KoIwCBMCPipj/HAD5v9wN3z+yyAXAbWnWoe2LBMCbd09Q7q4FwFsY9aqADv+/XhEkjnCUAsBIZLSJsKb2vw==",
            "dtype": "f8"
           },
           "xaxis": "x",
           "y": {
            "bdata": "aWfukb+IAsDMJSnyBMgDwAxTmt49i+q/H8gtApQyAcCAmcPJXDPev2M9hXEx/wHAPEsYSjQl9r9cJZKQObT5v1ooPesHwfO/2mtSJFU6/78IXfSs1UTvv1yJURpu1vu/ql4nDJ4m/b/F8Kiif9kAwIr01RtCeve/fLble85e87/S64pRlvb8vxGcAP+wYQDA9t0RBYmC9r/gA11IeqT8v8Tz0BfEzPC/6qF2NKWyBMCeHshQBEjxvw==",
            "dtype": "f8"
           },
           "yaxis": "y"
          },
          {
           "hovertemplate": "Label=3<br>Time=10<br>Dimension 1=%{x}<br>Dimension 2=%{y}<extra></extra>",
           "legendgroup": "3",
           "marker": {
            "color": "#ab63fa",
            "symbol": "circle"
           },
           "mode": "markers",
           "name": "3",
           "orientation": "v",
           "showlegend": true,
           "type": "scatter",
           "x": {
            "bdata": "tE/1ZRIQ6r8bAKYnL5bgv3vU2t1lp+G/WGRqF1IW6L+F+MAsoRzmv2rMXhUy0OG/a8LK3OmW57+HCqTHa3Tyv5vS8Z9Icea/bnFZugZm479AhnsffAzrv+y92cbjIeG/WfmvwXMf478+bvMics/jv2pVZej2r/a/SU8Dx1yF5L+le6oph9nhv2zuWujT1OC/psHCnbDP1L8eRdDuCHvpv/48fATfb9y/kuDpXp6d6r/i84o6r6Xhv2ptxABXk+6/ju2B8k8l8L9bF0lsKlLivw==",
            "dtype": "f8"
           },
           "xaxis": "x",
           "y": {
            "bdata": "1t8kb3Xk+r+gs0QDtIIEwPzAJcjKZwXASkM3hRMmA8BgaKixHFEDwH6WoyqdogzAAm/a2Vp2/b84WGmezdj6v0bI7NkcLgbANqf8Y1WCCMCcFjt1ES0FwLiK1xaZFgfAyjwqMGo/B8DcvcfCxZ8OwNrJAUIiSAbAtrTE0/LDCMAWPdsvJngGwCbP5H3e/gTArICh5amj7r9EkqZxYN34v/dkq2SdtwDAaSI4+r05AMDG9tLUAV8HwDY9y2itsf2/wPAB5Dv0BMAyVJrAhEj7vw==",
            "dtype": "f8"
           },
           "yaxis": "y"
          },
          {
           "hovertemplate": "Label=4<br>Time=10<br>Dimension 1=%{x}<br>Dimension 2=%{y}<extra></extra>",
           "legendgroup": "4",
           "marker": {
            "color": "#FFA15A",
            "symbol": "circle"
           },
           "mode": "markers",
           "name": "4",
           "orientation": "v",
           "showlegend": true,
           "type": "scatter",
           "x": {
            "bdata": "LK/Q4+7TAcDUaQ8BCIQIwDeKKajK5gLAQc2KeUtxBcDIsNVpGZUHwAMJGNlQNALAV4WlYo1uBMDPfRBXJGYGwIYobfFLHADAkHiCUDApBMD3c5kN0O8GwHo6uA6wjwXA2xxKFVKuAMA595r9bH/9v7YWRedbhgfAkkFsSjIXBsBENBIaflwFwBgbpY2UxwbAPjDIYI8IAsC6txPS5BoDwKPRo2K/E/+/JA9wZyo6A8BteXoawsgEwA==",
            "dtype": "f8"
           },
           "xaxis": "x",
           "y": {
            "bdata": "LXJylKFT5T/GaiKt1S/0P/WQ2cDuUvk/B7vWhuJb+z/poo/Og3H4P0/hY023cPQ/+bzv5pD0+j8UPjfS1x37P5DOBRVIzfs/2ydSKeE/9z/9nqt3Tqn1PyCzBZ/qCPs/c3L71x8l/j8hfVe6AEn7P2KY47JlBvc/URJhw9YG8T+KCncGus/7P/IHRVii2/Y//laoxuHz6z+ey1xTn1b3P4E5A1T7+Pw/tXOYj7iP9j+cQDI3lM70Pw==",
            "dtype": "f8"
           },
           "yaxis": "y"
          },
          {
           "hovertemplate": "Label=5<br>Time=10<br>Dimension 1=%{x}<br>Dimension 2=%{y}<extra></extra>",
           "legendgroup": "5",
           "marker": {
            "color": "#19d3f3",
            "symbol": "circle"
           },
           "mode": "markers",
           "name": "5",
           "orientation": "v",
           "showlegend": true,
           "type": "scatter",
           "x": {
            "bdata": "UVTmu9z1/r86UeySw9v3v/8ciSQc2gPAs0JvpX/g/7+ygo3itjAAwC412zaD0wDAL5yViVjb/799LnZFW9j/v3QMnjnPOLw/CmeoJo6x6r9wwk3QUTwEwALAmRokxQDA792rUOkOAsA/ra0n4XPwv9zKa3VZPQXAhCy0aTEYAsABOTdew3jzvyXU6CaUHgLAIfivbBD7AsDWN4neDqv5v/8JpYqxWv2/2LHMMu/9778=",
            "dtype": "f8"
           },
           "xaxis": "x",
           "y": {
            "bdata": "OegX/X3t/z+0rt3EARcAQKiWBB9e4fg/uEx5BKSu9z+YUMfXBRf5PzdrtPJfKfs/qROg/BfS+j/0MEaNl5j7PwLSSyWTNQnApWvkCAb7+j/wYPZAxQXwP0Rai0gN6e4/+WsLZ9sG/j+pi6uYLgr1PxXmsgUzRPk/WYyGd6y89T8nSI1tidEAQMwHBZoskOg/9GMMFbN39T+Smfn8jRb6P5ntAhT6TvU//qoi1whj/j8=",
            "dtype": "f8"
           },
           "yaxis": "y"
          },
          {
           "hovertemplate": "Label=6<br>Time=10<br>Dimension 1=%{x}<br>Dimension 2=%{y}<extra></extra>",
           "legendgroup": "6",
           "marker": {
            "color": "#FF6692",
            "symbol": "circle"
           },
           "mode": "markers",
           "name": "6",
           "orientation": "v",
           "showlegend": true,
           "type": "scatter",
           "x": {
            "bdata": "wAL5NO+EA0DvGbK2WoAHQFymF5YSCgBAbytuHvCQBEBDBHN4cHIOQMhfRDCaDw9A3/Agw4ecBUA+vBqPNpoDQFSJ+gSDwQNAoQitRYn8DkA0sVzgOXUCQAr1SM8bMglAL1A/fk5kC0B31fO6GvIGQGKAKUeIMwdA+JAQLTY3CEBUAIF6GDIKQKf/Y1/gCQ5Atezr/9G/CUDj98pz5Y8GQB4ciGYqbQFA",
            "dtype": "f8"
           },
           "xaxis": "x",
           "y": {
            "bdata": "gFdAhQ39mj9g/efglcjhPzzVSWsms9M/IKCGRFxbuT9AfPQT/gG/PyCXGmZYrrM/oMc7+3e74j9Az1uioRfSv9Ii2aktIuI/WMGslg2IwT/AKLpY+o/HP0AI852fMpk/SO+WhtXX0D8A0Kxkrby1v4R3CeIJ+OA/GPpSMB3ewT9QCfQJ8jvdP0iybjalkcm/MFaYAeJU2D/Qv1FLS+3KP4Amwb+BZt8/",
            "dtype": "f8"
           },
           "yaxis": "y"
          },
          {
           "hovertemplate": "Label=7<br>Time=10<br>Dimension 1=%{x}<br>Dimension 2=%{y}<extra></extra>",
           "legendgroup": "7",
           "marker": {
            "color": "#B6E880",
            "symbol": "circle"
           },
           "mode": "markers",
           "name": "7",
           "orientation": "v",
           "showlegend": true,
           "type": "scatter",
           "x": {
            "bdata": "nrHTAlq21T+bOJCqe57WP17cwRI0O9E/vkh6blto0j/fXy3LoGvdP8P4WnlyXNM/55kVfVTX1T/41LmBU4DVP6ju18enJdg/jjHrZ2mz1D+qp5GPOc7VPwKuuH9nwOI/mAOeeFFP2T8dUuzFTeXSP17P7s2dO+A/lwdPnpj3wz+h0gANPoTTP0q6JNeV6Nc/ynOhGvdr3j8cErvAFm3cP+R00Qg3OLw/+m0LUder0z9j+uaHKxfXPw==",
            "dtype": "f8"
           },
           "xaxis": "x",
           "y": {
            "bdata": "EAi/qh3Pv794/sPJaxTdv25FHnhecfK/ZHX295Zh4b9ggz/ioqSsP5AX8D5warM/AJJXRQmfcz+QAV8DD9jcv3zH/OXg0dG/SAq+YQIMzL8smIjS+EHQv7Axfd+HZdw/+D96Wdxizz/UlOOrE+rQv4g/K1FtUsY/6JORVcZt8L9YJTorTfnavxir5V4qusi/iHHNboSG1r+Abc3LAoidv5gP73uaNQnAAFfdsK1TsT/sbiShu7nQvw==",
            "dtype": "f8"
           },
           "yaxis": "y"
          },
          {
           "hovertemplate": "Label=8<br>Time=10<br>Dimension 1=%{x}<br>Dimension 2=%{y}<extra></extra>",
           "legendgroup": "8",
           "marker": {
            "color": "#FF97FF",
            "symbol": "circle"
           },
           "mode": "markers",
           "name": "8",
           "orientation": "v",
           "showlegend": true,
           "type": "scatter",
           "x": {
            "bdata": "BAC/jqGbDEA10thVCEYLQHUn89NuoQlA4bEAkSDkDkDJ8a8WthcLQFfk3T7Esg1AKIDx6y+wD0C68D/lcLwLQAhjlc1iObw/IoBSexfzDEDo6tEFjAQMQM9WSXgDdAhApmkAi0K+CEAh4hyqoZcNQH8OEtwIBgdA7pgsvRZ+CEC0HzgfxkICQNJxbsYqLwVAnfz24SyuCkD/mGqLJaIMQIWeJ3er6QtA1c0QHGQtCUA=",
            "dtype": "f8"
           },
           "xaxis": "x",
           "y": {
            "bdata": "dT65koXXA0DqVjDxWF4DQNtS6nFwKQNAoKiirpEgBEAg0xXfE0gDQGvGGfTnqgJA1BmzYZoPA0AoVNL1arsDQC4VVfqaNQnAf8K8lAmYA0AhuZwf5+IDQFnyQ9a3owJA4gy8H0LtAkAJRWdWhtYDQNZ4MmXHQQBA5raNifuXAkCfRRKZt9f7P2evPqIQbQBAzmlvj5gDAUAYTTGwk7YDQLTQeW74ngNAUj2d7gTVAkA=",
            "dtype": "f8"
           },
           "yaxis": "y"
          },
          {
           "hovertemplate": "Label=9<br>Time=10<br>Dimension 1=%{x}<br>Dimension 2=%{y}<extra></extra>",
           "legendgroup": "9",
           "marker": {
            "color": "#FECB52",
            "symbol": "circle"
           },
           "mode": "markers",
           "name": "9",
           "orientation": "v",
           "showlegend": true,
           "type": "scatter",
           "x": {
            "bdata": "fXVAq3elA0BAyBaoqUwEQKTHAeYXObw/wurABHti+D8ESvrUCfcBQA5HrTG6AwJAn/TMmCtGAECziisim5wCQOLFifPqQgRAjjqal5o5vD/hO7JonXkAQIVpxmeEEARAM/FwQWr3AUAFpwIUIHMBQNT4diFsObw/d4rXdC3NAUBGWLyzBBANQPWXOP5fmQRAFq1Kkno4vD/NEX3GEPgAQMNaKiKqBQBAyeNcc31W/T+TkbC85XH6P2klhdiGTvw/",
            "dtype": "f8"
           },
           "xaxis": "x",
           "y": {
            "bdata": "BPHf/Bdc0T9I7Vk9907hv+pnPOWbNQnAYLZqopiVor9cQDKQ/EneP/B/DfK1lcw/QN98s9AC4j8og7dPRE7Nv4iMTAWOktu/VJWsFZc1CcDQC7fauN3UPyB5AZ77ArM/IJGMvesxpz/AitRVax+yv2AUQwWVNQnA3EP0+0FH0D+0u9bw2TPqv+RWw4cVENQ/SMEKCpM1CcDAxpzQV8qivwAJEZi7Yna/KHKPcCHuyT9oRrjgpCTIv4QCVwRvRdG/",
            "dtype": "f8"
           },
           "yaxis": "y"
          },
          {
           "hovertemplate": "Label=10<br>Time=10<br>Dimension 1=%{x}<br>Dimension 2=%{y}<extra></extra>",
           "legendgroup": "10",
           "marker": {
            "color": "#636efa",
            "symbol": "circle"
           },
           "mode": "markers",
           "name": "10",
           "orientation": "v",
           "showlegend": true,
           "type": "scatter",
           "x": {
            "bdata": "YQ8GaQmsBMD+iCzs8UwIQHlCSgc6lwLAZiRfEwiaBkDAk/+VsGHwv/jUMqsqgQ9APasvPOS7BcD+FUUCT8npv5rrrv5y49U/AufOcG2Q6b8=",
            "dtype": "f8"
           },
           "xaxis": "x",
           "y": {
            "bdata": "Ft53qXVW+L/QrrGvpQ3QP7QnHecqZABAOKcjueS61T+SNezLYsTxP9qcx0dcFwNALaVuP2pY9T85pCEAEXQAwGCkbNl23M6/yWL5lBY1+T8=",
            "dtype": "f8"
           },
           "yaxis": "y"
          }
         ],
         "name": "10"
        },
        {
         "data": [
          {
           "hovertemplate": "Label=0<br>Time=11<br>Dimension 1=%{x}<br>Dimension 2=%{y}<extra></extra>",
           "legendgroup": "0",
           "marker": {
            "color": "#636efa",
            "symbol": "circle"
           },
           "mode": "markers",
           "name": "0",
           "orientation": "v",
           "showlegend": true,
           "type": "scatter",
           "x": {
            "bdata": "OOaW2aEx+L/OhwZEIHr1v8hQ6/JMp/m/xWA69WjrAcDzlwUgub77v6qczUpwOgDAwreAqqA98b+7s1xoGcf4v32tN+xlKvy/TZ26f+jJ/r93wCSvR5P4vzqrcinZJve/7lgQmqm27b+OWDW9Qej6v5Zg4d1UPgHABhgBxn1B+b/KcYjzCzm8P2RHHL7pTAPAdcXjrK+D97/2RhgcfTm8P9YpZfOS/um/FK/2TYFx2r/OfJsSlfv1vw==",
            "dtype": "f8"
           },
           "xaxis": "x",
           "y": {
            "bdata": "zkpjq5wd4z/w046/QtLwP2DhNaKCpro/0DoErQL9zT9w6rVqzkzqP4x1vPuHKu0/GZhZtkOI7j8CfjbR0oLwP+/KqeA9LPA/KUCZzfu56T8OLAXf/L3tP5J49aztF/M/LRwMCaho6T+K9FJzjEbvP8D/4ozNl8o/w5Ez0FWE6D+Y0eUClzUJwOQ7bPfHouE/uyqrCj/N7D+0dnqglzUJwNQScZyMgNc/kraGZQia6z+sZANWycrpPw==",
            "dtype": "f8"
           },
           "yaxis": "y"
          },
          {
           "hovertemplate": "Label=1<br>Time=11<br>Dimension 1=%{x}<br>Dimension 2=%{y}<extra></extra>",
           "legendgroup": "1",
           "marker": {
            "color": "#EF553B",
            "symbol": "circle"
           },
           "mode": "markers",
           "name": "1",
           "orientation": "v",
           "showlegend": true,
           "type": "scatter",
           "x": {
            "bdata": "cLs5EzW/9b9gTeK6/MUAwEjit0ffGte/RRPDdV+r/7/2B5txsAP2v4UFgM3MaADA1E2B6RAm+79Qr28PDpzvvyvE98u64v2/rKpwnWRM+78XFt+mEhbyv0qr7zHxgvS/r7KMqNJN+L95BmSFCRv4v2HRiQCdSP6//dIiJJqR/7+udbCr8PUBwCi+rCQFWey/qRWvoZ5k+b+p673bcW7+v9oedOXLOADA8dsw7eLk9r9DEcs2ep79vzrvRAOfiea/N9iQYA1h/L8=",
            "dtype": "f8"
           },
           "xaxis": "x",
           "y": {
            "bdata": "qTbYJ4doAECMY5HQ8rACQJgQmV1YlPs/iEIMPy75+z+q8ypCvIsAQBdrUZZfmPw/v2ROGC9nAECx9i9F2zX/Pyis0brDSwJAdtdvIZaRAUCXwGt/2YLuP7LSnGDYkgBAvishsl5RAUANtII65i4BQKBlm8lrZfo/b7hVf2SGAkBTW7nvbQ3/P/EpkbsaRfQ/6qANeNd8/T9G8zrcInwCQCcLzPeuhP8/LaO5PYWt/j9RHts5diMCQOzJdJVuqPw/TcVCFBsrAkA=",
            "dtype": "f8"
           },
           "yaxis": "y"
          },
          {
           "hovertemplate": "Label=2<br>Time=11<br>Dimension 1=%{x}<br>Dimension 2=%{y}<extra></extra>",
           "legendgroup": "2",
           "marker": {
            "color": "#00cc96",
            "symbol": "circle"
           },
           "mode": "markers",
           "name": "2",
           "orientation": "v",
           "showlegend": true,
           "type": "scatter",
           "x": {
            "bdata": "Mss8GiYvCMCPVt9swjwEwIuzQI7VxPC/QOAEOzblBcB/P+US+EgHwOysge/X7wbAY7R4cX7S/r+mUEFuUtkGwAKQ33tZmAbALv/eIS03AMDguoSKCfQDwOf2wJHXPQPAaRomLTP8BsDs1X9A/1ICwPzpKfjv1QLAiuWXQLAuBsD0WF7zI+cAwBwumoCcmwbAkyYBEZnWBcDoU9vZ8TAIwHNfyh7BLQjA53WWMa0p/78avrnIsRsHwA==",
            "dtype": "f8"
           },
           "xaxis": "x",
           "y": {
            "bdata": "DNiVPtWxAsBKiyAtlOn7vwSQODTND+q/Qogk0eVmAsALYLv2b2UBwOjtmL+qsAHAvlVsDj5//L/qY5iodaP8v9PcQqbPoADAmNdSPy/nAMAOcptOCXX5vy4MxYLEW/u/HxIKZUsxAcDQRBzuvzH5vzgQE5MPEPm/plNKKpmk/7/FW3Q5WMgBwGpjagrwU/m/jIZlwXHO879H0A2j4GYBwOreE6y+DALAtgWt0BUBA8BJcBvSZBECwA==",
            "dtype": "f8"
           },
           "yaxis": "y"
          },
          {
           "hovertemplate": "Label=3<br>Time=11<br>Dimension 1=%{x}<br>Dimension 2=%{y}<extra></extra>",
           "legendgroup": "3",
           "marker": {
            "color": "#ab63fa",
            "symbol": "circle"
           },
           "mode": "markers",
           "name": "3",
           "orientation": "v",
           "showlegend": true,
           "type": "scatter",
           "x": {
            "bdata": "tKjRHZlN47/6vYrtAb/jv25I8AnCQN6/I6qzEWXS4785ljFn5mrgv6jvbzLXQOC/1eYi93I+4b9++MSggvnfvywcg0PfJ9+/5Gt8H9fF4r9iRDLuY+LZvz6qdMvoCOK/O5lOdT+F4b8sXlnpYuTjvxCJoq+yDua/eEk+2not5r9BSfK9SC/ivzsFQn+XdeC/WHXabvXv1r82iCK0TTTYv9zPM8V0i9m/MmcOttoe4r/qfmKJERrkv9jwkgpM5uG/K75kIW2I4b8MRtUsCtThvw==",
            "dtype": "f8"
           },
           "xaxis": "x",
           "y": {
            "bdata": "4cqX2OlIAcAmvfUqAacEwHC5Fuv2kwXAPqIjWeGCBcCuGR8WhEcKwLTekcpkPAfAXAAu9wdPBMBrIn7mpJkCwGYNPRuLfQrA4PiVFEdWCMAwJ3FM4On+v6aGIZRM3AXAyCb2pVmMCMBOsmHUAr4LwALgFbpO+gzAZPeTcUUVDMDqrLzdoa8CwIzKLISjnATAElQRCmZYBMCSec43RnQAwP95uuxaPQHApANrS3NRCcBcJZ/aO0kJwJYBPF9v4AXAbpZHpFSzBcB8Tq9nQXUKwA==",
            "dtype": "f8"
           },
           "yaxis": "y"
          },
          {
           "hovertemplate": "Label=4<br>Time=11<br>Dimension 1=%{x}<br>Dimension 2=%{y}<extra></extra>",
           "legendgroup": "4",
           "marker": {
            "color": "#FFA15A",
            "symbol": "circle"
           },
           "mode": "markers",
           "name": "4",
           "orientation": "v",
           "showlegend": true,
           "type": "scatter",
           "x": {
            "bdata": "q9+vbdykA8BgZIpHy7UBwE9J3jFX1AfArs39W6A7A8BQ8ZpjfygGwL1RxjeWYvy/r50t+MH+/L9cL9rnF54FwLT0yWUtP/q/h+VTM3VH/b92apx9d0sDwHWJBNupjQDAW1q1lV6lAMALinOavPv/v/W0X1BVqgXALLdyHs6mAsBaFBtzp+QCwEsMNwtEx/q/Vx8qf8zb/795+frjXIkAwCcFmj2Myv+/oZ5cJqyqAMAAYRDT3hAFwA==",
            "dtype": "f8"
           },
           "xaxis": "x",
           "y": {
            "bdata": "pqM0NBKI9z8c9IHwFI32Pw6Bn22gh/Y/8CETv4CJ9j+g6pyUHMn2P2qoFDGFl/Q/5IINZlgf9j/d+j/qAu72P5LZ5kTcjvM/UnfTWY429j9xNZOPeZL2P76+TS3tsvY/rM2BXiG+9j+C7pITr3T1P4IbYUXUA/c/BS6AcrYD9z/QF9oZFQP3P662mrB11fQ/wuOdbJ4Y9T8rc/aTJ+72P8wiske9XvU/uIiVdI/v9D8+wrLan2j2Pw==",
            "dtype": "f8"
           },
           "yaxis": "y"
          },
          {
           "hovertemplate": "Label=5<br>Time=11<br>Dimension 1=%{x}<br>Dimension 2=%{y}<extra></extra>",
           "legendgroup": "5",
           "marker": {
            "color": "#19d3f3",
            "symbol": "circle"
           },
           "mode": "markers",
           "name": "5",
           "orientation": "v",
           "showlegend": true,
           "type": "scatter",
           "x": {
            "bdata": "SBaqIgIX2L9yAk6jLTm8P8qsZVufWN2/gKAQsy7ykD/I0K+7Yubhv3oE0UGDVte/bOVC0pYO2L8QLnEOTDDWv7bOuFcmObw/VbafYueM4r/mXwZDPO/ev4DtdpQ+Ydu/KOMIFNWk1r/7dcdTZfzLv5DJvQxISNm/HnuPUp/m3b8k6TPMI3nZv/o5bw1trde/DmaHnXic2b8UUMWEWuLQvzIkkwcWtNq//nEXXym51L8=",
            "dtype": "f8"
           },
           "xaxis": "x",
           "y": {
            "bdata": "m5MZ920tAEASgpD2ljUJwPhDI6cko/8/APCFpVtNTj+2Np33YAABQHOk/56bx/s/lj7VUdGh+j+1kSfmuIz6PzQp4yGZNQnA+DKBiV5KAUAmnZ0qISgAQGg71smIc/0/ghf56+tH+D8sDzeHgZ7zPzfYyT3dfv4/cpKSzAIcAUCmk36scjT9P4NIEfYoe/8/8LhZOJJiAEDQWy7BMon0P+2J6CkP5/8/7IvbJrqi+z8=",
            "dtype": "f8"
           },
           "yaxis": "y"
          },
          {
           "hovertemplate": "Label=6<br>Time=11<br>Dimension 1=%{x}<br>Dimension 2=%{y}<extra></extra>",
           "legendgroup": "6",
           "marker": {
            "color": "#FF6692",
            "symbol": "circle"
           },
           "mode": "markers",
           "name": "6",
           "orientation": "v",
           "showlegend": true,
           "type": "scatter",
           "x": {
            "bdata": "zU3+XeRB/j8vEFteOUgCQHbMyWtC3AVAJP4FrVz2A0B3iPkIcrQKQAilWeY/lgZAe6g/4Zn7BkA87wV1chr4PwhavOEJ0vk/94AFtly9DECvnr4zNfAGQN7ZPLWVB/k/fGHTW6FhDUAbqQlOCZcHQHBbA1igKARAuDaiQ3miAkDKqI7AxYcGQNPiYh8PdwhAEXiXUmPzA0CdYyq/pSQIQE1WRhJeDgZA",
            "dtype": "f8"
           },
           "xaxis": "x",
           "y": {
            "bdata": "dHwNtkeU3D9ko61DsoDhP/gmhjs77N0/0F7bI5U4uj84pZT2BzLRP9BYxBZ0I9Y/0MUk1t/q2z/0TdEYBiHdP7SGhw3JE+g/QBMu8WVyyT8YEBfwW+rMP2QOET8RbtC/APPaslwxnz9wI99zJ5TbP+AAyTsHXOM/jAJLs88W07+cyEBcWB3aP+BnxLFMLKU/ADDG3k7C3z9waWiRPFG0P0o/6BiJMuE/",
            "dtype": "f8"
           },
           "yaxis": "y"
          },
          {
           "hovertemplate": "Label=7<br>Time=11<br>Dimension 1=%{x}<br>Dimension 2=%{y}<extra></extra>",
           "legendgroup": "7",
           "marker": {
            "color": "#B6E880",
            "symbol": "circle"
           },
           "mode": "markers",
           "name": "7",
           "orientation": "v",
           "showlegend": true,
           "type": "scatter",
           "x": {
            "bdata": "dldhQPhF6D9cOF6rJ0ndP8eqXdhbv+E/ViCVhHR47z83777LwfDkPwRjCMdR5Ns/VsitjTxv6j8oHUfT2CC7P8ooEYt5bPU/0neRuKyB5T+VMG7nRFXvP1y7TqTx5OI/0jtccYe24D/70IYRsWXgP4CpPHqR4+I/sjnwYdP3wz/SoVIxoETYP4ucDIJCheM/Kr4grQVq2z+nOlw07eDdPyw+d3fgOLw/6fznQpqJ5T8+PcI5i+HhPw==",
            "dtype": "f8"
           },
           "xaxis": "x",
           "y": {
            "bdata": "cKF2AqUx9L8kYEoMLlfov0RZ/wt4SuG/QGWjBHqH7L/QVnU9JvXvv7ybXBgyQeu/8IrL5Y3M6b8C+zTYVBPxv2Bp8hF9SfS/jJ7LlTyU678ActbxJLzxv0BIoMG0KOa/RBHMfqV557+4jUqEa+3tv2y0qJ/rzOS/rh5onBNu8L98rNpcoFLsvwhTQI7q/ey/fBj4M+Q+7b8AC+fO1FTjv+JBswacNQnAvJ0q6uZb4L8UJMI7nYTnvw==",
            "dtype": "f8"
           },
           "yaxis": "y"
          },
          {
           "hovertemplate": "Label=8<br>Time=11<br>Dimension 1=%{x}<br>Dimension 2=%{y}<extra></extra>",
           "legendgroup": "8",
           "marker": {
            "color": "#FF97FF",
            "symbol": "circle"
           },
           "mode": "markers",
           "name": "8",
           "orientation": "v",
           "showlegend": true,
           "type": "scatter",
           "x": {
            "bdata": "rxCDyV1GCkAKZCGCSJ4MQJl+Lu4IMgJABpXk636zCUAPnOCejtELQB6ky2aliAZAsxq5ksTLB0AroePMDowEQNIvBhVbObw/ISRmKfbSB0C79IBiQQILQNDtSWMnYwdAbAWD3yNiCED3MsGFOPAFQDQYoT7qhg5ADpu6BYI4A0Ae7Y8/OzMHQJdoBQsCuANAabhBxMYXB0DtCVyvFEUOQFVJv2C9DAZARH0x1vhQB0A=",
            "dtype": "f8"
           },
           "xaxis": "x",
           "y": {
            "bdata": "pTbAihwkA0DCfHyyhI8DQLhaVizqPABAXQCZ6ijyAkCC1UGplH8DQLhf4Xk/9wFAgvVAPGNCAkBwZ46HlgwBQMr9DTCWNQnAUKNNSjWRAkDI/VlTGV4DQDkEnZkU/QFAYECpptiXAkBoAkGihP0BQHNd/oAXSARACqgsfh52AEDtFuCFPC0CQMJh19AUaABAIFQk7l97AkAcX/pjgAIEQLxwQvA5MwJApKg/+KB4AkA=",
            "dtype": "f8"
           },
           "yaxis": "y"
          },
          {
           "hovertemplate": "Label=9<br>Time=11<br>Dimension 1=%{x}<br>Dimension 2=%{y}<extra></extra>",
           "legendgroup": "9",
           "marker": {
            "color": "#FECB52",
            "symbol": "circle"
           },
           "mode": "markers",
           "name": "9",
           "orientation": "v",
           "showlegend": true,
           "type": "scatter",
           "x": {
            "bdata": "3UT8cBUyEkDhxfO+hFESQKtZSNfHoQ9Aed5YYLXwDkAE51mon6ESQA6qdmBdrhJAF5S3y06BEUBxURfHRKMRQM9l2pyJZBBAnMbJZt44vD+fFdPXIZ0RQGAuU8nP5RFA2c3qa/OZEUBG6peIi5QQQOG4ddyk0xFAMGF45LeAEEAfTLSHjYwJQN30jSPuYhJAI+2N5RR/EUC8uZ+wlcEQQPpPJMyPowxAJ+zPvh9LD0C1Le34uhEEQIJEED2aXxJA",
            "dtype": "f8"
           },
           "xaxis": "x",
           "y": {
            "bdata": "mG1j2iGM2r8wPRCuI4Xbv4DgelOQFY6/EPI/dAbH2r9I7OjP2Wbav7hTi2Axqt+/4J0ZNfoa3r/MkrIXGorSvwA+VeLteNy/gC2cQpc1CcAI3Qd406DYv2wQLMtIReC/AKCCr2qf1L/gu9djhmi7v5gocoPJg9e/2HifQimFxb/IAeO1Md7NP+D5lZJy1tq/MKv1qCc/zr8A+UgKGOK6v4CAo2aHgMW/cJoiOEIw479gJdQMXkCiP5QturjR6OC/",
            "dtype": "f8"
           },
           "yaxis": "y"
          },
          {
           "hovertemplate": "Label=10<br>Time=11<br>Dimension 1=%{x}<br>Dimension 2=%{y}<extra></extra>",
           "legendgroup": "10",
           "marker": {
            "color": "#636efa",
            "symbol": "circle"
           },
           "mode": "markers",
           "name": "10",
           "orientation": "v",
           "showlegend": true,
           "type": "scatter",
           "x": {
            "bdata": "q3YIMhYtBsBHm5yFPoAEQPbdJYyaXgDA5NUiOQqzAkAPLw97wSjovwAU8+5J7QtAmeJmLH3zAsBFfPkohDrnv5vXHyFnRuI/tNB6foK72L8=",
            "dtype": "f8"
           },
           "xaxis": "x",
           "y": {
            "bdata": "equuiBwzBcCg2VfFq43LPzbVt5H9igBAkDZs9W5Hsz9RAJCr4mrqP9Gih9bpdANARmaDnCfo9j8sFcSEnikLwAotEyYHCvC/RZ9QXN5s+z8=",
            "dtype": "f8"
           },
           "yaxis": "y"
          }
         ],
         "name": "11"
        },
        {
         "data": [
          {
           "hovertemplate": "Label=0<br>Time=12<br>Dimension 1=%{x}<br>Dimension 2=%{y}<extra></extra>",
           "legendgroup": "0",
           "marker": {
            "color": "#636efa",
            "symbol": "circle"
           },
           "mode": "markers",
           "name": "0",
           "orientation": "v",
           "showlegend": true,
           "type": "scatter",
           "x": {
            "bdata": "wX/0v4yCAcBA4szcvuzqv1xbB7kDgde/8tBan8xOAMDXG+jL9O3/vwuqIdgwfcy/5ipEkLVg8T9e7QppADzzv4NyAJNKm/e/ugSSsvi17L8SZ3WpsGH3v8Wj1ng9PfC/30dxLaSz/r9XSNBfa/fwv9nmgy0Iy/e/Xg+OgVx47r9ODpLA6zm8P98Ws4qaJ/2/iF0LNmNb5L+gfjx9Ejm8P29JVGvn3vy/ghX2BmcH9L+4zCUGYbnovw==",
            "dtype": "f8"
           },
           "xaxis": "x",
           "y": {
            "bdata": "AEeKcXju4b/gfh/e+IXTP2QMPy3DPtW/SOxuwOsi5r8AELT5cFqsv07fSdR1/fQ/P6KSlqM+7T+EaUZbsyvwP7jAf6h2ieM/F2w1IQxu7z83fYRITuH0PxQkjg4fgOM/niiJnFiY8j/7FVKCen/wP8kVPxfKUe4/iUUBrO5C5j/mHBDfmDUJwPoo00Z3lvE/QxoxnL0C7T8+llqcmDUJwAD9vC4aJ4Y/9HeEdRG77z9G3GgncynvPw==",
            "dtype": "f8"
           },
           "yaxis": "y"
          },
          {
           "hovertemplate": "Label=1<br>Time=12<br>Dimension 1=%{x}<br>Dimension 2=%{y}<extra></extra>",
           "legendgroup": "1",
           "marker": {
            "color": "#EF553B",
            "symbol": "circle"
           },
           "mode": "markers",
           "name": "1",
           "orientation": "v",
           "showlegend": true,
           "type": "scatter",
           "x": {
            "bdata": "trbYPJ2h67959ZQcOXHMvx7WfxjfAPK/QTeIhdLUw78UKno2Xhfrv6y8KJkw1dw/TARwoGoM17+KyEug32IEwAgSdosN6ve/mZ68TbDI1D/jwu/BBH/9v3epwGS1NfS//FTqNY6k4b8Afvpp+HrSvyYZcVmioOi/GsSxIuES8r8Jfmx8fR/7v/h29hdAjuu/c5vj3jjO/b+dJr4KqZP0vwRB35lI+fW/WBeLedWP0b+RMi4qL8Twv1MjT8o19ve/Zq+LSDruAMA=",
            "dtype": "f8"
           },
           "xaxis": "x",
           "y": {
            "bdata": "UDmWC5wD9D/g7ySOhbnYP6tTr37+vv4/4M7cc/+/2T9YXfD7AL7yP9urKq+ofu4/m06lKauM+D+Qzv+E/d7BPyIvowcx3ABAOAqOEy9L7D+chII+BjP9PzcXzvH6nf0/jDH+qMBJ8T+FKM0qLaryP1fQaf26o+k/mrbGJssI/j8mKqBvePgBQMRiD6ITePQ/x5b1Cobm/D/m/55Y8OLoP3y73CZOMABAHoPDDFpD9D9+Mi/gtkryPyuTMSVxX/w/wHqyO8nXAkA=",
            "dtype": "f8"
           },
           "yaxis": "y"
          },
          {
           "hovertemplate": "Label=2<br>Time=12<br>Dimension 1=%{x}<br>Dimension 2=%{y}<extra></extra>",
           "legendgroup": "2",
           "marker": {
            "color": "#00cc96",
            "symbol": "circle"
           },
           "mode": "markers",
           "name": "2",
           "orientation": "v",
           "showlegend": true,
           "type": "scatter",
           "x": {
            "bdata": "ljGUjQ6gBcBdf4byEkQFwATpkEVCFum/q9I2fElK/r9+vZlwzgwCwLgrxfZZAQTA4RqVLV4i+r+jUHWTMk8CwIbDU/bBtgLA50wWMxjmAMCPqnHwKWEEwAxVy5VWTALAnBA97Lhy+L++k8HDPKQBwKN/zYmCqQPAA1Ytv8mv/b+FEtLLeBv9v10RAVX3XgLA3w3LUbW2/r8ScThHKs/kvzGGCMCMJQHAL9Cujz6qBsAYsj9ZtgP8vw==",
            "dtype": "f8"
           },
           "xaxis": "x",
           "y": {
            "bdata": "sCbxnuYq+L9KdaX9jLj6v5iOhfC4+uu/fBy1Apwn8r+cjv+6hND5v2IwUvijq/2/kHGEg/yo7L/Cdkway4X4v+iZXz4ilPe/kgulonYa8r+CHrewsrn+v7b/31h/evi/dDJkPZ7r6r8Mwv4vAczqv5B8wqGnMey/yl7kY7QT+r88sQbM0/LsvwgklD5+pvy/CC2vAZA58r/c9qAW7mz4vzKOVvo6mPa/oDinQB9iAcDsmFht5/vnvw==",
            "dtype": "f8"
           },
           "yaxis": "y"
          },
          {
           "hovertemplate": "Label=3<br>Time=12<br>Dimension 1=%{x}<br>Dimension 2=%{y}<extra></extra>",
           "legendgroup": "3",
           "marker": {
            "color": "#ab63fa",
            "symbol": "circle"
           },
           "mode": "markers",
           "name": "3",
           "orientation": "v",
           "showlegend": true,
           "type": "scatter",
           "x": {
            "bdata": "n3M+RJOsw7++rngwfnvRv7DQANoqZ4C/O6C8LHfw+L8Ecj2lJO3kvw+wHlkflv+/B2YZyS33x79ZnkktVf3Gv3O/3Y7Vbfy/9ESo6sq597+Bo+F0QpD1v4b9OFpxYte/DrYyIzRMvr/QjsIBfozVvx/y6AITZPm/Zi9zosPg9L/AWMic4Lz6v3RnlQIlRqe/O2DIpUKO+b+KLsJG1GT2v5Ea/VRRv8c/3snW1L/IuL/lUpeSSRf/v6G6cVEZ1Pi/bIPH8B9Y1L98segnH07Svw==",
            "dtype": "f8"
           },
           "xaxis": "x",
           "y": {
            "bdata": "2Bo9AwnQ6L9oHccMtHnWv2ZwjlsoePS/uOezWmU1+L+wyZe+LrP6v/ZFBHU3bfm/9HsgoXot5b8kiqhivzzovyjyXWJv7/O/DGd/09MW+L8QkncgTJ/mvw7ty4H5DfG/PNtLKlCj5L/IXMKPaETyv/r7izwRNvi/kFWCx3kV0r8qQR0k52r2vyBrRrftzu+/AD0WbXkphb9uXV6wLMTzvwzlH6dm6/m/mB8Y0knd7L9wX2Icp7P2v6bedCeK3PW/lEM/SLA29b8Y6SIRp1Tlvw==",
            "dtype": "f8"
           },
           "yaxis": "y"
          },
          {
           "hovertemplate": "Label=4<br>Time=12<br>Dimension 1=%{x}<br>Dimension 2=%{y}<extra></extra>",
           "legendgroup": "4",
           "marker": {
            "color": "#FFA15A",
            "symbol": "circle"
           },
           "mode": "markers",
           "name": "4",
           "orientation": "v",
           "showlegend": true,
           "type": "scatter",
           "x": {
            "bdata": "MnZ7F0QiAMD2nmzbkgj4v1Q/z/2yafe/0dvEtq6N/L8Bg3yh7wkAwNeutUiETv+/m34Oryaa9b/y888CfxgFwErQcUIJ/wLAJLVGksYgAcB1CCjmrPsDwHNJw13WhwLAY1a3ocJZAMDf6JhRC/sAwABhIknFNQDAG9izW50hA8DDrlDsDdL6vxaX56Igbeu/t2SZx+VWAMBhO/lX/JACwLZuu/wRRfm/VuQ6h26IBcB4Vh9npEgGwA==",
            "dtype": "f8"
           },
           "xaxis": "x",
           "y": {
            "bdata": "xlK1/P9S4D/MxGNUzeTwPwaCd703VvQ/hA5s9iSh0j8jJ20b/STsPzrV9ls4vuM/pYHooC6r8T98248TnkrfP0TeYU6juPY/YaK/wMnw7z/Ee8mlrhDkP4UFDw7nO+g/gjep1WcA9j/SwGDZo2/qPwDhHU1lmeI/ZlLjfF8F9j+UBAqukPHZP1QXgBYT+N0/vIBRKpxX9T/nk3G6tzbqP2A4RjnUd/A/MEf6udDO3T/oB7YqcVfyPw==",
            "dtype": "f8"
           },
           "yaxis": "y"
          },
          {
           "hovertemplate": "Label=5<br>Time=12<br>Dimension 1=%{x}<br>Dimension 2=%{y}<extra></extra>",
           "legendgroup": "5",
           "marker": {
            "color": "#19d3f3",
            "symbol": "circle"
           },
           "mode": "markers",
           "name": "5",
           "orientation": "v",
           "showlegend": true,
           "type": "scatter",
           "x": {
            "bdata": "3vk4ArhM17/5rw91gKz3vxw+ih4M0Pe/nr46ryg5vD8kYFHsHVvhvzEI5HR4H86/Tspn2r9W1b+ZxUSqp4r6v6xZpJhpObw/zQzooPEdzL8kP82GeR76vy3IS3XFe8i/vf7qIfOHwb8l9nnd6wnxv5iYEc+W7dG/MvV9UaVn4L+SjzRcjUzjv8xc4gc0lNO/nE3KwoD09r/hgnfc1LvLv+b+qcfdeNm/C57pRnTu+78=",
            "dtype": "f8"
           },
           "xaxis": "x",
           "y": {
            "bdata": "e5+evP91/z/39dxj3F33P5kQEa52tOo/7HzBp5g1CcBH1/Q8B3sAQA4THSO+FPY/lOqF8fyC+T/8IUN9XFfWP8ac06WUNQnA7O13qXdf+D86iFcihHTwP2IGoQ/G4ug/bEt+objP6z9SPyi82SXyP8JY/tDJQ/k/uYtX+DLjAECDL1Dw613pP6xPgDyTp/0/eMGkHvdS2D/4dIVwWtfyP3TXSummoP4/oMCYftKX4z8=",
            "dtype": "f8"
           },
           "yaxis": "y"
          },
          {
           "hovertemplate": "Label=6<br>Time=12<br>Dimension 1=%{x}<br>Dimension 2=%{y}<extra></extra>",
           "legendgroup": "6",
           "marker": {
            "color": "#FF6692",
            "symbol": "circle"
           },
           "mode": "markers",
           "name": "6",
           "orientation": "v",
           "showlegend": true,
           "type": "scatter",
           "x": {
            "bdata": "Do90WC6/BkC7MKwh4wcEQHF7qjkjBwJAt8EJJYw1BUDlXc6+PBEAQFo0sBgjzgJAgH4mJ9BnCUBixSd5/1MOQNkcwKitsQVA7s8H17Q8CkCmi5Mw/xz1P6Cjt5GergVA7jMgppiND0C3ffFyJ2/+P+phA24O1QJAgWG4WzvRA0A2AmCBGNoNQOeig2otDANAEpZIBiPGDUDoslzZzgcKQJQKzI98WdA/",
            "dtype": "f8"
           },
           "xaxis": "x",
           "y": {
            "bdata": "8Oe97KqXxj+Iez82ktTWP2Qx/MTYFds/EDLwnL1O3j+vV7l04RDmP9w2OQlnvts/fCQC5HEK0z8oUna2iOzLvyj6OMk4o90/6AKnWD1Q1j9wQfZIwCiwv/BJq6qiDdQ/yNLLdahKwb8cveQvuHbTPyS2ytMPbNc/yGOhlUnuxj+Q8Cr/CCvDP2y5SzVrHNE/AKXD9eBXsT+IlfRbU5/VPzo5uuTjiOs/",
            "dtype": "f8"
           },
           "yaxis": "y"
          },
          {
           "hovertemplate": "Label=7<br>Time=12<br>Dimension 1=%{x}<br>Dimension 2=%{y}<extra></extra>",
           "legendgroup": "7",
           "marker": {
            "color": "#B6E880",
            "symbol": "circle"
           },
           "mode": "markers",
           "name": "7",
           "orientation": "v",
           "showlegend": true,
           "type": "scatter",
           "x": {
            "bdata": "ez5AXLV97j8AOsD3/FHeP//vTmEXJdI/VVAgiQhd2T98xDc7R6P8P4tGfwmCje0/5Gzl62GI3j/5CvKCnC3TPyViPjZYYAJAI7MLpHEA4D/buksCEqf3P+er8mK1a+A/ya9UocFV0z/8Yp3W0UzYP9EXnCxrGfQ/FNt0r/Y5vD+ZxA+zJb/TPxuF0U+XCtc/MZv8PIFa1z/KeM7gBs3eP4RdCPqpOLw/1EHIViCr8j+pN1JYo23bPw==",
            "dtype": "f8"
           },
           "xaxis": "x",
           "y": {
            "bdata": "0Pjbdgw+wb8IzkJdv73XvxgGhMxq8sW/UHEMnASKtL8YECJRXdXZv+h3N8vTLtM/cCAxaofusj/ArJHu/frAP+B8fMmtjdW/aNeK2tcx1780S+fkANjjP7Ax1THqTLO/kJsjWLTmur8gu+/SlZjTv4w23GyYXtk/JkhaupU1CcDQc5x4OdHKv4zKm1fxQtO/eEE8mit81r+AFaVtVQmnP+RGP0uUNQnA1FqDz7s51j+cNguw/1zVvw==",
            "dtype": "f8"
           },
           "yaxis": "y"
          },
          {
           "hovertemplate": "Label=8<br>Time=12<br>Dimension 1=%{x}<br>Dimension 2=%{y}<extra></extra>",
           "legendgroup": "8",
           "marker": {
            "color": "#FF97FF",
            "symbol": "circle"
           },
           "mode": "markers",
           "name": "8",
           "orientation": "v",
           "showlegend": true,
           "type": "scatter",
           "x": {
            "bdata": "QneUlH2zD0D0nMpWSTwHQLvvNjo4ZQlAm7CmHQg2BEAgccB4zs8DQA+WCcnASgFAFlp4PsLZBUDNjSEpwIgEQJSAiWxpObw/esnANf4qBkD6PcMjBRENQGA59Ty3owlA+AXxF79OCUBMWckcP/oFQJ3kdPzkMApAbn2u9b6JBEAxo08E7ioKQF+CbytGHwpAV3/AxEwNDECHk88olGwQQGfRQFfeMgdA5d6B2dlB+j8=",
            "dtype": "f8"
           },
           "xaxis": "x",
           "y": {
            "bdata": "20any2c18D8R23FIQCD5P6NkBbW4eQFA84UccGQlAUBKS9n7LH8AQIa1redHs/U/9hYjwmHK8z9/fVp08ybwP5Iw2QqYNQnAAaBfZd4Z/j9OySQKphz+P5hbzYwnIQNAi9ZJKkaWAEAHZSmMF9UBQHJohYkQfOA/73DrElPE+z9oUv06H+v4PyVZAnR/kQFArx4zu4iEA0Ay+W5KN8rkPzzIuRmRaQJArszlk8Iz9T8=",
            "dtype": "f8"
           },
           "yaxis": "y"
          },
          {
           "hovertemplate": "Label=9<br>Time=12<br>Dimension 1=%{x}<br>Dimension 2=%{y}<extra></extra>",
           "legendgroup": "9",
           "marker": {
            "color": "#FECB52",
            "symbol": "circle"
           },
           "mode": "markers",
           "name": "9",
           "orientation": "v",
           "showlegend": true,
           "type": "scatter",
           "x": {
            "bdata": "AF27sFCgCkBzsCREnGsJQFLt6RIg2QlAScdVAStXDEAdn3CVufz/P5OtoTBenfU/k8MKUxY+AkCNNr/0mg/8P/Hx5/zdPghARoluNiM5vD+ZKDv5e9kIQEre0KXjrwNAImFjh43Q9z+E3zlUEdUOQJibN1FlxPE/GnRcZYiiBkA4d1iSTzb3Pzw7KYdp+wdAfGZq11AR/j8ZOb5d1E0KQHhi8l/CEQhAJNHTOoenAkArRRGuGF8HQCRgqoDh5gFA",
            "dtype": "f8"
           },
           "xaxis": "x",
           "y": {
            "bdata": "GJgIh3rh5D+EBJ6VuCraPwNdJ2f9TOc/MILLeF8txb9MIH4Imr7ZPyDq3XEEaKg/jHWlVbZb2j9sk+/S0PXpP9fQ+i+zu+8/boqtdpQ1CcCoB7RBJvnEP8xCVZCOU/A/AFBXyqCINb8o/vAlCh/VP+TMdMYRUvK/AEqRKh3TjD+A1KgiBt+bv7g9bVYl/+E/GK+iOW9wyD+44ibOFtrQPwAqv1CAMNc/xEYbLMQF2D9AP+67q7vaP7j7muMPk9E/",
            "dtype": "f8"
           },
           "yaxis": "y"
          },
          {
           "hovertemplate": "Label=10<br>Time=12<br>Dimension 1=%{x}<br>Dimension 2=%{y}<extra></extra>",
           "legendgroup": "10",
           "marker": {
            "color": "#636efa",
            "symbol": "circle"
           },
           "mode": "markers",
           "name": "10",
           "orientation": "v",
           "showlegend": true,
           "type": "scatter",
           "x": {
            "bdata": "0PMlXVCyA8DlbF2qIkcEQJtUbe+o6v6/rrbDIkoACUCVvPZafyrwv5m6DYtsOg1AjA08dF5OAMDDLGn25IXkv5bKkR+sZuM/MsEiDRgV2L8=",
            "dtype": "f8"
           },
           "xaxis": "x",
           "y": {
            "bdata": "PHc899yH+7/sCvod9enZP1V87lXYGvw/uOM1rush3T/GeTkmOGfzP4j4Gmzl5QNA9lEaiksB9z+M0rQ8mpXyv5yE2AR5GeC/zs9L44Sn/j8=",
            "dtype": "f8"
           },
           "yaxis": "y"
          }
         ],
         "name": "12"
        },
        {
         "data": [
          {
           "hovertemplate": "Label=0<br>Time=13<br>Dimension 1=%{x}<br>Dimension 2=%{y}<extra></extra>",
           "legendgroup": "0",
           "marker": {
            "color": "#636efa",
            "symbol": "circle"
           },
           "mode": "markers",
           "name": "0",
           "orientation": "v",
           "showlegend": true,
           "type": "scatter",
           "x": {
            "bdata": "VMZ0fG1q97/cf7AuNTi8PwKbX0ToObw/4b6hOGau/r//AOqgP3kFwBpVE6JYObw/1G9mVto4vD/2DUhqrzi8P9aMgRh2Obw/1naJ0/E4vD8Mc8PmMDm8P0euI/bgWP+/alZJLLiH8r92NlThZjm8P6oP+qFlObw/PBiRvAk5vD+UN1MXGzm8P1wyokYEceS/SvcuHMc4vD8It7G/9x/4v70aEGqLSvy/0NgBrus5vD+GpYA5Mzm8Pw==",
            "dtype": "f8"
           },
           "xaxis": "x",
           "y": {
            "bdata": "jHnwsyhb4z9IHbQenDUJwIQvTP6VNQnAwNybIFQN7b8ANfx55Pd6v4px8R+ZNQnABHnZm5o1CcBwO7IkmjUJwGQoleOaNQnANEoeLpQ1CcAyvP2fmjUJwDHxmrccSek/xMZcV2A90j8+aO9jmDUJwMDJ8gyXNQnAhD9GgZQ1CcASrpFrlDUJwHSQEgBAFd4/0BZlE5c1CcCqrez0+67tP4BHcDPuCN+/0O37nJU1CcBsZ/CVlzUJwA==",
            "dtype": "f8"
           },
           "yaxis": "y"
          },
          {
           "hovertemplate": "Label=1<br>Time=13<br>Dimension 1=%{x}<br>Dimension 2=%{y}<extra></extra>",
           "legendgroup": "1",
           "marker": {
            "color": "#EF553B",
            "symbol": "circle"
           },
           "mode": "markers",
           "name": "1",
           "orientation": "v",
           "showlegend": true,
           "type": "scatter",
           "x": {
            "bdata": "EqjDi55H9j9+q6WPbND3PxrpnTKoOLw/slaz5IIoAEB9elH4ekT9P+WRBDFzXvw/2ilYflwf/D+s4c/j7Ti8P9ynE0PPOLw/NExe+9OcAkBk+upFuDi8P9pu3R0VObw/VBxDKEH08j+xj8rTm8sBQJcKxdPnnPk/uu2HPSk5vD9O6mLp9zm8Pyr0/1oOObw/NoHhrYo4vD+RP+fIxbT/P+4yIJjoOLw/9P5JUZrC9j/lKkRMFd3wP9AB/toO1uI/HGH9fso4vD8=",
            "dtype": "f8"
           },
           "xaxis": "x",
           "y": {
            "bdata": "YP09XV/M9z+yFKnUbsT8P8hkjXyXNQnAUmslZlQX5T8y7WLGVQ7pP1STvpsFeO0/GAUMvupF6j9yYlr1ljUJwJTbl4aUNQnA6sCZZ3qo8z8gsx+uljUJwKLQF26VNQnAB8c+C/qU8z8AnC89QknIPxrxeVG0V/E/jMa6ipw1CcAQESHPmjUJwGxQKOiZNQnAAvhhaJc1CcBkaU/IZn3yP/ojHYWYNQnAdqNcNJAZ6T9U7H6a60rvP4GvnWLzi/o/CKcF2pg1CcA=",
            "dtype": "f8"
           },
           "yaxis": "y"
          },
          {
           "hovertemplate": "Label=2<br>Time=13<br>Dimension 1=%{x}<br>Dimension 2=%{y}<extra></extra>",
           "legendgroup": "2",
           "marker": {
            "color": "#00cc96",
            "symbol": "circle"
           },
           "mode": "markers",
           "name": "2",
           "orientation": "v",
           "showlegend": true,
           "type": "scatter",
           "x": {
            "bdata": "pJGdpI8aAMBzdTyCZ8f9v6ZTCWNtObw/uLyoUGs5vD8n4SgDAtAAwI1cRpFgX/y/6KxT4JNh+L9wgeV2JTq8P+BHgCUJObw/CMN6s3A5vD9DFtgxl9/8vxBumHHyRQDADhImYX05vD+dJ91RFKv6v0r9He+Xnvq/GHKJuqKu+L/sWT/p7Tm8P4KB91i3J/u/hjaaShk5vD8YxtqHHDi8P8FIs4ckvgDAdGNBC2U5vD+evXZHejm8Pw==",
            "dtype": "f8"
           },
           "xaxis": "x",
           "y": {
            "bdata": "OFxajaCG5L9U/3K8F8jmv9SY/GycNQnAmBpmY5c1CcBAhvHsSu7Av9RlSngPCe2/wHm9Kds92r/+UV1vmjUJwFZvJ7aVNQnAWttYtJk1CcCK95XHbKTxv7jNmbztIuO/mlzClJc1CcDwobrzjvXFv4Ai/SvrYI8/4H41TkjL3L+E7QbjmTUJwPBnYYXwA92/0NMq1ZU1CcCc8E1tnDUJwJDAS2+6dfO/kqFXiZg1CcBukuCmlDUJwA==",
            "dtype": "f8"
           },
           "yaxis": "y"
          },
          {
           "hovertemplate": "Label=3<br>Time=13<br>Dimension 1=%{x}<br>Dimension 2=%{y}<extra></extra>",
           "legendgroup": "3",
           "marker": {
            "color": "#ab63fa",
            "symbol": "circle"
           },
           "mode": "markers",
           "name": "3",
           "orientation": "v",
           "showlegend": true,
           "type": "scatter",
           "x": {
            "bdata": "ihyKj2s5vD+QClA5gjm8P6aY8LMrObw/mjHFJHF+AcBlQBXW5lYCwE+uM0Jvwvy/VMdTZoU4vD+ick0o1Ti8PxHgB7mhcgTA+ZQUezWn/r8ep+5LmuP2v6TsxR+vOLw/ZMraVYs4vD+q+mFfA2kAwGS7TWEpYvi/RWV07qFJAsCRbML/MXb9v/xHxl+WOLw/HVsboCUU8L/Lzl+Knln8v7YtWpUfObw/xAUfpe44vD9g5K0AyO0AwFkwb8yuFfa/gC/aCsw4vD9SgpJX9ji8Pw==",
            "dtype": "f8"
           },
           "xaxis": "x",
           "y": {
            "bdata": "8oVMopg1CcCWxIK5nTUJwJKMVY+VNQnAXOj2oF2i7b8s1Ut42J/4vxg6UrCtCdi/JPFs4Zo1CcASZRIKmDUJwGwy75ti+ei/8OVF+JLp9b/0GnI2EP/rv0BruXOWNQnADGxZC501CcCAXM2mKeXiv5C+tdNod72/mF0QyNDB1r+uFvGgzWfxvx7kzPSUNQnAAMjMG44Amz9M5Em03PngvzB3ksCXNQnAqLrcrpg1CcAUZynyAKPpvzQzJbGNLdW/mJ3xVJk1CcCQd9pQlzUJwA==",
            "dtype": "f8"
           },
           "yaxis": "y"
          },
          {
           "hovertemplate": "Label=4<br>Time=13<br>Dimension 1=%{x}<br>Dimension 2=%{y}<extra></extra>",
           "legendgroup": "4",
           "marker": {
            "color": "#FFA15A",
            "symbol": "circle"
           },
           "mode": "markers",
           "name": "4",
           "orientation": "v",
           "showlegend": true,
           "type": "scatter",
           "x": {
            "bdata": "t2py5cAM+b+ybMvc1zi8P9i6XMPNEwDAbz6KYNKA/7/IjfGfj7H6vziFcwHbIfi/SGWGmTQ5vD9KH1i+98ECwKxcjdBFObw/Qb93krbp97/l/lxcg/kDwL0ecG4HJPi/ICufobA5vD/nN0r9WCACwPah5UZqK+i/Enekc5E5vD9Aol5PJ64CwN4X9sD3OLw/1JdpOaU4vD/yX1Y2aAD8v9CbrgKOObw/DT05gApwAMBMEgH1xFMAwA==",
            "dtype": "f8"
           },
           "xaxis": "x",
           "y": {
            "bdata": "nLozZMwn0b+cEI1IkzUJwOwv+/FZnOE/eCPYDSc5wz/ghWhx25fcP/BVWnkCp/A/btgNO5s1CcAwXI4f90nmvzi4L1ObNQnAcqs4vmTs6D9cT+Ahto/dPxiazxlF39A/ngu0yps1CcAwi5r28ErAv1eos2fmivM/6r5jbpY1CcCA422SUO6qv5qzp82TNQnAtPqmZ5o1CcCYH9Q8fFfbP6IVMEKUNQnAvIyvcA3x0L8gRvYa2261Pw==",
            "dtype": "f8"
           },
           "yaxis": "y"
          },
          {
           "hovertemplate": "Label=5<br>Time=13<br>Dimension 1=%{x}<br>Dimension 2=%{y}<extra></extra>",
           "legendgroup": "5",
           "marker": {
            "color": "#19d3f3",
            "symbol": "circle"
           },
           "mode": "markers",
           "name": "5",
           "orientation": "v",
           "showlegend": true,
           "type": "scatter",
           "x": {
            "bdata": "AKIGgdw4vD9zgnAo1WL9v0523V3EK/q/xEsYjbI4vD8aet3SQji8P/JL9GpyOLw//L3/4uw4vD/paqQdcz4CwAwTnKECOLw/NEFWyv04vD9eN0x4zT0DwBr3TZWxOLw/nveKYHM5vD/zKtl3iU79v8zfU4T+OLw/nEUXEAc5vD/6chVtUb0BwBTXw1WeObw/BMVqRt1TA8B0ESvlLzm8PxaSf0vvOLw/+XzxtTfuAsA=",
            "dtype": "f8"
           },
           "xaxis": "x",
           "y": {
            "bdata": "atGY35U1CcBwXvmI78/Kv0BGT7ovJcm/dAWU+ZE1CcAW4FzDlDUJwF5Eua+WNQnANrRDspU1CcBYhrBNFBjXPz4sGV+XNQnACvhkOpk1CcDoNYmE8w/GP855Hk+VNQnAYvuxEJs1CcC4QikUn+fkP1wh2XWVNQnAnk2/15Y1CcB8gjXqtFjQPxxG4+GWNQnA6MGXBP41yD/6U1q4lTUJwO7hkceTNQnAFuOz+dXb4D8=",
            "dtype": "f8"
           },
           "yaxis": "y"
          },
          {
           "hovertemplate": "Label=6<br>Time=13<br>Dimension 1=%{x}<br>Dimension 2=%{y}<extra></extra>",
           "legendgroup": "6",
           "marker": {
            "color": "#FF6692",
            "symbol": "circle"
           },
           "mode": "markers",
           "name": "6",
           "orientation": "v",
           "showlegend": true,
           "type": "scatter",
           "x": {
            "bdata": "WMK9Hp9VCECk227W9+8AQNxS+bXMrfk/GMbyTLI4vD9jg25eUtIAQLC6KDq7Obw/Oi9qaSI5vD96rnjxkXMBQARBptQvObw/wHXprrw4vD82Pwll+rn2P6ZIRqL1Obw/G6GrT5WWAkCMJsrPxxr8PzDa807BOLw/kAGntEhlAkByNl5TYTm8P2fHPsfnlgFAKglrAkc5vD/5qjB1baXyP1KWBXI8tdQ/",
            "dtype": "f8"
           },
           "xaxis": "x",
           "y": {
            "bdata": "2Jvht3Re3D+3gLJuB+TvP/GdrSXWh+c/FivLEJc1CcA4S107sqLJP45WVL6WNQnAELo9KZs1CcBo/ML5zrDdP15mTW+VNQnAxmHedY41CcDG1LuhV7fiPwD0sjeWNQnAUuRV4JZq4j9K2NJxOgTjPwSpliWXNQnAxXAeLK+F7T/ojCTfljUJwD7OJyou/OE/wqvyw5k1CcAdjO9KuG7yP1hjCUr4BPQ/",
            "dtype": "f8"
           },
           "yaxis": "y"
          },
          {
           "hovertemplate": "Label=7<br>Time=13<br>Dimension 1=%{x}<br>Dimension 2=%{y}<extra></extra>",
           "legendgroup": "7",
           "marker": {
            "color": "#B6E880",
            "symbol": "circle"
           },
           "mode": "markers",
           "name": "7",
           "orientation": "v",
           "showlegend": true,
           "type": "scatter",
           "x": {
            "bdata": "Agx1a1C3AUDk5A9tkDm8P9BIIktRObw/muD9HP44vD8Q6ciZmgz9P6cvw5y6zgJAivE0d7E5vD8ES+cuuDi8P4b9hleSm/c/8sRfMLc4vD/FkyM5SHz9Py66c7dYObw/HFluDIA4vD9GY8ReMDq8P5sUmXSYuPU/2v3tDmI4vD8Wg9lbGzq8P7hvbF1/Obw/FJlqFr84vD/sHd7cGDm8P/IK//ZkObw/mGDQ6Z5m/T+MNtMtqTi8Pw==",
            "dtype": "f8"
           },
           "xaxis": "x",
           "y": {
            "bdata": "qmxTsSQl6j8wHHESljUJwLiI8i+bNQnA2GX/7ZM1CcCqZ69Oe5TiPwqo5d43xeU/AsN8P5g1CcBu/34qljUJwAoM+e65DPA/VivHXZg1CcCwGC74Xi/SP1rbWHOWNQnAQsioIZQ1CcDoP8LYljUJwCrzeM+D2uI/NKZ8e5c1CcDeO9BBlzUJwE5CO5eZNQnAMuVN/pk1CcBeGtuzmDUJwKCoHZSYNQnA8A8V+7rj3D9uYh+1mjUJwA==",
            "dtype": "f8"
           },
           "yaxis": "y"
          },
          {
           "hovertemplate": "Label=8<br>Time=13<br>Dimension 1=%{x}<br>Dimension 2=%{y}<extra></extra>",
           "legendgroup": "8",
           "marker": {
            "color": "#FF97FF",
            "symbol": "circle"
           },
           "mode": "markers",
           "name": "8",
           "orientation": "v",
           "showlegend": true,
           "type": "scatter",
           "x": {
            "bdata": "UObjuLP6CUC/z+LRScQJQLONCSjn0Ps/IvNSywY5vD9M6UQeKTm8PxXA7QGKgANA0C52p6SVBUC+3P1Q4lcAQOqZripXObw/nVoUKnZvAEDXKFURSYj6P4aWYtdCObw/AgsjvS0K9z+eh5WlXTm8P7XfJNSNmPc/4+SeE/tpB0ATcBllGSH7P7YKlE2BObw/RjC1ufE5vD/Vy1dHGWwJQGCN43I1Orw/yp9E7cg4vD8=",
            "dtype": "f8"
           },
           "xaxis": "x",
           "y": {
            "bdata": "SYZQX4hK7z/wiSIgGMnwP85XL0zI0vY/9MwEWpg1CcCgWaoQlzUJwKxZZvbrg/I/XRLP4os99T+qU2Gk10jzP8R8JNCaNQnABkruw64M9D+WvNBLfQb2P6pGxMuXNQnAgR5nnVcY6z/wrN3LlTUJwJYGdlfxqvI/jlEjPIOv9T/S1aPZ8/X4P7ytZaaYNQnAIKtGAZg1CcDWk73tDh7rP9bZC6OaNQnAlhj/VJY1CcA=",
            "dtype": "f8"
           },
           "yaxis": "y"
          },
          {
           "hovertemplate": "Label=9<br>Time=13<br>Dimension 1=%{x}<br>Dimension 2=%{y}<extra></extra>",
           "legendgroup": "9",
           "marker": {
            "color": "#FECB52",
            "symbol": "circle"
           },
           "mode": "markers",
           "name": "9",
           "orientation": "v",
           "showlegend": true,
           "type": "scatter",
           "x": {
            "bdata": "t4iKkTLmAkC+KN2BRQP/P8wkKiAHIQJAt2MhGixpAUCAzClIZjm8PxrSrfa1OLw/cLHoftk4vD88lPr/v5QFQDTn3kHbrAVAVp4gTo85vD/5dFN/ueoAQFUjq89mLQVAzrk4uGQ4vD/acuiLezi8P4SNHGenObw/gndlVBg5vD/EuUrU8ji8P/URYW68kQBAgvV2aBU5vD/qWJkM9pECQMAEwKp6OLw/fQ78aQ/cB0C2SQMTsRb4Pz4Kn7B7QANA",
            "dtype": "f8"
           },
           "xaxis": "x",
           "y": {
            "bdata": "dexRLaPH7D9/gXCqLmXxPwOj/ja2BPY/6fk9Tary5T/guYfhlDUJwOy7duiYNQnA5MYpYZg1CcAkH1wrEYL1P9DLwTsbqOE/iMiGi5o1CcAZlrKBkW7vP3gv84+Am/A/xtNXX5U1CcCYh5WHkzUJwDp4mmmWNQnA4uYvOZ01CcDcUhrDmDUJwA6VaCJB1vA/DiNzF5c1CcDYhSXHEtfyPzhkO2CWNQnAv9nPHWGk6z9vJjN20ITwPy/76DnC6O8/",
            "dtype": "f8"
           },
           "yaxis": "y"
          },
          {
           "hovertemplate": "Label=10<br>Time=13<br>Dimension 1=%{x}<br>Dimension 2=%{y}<extra></extra>",
           "legendgroup": "10",
           "marker": {
            "color": "#636efa",
            "symbol": "circle"
           },
           "mode": "markers",
           "name": "10",
           "orientation": "v",
           "showlegend": true,
           "type": "scatter",
           "x": {
            "bdata": "zKLv0785vD/Oe478NDm8P86ik4H0e+y/2O4FUvE4vD9mhHk0HTm8P8w4U0hxObw/eiySuyU5vD8YZ6626zi8P5bZLcDMObw/Cpa1KYw5vD8=",
            "dtype": "f8"
           },
           "xaxis": "x",
           "y": {
            "bdata": "EMMVu5k1CcA6hMIYnjUJwHdQH+X2fPs/2NP5spU1CcDOfaLDmjUJwIx5W2yZNQnAEsDgWZY1CcACwtxRmDUJwPaV7YGYNQnA5i34l5Q1CcA=",
            "dtype": "f8"
           },
           "yaxis": "y"
          }
         ],
         "name": "13"
        },
        {
         "data": [
          {
           "hovertemplate": "Label=0<br>Time=14<br>Dimension 1=%{x}<br>Dimension 2=%{y}<extra></extra>",
           "legendgroup": "0",
           "marker": {
            "color": "#636efa",
            "symbol": "circle"
           },
           "mode": "markers",
           "name": "0",
           "orientation": "v",
           "showlegend": true,
           "type": "scatter",
           "x": {
            "bdata": "htUePtUgBcAQDUZAIC7rv3js7qmqKgHAaQ9UOSzw/b/qBqgzEvkAwEUO0vLYHPa/drd4BLUa67/q9OpM4rDxv0+Ssb1SZAPAMxOUhNmXAsCofrPWh7T7v8iNnrQNVALAdxMIwehKA8A9AdbsNUz/vwLsaeZdHwHADLNTgTSE9b+W8x3jb/byv7nmOGcRE/m/TwOZvQD2AMAJZVH177EAwKl4zcIUtQPAetqGop2w7b8+1NRFgQL6vw==",
            "dtype": "f8"
           },
           "xaxis": "x",
           "y": {
            "bdata": "GO6G5Qwlyj9Laa3fmW/nP3w38Q7/d+0/RSrLMtck9D/mTHhpO27iP44AZDqdV/Q/VjVDCZhk8z8qGW+uMpzwPzTqmcvsDOc/ROoQj5SZ4z+3zRXVjvbqPxBU25kPBck/cIvT+0UHvD8LQrNRkmjyP0XPNEUNk+k/1CksPA9L8D+Y9oe7UmTlP/RyCrpLa+Q/aEMapCGyxr8yQmL4U0ToP0DQJfaKk8C/LoT+utdu+D+ulBjQIHryPw==",
            "dtype": "f8"
           },
           "yaxis": "y"
          },
          {
           "hovertemplate": "Label=1<br>Time=14<br>Dimension 1=%{x}<br>Dimension 2=%{y}<extra></extra>",
           "legendgroup": "1",
           "marker": {
            "color": "#EF553B",
            "symbol": "circle"
           },
           "mode": "markers",
           "name": "1",
           "orientation": "v",
           "showlegend": true,
           "type": "scatter",
           "x": {
            "bdata": "mvb+j/mR8L86+Om2pbDYv6xlwDVAJPC/BLAHBBVF47/YEW5PoDfNP64L/QH+MNa/akQk2X7n0r/4xNz6vzi8P5McOXK7Svm/iZqQoP+A3z9UOovhCELzvxYn6aL4Vd+/S479zL0T8L9yCVCo3GS0v/PcleKr4fW/it/uvYbS7L/o0NR1zeL4v9rUAFRBfO6/8TPS3Gb/4r9qqpXDM8TZP3OnBYeFDuO/nOll1NN03r95DVKkZAjzv491iHVmGvm/sjZMWdMt7b8=",
            "dtype": "f8"
           },
           "xaxis": "x",
           "y": {
            "bdata": "VAWfzbzf9T/UcSYSqgv8P/LiMhDgk/g/L3X/dlq+/D/cFJ9/8en4P2oeszSqHfY/sPZsxzZA+D/C8FIrmDUJwFo5kzfwoQFATs8Ub6Ff+j+9w2y1PQz/P9ydCL4/Hug/iECDtIsn9T9zv2lTx/rzP15NZbQ/bABA/N6nTbTB+D8KVg/d678BQNDyBpXOLfk/0ENRBZFv6D8oGetGIjr1P0DLR71jSug/nfhngF2N+T87oc1q/PL5P4iuqDKJnf0/XTaBwrfH+D8=",
            "dtype": "f8"
           },
           "yaxis": "y"
          },
          {
           "hovertemplate": "Label=2<br>Time=14<br>Dimension 1=%{x}<br>Dimension 2=%{y}<extra></extra>",
           "legendgroup": "2",
           "marker": {
            "color": "#00cc96",
            "symbol": "circle"
           },
           "mode": "markers",
           "name": "2",
           "orientation": "v",
           "showlegend": true,
           "type": "scatter",
           "x": {
            "bdata": "J2Zzi8AfB8ByLRmbEocGwLDJYJojn+i/XzKhkb1X5b8jw/Yj01QCwFoeByqRE/q/mv2CaRT5A8C+VxVLZ2HvvypaARszh+m/g4g9d4vf5L+sFM4+LCYBwBfJbliSmgLAMsW9prg4vD+lt4NP3kL/vy4GimGTS/m/GzliKADl+r+rX4yZMoPyvzR/QDcaZAfAdCA6uOo4vD/qDeE7JDi8P1o5XEF/5QPA+GGD3P7G9b/sbIC2zQ71vw==",
            "dtype": "f8"
           },
           "xaxis": "x",
           "y": {
            "bdata": "JJbp2xU5478CSHDKThP5vziBTuWfYey/AF6kRgxK9r/CSjw6YIH4v5z8zLl9GOu/sKBz4pAI5L+gvOT2gSnLv1DYzEMkQe2/7C5gN40+97840DdFlI3bv/LKrRhXbPq/gi25R5w1CcCYHHHdW/7qv4CRjvPqKt2/nC5oR6pJ47+AEGupdq/Pv7CI7Jw6Y9y/soc09Zk1CcAOJm5tlTUJwMDoDwLBgvC/MCapeIrA7b8CXrt/m7r2vw==",
            "dtype": "f8"
           },
           "yaxis": "y"
          },
          {
           "hovertemplate": "Label=3<br>Time=14<br>Dimension 1=%{x}<br>Dimension 2=%{y}<extra></extra>",
           "legendgroup": "3",
           "marker": {
            "color": "#ab63fa",
            "symbol": "circle"
           },
           "mode": "markers",
           "name": "3",
           "orientation": "v",
           "showlegend": true,
           "type": "scatter",
           "x": {
            "bdata": "FqYi5ICbuL/mZhc08+TVv4NpuyL1Bcq/YVd/gQ049L/9CmTPOybyv1AZM6qbGgDAaOY8n4jTlb+am2tB3zi8P/oVRIslJQXAWmI9vRHo+b8jaFApsuLyvy6Em2er6tK/D3V34R/jxr9ys8/dj5D3v909s3ekXALA5S5a69wYAcCMFht7GKoBwNHLay/KCsK/yYAhpDeP8r//XdaLh3T0v0bLmvJ4EL+/KtQYBn86ub9OTPfT1tXyv3fbduMbcfq/90O1kBSTy79oLXYA8eHTvw==",
            "dtype": "f8"
           },
           "xaxis": "x",
           "y": {
            "bdata": "WEadttdt8b8ASbDCAf/sv96LCajw6fK/tulItxl99L/qAjUYwy//vxzRGtqxn/y/hCehjBcA87/atfyqljUJwE7nn0VW/fW/1LxvCUYGBsCgN6C9KjD/vxabSelGmPO/fNGTv9Em7L9ceY6Fh6L5v9JfB2GwTPa/UqEbcyPI9b+u5jhlbs/3v5BBMsv9p+u/8MoRNB/b2L8WNx5H6dHxv0iFFppY9ui/9rbGEjg39r+Idip/OVrRP+rSkFPzxfy/kBrcoTvo8r8k0WkHZKf0vw==",
            "dtype": "f8"
           },
           "yaxis": "y"
          },
          {
           "hovertemplate": "Label=4<br>Time=14<br>Dimension 1=%{x}<br>Dimension 2=%{y}<extra></extra>",
           "legendgroup": "4",
           "marker": {
            "color": "#FFA15A",
            "symbol": "circle"
           },
           "mode": "markers",
           "name": "4",
           "orientation": "v",
           "showlegend": true,
           "type": "scatter",
           "x": {
            "bdata": "rUBx1XVNBcB87Jq35dD5v8FiSqJpMv6/Vk8P7JpuBsAk/f7vEBgBwLxaoLbRXwTAKNbrPLUl9r+cvXAI1VADwK6uE6nwOPG/8KlGNdwd978oFfB622QCwHCmgPfzigHAOhhfB3Mu6L+PrTwc6TD+v3HNGWHExuO//Jux+DT79b+4llwCiOcFwK9RErWfQfa/X/a+Su4p9L/tkzV3ILgAwNVeu0ItZvi/BPNyOSjjBcC2gJ70RFEFwA==",
            "dtype": "f8"
           },
           "xaxis": "x",
           "y": {
            "bdata": "oGDqj5Zp0D91SvqGcJf0P92k2C2VZPA/EESFbMpos78aov5bMvvgPziwa2OYAds/6Nec/nmU8T8AWUUptjJ3PyTGZoSVO+C/7cVGoErM8j9qrFX810vnP4EcxWDHd+g/xGgTSJ3h1b/Xj/Ib06XsP0AER6Ce0ta/OQm8lCW36T/Una1GF0bQv9VQB4D+g/E/h+4tuG5/6j+8gx4GmtLdP7Kgqncy3PA/aPukXDJu3D8QG5d+6L3aPw==",
            "dtype": "f8"
           },
           "yaxis": "y"
          },
          {
           "hovertemplate": "Label=5<br>Time=14<br>Dimension 1=%{x}<br>Dimension 2=%{y}<extra></extra>",
           "legendgroup": "5",
           "marker": {
            "color": "#19d3f3",
            "symbol": "circle"
           },
           "mode": "markers",
           "name": "5",
           "orientation": "v",
           "showlegend": true,
           "type": "scatter",
           "x": {
            "bdata": "0HQAz3Sy1b8YaZgoBm8EwNNAIY2EbQDAgwreP1OLyb+EOMbfVDHdv9rZHvMubN+/DjKP5/cS1b93OF01Qur3v/4AMIMkObw/2DpNroAG1r8crCg+ajAGwJBxCGuSity/v6BTNsH5xL/us48H6qHsv1RyjVBss+C/1xqP682HyL87SwnPqiX8vyMuQyIKz+O/mBN6Z+nnBMCYGJo1dHDjv959BxEeBNS/EOuRHDy++r8=",
            "dtype": "f8"
           },
           "xaxis": "x",
           "y": {
            "bdata": "3iKvuJQO/D8w9hoKmQu6v5aa6ZvovOQ/AJnf/QHbqD+2jUDrPKr8P7YZPv04JP4/0vf/UGzI/T9QxGaDzTq0P/5xnhuXNQnADta9IB2p/D88K852Qa/VP6IRDNoUFgBAri34B/So8z926TnfjLTvPwCAKZ0WDQBAaS/bHNrQ+D+Ioe7b9j71P092+mLRZgFAKiKsskTS4T+OqDI9pkwBQEbzurFxrvo/3CnMGEPY4j8=",
            "dtype": "f8"
           },
           "yaxis": "y"
          },
          {
           "hovertemplate": "Label=6<br>Time=14<br>Dimension 1=%{x}<br>Dimension 2=%{y}<extra></extra>",
           "legendgroup": "6",
           "marker": {
            "color": "#FF6692",
            "symbol": "circle"
           },
           "mode": "markers",
           "name": "6",
           "orientation": "v",
           "showlegend": true,
           "type": "scatter",
           "x": {
            "bdata": "QuYKuzc0+z/hxe22KVX3PzxlKrBx8vA/9kIbFAI5vD+qQWQpm+T7P/g/cdt8OLw/Ko0K46g5vD/Dv7xwuxL+PyridSMtOLw/NgfHTes4vD96MX44VyAEQDx0jh23OLw/32N2jDXm4z+O5diN7kQCQNTTGe2ROLw/KKAMWyEgBED+tvQJJTm8PwqeD6pjAAFACJ4Q+7o4vD/cyhDdtrUBQGyT5E6JWfQ/",
            "dtype": "f8"
           },
           "xaxis": "x",
           "y": {
            "bdata": "e0r5ZdYW6j9YKFk7kWjPP9rtv2enWu0/ep8e95U1CcBywNSZGIvhP4x8D3WWNQnAYBcWJpc1CcDDQG2yE07zPyBUCCWZNQnAio+EAJk1CcDFjIP2YKvqP6TwlfSXNQnAa4C5HIe18z8UVUEKn+H1P7ib7/SYNQnANChOOsNG4z8qN0lymDUJwJqZgJ9Uous/rAoUfZA1CcBWBFCMd9vwP2qRfdO5Fu4/",
            "dtype": "f8"
           },
           "yaxis": "y"
          },
          {
           "hovertemplate": "Label=7<br>Time=14<br>Dimension 1=%{x}<br>Dimension 2=%{y}<extra></extra>",
           "legendgroup": "7",
           "marker": {
            "color": "#B6E880",
            "symbol": "circle"
           },
           "mode": "markers",
           "name": "7",
           "orientation": "v",
           "showlegend": true,
           "type": "scatter",
           "x": {
            "bdata": "HVvdlEwT6T9+pxXJzTi8P+Kn7do0Obw/8OdCj3Q5vD8/NJgQUGP+Pwckgqt+xus/doY76MM5vD8aQBrM5Di8Pwy9exFu5u8/5BEGd/w4vD+AZkGNNKH0P7Rsb8u9OLw/F2qVv2dV5z9wmux49zm8P/56N+kmOfQ/4VYbTsul1z8ejoiNazm8PyKl5/7XOLw/6regKz05vD8o9gHR3Di8P6qMwDkvObw/klbcxQiA6z/uxctTaTm8Pw==",
            "dtype": "f8"
           },
           "xaxis": "x",
           "y": {
            "bdata": "mP/q9elB2j8wDgb4lTUJwOjK+8GVNQnAQEoyP5U1CcAaYQ2vpH7hP/Sz27PtQtI/bAi+wJY1CcDi6cK4ljUJwMT29QphmPQ/dLDdOJY1CcBpl3uxgnnnP0Rm/VOXNQnAUKP4ztPFwr/wX2OUlzUJwIQMScfzfeI/oDy1kopYqL/YgaValTUJwBp/Q5WWNQnA/khL+pY1CcDmQB04lTUJwE7UASiWNQnAePoMuzjxyD+ATKK6lzUJwA==",
            "dtype": "f8"
           },
           "yaxis": "y"
          },
          {
           "hovertemplate": "Label=8<br>Time=14<br>Dimension 1=%{x}<br>Dimension 2=%{y}<extra></extra>",
           "legendgroup": "8",
           "marker": {
            "color": "#FF97FF",
            "symbol": "circle"
           },
           "mode": "markers",
           "name": "8",
           "orientation": "v",
           "showlegend": true,
           "type": "scatter",
           "x": {
            "bdata": "yNtEixhBCEDzPFgRgEwIQNeQPkw/ywNAqMTY1ohzAUApVPJobIkEQLO+q1YZfAhA6J/1cBjSB0AzUMd5wDYEQI4LQZlyObw/RtnsKCzkAkCVC2FgQEwEQDYg87urfARAc1AaabUtBUC+L8MqfTgAQMcNppBwZwVADt44jN+dBUBuPaOxuKoEQGd4Tau6JPo/TacetUHI9j9mwD8XgSYFQFMZPXEvcP8/j3okg3+2AUA=",
            "dtype": "f8"
           },
           "xaxis": "x",
           "y": {
            "bdata": "lTKX/K+h9j+Ew5ZwuC35P7155Ze2gQBACP3213x4/z9od0S2+woBQNwPlViAPPc/oV2wgo1C/T9ucNb78GH5P2DGNweYNQnACTSp8jDo/D+gHUSRfan+PwqGaTlXSAFAeaTQMM/Q+z+vVjXKwiX9Pyp/x6YStgBAUn1RCNzt/D8cFD7hJKr9Px6SKDips/w/mTnC33QE+j9MrGyCX2r5P/gq26rJMfk/8s8pJgcXAUA=",
            "dtype": "f8"
           },
           "yaxis": "y"
          },
          {
           "hovertemplate": "Label=9<br>Time=14<br>Dimension 1=%{x}<br>Dimension 2=%{y}<extra></extra>",
           "legendgroup": "9",
           "marker": {
            "color": "#FECB52",
            "symbol": "circle"
           },
           "mode": "markers",
           "name": "9",
           "orientation": "v",
           "showlegend": true,
           "type": "scatter",
           "x": {
            "bdata": "9yRtzkQR8j9FNYW+EPUGQAVWDOhEQQVAlgab9vyQB0Cq1Ap/9g/4P4/KFBIOlf8/M3oE2jxE/T8q+1dNSn8CQBIkaFr/bgRAaueuIlU5vD/b9EGG+qIAQO48KTYvoAdAQDyqqgAm8j8n7V4clhD8P5ziIWYZTAhAaUzxYkyS/z+w6nR6fsYCQPm+ydqrnANA3dKsX9Se+D/CHBzloV8AQKzm1dPvigBAnlEymF27B0DWabnFXVHwP8K1iC9T5wZA",
            "dtype": "f8"
           },
           "xaxis": "x",
           "y": {
            "bdata": "Tham8vJN8T/yrBAtgqDrP9Ygdyi1iOo/QAx0sWUmrj8g7w7Mb6mlvyAli7c1MqU/ACz6+1t/yj82G64Bp/ThP4+cBupLg+s/KGFjc5Y1CcDRfuBMt23vP75QFbYqPuc/AJmC9DDy6L/4KIQ213nUv5D2TjlwJrU/2PKl8TEx2j/82Qok3ELWP/LvxjaW6PI/IH/+rLwlr7/WlCxuJonlP7yNDmKw8eA/Kj4xyCKx4j/fiMzZ2jvvP0rtd7e2Seg/",
            "dtype": "f8"
           },
           "yaxis": "y"
          },
          {
           "hovertemplate": "Label=10<br>Time=14<br>Dimension 1=%{x}<br>Dimension 2=%{y}<extra></extra>",
           "legendgroup": "10",
           "marker": {
            "color": "#636efa",
            "symbol": "circle"
           },
           "mode": "markers",
           "name": "10",
           "orientation": "v",
           "showlegend": true,
           "type": "scatter",
           "x": {
            "bdata": "b6Gp63xc/r82SKvLEG3xP30D3vFAzv6/urw1/844vD84poruGA3gP2gLiHV7j/4/gKb7zmol8b96A1J6MQPhvx/ZTWaYpuY/khAS1bKG478=",
            "dtype": "f8"
           },
           "xaxis": "x",
           "y": {
            "bdata": "lJQjcxT96L8cG602Rhnlv469lljHZgJA3JYVxZc1CcBJX63cxhfoPwoqy0veoAFAIgTLFskd6z+6tp2UD8AAwAA8XAEWUIW/yUtze9vK+T8=",
            "dtype": "f8"
           },
           "yaxis": "y"
          }
         ],
         "name": "14"
        },
        {
         "data": [
          {
           "hovertemplate": "Label=0<br>Time=15<br>Dimension 1=%{x}<br>Dimension 2=%{y}<extra></extra>",
           "legendgroup": "0",
           "marker": {
            "color": "#636efa",
            "symbol": "circle"
           },
           "mode": "markers",
           "name": "0",
           "orientation": "v",
           "showlegend": true,
           "type": "scatter",
           "x": {
            "bdata": "uLrFBOFm6r8jMxmO34znv8Bf3vZ00/G/xovR3Wi75L/J71Jo3gLzvxSB11d0Ge2/aDuaDo1M8r8CQ/pBeKTpv6/sBAkp7fa/pWTEmT905b+fHxnTVB7xvyKQY66ofvG/WDdpXQtS9L91B94HcGviv1iDSz6jufK/482E/yiG8b9f/qr94QTwv05gziqCldW/xLAVFr0j779e5CHstLfsv5cAUaJHffi/Al7fXLSI5b+uZi/3D/bzvw==",
            "dtype": "f8"
           },
           "xaxis": "x",
           "y": {
            "bdata": "ZxfWCg6N5z9AX3kz2AnYPyBZpNOFDPM/GMuWdC4K4b8wr64na33wPy8SPQ+IMu8/2VMGFMp97T/uRnbeGTznP2KEInsSh/I/rAPAD0BX2T+aH3PCAIDtP2W2rCquPuc/qpWr3waK8T8g7r3AUCDWPxZDajo6KvA/KTFBQ4pg8T8wRCkhHJHtP8iVlL6V5N+/bnjY2TsG7z9evocL6jLmP45rvCdH0/Q/gIgpsjwK2j8WY7Dwh8XzPw==",
            "dtype": "f8"
           },
           "yaxis": "y"
          },
          {
           "hovertemplate": "Label=1<br>Time=15<br>Dimension 1=%{x}<br>Dimension 2=%{y}<extra></extra>",
           "legendgroup": "1",
           "marker": {
            "color": "#EF553B",
            "symbol": "circle"
           },
           "mode": "markers",
           "name": "1",
           "orientation": "v",
           "showlegend": true,
           "type": "scatter",
           "x": {
            "bdata": "2ZwgNyB+/r/0XKF40yr3v4wZLKXmpfe/mwhgkQyz/L8BDLqTSof8v4o+epqaUfa/1j1onW0UAcBMonsxyDi8P3cQdJX2Ff2/Xj5P0y2r+r/E9Bqfh90AwDTlWCrFAve/L5cWWpQd/L/85W0ZmtL6v7bDoY7WUvu/H3WTtcxu+79z6dq8yWH+v4qZlAF6G/m/3uyJxsqZ+r/ZHSpTmOf6v7KNbnAa6fm/V8bSgVnL/7/1dG/xcLf/v5M4sPk0x/+/O4RAJ+Cs/b8=",
            "dtype": "f8"
           },
           "xaxis": "x",
           "y": {
            "bdata": "EA7Q2uhzAkD4NHswqMH6P0DkX+WPOAFA30nA3RlEAkDexwO3CAACQMJtGeneOQBAKlj7Is/hAkB8sRzNljUJwBRVprw/GAJA3O8kX0mvAUDLZrEkvBYDQNNgUStRpf0/VW7kh+MuAkAU+VuXa0IBQIqmTtN2ggFAFtHoNkHqAUAVe7CqDIMBQEQkOxe4TwFAbJXnWNrkAUCHJzjuPmABQJkIQTIyFAFAvvO/wA+yAkDe5qTMmJABQMSUc7xDgQJAJvAB7l0vAkA=",
            "dtype": "f8"
           },
           "yaxis": "y"
          },
          {
           "hovertemplate": "Label=2<br>Time=15<br>Dimension 1=%{x}<br>Dimension 2=%{y}<extra></extra>",
           "legendgroup": "2",
           "marker": {
            "color": "#00cc96",
            "symbol": "circle"
           },
           "mode": "markers",
           "name": "2",
           "orientation": "v",
           "showlegend": true,
           "type": "scatter",
           "x": {
            "bdata": "GJD8kfSoAsAp84hZuUwFwMZ5rfdJbvS/RlQBVhy4+r+y2DSrVvcBwIPVgVaQxQPAgYoUJdZcAcBr/8wg0Dn/v+Uzjh+T1/2/TubdZjm0BcArDZ+DC4Hzv3tlgcBmJQLAUi+TYkqXBMBzG2fa0k37vwxs51qXQADAbGfKe+5+AcAHXG/mNvf/v0fDeRvu+ALAE7c0K3C+/L+ZShpQSuf9v7r7DnkpnAPANLBUehJCB8Din7Ob1JYEwA==",
            "dtype": "f8"
           },
           "xaxis": "x",
           "y": {
            "bdata": "gJsEsk1/97+CwVdvyj0AwGTXug1zIuW/0Jjk5bqz6L9WoNE8c1f1v7xilBN8P/u/2oadN7NS9L8aMlOi+2fwv1Coe1PPue6/0lEUaMMRAMCEKK3uT0rmv3qppSSH2ve/YEUZ6A2H/b/sAmGVkGzsvziGZu6k7PW/3l0SOSDi9b9SRm0hR2nzv2x+8N+nqPm/ILb+GdkR7L8cnSws+lfxv5IrgcWSfvq/d5vwwJPcAcBA2yv2cbz+vw==",
            "dtype": "f8"
           },
           "yaxis": "y"
          },
          {
           "hovertemplate": "Label=3<br>Time=15<br>Dimension 1=%{x}<br>Dimension 2=%{y}<extra></extra>",
           "legendgroup": "3",
           "marker": {
            "color": "#ab63fa",
            "symbol": "circle"
           },
           "mode": "markers",
           "name": "3",
           "orientation": "v",
           "showlegend": true,
           "type": "scatter",
           "x": {
            "bdata": "HChOx4Y4p78dFHBxu3biv9xNy69Sdqo/FqpCzbBX3L8wvlvzZV6PP8TgQc8URtK/LR+fUDgzwL8dDVO7P7LDv6Jk2X+G5rU/ZmJg8/hqvr/bZXyOSsTIvw+8WtARZMq/XgD3lSMH17+Dtf1eM1/Av4nY//XUpcm/fH+rEeBq2r/deYMdCoLOv5W8iWl9DsK/AO8EWd9gkj+YDOJH/mWRvwSTApzMnqy/MIwA31V6h7/OYL1Hlzm8P+c8LUXu+cO/Cko9iR+Psr8h31y7gUXAvw==",
            "dtype": "f8"
           },
           "xaxis": "x",
           "y": {
            "bdata": "sHksMwsK8b+YDLHzCHfiv8K2CsItl/a/JH5Kg4Jh7b9iY95Luzb2vxRWRnzJFeK/7BVwoPP/5r9UkiIuqQD2v6pwO95lQfS/uhQBg+998b/8PG9RpaTkvzzGAneO+vC/wKzP4D5b8L+o2LIMLQXnvzbO7RuZIPC/pHMA+7EI+b+sUcdBVJXrv5xGK3YiqOu/pHMNUj1c+r/QETpKPmbuv5gSl14Mreu/jCBPM7Tq778s1BoplzUJwHQmdEze9+C/4OjNMg2t8L98DzNrEDHnvw==",
            "dtype": "f8"
           },
           "yaxis": "y"
          },
          {
           "hovertemplate": "Label=4<br>Time=15<br>Dimension 1=%{x}<br>Dimension 2=%{y}<extra></extra>",
           "legendgroup": "4",
           "marker": {
            "color": "#FFA15A",
            "symbol": "circle"
           },
           "mode": "markers",
           "name": "4",
           "orientation": "v",
           "showlegend": true,
           "type": "scatter",
           "x": {
            "bdata": "qjPnNeizCcDxf3Y8dj8GwNrDLJjmsQTAkIXHE5PCBcATZcfk438JwEat4+gUkgTAP5wrFnZlCMBy2P1VUUUDwGU0hlP+PQLAUIy/cELZBsCusJo+8j0LwDlKGEV4HAXA8ELDVkB3CsAuC5Y58ocHwHLkYIGf//q/LweXk0BgCMCdTcaYfd0LwBi4j2cKPQPAwgUkheiOCMC0FJsbkDEJwLXClEPP5/+/PYPOYsRwCMCjSY/eOfMHwA==",
            "dtype": "f8"
           },
           "xaxis": "x",
           "y": {
            "bdata": "3WOjAE2O9T+j+MdAs+H2P88XfBog2vY/Dze7xDYv9z+ZNPALVMz1PzJY7xaOM/Y/Xm8nhvxb9j9vDqyypxX3P6BFuGxdXvc/tkb0jFsP9z86PcYdmHX1P1xiLEOUlvY/YAr7mS1i9T+2LmZay7X2Pyy0oWkzA/U/UOxaqKmi9j+VJR/nuz31Px63a0hPDfc/4tWWzegT9j99Y8gByv71PzrzQp41VfU/Lz1GClpA9j/Zeo1Xa/f1Pw==",
            "dtype": "f8"
           },
           "yaxis": "y"
          },
          {
           "hovertemplate": "Label=5<br>Time=15<br>Dimension 1=%{x}<br>Dimension 2=%{y}<extra></extra>",
           "legendgroup": "5",
           "marker": {
            "color": "#19d3f3",
            "symbol": "circle"
           },
           "mode": "markers",
           "name": "5",
           "orientation": "v",
           "showlegend": true,
           "type": "scatter",
           "x": {
            "bdata": "WvycFXhr579ST8b4ppPnvxaLSdgC2um/tMruRmuJ1r84mdWyz/Lqv8RSmcNlfem/1I/7uJln5r9sGfcU0rbpvzKADsWqOLw/Nt993Mqt6b+osXdq9ffhv3Icz+D9x+a/Cg6FEhdM6r+ZrJU2S1/kv9QcUudDR+W/4rmoEuxG579N9Iuh3I3nv5nRNTjXS+a/stC8rr2d5L/7dLjJfq7mv8afzdiOWei/0aXe502V5r8=",
            "dtype": "f8"
           },
           "xaxis": "x",
           "y": {
            "bdata": "jw2V3LFlAkCEc79kGlMCQPCKfQaLRQJAEJfcwo3w/j9Hyi1rQ3ACQCyV+Jw5awJAvdqYLKD/AUAVb0lro4YCQEriCCyVNQnAk+cay8pdAkDtLhq+148AQIha/Ou6LAJAgXcqvzFhAkAX2gzYMF0BQPz0gbuVlgFA6kCdZnV5AkCgrVsvN0wCQC/MLDt5UQJAfblJNUrRAUAX4MAjDKUBQFOMm8QeRgJAjjfcFse7AkA=",
            "dtype": "f8"
           },
           "yaxis": "y"
          },
          {
           "hovertemplate": "Label=6<br>Time=15<br>Dimension 1=%{x}<br>Dimension 2=%{y}<extra></extra>",
           "legendgroup": "6",
           "marker": {
            "color": "#FF6692",
            "symbol": "circle"
           },
           "mode": "markers",
           "name": "6",
           "orientation": "v",
           "showlegend": true,
           "type": "scatter",
           "x": {
            "bdata": "WrFsdxc5vD/OBteSsTi8P5YCBbUBObw/ym7vYw45vD8+XR6DZTm8P6z21HX2Obw//HD9S0o5vD8gSjvNJjm8P9QfCG7XOLw/dCasihc5vD/yfZx7NTm8P+49l7hUObw/FuL82/o4vD/qiAjPTDi8P8icOtyVOLw/UIzpUk85vD9QNcldOjq8P3YvFn92Obw/RsR5NgQ5vD/WE/tt8Ti8P5h8LveMObw/",
            "dtype": "f8"
           },
           "xaxis": "x",
           "y": {
            "bdata": "tNt3UJQ1CcDc2y/EmDUJwKrfrtqSNQnA+LlIN5I1CcCa4RgSljUJwDAfXnaUNQnAvvp8AZY1CcBA41OQmzUJwFKdHyuYNQnAhkR9kpQ1CcCQYYvjlDUJwJ7y8aeXNQnAqGYbyZg1CcCilByIkzUJwIIByUaaNQnAblyNt5g1CcBcn+s9mTUJwGyEiqyUNQnA+MTUGZk1CcDmjKdBlTUJwHRI8vSVNQnA",
            "dtype": "f8"
           },
           "yaxis": "y"
          },
          {
           "hovertemplate": "Label=7<br>Time=15<br>Dimension 1=%{x}<br>Dimension 2=%{y}<extra></extra>",
           "legendgroup": "7",
           "marker": {
            "color": "#B6E880",
            "symbol": "circle"
           },
           "mode": "markers",
           "name": "7",
           "orientation": "v",
           "showlegend": true,
           "type": "scatter",
           "x": {
            "bdata": "NNViF9U5vD8SdIXoGTq8P3RxwshpObw/MogrC4g5vD94SDFB8zi8PzJW1YgnObw/9O/v3dA4vD96B540Ojm8P1TTFmpSOrw/5sqNF2Q5vD/ezSvaFzm8P1C2Fw6LOLw/krSS+IY4vD/qkaHAmTi8P5QO1bZgObw/kiFztlE5vD+4pXNNLjm8P5a9t8epObw/Dhe0ucA4vD/olUMYADm8PwpvN9E1Obw/8gwNAhw5vD8GiWW5ZDm8Pw==",
            "dtype": "f8"
           },
           "xaxis": "x",
           "y": {
            "bdata": "ruW14ZY1CcDm9IavmDUJwJZzTESWNQnA1CRUCJo1CcAse5+FmDUJwO4aJqmYNQnAus6FZ5g1CcBwoQ3rlzUJwIZdZsCbNQnAUm5ZApQ1CcB0KGVOmDUJwGbXFQCaNQnAotWrE5Y1CcDAYHptljUJwFihBCuZNQnAsophiZY1CcAW/zHImjUJwBhRFo+ZNQnAZNRccpI1CcC8e7z6lzUJwJTjTkmRNQnAzKk7cpQ1CcC03vz9kzUJwA==",
            "dtype": "f8"
           },
           "yaxis": "y"
          },
          {
           "hovertemplate": "Label=8<br>Time=15<br>Dimension 1=%{x}<br>Dimension 2=%{y}<extra></extra>",
           "legendgroup": "8",
           "marker": {
            "color": "#FF97FF",
            "symbol": "circle"
           },
           "mode": "markers",
           "name": "8",
           "orientation": "v",
           "showlegend": true,
           "type": "scatter",
           "x": {
            "bdata": "iyJtJVd9AkC8xxHhXT4GQBmbaSeTVAFAZsj9JDMjAUD9ND63Kqv9Pyd+ceg6KQNAs3iA2U/eAEA2S0IVtgkDQHROwYJ3Obw/xSr8owUA6j/AIh5JLfEGQAQlxLi/P/o/VfvyjfAmA0BjftXEsU30P99p1Brh4QJAux0d1s/s9z99ej6ytGf0P8aAn86xovg/k676EqQE/D9RFfZuDsAGQAmSYH/opf8/eT6ciCohA0A=",
            "dtype": "f8"
           },
           "xaxis": "x",
           "y": {
            "bdata": "DPAMkjDr/z8hZSSwyZQBQFM5BI6qrv4/wJVE7+Ww/z802kRq+937PwyjJSiKvgBAjBYp6fl7/j/BbQuvYs4AQCJ0jW+ZNQnAYAGQTM4PsL/sPsym1GICQCS5qcrF+vg/7XZzdY9DAEBQw1Q0DMfsP1WEj3y2pP8/4occVvjQ7D+7SG3UEL/sP538229TRfU/39SuVqE7+j9BsMdyonQCQIT9gzZCS/0/YjvOo6B1AEA=",
            "dtype": "f8"
           },
           "yaxis": "y"
          },
          {
           "hovertemplate": "Label=9<br>Time=15<br>Dimension 1=%{x}<br>Dimension 2=%{y}<extra></extra>",
           "legendgroup": "9",
           "marker": {
            "color": "#FECB52",
            "symbol": "circle"
           },
           "mode": "markers",
           "name": "9",
           "orientation": "v",
           "showlegend": true,
           "type": "scatter",
           "x": {
            "bdata": "ENYu2Nw4vD9f4/rPv10JQLxQxgrqfgxAulA0uQh+DEAQx4XdXkwLQLoMBwOglgpApgfRfP/XCkAsvX95QroNQLQqIAbYVgxAilLVo2U6vD9Uf4tffecPQIGyNWAIlA1AwbZEzGzPCEAN3fGZj+4HQHeUi7dOXA1AH/SO4LZoBkA1dLA5o7/+P52ebvDFyA5AFPpuiqkyCkD9QbWpRm0KQPbacS8YYQhAZp9NwyPwA0C9vbRhIR4HQGAb+Sta3ghA",
            "dtype": "f8"
           },
           "xaxis": "x",
           "y": {
            "bdata": "Qogf05o1CcDwoDcy9MS0P8DcuHT3ybI/0DaBPdtZwD8AJGTpupe9PzgyFuDY3NI/cBcRjqtivD8AUHNM7+K7vwAMnQr7o4K/DCKcD5w1CcAADIYEowa+v8CaDlIGorS/UJEO7wvsyz8EisnCvLbVP4AwhNN3NaS/CCQ0CSh2yD/AjsEji1LdP0AfaUgeLZA/1BZvE0cY0D8gxhFXLvbIPyT3XeigENg/wGNsyRta4D+QhURwWIHIP6ALZCkCeLs/",
            "dtype": "f8"
           },
           "yaxis": "y"
          },
          {
           "hovertemplate": "Label=10<br>Time=15<br>Dimension 1=%{x}<br>Dimension 2=%{y}<extra></extra>",
           "legendgroup": "10",
           "marker": {
            "color": "#636efa",
            "symbol": "circle"
           },
           "mode": "markers",
           "name": "10",
           "orientation": "v",
           "showlegend": true,
           "type": "scatter",
           "x": {
            "bdata": "yA+ru2pvA8C/fS/BfM79P/94SVV2MgHAcKpD/hE5vD+Qk9AxT/z0v8GSG19mcwRA4/em/hn2CMD2sWqMWR7bv+a1u/CtObw/MAiWk+FB4L8=",
            "dtype": "f8"
           },
           "xaxis": "x",
           "y": {
            "bdata": "CosF8rGlAcBENArJmvvdP0XdfEC7VP0/ENHaF5U1CcAK/Iy20JX8PwxLzJ4dMQFADBhim6gJ9j9GQ98DNl72vyzRPiSTNQnAvqG2+764AEA=",
            "dtype": "f8"
           },
           "yaxis": "y"
          }
         ],
         "name": "15"
        },
        {
         "data": [
          {
           "hovertemplate": "Label=0<br>Time=16<br>Dimension 1=%{x}<br>Dimension 2=%{y}<extra></extra>",
           "legendgroup": "0",
           "marker": {
            "color": "#636efa",
            "symbol": "circle"
           },
           "mode": "markers",
           "name": "0",
           "orientation": "v",
           "showlegend": true,
           "type": "scatter",
           "x": {
            "bdata": "9WSah5w5A8Bkn/MzJ7P5v9HzIZ8EAQfA+1ANB4kw+L/w0jbpxJsIwDO0uzS9J/6/thJpN/8AAMBTxg1AE7vzv1kHkzSDzQLAnM16zh92B8Bv9yZ8m7r/v77RjnuGDwLAIUb0rgje/7/usIhHXXICwN3ai/9g/AnAt/hvOWZABMAHeBjlnVkCwED9PqWd2/u//UyzxjgDBsDFWjSINqP9v/VCgy6WL/+/OkK5Lq7EAcBhsCtlAUsCwA==",
            "dtype": "f8"
           },
           "xaxis": "x",
           "y": {
            "bdata": "dq2hsBkP7z8T/sDPC0n1PyACGCynuO4/G0+D2f8z9z/GyCY52l/yP/RNrlMbz/Q/4Eawab3D8z9iP91z7pTuP5vzCFBfbPM/fvvIlFLn8T9vfHESsB30PwM3EVC6ZPM/rHPM+neo8z8O6vM6uj3yP3BId4lpKvM/85epSXJJ9D/BSUtxVEPyP/wLiYaTLvY/lPMgVzaJ8z8h9Dgsh3b0P1u+Xu3PcvU/eX0BI7se7j/7aFRAEezxPw==",
            "dtype": "f8"
           },
           "yaxis": "y"
          },
          {
           "hovertemplate": "Label=1<br>Time=16<br>Dimension 1=%{x}<br>Dimension 2=%{y}<extra></extra>",
           "legendgroup": "1",
           "marker": {
            "color": "#EF553B",
            "symbol": "circle"
           },
           "mode": "markers",
           "name": "1",
           "orientation": "v",
           "showlegend": true,
           "type": "scatter",
           "x": {
            "bdata": "9FGBwaoJA8DQhBMKbFz5v5fUmi59Ffy/bSW203QW/r+DEdizTRQDwNoMR8JHggDASFm6+Fjd97+qcHDg7Ti8P1vfJz1SUv6/kgYJIANg8r9UJEhE9Tb4v575bYoSwe6/4Q5B+JE+AMBXlvVtA7jxv5jqv/zdxPa/ideZoKIS9r8G+XhQRqoAwHxOtLiY8wLA0UyUCqQp/b+hCsgEJdf+vx7HArOgpATAXFrG3OJ2978NpYejOlb7v3TuHe0RjADATS1x8+fBAMA=",
            "dtype": "f8"
           },
           "xaxis": "x",
           "y": {
            "bdata": "bixgJEb6/j/yEK3etmP5PwElLYCaXAJAsdB/H/Hj9z+qejAHRzP9P9xFT33ICPA/BUQ6aXFRAUBiTzPImjUJwM5F2wsvWPQ/BQlyBCkY+T8zwtzJ4br0PxgJFrh/NAFADN5Ufhoq+z8qaTRNY5kBQNYWla1h2AJAL2i7ABbW+D/LT8TJq5j1P5ofhaQNy/s/oC/NjLyLAUAKUVqYAeP+P4LpKt+DPPs/pq1NQSDY9D96hyWhW+XyP9IbiW0le/E/6qWelmld/j8=",
            "dtype": "f8"
           },
           "yaxis": "y"
          },
          {
           "hovertemplate": "Label=2<br>Time=16<br>Dimension 1=%{x}<br>Dimension 2=%{y}<extra></extra>",
           "legendgroup": "2",
           "marker": {
            "color": "#00cc96",
            "symbol": "circle"
           },
           "mode": "markers",
           "name": "2",
           "orientation": "v",
           "showlegend": true,
           "type": "scatter",
           "x": {
            "bdata": "u0BtiyIh+b9dk70EZgsDwPQ6U7LYOLw//Fhm6DdKAMAg32HqqcACwAyBjpXeuvO/g/MRvPBj9L/kWLNX2bkBwLymrqn+LQXAodS63cXl/r/s965mc4UBwK6Dn1cAYQLAhEC5zOWrAMA1RzxDVzD7v79qVGkEiva/9/pwBOszAcCKeGLJWcnyv7qK3JLGTwXAvc5jyElW8r/HDKyb9usEwCcXso8JwgDAYWA9/0v7A8AqtLvIbcECwA==",
            "dtype": "f8"
           },
           "xaxis": "x",
           "y": {
            "bdata": "AB7SfexVpr8sBEwirpfzvzpiY6mTNQnA1MgLsBz67r/MzMSfDlLgvygGExmY6+q/4MK+YMkB179CmPkShy32v7huMuYGcvK/iKGVdqz03r+MITNX7T7yvxAS84XIoea/eCghoeZ557/cxLBdN8nhv3gx43Ma1+K/+g7n+Hnh8b8wSlAkj+HfP+Bi+7Z6Lu2/uFqKZH2A37+uaTXmVHLzvxClH9nwBrQ/CFsESRzH7b80Bm6WHZj0vw==",
            "dtype": "f8"
           },
           "yaxis": "y"
          },
          {
           "hovertemplate": "Label=3<br>Time=16<br>Dimension 1=%{x}<br>Dimension 2=%{y}<extra></extra>",
           "legendgroup": "3",
           "marker": {
            "color": "#ab63fa",
            "symbol": "circle"
           },
           "mode": "markers",
           "name": "3",
           "orientation": "v",
           "showlegend": true,
           "type": "scatter",
           "x": {
            "bdata": "xJBNhs04vD+PqXnGqPfBv9zES2HOZKc/CG8WUqw7uz8a6JCoJDm8Pxo5OXoAObw/Ojqpc4+etD/9Q0HgfLLDv/AH5eGJObw/xCiJBXU5vD+ElaHMNTi8P2ZBgU6cyrA/oOCGVqA5vD8kMpMj8Ti8P/gu+u0RObw/PrUCcXM7uz+QmfZI5zm8P5+IQhZlh8u/dmlrvC45vD8CuUR0CwC6P6X0bfV0wcc/uKaP4hU5vD9cPkHquDm8PyayIqaMOLw/2Jx57AM5vD+zvJ0lgMLBPw==",
            "dtype": "f8"
           },
           "xaxis": "x",
           "y": {
            "bdata": "3NQA05Q1CcD0hd9qca7jvxD1Y3Qqwve/ok1ZO1y4+7/iXK/4mzUJwPwRzSSVNQnAfBrHW2yR+b9Gru/48QD2v0yZUo2dNQnAghDT9pg1CcBg8pH1mjUJwIw1QxJOVPu/UuwBfJo1CcC4eU3InTUJwES3/2GYNQnAAJJw1hS4+7/o8BqQljUJwArIigxQ5PG/Dl9TAZc1CcCGDJ/Zb1v5v9wZvhcd7Pm/YB1PfJU1CcAyG2n7lTUJwHhm2YKYNQnAkuDZhpY1CcBC8TVZKNDzvw==",
            "dtype": "f8"
           },
           "yaxis": "y"
          },
          {
           "hovertemplate": "Label=4<br>Time=16<br>Dimension 1=%{x}<br>Dimension 2=%{y}<extra></extra>",
           "legendgroup": "4",
           "marker": {
            "color": "#FFA15A",
            "symbol": "circle"
           },
           "mode": "markers",
           "name": "4",
           "orientation": "v",
           "showlegend": true,
           "type": "scatter",
           "x": {
            "bdata": "xlKY6YIBB8CFcNjL71gEwPK/wemHYALAmpgPOdmyBcA13ehAoTwHwJHUJWIwFwvA1RtaSjKqCMANmvRT6rkFwDgz9QTOEAbARbZQQkJ0AcCo5jP4RhkLwGpp4bUW/gTADYGWO+0GCMAcCULAz2AHwA2S/2xxn/m/ObTzhSZ9/b8vMi/BglEKwJGSHity/gTAH1Yg7f+eBsCgb82qwPQEwOepvkEscQDAlWbeaAGgB8BwIbqQ4hcLwA==",
            "dtype": "f8"
           },
           "xaxis": "x",
           "y": {
            "bdata": "xqepfFbC9z89UCgkSXv5P/yxVnZFSPo/1jigJPgq9z+Jo+3C25P4P+gTXmVZlfY/CfqZAKtx9z9BKMPCJrj3P2NXGTaH2fg/x9DL5VgO+T+PTkeyqjX2P3JTb+2MIPc/w+sBGRwo9j8XqLL6C1b2P8tcuTP/+fM/wQrhkUWc9z8pu8n6G/b2P1pWFQfu+fg/E2ZVzz6I9T8uW5WB4Iz4P7icqL+Info/ahqDe4zZ+D+6tb+9aBn2Pw==",
            "dtype": "f8"
           },
           "yaxis": "y"
          },
          {
           "hovertemplate": "Label=5<br>Time=16<br>Dimension 1=%{x}<br>Dimension 2=%{y}<extra></extra>",
           "legendgroup": "5",
           "marker": {
            "color": "#19d3f3",
            "symbol": "circle"
           },
           "mode": "markers",
           "name": "5",
           "orientation": "v",
           "showlegend": true,
           "type": "scatter",
           "x": {
            "bdata": "x/Fu7Co8AMB1UefKT2L0v0lKF+C9hPS/ILnr7r7Guz82OikFdHzjv/02JDRHIvK/egpRZDvj+r+phPISAPjyvxDZiHtGOLw/oCgyV5gL7L+YzVy+0bvyv5BBv7Vd3Pm/prcLCCjb778NXHCo+Jv4v54wjLs1iey/tdlUbK2t+b8YG4M60+Hzv+DUgxmEsfi/pJKuEw9T+L/aWxw+tR7fv0NSo6UZBPS/kF6BkObK8b8=",
            "dtype": "f8"
           },
           "xaxis": "x",
           "y": {
            "bdata": "DjaQ8ziM/z/3e6y3rkYAQM3ptefdCwFAoH3IyNoCvr+hF9Oh1RYCQJDI2FWnqQFA/b4jk128AUDiVPwu8CD8PxYfzJqaNQnA7v/Nu9L7AED74wCRufv/PxIMEEldwP4/d8XCWsV4AUAK3Xz57koBQE8ypaGjFwFAMPci+W5M/j/UAjqB7QMCQMJK2WU06vw/HCFV+FVY+j9k4d7out4AQCbcdEEPywFAJFAOG6i2AUA=",
            "dtype": "f8"
           },
           "yaxis": "y"
          },
          {
           "hovertemplate": "Label=6<br>Time=16<br>Dimension 1=%{x}<br>Dimension 2=%{y}<extra></extra>",
           "legendgroup": "6",
           "marker": {
            "color": "#FF6692",
            "symbol": "circle"
           },
           "mode": "markers",
           "name": "6",
           "orientation": "v",
           "showlegend": true,
           "type": "scatter",
           "x": {
            "bdata": "EB6GpZI5vD86zyTCqzm8P4iOyEF6Obw/2tWJcUE5vD8izLE35Di8PwpN/c+AObw/2omUP244vD+wLe4Lbjm8P2q1jpwEObw/hI2XTKY4vD8Wscm1sTi8P0Be9AUkObw/uNVZQKk5vD/gNhinEjm8P7Jb9osvObw/bLmFX4g5vD98RK5TPzq8P0K8fbRvObw/nCjcnCs5vD+cjqZUnzi8P4iny5CdObw/",
            "dtype": "f8"
           },
           "xaxis": "x",
           "y": {
            "bdata": "WCgKK5o1CcDSe5GFlTUJwBJ/mRiVNQnANpqxNJU1CcCgYwz2mTUJwNgeXtOZNQnA2pm9PJQ1CcDkLOxflzUJwG50fiycNQnAVH8Eapo1CcBKAgcElzUJwCL3/H6XNQnAONAGn5k1CcAG7V4ImzUJwHpB0pygNQnAENwiJpM1CcCe7WsdmjUJwObfnoucNQnAMJDgT5o1CcBAJm8YmDUJwF7elcyWNQnA",
            "dtype": "f8"
           },
           "yaxis": "y"
          },
          {
           "hovertemplate": "Label=7<br>Time=16<br>Dimension 1=%{x}<br>Dimension 2=%{y}<extra></extra>",
           "legendgroup": "7",
           "marker": {
            "color": "#B6E880",
            "symbol": "circle"
           },
           "mode": "markers",
           "name": "7",
           "orientation": "v",
           "showlegend": true,
           "type": "scatter",
           "x": {
            "bdata": "WoeeoJY5vD94kjcY5ji8P6S6vdfHOLw/Sk/zqmw5vD+MNTEeRTm8P3DQrXwHObw/Xgi1FNc4vD+wFt0o6zi8P15e0cXUOLw/aqdfYQc5vD+E96NsEzm8Pw6gyYMCObw/0mVBlvk4vD/i5s/95Dm8PxzyOuCiOLw/1HI8C+I4vD9ugdALhji8P6JYyX7KOLw/wkN2uSs4vD9glppGlTm8P9TCZTUrOLw/FHYxQWk4vD8gedo7RTm8Pw==",
            "dtype": "f8"
           },
           "xaxis": "x",
           "y": {
            "bdata": "cvDQy5Y1CcBQ70LzmDUJwFYYxTiaNQnAxJQpz5o1CcDQmCK4mTUJwNoBdcyUNQnAiP0XBJk1CcBgj/hGmjUJwIYgvc6VNQnAMMFGCJw1CcAeKL7IkzUJwFQqu4ubNQnAEHPDsZc1CcAE7KlPmTUJwJyLyi+eNQnA/o0TW5o1CcCGxu7ymjUJwBaxuCudNQnADAN0H5U1CcB47QACljUJwDisTsWXNQnAWqqNgpg1CcBGH3xllTUJwA==",
            "dtype": "f8"
           },
           "yaxis": "y"
          },
          {
           "hovertemplate": "Label=8<br>Time=16<br>Dimension 1=%{x}<br>Dimension 2=%{y}<extra></extra>",
           "legendgroup": "8",
           "marker": {
            "color": "#FF97FF",
            "symbol": "circle"
           },
           "mode": "markers",
           "name": "8",
           "orientation": "v",
           "showlegend": true,
           "type": "scatter",
           "x": {
            "bdata": "vh2rigslAEDH5IBxiIbpP/j4mDA5KQhAaT4GrKNZ8z/cme6LH44BQD4VVGTlBuw/tLB8E7brA0DqiYtn31boPygGp9j1OLw/cja//4wc8j/FudsqIUwIQDi6otbFHQdAS4yyWda38D9t7O2WrUj8P1bAfqD3Jf0/OhSF1tSP9D/7APtBv94BQD2S6ggJxQJAOx53g8t88T/tfkHcTPMDQNdfXof8jPc/G4JDSehHA0A=",
            "dtype": "f8"
           },
           "xaxis": "x",
           "y": {
            "bdata": "UNTz+YI2/z98nDOlOu38P1Vh5rbMbwJA7AjVg1kAAUD+47bgQKYBQCohYzkR3fg/7MzDLP15AEDKQLP37rP5PyKBWpeWNQnADMpa9hNW9z934zUTC3MBQCX2xLA3RP4/DLsvLZU+AUC/yowXldwBQL0pAphyvvw/ilsf0dQEA0DYmcI3e7UDQAVB+2a+/Pc/3abTsm0HAEC351AdXKT6Pwy7pIGP1QFA3SSPWLwuAEA=",
            "dtype": "f8"
           },
           "yaxis": "y"
          },
          {
           "hovertemplate": "Label=9<br>Time=16<br>Dimension 1=%{x}<br>Dimension 2=%{y}<extra></extra>",
           "legendgroup": "9",
           "marker": {
            "color": "#FECB52",
            "symbol": "circle"
           },
           "mode": "markers",
           "name": "9",
           "orientation": "v",
           "showlegend": true,
           "type": "scatter",
           "x": {
            "bdata": "mBq3kYs4vD/JLsHwfVkRQPqnOF0LYQFARsjdaGN9DEA5nH7lYGkRQIJtwdLPpw1AvL+KdYAxEUAxxOS2498NQEugS8pWgAxAxNdzj684vD/9WmS2eRMRQKf2rgMe0BBA2rRZByXeEEDFUZYQfFQOQBnfiM/OMRFAsSJ1TDKIDEB/g1IaLOkLQDtWmCLj4xJAAP6pjmIzEUBhMNPXXXMQQEHvfmpzshFAOItrBBM5vD+EuyzdaDAJQFiPStnFaRBA",
            "dtype": "f8"
           },
           "xaxis": "x",
           "y": {
            "bdata": "7je5mpQ1CcDIMwyHYlHCv3CkegIl9d4/LJS1TJ/C0z+IXj1qFdbav6DYmuRU67W/oCRaYfBTv79wzXg9yATHv+B8fi/SIKG/jBUKJpU1CcAY+ubMGXnUv/j5LvZML9K//NmocoHz079YoB2sFHzAP4go21Ek7Ne/4BsOEIdArT8AbgAaItaeP4jR0MF6u92/gLiBfv3A0L9QOcQYC5rBv9C6fXQi4ta/hp+5iZE1CcB4rCDbmorAP7B1xGDFpMG/",
            "dtype": "f8"
           },
           "yaxis": "y"
          },
          {
           "hovertemplate": "Label=10<br>Time=16<br>Dimension 1=%{x}<br>Dimension 2=%{y}<extra></extra>",
           "legendgroup": "10",
           "marker": {
            "color": "#636efa",
            "symbol": "circle"
           },
           "mode": "markers",
           "name": "10",
           "orientation": "v",
           "showlegend": true,
           "type": "scatter",
           "x": {
            "bdata": "Gh5cnUIFBMDNEQGAAdYQQJKstLspIADA2hjIvfI4vD96AcWIB1/tv3V2Mr2tsvk/XSIlBFT2B8Dcns4OQDm8P6CZmLm4OLw/iBJcp7dc578=",
            "dtype": "f8"
           },
           "xaxis": "x",
           "y": {
            "bdata": "BGlcZhdG+L/4r8Z/HObUv3pRwIWxwAJAUNYuOpg1CcBZ5WQmgSDvP0bX/QUcuABAlYD81hgu9j98K4menDUJwJAX0BqUNQnA0Q7u142C/D8=",
            "dtype": "f8"
           },
           "yaxis": "y"
          }
         ],
         "name": "16"
        },
        {
         "data": [
          {
           "hovertemplate": "Label=0<br>Time=17<br>Dimension 1=%{x}<br>Dimension 2=%{y}<extra></extra>",
           "legendgroup": "0",
           "marker": {
            "color": "#636efa",
            "symbol": "circle"
           },
           "mode": "markers",
           "name": "0",
           "orientation": "v",
           "showlegend": true,
           "type": "scatter",
           "x": {
            "bdata": "bTER7j3Z97+S8VK3WcXdv9TSk6QX4/m/hNFAPqW07r8W/wrIiebyvyE19auiuPK/aG4HlOcO9r82zwWNxzi8PzB43LY9Jfe/n1kStpFV8L9Bf3euej7yv5co0dANafG/WUo1Wv0a57/zinSNZj/1v8ZsB2lgSvi/JAiwKo0K8r9sX/EbRYj2v2K+s6OUuua/YOv7rHF7+b/isOoQBgf0vz/QLl6GUvW/96ca8L8l9r8J44uWU1r1vw==",
            "dtype": "f8"
           },
           "xaxis": "x",
           "y": {
            "bdata": "tKmaKxY+8T+oBAeEkqvbvywSBqc+tfA/lWVX5Qwy7j//F85pQ5nwP+0zo5byNu8/+Ai5GQU18T8eC5holzUJwMQz/ZUPevA/yBQtH9/y7D+muu05u87wP6X0Xs+Cxuw/LzqC25mw6T94VK9yribyPyihnBak/PA/CDTU0xRO8T+ZDtd83lTzP/xdaBjN+do/iQlxyEfZ8z/+md1D0QjyP9dqpNjDC/M/OPpa0MaL8j/uHXHZEVvyPw==",
            "dtype": "f8"
           },
           "yaxis": "y"
          },
          {
           "hovertemplate": "Label=1<br>Time=17<br>Dimension 1=%{x}<br>Dimension 2=%{y}<extra></extra>",
           "legendgroup": "1",
           "marker": {
            "color": "#EF553B",
            "symbol": "circle"
           },
           "mode": "markers",
           "name": "1",
           "orientation": "v",
           "showlegend": true,
           "type": "scatter",
           "x": {
            "bdata": "D9y5SfQIAMBbUqMqRZz7v91h4slUN/2/Ii8ne0E0+7+XSzbbUJH9v4PoDq3PgQDA+WxQxJTx/79yFuKX1Ti8Pzv+1q1hsf+/tJCIiU2g9L+OZIOtP5r7v9+3Rbnt6fy/bnj1gEOm+b+Rc6zMaTj9v10U6TLqY/6/kcayr3ZH/7/7KPC9UTj9v5MnVyPgLPS/wzhDJ+3Z+L+hHt7GMj8AwPmBots1l/6/DdKr8s1Q/78WejXWeU0BwH1EJHL2AQDAiwIO2wlH/r8=",
            "dtype": "f8"
           },
           "xaxis": "x",
           "y": {
            "bdata": "xIjXVwmWAkBUu7PLVHgBQKeT6yE4FAJANoNwEBcVAkBZ8OVlNDUCQGm3PLgzZwBA3nEN9LewAkCE8rPuljUJwCIVsAlXwgJAAUlywa4w/z9o+iyQ+BQCQEse9KTtGQJAvqzVZaZ7AUD8L+W0GkECQFw5pxEkTQJAYXVK2RVoAkDB9LEeZVACQDeQBNUWaABA/ndusZr/AECTBjN7ZqoCQB1nd7ZjUAJAYf0MLZCcAkDTmHIPfNgCQB2W6qRgzgJAZd1biE+FAkA=",
            "dtype": "f8"
           },
           "yaxis": "y"
          },
          {
           "hovertemplate": "Label=2<br>Time=17<br>Dimension 1=%{x}<br>Dimension 2=%{y}<extra></extra>",
           "legendgroup": "2",
           "marker": {
            "color": "#00cc96",
            "symbol": "circle"
           },
           "mode": "markers",
           "name": "2",
           "orientation": "v",
           "showlegend": true,
           "type": "scatter",
           "x": {
            "bdata": "rSKrGgqI/7/uCtU67wgCwIxUVlQSObw/d8HPiCaH/b9VrBs3310AwCWWMs2N4vy/+2wNKedeAMA1xBsDBuj3vwyTk8OjHgHA8Hq89ysXBcDPG8hegswBwLGrBimIAf6/iI/zGpxHAMCzMEJDr2wCwOnnIS+3Uv2/mx3qOeaLAMDRNcmq2nH6vxneEV5wgAPAyKSB6NLCAMDXQg8lJqMCwDFbTARXK/2/vemopomSAcDAfLrrcWb7vw==",
            "dtype": "f8"
           },
           "xaxis": "x",
           "y": {
            "bdata": "WhJ+umgw8r9o2naSLcD1vyr/ydeYNQnAbKkZZIA377/IzhQaszXyv7D1h92k7eu/bJNdgqeD8b/Qw8CmGO7lv+SdGbiK6/S/vlnfeyJ//r9S7+a6z8/4vwzR/vYUy+2/ur574p/48b9aemZNlFX4vzCLxG990e+/xjp+uvG29L8YQlpH72Pov74/rxzGHfy/oAGPWR4I7b9MeYQW9/L2v3j9wmIo4ey/zk6ret038788XRYSU/vsvw==",
            "dtype": "f8"
           },
           "yaxis": "y"
          },
          {
           "hovertemplate": "Label=3<br>Time=17<br>Dimension 1=%{x}<br>Dimension 2=%{y}<extra></extra>",
           "legendgroup": "3",
           "marker": {
            "color": "#ab63fa",
            "symbol": "circle"
           },
           "mode": "markers",
           "name": "3",
           "orientation": "v",
           "showlegend": true,
           "type": "scatter",
           "x": {
            "bdata": "BtmfIT5psr8YOfgGjPvVv87JSa+Ysro/lCLsLh2+rb/GQCYy5Dy8v7AAdrNN+dK/09FAtZpEy79SKwABu2XRvxiDHo1xl5G/bI2NQcpz3L/kaC26Y3jQvxcymE1CZ8e/KC/6/Zsh0b83l9/s6fLFvxfGF+Mb6M+/gKJhgemn0j8CQfYAYcfWv2MTNZ/RXcW/mAPpjzk6uz+zg4Ij/KHAv18Hcp+ZRsC/kDOp/sa2hr/Itrav+Di8P4yR98fHiKi/0StVHXKHw7+X7Z/ktjHNvw==",
            "dtype": "f8"
           },
           "xaxis": "x",
           "y": {
            "bdata": "KMuYqUqL9b9sarqus9Xqv+YLUole9Pa/ij7nUAGW8L/Uc98GIkvzv8TbsjXxl+W/vhjyE0Zh8L9kamzKQSTiv5R6WoUsZPS/EolJ1au7+b+cantuxjblvzw04iq4Uva/NKwAtMr47b8AVbNcjnfyv3KMyRWYLvG/ZogQaW6i+b/YxpCD3X7xv8R2fspYEO+/flybdPW3+7/ofElV1rTqv/DmTWA2SeK/0tAslbSh8b9usW1MmDUJwMTF7tXNn+y/uB5JGAQ+8b9qXj7gE/zzvw==",
            "dtype": "f8"
           },
           "yaxis": "y"
          },
          {
           "hovertemplate": "Label=4<br>Time=17<br>Dimension 1=%{x}<br>Dimension 2=%{y}<extra></extra>",
           "legendgroup": "4",
           "marker": {
            "color": "#FFA15A",
            "symbol": "circle"
           },
           "mode": "markers",
           "name": "4",
           "orientation": "v",
           "showlegend": true,
           "type": "scatter",
           "x": {
            "bdata": "hwE8u5ClBMBI0VLlfUwDwCF80R2tjAHAqT3TJA/1/b/5qN44KuAGwE+hzzeVoAHAjMArORmhAcDShQq5oMwCwGqdYKrDfgHAsHLaV4fCAMCxMjlbEwz/vyggsCHrdgXAgXb2TBRJAcAYIwjKnIIEwHTmEgmLywLA1gmBGVoyA8ArbqMQXbkDwDp+wMbuDPu/TKI/sfa/A8BY7l8zhxgCwKMWlcaIzv+/Jk4n9RlCAcApnAAmqIgGwA==",
            "dtype": "f8"
           },
           "xaxis": "x",
           "y": {
            "bdata": "63mfO6nv9T9aVSa6PQT3P1roh+8KkvU/QtekZZ6v9D98Awy2gpv2PwXOtugapvY/4dJuHikG9z/qaMbb9R/3Pzy5ZXcu7vY/N9k6Sfkn9j8Qm1zGnZn1P9hSTW2tlvY/jhAtbS0B9j9Rg/DY4yj3P4n514hJUvY/CrmwGS9K9j+fwZc1zCj3PwwniyQ5qPQ/oBPTtaKS9j8jkz4fzWX2PzpL5xGkzPQ/ab0SNSoR9j9bzKoKSFb2Pw==",
            "dtype": "f8"
           },
           "yaxis": "y"
          },
          {
           "hovertemplate": "Label=5<br>Time=17<br>Dimension 1=%{x}<br>Dimension 2=%{y}<extra></extra>",
           "legendgroup": "5",
           "marker": {
            "color": "#19d3f3",
            "symbol": "circle"
           },
           "mode": "markers",
           "name": "5",
           "orientation": "v",
           "showlegend": true,
           "type": "scatter",
           "x": {
            "bdata": "qjVEDSlG2b/L7QoDfL3gv+EBveBQG+S/gLQXUXgo2b9g66DX1dXlv5NeaoajHeW/suUBy3Vv5b+37n2P+3vjv0rSIrV4OLw/6oFtOYgC57/c5x+huBqhPyzOeSKWQui/FBOQhZrd479ihECENDfcv39ipb8M3eK/QMyyRqZF6b84QTcEKcfdv8ayb71wttO/1lh5GJZt4b/WlTol7hrWv3+5cQW8meO/mMFVBKPh3L8=",
            "dtype": "f8"
           },
           "xaxis": "x",
           "y": {
            "bdata": "CCaT17HsAEA0szG+j9j/P+qJhfw/ZAFAY3eaZ96G/D8XHeicqy4CQLb5jbmBswBA578z4Wk1AkDy+a2mf4wAQISKb+aWNQnAjICe7fPaAUB+k2RNta38P+hIFfmUYQJA5o9YlUnsAUDEKk6r1Mb+PxK1os0FyQFAJ6+GHV6AAkDwzzlDQ4L8P5lKc9XIjwBAKSFucmYnAUC9Z/xGBnQAQHaIwEzZSwFAMwOT2tR9AEA=",
            "dtype": "f8"
           },
           "yaxis": "y"
          },
          {
           "hovertemplate": "Label=6<br>Time=17<br>Dimension 1=%{x}<br>Dimension 2=%{y}<extra></extra>",
           "legendgroup": "6",
           "marker": {
            "color": "#FF6692",
            "symbol": "circle"
           },
           "mode": "markers",
           "name": "6",
           "orientation": "v",
           "showlegend": true,
           "type": "scatter",
           "x": {
            "bdata": "1gYjdzA5vD80EBeOqTi8P1Iu7OIwObw/4PTv/kA5vD9YSRHEDzm8P/CrOubOOLw//F8x/jw5vD8Suf0VUzm8P0LOvZQjObw/jlgsxOQ4vD8IiuBtUzm8P0J/RgrdOLw/qgkh2zk5vD/iFavLPjm8P4RuTWQgObw/lsSl9Ig5vD/YS8Xftji8PxBg8KBOObw/JHRgTQc5vD+q5sA9ujm8P3a95CJVObw/",
            "dtype": "f8"
           },
           "xaxis": "x",
           "y": {
            "bdata": "XGNdmpc1CcDgU//pmjUJwIJCx12ZNQnATLASr5U1CcASmV5+mTUJwIz5XUGXNQnA2EzgNpo1CcBUZscflzUJwN70pcCUNQnAvhYBXZQ1CcBOFot9ljUJwBACH4+eNQnAOD186Zk1CcCaaHOWljUJwE4k5DOUNQnAJuRMIpg1CcACdP1PmzUJwHA1V2mXNQnAICLh8Zk1CcAcg+t7mzUJwG7u9t2VNQnA",
            "dtype": "f8"
           },
           "yaxis": "y"
          },
          {
           "hovertemplate": "Label=7<br>Time=17<br>Dimension 1=%{x}<br>Dimension 2=%{y}<extra></extra>",
           "legendgroup": "7",
           "marker": {
            "color": "#B6E880",
            "symbol": "circle"
           },
           "mode": "markers",
           "name": "7",
           "orientation": "v",
           "showlegend": true,
           "type": "scatter",
           "x": {
            "bdata": "ehfDZg05vD/8rPiYWjm8P/Q9jIQPObw/2E5I1tU4vD909Of++zi8P6I42mH0Obw/RHxi6b84vD+CVSqyHji8P1zPLMujOLw/YJpnKGM5vD8Q/2CEAzm8P3CbotyUObw/Dvp0Ldc4vD8+h15dDDm8PyY4W5HkObw/hrPW3TA5vD86aY9/vTi8PzabGNwLObw/1oAyJP84vD+AjNG1lDi8P3773BZROLw/NLJmKSo5vD9UfyebBjm8Pw==",
            "dtype": "f8"
           },
           "xaxis": "x",
           "y": {
            "bdata": "TBPXvZI1CcD2HTHGljUJwEYKHlyZNQnAoJpo/pg1CcDEyoAYmzUJwNDXR6KTNQnAIAdVf5Y1CcAys6KqkzUJwLT6rIOZNQnAnINjIJQ1CcAsUItVmjUJwGaDu1acNQnAyr6RGJc1CcAS/JudmjUJwDTFFNKYNQnAXEeq9Jc1CcAwYQn+kjUJwEY/8LmSNQnAFKYqqJk1CcB8z0sOlTUJwDRol7KUNQnAPuAaB5Q1CcCezld1lTUJwA==",
            "dtype": "f8"
           },
           "yaxis": "y"
          },
          {
           "hovertemplate": "Label=8<br>Time=17<br>Dimension 1=%{x}<br>Dimension 2=%{y}<extra></extra>",
           "legendgroup": "8",
           "marker": {
            "color": "#FF97FF",
            "symbol": "circle"
           },
           "mode": "markers",
           "name": "8",
           "orientation": "v",
           "showlegend": true,
           "type": "scatter",
           "x": {
            "bdata": "PND0Jx1GCUBaMrYXgUEGQB1C90rxHApAwy9k/pxxDECPrvhsO04FQEFyjNt1KglAuMk5gjjZCUDtjxSVZ5IMQIjNpIy/OLw/l7L+9gHnBUCMYF1KZzi8P9R5wdfoyghA6RO+Wb+RA0CsbwZ6Ms8IQHlTXYlSXQtA9LnTy93j+T84Hig33uwHQO7QRdJpqg9AY4jCjxIDEEBuzzCd2FgLQBsZjparlgtA9Ovk2e8nCkA=",
            "dtype": "f8"
           },
           "xaxis": "x",
           "y": {
            "bdata": "B+wKq8zrAkCoo4V1C+gBQKKvLDhwNANADRdeAAWiA0A+rwkaFHIBQPxn058LBwNAxuyR9n0uA0A/51rk7yICQDZbCgaTNQnAym5o+P4RAkAm0PSCnTUJwMe7aeJ+5gJAagydu3iXAEDXiGWlLvQAQNNSFuGqfgNABEaFwSOz9T+QtCH7484CQJ8a01+xrQFAyfp8SV5IA0D0rRGviV8DQD3ZwFUNggJAsoycVs9WA0A=",
            "dtype": "f8"
           },
           "yaxis": "y"
          },
          {
           "hovertemplate": "Label=9<br>Time=17<br>Dimension 1=%{x}<br>Dimension 2=%{y}<extra></extra>",
           "legendgroup": "9",
           "marker": {
            "color": "#FECB52",
            "symbol": "circle"
           },
           "mode": "markers",
           "name": "9",
           "orientation": "v",
           "showlegend": true,
           "type": "scatter",
           "x": {
            "bdata": "aKS3i/I5vD9keDAf+5sAQC+q9Q8UYgFAiBIpuveeBkCPfEq3MgEGQI2HyNhCowlAdd73SjgIBEBOMGoALe8CQEMHRMv/qAFANNUtPEI5vD9IjOfmm5YEQDA+6oAPeARAuaOtfeIx+D/vHnG8fHQCQHoSWCY//AVAaTppvojGBUAcoBAXB50BQDLjrf+iVgRAnQmunhjtBUCcH1XmNKEDQLpAILKjYfY/IPpES645vD8yevTH0Bn0P6zVF1nP8gxA",
            "dtype": "f8"
           },
           "xaxis": "x",
           "y": {
            "bdata": "5IdurZM1CcAAqnckILZhPxBVXZUaBLG/kJc6oYXqxz+0H4A9N+TVP4A/lLg1NpI/pPeBAj3z2D90cfxY1SnVP+BIra/H3s0/sMD0HJk1CcBI3Dvcp7vXP1D/tUaFJ8E/gKS5lK+Wkr+wY8G0zP3hP9B6tqFn5bA/kAVU9ESJzD8gH11U7uWqP1DDObx9udY/IAgQpJclyj+I8SDmUVvcPwDw6KCONWq/XvkSQpI1CcAMTQ210Crrv6BoaOzhf6S/",
            "dtype": "f8"
           },
           "yaxis": "y"
          },
          {
           "hovertemplate": "Label=10<br>Time=17<br>Dimension 1=%{x}<br>Dimension 2=%{y}<extra></extra>",
           "legendgroup": "10",
           "marker": {
            "color": "#636efa",
            "symbol": "circle"
           },
           "mode": "markers",
           "name": "10",
           "orientation": "v",
           "showlegend": true,
           "type": "scatter",
           "x": {
            "bdata": "nh0oZIo4AsDpIL4lD9/+P/y7P/LgLfa/8G7p/lQ5vD8SWd+nntfrv6xUkb+yIQ9ALIGkYaf1CsCdAWHFHoLbP24y93tXObw/eKvVhTMVlb8=",
            "dtype": "f8"
           },
           "xaxis": "x",
           "y": {
            "bdata": "6KiYkYYw/7/kIPkpTj7vPx7EFdrRzwBATuZTcZM1CcBzTPyH0zHoP8powDt6hgBAPihSzagy9T/oqKO163zzv/52BfWVNQnArt138Vil/j8=",
            "dtype": "f8"
           },
           "yaxis": "y"
          }
         ],
         "name": "17"
        }
       ],
       "layout": {
        "legend": {
         "title": {
          "text": "Label"
         },
         "tracegroupgap": 0
        },
        "margin": {
         "t": 60
        },
        "sliders": [
         {
          "active": 0,
          "currentvalue": {
           "prefix": "Time="
          },
          "len": 0.9,
          "pad": {
           "b": 10,
           "t": 60
          },
          "steps": [
           {
            "args": [
             [
              "0"
             ],
             {
              "frame": {
               "duration": 0,
               "redraw": false
              },
              "fromcurrent": true,
              "mode": "immediate",
              "transition": {
               "duration": 0,
               "easing": "linear"
              }
             }
            ],
            "label": "0",
            "method": "animate"
           },
           {
            "args": [
             [
              "1"
             ],
             {
              "frame": {
               "duration": 0,
               "redraw": false
              },
              "fromcurrent": true,
              "mode": "immediate",
              "transition": {
               "duration": 0,
               "easing": "linear"
              }
             }
            ],
            "label": "1",
            "method": "animate"
           },
           {
            "args": [
             [
              "2"
             ],
             {
              "frame": {
               "duration": 0,
               "redraw": false
              },
              "fromcurrent": true,
              "mode": "immediate",
              "transition": {
               "duration": 0,
               "easing": "linear"
              }
             }
            ],
            "label": "2",
            "method": "animate"
           },
           {
            "args": [
             [
              "3"
             ],
             {
              "frame": {
               "duration": 0,
               "redraw": false
              },
              "fromcurrent": true,
              "mode": "immediate",
              "transition": {
               "duration": 0,
               "easing": "linear"
              }
             }
            ],
            "label": "3",
            "method": "animate"
           },
           {
            "args": [
             [
              "4"
             ],
             {
              "frame": {
               "duration": 0,
               "redraw": false
              },
              "fromcurrent": true,
              "mode": "immediate",
              "transition": {
               "duration": 0,
               "easing": "linear"
              }
             }
            ],
            "label": "4",
            "method": "animate"
           },
           {
            "args": [
             [
              "5"
             ],
             {
              "frame": {
               "duration": 0,
               "redraw": false
              },
              "fromcurrent": true,
              "mode": "immediate",
              "transition": {
               "duration": 0,
               "easing": "linear"
              }
             }
            ],
            "label": "5",
            "method": "animate"
           },
           {
            "args": [
             [
              "6"
             ],
             {
              "frame": {
               "duration": 0,
               "redraw": false
              },
              "fromcurrent": true,
              "mode": "immediate",
              "transition": {
               "duration": 0,
               "easing": "linear"
              }
             }
            ],
            "label": "6",
            "method": "animate"
           },
           {
            "args": [
             [
              "7"
             ],
             {
              "frame": {
               "duration": 0,
               "redraw": false
              },
              "fromcurrent": true,
              "mode": "immediate",
              "transition": {
               "duration": 0,
               "easing": "linear"
              }
             }
            ],
            "label": "7",
            "method": "animate"
           },
           {
            "args": [
             [
              "8"
             ],
             {
              "frame": {
               "duration": 0,
               "redraw": false
              },
              "fromcurrent": true,
              "mode": "immediate",
              "transition": {
               "duration": 0,
               "easing": "linear"
              }
             }
            ],
            "label": "8",
            "method": "animate"
           },
           {
            "args": [
             [
              "9"
             ],
             {
              "frame": {
               "duration": 0,
               "redraw": false
              },
              "fromcurrent": true,
              "mode": "immediate",
              "transition": {
               "duration": 0,
               "easing": "linear"
              }
             }
            ],
            "label": "9",
            "method": "animate"
           },
           {
            "args": [
             [
              "10"
             ],
             {
              "frame": {
               "duration": 0,
               "redraw": false
              },
              "fromcurrent": true,
              "mode": "immediate",
              "transition": {
               "duration": 0,
               "easing": "linear"
              }
             }
            ],
            "label": "10",
            "method": "animate"
           },
           {
            "args": [
             [
              "11"
             ],
             {
              "frame": {
               "duration": 0,
               "redraw": false
              },
              "fromcurrent": true,
              "mode": "immediate",
              "transition": {
               "duration": 0,
               "easing": "linear"
              }
             }
            ],
            "label": "11",
            "method": "animate"
           },
           {
            "args": [
             [
              "12"
             ],
             {
              "frame": {
               "duration": 0,
               "redraw": false
              },
              "fromcurrent": true,
              "mode": "immediate",
              "transition": {
               "duration": 0,
               "easing": "linear"
              }
             }
            ],
            "label": "12",
            "method": "animate"
           },
           {
            "args": [
             [
              "13"
             ],
             {
              "frame": {
               "duration": 0,
               "redraw": false
              },
              "fromcurrent": true,
              "mode": "immediate",
              "transition": {
               "duration": 0,
               "easing": "linear"
              }
             }
            ],
            "label": "13",
            "method": "animate"
           },
           {
            "args": [
             [
              "14"
             ],
             {
              "frame": {
               "duration": 0,
               "redraw": false
              },
              "fromcurrent": true,
              "mode": "immediate",
              "transition": {
               "duration": 0,
               "easing": "linear"
              }
             }
            ],
            "label": "14",
            "method": "animate"
           },
           {
            "args": [
             [
              "15"
             ],
             {
              "frame": {
               "duration": 0,
               "redraw": false
              },
              "fromcurrent": true,
              "mode": "immediate",
              "transition": {
               "duration": 0,
               "easing": "linear"
              }
             }
            ],
            "label": "15",
            "method": "animate"
           },
           {
            "args": [
             [
              "16"
             ],
             {
              "frame": {
               "duration": 0,
               "redraw": false
              },
              "fromcurrent": true,
              "mode": "immediate",
              "transition": {
               "duration": 0,
               "easing": "linear"
              }
             }
            ],
            "label": "16",
            "method": "animate"
           },
           {
            "args": [
             [
              "17"
             ],
             {
              "frame": {
               "duration": 0,
               "redraw": false
              },
              "fromcurrent": true,
              "mode": "immediate",
              "transition": {
               "duration": 0,
               "easing": "linear"
              }
             }
            ],
            "label": "17",
            "method": "animate"
           }
          ],
          "x": 0.1,
          "xanchor": "left",
          "y": 0,
          "yanchor": "top"
         }
        ],
        "template": {
         "data": {
          "bar": [
           {
            "error_x": {
             "color": "#2a3f5f"
            },
            "error_y": {
             "color": "#2a3f5f"
            },
            "marker": {
             "line": {
              "color": "#E5ECF6",
              "width": 0.5
             },
             "pattern": {
              "fillmode": "overlay",
              "size": 10,
              "solidity": 0.2
             }
            },
            "type": "bar"
           }
          ],
          "barpolar": [
           {
            "marker": {
             "line": {
              "color": "#E5ECF6",
              "width": 0.5
             },
             "pattern": {
              "fillmode": "overlay",
              "size": 10,
              "solidity": 0.2
             }
            },
            "type": "barpolar"
           }
          ],
          "carpet": [
           {
            "aaxis": {
             "endlinecolor": "#2a3f5f",
             "gridcolor": "white",
             "linecolor": "white",
             "minorgridcolor": "white",
             "startlinecolor": "#2a3f5f"
            },
            "baxis": {
             "endlinecolor": "#2a3f5f",
             "gridcolor": "white",
             "linecolor": "white",
             "minorgridcolor": "white",
             "startlinecolor": "#2a3f5f"
            },
            "type": "carpet"
           }
          ],
          "choropleth": [
           {
            "colorbar": {
             "outlinewidth": 0,
             "ticks": ""
            },
            "type": "choropleth"
           }
          ],
          "contour": [
           {
            "colorbar": {
             "outlinewidth": 0,
             "ticks": ""
            },
            "colorscale": [
             [
              0,
              "#0d0887"
             ],
             [
              0.1111111111111111,
              "#46039f"
             ],
             [
              0.2222222222222222,
              "#7201a8"
             ],
             [
              0.3333333333333333,
              "#9c179e"
             ],
             [
              0.4444444444444444,
              "#bd3786"
             ],
             [
              0.5555555555555556,
              "#d8576b"
             ],
             [
              0.6666666666666666,
              "#ed7953"
             ],
             [
              0.7777777777777778,
              "#fb9f3a"
             ],
             [
              0.8888888888888888,
              "#fdca26"
             ],
             [
              1,
              "#f0f921"
             ]
            ],
            "type": "contour"
           }
          ],
          "contourcarpet": [
           {
            "colorbar": {
             "outlinewidth": 0,
             "ticks": ""
            },
            "type": "contourcarpet"
           }
          ],
          "heatmap": [
           {
            "colorbar": {
             "outlinewidth": 0,
             "ticks": ""
            },
            "colorscale": [
             [
              0,
              "#0d0887"
             ],
             [
              0.1111111111111111,
              "#46039f"
             ],
             [
              0.2222222222222222,
              "#7201a8"
             ],
             [
              0.3333333333333333,
              "#9c179e"
             ],
             [
              0.4444444444444444,
              "#bd3786"
             ],
             [
              0.5555555555555556,
              "#d8576b"
             ],
             [
              0.6666666666666666,
              "#ed7953"
             ],
             [
              0.7777777777777778,
              "#fb9f3a"
             ],
             [
              0.8888888888888888,
              "#fdca26"
             ],
             [
              1,
              "#f0f921"
             ]
            ],
            "type": "heatmap"
           }
          ],
          "histogram": [
           {
            "marker": {
             "pattern": {
              "fillmode": "overlay",
              "size": 10,
              "solidity": 0.2
             }
            },
            "type": "histogram"
           }
          ],
          "histogram2d": [
           {
            "colorbar": {
             "outlinewidth": 0,
             "ticks": ""
            },
            "colorscale": [
             [
              0,
              "#0d0887"
             ],
             [
              0.1111111111111111,
              "#46039f"
             ],
             [
              0.2222222222222222,
              "#7201a8"
             ],
             [
              0.3333333333333333,
              "#9c179e"
             ],
             [
              0.4444444444444444,
              "#bd3786"
             ],
             [
              0.5555555555555556,
              "#d8576b"
             ],
             [
              0.6666666666666666,
              "#ed7953"
             ],
             [
              0.7777777777777778,
              "#fb9f3a"
             ],
             [
              0.8888888888888888,
              "#fdca26"
             ],
             [
              1,
              "#f0f921"
             ]
            ],
            "type": "histogram2d"
           }
          ],
          "histogram2dcontour": [
           {
            "colorbar": {
             "outlinewidth": 0,
             "ticks": ""
            },
            "colorscale": [
             [
              0,
              "#0d0887"
             ],
             [
              0.1111111111111111,
              "#46039f"
             ],
             [
              0.2222222222222222,
              "#7201a8"
             ],
             [
              0.3333333333333333,
              "#9c179e"
             ],
             [
              0.4444444444444444,
              "#bd3786"
             ],
             [
              0.5555555555555556,
              "#d8576b"
             ],
             [
              0.6666666666666666,
              "#ed7953"
             ],
             [
              0.7777777777777778,
              "#fb9f3a"
             ],
             [
              0.8888888888888888,
              "#fdca26"
             ],
             [
              1,
              "#f0f921"
             ]
            ],
            "type": "histogram2dcontour"
           }
          ],
          "mesh3d": [
           {
            "colorbar": {
             "outlinewidth": 0,
             "ticks": ""
            },
            "type": "mesh3d"
           }
          ],
          "parcoords": [
           {
            "line": {
             "colorbar": {
              "outlinewidth": 0,
              "ticks": ""
             }
            },
            "type": "parcoords"
           }
          ],
          "pie": [
           {
            "automargin": true,
            "type": "pie"
           }
          ],
          "scatter": [
           {
            "fillpattern": {
             "fillmode": "overlay",
             "size": 10,
             "solidity": 0.2
            },
            "type": "scatter"
           }
          ],
          "scatter3d": [
           {
            "line": {
             "colorbar": {
              "outlinewidth": 0,
              "ticks": ""
             }
            },
            "marker": {
             "colorbar": {
              "outlinewidth": 0,
              "ticks": ""
             }
            },
            "type": "scatter3d"
           }
          ],
          "scattercarpet": [
           {
            "marker": {
             "colorbar": {
              "outlinewidth": 0,
              "ticks": ""
             }
            },
            "type": "scattercarpet"
           }
          ],
          "scattergeo": [
           {
            "marker": {
             "colorbar": {
              "outlinewidth": 0,
              "ticks": ""
             }
            },
            "type": "scattergeo"
           }
          ],
          "scattergl": [
           {
            "marker": {
             "colorbar": {
              "outlinewidth": 0,
              "ticks": ""
             }
            },
            "type": "scattergl"
           }
          ],
          "scattermap": [
           {
            "marker": {
             "colorbar": {
              "outlinewidth": 0,
              "ticks": ""
             }
            },
            "type": "scattermap"
           }
          ],
          "scattermapbox": [
           {
            "marker": {
             "colorbar": {
              "outlinewidth": 0,
              "ticks": ""
             }
            },
            "type": "scattermapbox"
           }
          ],
          "scatterpolar": [
           {
            "marker": {
             "colorbar": {
              "outlinewidth": 0,
              "ticks": ""
             }
            },
            "type": "scatterpolar"
           }
          ],
          "scatterpolargl": [
           {
            "marker": {
             "colorbar": {
              "outlinewidth": 0,
              "ticks": ""
             }
            },
            "type": "scatterpolargl"
           }
          ],
          "scatterternary": [
           {
            "marker": {
             "colorbar": {
              "outlinewidth": 0,
              "ticks": ""
             }
            },
            "type": "scatterternary"
           }
          ],
          "surface": [
           {
            "colorbar": {
             "outlinewidth": 0,
             "ticks": ""
            },
            "colorscale": [
             [
              0,
              "#0d0887"
             ],
             [
              0.1111111111111111,
              "#46039f"
             ],
             [
              0.2222222222222222,
              "#7201a8"
             ],
             [
              0.3333333333333333,
              "#9c179e"
             ],
             [
              0.4444444444444444,
              "#bd3786"
             ],
             [
              0.5555555555555556,
              "#d8576b"
             ],
             [
              0.6666666666666666,
              "#ed7953"
             ],
             [
              0.7777777777777778,
              "#fb9f3a"
             ],
             [
              0.8888888888888888,
              "#fdca26"
             ],
             [
              1,
              "#f0f921"
             ]
            ],
            "type": "surface"
           }
          ],
          "table": [
           {
            "cells": {
             "fill": {
              "color": "#EBF0F8"
             },
             "line": {
              "color": "white"
             }
            },
            "header": {
             "fill": {
              "color": "#C8D4E3"
             },
             "line": {
              "color": "white"
             }
            },
            "type": "table"
           }
          ]
         },
         "layout": {
          "annotationdefaults": {
           "arrowcolor": "#2a3f5f",
           "arrowhead": 0,
           "arrowwidth": 1
          },
          "autotypenumbers": "strict",
          "coloraxis": {
           "colorbar": {
            "outlinewidth": 0,
            "ticks": ""
           }
          },
          "colorscale": {
           "diverging": [
            [
             0,
             "#8e0152"
            ],
            [
             0.1,
             "#c51b7d"
            ],
            [
             0.2,
             "#de77ae"
            ],
            [
             0.3,
             "#f1b6da"
            ],
            [
             0.4,
             "#fde0ef"
            ],
            [
             0.5,
             "#f7f7f7"
            ],
            [
             0.6,
             "#e6f5d0"
            ],
            [
             0.7,
             "#b8e186"
            ],
            [
             0.8,
             "#7fbc41"
            ],
            [
             0.9,
             "#4d9221"
            ],
            [
             1,
             "#276419"
            ]
           ],
           "sequential": [
            [
             0,
             "#0d0887"
            ],
            [
             0.1111111111111111,
             "#46039f"
            ],
            [
             0.2222222222222222,
             "#7201a8"
            ],
            [
             0.3333333333333333,
             "#9c179e"
            ],
            [
             0.4444444444444444,
             "#bd3786"
            ],
            [
             0.5555555555555556,
             "#d8576b"
            ],
            [
             0.6666666666666666,
             "#ed7953"
            ],
            [
             0.7777777777777778,
             "#fb9f3a"
            ],
            [
             0.8888888888888888,
             "#fdca26"
            ],
            [
             1,
             "#f0f921"
            ]
           ],
           "sequentialminus": [
            [
             0,
             "#0d0887"
            ],
            [
             0.1111111111111111,
             "#46039f"
            ],
            [
             0.2222222222222222,
             "#7201a8"
            ],
            [
             0.3333333333333333,
             "#9c179e"
            ],
            [
             0.4444444444444444,
             "#bd3786"
            ],
            [
             0.5555555555555556,
             "#d8576b"
            ],
            [
             0.6666666666666666,
             "#ed7953"
            ],
            [
             0.7777777777777778,
             "#fb9f3a"
            ],
            [
             0.8888888888888888,
             "#fdca26"
            ],
            [
             1,
             "#f0f921"
            ]
           ]
          },
          "colorway": [
           "#636efa",
           "#EF553B",
           "#00cc96",
           "#ab63fa",
           "#FFA15A",
           "#19d3f3",
           "#FF6692",
           "#B6E880",
           "#FF97FF",
           "#FECB52"
          ],
          "font": {
           "color": "#2a3f5f"
          },
          "geo": {
           "bgcolor": "white",
           "lakecolor": "white",
           "landcolor": "#E5ECF6",
           "showlakes": true,
           "showland": true,
           "subunitcolor": "white"
          },
          "hoverlabel": {
           "align": "left"
          },
          "hovermode": "closest",
          "mapbox": {
           "style": "light"
          },
          "paper_bgcolor": "white",
          "plot_bgcolor": "#E5ECF6",
          "polar": {
           "angularaxis": {
            "gridcolor": "white",
            "linecolor": "white",
            "ticks": ""
           },
           "bgcolor": "#E5ECF6",
           "radialaxis": {
            "gridcolor": "white",
            "linecolor": "white",
            "ticks": ""
           }
          },
          "scene": {
           "xaxis": {
            "backgroundcolor": "#E5ECF6",
            "gridcolor": "white",
            "gridwidth": 2,
            "linecolor": "white",
            "showbackground": true,
            "ticks": "",
            "zerolinecolor": "white"
           },
           "yaxis": {
            "backgroundcolor": "#E5ECF6",
            "gridcolor": "white",
            "gridwidth": 2,
            "linecolor": "white",
            "showbackground": true,
            "ticks": "",
            "zerolinecolor": "white"
           },
           "zaxis": {
            "backgroundcolor": "#E5ECF6",
            "gridcolor": "white",
            "gridwidth": 2,
            "linecolor": "white",
            "showbackground": true,
            "ticks": "",
            "zerolinecolor": "white"
           }
          },
          "shapedefaults": {
           "line": {
            "color": "#2a3f5f"
           }
          },
          "ternary": {
           "aaxis": {
            "gridcolor": "white",
            "linecolor": "white",
            "ticks": ""
           },
           "baxis": {
            "gridcolor": "white",
            "linecolor": "white",
            "ticks": ""
           },
           "bgcolor": "#E5ECF6",
           "caxis": {
            "gridcolor": "white",
            "linecolor": "white",
            "ticks": ""
           }
          },
          "title": {
           "x": 0.05
          },
          "xaxis": {
           "automargin": true,
           "gridcolor": "white",
           "linecolor": "white",
           "ticks": "",
           "title": {
            "standoff": 15
           },
           "zerolinecolor": "white",
           "zerolinewidth": 2
          },
          "yaxis": {
           "automargin": true,
           "gridcolor": "white",
           "linecolor": "white",
           "ticks": "",
           "title": {
            "standoff": 15
           },
           "zerolinecolor": "white",
           "zerolinewidth": 2
          }
         }
        },
        "updatemenus": [
         {
          "buttons": [
           {
            "args": [
             null,
             {
              "frame": {
               "duration": 500,
               "redraw": false
              },
              "fromcurrent": true,
              "mode": "immediate",
              "transition": {
               "duration": 500,
               "easing": "linear"
              }
             }
            ],
            "label": "&#9654;",
            "method": "animate"
           },
           {
            "args": [
             [
              null
             ],
             {
              "frame": {
               "duration": 0,
               "redraw": false
              },
              "fromcurrent": true,
              "mode": "immediate",
              "transition": {
               "duration": 0,
               "easing": "linear"
              }
             }
            ],
            "label": "&#9724;",
            "method": "animate"
           }
          ],
          "direction": "left",
          "pad": {
           "r": 10,
           "t": 70
          },
          "showactive": false,
          "type": "buttons",
          "x": 0.1,
          "xanchor": "right",
          "y": 0,
          "yanchor": "top"
         }
        ],
        "xaxis": {
         "anchor": "y",
         "domain": [
          0,
          1
         ],
         "range": [
          -3.700274194171533,
          6.11764856402935
         ],
         "title": {
          "text": "Dimension 1"
         }
        },
        "yaxis": {
         "anchor": "x",
         "domain": [
          0,
          1
         ],
         "range": [
          -3.955278217611595,
          2.662465380050916
         ],
         "title": {
          "text": "Dimension 2"
         }
        }
       }
      }
     },
     "metadata": {},
     "output_type": "display_data"
    }
   ],
   "source": [
    "# Animated plot\n",
    "spatial_node_labels = node_labels[0:n]\n",
    "anim_fig = eb.quick_plot(emb, n, T, node_labels=spatial_node_labels)"
   ]
  },
  {
   "cell_type": "code",
   "execution_count": 8,
   "metadata": {},
   "outputs": [
    {
     "data": {
      "image/png": "[encoded data removed]",
      "text/plain": [
       "<Figure size 1000x500 with 2 Axes>"
      ]
     },
     "metadata": {},
     "output_type": "display_data"
    }
   ],
   "source": [
    "# Plot specific snapshots \n",
    "\n",
    "# Select snapshots to be shown\n",
    "points_of_interest = [0, 5]\n",
    "point_labels = [\"Classtime\", \"Lunchtime\"]\n",
    "\n",
    "# Plot the snapshots\n",
    "snap_fig = eb.snapshot_plot(\n",
    "    emb.reshape(T, n, 2),\n",
    "    node_labels = spatial_node_labels,\n",
    "    idx_of_interest = points_of_interest,\n",
    "    title=point_labels,\n",
    "    sharex = True,\n",
    "    sharey = True,\n",
    "    tick_labels = True,\n",
    "    add_legend=True,\n",
    "    cmap=\"tab20\"\n",
    ")"
   ]
  }
 ],
 "metadata": {
  "kernelspec": {
   "display_name": ".venv",
   "language": "python",
   "name": "python3"
  },
  "language_info": {
   "codemirror_mode": {
    "name": "ipython",
    "version": 3
   },
   "file_extension": ".py",
   "mimetype": "text/x-python",
   "name": "python",
   "nbconvert_exporter": "python",
   "pygments_lexer": "ipython3",
   "version": "3.12.10"
  }
 },
 "nbformat": 4,
 "nbformat_minor": 2
}
