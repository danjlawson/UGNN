{
 "cells": [
  {
   "cell_type": "code",
   "execution_count": 1,
   "metadata": {},
   "outputs": [],
   "source": [
    "# %%\n",
    "import numpy as np\n",
    "from tqdm import tqdm\n",
    "import copy\n",
    "import torch\n",
    "from data import get_school_data\n",
    "\n",
    "from ugnn.networks import Dynamic_Network, Unfolded_Network\n",
    "from ugnn.utils.masks import non_zero_degree_mask, mask_split, pad_unfolded_mask\n",
    "from ugnn.gnns import GCN, train, valid\n",
    "from ugnn.conformal import get_prediction_sets"
   ]
  },
  {
   "cell_type": "markdown",
   "metadata": {},
   "source": [
    "### Load data"
   ]
  },
  {
   "cell_type": "code",
   "execution_count": 2,
   "metadata": {},
   "outputs": [
    {
     "name": "stdout",
     "output_type": "stream",
     "text": [
      "Number of time windows: 9\n",
      "Number of nodes: 236\n"
     ]
    }
   ],
   "source": [
    "# %%\n",
    "As, node_labels, all_labels = get_school_data(return_all_labels=True)\n",
    "T = len(As)\n",
    "n = As[0].shape[0]\n",
    "num_classes = len(np.unique(node_labels))\n",
    "\n",
    "# Convert to a torch geometric dataset containing T graphs\n",
    "dyn_network = Dynamic_Network(As, node_labels)\n",
    "\n",
    "# Unfold the T graphs into a single graph\n",
    "unf_network = Unfolded_Network(dyn_network)[0]\n"
   ]
  },
  {
   "cell_type": "markdown",
   "metadata": {},
   "source": [
    "### Set up masks for the specified regime"
   ]
  },
  {
   "cell_type": "code",
   "execution_count": 3,
   "metadata": {},
   "outputs": [],
   "source": [
    "# %%\n",
    "# See https://arxiv.org/abs/2405.19230 for details on different regimes\n",
    "regime = \"temporal transductive\"\n",
    "data_mask = non_zero_degree_mask(As, n, T)\n",
    "train_mask, valid_mask, calib_mask, test_mask = mask_split(\n",
    "    data_mask, split_props=[0.2, 0.1, 0.35, 0.35], regime=regime\n",
    ")\n",
    "\n",
    "# Pad masks to include anchor nodes (required when unfolding)\n",
    "train_mask = pad_unfolded_mask(train_mask, n)\n",
    "valid_mask = pad_unfolded_mask(valid_mask, n)\n",
    "calib_mask = pad_unfolded_mask(calib_mask, n)\n",
    "test_mask = pad_unfolded_mask(test_mask, n)\n"
   ]
  },
  {
   "cell_type": "markdown",
   "metadata": {},
   "source": [
    "### Train a UGCN"
   ]
  },
  {
   "cell_type": "code",
   "execution_count": 4,
   "metadata": {},
   "outputs": [
    {
     "name": "stderr",
     "output_type": "stream",
     "text": [
      "100%|██████████| 200/200 [00:03<00:00, 52.60it/s]"
     ]
    },
    {
     "name": "stdout",
     "output_type": "stream",
     "text": [
      "Test accuracy: 0.950\n"
     ]
    },
    {
     "name": "stderr",
     "output_type": "stream",
     "text": [
      "\n"
     ]
    }
   ],
   "source": [
    "# %%\n",
    "model = GCN(\n",
    "    num_nodes=unf_network.num_nodes, num_channels=16, num_classes=num_classes, seed=123\n",
    ")\n",
    "optimizer = torch.optim.Adam(model.parameters(), lr=0.01, weight_decay=5e-4)\n",
    "\n",
    "max_valid_acc = 0\n",
    "for epoch in tqdm(range(200)):\n",
    "    _ = train(model, unf_network, train_mask, optimizer)\n",
    "    valid_acc = valid(model, unf_network, valid_mask)\n",
    "\n",
    "    if valid_acc > max_valid_acc:\n",
    "        max_valid_acc = valid_acc\n",
    "        best_model = copy.deepcopy(model)\n",
    "\n",
    "test_acc = valid(model, unf_network, test_mask)\n",
    "print(f\"Test accuracy: {test_acc:0.3f}\")\n"
   ]
  },
  {
   "cell_type": "markdown",
   "metadata": {},
   "source": [
    "### Compute conformal prediction sets"
   ]
  },
  {
   "cell_type": "markdown",
   "metadata": {},
   "source": [
    "First, let's use the Adaptive Prediction Sets (APS) method to compute conformal prediction sets. "
   ]
  },
  {
   "cell_type": "code",
   "execution_count": 5,
   "metadata": {},
   "outputs": [
    {
     "name": "stdout",
     "output_type": "stream",
     "text": [
      "Node 1937 (True label 2A): ['1B', '2A', '2B', '3A', '4B']\n",
      "Node 2168 (True label 1B): ['1B', '2A', '2B']\n",
      "Node 1735 (True label 2B): ['2A', '3A', '3B', '4A', '4B', '5A', '5B', 'Teachers']\n",
      "Node 1988 (True label 3A): ['1A', '3A', '3B', '4B', '5B']\n",
      "Node 2110 (True label 5B): ['1A', '3A', '3B', '4B']\n",
      "Node 1663 (True label 1A): []\n",
      "Node 1998 (True label 3A): ['1A', '3A', '3B']\n",
      "Node 1840 (True label 5A): ['2B', '3A', '4B', '5A', '5B', 'Teachers']\n",
      "Node 2199 (True label 2B): ['1B', '3A', '3B', '4A', '4B', '5A', '5B', 'Teachers']\n",
      "Node 2020 (True label 3B): ['4A']\n"
     ]
    }
   ],
   "source": [
    "# %%\n",
    "output = best_model(unf_network.x, unf_network.edge_index, unf_network.edge_weight)\n",
    "all_pred_sets = get_prediction_sets(\n",
    "    output, unf_network, calib_mask, test_mask, score_function=\"APS\", alpha=0.1\n",
    ")\n",
    "\n",
    "for calib_node_idx in np.random.randint(len(all_pred_sets), size=10):\n",
    "    node_pred_set = all_pred_sets[calib_node_idx]\n",
    "    node_idx = np.where(calib_mask == 1)[0][calib_node_idx]\n",
    "\n",
    "    # Convert predictions to label names\n",
    "    possible_labels_for_node = [\n",
    "        str(all_labels[pred]) for pred in np.where(node_pred_set == 1)[0]\n",
    "    ]\n",
    "    print(\n",
    "        f\"Node {node_idx} (True label {str(all_labels[unf_network.y[node_idx]])}): {possible_labels_for_node}\"\n",
    "    )"
   ]
  },
  {
   "cell_type": "markdown",
   "metadata": {},
   "source": [
    "Other methods are available, such as the Regularised Adaptive Prediction Sets (RAPS) method."
   ]
  },
  {
   "cell_type": "code",
   "execution_count": 6,
   "metadata": {},
   "outputs": [
    {
     "ename": "TypeError",
     "evalue": "sum() received an invalid combination of arguments - got (out=NoneType, axis=NoneType, ), but expected one of:\n * (*, torch.dtype dtype = None)\n      didn't match because some of the keywords were incorrect: out, axis\n * (tuple of ints dim, bool keepdim = False, *, torch.dtype dtype = None)\n * (tuple of names dim, bool keepdim = False, *, torch.dtype dtype = None)\n",
     "output_type": "error",
     "traceback": [
      "\u001b[31m---------------------------------------------------------------------------\u001b[39m",
      "\u001b[31mTypeError\u001b[39m                                 Traceback (most recent call last)",
      "\u001b[36mCell\u001b[39m\u001b[36m \u001b[39m\u001b[32mIn[6]\u001b[39m\u001b[32m, line 3\u001b[39m\n\u001b[32m      1\u001b[39m \u001b[38;5;66;03m# %%\u001b[39;00m\n\u001b[32m      2\u001b[39m output = best_model(unf_network.x, unf_network.edge_index, unf_network.edge_weight)\n\u001b[32m----> \u001b[39m\u001b[32m3\u001b[39m all_pred_sets = \u001b[43mget_prediction_sets\u001b[49m\u001b[43m(\u001b[49m\n\u001b[32m      4\u001b[39m \u001b[43m    \u001b[49m\u001b[43moutput\u001b[49m\u001b[43m,\u001b[49m\u001b[43m \u001b[49m\u001b[43munf_network\u001b[49m\u001b[43m,\u001b[49m\u001b[43m \u001b[49m\u001b[43mcalib_mask\u001b[49m\u001b[43m,\u001b[49m\u001b[43m \u001b[49m\u001b[43mtest_mask\u001b[49m\u001b[43m,\u001b[49m\u001b[43m \u001b[49m\u001b[43mscore_function\u001b[49m\u001b[43m=\u001b[49m\u001b[33;43m\"\u001b[39;49m\u001b[33;43mRAPS\u001b[39;49m\u001b[33;43m\"\u001b[39;49m\u001b[43m,\u001b[49m\u001b[43m \u001b[49m\u001b[43malpha\u001b[49m\u001b[43m=\u001b[49m\u001b[32;43m0.1\u001b[39;49m\n\u001b[32m      5\u001b[39m \u001b[43m)\u001b[49m\n\u001b[32m      7\u001b[39m \u001b[38;5;28;01mfor\u001b[39;00m calib_node_idx \u001b[38;5;129;01min\u001b[39;00m np.random.randint(\u001b[38;5;28mlen\u001b[39m(all_pred_sets), size=\u001b[32m10\u001b[39m):\n\u001b[32m      8\u001b[39m     node_pred_set = all_pred_sets[calib_node_idx]\n",
      "\u001b[36mFile \u001b[39m\u001b[32m~/Documents/UGNN/ugnn/conformal.py:71\u001b[39m, in \u001b[36mget_prediction_sets\u001b[39m\u001b[34m(output, data, calib_mask, test_mask, score_function, alpha, kreg)\u001b[39m\n\u001b[32m     67\u001b[39m initial_mask_size = torch.sum(calib_mask).item()\n\u001b[32m     68\u001b[39m \u001b[38;5;28;01mif\u001b[39;00m score_function \u001b[38;5;129;01min\u001b[39;00m [\u001b[33m\"\u001b[39m\u001b[33mRAPS\u001b[39m\u001b[33m\"\u001b[39m, \u001b[33m\"\u001b[39m\u001b[33mSAPS\u001b[39m\u001b[33m\"\u001b[39m]:\n\u001b[32m     69\u001b[39m \n\u001b[32m     70\u001b[39m     \u001b[38;5;66;03m# Split the calibration set into a calibration and validation set\u001b[39;00m\n\u001b[32m---> \u001b[39m\u001b[32m71\u001b[39m     n_calib = \u001b[43mnp\u001b[49m\u001b[43m.\u001b[49m\u001b[43msum\u001b[49m\u001b[43m(\u001b[49m\u001b[43mcalib_mask\u001b[49m\u001b[43m)\u001b[49m\n\u001b[32m     72\u001b[39m     n_valid = \u001b[38;5;28mint\u001b[39m(\u001b[32m0.2\u001b[39m * n_calib)\n\u001b[32m     74\u001b[39m     \u001b[38;5;66;03m# Get indices of the calibration set\u001b[39;00m\n",
      "\u001b[36mFile \u001b[39m\u001b[32m~/Documents/UGNN/.venv/lib/python3.13/site-packages/numpy/_core/fromnumeric.py:2466\u001b[39m, in \u001b[36msum\u001b[39m\u001b[34m(a, axis, dtype, out, keepdims, initial, where)\u001b[39m\n\u001b[32m   2463\u001b[39m         \u001b[38;5;28;01mreturn\u001b[39;00m out\n\u001b[32m   2464\u001b[39m     \u001b[38;5;28;01mreturn\u001b[39;00m res\n\u001b[32m-> \u001b[39m\u001b[32m2466\u001b[39m \u001b[38;5;28;01mreturn\u001b[39;00m \u001b[43m_wrapreduction\u001b[49m\u001b[43m(\u001b[49m\n\u001b[32m   2467\u001b[39m \u001b[43m    \u001b[49m\u001b[43ma\u001b[49m\u001b[43m,\u001b[49m\u001b[43m \u001b[49m\u001b[43mnp\u001b[49m\u001b[43m.\u001b[49m\u001b[43madd\u001b[49m\u001b[43m,\u001b[49m\u001b[43m \u001b[49m\u001b[33;43m'\u001b[39;49m\u001b[33;43msum\u001b[39;49m\u001b[33;43m'\u001b[39;49m\u001b[43m,\u001b[49m\u001b[43m \u001b[49m\u001b[43maxis\u001b[49m\u001b[43m,\u001b[49m\u001b[43m \u001b[49m\u001b[43mdtype\u001b[49m\u001b[43m,\u001b[49m\u001b[43m \u001b[49m\u001b[43mout\u001b[49m\u001b[43m,\u001b[49m\n\u001b[32m   2468\u001b[39m \u001b[43m    \u001b[49m\u001b[43mkeepdims\u001b[49m\u001b[43m=\u001b[49m\u001b[43mkeepdims\u001b[49m\u001b[43m,\u001b[49m\u001b[43m \u001b[49m\u001b[43minitial\u001b[49m\u001b[43m=\u001b[49m\u001b[43minitial\u001b[49m\u001b[43m,\u001b[49m\u001b[43m \u001b[49m\u001b[43mwhere\u001b[49m\u001b[43m=\u001b[49m\u001b[43mwhere\u001b[49m\n\u001b[32m   2469\u001b[39m \u001b[43m\u001b[49m\u001b[43m)\u001b[49m\n",
      "\u001b[36mFile \u001b[39m\u001b[32m~/Documents/UGNN/.venv/lib/python3.13/site-packages/numpy/_core/fromnumeric.py:84\u001b[39m, in \u001b[36m_wrapreduction\u001b[39m\u001b[34m(obj, ufunc, method, axis, dtype, out, **kwargs)\u001b[39m\n\u001b[32m     82\u001b[39m             \u001b[38;5;28;01mreturn\u001b[39;00m reduction(axis=axis, dtype=dtype, out=out, **passkwargs)\n\u001b[32m     83\u001b[39m         \u001b[38;5;28;01melse\u001b[39;00m:\n\u001b[32m---> \u001b[39m\u001b[32m84\u001b[39m             \u001b[38;5;28;01mreturn\u001b[39;00m \u001b[43mreduction\u001b[49m\u001b[43m(\u001b[49m\u001b[43maxis\u001b[49m\u001b[43m=\u001b[49m\u001b[43maxis\u001b[49m\u001b[43m,\u001b[49m\u001b[43m \u001b[49m\u001b[43mout\u001b[49m\u001b[43m=\u001b[49m\u001b[43mout\u001b[49m\u001b[43m,\u001b[49m\u001b[43m \u001b[49m\u001b[43m*\u001b[49m\u001b[43m*\u001b[49m\u001b[43mpasskwargs\u001b[49m\u001b[43m)\u001b[49m\n\u001b[32m     86\u001b[39m \u001b[38;5;28;01mreturn\u001b[39;00m ufunc.reduce(obj, axis, dtype, out, **passkwargs)\n",
      "\u001b[31mTypeError\u001b[39m: sum() received an invalid combination of arguments - got (out=NoneType, axis=NoneType, ), but expected one of:\n * (*, torch.dtype dtype = None)\n      didn't match because some of the keywords were incorrect: out, axis\n * (tuple of ints dim, bool keepdim = False, *, torch.dtype dtype = None)\n * (tuple of names dim, bool keepdim = False, *, torch.dtype dtype = None)\n"
     ]
    }
   ],
   "source": [
    "# %%\n",
    "output = best_model(unf_network.x, unf_network.edge_index, unf_network.edge_weight)\n",
    "all_pred_sets = get_prediction_sets(\n",
    "    output, unf_network, calib_mask, test_mask, score_function=\"RAPS\", alpha=0.1\n",
    ")\n",
    "\n",
    "for calib_node_idx in np.random.randint(len(all_pred_sets), size=10):\n",
    "    node_pred_set = all_pred_sets[calib_node_idx]\n",
    "    node_idx = np.where(calib_mask == 1)[0][calib_node_idx]\n",
    "\n",
    "    # Convert predictions to label names\n",
    "    possible_labels_for_node = [\n",
    "        str(all_labels[pred]) for pred in np.where(node_pred_set == 1)[0]\n",
    "    ]\n",
    "    print(\n",
    "        f\"Node {node_idx} (True label {str(all_labels[unf_network.y[node_idx]])}): {possible_labels_for_node}\"\n",
    "    )"
   ]
  }
 ],
 "metadata": {
  "kernelspec": {
   "display_name": ".venv",
   "language": "python",
   "name": "python3"
  },
  "language_info": {
   "codemirror_mode": {
    "name": "ipython",
    "version": 3
   },
   "file_extension": ".py",
   "mimetype": "text/x-python",
   "name": "python",
   "nbconvert_exporter": "python",
   "pygments_lexer": "ipython3",
   "version": "3.13.2"
  }
 },
 "nbformat": 4,
 "nbformat_minor": 2
}
