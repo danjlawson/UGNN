{
 "cells": [
  {
   "cell_type": "code",
   "execution_count": 1,
   "metadata": {},
   "outputs": [],
   "source": [
    "# %%\n",
    "import numpy as np\n",
    "from tqdm import tqdm\n",
    "import copy\n",
    "import torch\n",
    "from data import get_school_data\n",
    "\n",
    "from ugnn.networks import Dynamic_Network, Unfolded_Network\n",
    "from ugnn.utils.masks import non_zero_degree_mask, mask_split, pad_unfolded_mask\n",
    "from ugnn.gnns import GCN, train, valid\n",
    "from ugnn.conformal import get_prediction_sets"
   ]
  },
  {
   "cell_type": "markdown",
   "metadata": {},
   "source": [
    "### Load data"
   ]
  },
  {
   "cell_type": "code",
   "execution_count": 2,
   "metadata": {},
   "outputs": [
    {
     "name": "stdout",
     "output_type": "stream",
     "text": [
      "Number of time windows: 18\n",
      "Number of nodes: 242\n"
     ]
    }
   ],
   "source": [
    "# %%\n",
    "As, node_labels, all_labels = get_school_data(return_all_labels=True)\n",
    "T = len(As)\n",
    "n = As[0].shape[0]\n",
    "num_classes = len(np.unique(node_labels))\n",
    "\n",
    "# Convert to a torch geometric dataset containing T graphs\n",
    "dyn_network = Dynamic_Network(As, node_labels)\n",
    "\n",
    "# Unfold the T graphs into a single graph\n",
    "unf_network = Unfolded_Network(dyn_network)[0]\n"
   ]
  },
  {
   "cell_type": "markdown",
   "metadata": {},
   "source": [
    "### Set up masks for the specified regime"
   ]
  },
  {
   "cell_type": "code",
   "execution_count": 3,
   "metadata": {},
   "outputs": [],
   "source": [
    "# %%\n",
    "# See https://arxiv.org/abs/2405.19230 for details on different regimes\n",
    "regime = \"temporal transductive\"\n",
    "data_mask = non_zero_degree_mask(As, n, T)\n",
    "train_mask, valid_mask, calib_mask, test_mask = mask_split(\n",
    "    data_mask, split_props=[0.2, 0.1, 0.35, 0.35], regime=regime\n",
    ")\n",
    "\n",
    "# Pad masks to include anchor nodes (required when unfolding)\n",
    "train_mask = pad_unfolded_mask(train_mask, n)\n",
    "valid_mask = pad_unfolded_mask(valid_mask, n)\n",
    "calib_mask = pad_unfolded_mask(calib_mask, n)\n",
    "test_mask = pad_unfolded_mask(test_mask, n)\n"
   ]
  },
  {
   "cell_type": "markdown",
   "metadata": {},
   "source": [
    "### Train a UGCN"
   ]
  },
  {
   "cell_type": "code",
   "execution_count": 4,
   "metadata": {},
   "outputs": [
    {
     "name": "stderr",
     "output_type": "stream",
     "text": [
      "100%|██████████| 200/200 [00:08<00:00, 22.88it/s]"
     ]
    },
    {
     "name": "stdout",
     "output_type": "stream",
     "text": [
      "Test accuracy: 0.893\n"
     ]
    },
    {
     "name": "stderr",
     "output_type": "stream",
     "text": [
      "\n"
     ]
    }
   ],
   "source": [
    "# %%\n",
    "model = GCN(\n",
    "    num_nodes=unf_network.num_nodes, num_channels=16, num_classes=num_classes, seed=123\n",
    ")\n",
    "optimizer = torch.optim.Adam(model.parameters(), lr=0.01, weight_decay=5e-4)\n",
    "\n",
    "max_valid_acc = 0\n",
    "for epoch in tqdm(range(200)):\n",
    "    _ = train(model, unf_network, train_mask, optimizer)\n",
    "    valid_acc = valid(model, unf_network, valid_mask)\n",
    "\n",
    "    if valid_acc > max_valid_acc:\n",
    "        max_valid_acc = valid_acc\n",
    "        best_model = copy.deepcopy(model)\n",
    "\n",
    "test_acc = valid(model, unf_network, test_mask)\n",
    "print(f\"Test accuracy: {test_acc:0.3f}\")\n"
   ]
  },
  {
   "cell_type": "markdown",
   "metadata": {},
   "source": [
    "### Compute conformal prediction sets"
   ]
  },
  {
   "cell_type": "markdown",
   "metadata": {},
   "source": [
    "First, let's use the Adaptive Prediction Sets (APS) method to compute conformal prediction sets. "
   ]
  },
  {
   "cell_type": "code",
   "execution_count": 5,
   "metadata": {},
   "outputs": [
    {
     "name": "stdout",
     "output_type": "stream",
     "text": [
      "Node 4352 (True label Teachers): ['1A', '1B', '2A', '2B', '3A']\n",
      "Node 3657 (True label 1B): ['1A']\n",
      "Node 4162 (True label 2A): ['1B', '2A', '2B']\n",
      "Node 3492 (True label 3A): ['1A', '1B', '2A', '3A', '3B']\n",
      "Node 3675 (True label 1B): ['1A', '1B', '2A']\n",
      "Node 3095 (True label 5A): ['4A', '4B', '5B']\n",
      "Node 3097 (True label 5A): ['4A', '5A']\n",
      "Node 3704 (True label 2B): ['1A', '2A', '2B', '3A']\n",
      "Node 2941 (True label 1B): ['1A', '1B', '4A']\n",
      "Node 3704 (True label 2B): ['1A', '2A', '2B', '3A']\n"
     ]
    }
   ],
   "source": [
    "# %%\n",
    "output = best_model(unf_network.x, unf_network.edge_index, unf_network.edge_weight)\n",
    "all_pred_sets = get_prediction_sets(\n",
    "    output, unf_network, calib_mask, test_mask, score_function=\"APS\", alpha=0.1\n",
    ")\n",
    "\n",
    "for calib_node_idx in np.random.randint(len(all_pred_sets), size=10):\n",
    "    node_pred_set = all_pred_sets[calib_node_idx]\n",
    "    node_idx = np.where(calib_mask == 1)[0][calib_node_idx]\n",
    "\n",
    "    # Convert predictions to label names\n",
    "    possible_labels_for_node = [\n",
    "        str(all_labels[pred]) for pred in np.where(node_pred_set == 1)[0]\n",
    "    ]\n",
    "    print(\n",
    "        f\"Node {node_idx} (True label {str(all_labels[unf_network.y[node_idx]])}): {possible_labels_for_node}\"\n",
    "    )"
   ]
  },
  {
   "cell_type": "markdown",
   "metadata": {},
   "source": [
    "### Visualise the UGCN Embedding\n",
    "\n",
    "The embedding is 11-dimensional, due to there being 11 classes in this data.\n",
    "\n",
    "Let's visualise the embedding by reducing to 2D using PCA."
   ]
  },
  {
   "cell_type": "code",
   "execution_count": 6,
   "metadata": {},
   "outputs": [],
   "source": [
    "from sklearn.decomposition import PCA\n",
    "import pyemb as eb\n",
    "\n",
    "# As we're unfolding, we get both an anchor and dynamic embedding\n",
    "# Let's select the dynamic embedding\n",
    "emb = output.detach()[n:]\n",
    "\n",
    "# Reduce to 2D\n",
    "emb = PCA(n_components=2).fit_transform(emb)"
   ]
  },
  {
   "cell_type": "code",
   "execution_count": 7,
   "metadata": {},
   "outputs": [
    {
     "data": {
      "application/vnd.plotly.v1+json": {
       "config": {
        "plotlyServerURL": "https://plot.ly"
       },
       "data": [
        {
         "hovertemplate": "Label=0<br>Time=0<br>Dimension 1=%{x}<br>Dimension 2=%{y}<extra></extra>",
         "legendgroup": "0",
         "marker": {
          "color": "#636efa",
          "symbol": "circle"
         },
         "mode": "markers",
         "name": "0",
         "orientation": "v",
         "showlegend": true,
         "type": "scatter",
         "x": {
          "bdata": "YGjKlVKv/r9qSlyRW7P6v2wi8zwSgv2/pfuo6J9xAMCMjRbmACHxv2BfikLDSvi/eDGzhRwt/7+r0qc0Ebj5v8iMn2noifq/V2aG70jc+r/FbPRI1sf4v8DmyHdGSvi/aRJsCSj19r+SZN7W2Sj2v8qVzhdlXve/ws8HFQss/r9949kPG/wAwEC/KYTIXP2/gtmYpes4vD8EmGfQejm8PxqIFmoaObw/XFrMF8TM87++CA5AHmP6vw==",
          "dtype": "f8"
         },
         "xaxis": "x",
         "y": {
          "bdata": "jOWgHvly8T+I9AigB1byP1Uo0tODxPI/OFLJbqkm8T+s6SeVbtLxP5D93nZP8vE/2jHkpLA98T8++AqfZp3yP3oeCGZTH/M/Rn0i+zxy8j9FHfcuUx7yPxQgb/ORB/M/ef1qjWHr8j+sZQCa6ZfyP6oXwXWkRvI/kGFEk4aG8j/OuJxxOQjxP7LC/BwkQPI/DsBZepc1CcCcCP9QlDUJwKhQLu6VNQnA2qbfvKdJ8D/aaviGfs/yPw==",
          "dtype": "f8"
         },
         "yaxis": "y"
        },
        {
         "hovertemplate": "Label=1<br>Time=0<br>Dimension 1=%{x}<br>Dimension 2=%{y}<extra></extra>",
         "legendgroup": "1",
         "marker": {
          "color": "#EF553B",
          "symbol": "circle"
         },
         "mode": "markers",
         "name": "1",
         "orientation": "v",
         "showlegend": true,
         "type": "scatter",
         "x": {
          "bdata": "qyENF0dc9L8LdDhRKIr4v9C3Fy3xTPO/nhJa4wx//L9Ekq/SFx76v4bODQInsO6/msp8oSic9L8K1AjaMg75v7Pv00LDOPO/hZXVfGuE9b9vHFCdJ/jyvwGAPpO/4PC/q1sQiH2/9L9w7R57G9Hzv0KfZa1eEOm/TNliPvQ/8r/vK9/6stX4vxWPoN66WPW/NLdt6Nwk9b8dM+68PMD2v558grJXW+2/E5vh2COk+L9Cp540Dmjzvx4vrYh5tf2/ypdA/lRy8r8=",
          "dtype": "f8"
         },
         "xaxis": "x",
         "y": {
          "bdata": "OEcMny9Y/z9iFHJ5o+gAQP72G5JJ7v4/pNx1/e7iAUB6uEEI0zEBQFnkqIaJqfg/BbteNgMaAEAWiZyJDkIBQA8Xj7em6f4/MWUZRi2N/z8nhSxzIzD/PzvP6dn5Y/s/+Ui+abmG/j/nRjjl2w7+P5slGeEAgvY/LHB23Usu/j+2JX+MQpIBQMpzwscmlv8/Q13r55xAAEAgH7Ut6jcAQJUSpAQquvg/DmMijMjyAECA8UmZkYT/PxHjeMcOZwJApBf1DeA//j8=",
          "dtype": "f8"
         },
         "yaxis": "y"
        },
        {
         "hovertemplate": "Label=2<br>Time=0<br>Dimension 1=%{x}<br>Dimension 2=%{y}<extra></extra>",
         "legendgroup": "2",
         "marker": {
          "color": "#00cc96",
          "symbol": "circle"
         },
         "mode": "markers",
         "name": "2",
         "orientation": "v",
         "showlegend": true,
         "type": "scatter",
         "x": {
          "bdata": "Uwz+SlqL+b/yZ69VrlMBwJse34E9WPe/sG1G2mFu/L84cRFWO8v/v6qYBb/5c/m/BjuBE/f8/78qsBvPKsT8vx7dbzTmof2/po2/o3geAMDxH2EY8n74v1KK4Z9xafm/vJIZEN3T8r8CNHYl0O79v/jawsykx/m/Z8VGxO/EAMAYats/+WL5v+u+zQNAPfu/4s96U0jd/r+IgYs2SZ4AwHkGErc3Z/u/yqJTJ8o4vD9loVP+7oL0vw==",
          "dtype": "f8"
         },
         "xaxis": "x",
         "y": {
          "bdata": "IHe8Tr/H3r+Yvjdyb3v2v9REt9D1XOS/2Mth2Ewu67+w3EzfipLuvxD1P1LAqeq/8vop6sJt8L8cLQ4lWGntvxw9E1/1Req/VuV3jpVJ8r/wBYnD+hbkv1gmRIOu492/AB21frDE4L8gJAlSKVLxvzRHgJsKA+2/KlttFjwG8r9qQizTQAkAwJyzWueI7uW/JAv8P3648b+CSCAlT0z0vxje9+h05Oy/NjwFfJs1CcCk95PSOCfyvw==",
          "dtype": "f8"
         },
         "yaxis": "y"
        },
        {
         "hovertemplate": "Label=3<br>Time=0<br>Dimension 1=%{x}<br>Dimension 2=%{y}<extra></extra>",
         "legendgroup": "3",
         "marker": {
          "color": "#ab63fa",
          "symbol": "circle"
         },
         "mode": "markers",
         "name": "3",
         "orientation": "v",
         "showlegend": true,
         "type": "scatter",
         "x": {
          "bdata": "hHwIg0ph0L/eQXEOb9LUv1w7VtmOg6O/ex2yT4zPwL80FXMHeyGhP8ciHZrUJc6/gjF4ZYXEtb/imXATUB21v9xXp8a4zKC/5FvBazQ10L8ekqhQee+1v2XYePYP68+/x+K66uQ8xr8SjOgRHaG0v03iTUiKJsq/0xU8wysuxL8n6jjLjgnDv4C2u0SMSqI/OBSjIv84vD9zJoIbVH/FvzBfREqqObw/GRlhnBAkwL+whDkFTtiEP2amHbVFEri/Tq6EhaiKur8TcVPVicTNvw==",
          "dtype": "f8"
         },
         "xaxis": "x",
         "y": {
          "bdata": "WFJl6lwK6r88Lgd8iD3yv6pJirowm/G/bFfMBeWR7b+ipW7smQv6v6wuGX8Ehum/2pngiHEt9L8wkGG4AU/wvzDXQ98GA/e/whevKU0s9L9kDWRNG+rvv/RBiL0Wmvi/dAqDUE3p7L/0QaXvkoDxv4x6n6DDee6/OGti7jL+679UO5zhvUjrv+Z1nby+/fS/Jggt5Js1CcD5jG7PAMQAwIxlthuUNQnAmDo1t+nV57/UYJ9t1MDzvwyj/dQRmeu/fIJiyJXY8b8kP7JAk/7mvw==",
          "dtype": "f8"
         },
         "yaxis": "y"
        },
        {
         "hovertemplate": "Label=4<br>Time=0<br>Dimension 1=%{x}<br>Dimension 2=%{y}<extra></extra>",
         "legendgroup": "4",
         "marker": {
          "color": "#FFA15A",
          "symbol": "circle"
         },
         "mode": "markers",
         "name": "4",
         "orientation": "v",
         "showlegend": true,
         "type": "scatter",
         "x": {
          "bdata": "CaMXohmbAsDt4BX7/I/2v4cl7Ba6B/W/qPdCjdzb+b/wZSLyEx30vzvuw7gCn/m/pkMWL9DR9b+gdbtcfrL9v+9zcRtwdvG/an1ounv78r+u+qTyTSz5v1qvjIJ3B+a/BJZAgagH9r9H15o6Q8X3v+4UDw1k7/y/IhOMC2xr97+iChSTxAn5vySejsv4//6/0eOmpnvz+79dDDUlpOH6v+1mlteZKPe/3gkfFz+c9b9hwTjokoL7vw==",
          "dtype": "f8"
         },
         "xaxis": "x",
         "y": {
          "bdata": "IkQp09oK9j9mXFKKnJ7xPwvNAOzhXOs/dFiCW9g48T8ixltFim/sP0i/hiO+j/M/P5fus1iO7T+mthmgN3z0P4RDUYPNdNw/dGzBWfvZ3D84aU5AB+3zPxCKXM9LIte/nhhPQCKA8T9aOsE8tHDxP/fNPlbjOPQ/0NRpQke78T8mW96Htk3xP1mKUgpz8fM/XIWoqoXP9D91HYOBM7b1PzMujKtkvvE/PN8f/YpN1z9mbD+zoJ7zPw==",
          "dtype": "f8"
         },
         "yaxis": "y"
        },
        {
         "hovertemplate": "Label=5<br>Time=0<br>Dimension 1=%{x}<br>Dimension 2=%{y}<extra></extra>",
         "legendgroup": "5",
         "marker": {
          "color": "#19d3f3",
          "symbol": "circle"
         },
         "mode": "markers",
         "name": "5",
         "orientation": "v",
         "showlegend": true,
         "type": "scatter",
         "x": {
          "bdata": "k6xy+/vZ479EtUtUtXXSv+4k4m3Rdt+/8JvDAKq647+lsbLs84zmvzYthpq0/dy/HT43pO6Uz7/e/Co5LHvSv9tWoL5F++O/RLUChNpc2b+A183VheXSvwjyJ+1UObw/g2P8QvFHzb/gTKIFsV3Rv+AChucaBd+/SNNbhTBg2b+WyLJHfnPRv/7O4JALMNe/rjRL0gJo179mT12zIl3dv4buD/nCKNe/5lcFUIlK3L8=",
          "dtype": "f8"
         },
         "xaxis": "x",
         "y": {
          "bdata": "YCU6t2d8AUBTIkRSe1b7P6wVZhMhCf8/mA89x4o7AUDLzQlLUd4BQKri6mt+l/0/uXMv8Ex4+T9kiTRL/jz6P6H3Y/dQzwFAJrKkTKw1/z9mKf22Gyb6Pxpz/HqTNQnA3YBIXxfc8z/xhFpzqJDrPyfvHr0ANgFA4jeSsH+m/j+In3DeBwr6P/mzEOu45v4/F54hMIwKAEAlgkNiNxsAQHmEH/bnif4/GNwqTr+t/j8=",
          "dtype": "f8"
         },
         "yaxis": "y"
        },
        {
         "hovertemplate": "Label=6<br>Time=0<br>Dimension 1=%{x}<br>Dimension 2=%{y}<extra></extra>",
         "legendgroup": "6",
         "marker": {
          "color": "#FF6692",
          "symbol": "circle"
         },
         "mode": "markers",
         "name": "6",
         "orientation": "v",
         "showlegend": true,
         "type": "scatter",
         "x": {
          "bdata": "xMuq//8VBUArkptc4a8FQJWEzEXykgdAvG+pWDdCBkDEOHdHY7cGQB2JpvXe9w1ABQwWvFn4/T8B0yMJ3FEDQBts6TEPmgFALgD5ksH2CEC8GqXfqDi8P3alIRsBObw/Id2p1WYYC0D+KP/Zx6oFQFb5G4HE4ARAPFyYOnkXAkCbM/rYSK8HQCJuDR9X4gNAnAmCO8PdAkAn0/Vde0EKQMmRDr7rVwNA",
          "dtype": "f8"
         },
         "xaxis": "x",
         "y": {
          "bdata": "qKqaU2yS2T8WESv8KefhPyyzoUdNP94/oMzP2z8u4D/kZFZ9f3TbPzC3O4+1vcQ/6O3uv+XkwD/Q6tom/K/bP4DMbAaKM9g/QPo8bOGG1D9Upb2zmjUJwD6I9TeTNQnAzuUmflZn4D/wrGoU3yHdP2TveghCJ+E/wIxCR2hi1z90769wZhrZPwymKhiuNOA/DuPgwxwC4j9g6CKTrl3VP1w0AxR4zOM/",
          "dtype": "f8"
         },
         "yaxis": "y"
        },
        {
         "hovertemplate": "Label=7<br>Time=0<br>Dimension 1=%{x}<br>Dimension 2=%{y}<extra></extra>",
         "legendgroup": "7",
         "marker": {
          "color": "#B6E880",
          "symbol": "circle"
         },
         "mode": "markers",
         "name": "7",
         "orientation": "v",
         "showlegend": true,
         "type": "scatter",
         "x": {
          "bdata": "KA4TCZQt2T/kvUUJUzm8P5xa8ozMDdU/IBmvybmn1z9L+1/wo0nXPwSXCSvEBNs/HALOGnTF2T9KHFIAE/3YP/ByE1p1oMY/9ujeR2mQ0j8CirwUBhjeP4/eOzeSJ+A/yIiqiDdI1z96kglB04nOP9R6CVW0at0/vJPmeiGI0j+jsopTDFbdP4yd86kVato/xno4z0JU3T9CG9mz/Ti8P83/wCvb/NA/QqOlQ5Aw0z9bkDciVnfWPw==",
          "dtype": "f8"
         },
         "xaxis": "x",
         "y": {
          "bdata": "AM0I9uRazr/ye4AJmjUJwID83/7Z7YQ/AJinKMRwa78A1bj1oU6YP4ggibFr7t2/VINvBuoQ0r+Axr6nrWuxP1D1869Ho76/5KRePAQ90L/g9nthbSOuv+QyWO4imNW/QP8+0uFyqT/AYcJZv3XRv3CkSG+g8cA/QHzA3JeVqD/o2EqXNDDKv2inQktch8W/yMV8fWEkw7+Yu/3zlDUJwPg/XBgH9PK/rKHzBT+70b/AfMDj56PIvw==",
          "dtype": "f8"
         },
         "yaxis": "y"
        },
        {
         "hovertemplate": "Label=8<br>Time=0<br>Dimension 1=%{x}<br>Dimension 2=%{y}<extra></extra>",
         "legendgroup": "8",
         "marker": {
          "color": "#FF97FF",
          "symbol": "circle"
         },
         "mode": "markers",
         "name": "8",
         "orientation": "v",
         "showlegend": true,
         "type": "scatter",
         "x": {
          "bdata": "8sTYRovcA0AsgzoJqdoEQBUZA64mVAtA1Lq7W4K6BEAvibd0FzUJQDgmHscz+ghAHWnfBpWWDECYctWjpTm8P9h0Ul/6dQVACkhHKjs5vD/BuvsauCEDQBQDvL1KSQRAuUDYVkKdCEAJi0Z51xQAQIpcVrHDeQFAd2ReCruh/z9F/8oF5uEDQB91mgBpoAhA6eFP5vJHCEB7WIVg4zkFQMtPdXc0ogRAJAW+2CzsA0A=",
          "dtype": "f8"
         },
         "xaxis": "x",
         "y": {
          "bdata": "n9Uiv6fb/T/fX7UXA+P9PxYESFB/bfo/oplpg99A9j8SiDwJ8uzyP2zN7GyPG/U/xiICV1lw9z9M0Rt3kzUJwDAdEJIbhMQ/XBldGZc1CcC/E3zpVEP0PxtjKGO1gv4/EC0bl3vC/T9PUpyxvvP2P5fcTJp2afg/EizqBW0M/D+9kybiBTT+P7F+E/F0hPA/SGzIx9oQ+j9Thc1jvZv6P7XQoDoPk/8/cyEw9uiO/T8=",
          "dtype": "f8"
         },
         "yaxis": "y"
        },
        {
         "hovertemplate": "Label=9<br>Time=0<br>Dimension 1=%{x}<br>Dimension 2=%{y}<extra></extra>",
         "legendgroup": "9",
         "marker": {
          "color": "#FECB52",
          "symbol": "circle"
         },
         "mode": "markers",
         "name": "9",
         "orientation": "v",
         "showlegend": true,
         "type": "scatter",
         "x": {
          "bdata": "N4BaX9cIC0AIFpy7bysIQFOLIqRDHQhAFAtQbQm2AkBIhxe6ZZ0BQJoMTjz/JAFAs0aPgDVp+z+rhN3BRPsMQP0rZzba4QVAl2RCsmnaAkCL+tdvi6kBQODxct9bRABAAcXYQNvQAkBZVNTOT5sJQK6Qq/ya9gNATsnISeddCEBZ/e7CcDUGQK8/8Dg/hQJAdILXeQg5vD8RHiNvoSP/PyzszOJuywBAz7qdqTaUAEDVWM7eHgACQCoOerCplwNA",
          "dtype": "f8"
         },
         "xaxis": "x",
         "y": {
          "bdata": "5ucW9zOr4j9mBIaNdN72P0awKenskvQ/6e7CmdDb5T9c+GmOP2jgPzA+i6qiLbk/EKp8vu1N0b8oik7R5O/cPzxRhbbCM/A/8ENa+rBu1z81qQpNQLnzP2mAxlnZNuc/UEFU8iHj3z8/xLmKEGHpP2/T4KP4qfw/5oHoLwZe9D9gXN68JQPTPxQ+/fs6Eeo/pmVL5Zo1CcCQidP/Mau4P+iUgjBZ+Mq/7oxvIEmY9T8guvT5WsLVP7K8mycvJeE/",
          "dtype": "f8"
         },
         "yaxis": "y"
        },
        {
         "hovertemplate": "Label=10<br>Time=0<br>Dimension 1=%{x}<br>Dimension 2=%{y}<extra></extra>",
         "legendgroup": "10",
         "marker": {
          "color": "#636efa",
          "symbol": "circle"
         },
         "mode": "markers",
         "name": "10",
         "orientation": "v",
         "showlegend": true,
         "type": "scatter",
         "x": {
          "bdata": "i51fjJxtBsAcKnCI8l4LQIBkRWhSsQDA6kovNA31DUBAlBZwibj7v0QQUipxAAFAYVJt5oGQ9r+StfhIEKDUv4bX3kMDObw/jD0AxGEi2b8=",
          "dtype": "f8"
         },
         "xaxis": "x",
         "y": {
          "bdata": "4C605hxFAMDuWRDMmufuP1SzqKatwgJAVLBsvahj0T+yqcUmdPHyP+R1FxfRqeI/2n9KJPY98T+um/Kz42gBwM4KsumZNQnAWmLyKQBE/z8=",
          "dtype": "f8"
         },
         "yaxis": "y"
        }
       ],
       "frames": [
        {
         "data": [
          {
           "hovertemplate": "Label=0<br>Time=0<br>Dimension 1=%{x}<br>Dimension 2=%{y}<extra></extra>",
           "legendgroup": "0",
           "marker": {
            "color": "#636efa",
            "symbol": "circle"
           },
           "mode": "markers",
           "name": "0",
           "orientation": "v",
           "showlegend": true,
           "type": "scatter",
           "x": {
            "bdata": "YGjKlVKv/r9qSlyRW7P6v2wi8zwSgv2/pfuo6J9xAMCMjRbmACHxv2BfikLDSvi/eDGzhRwt/7+r0qc0Ebj5v8iMn2noifq/V2aG70jc+r/FbPRI1sf4v8DmyHdGSvi/aRJsCSj19r+SZN7W2Sj2v8qVzhdlXve/ws8HFQss/r9949kPG/wAwEC/KYTIXP2/gtmYpes4vD8EmGfQejm8PxqIFmoaObw/XFrMF8TM87++CA5AHmP6vw==",
            "dtype": "f8"
           },
           "xaxis": "x",
           "y": {
            "bdata": "jOWgHvly8T+I9AigB1byP1Uo0tODxPI/OFLJbqkm8T+s6SeVbtLxP5D93nZP8vE/2jHkpLA98T8++AqfZp3yP3oeCGZTH/M/Rn0i+zxy8j9FHfcuUx7yPxQgb/ORB/M/ef1qjWHr8j+sZQCa6ZfyP6oXwXWkRvI/kGFEk4aG8j/OuJxxOQjxP7LC/BwkQPI/DsBZepc1CcCcCP9QlDUJwKhQLu6VNQnA2qbfvKdJ8D/aaviGfs/yPw==",
            "dtype": "f8"
           },
           "yaxis": "y"
          },
          {
           "hovertemplate": "Label=1<br>Time=0<br>Dimension 1=%{x}<br>Dimension 2=%{y}<extra></extra>",
           "legendgroup": "1",
           "marker": {
            "color": "#EF553B",
            "symbol": "circle"
           },
           "mode": "markers",
           "name": "1",
           "orientation": "v",
           "showlegend": true,
           "type": "scatter",
           "x": {
            "bdata": "qyENF0dc9L8LdDhRKIr4v9C3Fy3xTPO/nhJa4wx//L9Ekq/SFx76v4bODQInsO6/msp8oSic9L8K1AjaMg75v7Pv00LDOPO/hZXVfGuE9b9vHFCdJ/jyvwGAPpO/4PC/q1sQiH2/9L9w7R57G9Hzv0KfZa1eEOm/TNliPvQ/8r/vK9/6stX4vxWPoN66WPW/NLdt6Nwk9b8dM+68PMD2v558grJXW+2/E5vh2COk+L9Cp540Dmjzvx4vrYh5tf2/ypdA/lRy8r8=",
            "dtype": "f8"
           },
           "xaxis": "x",
           "y": {
            "bdata": "OEcMny9Y/z9iFHJ5o+gAQP72G5JJ7v4/pNx1/e7iAUB6uEEI0zEBQFnkqIaJqfg/BbteNgMaAEAWiZyJDkIBQA8Xj7em6f4/MWUZRi2N/z8nhSxzIzD/PzvP6dn5Y/s/+Ui+abmG/j/nRjjl2w7+P5slGeEAgvY/LHB23Usu/j+2JX+MQpIBQMpzwscmlv8/Q13r55xAAEAgH7Ut6jcAQJUSpAQquvg/DmMijMjyAECA8UmZkYT/PxHjeMcOZwJApBf1DeA//j8=",
            "dtype": "f8"
           },
           "yaxis": "y"
          },
          {
           "hovertemplate": "Label=2<br>Time=0<br>Dimension 1=%{x}<br>Dimension 2=%{y}<extra></extra>",
           "legendgroup": "2",
           "marker": {
            "color": "#00cc96",
            "symbol": "circle"
           },
           "mode": "markers",
           "name": "2",
           "orientation": "v",
           "showlegend": true,
           "type": "scatter",
           "x": {
            "bdata": "Uwz+SlqL+b/yZ69VrlMBwJse34E9WPe/sG1G2mFu/L84cRFWO8v/v6qYBb/5c/m/BjuBE/f8/78qsBvPKsT8vx7dbzTmof2/po2/o3geAMDxH2EY8n74v1KK4Z9xafm/vJIZEN3T8r8CNHYl0O79v/jawsykx/m/Z8VGxO/EAMAYats/+WL5v+u+zQNAPfu/4s96U0jd/r+IgYs2SZ4AwHkGErc3Z/u/yqJTJ8o4vD9loVP+7oL0vw==",
            "dtype": "f8"
           },
           "xaxis": "x",
           "y": {
            "bdata": "IHe8Tr/H3r+Yvjdyb3v2v9REt9D1XOS/2Mth2Ewu67+w3EzfipLuvxD1P1LAqeq/8vop6sJt8L8cLQ4lWGntvxw9E1/1Req/VuV3jpVJ8r/wBYnD+hbkv1gmRIOu492/AB21frDE4L8gJAlSKVLxvzRHgJsKA+2/KlttFjwG8r9qQizTQAkAwJyzWueI7uW/JAv8P3648b+CSCAlT0z0vxje9+h05Oy/NjwFfJs1CcCk95PSOCfyvw==",
            "dtype": "f8"
           },
           "yaxis": "y"
          },
          {
           "hovertemplate": "Label=3<br>Time=0<br>Dimension 1=%{x}<br>Dimension 2=%{y}<extra></extra>",
           "legendgroup": "3",
           "marker": {
            "color": "#ab63fa",
            "symbol": "circle"
           },
           "mode": "markers",
           "name": "3",
           "orientation": "v",
           "showlegend": true,
           "type": "scatter",
           "x": {
            "bdata": "hHwIg0ph0L/eQXEOb9LUv1w7VtmOg6O/ex2yT4zPwL80FXMHeyGhP8ciHZrUJc6/gjF4ZYXEtb/imXATUB21v9xXp8a4zKC/5FvBazQ10L8ekqhQee+1v2XYePYP68+/x+K66uQ8xr8SjOgRHaG0v03iTUiKJsq/0xU8wysuxL8n6jjLjgnDv4C2u0SMSqI/OBSjIv84vD9zJoIbVH/FvzBfREqqObw/GRlhnBAkwL+whDkFTtiEP2amHbVFEri/Tq6EhaiKur8TcVPVicTNvw==",
            "dtype": "f8"
           },
           "xaxis": "x",
           "y": {
            "bdata": "WFJl6lwK6r88Lgd8iD3yv6pJirowm/G/bFfMBeWR7b+ipW7smQv6v6wuGX8Ehum/2pngiHEt9L8wkGG4AU/wvzDXQ98GA/e/whevKU0s9L9kDWRNG+rvv/RBiL0Wmvi/dAqDUE3p7L/0QaXvkoDxv4x6n6DDee6/OGti7jL+679UO5zhvUjrv+Z1nby+/fS/Jggt5Js1CcD5jG7PAMQAwIxlthuUNQnAmDo1t+nV57/UYJ9t1MDzvwyj/dQRmeu/fIJiyJXY8b8kP7JAk/7mvw==",
            "dtype": "f8"
           },
           "yaxis": "y"
          },
          {
           "hovertemplate": "Label=4<br>Time=0<br>Dimension 1=%{x}<br>Dimension 2=%{y}<extra></extra>",
           "legendgroup": "4",
           "marker": {
            "color": "#FFA15A",
            "symbol": "circle"
           },
           "mode": "markers",
           "name": "4",
           "orientation": "v",
           "showlegend": true,
           "type": "scatter",
           "x": {
            "bdata": "CaMXohmbAsDt4BX7/I/2v4cl7Ba6B/W/qPdCjdzb+b/wZSLyEx30vzvuw7gCn/m/pkMWL9DR9b+gdbtcfrL9v+9zcRtwdvG/an1ounv78r+u+qTyTSz5v1qvjIJ3B+a/BJZAgagH9r9H15o6Q8X3v+4UDw1k7/y/IhOMC2xr97+iChSTxAn5vySejsv4//6/0eOmpnvz+79dDDUlpOH6v+1mlteZKPe/3gkfFz+c9b9hwTjokoL7vw==",
            "dtype": "f8"
           },
           "xaxis": "x",
           "y": {
            "bdata": "IkQp09oK9j9mXFKKnJ7xPwvNAOzhXOs/dFiCW9g48T8ixltFim/sP0i/hiO+j/M/P5fus1iO7T+mthmgN3z0P4RDUYPNdNw/dGzBWfvZ3D84aU5AB+3zPxCKXM9LIte/nhhPQCKA8T9aOsE8tHDxP/fNPlbjOPQ/0NRpQke78T8mW96Htk3xP1mKUgpz8fM/XIWoqoXP9D91HYOBM7b1PzMujKtkvvE/PN8f/YpN1z9mbD+zoJ7zPw==",
            "dtype": "f8"
           },
           "yaxis": "y"
          },
          {
           "hovertemplate": "Label=5<br>Time=0<br>Dimension 1=%{x}<br>Dimension 2=%{y}<extra></extra>",
           "legendgroup": "5",
           "marker": {
            "color": "#19d3f3",
            "symbol": "circle"
           },
           "mode": "markers",
           "name": "5",
           "orientation": "v",
           "showlegend": true,
           "type": "scatter",
           "x": {
            "bdata": "k6xy+/vZ479EtUtUtXXSv+4k4m3Rdt+/8JvDAKq647+lsbLs84zmvzYthpq0/dy/HT43pO6Uz7/e/Co5LHvSv9tWoL5F++O/RLUChNpc2b+A183VheXSvwjyJ+1UObw/g2P8QvFHzb/gTKIFsV3Rv+AChucaBd+/SNNbhTBg2b+WyLJHfnPRv/7O4JALMNe/rjRL0gJo179mT12zIl3dv4buD/nCKNe/5lcFUIlK3L8=",
            "dtype": "f8"
           },
           "xaxis": "x",
           "y": {
            "bdata": "YCU6t2d8AUBTIkRSe1b7P6wVZhMhCf8/mA89x4o7AUDLzQlLUd4BQKri6mt+l/0/uXMv8Ex4+T9kiTRL/jz6P6H3Y/dQzwFAJrKkTKw1/z9mKf22Gyb6Pxpz/HqTNQnA3YBIXxfc8z/xhFpzqJDrPyfvHr0ANgFA4jeSsH+m/j+In3DeBwr6P/mzEOu45v4/F54hMIwKAEAlgkNiNxsAQHmEH/bnif4/GNwqTr+t/j8=",
            "dtype": "f8"
           },
           "yaxis": "y"
          },
          {
           "hovertemplate": "Label=6<br>Time=0<br>Dimension 1=%{x}<br>Dimension 2=%{y}<extra></extra>",
           "legendgroup": "6",
           "marker": {
            "color": "#FF6692",
            "symbol": "circle"
           },
           "mode": "markers",
           "name": "6",
           "orientation": "v",
           "showlegend": true,
           "type": "scatter",
           "x": {
            "bdata": "xMuq//8VBUArkptc4a8FQJWEzEXykgdAvG+pWDdCBkDEOHdHY7cGQB2JpvXe9w1ABQwWvFn4/T8B0yMJ3FEDQBts6TEPmgFALgD5ksH2CEC8GqXfqDi8P3alIRsBObw/Id2p1WYYC0D+KP/Zx6oFQFb5G4HE4ARAPFyYOnkXAkCbM/rYSK8HQCJuDR9X4gNAnAmCO8PdAkAn0/Vde0EKQMmRDr7rVwNA",
            "dtype": "f8"
           },
           "xaxis": "x",
           "y": {
            "bdata": "qKqaU2yS2T8WESv8KefhPyyzoUdNP94/oMzP2z8u4D/kZFZ9f3TbPzC3O4+1vcQ/6O3uv+XkwD/Q6tom/K/bP4DMbAaKM9g/QPo8bOGG1D9Upb2zmjUJwD6I9TeTNQnAzuUmflZn4D/wrGoU3yHdP2TveghCJ+E/wIxCR2hi1z90769wZhrZPwymKhiuNOA/DuPgwxwC4j9g6CKTrl3VP1w0AxR4zOM/",
            "dtype": "f8"
           },
           "yaxis": "y"
          },
          {
           "hovertemplate": "Label=7<br>Time=0<br>Dimension 1=%{x}<br>Dimension 2=%{y}<extra></extra>",
           "legendgroup": "7",
           "marker": {
            "color": "#B6E880",
            "symbol": "circle"
           },
           "mode": "markers",
           "name": "7",
           "orientation": "v",
           "showlegend": true,
           "type": "scatter",
           "x": {
            "bdata": "KA4TCZQt2T/kvUUJUzm8P5xa8ozMDdU/IBmvybmn1z9L+1/wo0nXPwSXCSvEBNs/HALOGnTF2T9KHFIAE/3YP/ByE1p1oMY/9ujeR2mQ0j8CirwUBhjeP4/eOzeSJ+A/yIiqiDdI1z96kglB04nOP9R6CVW0at0/vJPmeiGI0j+jsopTDFbdP4yd86kVato/xno4z0JU3T9CG9mz/Ti8P83/wCvb/NA/QqOlQ5Aw0z9bkDciVnfWPw==",
            "dtype": "f8"
           },
           "xaxis": "x",
           "y": {
            "bdata": "AM0I9uRazr/ye4AJmjUJwID83/7Z7YQ/AJinKMRwa78A1bj1oU6YP4ggibFr7t2/VINvBuoQ0r+Axr6nrWuxP1D1869Ho76/5KRePAQ90L/g9nthbSOuv+QyWO4imNW/QP8+0uFyqT/AYcJZv3XRv3CkSG+g8cA/QHzA3JeVqD/o2EqXNDDKv2inQktch8W/yMV8fWEkw7+Yu/3zlDUJwPg/XBgH9PK/rKHzBT+70b/AfMDj56PIvw==",
            "dtype": "f8"
           },
           "yaxis": "y"
          },
          {
           "hovertemplate": "Label=8<br>Time=0<br>Dimension 1=%{x}<br>Dimension 2=%{y}<extra></extra>",
           "legendgroup": "8",
           "marker": {
            "color": "#FF97FF",
            "symbol": "circle"
           },
           "mode": "markers",
           "name": "8",
           "orientation": "v",
           "showlegend": true,
           "type": "scatter",
           "x": {
            "bdata": "8sTYRovcA0AsgzoJqdoEQBUZA64mVAtA1Lq7W4K6BEAvibd0FzUJQDgmHscz+ghAHWnfBpWWDECYctWjpTm8P9h0Ul/6dQVACkhHKjs5vD/BuvsauCEDQBQDvL1KSQRAuUDYVkKdCEAJi0Z51xQAQIpcVrHDeQFAd2ReCruh/z9F/8oF5uEDQB91mgBpoAhA6eFP5vJHCEB7WIVg4zkFQMtPdXc0ogRAJAW+2CzsA0A=",
            "dtype": "f8"
           },
           "xaxis": "x",
           "y": {
            "bdata": "n9Uiv6fb/T/fX7UXA+P9PxYESFB/bfo/oplpg99A9j8SiDwJ8uzyP2zN7GyPG/U/xiICV1lw9z9M0Rt3kzUJwDAdEJIbhMQ/XBldGZc1CcC/E3zpVEP0PxtjKGO1gv4/EC0bl3vC/T9PUpyxvvP2P5fcTJp2afg/EizqBW0M/D+9kybiBTT+P7F+E/F0hPA/SGzIx9oQ+j9Thc1jvZv6P7XQoDoPk/8/cyEw9uiO/T8=",
            "dtype": "f8"
           },
           "yaxis": "y"
          },
          {
           "hovertemplate": "Label=9<br>Time=0<br>Dimension 1=%{x}<br>Dimension 2=%{y}<extra></extra>",
           "legendgroup": "9",
           "marker": {
            "color": "#FECB52",
            "symbol": "circle"
           },
           "mode": "markers",
           "name": "9",
           "orientation": "v",
           "showlegend": true,
           "type": "scatter",
           "x": {
            "bdata": "N4BaX9cIC0AIFpy7bysIQFOLIqRDHQhAFAtQbQm2AkBIhxe6ZZ0BQJoMTjz/JAFAs0aPgDVp+z+rhN3BRPsMQP0rZzba4QVAl2RCsmnaAkCL+tdvi6kBQODxct9bRABAAcXYQNvQAkBZVNTOT5sJQK6Qq/ya9gNATsnISeddCEBZ/e7CcDUGQK8/8Dg/hQJAdILXeQg5vD8RHiNvoSP/PyzszOJuywBAz7qdqTaUAEDVWM7eHgACQCoOerCplwNA",
            "dtype": "f8"
           },
           "xaxis": "x",
           "y": {
            "bdata": "5ucW9zOr4j9mBIaNdN72P0awKenskvQ/6e7CmdDb5T9c+GmOP2jgPzA+i6qiLbk/EKp8vu1N0b8oik7R5O/cPzxRhbbCM/A/8ENa+rBu1z81qQpNQLnzP2mAxlnZNuc/UEFU8iHj3z8/xLmKEGHpP2/T4KP4qfw/5oHoLwZe9D9gXN68JQPTPxQ+/fs6Eeo/pmVL5Zo1CcCQidP/Mau4P+iUgjBZ+Mq/7oxvIEmY9T8guvT5WsLVP7K8mycvJeE/",
            "dtype": "f8"
           },
           "yaxis": "y"
          },
          {
           "hovertemplate": "Label=10<br>Time=0<br>Dimension 1=%{x}<br>Dimension 2=%{y}<extra></extra>",
           "legendgroup": "10",
           "marker": {
            "color": "#636efa",
            "symbol": "circle"
           },
           "mode": "markers",
           "name": "10",
           "orientation": "v",
           "showlegend": true,
           "type": "scatter",
           "x": {
            "bdata": "i51fjJxtBsAcKnCI8l4LQIBkRWhSsQDA6kovNA31DUBAlBZwibj7v0QQUipxAAFAYVJt5oGQ9r+StfhIEKDUv4bX3kMDObw/jD0AxGEi2b8=",
            "dtype": "f8"
           },
           "xaxis": "x",
           "y": {
            "bdata": "4C605hxFAMDuWRDMmufuP1SzqKatwgJAVLBsvahj0T+yqcUmdPHyP+R1FxfRqeI/2n9KJPY98T+um/Kz42gBwM4KsumZNQnAWmLyKQBE/z8=",
            "dtype": "f8"
           },
           "yaxis": "y"
          }
         ],
         "name": "0"
        },
        {
         "data": [
          {
           "hovertemplate": "Label=0<br>Time=1<br>Dimension 1=%{x}<br>Dimension 2=%{y}<extra></extra>",
           "legendgroup": "0",
           "marker": {
            "color": "#636efa",
            "symbol": "circle"
           },
           "mode": "markers",
           "name": "0",
           "orientation": "v",
           "showlegend": true,
           "type": "scatter",
           "x": {
            "bdata": "117eSoKC9r8mVdObBSP8vxK9TrmG0Pu/0pFR7yhG9L/B2GqdbWb1vwjyqeJqOP+/xJYUnkQw/r+dTbPWlTD2vzpPKvM8+vO/jYgq+pvg9r9u+ualdiL1vzHgn0BPH/C/QrYiZHsd9r/aRJbmjyr2v6HkM7+aBPK/8XLj0Z1Z+b/mQaqLAurvvw0w8gwbvvi/Fm8Wils5vD+OrF5L+Di8P3aPp7k5Obw/J/44qUWr87+/0zcagrP4vw==",
            "dtype": "f8"
           },
           "xaxis": "x",
           "y": {
            "bdata": "IOImNk0N8j/LnkcL5NryPyBN33KnJPI/UmK9f09H8T8yuFvCy4LyP1efcGafWfE/bWIaXKdM8j/mg/ZYCSjwPzQTRs4HYPI/5N+ElPQI8T/KTTyaMALvPzQM/ZgcLPA/mkaEmWJU8j/IahTCTc3yPyOdDZQL0fE/X1P4AXk48j/xlE5Jl//pP7aQdbUJjPI/gAU75Zc1CcCSRWdMmDUJwBAPb5OZNQnArhixkgtb8D9rTM2nEeXxPw==",
            "dtype": "f8"
           },
           "yaxis": "y"
          },
          {
           "hovertemplate": "Label=1<br>Time=1<br>Dimension 1=%{x}<br>Dimension 2=%{y}<extra></extra>",
           "legendgroup": "1",
           "marker": {
            "color": "#EF553B",
            "symbol": "circle"
           },
           "mode": "markers",
           "name": "1",
           "orientation": "v",
           "showlegend": true,
           "type": "scatter",
           "x": {
            "bdata": "e9BG9dz1+7+B+olyGQL7v9cHhV7gPPe/P5kXgMuY978YSixwEIj8v8gKHfzyFPS/PnBO1YhDAcBvfxnVs+j7v/Ab00vC1v+//Nwy2isJ/7+X4OaO/r3zvzb/yWW8Sv2/xoaedAkv+L/xFscmTVL4v0l5GwIqiADAcmeL9lDq/L8dO1pYIA78vwgb4uj2I/2/owwQ+x1y+7+K69dW/4ICwO5d+c/0SPa/cqm7W062/b8nqcbLVpv7v+LHQgKL5gHABNA+7ZFMAcA=",
            "dtype": "f8"
           },
           "xaxis": "x",
           "y": {
            "bdata": "ZOQft7UE9D9d5E49NJTuP+GfN+Ucqvk/s1QYMeEQ8z9XeIjZr4L/P5v+8mIEufI/lAgfNTDP8D8YkoCm8dv3Pyh18u56o/c/0C8DUJNf8j/EXDvMa0riP7fF8G5g+v4/6EEx3alZ9T/RbsHAgSPwP4AInNVMQPo/HqY3YFS69z/m9DUSA8fyP7rTQprXkOM/gN+9kl5ZAEBk2Ru759f2P/6HOE7Ex/M/hiPqVTi3+D+PNP1MO6L6P/rZlxO9Ffo/vdQj4Q5LAUA=",
            "dtype": "f8"
           },
           "yaxis": "y"
          },
          {
           "hovertemplate": "Label=2<br>Time=1<br>Dimension 1=%{x}<br>Dimension 2=%{y}<extra></extra>",
           "legendgroup": "2",
           "marker": {
            "color": "#00cc96",
            "symbol": "circle"
           },
           "mode": "markers",
           "name": "2",
           "orientation": "v",
           "showlegend": true,
           "type": "scatter",
           "x": {
            "bdata": "/+PRKtFV9L+xFrP1b5rwv6hUGG/DgeS/xNJJVvtB67+pPVGl6vn0v/TxhPKa5O2/COQ7OMGU9L+edvM5zckBwBFHVVljo/O/s6VTv0G187/0qWdaFd7sv23qFLjhKPa/BuVihcsP9L8yVdBQEKj0v6w+d7dAQvW/TXBVgClL9r/kIcFWh/nrv48J+D0xOfS/Muj+S005vD86ObxQ7+/xv5oA9TJdYPK/ehfKc0U5vD+8/nCgAibvvw==",
            "dtype": "f8"
           },
           "xaxis": "x",
           "y": {
            "bdata": "KBbGIbJK378I8a6htWPev249lnBYbPa/1DaxVvFe6b+UDhyD2yXiv9wk28MrGe6/sFvLZfS+4L9IAlQSZFwDwEwJUG04QOG/gE0XBsOp3r+EJLwsQtfpv/iWuLA1qty/EDN2H2lV4b9mE3w9dZjyv1SDlxyKAui/8ACuUg5i37+MdfE7MMLmv4y8evwcFeC//JtVr5w1CcCYmseSZqbLvxD7NTV50cq/0BYKMJk1CcD+ABgwRSfwvw==",
            "dtype": "f8"
           },
           "yaxis": "y"
          },
          {
           "hovertemplate": "Label=3<br>Time=1<br>Dimension 1=%{x}<br>Dimension 2=%{y}<extra></extra>",
           "legendgroup": "3",
           "marker": {
            "color": "#ab63fa",
            "symbol": "circle"
           },
           "mode": "markers",
           "name": "3",
           "orientation": "v",
           "showlegend": true,
           "type": "scatter",
           "x": {
            "bdata": "mHsTHByC7L/GswhQfDTEP/VFBH5pMvC/aBhpwRXZmT9EVkscwQDlv1hyM4De0eS/rUCkBQJk478d3uTZwaXhv2SYw5J24uu/hEa2UrKIuz/oDAFvjx7av3R6Ve666uy/cl8yvJz49L+q3h0zmfjYv8KzNi6c3u+/BlPfto8W0j9xGP8Hh/X1vw2TryeAYsQ/0hQn9IY90r8zbXIUCOHlv65qJvwiObw/+pD7pKDL4L9jaIvB1Mfnv5KQJn19OfC/qh1qGRIy6L9MStBR35/rvw==",
            "dtype": "f8"
           },
           "xaxis": "x",
           "y": {
            "bdata": "OFbKT6af5b8mKaeAWfICwHZdqb7EpPO/lLsE9Dj4AsDPEyhHltUAwPTlGvaMV/q/XAcCJgWU97/4mjR2OmTEP1j+OOAzBQDANuUtneg3BMDC3+yNT8L9v67pNLjAoP6/tj2HAhgA9r/D7ltWTckAwLRvSafZY/y/ZjQnTLH2/b8OFCHueZv8v/Dt/y/DjP6/mPPBFq0u7L9CnDxdEmD3v+BegSCZNQnAlkf25+6T/L9i58eOt0Pzv8bH272DAPS/TLSnoyE8/78kLNoTUDr8vw==",
            "dtype": "f8"
           },
           "yaxis": "y"
          },
          {
           "hovertemplate": "Label=4<br>Time=1<br>Dimension 1=%{x}<br>Dimension 2=%{y}<extra></extra>",
           "legendgroup": "4",
           "marker": {
            "color": "#FFA15A",
            "symbol": "circle"
           },
           "mode": "markers",
           "name": "4",
           "orientation": "v",
           "showlegend": true,
           "type": "scatter",
           "x": {
            "bdata": "cKIieJd8AcChEibRkA0BwIBqLBbaBf+/0lyN0G58BMDcuuQKFi4BwIu5I6c3yATATFi+nuCv/L+k/tqIOPkEwH+imqIhXPm/+MoVl8Wb/r9jClkPiPYEwDBzy/xlOQLA6Hbu/nWd+r/Z5RcE2an7v7FMLmDWTwDAD4TQgf9x+L+v5GayoA8EwGI2pB9brPq/aFDkbMcfAMCNKn/x2eoEwPkchjnwifu/co8TIJg29b8tSguHV9QGwA==",
            "dtype": "f8"
           },
           "xaxis": "x",
           "y": {
            "bdata": "FqlHpp/h9T9MWsEFYPr2PyZgL9V5R/c/+IK0bO5d9j9wwtDq0nH2PxBj2LWHTvc/E247g3EX9j+2nL+Uku32P5BU4l9i9/A/BvL9oegG9z/iEbRmQsv2P2SYbzzmHvc/EcocEyGt8z+dZxx0X+H0P3H5OKIa2fY/uB5/HMBe8z9oUXoXxgH3P/OdPz6EEvU/wBUJct419j/0QYsyU7n2P1Kh5J5d7fQ/PIeKCGNe6z/mvQ+5O2T2Pw==",
            "dtype": "f8"
           },
           "yaxis": "y"
          },
          {
           "hovertemplate": "Label=5<br>Time=1<br>Dimension 1=%{x}<br>Dimension 2=%{y}<extra></extra>",
           "legendgroup": "5",
           "marker": {
            "color": "#19d3f3",
            "symbol": "circle"
           },
           "mode": "markers",
           "name": "5",
           "orientation": "v",
           "showlegend": true,
           "type": "scatter",
           "x": {
            "bdata": "rRhd0F6Z5b84mXzA9I3Sv+H7MWuj1Oa/WjK9wYmA7L8aSDOocijqv94cVthFVOS/DhR63pLw6b9GphR+4d/XvwDplazA6OG/v+C9yu4b4r/fwoYNq5Plvz64muADObw/sRWrt8A357/oBt6FK/zfvxRzrj7mZOi/UpE2WLD96b82b3XiDZjrv+YJujVXyeO/kNmwE9Zw1L+YTY36/aHiv2Ha1GfprfG/qNb+w+Kw6L8=",
            "dtype": "f8"
           },
           "xaxis": "x",
           "y": {
            "bdata": "+QK58O+sAUB4UcRV2nD2P0hHNNGu8gBAc5KxVxzI+z8rDwfQKo8AQGQOV/x9ywBAZhNFYh0tAkCAQEaC0Qn+P8vlQfe8DgFAHE+LnZlZAUDYOFcVkJkBQNxacWGYNQnAm/DalXhXAkCn3oX1RPD7PyzL2M6hYwJA9bBTlI1JAUDzNxo0nBYCQF7xqs4uswFAO8OefLBs/T95iqa3yoABQNzZ5e0/YQFAVB4aaQcQAkA=",
            "dtype": "f8"
           },
           "yaxis": "y"
          },
          {
           "hovertemplate": "Label=6<br>Time=1<br>Dimension 1=%{x}<br>Dimension 2=%{y}<extra></extra>",
           "legendgroup": "6",
           "marker": {
            "color": "#FF6692",
            "symbol": "circle"
           },
           "mode": "markers",
           "name": "6",
           "orientation": "v",
           "showlegend": true,
           "type": "scatter",
           "x": {
            "bdata": "WsrV5CqzDED/hgB/rY4NQFTRwezghBBAY4W+//9LEEBlCoM8J6oMQNMMVuunixRAXqHbOnrwDEAj3UsHiyESQLo1teM/a/0/3E64CfrZEED5k/4u42sGQPnMOjKdaQVAs+Xw8XaOEEBdtoKhqLgUQL4DtIfTuQdALEl4/iLcDkD6KZFatyMQQOhc6pmHhhRAJmySLZsMEEDYKd8sdFIOQJwM6ifKCwlA",
            "dtype": "f8"
           },
           "xaxis": "x",
           "y": {
            "bdata": "APnqEVwBx7+4d148/0LAP9SY+v8akua/CHWqIFM20j8A4LHkD5+8P9DLBBtcK8+/sJ3yfCz7tD/M5X2lDw3Rv1BTuDuqDea/YOS2AqHsu7+08A5yWNfdP4xZXZkKn+A/7LglNcSt479YtDRZ7cfTPyyw9F0iF9Q/YEKiF1Wysj/QHo9oUYXFv0y39XSNHtW/AKCdMFtVzj+sdLZQh27lv6Qg3axsI9o/",
            "dtype": "f8"
           },
           "yaxis": "y"
          },
          {
           "hovertemplate": "Label=7<br>Time=1<br>Dimension 1=%{x}<br>Dimension 2=%{y}<extra></extra>",
           "legendgroup": "7",
           "marker": {
            "color": "#B6E880",
            "symbol": "circle"
           },
           "mode": "markers",
           "name": "7",
           "orientation": "v",
           "showlegend": true,
           "type": "scatter",
           "x": {
            "bdata": "zg+HeTOYzD8seE+NYlvQP5wjaM8eGrs/Btp8+3G/1T9pwEHtBLPSPxBDaENfZdc/pvwQiW3A2z/Pn99xoubMPwjzWB0fOtM/CWFbTGJI1D+oblzYzMvYP3JwCIc0geA/skMW2aYt0z/cpxSB3cbRP6QbJG0Hstk/YkJns4eZ2z/qKfB7ABDWPyHtVzP6hNI/wmp7hep81T96ZPhNeTq8P8KrLhOjKNE/oIcnXA2f1j8PKs1/qAjaPw==",
            "dtype": "f8"
           },
           "xaxis": "x",
           "y": {
            "bdata": "HGiyfHLh1L+A+j0l53Pkv/AP7vpkjNm/PBm8MpX887+EiE/DTw7Sv8CzGAET1KU/YAxxcJccv7/Edsebk4bvv7yteXNwMe+/8APOUjqE3L+AU74EIAmHPyjjmHRYMsg/QFP9AbJem7/sFRW6co7wvxB8EVbqUrY/MPhGPNF81z+gETKCEX/Ev1CUkN1jCdy/AOrRf4nt2b9UfGpClTUJwKi3x3JRL8O/GAQdw13k07/wxXVMFNHTvw==",
            "dtype": "f8"
           },
           "yaxis": "y"
          },
          {
           "hovertemplate": "Label=8<br>Time=1<br>Dimension 1=%{x}<br>Dimension 2=%{y}<extra></extra>",
           "legendgroup": "8",
           "marker": {
            "color": "#FF97FF",
            "symbol": "circle"
           },
           "mode": "markers",
           "name": "8",
           "orientation": "v",
           "showlegend": true,
           "type": "scatter",
           "x": {
            "bdata": "QQfzIXoAFkDRxhNCJ4MSQP3GDNpJHhZAU0fKIWLNE0DQjyRU8E8TQO2qFyf8hxVAeo7X8D3dFkDsZftVoDm8P3z1HdqxPRZAzvNow6E5vD/MF0iEQNoRQJIkEd5VuhNA3MmgXBDJEUDZMFlrbaoLQEqQGQ2DOxZAFi2v6fETCUBZ5gtukbARQIXr5r1KphBA2Auo09fuEEBvvVpksO4VQEumi3Ux0QxA2lbZOtNND0A=",
            "dtype": "f8"
           },
           "xaxis": "x",
           "y": {
            "bdata": "WE85/1Qe1D82C106jw3xP3D24Wq60d8/PAnVX/R57D9CRpdbtHPwP/SjpMYCg+M/SaEZsdM85z8+CaYPlDUJwGCEpT7uVN4/cCzBGJg1CcC7v6+gBc3vP4d2L55Zu+4/KuUE+DWi8T+bRin5b7L6P8roV0RwnOQ/bQ33zLS69z9d4RdBcUHzPyXY1hk4QfQ/NoL1HJKp+D+8I4wtLoDhP/q/08HDqfg/53ZN8TLr8D8=",
            "dtype": "f8"
           },
           "yaxis": "y"
          },
          {
           "hovertemplate": "Label=9<br>Time=1<br>Dimension 1=%{x}<br>Dimension 2=%{y}<extra></extra>",
           "legendgroup": "9",
           "marker": {
            "color": "#FECB52",
            "symbol": "circle"
           },
           "mode": "markers",
           "name": "9",
           "orientation": "v",
           "showlegend": true,
           "type": "scatter",
           "x": {
            "bdata": "YdRzK0fSFUA+DCKzGwURQNgX+6a5bhJAWvo8fUGxFEADTJzjPAoUQHGdgx+JsBNAnGTjHQ8QFUA1G8R9IrcXQIv14lki+BRAXLA6lQodFEAy4EGlfqITQCGw9gWNDxNAjvBffIgzFECp4n78i94UQDas103/bRdAHF/81oHLFECsOZF5P8MTQPdYKQEkixRAGCqc29M4vD95GyKNNGISQKkiKh+5XxVAye9DfOtzFEDzDj8SWOYTQLUwTEvovBRA",
            "dtype": "f8"
           },
           "xaxis": "x",
           "y": {
            "bdata": "YKBAmsdLpz+hdsVSoNvlP1om2ExxEeg/9HICdcgy4D8AGMAETindP3Ra64eOadg/RIpW63S70T/grONhTMTEv/h0EuqZGts/jJFebygV4z+42w9SBo/KP6By+/rGXtc//ErqUn0L0D/QscMkWAvVP4Aqw1iGA9I/OAfd5RMOwj9o/dcvxoHDP2CM4F+ZbNk/+guIA5c1CcAslvgUV5rXP0AkCpb9+rW/AIt1MGtTlD8Id22GXWPCP4jL0puobMq/",
            "dtype": "f8"
           },
           "yaxis": "y"
          },
          {
           "hovertemplate": "Label=10<br>Time=1<br>Dimension 1=%{x}<br>Dimension 2=%{y}<extra></extra>",
           "legendgroup": "10",
           "marker": {
            "color": "#636efa",
            "symbol": "circle"
           },
           "mode": "markers",
           "name": "10",
           "orientation": "v",
           "showlegend": true,
           "type": "scatter",
           "x": {
            "bdata": "kHlWZUuwAcDTYBnCp+oPQOl1Perzx/i/P/38dCufDUCm79TpNLv1vwup1F8djQ9AfrHIYanzBMB//bh+gRHkv4oSuTs0Obw/yhnypmJP7L8=",
            "dtype": "f8"
           },
           "xaxis": "x",
           "y": {
            "bdata": "mOqVuFvn8b9YQn2U0zrMP5d00xv9Ov4/MDn4LeIswj8aHGXU/I3yP8ZG+1pOsPY/BTomh8Xo9z8iIWSxreT0v0a8V/2YNQnAZkBbtCbR/j8=",
            "dtype": "f8"
           },
           "yaxis": "y"
          }
         ],
         "name": "1"
        },
        {
         "data": [
          {
           "hovertemplate": "Label=0<br>Time=2<br>Dimension 1=%{x}<br>Dimension 2=%{y}<extra></extra>",
           "legendgroup": "0",
           "marker": {
            "color": "#636efa",
            "symbol": "circle"
           },
           "mode": "markers",
           "name": "0",
           "orientation": "v",
           "showlegend": true,
           "type": "scatter",
           "x": {
            "bdata": "Ng/+Ys61AsCWalfEqaH9v8+tzLaTuwXAaRbxtgi+BcCajYF9xvYDwAK9b0I5AgTAMI3ua0wgAcAv/IID2yQDwMNaS30cOAPAiCMWJBUnAcDEbCuJQ4EBwCZG3yQxKQLAa+tgnMelBMDoMvWxNMf/v34C/ZaT4QTAX3/ZIdDsBMCEJ/xFvR0FwFOYpRQijAfAhHkql4GyA8ACPa68hTm8PyrvFAwTObw/HE7728ac/r8UMm9eRvsDwA==",
            "dtype": "f8"
           },
           "xaxis": "x",
           "y": {
            "bdata": "oOp/nef81z8lnrw75mDqP9DH5DmdlM4/8LGuWTt7wz+LCT4mc1bnP3AhP1FZvre/+Msq94to2D8LXJWu8+XpP7pe1NM1fO0/2M9jj8L5wT+uDlPhnyngP80xiAxpMOc/FGTniu1o3T9+TgG02PPpP2i5lXkVAeI/TA9HBo1m3T80ukyy1dLSv6CtPZHVuOc/AGTTarBgXr9a5XJ5mDUJwASm5AycNQnAbDlgP/b93z9UeArtp5HyPw==",
            "dtype": "f8"
           },
           "yaxis": "y"
          },
          {
           "hovertemplate": "Label=1<br>Time=2<br>Dimension 1=%{x}<br>Dimension 2=%{y}<extra></extra>",
           "legendgroup": "1",
           "marker": {
            "color": "#EF553B",
            "symbol": "circle"
           },
           "mode": "markers",
           "name": "1",
           "orientation": "v",
           "showlegend": true,
           "type": "scatter",
           "x": {
            "bdata": "S5DymnIGAsAjTEk5GpkAwOIv3o0LSP6/2wy+lD5vAsDEJzyOxhsBwKRKEDzp+v+/ymtP9WI/AsDcmz7m9P4AwBZr+S5W4P+/530VzTZcAcDHspSh6c8BwBI8u0cYav2/pn4LzPtj/r89NMD/41wDwJDSNpGPWv6/fYpx16wqAcBWJcbmz6UDwIcKPP48gADA+Hj+D8Ol/L+GV5ULVcoAwARWirWIV/u/pPfbZkPA+r/y3UTq9oEAwJuQ47e5UwHAWe/0b6sLAcA=",
            "dtype": "f8"
           },
           "xaxis": "x",
           "y": {
            "bdata": "7aaZEyXmAECs9sISxiYCQE76KLMCgwBAOBoC0HeN/j9HtrReGCUDQGf3GSqIYgBAk4yvi/AYAkBhIrFV188CQClAAWtDgfQ/Xc0PAhVTAkBUfnZKq9cBQCzeUnL2nv4/VqUGcr+pAEACc3/f8/z/P9g3wFg3TAJADnFtD9jiAkDsgwDDG6AAQDAe5frZw/8/BXIKnS2T/j9zpJjhk5X7P7MMcdOzswFAyJteDEy0AUBzzYo28B/3PybnJiTJygJAsA9NwKGoAkA=",
            "dtype": "f8"
           },
           "yaxis": "y"
          },
          {
           "hovertemplate": "Label=2<br>Time=2<br>Dimension 1=%{x}<br>Dimension 2=%{y}<extra></extra>",
           "legendgroup": "2",
           "marker": {
            "color": "#00cc96",
            "symbol": "circle"
           },
           "mode": "markers",
           "name": "2",
           "orientation": "v",
           "showlegend": true,
           "type": "scatter",
           "x": {
            "bdata": "piGatg+qBMC7l6WD4xQKwG9UfKqhcwDAqE50z3bwBMBKOp+1QhUJwAjRaetPMgTAft0bxoy5BMDj9iMwbR8FwECu1G1Dof2/DESos+0WA8DWm5wiipj/v5w6yrHSkgHAepaOUTlgAsDkvDHJh9ICwMdaxkY4BALAV7yG7kOWBcB0Q54yH3IHwGdOiv9qRALAvwm9gBDhB8DW/cMPhNsDwNmiVDqz8AjAUtwEM2E5vD9SdUjT9rMIwA==",
            "dtype": "f8"
           },
           "xaxis": "x",
           "y": {
            "bdata": "3CcJRWas9b+oQ4LbDaD8v6gZXgnr6+S/GjMeBOSp+L9yuRDHLKbyvxpvzwD2Efe/sBeC+GyU+798IaCPPbv1vxiebjZakOS/wja9a7nH87/4idJoL6jMvyCRhdxgye2/PK/p/QXX8L+4OJVLTxLzv0q1kxuRf/O/vkgEoURu87+6j1iGY1D4v/DvfeLz6/O/BkXVNJS4+L9oGyKteJLzvzTvqSKddPq/GsXxjpQ1CcBg1bbbh9H2vw==",
            "dtype": "f8"
           },
           "yaxis": "y"
          },
          {
           "hovertemplate": "Label=3<br>Time=2<br>Dimension 1=%{x}<br>Dimension 2=%{y}<extra></extra>",
           "legendgroup": "3",
           "marker": {
            "color": "#ab63fa",
            "symbol": "circle"
           },
           "mode": "markers",
           "name": "3",
           "orientation": "v",
           "showlegend": true,
           "type": "scatter",
           "x": {
            "bdata": "sFBab4OV2r+UbYoHDL/hv73P44xcGsm/kAWHJ5ap2L9yv2Bi7CTYv+w/jQ9kote/lXvcDp/R4r+9Nw4UDIPgv7410T9A0ti/Wun1i3mN4b/lWftJgUjhvwiW8C1qFeC/gTrJcaG34L+yn/SXdk7qv3I2mPymVeG/A/Wtn9UH8r8es+qHM2Hjv4RqJWGGtt6/5uKgeku/v79A+HvV1CnSv5gzgaO3OLw//RyFpYDU5L/P4WYOu2zgv8Z5cUJB0uG/ksHxjFUV3r/ounbC/wrsvw==",
            "dtype": "f8"
           },
           "xaxis": "x",
           "y": {
            "bdata": "kijDEP+q+7/jree6eDsBwOBSLFFu69e/lvF2PVzNAcCO59iE9iIFwELMRAMW/P2/fLAA46V6/7+Osq1XH0H1v1w3EseYawLA3EufvjTKAcCUgDwIJLL5v0jV+SOgPum/QsztiIvl/L8wZs4hR6ALwNKVVf3RJP+/uHv+Rxun8L+wMkDnom4BwKrpImGMefW/lATVPBUM7L/M0zejckcEwDxxj56UNQnAmIo1/3hIA8BGgVdFcsr8v64EFmuj5vy/owqxdtu0AMDsFFt/uALzvw==",
            "dtype": "f8"
           },
           "yaxis": "y"
          },
          {
           "hovertemplate": "Label=4<br>Time=2<br>Dimension 1=%{x}<br>Dimension 2=%{y}<extra></extra>",
           "legendgroup": "4",
           "marker": {
            "color": "#FFA15A",
            "symbol": "circle"
           },
           "mode": "markers",
           "name": "4",
           "orientation": "v",
           "showlegend": true,
           "type": "scatter",
           "x": {
            "bdata": "9lVZ4zOTCMDLMWE1CZAFwHDoufr/wAbA80UwBae3CcAVHa1iqkAKwOx0fX18FwzAKk8aZY6HB8DGAsP487MKwFZDqfqZ9QPARMhzOgTJA8CBVI1iUH0GwOJSJK/q7gTA5+r4re0sBcDJB9AtrSIGwLK72YAP/QnAAm98F4f2BsDJuUxfwlQDwCGkf4G8SQbABsjfTX+4AcD6lzzFkC0GwFDt4OaTvgbA8V83I95gCMBY1GN0LugEwA==",
            "dtype": "f8"
           },
           "xaxis": "x",
           "y": {
            "bdata": "dM2zq3K/8T/uxl+PxwfyP7qmDpomEfQ/gg9+P4Dd6T8bOaptnjbyP1B2p5FjKu0/COb4Pamn8D9injL0G7TrP+r58DkV7vA/syg6Hwwc9z/AQicAqG/xP4AoBwI5p4w/jyMjGcF69z/i1VRFIFnpP9aRI467b/U/7OB9x/Cy0D+q5DBv5Pr2P6DLN6NOBKg/X3/gQ3qO8j/s2YocTbbdP8ZnrRRcHfM/DtxzZHC/7D+lVVw3ogXzPw==",
            "dtype": "f8"
           },
           "yaxis": "y"
          },
          {
           "hovertemplate": "Label=5<br>Time=2<br>Dimension 1=%{x}<br>Dimension 2=%{y}<extra></extra>",
           "legendgroup": "5",
           "marker": {
            "color": "#19d3f3",
            "symbol": "circle"
           },
           "mode": "markers",
           "name": "5",
           "orientation": "v",
           "showlegend": true,
           "type": "scatter",
           "x": {
            "bdata": "7tAxAmDNAMBicsfnNAbxv08KS3mN2ADAXnyz+9k0A8BUx8dYP57rv6ilPPAiqf2/G7l36neYAMDopw+wLcj8v1Vbat1dM/a/9C196RaT+L/b8nMDINoAwLigMuD5OLw/GjuVkWoZ+L/c1Wjmhe7svwTkmLmhb/2/99LEAuGKAsA85myPW28EwFNUBsmU5wPAGcbbglneBMCd4thwKgD2vxkturds0gHAdKvRrA+R678=",
            "dtype": "f8"
           },
           "xaxis": "x",
           "y": {
            "bdata": "gEtcN4Jg8D+IdCf/h5H9P9ons4irbfI/wuwHZjQ1/j+OvyKkowX5P973c5HjpPc/Eyg7/Lc//D/R8WHvd+/6P7+xVRMRJ/g/zhnc2ig2+j9aETdbi/fvPyDbCsuWNQnAXtcf42mOAEDosjH0aOf9P+qZXPT48eo/xLPBeccQ8j9oigIUnZ3zP3G0xBFhb+w/rWfPiBER5j/tYcrVwev3PzA38q4IW/Q/Xgmo1SGC+D8=",
            "dtype": "f8"
           },
           "yaxis": "y"
          },
          {
           "hovertemplate": "Label=6<br>Time=2<br>Dimension 1=%{x}<br>Dimension 2=%{y}<extra></extra>",
           "legendgroup": "6",
           "marker": {
            "color": "#FF6692",
            "symbol": "circle"
           },
           "mode": "markers",
           "name": "6",
           "orientation": "v",
           "showlegend": true,
           "type": "scatter",
           "x": {
            "bdata": "WZqB5FOKC0Aiwc2eM2oMQFJvWEH1XQpAIEPspXbqC0AYAJSXg7AJQB7vST1Ekg1AYtgRKCBkBkBU1j91dKsFQA9t/IvVhQJAHunZWlu2CkCuVvWTtvUGQEK807aqBgVAqWeMe4dyDUCaRWFKkqYIQAuuWjHYFQtAMTd4o0kNC0DfYA6VAAIRQGQ2BxPRcgxAWd+olTqwA0ANYNZz0XMHQKkt3WXiiQdA",
            "dtype": "f8"
           },
           "xaxis": "x",
           "y": {
            "bdata": "NL0tCf1V0D/8Rnj6AWnQP9D2Iudyvdo/mJBKc6nRzj8YeLIMx4zXP4AJRS8AwMQ/nob4AH8T4T+wK9fACUXhP0Dz06TY07i/eCN/mNZY1T9YCCpgbAbfP0J2u5B8S+A/CM/cDuBGxD9EumGX6cDcPxDoMKmftdA/mHq3PmyQ0T8gUB7eGFevv/ydvUel1NE/soapIs8o4D+c2seiN9zbP1DxDQ0+Otw/",
            "dtype": "f8"
           },
           "yaxis": "y"
          },
          {
           "hovertemplate": "Label=7<br>Time=2<br>Dimension 1=%{x}<br>Dimension 2=%{y}<extra></extra>",
           "legendgroup": "7",
           "marker": {
            "color": "#B6E880",
            "symbol": "circle"
           },
           "mode": "markers",
           "name": "7",
           "orientation": "v",
           "showlegend": true,
           "type": "scatter",
           "x": {
            "bdata": "B7FQB8PLwb/27A2Ony7YvwwMuKU1IKC/FpakzoWM978c+8+6P0LfP5SvInk23NC/fkrjlOUfv784lAYIDzibP4j2KBvt2ey/fCjm3rpS1L/mtuHWOajJP8QzwelE9Oy/fmUSVanQtb+maAo7eA6zv85fvBj+Hta/z5OgKU/54T+6oql/Lwyyv959fNlS2bK/pOpDxmT36b9I6AZTTjm8Pw4iSSQkFNG/4jjlR2f/2L/4u2nmsorTPw==",
            "dtype": "f8"
           },
           "xaxis": "x",
           "y": {
            "bdata": "SiPC7Y8M9b940vkKZPLuv2gtidWY3ee/FhWBm/KI8b9A8Ix/lw/av1qkLf5ivvG/rLs/OZGY97+U3biW3f3sv1BG7sGIq8y/mK6Ow6Ob/r+A3+TlqLDyv/6kgnLNqfC/8Dc7y5of778YuUHyX3rtv74wk0QWmvC/dMwoD0mF6r9Qy/dZ6fjrv+5CiY/JMfC/oOm915xh678WGcw4nDUJwEYmx0jPQve//ISjtDMx7L/aaD3ivSf1vw==",
            "dtype": "f8"
           },
           "yaxis": "y"
          },
          {
           "hovertemplate": "Label=8<br>Time=2<br>Dimension 1=%{x}<br>Dimension 2=%{y}<extra></extra>",
           "legendgroup": "8",
           "marker": {
            "color": "#FF97FF",
            "symbol": "circle"
           },
           "mode": "markers",
           "name": "8",
           "orientation": "v",
           "showlegend": true,
           "type": "scatter",
           "x": {
            "bdata": "4YCJNgcB9j+QLJCCzK3+P869ZyxI8fc/xjgZu13z/j9wSQUmQTIIQEULHYLPJv4/T0pYII/QAEBKN7WKszi8P0GaQ6R2pv8/fuJpQdc4vD+CwYocygv9PzW1iUt2Tvs/nlFsXFYq+z9i7Ilewp4CQNfRWwfKoP0/He8m/Gnr/D9pK4650jIEQGCFMQJ7Pv4/gerrZKk+/j/WsCrug1AAQBLyOGV/JgFAHltT04D/AkA=",
            "dtype": "f8"
           },
           "xaxis": "x",
           "y": {
            "bdata": "BhQFyZl56z9XalUjU0L6P6yo830NJfU/irCgYViS+z8D96klSanzP/VD3rrMVPo/5jgGvEHi/j8kPgE1ljUJwHNIcEyuhfo/iM/WnJc1CcCxB2OoHgX4P/jou5uPiPk/VnQsSrPX9T/Fu3t/+eb3P2ysXWjYHPo/8NUriBqH2b8pn08XNl33P6zezZaa9/o/UA2tDvTn9z/jqT01YfX7Pz2gwviUYv4/DYpwRMXu+T8=",
            "dtype": "f8"
           },
           "yaxis": "y"
          },
          {
           "hovertemplate": "Label=9<br>Time=2<br>Dimension 1=%{x}<br>Dimension 2=%{y}<extra></extra>",
           "legendgroup": "9",
           "marker": {
            "color": "#FECB52",
            "symbol": "circle"
           },
           "mode": "markers",
           "name": "9",
           "orientation": "v",
           "showlegend": true,
           "type": "scatter",
           "x": {
            "bdata": "BJGflQN5A0CKCY60krADQK+QhhzUPgRAYd7rlYmFBUDFvFUmVuELQLGsGEB92wdAweEyupiaBkAN8u4QQKEQQACGUV9fogdAhnLgHVj6AkA5jL4o0UwEQPPcnlNAlAhAjzJwWbCRAkDQNROPTs0KQOcT2zO6DwZA62NNBUTXCUCgHK1GSqH0P46IJW56ighAmHwJxlY5vD/wi4n3zQwEQLnCz224HwlAfmqKtGQrAECcuGkKtCABQG3kKh6MEQ1A",
            "dtype": "f8"
           },
           "xaxis": "x",
           "y": {
            "bdata": "VPgUc3a13j8cI80kdaHVP1CMwDWuRdo/tEnubvAO3T/AKla+gh2yP4RrbwPV0dI/BD6vHKUk0D9InO8cwKvFv2TOGkVIn9s/gH1tF1W5xT+IE1MQ/jbZPygHD4s8r8k/KEouqCh62z9IUybUk3PFP/QnD4nZZtY/mAdruRwgxD+07czruxDqv1CcZaeVAsw/3rTUGJ41CcBs2J6PfkDQP6SpTS2PatE/AHy1TvLMvb9IzseW3RnLv4Aqi4bTk7E/",
            "dtype": "f8"
           },
           "yaxis": "y"
          },
          {
           "hovertemplate": "Label=10<br>Time=2<br>Dimension 1=%{x}<br>Dimension 2=%{y}<extra></extra>",
           "legendgroup": "10",
           "marker": {
            "color": "#636efa",
            "symbol": "circle"
           },
           "mode": "markers",
           "name": "10",
           "orientation": "v",
           "showlegend": true,
           "type": "scatter",
           "x": {
            "bdata": "xTDWb5ALBcBqIL0nISoIQBQxBnkZ5wHA3AQR74vMD0DP5Jh57pH7v5ZkeOb8IwNAuoYuBNaHAMAlDTGSsPD2v4lEdxBQF9w/L2M1jRYR878=",
            "dtype": "f8"
           },
           "xaxis": "x",
           "y": {
            "bdata": "nrKP7oF5+b+o0KThYYXKP3Y2kz3I8AJAYMWGOlFAqD8QS0j84FnyP/JW3TLQ4gBAQ3+x85ww8z/0HYhFtx8EwKA/XfKskde/7weMtZXm+T8=",
            "dtype": "f8"
           },
           "yaxis": "y"
          }
         ],
         "name": "2"
        },
        {
         "data": [
          {
           "hovertemplate": "Label=0<br>Time=3<br>Dimension 1=%{x}<br>Dimension 2=%{y}<extra></extra>",
           "legendgroup": "0",
           "marker": {
            "color": "#636efa",
            "symbol": "circle"
           },
           "mode": "markers",
           "name": "0",
           "orientation": "v",
           "showlegend": true,
           "type": "scatter",
           "x": {
            "bdata": "ofPgTczt+r+FwJxWC633v863HeYRMva/Ezcwk99v87+x2KKBLsQBwK0G3O2p7ALAvgciK3OP/7/twoSMgg70v2mrMLz27gHAWZIAdwsA/L9yOX2b9wb/v28t1CHdgPq/Unwmj5tA/r+UaQp8pXTyv59jnxfDSPm/T/9gnb7Q+b+2VEv0NPD/v4lSyHmvNADAoBmSG1Y6/b925Xu/TTm8P2Y8qv9YObw/iUtqTQjX9r9oDnOba9P9vw==",
            "dtype": "f8"
           },
           "xaxis": "x",
           "y": {
            "bdata": "wK3WKlHyzT+6JVotvonxPyqtC/msHPM/qCbLXLyf1z9GPm3foEfsP2ECQQ9NEuo/X50krAA78T8q4HqGx0z0P2MgTGLkkew/IPktvtVG7D+m82xStHnhP/ARDS2jVfI/SFqQh+/F6D+ekwg0L9jjPwrVcPQ02/E/wEImJtQ7zj+CMQkW5SvwP6BqL1/OYtI/n1ayDJ4Z6T9cHXU9mjUJwD7fYfmXNQnAHmr/40bC8T+3SZV7s77xPw==",
            "dtype": "f8"
           },
           "yaxis": "y"
          },
          {
           "hovertemplate": "Label=1<br>Time=3<br>Dimension 1=%{x}<br>Dimension 2=%{y}<extra></extra>",
           "legendgroup": "1",
           "marker": {
            "color": "#EF553B",
            "symbol": "circle"
           },
           "mode": "markers",
           "name": "1",
           "orientation": "v",
           "showlegend": true,
           "type": "scatter",
           "x": {
            "bdata": "/+fivH0KA8AFhXZ69Br8v8KPAODbtfK/osi7YVUbAMBcbGqS0vH8v5q1KLGRAgDAGZ8Giv5kAsA/u14uwVX0vxq/hsJjP/W/xwtzcrBQ8L8MupxgzTTrv56E974giu2/Wlt4UV27/L+l3WMjjpMBwKqizPcUr/u/bnb+nASF879bqmS/dWzzv+AILwTWUPK/FI26GbXL/78LXs7p/LECwEIPgq38SO2/jvp7Ch2P7L+GKeea2xYFwBIGmcji7wLAkddhCQ7S978=",
            "dtype": "f8"
           },
           "xaxis": "x",
           "y": {
            "bdata": "8kmwZdya8T/km7TnjjTsPySmU42WHf4/GgREI6Ys9j/j0RBrK8/uPyoLX8KjOuk/2hCRfgC98z+Ig7Ze27D1P+lF8VB0QwBAvIzYS7L2+z99ftwbp8L2P4w382mz1fg/8htR95ER8D8RqLk45kbyP4bfCE4pJPQ/VpBOUrta/j+4IH5zaxf+P0Au91zq8P0/MfVRXJaP8T+ITuL4e8zcPxFreCLO/fg/RhyZuKMR9T9Ap7YBQavyP7cPCQW9MfQ/Z1qa8vR/AUA=",
            "dtype": "f8"
           },
           "yaxis": "y"
          },
          {
           "hovertemplate": "Label=2<br>Time=3<br>Dimension 1=%{x}<br>Dimension 2=%{y}<extra></extra>",
           "legendgroup": "2",
           "marker": {
            "color": "#00cc96",
            "symbol": "circle"
           },
           "mode": "markers",
           "name": "2",
           "orientation": "v",
           "showlegend": true,
           "type": "scatter",
           "x": {
            "bdata": "wkNjGy/X+L8IMo9z9qIEwGAMXyu2/PS/2TBQOE7w8r/uc03M5Vf4v76HzWQaLO2/Md5iNVboBMAiAYb6plz2v77lSfb/k/y/LO5CcxM38r+Q2tQLlLjvvzj9y7q7OQPAS+hEHiR5+L+hbhod52H5v8fR4gD9avW/Fzn1q0ka9b/rol2YuxPzv3MuGyCRtgTAEPdMws/g6L9klldRO5nuv+/ddseppfi/8v7xs845vD+lm0C/IOz5vw==",
            "dtype": "f8"
           },
           "xaxis": "x",
           "y": {
            "bdata": "CFi5305y5b+kECeckdvtvwyvViu9Jea/UNcEZSx56r/KdMfXwdbwvxwlO7wO9uC/Rg6undrW8b9Ea50g8QfsvxhEcdZkjui/NJwGnqDz5r/o0OLWPz3mv/iEra8Aue+/Doz2QKWf+b84olIc1+/nv0SYqYr+Te+/6OC/JFnF5L+EUOeHcZHgv/zNGbNflO+/cPjsSTE9179I6Ux6uXbHv+T1BG+V++m/krJy9Z01CcA6dSqFgmTwvw==",
            "dtype": "f8"
           },
           "yaxis": "y"
          },
          {
           "hovertemplate": "Label=3<br>Time=3<br>Dimension 1=%{x}<br>Dimension 2=%{y}<extra></extra>",
           "legendgroup": "3",
           "marker": {
            "color": "#ab63fa",
            "symbol": "circle"
           },
           "mode": "markers",
           "name": "3",
           "orientation": "v",
           "showlegend": true,
           "type": "scatter",
           "x": {
            "bdata": "9KMJHPVZ0b/6qSaTaGTRv/qzVaCTWru/wQ3SbxmD5r+mmmxru5f0v2uhi8qZEfW/xoaO+5KK+b9QKLrzb4DBPyfBEac/3/W/emVJJOpr47+Wbt8OqcLcv0/Kt6m4qcU/2Cm6XNuV8r++OKOxbSH+vx5m3np/dei/HEL63x2G9b/OlCE1RX7hv5UpKgt+1cW/avFsjExu6r8FQFvpLN3xv95ldUMNObw/1fnEh4988L9pJovdjHn6v+/BwVy/Ns+/BzlrTmXpyr89r7QcLG/Mvw==",
            "dtype": "f8"
           },
           "xaxis": "x",
           "y": {
            "bdata": "VIXdFKxz8b84IpEYNRDhvzAuzIdYwu+/oNbqAYW09b+wML+5V6r8vwx/jqRtY/m/yks/dLGg+b/w3zwOimMCwPzEY8v6q++/2LRfFHRC6b8o+cD2c7Hav3ZMpzQH7gPASDmUxN306b/2ZEc7TB31vwJRc+4cWgHAqDN35Su2+7+0CVGUjLvhvxix6IrXce+/gCWrL0W6mT8QX9hr+OS5v3zkVOWWNQnAZI0kI41i7b8gC+Mit7/av/R7wGV8OeC/FD9kUAEj7b+4IJ5eNirkvw==",
            "dtype": "f8"
           },
           "yaxis": "y"
          },
          {
           "hovertemplate": "Label=4<br>Time=3<br>Dimension 1=%{x}<br>Dimension 2=%{y}<extra></extra>",
           "legendgroup": "4",
           "marker": {
            "color": "#FFA15A",
            "symbol": "circle"
           },
           "mode": "markers",
           "name": "4",
           "orientation": "v",
           "showlegend": true,
           "type": "scatter",
           "x": {
            "bdata": "olL1UO8q/79cTtwwclr4vxQMOXQD6/y/WBR69DXBwj/id/J9ln74vwxEJnGZugPApLrdJyIO+r/4bpY5Pl36v6dW8CySDve/2FVVtr4IA8CGjxtLy/T1v0DYzv5FLXK/45kS4SMhAcD90dDdm9D4v/8By7JQvfa/WkR6ebMW/7/V3KlojdUAwN+PV/ywB/C/VkWQzR9o9r/8PP18aUz+v2pBSSyS6fW/W0okXzCkAcB8nkYdCWrgvw==",
            "dtype": "f8"
           },
           "xaxis": "x",
           "y": {
            "bdata": "3XvmjTqR9T+6Tn42Vf3zP7ia+gdFAtw/CET+sv4Y6D9q6/ArP2jgP1TYb338V9Y/rtgtVAwi8z8ktc89n2/zPzWyej+nLeY/xDyabSl42D9I6+4sJuXkP1JYqMmeHfY/Yw3kXJqC5T+kSEtcpV/jP6T7ELw+YvQ/P1VHCHHB9T9c+8oIJkPgP+SfHBuKQt8/bPUcRPLx4z822eP0dGj0P3Y48DYFA+k/2D2ieVUK4z+C7NQgbYbkPw==",
            "dtype": "f8"
           },
           "yaxis": "y"
          },
          {
           "hovertemplate": "Label=5<br>Time=3<br>Dimension 1=%{x}<br>Dimension 2=%{y}<extra></extra>",
           "legendgroup": "5",
           "marker": {
            "color": "#19d3f3",
            "symbol": "circle"
           },
           "mode": "markers",
           "name": "5",
           "orientation": "v",
           "showlegend": true,
           "type": "scatter",
           "x": {
            "bdata": "wAw3RJv01r8fP8igSuHFv74wyDuJQcU/oBHuiw/X7D9yqhJPlJDtvyKwxAzDd9O/ffVTs7zIyb8W8myNhN/Wv9mQxKs1ncu/CB/w7jq94b9ZohF4rtrwP579qOUlObw/JR7eHaGNyr/mNZ8jTRXqv5p2cOrJbda//N9bxlPM2b/U7J+sF6PjP07AAP7be9S/VGf1S8YN0T/qB2r2cSrgv0RnBz03SNi/f/MLlmL58T8=",
            "dtype": "f8"
           },
           "xaxis": "x",
           "y": {
            "bdata": "jOI7F4ur/j9R6CBsjuzzP6tv8v35Tfk/hYmB/cNu9T8sqjrZyQLtP5qs62FE3/M/fl0UH+Dj+T9OndxYVOb7P0k7QwuxDPo/XCTT031RAEAMrzauS7PgP+g3fYKUNQnAQlEH7uOp+D/JwEn1DKv8P9IUh4fzyf4/4wrZlqAqAEAY3Ap7cFfxP7UR9NMiRP4/w+6c0olO7z/9V3jmzUcAQCnmvHSLZABApFCsQA0E3z8=",
            "dtype": "f8"
           },
           "yaxis": "y"
          },
          {
           "hovertemplate": "Label=6<br>Time=3<br>Dimension 1=%{x}<br>Dimension 2=%{y}<extra></extra>",
           "legendgroup": "6",
           "marker": {
            "color": "#FF6692",
            "symbol": "circle"
           },
           "mode": "markers",
           "name": "6",
           "orientation": "v",
           "showlegend": true,
           "type": "scatter",
           "x": {
            "bdata": "xzzmp8PIBkDqAOt+LIwEQB2sT7axqQpAplUejJh6AEDEtuVPWQAHQNY9HnIgOAZA/dKCMVVZAUC/GEr1R98IQMzuIThi1/k/YkOZgeWhDUBKLrDCNhQAQLuEGQWEkAZA+aTZMY/FEUDHbMzHn5UEQAzteTxChQhA3Dk4fpUHB0BsaMnHtKkGQJjL8aIlOQdAGJQFhTw7BkA/GiMGZ/UJQDKupbfcevw/",
            "dtype": "f8"
           },
           "xaxis": "x",
           "y": {
            "bdata": "GKgZ7gc1xj+6gPGVHbXgP3TW0VHaJtQ/IK3S6UeU4j9AJUGe8se+P6p0+UHKCuI//FFrzTNi5D8QR9yUcPe+P2RWhCguy9s/kP+UqH0ltL+wP4UMUoCyPyB8zvH3dtu/7C14SzYI578wJH27+s3EvxCkAdbQY90/ONOa5/kj1z+gvfYYNL7FPwBmyD7d3Z8/OFHqtTw9yz80rrX5nenZP1gFO4UkiOQ/",
            "dtype": "f8"
           },
           "yaxis": "y"
          },
          {
           "hovertemplate": "Label=7<br>Time=3<br>Dimension 1=%{x}<br>Dimension 2=%{y}<extra></extra>",
           "legendgroup": "7",
           "marker": {
            "color": "#B6E880",
            "symbol": "circle"
           },
           "mode": "markers",
           "name": "7",
           "orientation": "v",
           "showlegend": true,
           "type": "scatter",
           "x": {
            "bdata": "n5aXHMul+D8+l0La4zi8PzxohCe6YtA/ww5CT8DC0z8WIdOpQJztPzbYUTRKW/E/t7cDDmLt/j+dy/V6ocnEPwN28ajq4QFAENTwLC84vD/rHOomXp3+Pyab1slwmNk/tiWYv6c5vD+yC4ch8T/fP/VX1MkwhwBAcC9sKlj52z8C8TtlPF/hP3ibkcEWOdA/To1MiEwD2j/W+vQBNTm8P47iQyOHWMw/GwfIFDA/AkCYQEEhYDDdPw==",
            "dtype": "f8"
           },
           "xaxis": "x",
           "y": {
            "bdata": "rFdU3S2T1T9OLmMUmTUJwJjXx4JsCMy/jCBbqeOc4b+gmPxRIWakP4AMdpCTIKS/0AHx11KGtj/kJUhrCXHVv7AnUJLNq8w/IssYKJw1CcBQeTP9WdrDv8BJ0eVIu5K/zlYbu5k1CcBye9axk9Lwv6DFhNe8W6q/EJpqK7zbzD/qoLBVTDXyvwCjvr2FFN2/CCXJRri04r9G4Nt4mjUJwFIHMmbL2fK/COxi6Fgy179kC7GYD0Dtvw==",
            "dtype": "f8"
           },
           "yaxis": "y"
          },
          {
           "hovertemplate": "Label=8<br>Time=3<br>Dimension 1=%{x}<br>Dimension 2=%{y}<extra></extra>",
           "legendgroup": "8",
           "marker": {
            "color": "#FF97FF",
            "symbol": "circle"
           },
           "mode": "markers",
           "name": "8",
           "orientation": "v",
           "showlegend": true,
           "type": "scatter",
           "x": {
            "bdata": "1wO+w93BEEAgsVBzig4DQIO3b5+lowZAr/Sg/6w1CUDmHG51rsURQKzHFSeKXAdAHE29YgfWDUDyzkkwgTm8P81+gCLO0QNAgvM8XZY5vD84EZwK9RYHQGSWUBJefw5AcNqeHsR9C0AIi2fibn8HQLYyYAxKUgxAiJ7VuyGVAEDBHQkSE5P/P4tU3yE8QARAoAgurqn4BkBkOIRyzyAGQHNtajgcyQRAUjOGRna1CEA=",
            "dtype": "f8"
           },
           "xaxis": "x",
           "y": {
            "bdata": "tjWLqyK++D/ErKbI8lgAQFlWp2LHevc/Fnve6NE0AUBkmgigKEPzPxUw+t78K/E/pm1nsf3y9j+cgdnTlzUJwABxvAFi/gBATPCr9pU1CcD4SMhTuanvP6QKBd4hN/k/MvI29Tf98z+ymIDq6gwAQLhbXUGWPOo/Zac6717t9T+joQUGuUzqPzdHpey1qQBAmFXkVhAuAEAC4EM61+UBQHzLb4SpOAFAo9pr18ij7T8=",
            "dtype": "f8"
           },
           "yaxis": "y"
          },
          {
           "hovertemplate": "Label=9<br>Time=3<br>Dimension 1=%{x}<br>Dimension 2=%{y}<extra></extra>",
           "legendgroup": "9",
           "marker": {
            "color": "#FECB52",
            "symbol": "circle"
           },
           "mode": "markers",
           "name": "9",
           "orientation": "v",
           "showlegend": true,
           "type": "scatter",
           "x": {
            "bdata": "nlNkKWP+CUBQ8xwnnTi8P2oznVt8MwtAnf16qwZUBUBUzMkLzT4KQAAHjug7UwFAA7ebYxBYA0ADKJYnUHoLQNz2ZSPTuQpA1/N7MJ+6AkBYXH7yXvAMQA1ewjOb6BBAg3r/sC4cCUBBkCiTeuvwP+GaBNLKmAlAyT9hkTRZB0Ao4GoJqTi8P5Gp9zreNwRATJBlU+Y5vD+uyFduBbkCQFiOW5o2pAFAVzZlzkYcCEB+RqZLDakDQIG84plVegZA",
            "dtype": "f8"
           },
           "xaxis": "x",
           "y": {
            "bdata": "UGN0iZrC6r/WZKfAmDUJwFgCCDjdjsQ/EH/5XHxCyz8ANzygOdm2P/z4xZqB8NE/8AutTANQyr81eW6IVqjsP4IVLls6gOg/cDLFxci22b9gO5OUBR3HP/7+CjpIZek/6PTOAo3Q77+0T7YDFnzgP1L2/9iqUOQ/9S0V9zAA6z/IRZf4njUJwGgET5irdco/yJ4gN5M1CcCs57eA2ozUPwAYhiBsKq8/oJnQKoOK3D8AIJLvIsifv/oPsMT+TfM/",
            "dtype": "f8"
           },
           "yaxis": "y"
          },
          {
           "hovertemplate": "Label=10<br>Time=3<br>Dimension 1=%{x}<br>Dimension 2=%{y}<extra></extra>",
           "legendgroup": "10",
           "marker": {
            "color": "#636efa",
            "symbol": "circle"
           },
           "mode": "markers",
           "name": "10",
           "orientation": "v",
           "showlegend": true,
           "type": "scatter",
           "x": {
            "bdata": "hl7Xf3A6678kYwlyr6b8PxOTp5mNOwLAsVnE1uvrDEAGNZC0m9n2v9L/rNaXjwZASbnVDTmdAMBpsNsNZsX7v4jYB2I0iPI/zoZTkeqN1L8=",
            "dtype": "f8"
           },
           "xaxis": "x",
           "y": {
            "bdata": "qIF5FRIZ6r9gFIFzf6zAP/uk0M9Ylvo/UI6oTTZxvj9wBUjeqcnwPxwUseqc7v4/RDbwYj/s9D+14Um92P4AwNAXNtI23L0/5V3tU2w1/T8=",
            "dtype": "f8"
           },
           "yaxis": "y"
          }
         ],
         "name": "3"
        },
        {
         "data": [
          {
           "hovertemplate": "Label=0<br>Time=4<br>Dimension 1=%{x}<br>Dimension 2=%{y}<extra></extra>",
           "legendgroup": "0",
           "marker": {
            "color": "#636efa",
            "symbol": "circle"
           },
           "mode": "markers",
           "name": "0",
           "orientation": "v",
           "showlegend": true,
           "type": "scatter",
           "x": {
            "bdata": "KdLEVrvg+790zYF/Ozi8P9iHTbi8OLw/IkUyCuGJur8Y6fOhmTi8P/TCPVFTbv2/xD9H2Lc4vD8KIvXrMzm8P231z+rOYva/Iu1Cxj7L/79MQZrc9M39vypOiH93OLw/QlZh3XDZ/7+KIyQ8qlEAwEa7s0dqObw/+dVSHvr24r/mfAQxYAv+v0An2hYtJPi/blTOfK05vD+uSZy7JTq8P3QIHAZDg/q/fvDPpVI5vD8o1NWDtTi8Pw==",
            "dtype": "f8"
           },
           "xaxis": "x",
           "y": {
            "bdata": "Zu5W2ZOI4z9UYSp4lzUJwF7lgLeaNQnA7Hg/1l0q0z/oNYFTnTUJwFLQnMKAs/M/xFGOkZw1CcDGWQr7lTUJwDDnvcRuor4/J3jk7tTu6T9E0TyIBIriP+wUlvmYNQnAokRBD9U37z/8VYvNNGvoP6LiKtKZNQnAQDEWMdeInb9hez6fSPHrP+BM9cBu2dM/jILf1pc1CcBkKyr2lDUJwOJ4zgen3ek/Kh4605Y1CcDSOyNDkjUJwA==",
            "dtype": "f8"
           },
           "yaxis": "y"
          },
          {
           "hovertemplate": "Label=1<br>Time=4<br>Dimension 1=%{x}<br>Dimension 2=%{y}<extra></extra>",
           "legendgroup": "1",
           "marker": {
            "color": "#EF553B",
            "symbol": "circle"
           },
           "mode": "markers",
           "name": "1",
           "orientation": "v",
           "showlegend": true,
           "type": "scatter",
           "x": {
            "bdata": "PV7lN1MS/L9OcYKe2IoCwGwC4/yMObw/rJ1sGBCo+7+f2v9DBfoBwJX9FVjO7wDAWttxEwlwAcD7uhXRyyX3v0TaG6EXSPm/3iRdlzA5vD/O1Z489jm8Pz7RlDv/OLw/n2LotV+i+b8AuZUmIs/8v656ecUdPfe/GEj4Abs4vD+4+tWzCTm8P9Cy/JRYObw/mHa4jb1B/b/Lq0i5Ysr4v5p+T1fUOLw/Mog5i2M5vD+GFYg/+WH/v5QFzuFGbP+/WBo6i0U5vD8=",
            "dtype": "f8"
           },
           "xaxis": "x",
           "y": {
            "bdata": "s7go2Bou6T+AVshy2QO4v6Kt51GWNQnAqKkEB/bT3j/oZaA+Z17bP2ZbbxWmgOQ/PRtcGsP07j/Mhn2uD/TQP0gHg12v3vk//ntwDpg1CcBQBmFAljUJwHQdKgKZNQnAZLZpdoi90D8CwnDwzCnjP1pEdridgOM/APzaNpU1CcB8BctimjUJwNx0e7qXNQnAxLA/e6dq1z+3MSajs7bqP/xixqqYNQnAFrj6yJM1CcCr1qlTQffuPyCOuBQ7WOM/XIud4Zg1CcA=",
            "dtype": "f8"
           },
           "yaxis": "y"
          },
          {
           "hovertemplate": "Label=2<br>Time=4<br>Dimension 1=%{x}<br>Dimension 2=%{y}<extra></extra>",
           "legendgroup": "2",
           "marker": {
            "color": "#00cc96",
            "symbol": "circle"
           },
           "mode": "markers",
           "name": "2",
           "orientation": "v",
           "showlegend": true,
           "type": "scatter",
           "x": {
            "bdata": "GBceFUkO/b8ZC2SdC3kEwMTNLFr+OLw/8qg4Lu04vD/YdxxLReD1v/RFslouOLw/ybpVyy+rAcCyfUmLqzm8P/Aj6zSaXuO/pE5wwZA4vD/wkxnzWjm8P+1YQ0yTpPq/2KsL13g4vD/UZmgAjgP7v8zTGWCWObw/qNgXlcA4vD9UHxyRXTi8P/xeyAIR6APAPvdqqd05vD+Uefu6ATm8P+6uXId8OLw/lpeuSC85vD9eZGWVhjm8Pw==",
            "dtype": "f8"
           },
           "xaxis": "x",
           "y": {
            "bdata": "gPjdqLV1hr8gcHatBSStv9wD99ySNQnAnsa7l5Y1CcB4i8MuF8DcP16X3TSYNQnAQJLR2sbzxD9KV5EUmjUJwEDu/V5aIKg/2hLKu5o1CcBov+J8mzUJwBSD5ED5U9G/2tInEZg1CcBUhjeGrFLXP1BoBjGZNQnAOnmsDY01CcD4a6S6ljUJwEheNzoJWeY/CJKISZQ1CcACnhuLlzUJwORZUt6YNQnAbGKmW5A1CcCYWofakTUJwA==",
            "dtype": "f8"
           },
           "yaxis": "y"
          },
          {
           "hovertemplate": "Label=3<br>Time=4<br>Dimension 1=%{x}<br>Dimension 2=%{y}<extra></extra>",
           "legendgroup": "3",
           "marker": {
            "color": "#ab63fa",
            "symbol": "circle"
           },
           "mode": "markers",
           "name": "3",
           "orientation": "v",
           "showlegend": true,
           "type": "scatter",
           "x": {
            "bdata": "0JbxgT85vD9IdvZ0ZDi8P6h+z3+jObw/inehiRSS+L8ru8RLWvPyvwC2vL6hGvm/yN2Bc9E+97/oZ6AInTm8P3CefEoDR/e/xr2COyU5vD+yxAh3HDm8PxQRg2ggObw/dFSg92Hn/r9DHDJMvHAAwG0te9kq5wLA62QCb8/O9r8+9mJ2eji8P4QMZh9FObw/9/zRE1Du+L8ef52lxx//v4rLI4mYOLw/1Mv3T3Q5vD9YvTC6x9X4v87KE8s7Obw/ygPE3Os4vD82jp43Vzm8Pw==",
            "dtype": "f8"
           },
           "xaxis": "x",
           "y": {
            "bdata": "FCy96Zc1CcBSTzgwmDUJwGgASUOaNQnA6AK5E9wZyL90ca7bMJXUP0yrQPDsftM/wGJppBTK5z92sdaEljUJwPDK+nEzP+I/iDRh4Zc1CcCWSGrmljUJwO7uDSaYNQnAACYcpgNZdr8gfE6yqkyrPyzfk8m5UuM/6NE9DT5Hx7/6b3KDlzUJwJrN8gKbNQnAtkIi1wDl5T89uF7mcz3nP/CvsIGbNQnA5nSRnZk1CcAx+rUS2ObnP0pFPTiWNQnAUm5Lzpc1CcBUBPonljUJwA==",
            "dtype": "f8"
           },
           "yaxis": "y"
          },
          {
           "hovertemplate": "Label=4<br>Time=4<br>Dimension 1=%{x}<br>Dimension 2=%{y}<extra></extra>",
           "legendgroup": "4",
           "marker": {
            "color": "#FFA15A",
            "symbol": "circle"
           },
           "mode": "markers",
           "name": "4",
           "orientation": "v",
           "showlegend": true,
           "type": "scatter",
           "x": {
            "bdata": "ovjXry05vD9s2pDOhji8Py7/2y4hhPy/+7XiNCIa+T92JHsn4pQBwP5cLD7+VALA8Py0Ti45vD880m0DNjm8P7wS3X5AObw/G9CEaIELAcB24v6q/Di8P5hMSVVeFvU/tICO0zJf/L/qFZC4rTi8P/rku1ClOLw/Hi1nJVY5vD/yN9wkZlX/v+Leuj15Obw/PIFKac85vD9OlwcCFTm8P2L/OnDacP2/msfEjOjjAMBE6JUuvInuPw==",
            "dtype": "f8"
           },
           "xaxis": "x",
           "y": {
            "bdata": "8oirlps1CcAyVvIxlzUJwEoH7ttpE+E/uOVRX56+5T8GkrJZGojgP+Y2BJXtleQ/IAY1CJY1CcBMuoKNmzUJwGCr78yWNQnAwF5DvF7CqD/uy3+ilzUJwCTyQtIjV/M/YEh0KCjaoz9+2pXGmjUJwNJ1DuSZNQnAaKeMpZc1CcAgNbz2iFi1v2xWh6SXNQnActvfqpQ1CcA8koW3ljUJwFixKYhIp9s/+F6fizGx4T/RV6YgKOznPw==",
            "dtype": "f8"
           },
           "yaxis": "y"
          },
          {
           "hovertemplate": "Label=5<br>Time=4<br>Dimension 1=%{x}<br>Dimension 2=%{y}<extra></extra>",
           "legendgroup": "5",
           "marker": {
            "color": "#19d3f3",
            "symbol": "circle"
           },
           "mode": "markers",
           "name": "5",
           "orientation": "v",
           "showlegend": true,
           "type": "scatter",
           "x": {
            "bdata": "mpOWKd44vD9KFXhS0ji8P43UhCAHL/Q/mgIG3/sM9z9sYTQ4bD4BQIKqsqKVOLw/nnhjLU45vD+icuRXhji8Pyx9fzIqObw/DL7QR904vD8EbNjAFeP7P2BfLvGdObw/Kgcl/944vD+afjp/RjYFQLZBAJfcOLw/Vlt50VQ5vD9rt4DS/gj+Px4crqUmObw/4804r4+6AEDoB8epIzm8PzhWSsHQOLw/QNFFSBrV+D8=",
            "dtype": "f8"
           },
           "xaxis": "x",
           "y": {
            "bdata": "OM1XtpY1CcB8zuvAlzUJwPQhBFZaZe4/jSSRfWTY6T+cgQSCiCbjPxBSCoKaNQnAIJXDAZs1CcBYx6i1lTUJwACkEFuXNQnAciKq7pM1CcBedc/nMjTtP3i1UfGbNQnA/rPPrJk1CcBUEvguVYvYP/JIDXyZNQnAmqdcJ5Y1CcACbW92yivwP7jpMzGYNQnAEXudTdJz7j+mYBp3lzUJwNxbLkyVNQnAM5Ul4QtU5z8=",
            "dtype": "f8"
           },
           "yaxis": "y"
          },
          {
           "hovertemplate": "Label=6<br>Time=4<br>Dimension 1=%{x}<br>Dimension 2=%{y}<extra></extra>",
           "legendgroup": "6",
           "marker": {
            "color": "#FF6692",
            "symbol": "circle"
           },
           "mode": "markers",
           "name": "6",
           "orientation": "v",
           "showlegend": true,
           "type": "scatter",
           "x": {
            "bdata": "99nbGl1J+D9eNduWrDi8P34iuHYgObw/bPvda2A5vD9FJEGrfzf9PzDLZrFtObw/YKzDSlI5vD9OE6nDnnYEQAgtkx0d6Pw/VMlehect8T8yvMpHd+b3P+rjJHyJObw//n/bjAFtCUBMzAwtTOX6P154kKcFObw/yb2jLb90AkAkx1gZ4fj6P7UcovaACgBAve7QrVmbAEDAp7MpWjm8P8t4GINbhuc/",
            "dtype": "f8"
           },
           "xaxis": "x",
           "y": {
            "bdata": "koCtyU8Z5z+ANeiGlzUJwLwA6/WXNQnAxCbUiZY1CcBKqYQn5WDkP5JY3ceWNQnAdPF0mpc1CcCUdbgKLW7pP1gSzr5+beA/WuC45QXA4D9dSsHoFcPqP2AA0iucNQnAeKtdS9dO079EtyASthPaP/jbadmWNQnAdFIWm8XL6T+1fEiA1yHqP9WxIbFToO8/AfbKysCE5z9C2euanjUJwA65Rjm4++0/",
            "dtype": "f8"
           },
           "yaxis": "y"
          },
          {
           "hovertemplate": "Label=7<br>Time=4<br>Dimension 1=%{x}<br>Dimension 2=%{y}<extra></extra>",
           "legendgroup": "7",
           "marker": {
            "color": "#B6E880",
            "symbol": "circle"
           },
           "mode": "markers",
           "name": "7",
           "orientation": "v",
           "showlegend": true,
           "type": "scatter",
           "x": {
            "bdata": "mq0dVdiA/z8MrhCuNTm8P/iI4Ht3Obw/Un6cvaY5vD83a9/S5L37P6yCPXCAKwFAVGurnrmxAEDGaVfsGzm8PxMYh2KK4/o/hOQUomw5vD+BybsqIi7+P+I2XQAJObw/cKyLybE5vD9oiB+w5Di8Pze37wekMvs/ruh4wws5vD/6f0lAXzm8P0g3TZYIObw//EYTrec4vD9Clhvb+Ti8P/BBE7muOLw/vBXxkJaB/j+A33O24Ti8Pw==",
            "dtype": "f8"
           },
           "xaxis": "x",
           "y": {
            "bdata": "pOmL7Z0p4z8wT2xDlzUJwN5ybaGaNQnArMaLkJg1CcBsaWJJAnjkPyWdC6YumOw/j2aoKzlT6j9Q/bN7mTUJwPzC/zbm9OI/2s/Kb5w1CcDnMEJVoz/pP8gw5JSXNQnASB0Q9Jc1CcDK0KnxlTUJwNYYcoJvaOM/kC2lk5U1CcBKWD6tkjUJwKQ6zlqVNQnAutwHepY1CcAoyfbUlDUJwKqRFR6XNQnAj4RmTZ7z6j/i64vPlDUJwA==",
            "dtype": "f8"
           },
           "yaxis": "y"
          },
          {
           "hovertemplate": "Label=8<br>Time=4<br>Dimension 1=%{x}<br>Dimension 2=%{y}<extra></extra>",
           "legendgroup": "8",
           "marker": {
            "color": "#FF97FF",
            "symbol": "circle"
           },
           "mode": "markers",
           "name": "8",
           "orientation": "v",
           "showlegend": true,
           "type": "scatter",
           "x": {
            "bdata": "MjM6vSiGA0BwCyRIPDm8P+f23LjEsQdAGF/+r7M4vD++EYqEsjQIQI23jF9kUgBAN+NvJX0ACUBG3EMvUjm8P76kjjiOObw/ZNXMYb84vD+g/r0uYND7PwO3NFuuFQtABZErMe36BkBmvmPJODm8P9e4f/N4NAJAflWBnTk5vD/LifB9wsEGQESI7n7wOLw/SvgmYBs5vD+GjIa7BTm8PxYjclFhObw/RaLYiIE//T8=",
            "dtype": "f8"
           },
           "xaxis": "x",
           "y": {
            "bdata": "tpqGe2DV8D9y41XSlDUJwBLFrwyuavA/qjlvPps1CcDd7/Rw2kHyP/1vkSpeUfA/vmHsULM49D/IRFH+lTUJwDBqyP2UNQnAzhnnSJo1CcBmdj8Gb1v2P3r2DFjrdOo/67KUHy/e7z/ufAzGmTUJwJDCA4BcCbs/ppeLCZY1CcBUk07L+grwP1iN1zKaNQnA1BQX7Zc1CcAqnkNpljUJwGxBlPGXNQnACj65M8Mq8D8=",
            "dtype": "f8"
           },
           "yaxis": "y"
          },
          {
           "hovertemplate": "Label=9<br>Time=4<br>Dimension 1=%{x}<br>Dimension 2=%{y}<extra></extra>",
           "legendgroup": "9",
           "marker": {
            "color": "#FECB52",
            "symbol": "circle"
           },
           "mode": "markers",
           "name": "9",
           "orientation": "v",
           "showlegend": true,
           "type": "scatter",
           "x": {
            "bdata": "MHM6xiw5vD8iLtGVoTi8P5ZdOy8LJgJAWYh3CdBf/z9uSvSI7hoCQODcXFHFOLw/l1B328Ad/z9ZAHG8O/QIQOrM+Jjf1vU/cCoUTOw4vD/7ayN67x4EQK5HYsk0NwRAhJN6O+g4vD8WacWZC9ACQG9jlBYuDwpAQ/qK8nfHBEBGyE0m1Di8P8HqrymsOglA1E+k1cQ5vD8mmZn4Yzm8P4JNfyiVOLw/XtZKHsbYB0ChUbEL5AkBQA3d6xv1tAhA",
            "dtype": "f8"
           },
           "xaxis": "x",
           "y": {
            "bdata": "0Ot/cZU1CcDc21AslTUJwCiQtHML5/I/aGRK4Y9w8T9q07+Lk4DhP4yrY02TNQnAj7maLqk89z965HtUcabtP6bMnDcEZ/c/AHNoFZk1CcBrKYC2tWDlP4c6lQHKIuw/ttvezJY1CcAr0EtlfRXsPzapd582N+U/1X2kM0aT8z9cjEvhnDUJwPXd2XNnxeo/SgtH+Jg1CcCuLod4lzUJwCo0X8CbNQnAcGCVtqMV2j+Au6u/UPbIPyB9ShzIyfI/",
            "dtype": "f8"
           },
           "yaxis": "y"
          },
          {
           "hovertemplate": "Label=10<br>Time=4<br>Dimension 1=%{x}<br>Dimension 2=%{y}<extra></extra>",
           "legendgroup": "10",
           "marker": {
            "color": "#636efa",
            "symbol": "circle"
           },
           "mode": "markers",
           "name": "10",
           "orientation": "v",
           "showlegend": true,
           "type": "scatter",
           "x": {
            "bdata": "nFWXj3w5vD9xbFwRYXzCv8KZSrQWRdw/FLiT0Cs4vD88XJL1qDi8P0RksKlFObw/8Dskwp84vD+i2MaV4zi8Pw98lyl7BOg/ePmJsul50b8=",
            "dtype": "f8"
           },
           "xaxis": "x",
           "y": {
            "bdata": "7CGnj5g1CcAciCGMnUPSP4YyjY1wZOU/2JyuuJo1CcCCbU3dmjUJwJynYVeXNQnAYv+O95U1CcDUYeINlTUJwOBMSKBYzr4/dF8YzFTZ2D8=",
            "dtype": "f8"
           },
           "yaxis": "y"
          }
         ],
         "name": "4"
        },
        {
         "data": [
          {
           "hovertemplate": "Label=0<br>Time=5<br>Dimension 1=%{x}<br>Dimension 2=%{y}<extra></extra>",
           "legendgroup": "0",
           "marker": {
            "color": "#636efa",
            "symbol": "circle"
           },
           "mode": "markers",
           "name": "0",
           "orientation": "v",
           "showlegend": true,
           "type": "scatter",
           "x": {
            "bdata": "kEa1ZfT8AcBthAeffHLxv97FZex8GPu/PmHBDacx/r/beBOruyfzvzpYnhOZ1f6//wbu7yBY579q9qeJtqH4v6pkCAG1UPK/u0QvDecCAMBWvR3UaLUBwDo/c2woedW/cYfeEB4u97/Aqq0HE4f/v6gCEV3k9O+/shsbupn28b/JNBYq4vEAwH/zd5c3I/S/jQbCavpz9r8gSdW3Ejm8PylGhWcyaATAN5Hjfanb9b/C9Uz5yKn3vw==",
            "dtype": "f8"
           },
           "xaxis": "x",
           "y": {
            "bdata": "rcYfn1N36T+3DWX+nvPmPw7pyD4C3PM/xgv+EVZ96z9UIuQy5dnwP671uELIv/A/Gdur0cTE6z9WOZXxzVz1PzDwPtZjuOU/WPOE0HII6D+3G2zk8vPlPwUa4vT+SfM/CNyknhsM2T/euN+c4aXpP2f3Iii1Guo/cD0LNssm2b+IfsL3u0nqP6JZiqEvhO8/4Zf0ZPjg7T/gVNOemzUJwH7u11lnq+A/mIWOAMj+8D/YrwggJkroPw==",
            "dtype": "f8"
           },
           "yaxis": "y"
          },
          {
           "hovertemplate": "Label=1<br>Time=5<br>Dimension 1=%{x}<br>Dimension 2=%{y}<extra></extra>",
           "legendgroup": "1",
           "marker": {
            "color": "#EF553B",
            "symbol": "circle"
           },
           "mode": "markers",
           "name": "1",
           "orientation": "v",
           "showlegend": true,
           "type": "scatter",
           "x": {
            "bdata": "+ozXnJHu/r8Cc7VQr77sv/o3IPqEjey/xkhRY2KO8b9lxV3ZoU/7v8sNm3UQJ/m/HSiRB+0S+L8iT6F7M2H1v7VSi85kavG/DwD00ki+4r/Q8Vk51Lbvv68FICZqjvC/mP2wilp++r8c+glE5x7/v0gA6+pWSvC/givnGc4K6b8WosG96Unxv6zq4bRLvfy/vg6RJG5B8b8SGB4t7S/2v15W3+3iOLw/avHInss5vD9lsV9STUv5v2RSAdLuLu6/4nE9P2SD6r8=",
            "dtype": "f8"
           },
           "xaxis": "x",
           "y": {
            "bdata": "TMFKC2GK3T/AKHvllUSzv2MAnq84sfQ/zCZYZfpI8T/rJUZKGYPoPxLT77OXEeM//ziS/aiq6D+eCVP5JAz2PyCHqOULy/k/Qt/lPZIL6j+gw7g/cq30P1I1WW5CofQ/+FlLHS3q3j80kokfJSrhP1Ecj3hGcfM/I+dKSwka6T/mayqhr632P95yk1cBr/g/4Ia+1EJVpz+b0C6JaS7xP5CeESaSNQnA4J+xAZk1CcBNYyKi9Cv1P1aem1PC4eQ/SOusfggu+T8=",
            "dtype": "f8"
           },
           "yaxis": "y"
          },
          {
           "hovertemplate": "Label=2<br>Time=5<br>Dimension 1=%{x}<br>Dimension 2=%{y}<extra></extra>",
           "legendgroup": "2",
           "marker": {
            "color": "#00cc96",
            "symbol": "circle"
           },
           "mode": "markers",
           "name": "2",
           "orientation": "v",
           "showlegend": true,
           "type": "scatter",
           "x": {
            "bdata": "sYqnqfPp57+Wez5mXoz0v9IHuywhObw/DA2/dX05vD/+XDLtRoj1v7qdQAf0OLw/+T7koXMT9b/qBdJP3Ti8PwUzDRtJmva/OqTE0ccH5r82Ox0wJTm8P4VmNU+pfPK/xO0RFaFu/r81TY0R3cb0v/LfPOU5Obw/1mQjJQk5vD/G7nP6RTm8P/1XQTjwNvS/Qi11QTo5vD+w8YknhTm8P2q0Wck6Obw/2p/fInQ5vD9+DN8mkDm8Pw==",
            "dtype": "f8"
           },
           "xaxis": "x",
           "y": {
            "bdata": "oCRnago6qL9gnYkvcZSjPwIhZZyVNQnAIHlS65c1CcAgHKR5OTO9P2bJAxyXNQnAYGTB4dGJrb96elzXkzUJwNCvZPxx1cO/PmCsomku97+gON2+mTUJwJDwsdEBCL4/+uaZcM6Z/r/Q138gF8/aPyIroIyZNQnAsLFgP5k1CcB2AtZEmDUJwPSg4WoNkeQ/HpM7/po1CcDMK4RAmTUJwFZb+cKWNQnAehxodpo1CcAs9Y/hlTUJwA==",
            "dtype": "f8"
           },
           "yaxis": "y"
          },
          {
           "hovertemplate": "Label=3<br>Time=5<br>Dimension 1=%{x}<br>Dimension 2=%{y}<extra></extra>",
           "legendgroup": "3",
           "marker": {
            "color": "#ab63fa",
            "symbol": "circle"
           },
           "mode": "markers",
           "name": "3",
           "orientation": "v",
           "showlegend": true,
           "type": "scatter",
           "x": {
            "bdata": "Nics6cZbtr+nAafqWxfFv9Gxh5Wcrcg/7klKu5iK7r+f/ysMD3nxv5q4+NdVMti/vjKyQ5rN/b+dMDqqBi7HvxLxicuClva/1KM3h0aK378Cl+XHfIuyv6YLPvejctG/rJx6Hk5S6r+F9dIWmPD4v+qwzM+hU/G/B2d00iHX8r9u5sDPAnezvxeiZ5Cjksu/FB/yWSaB6L9NqabxGO7xv2QxfhRCObw/ZAGSkhQKqb+JhLQrsD71vxovlojs0LS/yXp+WyLcxL/AEsYsU2bYvw==",
            "dtype": "f8"
           },
           "xaxis": "x",
           "y": {
            "bdata": "ZOOygHRN8L+EIdAGP3Xov9QSdHTBuvm/aFIZjP0O6r/cdqcNLNTkv2BMhZb8uMY/hEtOY7ny1b80Nv5+22Xwv/T+tH04MeK/oJ38MfMuA8BKgHtCEC7xv9yrTqBmDO2/qBDjVfk96b9oyRcv2Ojrv+rQcs/rsPK/SHeicTUp7r8qbtx4+T/zv1BuptHk4/G/6PobX3nf6b94OLKWxVTXv/4cieSVNQnAoNA8wmEw8L+UIElVDijhvwisLT1DlOq/5A5YxSly8r+0IDSiGSj/vw==",
            "dtype": "f8"
           },
           "yaxis": "y"
          },
          {
           "hovertemplate": "Label=4<br>Time=5<br>Dimension 1=%{x}<br>Dimension 2=%{y}<extra></extra>",
           "legendgroup": "4",
           "marker": {
            "color": "#FFA15A",
            "symbol": "circle"
           },
           "mode": "markers",
           "name": "4",
           "orientation": "v",
           "showlegend": true,
           "type": "scatter",
           "x": {
            "bdata": "3ndiMAvQ9r92CyUdnjm8PzambSHi8P6/p54EFSZCwb+IA8MrA4X5v1BZ1nXIWfm/wlsp+Hnq7L9BKj1MJDD4v47NzbDBqPm/g/ZrGkAv+b8YkNW6Mfr3v7SsdZkvZfO/Pqv2Cr2U9L9Ee7uQxXn4v0NeroNjVPa/J6SBsX7KAMCVr14gEQr1vx4/d6/IOLw/gMtKpH+y87+y6E6YtU74v0W+Bvgjb/W/HsoXxyZ+AMBwg8l3YMq5Pw==",
            "dtype": "f8"
           },
           "xaxis": "x",
           "y": {
            "bdata": "MmWyPP5M7D+YEOLtmDUJwIkKAFifvPQ/IA8o6gor3T8UgAaRD73nP4MCTPzn7+4/rFGJkm5d3z9gaE0DDIvlP1gdHC2Bx+I/1r3fgniV7D/U5XEGOKLxP0D/tBaMQvI/hIUq9WYe0z9OPGwyjwbyP0iLEI1uteM/yE//zDPkzj+Az7zPQ0CDP9rEHIeZNQnAEK8qG/Gx6j84SCmN6t3xP21QwQUk0e4/+EDBuF9j8D+c8Wc9ujbZPw==",
            "dtype": "f8"
           },
           "yaxis": "y"
          },
          {
           "hovertemplate": "Label=5<br>Time=5<br>Dimension 1=%{x}<br>Dimension 2=%{y}<extra></extra>",
           "legendgroup": "5",
           "marker": {
            "color": "#19d3f3",
            "symbol": "circle"
           },
           "mode": "markers",
           "name": "5",
           "orientation": "v",
           "showlegend": true,
           "type": "scatter",
           "x": {
            "bdata": "5Iy/+24f4b9O1LZpLDm8P9KIGOaCCuE/sPSoti7s5z8lDqrWsfbMP3DhkXDq1te/1kuzk7WH0L/S4LWeNXDRv+hSEOSQztG/kujEQxag079UppwPgoekP5qzDcGlObw/iqRLPZqu17+ofE0R/nHVv2Ty8sUJbd2/+XamEedRzr8mG9xjF7TCPwJZksexatS/wmta1lXx3z8tQR4ODofNv+SA+gawWtW/bm+5BxO7tT8=",
            "dtype": "f8"
           },
           "xaxis": "x",
           "y": {
            "bdata": "2J9xHrIoAUAYHt+kmDUJwPrytnwQZvM/TXj+NhGF7D82j7o2xCDjP33TvMQ3Bvk/SREN2ZF8+T+iW5pBLdD6PyL1lLoyL/Q/9R3vlUAt/T9BNxpXs1z3P5oT2t2UNQnASq9YwMbx/D+x/z6BMjPoPyZdrwoHHwFAT9hh15/6+j/lLJye6y7zP4FmHcMk+f0/MwBpH3Gy+D9VPVlULvD2P/P9FxNkCv4/n+AZmCP89j8=",
            "dtype": "f8"
           },
           "yaxis": "y"
          },
          {
           "hovertemplate": "Label=6<br>Time=5<br>Dimension 1=%{x}<br>Dimension 2=%{y}<extra></extra>",
           "legendgroup": "6",
           "marker": {
            "color": "#FF6692",
            "symbol": "circle"
           },
           "mode": "markers",
           "name": "6",
           "orientation": "v",
           "showlegend": true,
           "type": "scatter",
           "x": {
            "bdata": "keMdYxodB0BHmlpe/uj/Pzo9aHIaWwFAeJqh4z2e/j9dtlF77ZoBQCsMYqpfvwJAA/zoaLIL6z/J3m4PmAf+PwtB92S02/s/kJwNA8lq/z9KISEDppT+PxcD0EFOOvo/5KFzuemfA0DnrR61xBP2P9JZnEskObw/JBlztTG+BUCETsxyqNADQLG9eW5nR/0/RelrsrS0B0CmjXfm69T9P5sjxxiFxMW/",
            "dtype": "f8"
           },
           "xaxis": "x",
           "y": {
            "bdata": "sgCzjUDY5D9sHlse4S3dP1aSBzRE1OM/lM5USMQI3j/4vPDbC4jQP+jNtiR0q90/HNydo8cr4r+3xdjvBTPnP9gv52jWPN0/AJxvnPa0nz9g9kXbIBngP+SEEIQRU9Y/IMOcKTDCtr9wSuLypRnePzTb6muXNQnAMDNfqyD6wj8UcnNlupjQP1ATR3RaWrY/EFWNVMoG1D9wZ+73Ue6xPwkwf3wb2/M/",
            "dtype": "f8"
           },
           "yaxis": "y"
          },
          {
           "hovertemplate": "Label=7<br>Time=5<br>Dimension 1=%{x}<br>Dimension 2=%{y}<extra></extra>",
           "legendgroup": "7",
           "marker": {
            "color": "#B6E880",
            "symbol": "circle"
           },
           "mode": "markers",
           "name": "7",
           "orientation": "v",
           "showlegend": true,
           "type": "scatter",
           "x": {
            "bdata": "qg1B7aGs1j/PJxoSJPjUP2h5hFEVBdA/WU+GwTZf1D+0E+mt8pPuP3FWCiWY0vM/YSGYfVbD7j84lwwW2pnQPwZrOh3ut/M/zpY1KCb+1D++J5/n9L7Wv3YONtFXqtg/iELjV605vD+Z1Colm8fVP5SQj0McyfA/MxPhRYXx0j9izmi9I63QP3o0iBz4OLw/Cfegfadi0z/qA/pdzTi8PzxKuTaHp9Y/x/hYPcyT+z87h3moUNnUPw==",
            "dtype": "f8"
           },
           "xaxis": "x",
           "y": {
            "bdata": "Ug44NaW94T8Ky2+NTZ3zv6ScT88Y0tK/cFa1iZhQ4b8csPtnv4bTP/nyx3koFOY/NJF4JRpb0z+kuG9ybNjSv7It2nZEtPA/JChhTcXS0b85jYN6Lv3qP4Bk61gDeJ6/XrKHnJo1CcDM1Hoh+rDgv6jjoWlwZ8A/NIA9BnBb5b+4Pbp586biv/5/XOyZNQnAcHLyPRqF2r8iqZcYlDUJwPC8QqwObca/FNAr+c3y2z+AY+QcDnHWvw==",
            "dtype": "f8"
           },
           "yaxis": "y"
          },
          {
           "hovertemplate": "Label=8<br>Time=5<br>Dimension 1=%{x}<br>Dimension 2=%{y}<extra></extra>",
           "legendgroup": "8",
           "marker": {
            "color": "#FF97FF",
            "symbol": "circle"
           },
           "mode": "markers",
           "name": "8",
           "orientation": "v",
           "showlegend": true,
           "type": "scatter",
           "x": {
            "bdata": "2kBs9PiEAkCtRGrCUNP7P6K9xsm4DwZA2VoTrVIZ/T8lbLL5vZIHQNXaA+MMHAhAS46Nsv1jAEDIo1T0V2kBQFxrlpkXObw/5z3HSRnBBkAmTPbTp9oGQEeB1IYIvwVAryZ7+dN6/z+Qj6tA/fD/PziGu9vy1QNAHncDX904vD+LDK9lR8QQQI7YWNI/jwFA8H3GgHQoAEAdNn3qwXICQKTwas6sNwNARGiJ7FQ2BUA=",
            "dtype": "f8"
           },
           "xaxis": "x",
           "y": {
            "bdata": "L7r0kTGM/T8SxxHp7cb2P4XBtM5qEvg/50BUdiMd+T/cdeDnoCnxP7lJabNkvfg/xG9mXEA27T9Cxp+R9n3+P8JWv2KaNQnAbkwrKwg/AkA44EF3AEjiP7hExm2Nd/A/9LNR7Bbs8z9pbmVkP+37P2PNYwMWqeg/cDhaHJc1CcBh6IHyUMTuP1oBNJrRAABApgDRXrLY/D82p0z99zsAQEDv1kLL5gBAArUv/Y/u9T8=",
            "dtype": "f8"
           },
           "yaxis": "y"
          },
          {
           "hovertemplate": "Label=9<br>Time=5<br>Dimension 1=%{x}<br>Dimension 2=%{y}<extra></extra>",
           "legendgroup": "9",
           "marker": {
            "color": "#FECB52",
            "symbol": "circle"
           },
           "mode": "markers",
           "name": "9",
           "orientation": "v",
           "showlegend": true,
           "type": "scatter",
           "x": {
            "bdata": "7otGn6wKAkBSahbVD9IAQHAkC5R9Obw/fez/qwHA+z8fOB6BFU8HQDNtyFA3SgtAXeQmSJv9DECnrxznH0gHQKzy3WY0TgVA1NFJQBlUAEDjqoXyo5b/P5E0XGqu4A5Ab4mRKMpDAEAT/yAs+swBQG914wKjmghAT2XcQy2xCkDOcklmtDi8P5Vw8g3f1w5A3jDzJQc5vD9NYW6F6tT6P91FUGlz6wdAN84cMhyJBkBaeMz9G9f1P/sPE4V8twpA",
            "dtype": "f8"
           },
           "xaxis": "x",
           "y": {
            "bdata": "JKEdIQkT2z/YGdikD//Fv2LgbPSZNQnAYAhkcQrl1j9gBfqFhQKxvwh86tJVxME/iBdENSPp3j+t349AH47sP8bq4LSDIuw/kGVHAxbnxj9tSsGwXDnxPxCzpNiFWc0/SNiBFzANzD+QM0dEYHbaP4RRsqWEp98/97tHSGF77j+sFQGSljUJwADXnLEUjas/pAz545Y1CcBwmNBjPdzNv9jEXcTVotI/wKAx8rqVpD+uwXfGVaXhPwBlJSWJRL2/",
            "dtype": "f8"
           },
           "yaxis": "y"
          },
          {
           "hovertemplate": "Label=10<br>Time=5<br>Dimension 1=%{x}<br>Dimension 2=%{y}<extra></extra>",
           "legendgroup": "10",
           "marker": {
            "color": "#636efa",
            "symbol": "circle"
           },
           "mode": "markers",
           "name": "10",
           "orientation": "v",
           "showlegend": true,
           "type": "scatter",
           "x": {
            "bdata": "ZJHZvGw5vD/JhXDrj8cFQI7KdPCwVba/QAnrm/CNAkAQMjg7IFiFP3VQvVxXSgNAnmoOFIVA7r9W5CgdhG7ev8ZcC8HYIPI/eSacSN57578=",
            "dtype": "f8"
           },
           "xaxis": "x",
           "y": {
            "bdata": "hIJfp5M1CcCAk/pLcI7XP+XKeVULufU/SMpgYYCG0D92olIJ1RbgP0ksMqwNQQJA0qEepBbh9D9Io+B7mkr/v3izybD8Ces/khbsscL1/j8=",
            "dtype": "f8"
           },
           "yaxis": "y"
          }
         ],
         "name": "5"
        },
        {
         "data": [
          {
           "hovertemplate": "Label=0<br>Time=6<br>Dimension 1=%{x}<br>Dimension 2=%{y}<extra></extra>",
           "legendgroup": "0",
           "marker": {
            "color": "#636efa",
            "symbol": "circle"
           },
           "mode": "markers",
           "name": "0",
           "orientation": "v",
           "showlegend": true,
           "type": "scatter",
           "x": {
            "bdata": "azgxAzAx+r/O4a2WEXzxvwVrTSys5Pq//LkrACkA8r/mTNPjPJnwv5DmWl0QDPy/YSXS07Io9r9of6HQ/Tfwv+7oCUvhEfK/SQcEYqEp8b99ZpXrV8n0v3HdR8CQNfi/eHokimcr9b/NayOW3wLzv+04xv5Z6vq/s0Pd20ka9r841PPbgYbuv9co4s6rZvG/eVajT6SX+L8C/Xy3eDm8P64NdByt4u2/2AkY34sV+b9+NXNp2qL0vw==",
            "dtype": "f8"
           },
           "xaxis": "x",
           "y": {
            "bdata": "5mrNHJDs8j8EoSqErvrwP4qdhcE++/E/4z+C/gMO8D9xsHN/m5TtP7VYTrQG6vI/nMrfdsh38j+7XLQrilLtP6scwvqid/E/bzK6vMsL7z/L9+uhI6zxPyxj49PCcvM/TADa5CC28j/+U8es7wHxP3Jce1zGCfI/Wjz9gw5J8z9/lUiCDmjuP/OD/4p6/e4/SmESRz869T8uYJjqmzUJwF52VgsgRuU/ohfv7S0B8j9KFjEG4wPxPw==",
            "dtype": "f8"
           },
           "yaxis": "y"
          },
          {
           "hovertemplate": "Label=1<br>Time=6<br>Dimension 1=%{x}<br>Dimension 2=%{y}<extra></extra>",
           "legendgroup": "1",
           "marker": {
            "color": "#EF553B",
            "symbol": "circle"
           },
           "mode": "markers",
           "name": "1",
           "orientation": "v",
           "showlegend": true,
           "type": "scatter",
           "x": {
            "bdata": "cAUR+faZAsACbSvQH18CwOX14E7nRQHAjV6g8UuPAMCgO45WJwgAwO4Bu8w0aAPApHyAX8omAsA7pKJOYcwCwCb1W/ogAQHAHC+CGnuVAMDQonYdXTADwFrQu1p19gDA3VcUBagBAsD7ChlMNKv2vxa4Q0OJwv+/UsCMzuJVAsBy9AllPzIDwHLwgs1RUP2/InMlYekC/7/9qfx37+UBwB9kijiecwDAuSSsPe79AsCmDmLS0RIDwP+cBVj6dAHAkca9O8MZAcA=",
            "dtype": "f8"
           },
           "xaxis": "x",
           "y": {
            "bdata": "hSOcUMEqA0BPBfuIQEQDQJkLR8CyzAJAXIYja1CmAkAIudGiYI8CQDskUbaFWANAplLcaNEWA0C10SH3908DQIasnBegxgJA6YriicGAAkB+/Jav0V4DQNlqQeXmswJAy//IHsX4AkDt0iseFYgAQGwXAtL2kwJAZW93Oj8uA0AeAVvV/EUDQIyTkXI47wFAwL0xTtJLAkC80Ido/tsCQPSjHxiJBQJAV02T0pIpA0CmSmyg4R4DQF8ZGg6fxwJA5EEfis7ZAkA=",
            "dtype": "f8"
           },
           "yaxis": "y"
          },
          {
           "hovertemplate": "Label=2<br>Time=6<br>Dimension 1=%{x}<br>Dimension 2=%{y}<extra></extra>",
           "legendgroup": "2",
           "marker": {
            "color": "#00cc96",
            "symbol": "circle"
           },
           "mode": "markers",
           "name": "2",
           "orientation": "v",
           "showlegend": true,
           "type": "scatter",
           "x": {
            "bdata": "tKhRfmA5vD84+iMpGzm8P+Yben3+OLw/+OthQE45vD+wB0YpVDm8P6SVDLU4Obw/xA9ut4U5vD/wKDjw0zi8P5hXE3itOLw/VpaoBfbl/r+2p8efhjm8PxTgIygPObw/5XoyeH6I+r/oM/zb2Dm8P1iUdjz8OLw/LLDdA/84vD8UjKjC7Di8P2pkinviOLw/pqIaEKo5vD+aBzhG8ji8P4JmAeX4Obw/+Cv30xQ5vD/iR53b8zi8Pw==",
            "dtype": "f8"
           },
           "xaxis": "x",
           "y": {
            "bdata": "7mGbAJc1CcCa+tcQlTUJwGAEiFeVNQnAwDtQvJY1CcDcn6GiljUJwHQaqgqWNQnA2OqHBJw1CcCMYWu/mDUJwE4H9qCbNQnAxLtornbg/78g0g4anTUJwL5/i+KUNQnABAooJj7LAcCcbHIfnzUJwMIKHRGUNQnAsnzZyJk1CcBKsUMTmDUJwAAiLaaZNQnABImAtpc1CcAqQoOZmDUJwAawnJyVNQnAFIlU/Js1CcAAfuivmDUJwA==",
            "dtype": "f8"
           },
           "yaxis": "y"
          },
          {
           "hovertemplate": "Label=3<br>Time=6<br>Dimension 1=%{x}<br>Dimension 2=%{y}<extra></extra>",
           "legendgroup": "3",
           "marker": {
            "color": "#ab63fa",
            "symbol": "circle"
           },
           "mode": "markers",
           "name": "3",
           "orientation": "v",
           "showlegend": true,
           "type": "scatter",
           "x": {
            "bdata": "tidcBaYZsr8SLqPOQ/XYv7rYqMcYrL6/sDGBx7Jv0r/MfXsb77/Qv9T6H1Z8sNO/h8s45ffXyb/fLDmaJy/Nv7i+snCQbqE/TjXsmTyT1r/uYlzoFXi0v6wP/KGMS9e/Vj4E3pnG0r8qf/JF4erUv2Q4Gx+FdNG/ojInSDrI0r94SqlSJnTVv5yEUXrIm6e/uuNVgSUmtb8saRfXCrLQv5LGySF1Obw/krMS2DuMv7/kRldPAL7Sv21RhMjipMW/IcjNmcKJzL8dykFQp6nJvw==",
            "dtype": "f8"
           },
           "xaxis": "x",
           "y": {
            "bdata": "5m+08bhP9r+Q2wLP6H7tv6hSmHDcg+i/SCGwChOL7r9AzoO4fCkBwHK1iZMTgfO/CMGGtGC05L/QtC9hVq/ov2ZOXUtivfW/8OZSgpQD9L/sKcnjwZjrv4zbE8ZyaPu/foN+wJqf8L9wuJKElKf5v9ANCaLzMvi/LAErn1Jv8b/uYODxJyXxvxbJww31b/O/4PxHasqA77+4BglZlP/nv1RfnYSbNQnAymADskNV8b+srgcLbXDuv9DPQaNZC+q/ghCKoJ4r8L9URSlQx9Xmvw==",
            "dtype": "f8"
           },
           "yaxis": "y"
          },
          {
           "hovertemplate": "Label=4<br>Time=6<br>Dimension 1=%{x}<br>Dimension 2=%{y}<extra></extra>",
           "legendgroup": "4",
           "marker": {
            "color": "#FFA15A",
            "symbol": "circle"
           },
           "mode": "markers",
           "name": "4",
           "orientation": "v",
           "showlegend": true,
           "type": "scatter",
           "x": {
            "bdata": "7Ij83OrG+7+c2b1KcFMAwDiLNhuOObw/52g8BEmB+7+ZUjHpYF31v1W4E5tbCvy/FR+mnu2O9b8E2ZKCxJHyvwP4XqTErvi/l4ssMI1j+L9Ehzm1VtMAwI/R8Ou8TQHAru4Bbso5vD+HNgnvEg37v34JnsbrnwDA0lGSeEG867+Gi4gzMF77v4907bmPt/O/V4Y/dlw/+L/27v8wHG78v6eIgogpn/m/VgBb/OPy+b9qUNqu4Cn4vw==",
            "dtype": "f8"
           },
           "xaxis": "x",
           "y": {
            "bdata": "d9dWkCxG9z/oNb89Pv71P4BzxYmYNQnAWZ3RwlsC9j/WgSbfZ+3mPxxR95hZCvc/41Y7PIf87T8+4YlOC/zzP8JR1BzK4fE/D2hTSvXj5T9dgjuVraX3PwacbsjbS+A/VOR7dJg1CcD0r+Ni5pTzP7QgKtUPCPg/0EJa6GVX2L9YkZBdXSnzP4Hr35emFPQ/9Ahl1IhE8T/eAbhCdUv3P3iLvjTRzvM/zxHPqnXh6j9u+ilEPzLxPw==",
            "dtype": "f8"
           },
           "yaxis": "y"
          },
          {
           "hovertemplate": "Label=5<br>Time=6<br>Dimension 1=%{x}<br>Dimension 2=%{y}<extra></extra>",
           "legendgroup": "5",
           "marker": {
            "color": "#19d3f3",
            "symbol": "circle"
           },
           "mode": "markers",
           "name": "5",
           "orientation": "v",
           "showlegend": true,
           "type": "scatter",
           "x": {
            "bdata": "iEfWVfX/2b9M5r5+F7TavyxyjpNtft+/uPl4pdvr3r8p7povJ2bkv1ipblmmf6s/fODe4Zw24L9Ez/wrnQnjv9M5hVyn6+G/J+Vz76Zyw78V/FFbl5bMv1SvbMuVObw/hHSamVY7478QtRLiWw7avwkZnHrMS+a/UCBp2m7B5L8WAziScf/Vv42iOfDxFOO/Wm+jVMGn0b8MdqXTvZ/hv/K5M0rd6Nq/67uvrTCk5L8=",
            "dtype": "f8"
           },
           "xaxis": "x",
           "y": {
            "bdata": "P+Cq2oJZAEAu2T/lShT3P2gDwRQDiwFArj8inprcAECSzpuTw7n7P0DDo2kMQMe/TW5+mjuE8j/jQmfC+qrxP478Q/KXLfQ/UUk1j5fE8z+uHcE7QK31PxjOSLaZNQnAJqVLm9DA/D+eTDfyk7D8P4RyNpumdABAlhLgbesi/z8llrffFID8Pw503anX0Po/R5IY3E6b/D9lKuDxA4z4PwAzCOFFhgBAfxl+XbGw+z8=",
            "dtype": "f8"
           },
           "yaxis": "y"
          },
          {
           "hovertemplate": "Label=6<br>Time=6<br>Dimension 1=%{x}<br>Dimension 2=%{y}<extra></extra>",
           "legendgroup": "6",
           "marker": {
            "color": "#FF6692",
            "symbol": "circle"
           },
           "mode": "markers",
           "name": "6",
           "orientation": "v",
           "showlegend": true,
           "type": "scatter",
           "x": {
            "bdata": "z6T+kG9tC0Bp6GOFjhQMQAB4QPVlIA5AxyqFe1W/DUAlMB4ncnQJQORL1O+bMA1A19bsKYf+CkCI4XwztAIJQKLTZgSBnANA7mpxZIXXD0DhpmX22e4LQPKq/ZtQ0wpAb7G9MWD9BkDXgnVbPGQIQOLPg2ei+Q1AE/BfHPaKCkD2R8dJF40PQM+nvVi2mBBA6w2PQWs7EEAm2/1DaskGQCg5DafRuglA",
            "dtype": "f8"
           },
           "xaxis": "x",
           "y": {
            "bdata": "IBKeZspszj9gx/e1EjDKP1B/B1y6s9M/0KMCHAhkxj/IkU9gHNfYP/hkdxmzpMM/5MhKbyah1D9AwiINMifLP3D5cjfD1N8/QJsRxountD/UM5kbVhbRP5DVLSQrr9M/qB0eURFF3T+4nWKGmAPaP8D3Xcdpw7c/fG4yyuUh0z9g0VhGYUWpP5C1UXT+Ira/wKcLrmm6lD8A5wXoGmjbPyRbv6BXKdY/",
            "dtype": "f8"
           },
           "yaxis": "y"
          },
          {
           "hovertemplate": "Label=7<br>Time=6<br>Dimension 1=%{x}<br>Dimension 2=%{y}<extra></extra>",
           "legendgroup": "7",
           "marker": {
            "color": "#B6E880",
            "symbol": "circle"
           },
           "mode": "markers",
           "name": "7",
           "orientation": "v",
           "showlegend": true,
           "type": "scatter",
           "x": {
            "bdata": "133yEkKg0z9PxPeYjWPUPzrPfE+NKd4/ULDvLvxh1D/kScA011HcP+xL0e3wtsc/etJ6SP5S1T9snFBTbEbbP6nLm3BiXdU/BP9n4qu33D9cMcl87jXhPwmkopLCAtg/2p2pxu0n2T/5xtI4L5DdPxCne+bofNs/x4J38x7k3T9ogwBLkzPUP/I5RUPPkNk/SmKwOwsT4D/8Zwaorji8P2ve7oCvhuE/loo59vRo3D9+V47gWrrePw==",
            "dtype": "f8"
           },
           "xaxis": "x",
           "y": {
            "bdata": "4PVsLIRb3L/oT7u1E1rlv1BwYmQdvcO/cOcWyLUJxL/4WQyC9Fviv1DFEzxOXLC/hFpbyyhr0r/IWHKskXbFvwizyBkSueO/0DHaWw5D4r9Q4sXTRsfMvwDwFPPBocC/0BzK0d0h0L/4NXSMBs/kvxAA0keEhLs/AAwkRIOOhj/I6fYjeJbDvyhwRQNnxdi/7BNOb/2U4r/YafpmmDUJwKgdh8/l89q/yEjV/WxM0b9or3BqOlPkvw==",
            "dtype": "f8"
           },
           "yaxis": "y"
          },
          {
           "hovertemplate": "Label=8<br>Time=6<br>Dimension 1=%{x}<br>Dimension 2=%{y}<extra></extra>",
           "legendgroup": "8",
           "marker": {
            "color": "#FF97FF",
            "symbol": "circle"
           },
           "mode": "markers",
           "name": "8",
           "orientation": "v",
           "showlegend": true,
           "type": "scatter",
           "x": {
            "bdata": "ZlkFy7LaBEDRUoURgQwKQBDP3U5Y5AhAza/WY1SZAkBHHe6s6QcEQGd3uwrPhAZAeQdcv/8RAkA4hKifLtcFQNDrLsbOOLw/ANAGuSxLC0AwesaGbhcJQH1YhT5kxAZA/VhfgARNAkCwYt5wcIT9P77+RmGWKwJAWxYSR2an/j9xlNDswtwGQAk0gTyxGAZAwOqs4BUnB0Cv+y6vrPMLQI5DHXxoxgNAPRs8UkcR/j8=",
            "dtype": "f8"
           },
           "xaxis": "x",
           "y": {
            "bdata": "U9DFfyEmAUAUPthO1MEBQGZIwCxalgJA4GzmCAuEAEACAQKdRugAQCpoy0L84wFAn4AYVXTv/z+bFI1Sf9MBQPBPW7KWNQnAVmEPTBlTA0Bb6mKiO/ICQOjRW/B17QFAf6md8zDG/z84zz4crmH4P7OEi8YMLABAR5eXQVj/+j8Ha2ige1YCQGqDMz1FDgJATs8jsXqvAkDCysh22UUDQJE1ORQiVQFAhbEyHRM5/D8=",
            "dtype": "f8"
           },
           "yaxis": "y"
          },
          {
           "hovertemplate": "Label=9<br>Time=6<br>Dimension 1=%{x}<br>Dimension 2=%{y}<extra></extra>",
           "legendgroup": "9",
           "marker": {
            "color": "#FECB52",
            "symbol": "circle"
           },
           "mode": "markers",
           "name": "9",
           "orientation": "v",
           "showlegend": true,
           "type": "scatter",
           "x": {
            "bdata": "IKS5MH/wAEAmnP3bklkGQKz/VZxHObw/r6bGTRPmB0CvUi3hV0MNQGe9eOKMexBAgE/9DKJ9EEDCaY4SfdUEQCboXPiaVgNAm8vXYmyzCEC+5PN8O1YEQPTM29rjoAxAclD7G7dBBEAMXsqSuA/4PzacJkJQuQtAaw1lPFoIA0DaNnPAnNT6P+5zLL4IOQZAcJPJmQ05vD/ohKaqfW0AQFA0wvSEaw1A6BbZ5/XpAEBhoSYNf48JQAZNqTDOpQtA",
            "dtype": "f8"
           },
           "xaxis": "x",
           "y": {
            "bdata": "MAgZ/kB6ub+APZK5ya3KP9waBlmWNQnAhDUlDlEx0z8AMAjGow5WP2A7M14GNtC/+NlPBOcMyb8ALnk1k4fGP7DH0LlhlrU/0EHgEQpRsT+wAknj66TIP8C0cbBu6JY/gOk2VZmmq7/gj77/27Slv4Cxt+cQP5k/xK87fdGw1D9gi3BiSN/Nv5DbtbUMD8Q/WuG4R5M1CcDAUuP+CBXTP4D4iZZ5xJY/bDtc0KbD1D+wqbEGhvW+P4BeS2D4CpU/",
            "dtype": "f8"
           },
           "yaxis": "y"
          },
          {
           "hovertemplate": "Label=10<br>Time=6<br>Dimension 1=%{x}<br>Dimension 2=%{y}<extra></extra>",
           "legendgroup": "10",
           "marker": {
            "color": "#636efa",
            "symbol": "circle"
           },
           "mode": "markers",
           "name": "10",
           "orientation": "v",
           "showlegend": true,
           "type": "scatter",
           "x": {
            "bdata": "anQEGc84vD+PEAPMg7EQQFHhnfrE6QDA1nrWOVt+EEBof2X16tHcvzufQgPQKQdAUjP2khO34L+au6z1cu7iv6Tk8fcvzts/EXl/ElcLAMA=",
            "dtype": "f8"
           },
           "xaxis": "x",
           "y": {
            "bdata": "cEQ0apc1CcAoWnkPe8bDv0I9mtb5vwJAAOSfS0l3Ur8gxR0SNtTdP4pLPaoLigJAzqUyNnYLAUDoLpenSbIEwARelnozo+O/PazEDj5z9j8=",
            "dtype": "f8"
           },
           "yaxis": "y"
          }
         ],
         "name": "6"
        },
        {
         "data": [
          {
           "hovertemplate": "Label=0<br>Time=7<br>Dimension 1=%{x}<br>Dimension 2=%{y}<extra></extra>",
           "legendgroup": "0",
           "marker": {
            "color": "#636efa",
            "symbol": "circle"
           },
           "mode": "markers",
           "name": "0",
           "orientation": "v",
           "showlegend": true,
           "type": "scatter",
           "x": {
            "bdata": "+Kf0QzUb8b/v3CWbgOcBwNKuhsMF/fK/mOr7qK7J87/G9tKQbOr3v58qcAzOVPu/hFDX+hqhAMDuebQopY34v1bRJUr/N/e/dEh0XEj91r8dsSqRXy74v5wibB1gLvq/zE2BiEkL+L+Bxinqzjn0v8BVRtcs8/W/i/aZi+xn+7+ttA2ksN4BwDXez1xAKPu/ovyrurRk/7/mIpZlCDq8Px902HI+qwDAfsfJ25hg0b9m4f4kNj7vvw==",
            "dtype": "f8"
           },
           "xaxis": "x",
           "y": {
            "bdata": "GZ7aEvZc7T/yBs0dPCTwP/cUAc/zhuo/HJwexEZy8z/4zDPy31blP6CdLXj0fO0/vuBfQDm68T+akuIg6+TxP2DqZZpaTOs/HBhsjsW98T++Zxu2mbDwP2x0tB3Qbu8/YDoqoM9N8j8ILuW1p7vhP9RMeIMBpOA/2RWDmXYl5z9B8WKLRrTsP3bXXiU4aOw/hpFgibth8D+GU6STmzUJwJlllU6eOO8/8KzX4CrLtj9/pnaWfpruPw==",
            "dtype": "f8"
           },
           "yaxis": "y"
          },
          {
           "hovertemplate": "Label=1<br>Time=7<br>Dimension 1=%{x}<br>Dimension 2=%{y}<extra></extra>",
           "legendgroup": "1",
           "marker": {
            "color": "#EF553B",
            "symbol": "circle"
           },
           "mode": "markers",
           "name": "1",
           "orientation": "v",
           "showlegend": true,
           "type": "scatter",
           "x": {
            "bdata": "MhNWtzjz/r9k8bZcJjz9vwkfjq6J8vq/5DmdAr5J/r+W5fTco7v+v14iSDD4FgDA5fB1QfFWAMDFkAjOkQz8vxpWlg8xAv6/fgqh+Fdv/b9kKzpy8pH/v1JjJ1Ns8/2/+L8P4YdS/b9pph9T6zkBwNVlAqu4SPi/hlp3M/ak/L/yumq+c5b8v5raxcjX9v+/6FvsWWgm/L/G9BUSYM7+v+AdliI0pf2/ERyj8m5TAMB2mffyPEQAwC5oa8UECP6/8orDbx7/AMA=",
            "dtype": "f8"
           },
           "xaxis": "x",
           "y": {
            "bdata": "wZsaToRdAkBlNkKL9Q0CQIJTr4PSCgJAnnepW65eAkBwNhz/AxoCQOJBvsG2vwJAo2+BAFmmAkDffEL2as0BQOfw99UcJgJAwGgpO34AAkCcJJh9LpkCQMc5/geX3AFAxP14YCJcAkDkiN4wxr8CQKL0MLZfGgFAwp15FpUbAkD7REQqNlACQJDrzLKslgJAjWMbNwHwAUDgslyqhUgCQODtRtw3VgJAgtrw3a3XAkA1iiJd/3sCQKx6EhngUgJA1RXh3/jeAkA=",
            "dtype": "f8"
           },
           "yaxis": "y"
          },
          {
           "hovertemplate": "Label=2<br>Time=7<br>Dimension 1=%{x}<br>Dimension 2=%{y}<extra></extra>",
           "legendgroup": "2",
           "marker": {
            "color": "#00cc96",
            "symbol": "circle"
           },
           "mode": "markers",
           "name": "2",
           "orientation": "v",
           "showlegend": true,
           "type": "scatter",
           "x": {
            "bdata": "SaXxltNZ97/ptQK+fIv1v+64+pTYcf+/rjgQBMqj/L9kr2/SodH5v8XpYSvZQvC/ND3iJQpQ+b9GcfltDJP4v0RBsOj6HvW/cO+mSZWE+79D5wyAVaPzvwrIScGMAfm/Hg67bxKU87/K0soeAi73v0CljIuazvS/gVWrIp0q9r/dMiDiAbLwv9nz1eOh/vm/BJjayGc4vD996gjJgXD2vx/fwFOYV/K/Vtb1MjM6vD8o+XUXAGL0vw==",
            "dtype": "f8"
           },
           "xaxis": "x",
           "y": {
            "bdata": "uB5c1nAg2b+4G+uY2hTVv8L2NZ38Sv+/1g+t2vRR/L/YcIR5YtXiv6AxCm3ZHta/4N6fLqv53b/Ii3er677vv0Ay/wXIR+O/MPB+irt67b9My0hMOEDhv1C7pHGyV9q/sHZKPeG26L80P4iuhyTnvwTs9DWbjOK/VHl3Y0y74L8Qk8h0NJPav4Sqhy+W/OS/3mwYgJk1CcCwbum/vjzjv7ApDbMHeeG/0BLHRpQ1CcDoS1Kxppffvw==",
            "dtype": "f8"
           },
           "yaxis": "y"
          },
          {
           "hovertemplate": "Label=3<br>Time=7<br>Dimension 1=%{x}<br>Dimension 2=%{y}<extra></extra>",
           "legendgroup": "3",
           "marker": {
            "color": "#ab63fa",
            "symbol": "circle"
           },
           "mode": "markers",
           "name": "3",
           "orientation": "v",
           "showlegend": true,
           "type": "scatter",
           "x": {
            "bdata": "I1mg5K6i0z+qrrI/Onnbv4Bb4n1ReNe/4OXwVZcH0r9iRe2605Xcv5pq0TO7RNW/eMX7noIr2L9/u0csXPfhv97EGMCJQrC/yDiL4SA22b8ashpNy8LVv7qQVkgL+dG/3GCWNn920L9acjIYMLDgv94ACQdzwte/uDWcxsjp1b89TfR84+HivwQc1nAjfuC/bdMgaMcmxr+6JV767N7TvzLpKpGjObw/OEROtB772r8qZZmt9UXQv9534WcfGrq/NtIBoibv2b/dhQerV3XEvw==",
            "dtype": "f8"
           },
           "xaxis": "x",
           "y": {
            "bdata": "JNTE8NQx7b+m2rwyqrUDwFQDTgFO+/y/ylC7EWtA8r9qZj5W8L0FwG5dM1KSiPa/EKXIX5yUAcCnbBVhR48CwGhPjeFFNvK/qhFhoCXs97/omJgYe8nzvxhYmu5Dl+2/5lTm2Kjy+7/Vlyz6NmoCwDgKJi85AADAVM0yXMLp/78U70cNdQ4FwGSVNJv8oAHA2Gh3ygqf9r+K2lkMvwj+v4TN3liYNQnAEunRJ2ES+7+o0zwsNcz0v8iagL1KtfC/HBzV9yagAcCgC9+RCmzkvw==",
            "dtype": "f8"
           },
           "yaxis": "y"
          },
          {
           "hovertemplate": "Label=4<br>Time=7<br>Dimension 1=%{x}<br>Dimension 2=%{y}<extra></extra>",
           "legendgroup": "4",
           "marker": {
            "color": "#FFA15A",
            "symbol": "circle"
           },
           "mode": "markers",
           "name": "4",
           "orientation": "v",
           "showlegend": true,
           "type": "scatter",
           "x": {
            "bdata": "Z32zmW3GBsCzL9I3rPcFwJxVf25a1Pu/9N94sR9KAsAGaw4c1B0HwENiaLeJMwDAg2//dvGeA8D+vhVAyDT3v5IWtJu0U/y/AHu0QPjaA8BBdRpZZlcDwCc+T8dHYQTA29BphcjOA8DoV8GCJdsFwKBYF/Wv2gHAGkqI4FpaAsCW30dLOBgFwH/admTPCvm/NwJrD4UuAcCn9vpaa54CwJX6yMlu1ALAtVQVX+ZRA8DpJXMCSaX6vw==",
            "dtype": "f8"
           },
           "xaxis": "x",
           "y": {
            "bdata": "OvqWj/EN9z/nvzLVk9n5Pysw1aaY/Pw/HAAApKgs+T9oBAhFvYf2PwyWIQyioP0/0q+QLjdo+T/0Yg1Wi+XwPzZWSxs67/c/qv/9KAcm+T8GpmSVrJz5P0oAcH5ZFvk/9z15wtpg+j9n1bId+4v6PyJzH95nDvk/8P9TOhsO9T+OlddLyND3PzX/cE024vU/+xsBgvNH+T+q2b9ckF/7P38K2Ukwrfg/Dx57Z1Pt9z9kGtg/xjH2Pw==",
            "dtype": "f8"
           },
           "yaxis": "y"
          },
          {
           "hovertemplate": "Label=5<br>Time=7<br>Dimension 1=%{x}<br>Dimension 2=%{y}<extra></extra>",
           "legendgroup": "5",
           "marker": {
            "color": "#19d3f3",
            "symbol": "circle"
           },
           "mode": "markers",
           "name": "5",
           "orientation": "v",
           "showlegend": true,
           "type": "scatter",
           "x": {
            "bdata": "1istFUmL4r8YpKhDi73hv/XRJc3agPi/7mGy7Crb9L+ou1FzRIfuv404reAbVvC/iRhbmrFX8r/i7wnv5znvv4seEsVR6PS/y9M0vfrH879S/n1/vX/Tv/ZSiiOfOLw/PUZytLNU8r9yHFQXtCDSv1jG0i+3N+q/XVZ3zAFT8b/Q1KI4X4aSP2Tf9Jr31+W/rq4m44IR8L+8becUlGDvv7R0vPaOg/O/ru/2MNa60r8=",
            "dtype": "f8"
           },
           "xaxis": "x",
           "y": {
            "bdata": "45q+YVdk+D9XOhSquN/3P4bS07lc0/k/+qQe8gGYAEDIUPsNDXr8P7yZeSUeH/w/+pt4w1a4+z+1+SI+1m31P2y80QCkFvY/L6hPTLay+T+HMO6jWC/zP1K5UtGaNQnA5r6nixsU/T98xY6jYdP7P3AeKaB+PfQ/nr+GJOMf/T985DnqxrjxP+QU1XiER/s/wZXuvBT69j+PHwAQi8bzP21UrRt1Zvw/54KUiFOM/D8=",
            "dtype": "f8"
           },
           "yaxis": "y"
          },
          {
           "hovertemplate": "Label=6<br>Time=7<br>Dimension 1=%{x}<br>Dimension 2=%{y}<extra></extra>",
           "legendgroup": "6",
           "marker": {
            "color": "#FF6692",
            "symbol": "circle"
           },
           "mode": "markers",
           "name": "6",
           "orientation": "v",
           "showlegend": true,
           "type": "scatter",
           "x": {
            "bdata": "oLwewF/ZEEBen3jQCTUMQFYwGwbdUwpAffh64ngOD0BxRH5jPP4LQNsa2osQIA9AyP6nFE4TA0CC6XrZlrcRQOkDVsOrQgVAK0aZ99tdEEAIt0SXUWAKQC+M1vgHZBBAAuOb7LSJEECuTXjsdVsBQOe+Wt5ffA9AWu66AA4LEEBlpyEDDT4PQKBZ46ID/gtA646Pv9ueDkCrflieaOALQAuvucm09QNA",
            "dtype": "f8"
           },
           "xaxis": "x",
           "y": {
            "bdata": "cMAYEcoYv79YznBMxzrRPxwHjFOjd9I/cEd4kyMlsj/go1QPlX3TP/BoeJL0PrQ/Git6p6Ea4T8wts4lqijLv7QfFBwqR+A/IKVhS3h9pL/8MpboDTTVP4AF1CEW/ao/kBIYE2GZs7+QMnnJjxnWPxBtYs8dBLY/IAQz5JLDsz/wLkrGGHK3Pywp3MnYztI/QJG/5WX1sT9Ir8TvyUXRP/xO252Y4eA/",
            "dtype": "f8"
           },
           "yaxis": "y"
          },
          {
           "hovertemplate": "Label=7<br>Time=7<br>Dimension 1=%{x}<br>Dimension 2=%{y}<extra></extra>",
           "legendgroup": "7",
           "marker": {
            "color": "#B6E880",
            "symbol": "circle"
           },
           "mode": "markers",
           "name": "7",
           "orientation": "v",
           "showlegend": true,
           "type": "scatter",
           "x": {
            "bdata": "Fn5Yz/Jg0z92AXNxU1HxPyL+++Uh794/KPHDRZAV4D+M4FxkBcKmvzCPq4nG6uY/nFYE0a/92D/ZGjFfg07fP6QdCO+hGrU/93jQ1C8+x790/y6owvPWv8gm+Cnc7b0/qUK+AWi97D9d5H4X1J/rP1L8xpJ2QtU/4hHsgqc55D91wd48TwDmP2c89q/pKOQ/BQ/dzARX9D/kK7wpNzq8P2hg+0IdlfY/AqTZdXxhuz95U0tk5mjqPw==",
            "dtype": "f8"
           },
           "xaxis": "x",
           "y": {
            "bdata": "NJQYk0q40L+gbBncbPbGP1gd8jEIH9i/qO+enfZ84j9A9cbDZGqWv/ikaA805+W/uKWoJ+Rmzb/k3Y+PF2nhv0CDqqA056u/8Nfsvx4VvT/ssDHRGvzqv6w5ZFPq8tK/YDyupxp35L9o+RY/u5DEPwDTpnxdVIu/Zsy90+a75j/A51n67wquv8Ba3vdBTsC/vGTpDyPo1L8szYpKnjUJwJgtcsZm3t2/ECB91fmevL/wIDpn32+9vw==",
            "dtype": "f8"
           },
           "yaxis": "y"
          },
          {
           "hovertemplate": "Label=8<br>Time=7<br>Dimension 1=%{x}<br>Dimension 2=%{y}<extra></extra>",
           "legendgroup": "8",
           "marker": {
            "color": "#FF97FF",
            "symbol": "circle"
           },
           "mode": "markers",
           "name": "8",
           "orientation": "v",
           "showlegend": true,
           "type": "scatter",
           "x": {
            "bdata": "QncCvcRGAEDi6GXCVwQBQEBJPN44fwpASUZ6T7Mj/D9d7FZrEmMIQOAvGupXr/Q/8FDM2lyyCUCaTOFoF8wAQCaVcIugOLw/jwPfkq8hBEB6S/Qs8OUEQCYzuyrE9wJAr9A+huH7CkAYP6b13QcLQOVMJEIhfwdAM0e25Fw4CUAuZDRCdMoMQLq0yscx2gdAgFxx3G4mA0BBatKr8Xz7P9F3COyk/wFAzNWCtZZeBkA=",
            "dtype": "f8"
           },
           "xaxis": "x",
           "y": {
            "bdata": "svs3yBNS8T8pbRbpIIX+P9ey80g42gNAYOPZRSm++T8fIlvYoQb0P2RTGtSiH/o/4GNBEVWxAUCm/em8Vj8DQKYQaqmaNQnAvftHr/VgAkBkaf20FmMDQJwZQew61vY/lMHRru9WA0AdFXa/De0AQMWUGQ8MXwFAYPAr933yAECxuN9pGdEBQPSOP3jLJwNA4aSyRsJt+z9SZR08xCjzP9gJweYL4P4/OOUM+59KAUA=",
            "dtype": "f8"
           },
           "yaxis": "y"
          },
          {
           "hovertemplate": "Label=9<br>Time=7<br>Dimension 1=%{x}<br>Dimension 2=%{y}<extra></extra>",
           "legendgroup": "9",
           "marker": {
            "color": "#FECB52",
            "symbol": "circle"
           },
           "mode": "markers",
           "name": "9",
           "orientation": "v",
           "showlegend": true,
           "type": "scatter",
           "x": {
            "bdata": "SRzDzzsPDUABOoEMvwcOQIL40t7cOLw/MzcIlnOxEkCvFsL/wr0NQAyhI9qTBxBAvDJpU594EUAmN8NEX/0MQB8vzFP1aw9ARnXvl6NODUBd47WnpdUQQESVxEt1mhBACVB/kg6pD0BtcCxijTQKQPQMczGDng1AdbxqGJhOEkC3F8ggsBYFQAxe1BQ9xQ1AFi1YzBo5vD+hgAEiuUoIQMMolG5IhQVAMfJnEFwGB0BUSYijZjUCQB/ooy9gxAtA",
            "dtype": "f8"
           },
           "xaxis": "x",
           "y": {
            "bdata": "WN4+gbvxxr9ACI1wkninPzIpEs2VNQnASGOoqCaqz79QTKPQeT7Pv9iSRR2aw8C/9MqIKfly4r+AiKei/iGMv1hnL8MakMY/END0ZdARzT/cHOpnicnkvwAU7UPIgdm/AP5t/Xj/v78Ah5gd5ajKP7iDOCat5ei/qOQBaFy40L/EUDe3Y0vWP2DKir4OUda/pl6tfZk1CcDgolnF+0OrP3g4BZbjpMq/2DoJSwOqwb+Im3OzQx3NP6BK4yuIccG/",
            "dtype": "f8"
           },
           "yaxis": "y"
          },
          {
           "hovertemplate": "Label=10<br>Time=7<br>Dimension 1=%{x}<br>Dimension 2=%{y}<extra></extra>",
           "legendgroup": "10",
           "marker": {
            "color": "#636efa",
            "symbol": "circle"
           },
           "mode": "markers",
           "name": "10",
           "orientation": "v",
           "showlegend": true,
           "type": "scatter",
           "x": {
            "bdata": "AkPqNo4M/b/3yvJ2/LMPQPLeAuIqMgLAS8NeUDy1CEDBPuAo9g7ovwE4X2aS+AhASy+Wbjz59L+5Cx9vliXiP5TJaEDBR+M/PdxT2vguAsA=",
            "dtype": "f8"
           },
           "xaxis": "x",
           "y": {
            "bdata": "jNMkgJ9j7b/ghon8kQ7Vv5ptrJJxFANAhNFcVfLg2D8+nsBUJIvnP3Z7yLSpOgBA6h2HgqfY8z8ixGCSNj8DwIh0p2CZ096/b7bnsgve9j8=",
            "dtype": "f8"
           },
           "yaxis": "y"
          }
         ],
         "name": "7"
        },
        {
         "data": [
          {
           "hovertemplate": "Label=0<br>Time=8<br>Dimension 1=%{x}<br>Dimension 2=%{y}<extra></extra>",
           "legendgroup": "0",
           "marker": {
            "color": "#636efa",
            "symbol": "circle"
           },
           "mode": "markers",
           "name": "0",
           "orientation": "v",
           "showlegend": true,
           "type": "scatter",
           "x": {
            "bdata": "Mi6hFoiL7b+W5Ff9tbzsv0pGdg05N/K/vMC/eQhh9b8QpvlF6cPuv1qPrut0c+u/EMS1L0yB8r+zBhJHqqLgv3+6TgQim/O/mgyQSMkj6r8POuvZt7HmvwclVC7QAui/+qJ1Y5iH7L+weB5SA0rvv43fv80JafW/RrbNNgVh6L82RmejSYDuv8T4k1cBTNu/JAHnpo/67r9C2N/P9zi8P1QJ3QN6Tdu/H6ePkCEw8r+SwLbNS8btvw==",
            "dtype": "f8"
           },
           "xaxis": "x",
           "y": {
            "bdata": "hSM2NEPq7j+WGas4z/viP9XpEqhlhfI/bLCaaXD98T9KewHEFmrpP1DRrqT9A+s/ELsF4gph4j84T3Q4QrTgv1BVgYVzWdI/FtxGmj2U5z/khxcUbrfZP9hEG2bFq9E/4nX4UHFy6z9mV5FmnX/vP4KDJ9AnhfI/vcyT+Phu6D85bez8E/bkPzClPm+Jt9W/Gw/sizzQ7z8sIdaWnDUJwHzGW3H7u9W/Kc+ik9YB7T8o1aWHoIbhPw==",
            "dtype": "f8"
           },
           "yaxis": "y"
          },
          {
           "hovertemplate": "Label=1<br>Time=8<br>Dimension 1=%{x}<br>Dimension 2=%{y}<extra></extra>",
           "legendgroup": "1",
           "marker": {
            "color": "#EF553B",
            "symbol": "circle"
           },
           "mode": "markers",
           "name": "1",
           "orientation": "v",
           "showlegend": true,
           "type": "scatter",
           "x": {
            "bdata": "JjQWIP3X8r/pHIrTLLH2v9iXpQDLbvC/+fNs0v4H+L/lRZUgjAj1v6o9rX2h3fO/vGlhZcjD9L9nHR2btYf3vzMay0+cgvS/BIFiWAm17r+Ug+OiDjm8P8EfwSsyI/S/IwK4TfqM9r+JrRHciyLwv3p9TOR4+eu/19g3yiHL9L9FXath35L2v5TQOoZbeva/EV+BUhwT8L/ioMDWu8f1v5HoeUNIS/m/F3LTxpM1+b9PpauV74Hyv4og7Jgs3/G/30e99/Pv+78=",
            "dtype": "f8"
           },
           "xaxis": "x",
           "y": {
            "bdata": "nHn9fnIZ/j+RG58Llr//P6SaLPQyAfw/JW60PamsAEAhhWjAZmH+P2uSUBk0Yf8/EnTx0Ixo/z+V4T2fY08AQCtbxAhcWv8/Pbo+zGrm+T969BSBljUJwDIEyQhaw/4/nJpxwvtzAEBj1vKtQDL3P6rwPL0vtvY/4nJap8oKAEAhZNJoCtQAQDTAb4+iPABA2KDUtCTt+z+YIl5xNpT/P+R7PUla7wBA9SoY0qAhAUC5rzL0+v39PxI4speBL/w/sv9yPjzOAUA=",
            "dtype": "f8"
           },
           "yaxis": "y"
          },
          {
           "hovertemplate": "Label=2<br>Time=8<br>Dimension 1=%{x}<br>Dimension 2=%{y}<extra></extra>",
           "legendgroup": "2",
           "marker": {
            "color": "#00cc96",
            "symbol": "circle"
           },
           "mode": "markers",
           "name": "2",
           "orientation": "v",
           "showlegend": true,
           "type": "scatter",
           "x": {
            "bdata": "XkrE/SqO/L8lWrrNmAcBwEquYEmUoPy/qtmDTSp98r84dOqSveX3vyo5eF0o+P2/DsNyW+ZP/b/rESMjQKz2v9wYFzqu0v6/4As81+gj/L/ozj2mnIz8v1CeIl7ouvy/SsXlBAnz/L8jHNNVOeP3v05Q3XVGx/2/RBr/qpby/7+e9TBS2dT/vxOkb4dJzgPAgkWSE/QL978esc9+Ayvzvy1mzdJc1/O/nJLfSpA5vD8bH9s313b4vw==",
            "dtype": "f8"
           },
           "xaxis": "x",
           "y": {
            "bdata": "vPAfh2Ki7L+uZ82SUoj3v3R34n7r+Om/HENQhhA75b/0Em02ioLhv3CSlgE3DO2/bCeaacYR6b84IMz/7Uzrv+D0IviK9fC/FEsyyZxz578kCuiloAnrvzwfoRju5u2/nMErt+GM7L/wYO5sVNXrv8bGPSVVLvK/+icBWTyh8L9EnrInmIHvv9SLjg70nfq/CH0dUcXi57884BMISnfjv7j5/3W1Euy/uh53gY41CcB4PQycLSzkvw==",
            "dtype": "f8"
           },
           "yaxis": "y"
          },
          {
           "hovertemplate": "Label=3<br>Time=8<br>Dimension 1=%{x}<br>Dimension 2=%{y}<extra></extra>",
           "legendgroup": "3",
           "marker": {
            "color": "#ab63fa",
            "symbol": "circle"
           },
           "mode": "markers",
           "name": "3",
           "orientation": "v",
           "showlegend": true,
           "type": "scatter",
           "x": {
            "bdata": "r3VO6wUdw7/yyV4AXRvUv+zrPrttNau/mPo8h3DhoT9C5EKPrIa9v/M8gchy/M6/Cqv0o67lsL+hI2S1B+7PvzCVRKh3D5E/wMC/QKgw1r+CjUKHGQa2v1NFI9E0lsS/BOvp/Ec7qb+c9ykOiNSjv9eGWeFLOcK/1VCjCBEUzr8xauERDIbJv69Lo2ciPMm/iv3qKQTpuL/U6CfByfKsv57vd+gYObw/ydNX+H+dz7/fNYgfWPPLv5CItxVUN4+/XXS2wmxvzr94WBfPvgGZPw==",
            "dtype": "f8"
           },
           "xaxis": "x",
           "y": {
            "bdata": "xDda9YpY7L8cm7HVMabpvzwsgnsp9Oq/wOKsTrUXBMDULphFEW7xvxiYo+m11ei/Ro6/dX4z9L94/vI6B4Pov3q+tLh4cPm/mJbdKZvL9L9W92cnypzzv3DrE++LrO2/0NJ09IH98r9Ivra/ivryvzw2YhuAIu2/+Oi8hYAN6r/IDKqT4Rjpv5gUjBJUT+u/sl7KkcAD878oAT8JOJjsv9Sjr1OUNQnAQITt29J96b9YBbVMd531v0YTSsUkawHAXIfKHrvr7L9wuDE+sAvyvw==",
            "dtype": "f8"
           },
           "yaxis": "y"
          },
          {
           "hovertemplate": "Label=4<br>Time=8<br>Dimension 1=%{x}<br>Dimension 2=%{y}<extra></extra>",
           "legendgroup": "4",
           "marker": {
            "color": "#FFA15A",
            "symbol": "circle"
           },
           "mode": "markers",
           "name": "4",
           "orientation": "v",
           "showlegend": true,
           "type": "scatter",
           "x": {
            "bdata": "zhLXrI4SB8B0YlCIIO3+v2aqS7dFKgLAdhlelQPTAMA4ImMAVVIBwGJevyHFuQLA+FT1AEtZ/79EBjLP6lYBwLwozJCCv/y/EheIwsM9/78g/+4oc40AwEdvWsk7nvm/ILNQMA6OAcBDTjil5voAwDwiP5gvjgDAK6PKvdhJAcBPNT6u4QcCwNjh3gv/ywHAnuu512bS/r+5ka1T7nIAwKzzj2Q/+QDA/xP5+F02AcCAimJaMfYEwA==",
            "dtype": "f8"
           },
           "xaxis": "x",
           "y": {
            "bdata": "G7WE1ZRE9j+eYYLRS6D1P/T50JglnPY/9Wq+r+xn9j99mhL4Y6f2P0JyoKLFKPY/NwxxBIdG9j+pAK28etX2P/4wI0y5/PQ/ANp7FSUL+D/Kxq9nCP71P2sTMAy9o/M/8LIW2+vT9T+Rq/jfR2b2P7aoUHr2Lvg/nPA9UsSc9j9uGBdcPE/2P3R/7lYZAfc/6rmhQ+8y9T+3mcaTJeb1P9yLN67lLvY/zfua4X9r9j9kCKHyijf2Pw==",
            "dtype": "f8"
           },
           "yaxis": "y"
          },
          {
           "hovertemplate": "Label=5<br>Time=8<br>Dimension 1=%{x}<br>Dimension 2=%{y}<extra></extra>",
           "legendgroup": "5",
           "marker": {
            "color": "#19d3f3",
            "symbol": "circle"
           },
           "mode": "markers",
           "name": "5",
           "orientation": "v",
           "showlegend": true,
           "type": "scatter",
           "x": {
            "bdata": "MWY+Nfyd4L/oHzCG8+SSv9sKMH4GHeO/36jrIHLM47988H1ukSbgv0YCDJGOi+K/Lzf6v3TY4L/IIWGlaoDQv/N2MLbm4eC/MNkjXKuG4b/KQ+VvZQbSvzQ5wXOKObw/UvgMriM13b+70mapxgHjvyCCW2Rpit2/MsTswHCk6L8azVMW7vbev8qSSOpVgOW/yDaKquVR3L8AgetxSinWv3OLPk04P+W/NkFS0Nyt5L8=",
            "dtype": "f8"
           },
           "xaxis": "x",
           "y": {
            "bdata": "Adeyc89aAUCgGPIlGcu6v3j1/0y2GgJAJK0GwppZAkBcJVi+lzsBQD54fEBcgwFAsopiMbK7AUB84d05ocP7P2Bj8s3mkQBA2EU0rt1oAUDZHvtgP679P0ZiCIqXNQnAU74tO3GvAECS05Mmly8BQHqF7g3ASAFAe2l0Lql8AUBLnrUxr38AQMCxZz1GywBALnJJX252AEA4+PNGTan+P8zDh2ZKIwJAZ2lLFbZxAkA=",
            "dtype": "f8"
           },
           "yaxis": "y"
          },
          {
           "hovertemplate": "Label=6<br>Time=8<br>Dimension 1=%{x}<br>Dimension 2=%{y}<extra></extra>",
           "legendgroup": "6",
           "marker": {
            "color": "#FF6692",
            "symbol": "circle"
           },
           "mode": "markers",
           "name": "6",
           "orientation": "v",
           "showlegend": true,
           "type": "scatter",
           "x": {
            "bdata": "STd8kCTCAUB9OHtXHiMBQL+ZT/3QHANA4jXwP+XdAkA8GK6aSioDQNn8kS/DZghA1sK9C7eUAUDEfOwaytkFQJ+gYryTLf8/bZrftjcXAEA9P7G2LHYLQMD/aLERmgtANBtFgquwCUB11bvhJWEFQE3nUMDDIQNAnxKqmw2yB0CEBYxzaRcGQGoqUUMtUgJAJrdluDGjAECVHJxYv5YMQMiGfrJ/LgRA",
            "dtype": "f8"
           },
           "xaxis": "x",
           "y": {
            "bdata": "2PYYHxWX3j8iQsLciDzgP46yVHAW0uI//muZN2YW4z+2rDYRMPvhP2TLNymVE9o/Sp4n6Jdj5D/Qu6rYKafXPwAWnDmRuXU/4GUz6v6H3j8oJw3ieV3LP2QlefCL3d8/KGHHUgVG1T+cTH/8aQvZPyT+XTWDN94/YJ9exqXc2L9g0OjbzXngPwhs8boR+uM/fgaHgMgo4j+oZqV5ibfIPwpeljgCI+I/",
            "dtype": "f8"
           },
           "yaxis": "y"
          },
          {
           "hovertemplate": "Label=7<br>Time=8<br>Dimension 1=%{x}<br>Dimension 2=%{y}<extra></extra>",
           "legendgroup": "7",
           "marker": {
            "color": "#B6E880",
            "symbol": "circle"
           },
           "mode": "markers",
           "name": "7",
           "orientation": "v",
           "showlegend": true,
           "type": "scatter",
           "x": {
            "bdata": "WgNEBjBx2j/H+bBZRFXDP4/SgZu5Y9I/r0MhcMvV0j/pxkZdvu3VP0gSP2igANc/bItrldkR0j+PVIt9Xy7GP7TQppT3OLw/zUuNxU3z1T8U8Qm9BG7bP3STGY4SwMo/eJvesMM5vD/OZAc48A3YP+JXkcmqd9k/9FEYeCrY2j/tovp2gSTSPxhs2C6S/dA/arRa/rXT1j+Mf0CavTi8P2ErWMx16tg/5DXgkU/T1j98Mwc+BenXPw==",
            "dtype": "f8"
           },
           "xaxis": "x",
           "y": {
            "bdata": "IDcxiNgOx79gX+fMQz7dv4g9zE6s08K/BPg4P7UT1b8AysvgyL5jvwBe7KyiXI6/ML8u5A3k1L+cF8TyiirUv9RTzUqVNQnAGKZh4ruIzb/gyDSHvKW2P8AKf87zUpm/XCTF2Jo1CcDUjBhh/0bRv8BILhylO8I/iN42S7X92D/QY1lCOfPFvwyH1uBK9PK/bFEuqg+X0L+mmZQxljUJwCBJKpWSULa/ADzftwRvmL/Al4bELVLdvw==",
            "dtype": "f8"
           },
           "yaxis": "y"
          },
          {
           "hovertemplate": "Label=8<br>Time=8<br>Dimension 1=%{x}<br>Dimension 2=%{y}<extra></extra>",
           "legendgroup": "8",
           "marker": {
            "color": "#FF97FF",
            "symbol": "circle"
           },
           "mode": "markers",
           "name": "8",
           "orientation": "v",
           "showlegend": true,
           "type": "scatter",
           "x": {
            "bdata": "tD+qaygdBEBzk7+2xCUHQIS/0oQ+v/4/kMeXNFnwCUCuAkA/ZJMFQP7xwfiyqAtAL2k/+QbvB0CvsxQ2klIKQDgCOoxRObw/PeotRd8tBUCqUkGjwRYJQEvNZimPtAZA6qxHb+NEBUB1GbNe8I8HQBGU3nX1qgZAWIaTkwQ7AUBpJmWePbYBQMCUB5DCUglAvP5WdfpACUCn4ktWBJIJQDZ1CoH0eghAgcB8BL09BUA=",
            "dtype": "f8"
           },
           "xaxis": "x",
           "y": {
            "bdata": "2hCh5DHtAEA06rUu7fcBQJKbiQ7Yj/w/cn7O+ndMA0Blu4SvsGoBQKA+5GbkbANACD6+MXnWAkAeDqS7zZMDQDZsv3uZNQnAtPe74pvsAUBZ/LgJskMDQC6XPjMF+wFA0rVejX93AUBUiRhKb14CQNZl8MWp+wFAwU3ycELv/T+NNyZXiL/+P6ACwbXxzwJAm1FL2gg2A0A5CM2KhxsDQJV2CRHNFAFAaht7JMRkAUA=",
            "dtype": "f8"
           },
           "yaxis": "y"
          },
          {
           "hovertemplate": "Label=9<br>Time=8<br>Dimension 1=%{x}<br>Dimension 2=%{y}<extra></extra>",
           "legendgroup": "9",
           "marker": {
            "color": "#FECB52",
            "symbol": "circle"
           },
           "mode": "markers",
           "name": "9",
           "orientation": "v",
           "showlegend": true,
           "type": "scatter",
           "x": {
            "bdata": "LDB5EIY1/z8Y+tm+NKQDQLT8t5D0OLw/kFX3RppCBUAGiyE2mssMQE7QWbbMUwVAwFUi48pjDECvenq80wsNQO8XUzZVAglA9AJTbxKvCUBprr+OjIAKQCkb4QTxxPo/0YMOgjvpBEDo/nDYysMIQDMYuw27mAxA4yzc0UHgC0AYnzqnEDm8P32L4J+snAlAPAiomWo4vD9IhZRMQ6EBQIVU/BeTxgVACmQQ3QuBA0CoJzusV68CQL98pyT8NwJA",
            "dtype": "f8"
           },
           "xaxis": "x",
           "y": {
            "bdata": "BJulL3Fu3D+03Z9a8b3ePyyAtwmTNQnAEExTkXkA1T8A+FoX/TVhv8BuTbhty88/cCGLeUhatz+QzIy4U5Wwv4QVb4K+xNI/kO3IdmOQyT9Ar1y8QpnEPzgXz0oa0ce/COMCLFnmyT/4aYLyTTnJP2ADv0B40LA/AOhK+xjIpz8QlXrPljUJwPgLb8Cl2Ms/XmADyZk1CcDoqyGpxt7KP7Dv2UQouMo/7IrAF6lj0z8sNjJ/9jvVP4AHtyZMOM8/",
            "dtype": "f8"
           },
           "yaxis": "y"
          },
          {
           "hovertemplate": "Label=10<br>Time=8<br>Dimension 1=%{x}<br>Dimension 2=%{y}<extra></extra>",
           "legendgroup": "10",
           "marker": {
            "color": "#636efa",
            "symbol": "circle"
           },
           "mode": "markers",
           "name": "10",
           "orientation": "v",
           "showlegend": true,
           "type": "scatter",
           "x": {
            "bdata": "qP17QCXpAsBKTcPlA50PQJK9NKmL5QDAUplrSLMsA0CYRZFyROTtv1bOg/AHGgdANhpcmlVWBcAucRfgAz+wv3mFXD0M288/Vq2raYPu378=",
            "dtype": "f8"
           },
           "xaxis": "x",
           "y": {
            "bdata": "zqk3Qr7d97/AIBgRxVu4v9R5rgaL+wJAKGFmh+PQ4D+KvfVn+BHvP/WxvhrvfAJAEJ1R2bTc9j/oT1ojAtTwv1CKenHlJMC/XM8Ai2FTAUA=",
            "dtype": "f8"
           },
           "yaxis": "y"
          }
         ],
         "name": "8"
        },
        {
         "data": [
          {
           "hovertemplate": "Label=0<br>Time=9<br>Dimension 1=%{x}<br>Dimension 2=%{y}<extra></extra>",
           "legendgroup": "0",
           "marker": {
            "color": "#636efa",
            "symbol": "circle"
           },
           "mode": "markers",
           "name": "0",
           "orientation": "v",
           "showlegend": true,
           "type": "scatter",
           "x": {
            "bdata": "uKD+Taa0/r+Os8I+U8/wvwRqFIKrrv2/nfE2dheGAcBSmcMQAxD9v/9D9N5XN/q/ALECRkxUAsCye/rYhez0v58T/UcmkwDAfMbE6sz+/b9UP93AJWz2v/d2dkZVq/m/x+mQdP1m9r8Y/4dMYVjzv0xL5tr1J/2/gH03ODdt/7+OjKlpkM76v+ZmmM0BEv+/kvKUsuNA/b+vnjhVKmH3v74KJXTaVf2/u4DCx2qU+b+xDvzADmr4vw==",
            "dtype": "f8"
           },
           "xaxis": "x",
           "y": {
            "bdata": "IJFT4yyV7z/ccj30Ru/tP5IUWcZm4/E//iS4/uXq8D+2VLHTn8nxPwxTCHGOF/M/DqZcsNG47j+0wiJCdQnxP4BPligaafA/Imt2Bj0F8T/ypYI/+XfwP1bUGHQONvM/73fstAyx8z/kDbzXI5/xP7hX9D1+3vA/8Z6MoQN98D88/izIQuzwP0CNjzjDIfI//OUZaTWC8j/azKWXInfzP3Z4zIdNDvI/MMpkkI7Q8j9D0kqysk/zPw==",
            "dtype": "f8"
           },
           "yaxis": "y"
          },
          {
           "hovertemplate": "Label=1<br>Time=9<br>Dimension 1=%{x}<br>Dimension 2=%{y}<extra></extra>",
           "legendgroup": "1",
           "marker": {
            "color": "#EF553B",
            "symbol": "circle"
           },
           "mode": "markers",
           "name": "1",
           "orientation": "v",
           "showlegend": true,
           "type": "scatter",
           "x": {
            "bdata": "yB0V/cqw/r9UY0hAkHj7vyYAF8wYY/a/MEqdA0Yp/b+Sq4tWJJD8vxpU4k8nr/u/Y3T1xSFo+r+2lxBR2Nr/v74uxg7Rfvm/6Vl2fzPj9b+Q/q/F7jm8P28hkakw4fi/LiIha0Ay+7+CI1wU2XP6v9AO2j9TTPO/CLyo85fm9r+KMsNM0k3+vxPY/q3tlPS/NhcktzkH9r940AQRVNTzv9Gn3N5xLPW/8HOi1xrO+7+i62gDzj//v+SESzys//2/h8sOwVF/8r8=",
            "dtype": "f8"
           },
           "xaxis": "x",
           "y": {
            "bdata": "KuRitfRjAkA6M9qHYgICQBnBjG87TQBA0yVu4NMRAkCKPs+PNgACQO9jiV9b1gFA3w0VZN2yAUCV9suWftQCQNOM4cAIhQFA0wz8yAeHAEBCICZVmDUJwOjk9/HLRgFAs+C4RMnWAUCQGFm0jrIBQPmrnfDsev8/HlAGUHsWAUDcIfwLI38CQI1YwrUg/P8/cCRp8L6DAEALtFw5jxUAQMZMtvSCPgBA/yKQuUYcAkCMnhJ/R50CQH4zjd6KbQJAUfTX78fT/T8=",
            "dtype": "f8"
           },
           "yaxis": "y"
          },
          {
           "hovertemplate": "Label=2<br>Time=9<br>Dimension 1=%{x}<br>Dimension 2=%{y}<extra></extra>",
           "legendgroup": "2",
           "marker": {
            "color": "#00cc96",
            "symbol": "circle"
           },
           "mode": "markers",
           "name": "2",
           "orientation": "v",
           "showlegend": true,
           "type": "scatter",
           "x": {
            "bdata": "g06l+UJ+BMDvgFf9mooCwDDXRjCsZ+2/7WjLjqVVAsDN6SzONq4FwFAO7XFFRgPAF0ARRUzQAcB26BRhq1YAwNC+kXDNeQXAq9FLHzwJBcCfzKnnbiAAwPqs2JLvFP+/eYH42+46+r+W4oazEBsCwJ0xKoHRRQHAe4hXoXKqBsB6xXayVEAFwPIOam4+WQXAz7gS/0GnA8CGTMcWHccCwKqURL2dmQbAYPFEOiM5vD+ZZxbQQz4FwA==",
            "dtype": "f8"
           },
           "xaxis": "x",
           "y": {
            "bdata": "1sCwGqAL/L/IdIM4Y2/4v3z57mYCLem/cDH+DwM4+r9WEoSkSGQAwOpJ7DsNe/i/qPBdJljn9b8maEgkS/r0v07QFSF8Hf+/dJwNE0/r/L+eIOBBCujwv5yNAhZZUuu/RO1/4sGa5L+kLr00opz3vwIo+lWNU/W/qOxV6qBBAcCyqcoQG8j9vzQ5g8jPTf+/rnIm3LXK+L8mA0hjtBr1vwUUwabd7QDAws7V2JU1CcCwe7cXUjn+vw==",
            "dtype": "f8"
           },
           "yaxis": "y"
          },
          {
           "hovertemplate": "Label=3<br>Time=9<br>Dimension 1=%{x}<br>Dimension 2=%{y}<extra></extra>",
           "legendgroup": "3",
           "marker": {
            "color": "#ab63fa",
            "symbol": "circle"
           },
           "mode": "markers",
           "name": "3",
           "orientation": "v",
           "showlegend": true,
           "type": "scatter",
           "x": {
            "bdata": "YtMS1FHq1r9M1nypEBjUv3L20XbOVdq/Sm9MZglC179w67KNeEPTv2o6AryGs9q/wh5Blez20r95gZ16OtPPv9BqoyXBPo+/the+Oe8R3L8AM5IsSEbRv5gIJKB16tm/neXSzsOO5b8oMMEQtb/VvwSeCLJcAde//ENpsx6o1L/uc/jG54zUv8KfXx7S39a/PSDnYeXlz7+b45EnZCzEvwG42Dbq9s6/q5miCEbHyL+04XsodfTdv/4OJQPY3NG/NJS6AJj22b+w5ukt/1XVvw==",
            "dtype": "f8"
           },
           "xaxis": "x",
           "y": {
            "bdata": "tG54m06g9L/ySidAJav7vwjUJdv1QP6//u8YqhQc97+G5DpNm+QEwPDw1JA6K/2/nvAwMzAa/r889LEojCv6v4ie0DsHxPW/Yhr96Htc/79qpxZG4RvzvwizNPeKP/q/BDY/MIcDAMD6nqIVQqACwDhxBdbjYfy/VL1cHLwm/7+GUe3Dk1z6v+B7i24GaPa/+MR6Yc0G679AIeW+3j3tvzDzZqfTK/a/4g0SRFy98L/rNA1xdcYBwKSUeXzfq/+/2pFKlmnR/r9acYl/yk/2vw==",
            "dtype": "f8"
           },
           "yaxis": "y"
          },
          {
           "hovertemplate": "Label=4<br>Time=9<br>Dimension 1=%{x}<br>Dimension 2=%{y}<extra></extra>",
           "legendgroup": "4",
           "marker": {
            "color": "#FFA15A",
            "symbol": "circle"
           },
           "mode": "markers",
           "name": "4",
           "orientation": "v",
           "showlegend": true,
           "type": "scatter",
           "x": {
            "bdata": "A/rk50+tAMAa1/LphUECwFGQWu5Y4Pi/U9W0IpCUA8CEIe914c8AwJwvNIUZpvy/Jj7MNY+6/b8UI1NOLSkBwE9hN2BUAPO/nVzLnl5aAsAGrRE5M5gDwDyzT85cA/i/3EUGxzWT/r8ZoJVcyaL5v8biAcao9v2/2Eu/r86hAcCKehTdWBgBwCIF4dI1EgLAbX8o2XxcAcDCwwLGm8f2v79HRFtg0/m/QjKQ2Gor9796fpdB7D78vw==",
            "dtype": "f8"
           },
           "xaxis": "x",
           "y": {
            "bdata": "7USahI7/+T/YLdH3uuL7P4tJ+261v/s/SsecEGhp+T+MWZQrmqD6P9Zi8USKafw/+IXn6Zi6+T9FZbHLpof6P1AiTGoQSds/L8SKhE/Y+z8tzw0UDin5P5OSJ77Hd/Y/xikK/fEZ/D/0cuyV65zlP/J5itHXKvo/fqZgBfwz+D/Wum+JPpz6P6wBpBFEpvo/CrDS+hV0+z/k0ZbTJMf7PwieUcAe7Pc/9YA2i0fk+z8Z+a6J9hX6Pw==",
            "dtype": "f8"
           },
           "yaxis": "y"
          },
          {
           "hovertemplate": "Label=5<br>Time=9<br>Dimension 1=%{x}<br>Dimension 2=%{y}<extra></extra>",
           "legendgroup": "5",
           "marker": {
            "color": "#19d3f3",
            "symbol": "circle"
           },
           "mode": "markers",
           "name": "5",
           "orientation": "v",
           "showlegend": true,
           "type": "scatter",
           "x": {
            "bdata": "KWq+7so15b/4bjdahrzqv90ioewjfPu/WsFP9bkm9b8e6hTiSZz1vyRPGmO6Wuu/FpmmXoXs8r82qSF2TKb7vywoxOj2OLw/NMYB1HsC7b+6Ne+VG9Tyv1v07e3ovfe/Kaf+iPMK8r8PuxLExn/mv+cdE0hcRfa/e+dBo2V7+b9QePBYtdHpvxfNA6wylfa/F5pBrKvH9L8AQchxZ63/v3knEeDyj/O/kJyU6g0b578=",
            "dtype": "f8"
           },
           "xaxis": "x",
           "y": {
            "bdata": "jAriX5LLAEA4Flx4xR/1P7bZ+OzyIv4/k+CuX760+z+gjzWKNuj/PyLsxlYWtv4/84umuju1/z/lveMWi0D/P+YskE6WNQnABVrt95GAAEC4CcdJURH/P/biRdXwlf8/aiw+jyYk/z+0D6qcOCoAQKjFJm8J+f0/GGA+unhh/j/jyk3hcxn9P4ipRaZPuQBA8M8VwbRf/j+e09wbnkT8P7PoKyYs3P4/zL1NvK13AUA=",
            "dtype": "f8"
           },
           "yaxis": "y"
          },
          {
           "hovertemplate": "Label=6<br>Time=9<br>Dimension 1=%{x}<br>Dimension 2=%{y}<extra></extra>",
           "legendgroup": "6",
           "marker": {
            "color": "#FF6692",
            "symbol": "circle"
           },
           "mode": "markers",
           "name": "6",
           "orientation": "v",
           "showlegend": true,
           "type": "scatter",
           "x": {
            "bdata": "HIjIQMcIBUARp6KEswIJQM7EVf1w1AVAhSWd1GVGC0D8gWDWuI8JQLbNG0DQpQxAsBk7kt+XCEBhsF5RE3YFQH+aJ+jijANAl1uefyOMDEBE+fABZ+sKQB8sE2VNiQdAKwyI8bklDEDOq1fx8dILQMetghWAEwlAACz92pK1AkACfR65O6UKQCQ1UUuz1wVAwEUSeWYnBkDm3FcBzMsOQGZmp8qmNAdA",
            "dtype": "f8"
           },
           "xaxis": "x",
           "y": {
            "bdata": "hNaDf5N75z+o7jJjCnrbP04JNflzOOM/kHgzc7I10z90WmsRYDfaP0AsAW8vYsg/yN4zL5+v0j8olwO0SfLZP1h4DYZFRdY/KNssLuGezD8EER4JY6rVP2C56Eye6Ng/0KG0ehtDyz9wDiw8jtfQP6y5MeLZJ9I/7HIMiiJU3T9oSTbLxlnVP1AKOTaZAuE/vOvMcBSl2T9okfQaAXjCP+p6dt7ZQ+A/",
            "dtype": "f8"
           },
           "yaxis": "y"
          },
          {
           "hovertemplate": "Label=7<br>Time=9<br>Dimension 1=%{x}<br>Dimension 2=%{y}<extra></extra>",
           "legendgroup": "7",
           "marker": {
            "color": "#B6E880",
            "symbol": "circle"
           },
           "mode": "markers",
           "name": "7",
           "orientation": "v",
           "showlegend": true,
           "type": "scatter",
           "x": {
            "bdata": "dgi7lfSs3D+ywxZiQOXCP7hGUBOoOdE/x5D2MZgi2z8kPEFYzcTePyu/EgysuOE/vlXKjaub3z+dViel3LfVP+qjFKWmJdw/R5Ty6UFl3T8A31ysPuLdPwx/sXjUzdY/Dkkmo7j21D9Lmw/hfvfcP9dpVM1k2OE/lE4VbZsI3z+l62NS/RPXP/LPO6a2ReE/Vtr576AG4T9IMKVwegPhP7LriEAeObw/4P/bGpl11z/wN4bzb3TdPw==",
            "dtype": "f8"
           },
           "xaxis": "x",
           "y": {
            "bdata": "UKA24HUw2L9oi9RllIvRP0SAT64l79C/IA2yZ81rsr9g3xffs+zXv4DUTknb0Ni/gDcOMg2+tr8kFQbuF2LVv9jaU8dQIcS/+FsbDbLm3r+AMIC0u53GP8TK9CdY3tO/YNPmCssty7+4z8x3V5LVv3D41/B9xr2/IOCPlMzRpT8MJ1RaVOvgv2hqcZusJeW/bH0SrdDv679kcy0is1bSv16vLfCUNQnA0MWYofSr1j/oumggIfzYvw==",
            "dtype": "f8"
           },
           "yaxis": "y"
          },
          {
           "hovertemplate": "Label=8<br>Time=9<br>Dimension 1=%{x}<br>Dimension 2=%{y}<extra></extra>",
           "legendgroup": "8",
           "marker": {
            "color": "#FF97FF",
            "symbol": "circle"
           },
           "mode": "markers",
           "name": "8",
           "orientation": "v",
           "showlegend": true,
           "type": "scatter",
           "x": {
            "bdata": "vAFhsGpCA0DL680JY2YCQJZRxMbXq/w/k41OXKjlCkBBdVapDusBQF+rJchZtgBAoy4g3TFLAUBnL/WWdIMGQOrdqYwBOrw/i0+RPV2MAUAj+sTVLzwHQIAUhf7NzgNA4OT/DS3BBkCLGh3BX0T9P5QB+BTx1f8/7OKZCsnH+z+SczPWBgkEQMgBE46ir/8/wL4oF564A0BU7GXE5xAIQPkQFewpwABAVZlUZMa6AEA=",
            "dtype": "f8"
           },
           "xaxis": "x",
           "y": {
            "bdata": "XN75MTSkAEBQGDFRixQAQJZ0rZZZWvo/uKkOJ4VjA0DCLPgLg5n/P7xjYg3Fq/0/yEIjNdpH/z+UOoYbLxQCQIDwN5KaNQnAEojOoHhF/z8FPYcpzMQCQEqb04zIkQBAmheqGVXZAUBisyDHJe76P8Qmbwdg2Pw/VELfHY8K9j/a2qEkkXUBQNNQ/3Thafw/bNdTgpHR/j+xdEk3c5ICQMBqTQZ5sP4//rnn9KPN/j8=",
            "dtype": "f8"
           },
           "yaxis": "y"
          },
          {
           "hovertemplate": "Label=9<br>Time=9<br>Dimension 1=%{x}<br>Dimension 2=%{y}<extra></extra>",
           "legendgroup": "9",
           "marker": {
            "color": "#FECB52",
            "symbol": "circle"
           },
           "mode": "markers",
           "name": "9",
           "orientation": "v",
           "showlegend": true,
           "type": "scatter",
           "x": {
            "bdata": "Ob26JGydDECqfNpD0s0HQK4QGvKZObw//2BWqwsvCUBC/MceOl4NQL/B5ny0yQ5ATAWE5f64AkCJImDGndAQQE0qRiTx8QdAemArODw5vD8yEGRZ/LwFQGG/UqSeXQlAVNJS8abHCEAMmrjZ81cCQBvUbDjupwZA/75OjPQaCkAakAx6t/YEQPJZ+76yIBBAIdkPy6zYCED5pOoO90kKQKUi46jV0whA/Ps7FOTDDEC9oIYXCiwJQIxM0UMIBQ5A",
            "dtype": "f8"
           },
           "xaxis": "x",
           "y": {
            "bdata": "gLd8bkKJmT+UdOkKTOPQPwSKV0+ZNQnAyCIEVkw/1D8AnX4sl6yKP+DRMs4Ul6W/rN97j0v62D9AyWTElk/Uv3CyDKYozs8/aLVQ7JU1CcCENvCVOq3XP1B5RGJ9/Lo/oNzKzF5qwj8UUu9TeBvaP4jDN8k/5sM/kFYu7me1wD94J/rn0THJPzBRrYA+RMa/kICMLG9Yuz8AugsvrIm5PzAzxAjiFtA/sP33VWBeuT+w6b/xz1S6PyB77uXS4qq/",
            "dtype": "f8"
           },
           "yaxis": "y"
          },
          {
           "hovertemplate": "Label=10<br>Time=9<br>Dimension 1=%{x}<br>Dimension 2=%{y}<extra></extra>",
           "legendgroup": "10",
           "marker": {
            "color": "#636efa",
            "symbol": "circle"
           },
           "mode": "markers",
           "name": "10",
           "orientation": "v",
           "showlegend": true,
           "type": "scatter",
           "x": {
            "bdata": "5Cs9jlXKB8B4GBRlMTQFQHJLlklACwLAkdBwWGHPCkAKnqhbfjD0v5sb9y8CngNASASV+P85AcBnqpF8ZeLhv2b2p211F9g/ju+9A5K09r8=",
            "dtype": "f8"
           },
           "xaxis": "x",
           "y": {
            "bdata": "+583HappAsAse8RyUMbfP3/q1qilDQNAmIwTwqpJ0T/CbFpBW/HyP5hK3/598wBAd5I+cDen+j/kTqrRU4YMwODYUnLsk+O/WOaRvw08+T8=",
            "dtype": "f8"
           },
           "yaxis": "y"
          }
         ],
         "name": "9"
        },
        {
         "data": [
          {
           "hovertemplate": "Label=0<br>Time=10<br>Dimension 1=%{x}<br>Dimension 2=%{y}<extra></extra>",
           "legendgroup": "0",
           "marker": {
            "color": "#636efa",
            "symbol": "circle"
           },
           "mode": "markers",
           "name": "0",
           "orientation": "v",
           "showlegend": true,
           "type": "scatter",
           "x": {
            "bdata": "0nrpo4MQ/b8O+6e2C+7ov5vWdvkz0Pi/zxn71A6R+b9Scb9yJI/1v7uMtjTHH/G/5J8JjeI4vD9QDSm0Gvryv+5mk8GFZvW/87xpJK/38L9EL2B2lsfpv0uFPOSvWPe/MPV6aNtg8r8zjVBEwwP1vwqIpWP5r/y/lPpFHzx+8b8WmuAKcTm8P31TTnEfOvK/szdl+r768r8QvwTSZDm8P75FVkOrz/S/QvH1gM0N+784b2hDT+jyvw==",
            "dtype": "f8"
           },
           "xaxis": "x",
           "y": {
            "bdata": "akiRSLz08T8IIMRSrH/oP/ENmfHWq/M/9RmaIdyx8j+CUyzLj6zyP0x1tXiZSfE/qI5tdZk1CcDkHT7BZuTxP36d8pgzCvI/Wch15r288D8+hidHesnmPzzdSbpyQOA//DnmOxWf8j+TLj/FZQfyP6LlxOJhvfI/rCXwqE/f7T801dunmTUJwA6y2714WPA/jv/OT9ED8j948Bx1mTUJwKTBhmT1l/E/Gf60S4mf8j8SXcNWFm/xPw==",
            "dtype": "f8"
           },
           "yaxis": "y"
          },
          {
           "hovertemplate": "Label=1<br>Time=10<br>Dimension 1=%{x}<br>Dimension 2=%{y}<extra></extra>",
           "legendgroup": "1",
           "marker": {
            "color": "#EF553B",
            "symbol": "circle"
           },
           "mode": "markers",
           "name": "1",
           "orientation": "v",
           "showlegend": true,
           "type": "scatter",
           "x": {
            "bdata": "OZQBbxM/AMCS1cNfajj8v/Iv+TEuQQHAHwSDfKqIAcA8G46uCxUDwLQeUWJ7HPW/n8/yzSSK+r9ew+i+PfkAwDKQHSxpzf+/oNRAEO2a+78KQQmIVyvmv9MqbBarXQDAlb+tpV9G+L/8y8kDKAvzv/6fMt9YwPO/TBrfQyD3/r9+1qL1HHvYvxhNtovhKvG/jWxTIZSj+b+2yBHieEb/v4qx6LvqDQDAUNsNOoqcAMArOdZXn7ABwKgJmqRCa/6/wyz54wpLA8A=",
            "dtype": "f8"
           },
           "xaxis": "x",
           "y": {
            "bdata": "B2BGgDbw+z/YL/eYo9gBQAib/2kb/QJAW5zqLZss/j/6Un3wnZz6P237VVJpGP0/UiDc5+YZ/j8P0o5sVfn9P1rYtjsl6v0/tFOwS+ZJ/z8AJaldO3yuv8MJX6kBUv0/d3pOy1En/D+8MgOIr4H6P9NCoWqQiQBARD4eh6/a+D+TYZdg8aD7PwvHo0JyAfo/EKwNgPWnAUCw4r4hbO8AQLlv24j+egJAr/sSi+lT+j8ffdDO/wz9P1hOnhzLZQJAgkx8wCVbA0A=",
            "dtype": "f8"
           },
           "yaxis": "y"
          },
          {
           "hovertemplate": "Label=2<br>Time=10<br>Dimension 1=%{x}<br>Dimension 2=%{y}<extra></extra>",
           "legendgroup": "2",
           "marker": {
            "color": "#00cc96",
            "symbol": "circle"
           },
           "mode": "markers",
           "name": "2",
           "orientation": "v",
           "showlegend": true,
           "type": "scatter",
           "x": {
            "bdata": "bahWyy7CBsDKIF7Ss+kHwHhET9YT7vC/8LOfuiC/A8B4wNxZ53n2v7qAdV/RDQfAIpbP9rgFBMA1XOPpGWQBwCb1FdESCP2/05g3TK/QBsAI8PK8cwYEwH6YP47fQgTAsTkGsTb9A8DcBQgqauoFwPIq9yGYyAHAr6qjoYwCBMBgjPwbHQD5v2VKj0OyyAXA4LMqsO2LBMCYYl0f7q4FwBhN3qqADv+/JW+qtHCUAsAqISWUsKb2vw==",
            "dtype": "f8"
           },
           "xaxis": "x",
           "y": {
            "bdata": "JUbDTr+IAsBiaU7KBMgDwPgG+WQ9i+q/AKn95pMyAcDAZBafXDPev3tDEzwx/wHAvi8r5TMl9r9goR0iObT5v8iZS7IHwfO/oJmS7FQ6/7+Eco361ETvv3RM4NBt1vu/vFCLpJ0m/b9+Uodkf9kAwIQamrVBeve//HR3OM5e879k3SMQlvb8v1vCW9ewYQDAUpnXvYiC9r9y7h3IeaT8v6SQ//rDzPC/bvFZNaWyBMB0eSM0BEjxvw==",
            "dtype": "f8"
           },
           "yaxis": "y"
          },
          {
           "hovertemplate": "Label=3<br>Time=10<br>Dimension 1=%{x}<br>Dimension 2=%{y}<extra></extra>",
           "legendgroup": "3",
           "marker": {
            "color": "#ab63fa",
            "symbol": "circle"
           },
           "mode": "markers",
           "name": "3",
           "orientation": "v",
           "showlegend": true,
           "type": "scatter",
           "x": {
            "bdata": "7tEvWxMQ6r9JgO8BMJbgv2nryZ5mp+G/rdcznFIW6L9L2NrdoRzmv80KHtky0OG/pV/MTuqW579M1N8ebHTyv4TsqFRJcea/n2kd4gZm47+gxVzYfAzrv3ppEKfkIeG/y5twqnQf478/gD1vcs/jv4Lplh/3r/a//+OxmV2F5L8LejQNiNnhvyK0KADV1OC/7tZyjbHP1L/wfgpQCXvpvygtZzfgb9y/7kNm9p6d6r957WgvsKXhv9IatIhXk+6/B+u5J1Al8L8Ntc1OK1Livw==",
            "dtype": "f8"
           },
           "xaxis": "x",
           "y": {
            "bdata": "Xq77JnXk+r8q5DvKs4IEwKpErpHKZwXA7MNlSBMmA8A+KqKTHFEDwCg/KeucogzAgiZ7qlp2/b9Wr2Ygzdj6v4Qf4JscLgbA3JxML1WCCMB+QfsyES0FwKQy3MuYFgfAvLqS3Wk/B8DOZSZxxZ8OwGx5FN8hSAbAIgOzj/LDCMAOdGkFJngGwF65xC/e/gTA6Cuuaqmj7r843F0QYN34v4O3sBedtwDAkoQ31b05AMBeJFHAAV8HwII4iAqtsf2/gu3BjDv0BMA6wIpshEj7vw==",
            "dtype": "f8"
           },
           "yaxis": "y"
          },
          {
           "hovertemplate": "Label=4<br>Time=10<br>Dimension 1=%{x}<br>Dimension 2=%{y}<extra></extra>",
           "legendgroup": "4",
           "marker": {
            "color": "#FFA15A",
            "symbol": "circle"
           },
           "mode": "markers",
           "name": "4",
           "orientation": "v",
           "showlegend": true,
           "type": "scatter",
           "x": {
            "bdata": "2Dv3D+/TAcCnLAzcB4QIwGqWnaHK5gLAKXZ5cUtxBcAcCRhVGZUHwLIgMcVQNALAXVFdYo1uBMBpXlCAJGYGwHGBiwRMHADAII+KRjApBMAbH1oL0O8GwEAmJSqwjwXA+bmMEVKuAMDIIlQFbX/9v9XqgAhchgfAmVyxJDIXBsATyNwrflwFwIF8TGqUxwbAIfZscY8IAsDZNzni5BoDwNaAZDu/E/+//Sr3YCo6A8BtWM0ywsgEwA==",
            "dtype": "f8"
           },
           "xaxis": "x",
           "y": {
            "bdata": "yemTTaFT5T+Q2X+E1S/0P7YNhrzuUvk/nl0RnOJb+z9qO5Wxg3H4P/OVz+62cPQ/Ocf1wJD0+j8LP4K11x37PzSYPuRHzfs/nfKfIeE/9z9dP1lcTqn1P6mBOXzqCPs/caXAox8l/j+oTPmhAEn7P5JzQmNlBvc/xHyomNYG8T8IeVGUuc/7P2VDZYei2/Y/zdfX/OHz6z/BzphYn1b3PyLHPSv7+Pw/wmybqbiP9j/h26kElM70Pw==",
            "dtype": "f8"
           },
           "yaxis": "y"
          },
          {
           "hovertemplate": "Label=5<br>Time=10<br>Dimension 1=%{x}<br>Dimension 2=%{y}<extra></extra>",
           "legendgroup": "5",
           "marker": {
            "color": "#19d3f3",
            "symbol": "circle"
           },
           "mode": "markers",
           "name": "5",
           "orientation": "v",
           "showlegend": true,
           "type": "scatter",
           "x": {
            "bdata": "eKdav9z1/r/OfcV/w9v3v43mQgYc2gPANvAPk3/g/7/x5CPRtjAAwIFG4U+D0wDA0tPtoljb/7/AZhh0W9j/v4hWr1LLOLw/3o4Jw42x6r/baOTZUTwEwN1vRCYkxQDAxpbjbOkOAsCa/7Aa4XPwv89YLl9ZPQXAZIo8XDEYAsCntHVAw3jzvzp+QyOUHgLA27wvZhD7AsAi5AcxD6v5vxYZUtaxWv2/WCij/+79778=",
            "dtype": "f8"
           },
           "xaxis": "x",
           "y": {
            "bdata": "ZHOxzn3t/z/+gXO0ARcAQAMoHQRe4fg/6MAE+KOu9z+mx2KDBRf5P4LCC81fKfs/S4tEvhfS+j+p+/Fyl5j7P/D53D6TNQnAQ8T07AX7+j8YBvj7xAXwP/6r4mQN6e4/YO4DOtsG/j/7imxpLgr1P6z+5c4yRPk/uNv3gay89T+l1eJYidEAQDBdPoQskOg/wyEPHrN39T++P/r7jRb6P40KXtv5TvU/pCM1jAhj/j8=",
            "dtype": "f8"
           },
           "yaxis": "y"
          },
          {
           "hovertemplate": "Label=6<br>Time=10<br>Dimension 1=%{x}<br>Dimension 2=%{y}<extra></extra>",
           "legendgroup": "6",
           "marker": {
            "color": "#FF6692",
            "symbol": "circle"
           },
           "mode": "markers",
           "name": "6",
           "orientation": "v",
           "showlegend": true,
           "type": "scatter",
           "x": {
            "bdata": "4r9pSe+EA0Ag3FLFWoAHQG6rCpkSCgBAhf+9IfCQBEA4yQ1dcHIOQHrFlfGZDw9AnX4VsoecBUDhOjh5NpoDQAF43f+CwQNAsuV4QIn8DkBuHU3eOXUCQNVT3NobMglAn5HtoE5kC0AaWgu3GvIGQLBC5ySIMwdAdbb9RjY3CECdVtuFGDIKQFmJJ2jgCQ5A9k4vCtK/CUAPXc2Q5Y8GQOq6jmoqbQFA",
            "dtype": "f8"
           },
           "xaxis": "x",
           "y": {
            "bdata": "wHYzaQX9mj9OMqxmlcjhP6jGOdUls9M/UIlTJ1pbuT/A7BXS+QG/P1AyIe9UrrM/4o20tne74j+81NzzoRfSvzb0xGItIuI/SKn7Bw2IwT/YV7Kn94/HP0AS082LMpk/YKJq09PX0D8ATb7Dsby1v8zIr38J+OA/wB3p9xvewT+g5eOM8TvdPzCyxnmmkcm/uIcdh+FU2D94wAQoSu3KP9CXptSBZt8/",
            "dtype": "f8"
           },
           "yaxis": "y"
          },
          {
           "hovertemplate": "Label=7<br>Time=10<br>Dimension 1=%{x}<br>Dimension 2=%{y}<extra></extra>",
           "legendgroup": "7",
           "marker": {
            "color": "#B6E880",
            "symbol": "circle"
           },
           "mode": "markers",
           "name": "7",
           "orientation": "v",
           "showlegend": true,
           "type": "scatter",
           "x": {
            "bdata": "MHJhw1q21T9I9CSbfJ7WP3hx2lk1O9E/wyJneFxo0j+wyKiLoWvdP7CFgbBzXNM/ZijlsVXX1T9OLJC1VIDVP2ZBLWOoJdg/KCpbg2mz1D/oUvTfOs7VPw4RiNBnwOI/+e9NT1JP2T9DpWVxTuXSP45y+TyeO+A/rBaiMZn3wz857KsiPoTTP/wZi/+W6Nc/2Fr72Phr3j+KnJLwF23cP7DbFWc6OLw/92Hge9er0z8C21+yLBfXPw==",
            "dtype": "f8"
           },
           "xaxis": "x",
           "y": {
            "bdata": "gChl9BzPv78AgahWbBTdv3QhfZRecfK/8MWzXZdh4b9Ah64xo6SsPzCYnkpvarM/ALXM8uSecz84KYG7Dtjcv9T/9R7h0dG/oMYTcAIMzL8IDxOM+EHQvzQmq6+HZdw/KAuaSNxizz/YyoVYE+rQvyBCE5JtUsY/Kl1+XMZt8L8wlrRbTPnavzDD2dgrusi/AMQiUYSG1r/A9MZh9Yedv5zFd76aNQnA8Bap+6xTsT/kxA4Su7nQvw==",
            "dtype": "f8"
           },
           "yaxis": "y"
          },
          {
           "hovertemplate": "Label=8<br>Time=10<br>Dimension 1=%{x}<br>Dimension 2=%{y}<extra></extra>",
           "legendgroup": "8",
           "marker": {
            "color": "#FF97FF",
            "symbol": "circle"
           },
           "mode": "markers",
           "name": "8",
           "orientation": "v",
           "showlegend": true,
           "type": "scatter",
           "x": {
            "bdata": "ky52hqGbDEBZN4RFCEYLQKCQiOpuoQlAuvNcfCDkDkDjDiMQthcLQEcGizvEsg1AJItD3S+wD0APRtTwcLwLQD5nn3VjObw/6YGbhBfzDEBoQ7wMjAQMQN436IIDdAhAPh6qoUK+CEBGbNe0oZcNQOLIpNMIBgdA+8Hi1xZ+CEBw+woexkICQB7zpb0qLwVALLLu/SyuCkAQ3mGbJaIMQCCKD4er6QtA6XUHC2QtCUA=",
            "dtype": "f8"
           },
           "xaxis": "x",
           "y": {
            "bdata": "o6ZCn4XXA0C59kzfWF4DQIA94IxwKQNAO3t1nJEgBEDa6kzhE0gDQEOg3e7nqgJA9bnLVZoPA0DUcmr7arsDQIZs/viaNQnArCWvnQmYA0ClWVYx5+IDQBsZxLq3owJAsyvCGELtAkDm8XJVhtYDQImak2jHQQBA1QjLevuXAkDQlxlnt9f7P077Q4YQbQBALhgPiJgDAUBgPQaok7YDQBQi/3T4ngNA9XBc6QTVAkA=",
            "dtype": "f8"
           },
           "yaxis": "y"
          },
          {
           "hovertemplate": "Label=9<br>Time=10<br>Dimension 1=%{x}<br>Dimension 2=%{y}<extra></extra>",
           "legendgroup": "9",
           "marker": {
            "color": "#FECB52",
            "symbol": "circle"
           },
           "mode": "markers",
           "name": "9",
           "orientation": "v",
           "showlegend": true,
           "type": "scatter",
           "x": {
            "bdata": "smbBsHelA0DFVD+zqUwEQKZaaBIWObw/fLyCGXti+D82ZfLsCfcBQI5CWDC6AwJAKRHwnytGAEChMhMkm5wCQEnedwLrQgRAHCoMBKA5vD/pOcV9nXkAQEejbWWEEARA/FdrQ2r3AUAJ3ignIHMBQFD7fq5rObw/VJurbi3NAUAkcCqtBBANQPXqiRZgmQRAcBAZC3k4vD+KbQ/MEPgAQAelxBuqBQBAkLxban1W/T/PMCzf5XH6P3UcNiGHTvw/",
            "dtype": "f8"
           },
           "xaxis": "x",
           "y": {
            "bdata": "OG32SBhc0T98JfFw907hv5bjlyqcNQnAgJo5o5mVor/MpUHZ/EnePxhwxda3lcw/vo/V3NAC4j8QWxvLRE7NvxjDhV+Oktu/ULYrFpc1CcAM5AIxud3UP7Ak9hr9ArM/4JM8Fu8xpz8AlgJ4ax+yv+Y47f6UNQnAoLRvIkJH0D9chObU2TPqv9QcAo4VENQ/BGmEXJM1CcBgCefQVMqivwCuhGSMYna/YO+IJiPuyT9IUmJgpCTIvxyEiuZvRdG/",
            "dtype": "f8"
           },
           "yaxis": "y"
          },
          {
           "hovertemplate": "Label=10<br>Time=10<br>Dimension 1=%{x}<br>Dimension 2=%{y}<extra></extra>",
           "legendgroup": "10",
           "marker": {
            "color": "#636efa",
            "symbol": "circle"
           },
           "mode": "markers",
           "name": "10",
           "orientation": "v",
           "showlegend": true,
           "type": "scatter",
           "x": {
            "bdata": "GH7/OgmsBMAydSrz8UwIQFRh9BE6lwLAO+IP8weaBkD7TpSDsGHwv4XXwtMqgQ9AhoUlSuS7BcCuURJvT8npv9SEGNZz49U/Im4SP22Q6b8=",
            "dtype": "f8"
           },
           "xaxis": "x",
           "y": {
            "bdata": "KqWYDXVW+L9AfFUSpg3QP0jyyqoqZABAYJC4AeW61T9Ob73KYsTxP5+ATDZcFwNAsVa0KWpY9T8kqwbfEHQAwAByQ4N33M6/WZDRqxY1+T8=",
            "dtype": "f8"
           },
           "yaxis": "y"
          }
         ],
         "name": "10"
        },
        {
         "data": [
          {
           "hovertemplate": "Label=0<br>Time=11<br>Dimension 1=%{x}<br>Dimension 2=%{y}<extra></extra>",
           "legendgroup": "0",
           "marker": {
            "color": "#636efa",
            "symbol": "circle"
           },
           "mode": "markers",
           "name": "0",
           "orientation": "v",
           "showlegend": true,
           "type": "scatter",
           "x": {
            "bdata": "bFQ0xaEx+L/vu10qIHr1vw0VFs9Mp/m/rIFO82jrAcAhXwr+uL77v68dj3BwOgDA913WjaA98b/IeCdpGcf4v84Z8fdlKvy/XMtGVejJ/r+wWwiaR5P4v1/GDTTZJve/PkY6Kqm27b/tAq20Qej6vywCyMxUPgHAJAZZ7n1B+b+0q1nUCzm8P+KkLbXpTAPAnKI2g6+D97/qQTU+fzm8PxAX8/uS/um/TGM3zIFx2r85vjoFlfv1vw==",
            "dtype": "f8"
           },
           "xaxis": "x",
           "y": {
            "bdata": "6HuoZJwd4z9d9hSpQtLwPyDSqz+Apro/sJNJBgP9zT85Y6h7zkzqP4PkBnKHKu0/PrI90UOI7j+n0BCo0oLwP8zrTq89LPA/P7rAJfy56T959zS4/L3tPwr4K4TtF/M/57xY46do6T8B4WLui0bvP4BobfTOl8o/jd/8sFWE6D8EZIg8lzUJwNaxuATIouE/EJ0G8D7N7D/aSxDglzUJwMDGbaCMgNc/ENRx+Aea6z/phRx5ycrpPw==",
            "dtype": "f8"
           },
           "yaxis": "y"
          },
          {
           "hovertemplate": "Label=1<br>Time=11<br>Dimension 1=%{x}<br>Dimension 2=%{y}<extra></extra>",
           "legendgroup": "1",
           "marker": {
            "color": "#EF553B",
            "symbol": "circle"
           },
           "mode": "markers",
           "name": "1",
           "orientation": "v",
           "showlegend": true,
           "type": "scatter",
           "x": {
            "bdata": "+u7eBzW/9b852j60/MUAwNqEA93fGte/lG72j1+r/7/bA6aPsAP2v4ipMNLMaADANTuv6hAm+780SOJfDpzvv7RRne264v2/1Z20rWRM+79K1XzxEhbyv4SPUEbxgvS/0/r5yNJN+L/iOdjSCRv4v8Bv4iudSP6/Wp9SRZqR/7+DTHqg8PUBwHB9N1MFWey/iA2Qz55k+b8kt+bjcW7+v6A5NgPMOADAL/q3A+Pk9r/K0FU1ep79vxCzRz+fiea/dgIPfg1h/L8=",
            "dtype": "f8"
           },
           "xaxis": "x",
           "y": {
            "bdata": "Km86MIdoAEACO9rD8rACQFoc5FFYlPs/rFTTHy75+z8fiIwtvIsAQCi//3pfmPw/e/ZF9i5nAEAI0eL+2jX/Py5+T8DDSwJA3tv2E5aRAUCkhSM/2YLuP3G5NFjYkgBARt1rql5RAUCc+bwi5i4BQHbdFMJrZfo/LZV9Z2SGAkBm/6vBbQ3/PydrfpUaRfQ/GEJAZNd8/T9gClPfInwCQI0tqKeuhP8/IkE7DIWt/j/G7Wg3diMCQCvF9Y5uqPw/WXFP9BorAkA=",
            "dtype": "f8"
           },
           "yaxis": "y"
          },
          {
           "hovertemplate": "Label=2<br>Time=11<br>Dimension 1=%{x}<br>Dimension 2=%{y}<extra></extra>",
           "legendgroup": "2",
           "marker": {
            "color": "#00cc96",
            "symbol": "circle"
           },
           "mode": "markers",
           "name": "2",
           "orientation": "v",
           "showlegend": true,
           "type": "scatter",
           "x": {
            "bdata": "+P6a8yUvCMDlr6lQwjwEwOXDUZfVxPC/o3+gHzblBcBKiPAG+EgHwOYvsdnX7wbAlG8xhn7S/r8buM97UtkGwDjN7XZZmAbA0b0fCy03AMBn01p7CfQDwLhG6ZvXPQPAmRROFDP8BsDRF+Mx/1ICwGrtHgPw1QLAct45O7AuBsCCVMH9I+cAwFjoUE2cmwbAbNH5C5nWBcDigkjR8TAIwBXd1AHBLQjAMFs2K60p/78qf8XPsRsHwA==",
            "dtype": "f8"
           },
           "xaxis": "x",
           "y": {
            "bdata": "CFu76NSxAsBGE9ubk+n7v5RpQQfND+q/QNJ9k+VmAsAVMo/fb2UBwFalyWaqsAHAqPGNtz1//L9ojpoYdaP8vx5iXHLPoADAbJFT6i7nAMCak4vrCHX5v7g65EDEW/u/buVbKEsxAcA6/CmxvzH5v+IcFDAPEPm/1Fv2qZik/78Qa2UJWMgBwI5Kdl7vU/m/GreSj3HO87+43o534GYBwMeC22C+DALAHC+LrhUBA8Amrbm2ZBECwA==",
            "dtype": "f8"
           },
           "yaxis": "y"
          },
          {
           "hovertemplate": "Label=3<br>Time=11<br>Dimension 1=%{x}<br>Dimension 2=%{y}<extra></extra>",
           "legendgroup": "3",
           "marker": {
            "color": "#ab63fa",
            "symbol": "circle"
           },
           "mode": "markers",
           "name": "3",
           "orientation": "v",
           "showlegend": true,
           "type": "scatter",
           "x": {
            "bdata": "JIn5nJlN479DcfJzAr/jv4742GbDQN6/HdpAGGbS478VAb/25mrgv6nbRwzYQOC/C0Uq03M+4b8IFWtkg/nfv0RyhrjgJ9+/rX87m9fF4r/i+vl7ZeLZvzc/TFHpCOK/Cy9J8T+F4b/unCBuY+Tjv57FqrezDua/8xe3gXst5r9NDcaMSS/iv8s9wzyYdeC/TruwB/fv1r9odVvETjTYv3RnZVZ2i9m/TlsjX9se4r/CHcQSEhrkvwiJnhZN5uG/UjTtuG2I4b/k6CeUCtThvw==",
            "dtype": "f8"
           },
           "xaxis": "x",
           "y": {
            "bdata": "JXYBy+lIAcCaTTv1AKcEwKrgLab2kwXAqGNrEOGCBcB08BOdg0cKwEZWZZxkPAfA3l3wvQdPBMCDe0etpJkCwHLuI5qKfQrASFs/vkZWCMDKRnvJ3+n+v4pj0VtM3AXASPkkcVmMCMDgqrSoAr4LwN6de0ZO+gzAiAIMDEUVDMAXPoeJoa8CwI6Ur0GjnATA6IlYw2VYBMDKrZ8LRnQAwIBxI69aPQHAxHAdFHNRCcB0zyWiO0kJwIrUByFv4AXAgEB+bVSzBcBQYK43QXUKwA==",
            "dtype": "f8"
           },
           "yaxis": "y"
          },
          {
           "hovertemplate": "Label=4<br>Time=11<br>Dimension 1=%{x}<br>Dimension 2=%{y}<extra></extra>",
           "legendgroup": "4",
           "marker": {
            "color": "#FFA15A",
            "symbol": "circle"
           },
           "mode": "markers",
           "name": "4",
           "orientation": "v",
           "showlegend": true,
           "type": "scatter",
           "x": {
            "bdata": "OgabdtykA8AX7/Yuy7UBwAVfQC5X1AfAOjIlV6A7A8BfVWdDfygGwCKjeUmWYvy/JHTR/MH+/L/wXov2F54FwPi/9l4tP/q/PmZEFXVH/b+RwtJsd0sDwC2SRdOpjQDAk9vQoF6lAMDEYwGsvPv/v/Tqc1BVqgXAhczwF86mAsBctYJ4p+QCwN3Eku9Dx/q/Wmj1mszb/7/BNr/RXIkAwIhAJEuMyv+/KzVkNKyqAMBCbhzJ3hAFwA==",
            "dtype": "f8"
           },
           "xaxis": "x",
           "y": {
            "bdata": "F+HUHhKI9z9d7yLZFI32P9gYXFmgh/Y/4rJioYCJ9j+/Knd9HMn2P5wBkRmFl/Q/pOSldFgf9j9sJhHpAu72P4t46TvcjvM/IIKaOY429j+E5L1xeZL2P0WycQ3tsvY/M5hvNCG+9j+FqVoXr3T1P9fQ2kLUA/c/NZ3vbbYD9z8JpIr5FAP3P3V0K8V11fQ/elHBV54Y9T/T37eBJ+72PydHSB69XvU/O0t8WI/v9D+o9g+pn2j2Pw==",
            "dtype": "f8"
           },
           "yaxis": "y"
          },
          {
           "hovertemplate": "Label=5<br>Time=11<br>Dimension 1=%{x}<br>Dimension 2=%{y}<extra></extra>",
           "legendgroup": "5",
           "marker": {
            "color": "#19d3f3",
            "symbol": "circle"
           },
           "mode": "markers",
           "name": "5",
           "orientation": "v",
           "showlegend": true,
           "type": "scatter",
           "x": {
            "bdata": "DMxxqwEX2L9YgvOQLzm8P0ofTfaeWN2/4O+xPyXykD9lyQLHYubhv5I7L7yCVte/Huj11JYO2L/+XD3ySzDWv2Ys54QeObw/jbrTT+eM4r9edkPAO+/ev5K1Sxs+Ydu/ptJBZNSk1r/zAVndZPzLv5yTYkJHSNm/Ep6zuZ7m3b/gzHuCI3nZv+R1A1Rsrde/jsylG3ic2b/2Eg4oWuLQv8bla7MVtNq/zPXeBSm51L8=",
            "dtype": "f8"
           },
           "xaxis": "x",
           "y": {
            "bdata": "oGtY7W0tAEBALEZIlzUJwDQLAKkko/8/AHhF4KtMTj+dUXjhYAABQHmCJoibx/s/O26fXdGh+j/STxDOuIz6P8KvaRqZNQnAU4KKfl5KAUAtPtksISgAQIq/v76Ic/0/Xqhc/+tH+D8ZN2cWgZ7zP2xgKRTdfv4/wk7KywIcAUB6BfWecjT9P9zyT/4oe/8/KKb9LZJiAEAZxXHZMon0P99A1t0O5/8/ntGtH7qi+z8=",
            "dtype": "f8"
           },
           "yaxis": "y"
          },
          {
           "hovertemplate": "Label=6<br>Time=11<br>Dimension 1=%{x}<br>Dimension 2=%{y}<extra></extra>",
           "legendgroup": "6",
           "marker": {
            "color": "#FF6692",
            "symbol": "circle"
           },
           "mode": "markers",
           "name": "6",
           "orientation": "v",
           "showlegend": true,
           "type": "scatter",
           "x": {
            "bdata": "jh31TeRB/j8C4nBiOUgCQE5tjW5C3AVAVR0Ep1z2A0AFpuTvcbQKQCzsZus/lgZAKkCi1Jn7BkB27CVXchr4P7cwU+cJ0vk/o1VNsFy9DEBFr7wvNfAGQLb+C4WVB/k/kZM3baFhDUDtnnlHCZcHQLo5dF+gKARABlPgL3miAkAYdDbLxYcGQDNQZQgPdwhANCq2RWPzA0BNyZHEpSQIQOhdSRVeDgZA",
            "dtype": "f8"
           },
           "xaxis": "x",
           "y": {
            "bdata": "yGkuwEaU3D/KaKsGsoDhP7hUjJ067N0/sH8eGJY4uj/AjFzPBjLRP9iClQ90I9Y/+G+YWt/q2z/sdWpXBiHdP87bjeDIE+g/wDlumGVyyT8Imua0WurMPyg/RLEQbtC/QPkX6Toxnz8kC68VJ5TbP/5wmUoHXOM/hAACuM8W078YyHuQVx3aPwA5j8xLLKU/TOEvlk7C3z8Qe0yfOlG0Pzr7Ty2JMuE/",
            "dtype": "f8"
           },
           "yaxis": "y"
          },
          {
           "hovertemplate": "Label=7<br>Time=11<br>Dimension 1=%{x}<br>Dimension 2=%{y}<extra></extra>",
           "legendgroup": "7",
           "marker": {
            "color": "#B6E880",
            "symbol": "circle"
           },
           "mode": "markers",
           "name": "7",
           "orientation": "v",
           "showlegend": true,
           "type": "scatter",
           "x": {
            "bdata": "ejd8KPlF6D/9NTVKKUndP/mDNopcv+E/lYDpCnV47z9yjlanwvDkP1kFt6lT5Ns/cm8PjD1v6j+iT+Mu4CC7P4ayhyV6bPU/7N+6Tq2B5T8XsSrxRVXvP9nLyIDy5OI/BjzfJ4i24D8uuZrEsWXgP0f4mT6S4+I/tbnATdP3wz8UcfFdoUTYP2q5ygRDheM/8pi/QQdq2z+LGpVG7+DdP2Zw4UDdOLw/5rnNApuJ5T8fffLVi+HhPw==",
            "dtype": "f8"
           },
           "xaxis": "x",
           "y": {
            "bdata": "bHvV4KQx9L9g/RqtLVfov4w9nNp3SuG/FMrpsnmH7L9M6DCjJfXvv8wO+hcyQeu/uHNPX43M6b8sVir3VBPxv0wxwPJ8SfS/cK/oyzyU67+aTgfPJLzxvxgm2we0KOa/+Iw9iaR557/ItQsta+3tv4zAi5PrzOS/KNMJ5hNu8L/IkwLln1Lsvxwrbgfq/ey/YJM90eM+7b8UCQFL1FTjvz5c8t2bNQnAHOiFuOZb4L+Ux9MRnYTnvw==",
            "dtype": "f8"
           },
           "yaxis": "y"
          },
          {
           "hovertemplate": "Label=8<br>Time=11<br>Dimension 1=%{x}<br>Dimension 2=%{y}<extra></extra>",
           "legendgroup": "8",
           "marker": {
            "color": "#FF97FF",
            "symbol": "circle"
           },
           "mode": "markers",
           "name": "8",
           "orientation": "v",
           "showlegend": true,
           "type": "scatter",
           "x": {
            "bdata": "3lem111GCkBE5sqRSJ4MQKKOrPAIMgJA7yv6AX+zCUB2fxSgjtELQF14rnCliAZAV3dipcTLB0DyxD3KDowEQHJfz0xZObw/nK8pL/bSB0C45Gp1QQILQI75fHwnYwdA5OPRDyRiCECIyi57OPAFQFhvzzjqhg5AUPUUEYI4A0DOmjhXOzMHQPqnig4CuANAptXxyMYXB0AZCne5FEUOQJi0MYS9DAZA07ds1vhQB0A=",
            "dtype": "f8"
           },
           "xaxis": "x",
           "y": {
            "bdata": "CprzkRwkA0C6ZyunhI8DQFhCjyHqPABA70nd7SjyAkBDMWWilH8DQATAGHk/9wFAkl/YPGNCAkCxF81zlgwBQP6XK0+WNQnAbp7vPTWRAkCiZkZLGV4DQBSL3KAU/QFA+tv9jdiXAkDvi5GjhP0BQLTQFYkXSARA1zcYdh52AEBaeTp8PC0CQHJZosQUaABARORv3V97AkAvvx5vgAIEQDmZp+c5MwJAun8v7aB4AkA=",
            "dtype": "f8"
           },
           "yaxis": "y"
          },
          {
           "hovertemplate": "Label=9<br>Time=11<br>Dimension 1=%{x}<br>Dimension 2=%{y}<extra></extra>",
           "legendgroup": "9",
           "marker": {
            "color": "#FECB52",
            "symbol": "circle"
           },
           "mode": "markers",
           "name": "9",
           "orientation": "v",
           "showlegend": true,
           "type": "scatter",
           "x": {
            "bdata": "kd8HiRUyEkA4TPrLhFESQEzRV/fHoQ9AvFqbXrXwDkBfUp/Nn6ESQDJN0mJdrhJArvdE5k6BEUCBiy/fRKMRQFmtlbCJZBBAnuxiC9s4vD8/q+vsIZ0RQNBJBt/P5RFAFbMbb/OZEUDC5NePi5QQQPG7jvCk0xFAvfK+4reAEECx9DqcjYwJQGMWSTDuYhJAv3ql7hR/EUCBKfHBlcEQQJRo4MOPowxACxZa5x9LD0B+recUuxEEQOJASVqaXxJA",
            "dtype": "f8"
           },
           "xaxis": "x",
           "y": {
            "bdata": "uLBI4SGM2r+wANMuIoXbvwAIquN7FY6/0Pxa8ATH2r8QixB42mbavyCD2Pkwqt+/YEtdZPoa3r90smywGYrSv4Byn5nseNy/EDu1XJc1CcAgbZdU06DYv6SC++FIReC/2MRgMGuf1L+QG/4dgWi7v0DKGPjKg9e/KFYtuyaFxb8AxwgXMd7NPyCYHpVy1tq/CAA0siU/zr8Ak4u1E+K6vyCoTOGGgMW/fBUsVEIw47+geejOYkCiP/gqXdPQ6OC/",
            "dtype": "f8"
           },
           "yaxis": "y"
          },
          {
           "hovertemplate": "Label=10<br>Time=11<br>Dimension 1=%{x}<br>Dimension 2=%{y}<extra></extra>",
           "legendgroup": "10",
           "marker": {
            "color": "#636efa",
            "symbol": "circle"
           },
           "mode": "markers",
           "name": "10",
           "orientation": "v",
           "showlegend": true,
           "type": "scatter",
           "x": {
            "bdata": "cIQZIBYtBsDNzCiOPoAEQK57epyaXgDA3DZ0KgqzAkAyU1JdwSjov5J4Xh5K7QtAj+aAKX3zAsC2pSvJhDrnvwQE151nRuI/UO8I84G72L8=",
            "dtype": "f8"
           },
           "xaxis": "x",
           "y": {
            "bdata": "zhJtSxwzBcBIh6DtrY3LP5oRXnr9igBAgCXhNG5Hsz++9Bx04mrqP2XlG/rpdANA8VV2dCfo9j+EHdgWnikLwJgV38kGCvC/l1rLPN5s+z8=",
            "dtype": "f8"
           },
           "yaxis": "y"
          }
         ],
         "name": "11"
        },
        {
         "data": [
          {
           "hovertemplate": "Label=0<br>Time=12<br>Dimension 1=%{x}<br>Dimension 2=%{y}<extra></extra>",
           "legendgroup": "0",
           "marker": {
            "color": "#636efa",
            "symbol": "circle"
           },
           "mode": "markers",
           "name": "0",
           "orientation": "v",
           "showlegend": true,
           "type": "scatter",
           "x": {
            "bdata": "IGksy4yCAcAon6ZBv+zqv3qrQrcDgde/lEv1pcxOAMAmyuXv9O3/vwMwOpQwfcy/dwCWjLVg8T+aQU9mADzzv2J7vshKm/e/iPmzn/i17L/nj/OlsGH3v+orDo49PfC/YOAbNaSz/r9ZEFZEa/fwv8AepUcIy/e/qhOvllx47r/g/vwE8Dm8P37Af6WaJ/2/Iuj4CWNb5L/Y/+cDFTm8PwqJRZ7n3vy/Uo2x7mYH9L9+oJbBYLnovw==",
            "dtype": "f8"
           },
           "xaxis": "x",
           "y": {
            "bdata": "oCVAO3ju4b94cfCr94XTP/zdeErEPtW/5ClZj+si5r/ASZl2a1qsv1YBcdN1/fQ/oCrazKM+7T9VpVI9syvwP7Rup7V2ieM/CZFfJAxu7z+B5PFLTuH0P3pB74segOM//wDCjliY8j/QGwNven/wP2Jxnc3JUe4/Uh6GqO5C5j8UpGjxmDUJwE9SwT93lvE/G1YCdL0C7T8I0PWSmDUJwAAVqXYfJ4Y/zbSASxG77z9SPdQ8cynvPw==",
            "dtype": "f8"
           },
           "yaxis": "y"
          },
          {
           "hovertemplate": "Label=1<br>Time=12<br>Dimension 1=%{x}<br>Dimension 2=%{y}<extra></extra>",
           "legendgroup": "1",
           "marker": {
            "color": "#EF553B",
            "symbol": "circle"
           },
           "mode": "markers",
           "name": "1",
           "orientation": "v",
           "showlegend": true,
           "type": "scatter",
           "x": {
            "bdata": "6sVdRZ2h67/1d270OnHMv3WXXjffAPK/D4Ni3dPUw7/yDAXOXhfrv3yPfckw1dw/+PUnaGsM17/kBu+X32IEwFWv47QN6ve/zDam4q/I1D9mwjTZBH/9v9U5iI+1NfS//9nw7Y6k4b9mGl5++HrSvxhFCMmioOi/7pr5TuES8r+mFqmLfR/7v5Yn1EJAjuu/Ng9nLDnO/b8EMS0wqZP0v0MWvbRI+fW/iDos+9WP0b/2hoNFL8Twv5s0xcg19ve/LxEFLTruAMA=",
            "dtype": "f8"
           },
           "xaxis": "x",
           "y": {
            "bdata": "pX57/ZsD9D/kn8dThbnYPwb5lWT+vv4/dGXf+v6/2T94/2HJAL7yP4IQUYGofu4/AZ4vBquM+D+AAIuS/t7BPx9BAvww3ABAZr8XHC9L7D/spEEkBjP9P+zid+L6nf0/QSpLdcBJ8T+nlyMLLaryP2RRPsy6o+k/AF1cRMsI/j8lSNVQePgBQEd9+YwTePQ/xLMq9YXm/D9Fu7YT8OLoPxAeERNOMABAx/o231lD9D/+jdzltkryP8AyxQ5xX/w/aQ9SDMnXAkA=",
            "dtype": "f8"
           },
           "yaxis": "y"
          },
          {
           "hovertemplate": "Label=2<br>Time=12<br>Dimension 1=%{x}<br>Dimension 2=%{y}<extra></extra>",
           "legendgroup": "2",
           "marker": {
            "color": "#00cc96",
            "symbol": "circle"
           },
           "mode": "markers",
           "name": "2",
           "orientation": "v",
           "showlegend": true,
           "type": "scatter",
           "x": {
            "bdata": "9YkajQ6gBcC/lv8kE0QFwLC5/JhCFum/XsAWOklK/r/k3WJuzgwCwDE97/dZAQTALMXDi14i+r+RbWmfMk8CwIAesffBtgLAXGLRJRjmAMClt7zmKWEEwC+eZ3BWTALA7PJZD7ly+L9+BErhPKQBwCkuLYyCqQPA4Cmop8mv/b96Jv22eBv9v3Rc5kL3XgLA2mJGRrW2/r8EtZUnKs/kv/koO76MJQHAloKVjj6qBsBxgnhztgP8vw==",
            "dtype": "f8"
           },
           "xaxis": "x",
           "y": {
            "bdata": "iPqSe+Yq+L8YR0ygjLj6v+zOafC4+uu/ekYkkJsn8r/srVyFhND5v5JqDKyjq/2/vO3ouvyo7L9Ov6moyoX4v7xBfd0hlPe/mCXTRXYa8r+UiRhxsrn+v6LcTNt+evi/jLnXzJ3r6r+YWgktAczqv3CqvRSnMey/9k0l+rMT+r/sPgMf0/Lsv7CyWOR9pvy/FkcFqY858r9O9S4z7mz4v/TmAZg6mPa/DXekHh9iAcCYRMsX5/vnvw==",
            "dtype": "f8"
           },
           "yaxis": "y"
          },
          {
           "hovertemplate": "Label=3<br>Time=12<br>Dimension 1=%{x}<br>Dimension 2=%{y}<extra></extra>",
           "legendgroup": "3",
           "marker": {
            "color": "#ab63fa",
            "symbol": "circle"
           },
           "mode": "markers",
           "name": "3",
           "orientation": "v",
           "showlegend": true,
           "type": "scatter",
           "x": {
            "bdata": "ucXyyZSsw78WwnU5f3vRv7C/dOo+Z4C/9rYaaHfw+L/iGcmuJe3kv3IE0Foflv+/j2eVKTD3x7+rwd+9Vv3Gv3bL4RLWbfy/iMTRHcu5979IgraRQpD1v/gYLiNyYte/KnfBvzhMvr8gSDCdf4zVv9+dpRYTZPm//9jkz8Pg9L+pExfn4Lz6v5zCVz4iRqe/+uwtt0KO+b846gGw1GT2v5zeHNtPv8c/DqtUpMLIuL/677qySRf/v44uw60Z1Pi/5mLDpSBY1L+6KM7nH07Svw==",
            "dtype": "f8"
           },
           "xaxis": "x",
           "y": {
            "bdata": "jCbSWgjQ6L8wfA4bs3nWv7iwLzAoePS/AuHeCmU1+L++VWKuLrP6vza8ZyQ3bfm/DDXMbXot5b8kjO4/vzzov3BVgjRv7/O/ciqnitMW+L+A2b7/S5/mv6h/xDr5DfG/9Oad30+j5L9EM9LLaETyv+yM3/IQNvi/GIEnXHkV0r9gab/g5mr2v1Cld17tzu+/AHbKFGYphb/eiJIuLMTzv1gKwm9m6/m/QKiSpUnd7L80eIzpprP2v2hNatSJ3PW/vMtLGrA29b8w5y+LplTlvw==",
            "dtype": "f8"
           },
           "yaxis": "y"
          },
          {
           "hovertemplate": "Label=4<br>Time=12<br>Dimension 1=%{x}<br>Dimension 2=%{y}<extra></extra>",
           "legendgroup": "4",
           "marker": {
            "color": "#FFA15A",
            "symbol": "circle"
           },
           "mode": "markers",
           "name": "4",
           "orientation": "v",
           "showlegend": true,
           "type": "scatter",
           "x": {
            "bdata": "ZTkLJkQiAMAh+jO7kgj4v+jgUwOzafe/BsEL7q6N/L8hK5Oz7wkAwEK16J2ETv+/zTYYwSaa9b/OzLUEfxgFwKiVt1cJ/wLAO57Rm8YgAcBYr+H2rPsDwLuvrVnWhwLAgh/VtcJZAMBV2BpOC/sAwFumZlLFNQDAGg7AbZ0hA8C3a7QiDtL6vy4sMG8gbeu/0pz7BOZWAMAQ+L1N/JACwAKNHwMSRfm/5dwHbm6IBcBe/YhtpEgGwA==",
            "dtype": "f8"
           },
           "xaxis": "x",
           "y": {
            "bdata": "zluF6/9S4D96NKRBzeTwPw0Akbs3VvQ/eFIPwCSh0j9PPuoT/STsP77dZjw4vuM/zjJHfy6r8T/QpPWNnUrfP1PXXVujuPY/1ITDycnw7z9uAu+mrhDkP0YiyS7nO+g/Q1ytxmcA9j9acSzBo2/qP7pA8v1kmeI/lQuvWV8F9j8o1/0wkPHZPyTolpoS+N0/eZCXB5xX9T91xZGFtzbqP1C8QSrUd/A/xO1hmNDO3T+6LbgWcVfyPw==",
            "dtype": "f8"
           },
           "yaxis": "y"
          },
          {
           "hovertemplate": "Label=5<br>Time=12<br>Dimension 1=%{x}<br>Dimension 2=%{y}<extra></extra>",
           "legendgroup": "5",
           "marker": {
            "color": "#19d3f3",
            "symbol": "circle"
           },
           "mode": "markers",
           "name": "5",
           "orientation": "v",
           "showlegend": true,
           "type": "scatter",
           "x": {
            "bdata": "yq2wxLdM17+hvsCSgKz3v33SbvEL0Pe/QA44Kyg5vD9NLuPCHVvhv9WZNeJ2H86/bPtmfb9W1b+5UpDbp4r6v4gzt1pkObw/gy36LfEdzL94QK/SeR76v2mxf/TEe8i/2xXQyPKHwb/2cwnm6wnxv96iFwmX7dG/xhgqLqVn4L9cxFhGjUzjv6hKc9ozlNO/ASghxID09r/tMiN41LvLvyq7J2rdeNm/0CRhqnTu+78=",
            "dtype": "f8"
           },
           "xaxis": "x",
           "y": {
            "bdata": "iCYNoP91/z/KKVhV3F33P2zUe+J2tOo/QsptsZg1CcC23CxAB3sAQC9x9y6+FPY/Ebsv4fyC+T+Q/v0dXFfWPyb6joaUNQnAegCwnHdf+D9+D3Ppg3TwPxfa0PrF4ug/BmI2aLjP6z/cER992SXyP9k4FcPJQ/k/Fi7yAjPjAEBd6NME7F3pP/yKikaTp/0/5F/nzfZS2D/2ZjxfWtfyPwxX5MGmoP4/0v6k7tGX4z8=",
            "dtype": "f8"
           },
           "yaxis": "y"
          },
          {
           "hovertemplate": "Label=6<br>Time=12<br>Dimension 1=%{x}<br>Dimension 2=%{y}<extra></extra>",
           "legendgroup": "6",
           "marker": {
            "color": "#FF6692",
            "symbol": "circle"
           },
           "mode": "markers",
           "name": "6",
           "orientation": "v",
           "showlegend": true,
           "type": "scatter",
           "x": {
            "bdata": "T333Sy6/BkBMxacZ4wcEQLevWjgjBwJA4ZBVJ4w1BUA7w4rDPBEAQP3n8RgjzgJADa8GPdBnCUB1Ebt3/1MOQKejzbitsQVArH2R4LQ8CkCzp076/hz1P52vipWergVAvSMnsJiND0CoN4F3J2/+P14XG2oO1QJA9I2tXTvRA0A05bB5GNoNQFyapn8tDANA+W1g/SLGDUC2IxS2zgcKQE6NJe58WdA/",
            "dtype": "f8"
           },
           "xaxis": "x",
           "y": {
            "bdata": "cIheqquXxj9QV+8wktTWP9BwPrHYFds/cD+UCb5O3j9X0mdj4RDmP7yems1mvts/RL/sI3EK0z+IQGCYiOzLv5gC3rc4o90/QGJ/WDxQ1j8AruhlwCiwv1BuX1GiDdQ/uHJk0qlKwb94fSk6t3bTP6T8yqoPbNc/SNu5C0vuxj/ot43YCCvDP9RN6KhrHNE/IIwEht5XsT8IDRVrU5/VP0leSbjjiOs/",
            "dtype": "f8"
           },
           "yaxis": "y"
          },
          {
           "hovertemplate": "Label=7<br>Time=12<br>Dimension 1=%{x}<br>Dimension 2=%{y}<extra></extra>",
           "legendgroup": "7",
           "marker": {
            "color": "#B6E880",
            "symbol": "circle"
           },
           "mode": "markers",
           "name": "7",
           "orientation": "v",
           "showlegend": true,
           "type": "scatter",
           "x": {
            "bdata": "ChX9qLV97j8AArYQ/lHeP4VG5xsYJdI/nkE3Lgld2T+WMw6GR6P8P5qXtZmBje0/UPvWs2KI3j96KhtOnS3TPxFxFkZYYAJAnB+UU3IA4D8ISTz2Eaf3P8fREJ21a+A/g+VplsJV0z8I4pFT0kzYP5pPgklrGfQ/FmdA+vA5vD/aygybJr/TP75szDKYCtc/xNdxUoJa1z+6NdU4B83eP4LlvvKyOLw/3Y2hNSCr8j8K1TSjo23bPw==",
            "dtype": "f8"
           },
           "xaxis": "x",
           "y": {
            "bdata": "0FfgNww+wb8QJIn6v73Xv+DHY/pr8sW/EPCPMAWKtL+IMDXaXNXZv6iE15nTLtM/MOrJhofusj/YV3zb/vrAP9BtPReujdW/cIPXodcx179OChAMAdjjP1ANqp/qTLO/8NAZTrfmur9k3ZOYlZjTvyTUUKCYXtk/kiJn1ZU1CcCI8x2NOdHKv0j1I3rxQtO/QDltFyx81r8goZ3/UgmnP8JCMmOUNQnApCSo/7o51j/Erat0/1zVvw==",
            "dtype": "f8"
           },
           "yaxis": "y"
          },
          {
           "hovertemplate": "Label=8<br>Time=12<br>Dimension 1=%{x}<br>Dimension 2=%{y}<extra></extra>",
           "legendgroup": "8",
           "marker": {
            "color": "#FF97FF",
            "symbol": "circle"
           },
           "mode": "markers",
           "name": "8",
           "orientation": "v",
           "showlegend": true,
           "type": "scatter",
           "x": {
            "bdata": "8UTamX2zD0BOejxNSTwHQL8Nq0U4ZQlA7XryHQg2BED1vIqHzs8DQMIP5rzASgFAYw+eXMLZBUD6GNkqwIgEQDxFih9mObw/Db88PP4qBkBbsp49BRENQL7c+Fi3owlAKH5XG79OCUCk0pc8P/oFQFg0PQPlMApApHTD/L6JBEAyQEr87SoKQGo/pE9GHwpAPo+H7kwNDECiA7owlGwQQFgClHPeMgdA2q+u/9lB+j8=",
            "dtype": "f8"
           },
           "xaxis": "x",
           "y": {
            "bdata": "XNUtmmc18D821h06QCD5P/LLRLm4eQFAJjMKXWQlAUB+YHznLH8AQDJFKeJHs/U/mDT7gGHK8z8BXqhC8ybwPwqintOXNQnAm75oZt4Z/j/UTmIOphz+P1SmO48nIQNAH0+tGEaWAEDKr0qTF9UBQIZWhYEQfOA/8L1oAlPE+z8Mc5ZPH+v4PwKC32F/kQFAxvBKtIiEA0BMAI1NN8rkPynvmx6RaQJAIpOqocIz9T8=",
            "dtype": "f8"
           },
           "yaxis": "y"
          },
          {
           "hovertemplate": "Label=9<br>Time=12<br>Dimension 1=%{x}<br>Dimension 2=%{y}<extra></extra>",
           "legendgroup": "9",
           "marker": {
            "color": "#FECB52",
            "symbol": "circle"
           },
           "mode": "markers",
           "name": "9",
           "orientation": "v",
           "showlegend": true,
           "type": "scatter",
           "x": {
            "bdata": "pO+ln1CgCkDC6XkwnGsJQN/F9BAg2QlA6YmbCytXDEAAxt+jufz/PxVuc1VenfU/Z6t/TxY+AkAkZB/+mg/8P9RvfvvdPghApjO1myU5vD97iDroe9kIQCFi26DjrwNALy8noY3Q9z8th1dKEdUOQCOEPpZlxPE/IV7Wa4iiBkCILM2hTzb3P78d14Vp+wdARVZhulAR/j8IfHFh1E0KQH/ClHXCEQhABBNCTYenAkAMZK60GF8HQJdf/33h5gFA",
            "dtype": "f8"
           },
           "xaxis": "x",
           "y": {
            "bdata": "Xlaro3rh5D8400PHuCraP9HW8kf9TOc/ePKGu10txb9EEZK0mr7ZP0AMu94CaKg/aI9xk7db2j+yMWDg0PXpPyriwnWzu+8/BuZYpZQ1CcAA7T+FJvnEP6Y8b8SOU/A/AFBNLH6JNb/wzkV3Ch/VP1If7OwRUvK/ANDq7jDTjD/AbMf+7t6bv2TIRSUl/+E/YDL1m25wyD/skA/8FtrQP/Q0nVCAMNc/cAvAmcMF2D/ovyN2q7vaP+SP+GIQk9E/",
            "dtype": "f8"
           },
           "yaxis": "y"
          },
          {
           "hovertemplate": "Label=10<br>Time=12<br>Dimension 1=%{x}<br>Dimension 2=%{y}<extra></extra>",
           "legendgroup": "10",
           "marker": {
            "color": "#636efa",
            "symbol": "circle"
           },
           "mode": "markers",
           "name": "10",
           "orientation": "v",
           "showlegend": true,
           "type": "scatter",
           "x": {
            "bdata": "fSg6ZFCyA8AQe/O2IkcEQIwsuBip6v6/lGOlIkoACUA3Q1BZfyrwvw8v+JZsOg1AMDywal5OAMAx3SpK5YXkvz/Tl06tZuM/nisIxRcV2L8=",
            "dtype": "f8"
           },
           "xaxis": "x",
           "y": {
            "bdata": "YnEi1NyH+788HENc9enZPzthmxvYGvw/uOLCKOsh3T8Qz5wmOGfzPyhntXHl5QNAnoiag0sB9z9+YC+7mZXyv7BpsCx4GeC/jp6L4ISn/j8=",
            "dtype": "f8"
           },
           "yaxis": "y"
          }
         ],
         "name": "12"
        },
        {
         "data": [
          {
           "hovertemplate": "Label=0<br>Time=13<br>Dimension 1=%{x}<br>Dimension 2=%{y}<extra></extra>",
           "legendgroup": "0",
           "marker": {
            "color": "#636efa",
            "symbol": "circle"
           },
           "mode": "markers",
           "name": "0",
           "orientation": "v",
           "showlegend": true,
           "type": "scatter",
           "x": {
            "bdata": "4uSigG1q97/Y3Z8nNDi8P2K3MvLtObw/IAmEa2au/r/9y32wP3kFwIB819hXObw/AMb1hdE4vD/cPB58qzi8PzJfHdt1Obw/amQJ2PY4vD9U9tfNKzm8P6QwRwDhWP+/NDjrRLiH8r+SmqDDaTm8P3S8qrBiObw/WNsx4wo5vD8mV+zJGzm8PwVw4AYEceS/kFYUq8c4vD/V+H/G9x/4vwLx2G2LSvy/yrz8P+s5vD82r43tMTm8Pw==",
            "dtype": "f8"
           },
           "xaxis": "x",
           "y": {
            "bdata": "psG74ihb4z9IL403nDUJwE5RBgiWNQnAFFI30lMN7b8Akt4m3vd6v1p6JSeZNQnAsOFCyZo1CcAgY40hmjUJwNJDzb6aNQnAJLkuPpQ1CcDaZz3jmjUJwK90JqQcSek/qPvTomA90j92yI1+mDUJwBqLbDmXNQnABF5lcZQ1CcDS8KJslDUJwFQnc5NAFd4/SuCO85Y1CcBcvM4E/K7tP2C+hPHtCN+/qI71hZU1CcC4i6WilzUJwA==",
            "dtype": "f8"
           },
           "yaxis": "y"
          },
          {
           "hovertemplate": "Label=1<br>Time=13<br>Dimension 1=%{x}<br>Dimension 2=%{y}<extra></extra>",
           "legendgroup": "1",
           "marker": {
            "color": "#EF553B",
            "symbol": "circle"
           },
           "mode": "markers",
           "name": "1",
           "orientation": "v",
           "showlegend": true,
           "type": "scatter",
           "x": {
            "bdata": "szrYep5H9j8BlQSNbND3P9htrUeoOLw/9opr1IIoAEBet1zpekT9P7NtLipzXvw/9Vy8VVwf/D+6L9XU7zi8PxjLy7/OOLw/ds7H69OcAkBA83Zftzi8PwSu6zkXObw/BDE1DkH08j/iLbS9m8sBQJptwObnnPk/0EBInSk5vD9opdw++Dm8P8guzjsSObw/UsrwzYo4vD+qgki3xbT/PzLFCfXmOLw/oQAtOJrC9j93Ac8lFd3wP8gsZ+QO1uI/fqr6R804vD8=",
            "dtype": "f8"
           },
           "xaxis": "x",
           "y": {
            "bdata": "PE3BaV/M9z9dmwPgbsT8Pw7bhn6XNQnAbf0nRlQX5T8W7lCDVQ7pP2TSMVEFeO0/KprZnOpF6j9SKeveljUJwE6ge66UNQnAsHGIenqo8z9e/jK3ljUJwFDdyqCVNQnA9cDzAPqU8z/wGI7yQEnIP7Qj7kS0V/E/iiPDqJw1CcCQpswYmzUJwOCsxOCZNQnAqstYf5c1CcC40PrHZn3yP7bivdCYNQnApJwZno8Z6T9polGL60rvPyZ8e0Lzi/o/MKyH2pg1CcA=",
            "dtype": "f8"
           },
           "yaxis": "y"
          },
          {
           "hovertemplate": "Label=2<br>Time=13<br>Dimension 1=%{x}<br>Dimension 2=%{y}<extra></extra>",
           "legendgroup": "2",
           "marker": {
            "color": "#00cc96",
            "symbol": "circle"
           },
           "mode": "markers",
           "name": "2",
           "orientation": "v",
           "showlegend": true,
           "type": "scatter",
           "x": {
            "bdata": "RxNUuI8aAMA2kceeZ8f9vxok0mtvObw/en5lLW85vD+/7dwXAtAAwNDnHq5gX/y/yhzxGJRh+L8eH4TNJzq8P5obZiwHObw/OK9l43A5vD/i6ONLl9/8v+TNc4nyRQDAbk5E6H85vD/0JfI/FKv6v0HrEDGYnvq/PsgUvKKu+L82HFEd7zm8P8MwVlq3J/u//lCvbRg5vD8symIIHTi8P+BSiHskvgDA0hT0QWc5vD+aiLTyeDm8Pw==",
            "dtype": "f8"
           },
           "xaxis": "x",
           "y": {
            "bdata": "bHa6aKCG5L/4reGbF8jmv2zyLoCcNQnAzpPEapc1CcBAPLLrSu7Av8Au+9MOCe2/QI4NDts92r+k/r1pmjUJwIBFvv6VNQnA2PYI/Zk1CcCKJBBnbKTxvxBMxpXtIuO/wqMkoZc1CcDgcH1DjfXFv4DZWsHwYI8/gIEWrkfL3L/mgEErmjUJwGhs3J3vA92/uK1eAZY1CcCYXjmZnDUJwAC+vTu6dfO/IDg20Zg1CcBcRpjllDUJwA==",
            "dtype": "f8"
           },
           "yaxis": "y"
          },
          {
           "hovertemplate": "Label=3<br>Time=13<br>Dimension 1=%{x}<br>Dimension 2=%{y}<extra></extra>",
           "legendgroup": "3",
           "marker": {
            "color": "#ab63fa",
            "symbol": "circle"
           },
           "mode": "markers",
           "name": "3",
           "orientation": "v",
           "showlegend": true,
           "type": "scatter",
           "x": {
            "bdata": "/IioVmk5vD90d7OlhTm8P8JVwYMoObw/6i7hQ3F+AcAu6fHX5lYCwEz3BzRvwvy/iGSYn4g4vD9Y46if0zi8PyOWfcmhcgTAyCE/oDWn/r9DKEBAmuP2vxAxIJCsOLw/xOWza4o4vD+59/pWA2kAwCkqSbEpYvi/28zjE6JJAsCwHaQHMnb9v0A/HY+YOLw/D8WouiUU8L84GvK2nln8v+QDHGUjObw/pMmJOuo4vD8ZNpj/x+0AwKeWdf6uFfa/hAyzyNM4vD+KqpHI/zi8Pw==",
            "dtype": "f8"
           },
           "xaxis": "x",
           "y": {
            "bdata": "yCGOqpg1CcDm9LcCnjUJwDQJocKVNQnAJDBKDV2i7b+Y/1o22J/4v5DaAbCtCdi/uvYqq5o1CcC6s/1UmDUJwMg11JZi+ei/CDdvl5Lp9b8owPboD//rvyRuZYGWNQnArh9u9Zw1CcAA4mqOKeXiv7DBwiFld72/kOPwcdDB1r9kwDNkzWfxv3xv7vyUNQnAAL/knZ8Amz9cgQSY3Pngv8ygbsqXNQnATPyhO5k1CcCkH++2AKPpv2xyU6ONLdW/OsIyepk1CcA2leB3lzUJwA==",
            "dtype": "f8"
           },
           "yaxis": "y"
          },
          {
           "hovertemplate": "Label=4<br>Time=13<br>Dimension 1=%{x}<br>Dimension 2=%{y}<extra></extra>",
           "legendgroup": "4",
           "marker": {
            "color": "#FFA15A",
            "symbol": "circle"
           },
           "mode": "markers",
           "name": "4",
           "orientation": "v",
           "showlegend": true,
           "type": "scatter",
           "x": {
            "bdata": "hRgf78AM+b90O8j31Di8P3UVoczNEwDAHvbbpNKA/78f0jSgj7H6v47c+vHaIfi/1s8Stjc5vD+fFvHY98ECwBCtIEtFObw/rgKX3rbp978KnOdig/kDwEfPiYQHJPi/Imv6wbY5vD/BnUAjWSACwEGWDFNqK+i/lMOCEpY5vD9oLuZNJ64CwEraWlf9OLw/PM8ChKQ4vD/74Q0raAD8v1wQNISVObw/BlfaiApwAMBoeb30xFMAwA==",
            "dtype": "f8"
           },
           "xaxis": "x",
           "y": {
            "bdata": "gBrWvMsn0b84/ic9kzUJwAxVWg9anOE/qCB3bSc5wz8c6exR3JfcP3dvMWgCp/A/5KmFYZs1CcAkCK3d9knmv/qQZpibNQnAGVQ1sGTs6D9koymEto/dP8gyhG5F39A/KqNG6ps1CcBgT/R570rAv5FhOoLmivM/XGmIk5Y1CcBAnDqOT+6qv6pbpNWTNQnA3CH3k5o1CcAAjeJrfFfbP4obvluUNQnAiAhWbgzx0L8QOldE3W61Pw==",
            "dtype": "f8"
           },
           "yaxis": "y"
          },
          {
           "hovertemplate": "Label=5<br>Time=13<br>Dimension 1=%{x}<br>Dimension 2=%{y}<extra></extra>",
           "legendgroup": "5",
           "marker": {
            "color": "#19d3f3",
            "symbol": "circle"
           },
           "mode": "markers",
           "name": "5",
           "orientation": "v",
           "showlegend": true,
           "type": "scatter",
           "x": {
            "bdata": "+GWKgd04vD8WtkU/1WL9v0rssl7EK/q/HomQFq44vD/Av6eYPTi8P5qG66p0OLw/RL5Hde04vD9VWFQhcz4CwAS176H/N7w/LP7COv04vD/Yz2SFzT0DwBicuSmuOLw/vAi82m85vD8EPrSJiU79v9zKtFP/OLw/5OtwDgw5vD9deraAUb0BwFwAw/KcObw/Z6fYXd1TA8Cinhh1Njm8P0AOE4nwOLw/FTOSzDfuAsA=",
            "dtype": "f8"
           },
           "xaxis": "x",
           "y": {
            "bdata": "kCaIr5U1CcDAt0+378/KvwjSTmgtJcm/BGpuTZI1CcCeHAj0lDUJwMiTbrmWNQnAzrdGw5U1CcCEL/lbFBjXP9I+NG6XNQnA3iJqSJk1CcDAwi5+9A/GP4rIC06VNQnAuBIcJJs1CcBk/vbtnufkPxgPwdCVNQnAkvrnCJc1CcDk92QftVjQP2qSe/CWNQnAOH3WR/41yD9W73v+lTUJwACW4tyTNQnALjT44dXb4D8=",
            "dtype": "f8"
           },
           "yaxis": "y"
          },
          {
           "hovertemplate": "Label=6<br>Time=13<br>Dimension 1=%{x}<br>Dimension 2=%{y}<extra></extra>",
           "legendgroup": "6",
           "marker": {
            "color": "#FF6692",
            "symbol": "circle"
           },
           "mode": "markers",
           "name": "6",
           "orientation": "v",
           "showlegend": true,
           "type": "scatter",
           "x": {
            "bdata": "2VncH59VCEB2/JnB9+8AQBvG3ODMrfk/VBzKWLg4vD85rcBKUtIAQBgdCDm1Obw/7FfbCiQ5vD/WGBTtkXMBQELm7CszObw/ACic87o4vD/1ONCa+rn2P6DKUgX0Obw/gQuUVZWWAkB81Ry3xxr8Py4JDsTBOLw/8jqUn0hlAkB2vENzZDm8P1WFSs7nlgFA7A8fjEw5vD/d2UhxbaXyP3scfpc8tdQ/",
            "dtype": "f8"
           },
           "xaxis": "x",
           "y": {
            "bdata": "CG7kOXRe3D8VG3JVB+TvP9u4OxzWh+c/VjlFCZc1CcDocLl0taLJP+hI9OaWNQnAQLj5G5s1CcAw+PabzrDdP3R1YYeVNQnA1Dz6k441CcAudXGeV7fiP3ysIR+WNQnAOJcnl5Zq4j/Uy8FfOgTjP4I9l16XNQnA0te4/q6F7T+KUC/8ljUJwK4qqEcu/OE//gowwZk1CcCkXDUZuG7yPzk6yUf4BPQ/",
            "dtype": "f8"
           },
           "yaxis": "y"
          },
          {
           "hovertemplate": "Label=7<br>Time=13<br>Dimension 1=%{x}<br>Dimension 2=%{y}<extra></extra>",
           "legendgroup": "7",
           "marker": {
            "color": "#B6E880",
            "symbol": "circle"
           },
           "mode": "markers",
           "name": "7",
           "orientation": "v",
           "showlegend": true,
           "type": "scatter",
           "x": {
            "bdata": "pGIocVC3AUCUPhuLljm8P8CQOq5MObw/VHdkHv84vD8oUB2Lmgz9P9s0wJO6zgJAYOTVPK45vD8g2tTOtTi8Px/Q92iSm/c/sn1/hrc4vD9gK8U3SHz9P+oc7nxbObw/RAmuU4A4vD8ytmifNTq8P/8SDnqYuPU/9iCKM2Q4vD9AvIANHTq8P0Ag6j2DObw/6qVrirw4vD8k9LVrGDm8P2whyRlnObw/8jUY5J5m/T+wtU8Joji8Pw==",
            "dtype": "f8"
           },
           "xaxis": "x",
           "y": {
            "bdata": "BzbWyiQl6j/+HygzljUJwLJJaiybNQnAwFSn55M1CcCYME7sepTiPzhoNIA3xeU/lDGNT5g1CcB2ChhFljUJwBI3PsW5DPA/9rg+fpg1CcDkCEPJXi/SPzYXhZyWNQnAQvv5RJQ1CcDg1T23ljUJwHTIMY2D2uI/4la3ipc1CcCAnisylzUJwMr/8OCZNQnAoqI46pk1CcCu0U+ZmDUJwAAi1auYNQnAqB7887rj3D/ipsTsmjUJwA==",
            "dtype": "f8"
           },
           "yaxis": "y"
          },
          {
           "hovertemplate": "Label=8<br>Time=13<br>Dimension 1=%{x}<br>Dimension 2=%{y}<extra></extra>",
           "legendgroup": "8",
           "marker": {
            "color": "#FF97FF",
            "symbol": "circle"
           },
           "mode": "markers",
           "name": "8",
           "orientation": "v",
           "showlegend": true,
           "type": "scatter",
           "x": {
            "bdata": "lvyesrP6CUDquyTMScQJQJWksT7n0Ps/NEMGlwk5vD/w1qejIzm8Py6NxA2KgANA4q5xsaSVBUDQt1he4lcAQCqV1v5eObw/LmAFM3ZvAEDqE3oUSYj6PyQoJVZCObw/lQEUqS0K9z+gVqU4YDm8PxtUe8+NmPc/lD/ZHvtpB0AE2zx1GSH7P3CCrRGKObw/cNbfGe85vD/gnxBXGWwJQMJDWoo8Orw/eDVla8I4vD8=",
            "dtype": "f8"
           },
           "xaxis": "x",
           "y": {
            "bdata": "295/XohK7z8Kwy8iGMnwP6ajuj3I0vY/XFCCUpg1CcB+ztIalzUJwPoo1eTrg/I/L6Kc7os99T9SUESL10jzP6oKqiObNQnAjMzpv64M9D+/nOwtfQb2P6ov2rKXNQnAZmVYFFgY6z+2QlizlTUJwMLuwFzxqvI/KsiLTIOv9T9Yk0rY8/X4PxrJjAmZNQnA5NlC/Jc1CcCu7oHEDh7rP/jNFYSaNQnAMG5DnJY1CcA=",
            "dtype": "f8"
           },
           "yaxis": "y"
          },
          {
           "hovertemplate": "Label=9<br>Time=13<br>Dimension 1=%{x}<br>Dimension 2=%{y}<extra></extra>",
           "legendgroup": "9",
           "marker": {
            "color": "#FECB52",
            "symbol": "circle"
           },
           "mode": "markers",
           "name": "9",
           "orientation": "v",
           "showlegend": true,
           "type": "scatter",
           "x": {
            "bdata": "4j1wqDLmAkAWIFeYRQP/P6ApMRoHIQJA1x4zHCxpAUBg+/veYjm8P2ZoodGyOLw/oILWpdw4vD/L/0Hzv5QFQC3gszvbrAVAkA0HzpE5vD9CEx6KueoAQEerl8NmLQVAUIYhE2M4vD/iBaNofTi8P4KjAT2nObw/gpcwFxg5vD8eXyKg7ji8Pwj432y8kQBAeswKLhc5vD/hfNT49ZECQL6yWJp3OLw/RA7YcQ/cB0CtrrpasRb4P4at0ql7QANA",
            "dtype": "f8"
           },
           "xaxis": "x",
           "y": {
            "bdata": "yJUHR6PH7D/yrEaDLmXxP2j7gh+2BPY/YVrH56ny5T9uNDQFlTUJwKTVwsaYNQnAkgkZl5g1CcA6V7gYEYL1Pw4Um4cbqOE/1vubq5o1CcBPStGWkW7vP3zjEaOAm/A/wlVEZZU1CcDG5YeukzUJwI7xFsSWNQnAgPS9hZ01CcD4FEPfmDUJwOF1WxFB1vA/EJqqOZc1CcBGJVb2EtfyP9q/VGGWNQnAWD40zmCk6z8rfcRw0ITwP63O30fC6O8/",
            "dtype": "f8"
           },
           "yaxis": "y"
          },
          {
           "hovertemplate": "Label=10<br>Time=13<br>Dimension 1=%{x}<br>Dimension 2=%{y}<extra></extra>",
           "legendgroup": "10",
           "marker": {
            "color": "#636efa",
            "symbol": "circle"
           },
           "mode": "markers",
           "name": "10",
           "orientation": "v",
           "showlegend": true,
           "type": "scatter",
           "x": {
            "bdata": "POkRGcE5vD8yDEL6NTm8PyT1Ybr0e+y/NsxxM+w4vD8ei/lHIzm8P5gEYB1wObw/wGGt/CY5vD94a+mQ6ji8P5IpnHvSObw/NsQK5Yg5vD8=",
            "dtype": "f8"
           },
           "xaxis": "x",
           "y": {
            "bdata": "+FlOxZk1CcA2DdR3njUJwEtRRNf2fPs/jrECyJU1CcCAO6PxmjUJwBDJ7lOZNQnA2gpjgZY1CcAcxtl5mDUJwIo5In6YNQnAjskjE5U1CcA=",
            "dtype": "f8"
           },
           "yaxis": "y"
          }
         ],
         "name": "13"
        },
        {
         "data": [
          {
           "hovertemplate": "Label=0<br>Time=14<br>Dimension 1=%{x}<br>Dimension 2=%{y}<extra></extra>",
           "legendgroup": "0",
           "marker": {
            "color": "#636efa",
            "symbol": "circle"
           },
           "mode": "markers",
           "name": "0",
           "orientation": "v",
           "showlegend": true,
           "type": "scatter",
           "x": {
            "bdata": "aM1uP9UgBcAG1qEaIC7rvxfrxbmqKgHAUh2UMCzw/b/j/qpBEvkAwPBZ2NrYHPa/Ukog17Qa67/zL4Ri4rDxv3VDtKpSZAPAk64vkdmXAsCvl83Ch7T7vwa2hbYNVALAdYyJ3uhKA8BkhZEKNkz/v64wHetdHwHAtZ/hUjSE9b/RkQLub/byvz7k7kYRE/m/tEYHvgD2AMBBsLv577EAwFCaL7YUtQPAVPTMnp2w7b88gg88gQL6vw==",
            "dtype": "f8"
           },
           "xaxis": "x",
           "y": {
            "bdata": "AFabuwwlyj9u0KERmm/nP61mnA//d+0/Qx8g7NYk9D+WPNcfO27iPwF0+jCdV/Q/hdopxJdk8z/3s/6sMpzwP6lPIp7sDOc/6ndjspSZ4z+yJvE1j/bqP7hZEkIQBck/kMvGmkcHvD86RLplkmjyPz8e6zMNk+k/bsYOLg9L8D/BsMbQUmTlP5Ka/dhLa+Q/mHxWQCGyxr/e+7QGVEToP6jG90SMk8C/mYv6g9du+D9rWzLiIHryPw==",
            "dtype": "f8"
           },
           "yaxis": "y"
          },
          {
           "hovertemplate": "Label=1<br>Time=14<br>Dimension 1=%{x}<br>Dimension 2=%{y}<extra></extra>",
           "legendgroup": "1",
           "marker": {
            "color": "#EF553B",
            "symbol": "circle"
           },
           "mode": "markers",
           "name": "1",
           "orientation": "v",
           "showlegend": true,
           "type": "scatter",
           "x": {
            "bdata": "2k3yuvmR8L8eMNDJpbDYvwM0GC1AJPC/zmwLBxVF479WAyianzfNP8YvHzn+MNa/DMcVJH/n0r8ovseHuji8P0YyNZG7Svm/+5Kc0v+A3z/5B/4ECULzv/iT7yD4Vd+/7zVQ3L0T8L96UWCy3WS0v6OMHgqs4fW/wN7xzobS7L/JwJx4zeL4v7Zax4FBfO6/hVwM82b/4r8WNS6jM8TZP+4tDoSFDuO/oH5Q7dN03r84Ix+0ZAjzvwOtopJmGvm/PswqN9Mt7b8=",
            "dtype": "f8"
           },
           "xaxis": "x",
           "y": {
            "bdata": "5HlHv7zf9T9pkoQQqgv8P5uCPR/gk/g/9LkIXFq+/D8/fcJb8en4P3q8uDiqHfY//tiEtjZA+D8y8IhemDUJwHwLKi3woQFA+NcjcqFf+j+ZWPrLPQz/P+23WUc/Hug/ZIyHu4sn9T+vUS8Zx/rzP7z1e6A/bABAaOW2ULTB+D9ScoPW678BQN2p7WzOLfk/cCAt7pBv6D/DBgQ4Ijr1P8O/BVdjSug/9psdZF2N+T/OzclT/PL5P1gi5EOJnf0/vqgNwrfH+D8=",
            "dtype": "f8"
           },
           "yaxis": "y"
          },
          {
           "hovertemplate": "Label=2<br>Time=14<br>Dimension 1=%{x}<br>Dimension 2=%{y}<extra></extra>",
           "legendgroup": "2",
           "marker": {
            "color": "#00cc96",
            "symbol": "circle"
           },
           "mode": "markers",
           "name": "2",
           "orientation": "v",
           "showlegend": true,
           "type": "scatter",
           "x": {
            "bdata": "hOX7isAfB8BGRuuzEocGwP58DsMjn+i/RNxUer1X5b8EvKET01QCwNuvQ2aRE/q/HP+yZhT5A8Bej8RmZ2Hvv3hu4fcyh+m/NyOslovf5L/YwhFSLCYBwIZZXF+SmgLAPgoIJLk4vD/iq7xZ3kL/vyDQFWWTS/m/ZdsWHgDl+r+aKSaxMoPyvzQ71UEaZAfAvmT9TO04vD++/saWITi8PyumBVN/5QPA5K0N0f7G9b/12vrEzQ71vw==",
            "dtype": "f8"
           },
           "xaxis": "x",
           "y": {
            "bdata": "SHDSkxU547/635CoThP5v+A2bRugYey/UEyLHAxK9r/MxbjXX4H4vxR7jCl9GOu/fNnb/48I5L/4PD/mfynLv1zVujEkQe2/gFA2X40+97/ocDSak43bv6R7aYBWbPq/gDtfZZw1CcAQBd47W/7qv7iFvz3qKt2/VLE09KlJ479Ae/xVda/PvzgDsU06Y9y/PuInzZk1CcB+Jg+IlTUJwOh12LLAgvC/KBQ5PYrA7b+i/vZPm7r2vw==",
            "dtype": "f8"
           },
           "yaxis": "y"
          },
          {
           "hovertemplate": "Label=3<br>Time=14<br>Dimension 1=%{x}<br>Dimension 2=%{y}<extra></extra>",
           "legendgroup": "3",
           "marker": {
            "color": "#ab63fa",
            "symbol": "circle"
           },
           "mode": "markers",
           "name": "3",
           "orientation": "v",
           "showlegend": true,
           "type": "scatter",
           "x": {
            "bdata": "3jXZ4IWbuL8GPyV29OTVvx3Zmqz3Bcq/nTa0oA049L9ctc0nPCbyv9VKWa+bGgDACMSLo5zTlb8exY8N4Ti8P/GeI6glJQXALZSVJBLo+b/HOAmMsuLyv7zF/I2s6tK/O3PnGCPjxr+tH63nj5D3v5zjM3ukXALAL9vbGN0YAcAoHh97GKoBwM9+wP3KCsK/eyeS1TeP8r/6mh7Yh3T0v9aT9S16EL+/OkRup4I6ub9fNgHx1tXyv0Pc7h4ccfq/sdrk0hWTy78WWlZf8eHTvw==",
            "dtype": "f8"
           },
           "xaxis": "x",
           "y": {
            "bdata": "zFjcg9dt8b+8S0cJAf/svyQVHFTw6fK/CEWFnhl99L9OZukjwy//v2CnUmCxn/y/2GqaVBcA87983knDljUJwEzTfO1V/fW/KsLly0UGBsBGCRY5KjD/vwZ/35lGmPO/oIEt7dAm7L8USX8gh6L5v2TKMPivTPa/rsYzNSPI9b9GqeMkbs/3v/QxL4v9p+u/OL2K9x7b2L+KukIh6dHxv3xr25tX9ui/3hG33zc39r8kp+njOVrRPxpB3vjyxfy/qk2KWzvo8r8iu466Y6f0vw==",
            "dtype": "f8"
           },
           "yaxis": "y"
          },
          {
           "hovertemplate": "Label=4<br>Time=14<br>Dimension 1=%{x}<br>Dimension 2=%{y}<extra></extra>",
           "legendgroup": "4",
           "marker": {
            "color": "#FFA15A",
            "symbol": "circle"
           },
           "mode": "markers",
           "name": "4",
           "orientation": "v",
           "showlegend": true,
           "type": "scatter",
           "x": {
            "bdata": "MvydCHZNBcBSENil5dD5vzRM86JpMv6/qJJo4ZpuBsDMKdHuEBgBwL9ee7fRXwTAUuqoP7Ul9r8ewann1FADwO/TzVPwOPG/yAgFPdwd97/4OtJj22QCwFVUAAP0igHAvLcwt3Iu6L/ujcH66DD+v7ztb1TExuO/ykpG4TT79b/xVF8FiOcFwLCmm62fQfa/LGsYWO4p9L86FlZyILgAwJJHpVMtZvi/SzvZSijjBcDc1Xj4RFEFwA==",
            "dtype": "f8"
           },
           "xaxis": "x",
           "y": {
            "bdata": "OFtclpZp0D+mQLGCcJf0P2hEXQuVZPA/EMlP1cVos78uCMw4MvvgP5zOmPyXAds/UVe733mU8T8AX3kRzzJ3PwCBQ5SVO+C/MFhAdUrM8j8l/+Tk10vnP4TZyHzHd+g/vNOkDZ3h1b/C5hvj0qXsP4jfhf+e0ta/3NIssSW36T8w7IdgFkbQv9yl53D+g/E/k/84yW5/6j+4keFKmdLdPyCtH4Ey3PA/DEXYEDJu3D9EM0GX6L3aPw==",
            "dtype": "f8"
           },
           "yaxis": "y"
          },
          {
           "hovertemplate": "Label=5<br>Time=14<br>Dimension 1=%{x}<br>Dimension 2=%{y}<extra></extra>",
           "legendgroup": "5",
           "marker": {
            "color": "#19d3f3",
            "symbol": "circle"
           },
           "mode": "markers",
           "name": "5",
           "orientation": "v",
           "showlegend": true,
           "type": "scatter",
           "x": {
            "bdata": "yI5ul3Sy1b/vbgwfBm8EwBRkuIeEbQDAN9m2/lOLyb8wogtYVDHdvzhFXFsubN+/CGzuEfcS1b83+RI9Qur3vwa2yUQtObw/cENxV4AG1r9rYf5QajAGwObxBDiSity/YVXwDcH5xL9EfT8v6qHsv24G8ftrs+C/AS3Dk8yHyL/YALMhqyX8v4gSAqgJz+O/1n64eOnnBMDZKRp9dHDjv8QWDX0dBNS/YjOnEjy++r8=",
            "dtype": "f8"
           },
           "xaxis": "x",
           "y": {
            "bdata": "sNY6uJQO/D8Qq4Qtlgu6v8Dqg63ovOQ/QB+CRfraqD+znGbePKr8PyHxcRg5JP4/WJ6EaWzI/T+Qp9Sk0Dq0P34lNSqXNQnAepC5Hh2p/D/00/uIQa/VP6qSlr0UFgBA4KnLBPSo8z+S3sjLjLTvP3grOqEWDQBA77v2BtrQ+D9YUZHI9j71PwFQS0jRZgFA1pk/JkTS4T+qUnZApkwBQB62trpxrvo/mlBHz0LY4j8=",
            "dtype": "f8"
           },
           "yaxis": "y"
          },
          {
           "hovertemplate": "Label=6<br>Time=14<br>Dimension 1=%{x}<br>Dimension 2=%{y}<extra></extra>",
           "legendgroup": "6",
           "marker": {
            "color": "#FF6692",
            "symbol": "circle"
           },
           "mode": "markers",
           "name": "6",
           "orientation": "v",
           "showlegend": true,
           "type": "scatter",
           "x": {
            "bdata": "d5eZxTc0+z9+htzCKVX3P/vZ2fRx8vA/kBpNIgI5vD9vkLIum+T7Px4wINN+OLw/3rlKt6o5vD/Z0JJ7uxL+P0SLYaMuOLw/ZGbYD+c4vD+Z+CRAVyAEQFqEkf66OLw/E2n5OzXm4z8n2c6M7kQCQBJpml6TOLw/tPNxYSEgBEB4Y0DAJzm8PyCUAKpjAAFAxItUYro4vD97577ftrUBQMwzaXeJWfQ/",
            "dtype": "f8"
           },
           "xaxis": "x",
           "y": {
            "bdata": "nY/ea9YW6j/YSxAykWjPP+LyFlWnWu0/Pom1FZY1CcDgBNq1GIvhP8QMBbqWNQnAlDPp/5Y1CcAuDe2eE07zPzSkeE+ZNQnAAiqZH5k1CcD3jxSfYKvqP3Kv2iKYNQnAQM6iBIe18z84s8LnnuH1P9q4WhyZNQnADMpxAsNG4z84wb9XmDUJwLfbjcpUous/lK4LppA1CcDkk8Nfd9vwP/vF1KS5Fu4/",
            "dtype": "f8"
           },
           "yaxis": "y"
          },
          {
           "hovertemplate": "Label=7<br>Time=14<br>Dimension 1=%{x}<br>Dimension 2=%{y}<extra></extra>",
           "legendgroup": "7",
           "marker": {
            "color": "#B6E880",
            "symbol": "circle"
           },
           "mode": "markers",
           "name": "7",
           "orientation": "v",
           "showlegend": true,
           "type": "scatter",
           "x": {
            "bdata": "5/pQ6EwT6T9k2J9UxTi8P0oFWi80Obw/qjYTZXo5vD8hJAohUGP+P9ii5Et+xus/KAo/4cY5vD+aw+5n3zi8P635CzBu5u8/Vo3idfQ4vD9qQ/GhNKH0PyJPjsa+OLw/0duuwmdV5z/iYgqr9zm8P0qlXvgmOfQ/vCqd0cul1z/OR7mRdjm8P0xMeOvUOLw/rqYOfzs5vD/S20qO2Ti8P+KIlwkvObw/5FWAMQmA6z9YsSOHbDm8Pw==",
            "dtype": "f8"
           },
           "xaxis": "x",
           "y": {
            "bdata": "mAgvkOlB2j9IV4v3lTUJwHTOLr+VNQnA9IyTUpU1CcDAuaCIpH7hP3jTHHjuQtI/TD4Xv5Y1CcAKSqvTljUJwMjxQfNgmPQ/Mo8CPpY1CcC9nvKMgnnnP7YDwCGXNQnAuH3V+dLFwr9e0CGclzUJwFhP8/HzfeI/AIpuvY1YqL8YabdnlTUJwAzjz8mWNQnAwD7hG5c1CcDSKfNUlTUJwNQtZCuWNQnA8I9ZITjxyD8CZ1zDlzUJwA==",
            "dtype": "f8"
           },
           "yaxis": "y"
          },
          {
           "hovertemplate": "Label=8<br>Time=14<br>Dimension 1=%{x}<br>Dimension 2=%{y}<extra></extra>",
           "legendgroup": "8",
           "marker": {
            "color": "#FF97FF",
            "symbol": "circle"
           },
           "mode": "markers",
           "name": "8",
           "orientation": "v",
           "showlegend": true,
           "type": "scatter",
           "x": {
            "bdata": "5co8eRhBCEBH35kigEwIQPQun0k/ywNAO3EazIhzAUAGqVhkbIkEQAEhqGgZfAhAePdQaBjSB0CwW7JvwDYEQByIwJx2Obw/Ar15MizkAkDXljJVQEwEQNqTOLqrfARAFpU+brUtBUCoexUqfTgAQAkDn3twZwVAXEREbt+dBUBoWeC4uKoEQBnR46S6JPo/a/Vu0UHI9j/15tgjgSYFQEeLdoYvcP8/Hq4HhX+2AUA=",
            "dtype": "f8"
           },
           "xaxis": "x",
           "y": {
            "bdata": "bmnjD7Ch9j/YXghUuC35P6uG8JK2gQBAAtEvwnx4/z9keQGw+woBQK6TEFmAPPc/kZaWUo1C/T+0aInx8GH5PwY6IxOYNQnAGDuL7TDo/D+3F2dPfan+P2K39EBXSAFAx5HEMs/Q+z+CYTC0wiX9P5FfpJsStgBAOq6M5Nvt/D9L83HrJKr9Pz+cAh+ps/w/hAxJx3QE+j+63LpKX2r5P5fHOL7JMfk/jq61FwcXAUA=",
            "dtype": "f8"
           },
           "yaxis": "y"
          },
          {
           "hovertemplate": "Label=9<br>Time=14<br>Dimension 1=%{x}<br>Dimension 2=%{y}<extra></extra>",
           "legendgroup": "9",
           "marker": {
            "color": "#FECB52",
            "symbol": "circle"
           },
           "mode": "markers",
           "name": "9",
           "orientation": "v",
           "showlegend": true,
           "type": "scatter",
           "x": {
            "bdata": "ZHJx5kQR8j8xF8TAEPUGQJutjPtEQQVAoUoX+PyQB0CeSDl39g/4P5r7JkMOlf8/u6oeCz1E/T+8cJRPSn8CQPJaDmb/bgRA5J5x+FI5vD/+bfSR+qIAQMKpBEUvoAdADNb3ugAm8j9qUsgZlhD8P3vuN3oZTAhAM+nlYUyS/z8vQnp+fsYCQIWnMearnANASerPUNSe+D+oFLPwoV8AQErNI9/vigBAfawGpl27B0AdT/nBXVHwPzHX/ExT5wZA",
            "dtype": "f8"
           },
           "xaxis": "x",
           "y": {
            "bdata": "A7V25/JN8T+ka3FFgqDrPyDxST21iOo/IL7Yfm4mrj+AmpYZYqmlvyC/lGw1MqU/ME7+eF1/yj9+Wq91p/ThP4HpHOxLg+s/xEnfo5Y1CcBIBnl9t23vP2nuDpsqPuc/wKzL5TDy6L98/2jw1nnUv7DQmrFyJrU/5NAwMzIx2j8kA11M3ULWPzvzby+W6PI/gKV14Lglr7/E37lfJonlPwQQxECw8eA/gBZfxCKx4j9YlgDk2jvvP7ryaa62Seg/",
            "dtype": "f8"
           },
           "yaxis": "y"
          },
          {
           "hovertemplate": "Label=10<br>Time=14<br>Dimension 1=%{x}<br>Dimension 2=%{y}<extra></extra>",
           "legendgroup": "10",
           "marker": {
            "color": "#636efa",
            "symbol": "circle"
           },
           "mode": "markers",
           "name": "10",
           "orientation": "v",
           "showlegend": true,
           "type": "scatter",
           "x": {
            "bdata": "1mMa43xc/r/DXs6kEG3xP5j47d1Azv6/yB4Krc44vD/M+Y8XGQ3gP729zJZ7j/4/ITBqtGol8b8oWh6PMgPhv7w+CY2YpuY/q3AujbKG478=",
            "dtype": "f8"
           },
           "xaxis": "x",
           "y": {
            "bdata": "JNVRmhP96L/EFPSjRhnlv8HExkDHZgJAxFRUx5c1CcAdma3ixhfoP2HcDzveoAFAA6RiC8kd6z8PDD9cD8AAwIDjVaASUIW/RM9cd9vK+T8=",
            "dtype": "f8"
           },
           "yaxis": "y"
          }
         ],
         "name": "14"
        },
        {
         "data": [
          {
           "hovertemplate": "Label=0<br>Time=15<br>Dimension 1=%{x}<br>Dimension 2=%{y}<extra></extra>",
           "legendgroup": "0",
           "marker": {
            "color": "#636efa",
            "symbol": "circle"
           },
           "mode": "markers",
           "name": "0",
           "orientation": "v",
           "showlegend": true,
           "type": "scatter",
           "x": {
            "bdata": "VtNmyOBm6r9018io34znvyYq6ep00/G/HmbDUmm75L+Q/G9X3gLzv8JDNnV0Ge2/iIDyFY1M8r/quuIGeKTpvztclRcp7fa/tKtSbj905b+yBBPmVB7xv5JBL66ofvG/nHLLVwtS9L90BNYNcGviv37e7GqjufK/u8x9DymG8b8dcnn84QTwv3Z0oaSBldW/cEHwGb0j77+IJczytLfsv+5B3I1Hffi/Okv0WrSI5b+y5bAQEPbzvw==",
            "dtype": "f8"
           },
           "xaxis": "x",
           "y": {
            "bdata": "FeODEw6N5z8cNTtt2AnYP7lOegCGDPM/lBgz2i4K4b8gzKgYa33wP4vmkcGHMu8/S9O8hcp97T+YIlqJGTznP+CjUYgSh/I/9PIcqD9X2T8gdHHGAIDtP4rFhx2uPuc/SR8e0gaK8T8UXEoOUCDWP+DVVzw6KvA/bPQBPopg8T/Du5o2HJHtP1h8epuW5N+/WSZc7TsG7z9MA9ue6TLmP63A4hZH0/Q/ICnVJz0K2j+MYKPgh8XzPw==",
            "dtype": "f8"
           },
           "yaxis": "y"
          },
          {
           "hovertemplate": "Label=1<br>Time=15<br>Dimension 1=%{x}<br>Dimension 2=%{y}<extra></extra>",
           "legendgroup": "1",
           "marker": {
            "color": "#EF553B",
            "symbol": "circle"
           },
           "mode": "markers",
           "name": "1",
           "orientation": "v",
           "showlegend": true,
           "type": "scatter",
           "x": {
            "bdata": "9jV8eyB+/r/pp6ux0yr3vyO/183mpfe/cBmE1Ayz/L9a+KrtSof8v4B6lYiaUfa/jxwUpG0UAcBkHBnYyDi8P55Kauv2Ff2/40HF9y2r+r8X4JHOh90AwI+Z9SPFAve/LhgRfZQd/L/AJKRhmtL6v5V/8pzWUvu/RTLY28xu+78sGqbRyWH+v7oSOxp6G/m/w3k85MqZ+r+wbCxomOf6v/C0nooa6fm/cL89sVnL/7+eaIwXcbf/v3KKaTU1x/+/Yhc9Q+Cs/b8=",
            "dtype": "f8"
           },
           "xaxis": "x",
           "y": {
            "bdata": "91PBx+hzAkAUiAA7qMH6P2CnwNqPOAFARAFnxxlEAkAQw2ugCAACQDjx9fneOQBAzEhAFc/hAkAITf/OljUJwBD7CqI/GAJAHzdMUkmvAUANY04UvBYDQDP5HSNRpf0/dHEQbOMuAkC4++B5a0IBQFO1H8R2ggFApNmOPEHqAUB4mE2VDIMBQKlxPwW4TwFAmyjSSdrkAUAgeCPNPmABQID63CgyFAFAoLNmpQ+yAkBy3qbEmJABQECL3Z5DgQJArorK1F0vAkA=",
            "dtype": "f8"
           },
           "yaxis": "y"
          },
          {
           "hovertemplate": "Label=2<br>Time=15<br>Dimension 1=%{x}<br>Dimension 2=%{y}<extra></extra>",
           "legendgroup": "2",
           "marker": {
            "color": "#00cc96",
            "symbol": "circle"
           },
           "mode": "markers",
           "name": "2",
           "orientation": "v",
           "showlegend": true,
           "type": "scatter",
           "x": {
            "bdata": "khXikPSoAsA2rG0+uUwFwOls2/hJbvS/+lVEPRy4+r+zBh+hVvcBwPzIHEOQxQPA0CuJHNZcAcBoDGkz0Dn/v/hxwiOT1/2/05K2ZTm0BcDf7P68C4Hzv1O/XrRmJQLABtQ7ZkqXBMAJa4rQ0k37v4yix1CXQADArzV7fO5+AcBiwN7oNvf/vwmutx/u+ALACCpVP3C+/L/KQMkTSuf9vyWzJXgpnAPA8KEHhxJCB8Dg3TOB1JYEwA==",
            "dtype": "f8"
           },
           "xaxis": "x",
           "y": {
            "bdata": "Vs5WXk1/97+5gfEOyj0AwLiHXsJyIuW/fE7tc7qz6L92cWn5clf1v+h4IqF7P/u/VNi5ALNS9L+gYpJq+2fwv7A2mZvOue6/K0APJcMRAMA0/rW4T0rmv2SDQN2G2ve/jmIZRw2H/b/cpnrsj2zsvyr7Jpqk7PW/WmsKlR/i9b++e/69Rmnzvwwyg4anqPm/FB8Yo9gR7L8Mfe7U+Vfxv8a/qImSfvq/zjM3nZPcAcC443ePcbz+vw==",
            "dtype": "f8"
           },
           "yaxis": "y"
          },
          {
           "hovertemplate": "Label=3<br>Time=15<br>Dimension 1=%{x}<br>Dimension 2=%{y}<extra></extra>",
           "legendgroup": "3",
           "marker": {
            "color": "#ab63fa",
            "symbol": "circle"
           },
           "mode": "markers",
           "name": "3",
           "orientation": "v",
           "showlegend": true,
           "type": "scatter",
           "x": {
            "bdata": "BB7YCIw4p7+OoRy/u3biv7Rrc7VOdqo/VDNXBbJX3L8Q546JTF6PP3rYMzMVRtK/12KvaDkzwL+7BQGDQLLDv656OYGF5rU/moiOH/1qvr+xk4oXTMTIv6/FdG4TZMq/WCigZyQH17/zqNA/NV/Av73gFqHXpcm/0oUcV+Fq2r+7Vy7lC4LOvwdoCCF9DsK/qPrc09Fgkj84FwLS+2WRvxTOzaTQnqy/8F4d4ml6h79y5qtqlTm8P+tiWmHv+cO/AjWCFCOPsr/f5bQMg0XAvw==",
            "dtype": "f8"
           },
           "xaxis": "x",
           "y": {
            "bdata": "iPM2CwsK8b90nTJVCHfiv/jc8rEtl/a/RBpf64Fh7b+Shg8vuzb2v8C5bRzJFeK/0O4THvP/5r+ww2AwqQD2v351BtxlQfS/DPQLcO998b/Uz7K+pKTkv6ZPRCyO+vC/8rswlD5b8L8osrm6LAXnv+TNae+YIPC/iGV2iLEI+b+c5oOSU5Xrv5TOwv0hqOu/qBL5Uz1c+r9gBwRzPmbuvyjqM8sLreu/XFW25bPq778qwzZylzUJwHALoRTe9+C/Rq7wDg2t8L+cE879DzHnvw==",
            "dtype": "f8"
           },
           "yaxis": "y"
          },
          {
           "hovertemplate": "Label=4<br>Time=15<br>Dimension 1=%{x}<br>Dimension 2=%{y}<extra></extra>",
           "legendgroup": "4",
           "marker": {
            "color": "#FFA15A",
            "symbol": "circle"
           },
           "mode": "markers",
           "name": "4",
           "orientation": "v",
           "showlegend": true,
           "type": "scatter",
           "x": {
            "bdata": "lg8COeizCcDbBptCdj8GwM633ZHmsQTAmAgaCZPCBcDGwtri438JwPBKYNAUkgTA/tCZK3ZlCMAlmRFVUUUDwD7H3Ez+PQLAlPeeY0LZBsComrRE8j0LwIki2Rh4HAXAyEHvUUB3CsAMXEUx8ocHwBtsYHKf//q/6VkyiUBgCMCkQKmUfd0LwET8U1EKPQPATzOHduiOCMDYAsvljzEJwFj1AU7P5/+/4peOVMRwCMDV2VvtOfMHwA==",
            "dtype": "f8"
           },
           "xaxis": "x",
           "y": {
            "bdata": "JBL400yO9T9WaIk3s+H2P6uDUvwf2vY/cIz8rzYv9z9kCDrjU8z1P/XL6+qNM/Y/lGS7oPxb9j+UCfukpxX3PwFTIFZdXvc/Z3xJblsP9z/t6ZQDmHX1P4Lr4xiUlvY/ICbkly1i9T8MibQ7y7X2P4/K13ozA/U/OFxJhKmi9j9X3X3Tuz31P3CEcDRPDfc/LN87legT9j9zs3nryf71P6FpnJg1VfU/HmRu4VlA9j8kMqBKa/f1Pw==",
            "dtype": "f8"
           },
           "yaxis": "y"
          },
          {
           "hovertemplate": "Label=5<br>Time=15<br>Dimension 1=%{x}<br>Dimension 2=%{y}<extra></extra>",
           "legendgroup": "5",
           "marker": {
            "color": "#19d3f3",
            "symbol": "circle"
           },
           "mode": "markers",
           "name": "5",
           "orientation": "v",
           "showlegend": true,
           "type": "scatter",
           "x": {
            "bdata": "VA6d5Xdr57/JB/btppPnvzCYD2YC2um/VHrWIGqJ1r/QRFR7z/LqvyBkDbFlfem/ftD1Wpln5r+6Om9q0bbpvx5HtiGrOLw/fICykMqt6b/twQs79ffhv3wM2dD9x+a/hKTBzhZM6r+srbj7Sl/kv9ou4pNDR+W/+Tx40etG57/P1Glp3I3nv8fgZy7XS+a/b3ErIb2d5L/76v7gfq7mv/Z2BLqOWei/IIII1U2V5r8=",
            "dtype": "f8"
           },
           "xaxis": "x",
           "y": {
            "bdata": "zraLqbFlAkDKb5sxGlMCQLQd/uyKRQJAGTqg0o3w/j9JCWtzQ3ACQIbHxJE5awJAG2TNFKD/AUDO0a9io4YCQFqNd1KVNQnA4GpVyMpdAkB92zK8148AQPgYcNO6LAJAh1UDvjFhAkCEauHOMF0BQOLlcbCVlgFATHaaU3V5AkD+0CksN0wCQHYcuid5UQJAZF1IJErRAUBqz6wfDKUBQIxFnbEeRgJAjWDHEse7AkA=",
            "dtype": "f8"
           },
           "yaxis": "y"
          },
          {
           "hovertemplate": "Label=6<br>Time=15<br>Dimension 1=%{x}<br>Dimension 2=%{y}<extra></extra>",
           "legendgroup": "6",
           "marker": {
            "color": "#FF6692",
            "symbol": "circle"
           },
           "mode": "markers",
           "name": "6",
           "orientation": "v",
           "showlegend": true,
           "type": "scatter",
           "x": {
            "bdata": "wA3oLw85vD8oBfm9rji8P84H0ZL9OLw/ELVvGBM5vD/0FiGTaTm8PzDNrnj2Obw/oF7/EUU5vD8m7ZuaKTm8P5TBqeDXOLw/2Kl8/B45vD/EkWYNMTm8P9SkbNtYObw/HN3U2AI5vD/ux15MTTi8P+R+2naVOLw/CC5XsEw5vD/EGTZmPzq8P7AJlHhvObw/BKOocgY5vD86wM/K9ji8P5ryDhCMObw/",
            "dtype": "f8"
           },
           "xaxis": "x",
           "y": {
            "bdata": "HH15p5Q1CcB8YPoWmTUJwPg+feKSNQnAMhLNY5I1CcAsG80iljUJwEDUWXyUNQnAvvSVNpY1CcBC1dCUmzUJwHD2m0mYNQnA0vU4jJQ1CcDWCkrzlDUJwEQaY8CXNQnA1rZbyJg1CcACjGeckzUJwLS4NJiaNQnA5tZ/yJg1CcDoe51FmTUJwASvM6+UNQnAFHc785g1CcDCMmgZlTUJwIQJKAeWNQnA",
            "dtype": "f8"
           },
           "yaxis": "y"
          },
          {
           "hovertemplate": "Label=7<br>Time=15<br>Dimension 1=%{x}<br>Dimension 2=%{y}<extra></extra>",
           "legendgroup": "7",
           "marker": {
            "color": "#B6E880",
            "symbol": "circle"
           },
           "mode": "markers",
           "name": "7",
           "orientation": "v",
           "showlegend": true,
           "type": "scatter",
           "x": {
            "bdata": "1EXpgtY5vD9Odn5uHjq8P2yyxlNlObw/sAFP0oU5vD8KwbHc+Di8P/gTn5QwObw/Lo1K0s84vD/+q0S3ODm8PyALddJSOrw/eg+mP2E5vD9wIw88Fjm8P/R2WlSVOLw/tpzKZYQ4vD9oOr24mTi8P5SUDbphObw/nGOdA045vD8w87fRLTm8P1ojPjquObw/WmVuKb04vD/A/ZBBATm8P3Tgwhk3Obw/EoyF7xw5vD8aRP9nZjm8Pw==",
            "dtype": "f8"
           },
           "xaxis": "x",
           "y": {
            "bdata": "hrBW65Y1CcDW9gezmDUJwALe0jKWNQnAqLD2Kpo1CcDWSbaZmDUJwEAWc7qYNQnA2qScVJg1CcAYk4/OlzUJwFwc3tGbNQnAztePH5Q1CcCKpLkgmDUJwOJ15OqZNQnA4GTmLpY1CcD6efRsljUJwFA9QQCZNQnAjgLAmpY1CcAcrFanmjUJwD461rGZNQnA0lIva5I1CcDGlSfwlzUJwP4cxxeRNQnANJtrWZQ1CcBwDSL7kzUJwA==",
            "dtype": "f8"
           },
           "yaxis": "y"
          },
          {
           "hovertemplate": "Label=8<br>Time=15<br>Dimension 1=%{x}<br>Dimension 2=%{y}<extra></extra>",
           "legendgroup": "8",
           "marker": {
            "color": "#FF97FF",
            "symbol": "circle"
           },
           "mode": "markers",
           "name": "8",
           "orientation": "v",
           "showlegend": true,
           "type": "scatter",
           "x": {
            "bdata": "K09rJld9AkA8MavsXT4GQPTFNyiTVAFA5cNaIjMjAUBbyDq9Kqv9PzkOxvA6KQNA+uWc6k/eAEDTVcEZtgkDQHCLNJJ0Obw/vtcniwUA6j9FSeFeLfEGQKnMoLK/P/o/LEBZlfAmA0A2BGWjsU30P2WSwRzh4QJAQn2S18/s9z9xLOHbtGf0P5aooNGxovg/RFEDVKQE/D8ymcGPDsAGQLRwNqDopf8//YN7iyohA0A=",
            "dtype": "f8"
           },
           "xaxis": "x",
           "y": {
            "bdata": "h5GzXTDr/z+iWTC3yZQBQIIC75Cqrv4/00lw3+Ww/z9wc2ZO+937P/MiEyaKvgBAvKCwzvl7/j/ZvU2VYs4AQPK2q3SZNQnAgPNdwc8PsL9GL+2n1GICQN58677F+vg/bFbGZ49DAEA+rzE5DMfsPzitvXO2pP8//4saf/jQ7D+WpaOREL/sPzo8jlFTRfU/1ooJPaE7+j9oS+FvonQCQBV3qjJCS/0/nT6LkaB1AEA=",
            "dtype": "f8"
           },
           "yaxis": "y"
          },
          {
           "hovertemplate": "Label=9<br>Time=15<br>Dimension 1=%{x}<br>Dimension 2=%{y}<extra></extra>",
           "legendgroup": "9",
           "marker": {
            "color": "#FECB52",
            "symbol": "circle"
           },
           "mode": "markers",
           "name": "9",
           "orientation": "v",
           "showlegend": true,
           "type": "scatter",
           "x": {
            "bdata": "akFx0d04vD8ClHTqv10JQBuWvCzqfgxAHGiByAh+DEBATWYEX0wLQGBpSSqglgpAg7RFg//XCkCSrsCEQroNQMFZHB7YVgxAHh/W/V46vD9JfDp7fecPQEdV+n0IlA1A5vC7wmzPCEBIGyWsj+4HQDN38d5OXA1A+deU4rZoBkDybt9Uo7/+P4Q5uRHGyA5ASATVmakyCkDskbS9Rm0KQHfmkTMYYQhABqwM3CPwA0C6wOFkIR4HQJEBaz5a3ghA",
            "dtype": "f8"
           },
           "xaxis": "x",
           "y": {
            "bdata": "AtAB1Jo1CcAACV/l88S0PwCQNx34ybI/oEHegdpZwD+QpaKEu5e9P+xYaibZ3NI/YEPES69ivD/QKZqQ7uK7vwCX8bjfo4K/ojGCPpw1CcBQP7Hrnwa+vzC8I70EorS/SMVtew3syz/M7dvavbbVP6CmpMp1NaS/QBNtdCh2yD+gMsFui1LdP4CPT3YcLZA/nEs8d0cY0D+4ZwNtLvbIP5A9KMqhENg/ojsb7hta4D9Q8j/yWYHIP9Clm8kFeLs/",
            "dtype": "f8"
           },
           "yaxis": "y"
          },
          {
           "hovertemplate": "Label=10<br>Time=15<br>Dimension 1=%{x}<br>Dimension 2=%{y}<extra></extra>",
           "legendgroup": "10",
           "marker": {
            "color": "#636efa",
            "symbol": "circle"
           },
           "mode": "markers",
           "name": "10",
           "orientation": "v",
           "showlegend": true,
           "type": "scatter",
           "x": {
            "bdata": "iTdf32pvA8AiP8jsfM79Px4an1Z2MgHAmt6TuRE5vD/NUUFMT/z0v16FDXNmcwRA48ne4Bn2CMCw6WuQWh7bvzjDWqqpObw/D9qvpuFB4L8=",
            "dtype": "f8"
           },
           "xaxis": "x",
           "y": {
            "bdata": "SfIXrrGlAcAYBtoMm/vdP9fFPS+7VP0/fGeONpU1CcD8/ry00JX8P9/ZGJ4dMQFAszZ0mqgJ9j9s/WvCNV72v8prBS+TNQnAy9U/9764AEA=",
            "dtype": "f8"
           },
           "yaxis": "y"
          }
         ],
         "name": "15"
        },
        {
         "data": [
          {
           "hovertemplate": "Label=0<br>Time=16<br>Dimension 1=%{x}<br>Dimension 2=%{y}<extra></extra>",
           "legendgroup": "0",
           "marker": {
            "color": "#636efa",
            "symbol": "circle"
           },
           "mode": "markers",
           "name": "0",
           "orientation": "v",
           "showlegend": true,
           "type": "scatter",
           "x": {
            "bdata": "70XrhZw5A8D/4jwrJ7P5vzKFD4MEAQfA5nT8L4kw+L9R2vDtxJsIwJrtijG9J/6/rLmBQ/8AAMBTGRJJE7vzv1w46DaDzQLAtzdPzB92B8AqeNx8m7r/v9Ne0GqGDwLAuHQdiwje/78m+iJNXXICwAvTgwhh/AnAwhnISmZABMA4hmnZnVkCwCSEG9Cd2/u/L7Ck2TgDBsCeI1SNNqP9vxxuIjuWL/+/z7IrLq7EAcCETR9RAUsCwA==",
            "dtype": "f8"
           },
           "xaxis": "x",
           "y": {
            "bdata": "bl+SuBkP7z+wpCbCC0n1P9SmAremuO4/sWQvAQA09z96xTL42V/yP+p0GE8bz/Q/3/fMNr3D8z8kmmmM7pTuP3AH2wlfbPM/HBTQgVLn8T9mrmT3rx30P+RPnQ26ZPM/yUfh6Heo8z+sz98vuj3yPyyjljNpKvM/pK5HRXJJ9D88VY1DVEPyPzJKNkeTLvY/MFbmVzaJ8z9ZDroJh3b0P+8QX+vPcvU/RYIU17oe7j/QL2MlEezxPw==",
            "dtype": "f8"
           },
           "yaxis": "y"
          },
          {
           "hovertemplate": "Label=1<br>Time=16<br>Dimension 1=%{x}<br>Dimension 2=%{y}<extra></extra>",
           "legendgroup": "1",
           "marker": {
            "color": "#EF553B",
            "symbol": "circle"
           },
           "mode": "markers",
           "name": "1",
           "orientation": "v",
           "showlegend": true,
           "type": "scatter",
           "x": {
            "bdata": "Pvjz2KoJA8Aedw3Za1z5v5gHByJ9Ffy/DjfT03QW/r+KKIWsTRQDwBs+Cc1HggDAFn270ljd97/SHAx67zi8PyQ3dGlSUv6/+Y3MIgNg8r8NlwFA9Tb4vwrtBeESwe6/d9kC9JE+AMD+d86aA7jxv1AexAzexPa/OwbP16IS9r8INZ1fRqoAwHWsMd+Y8wLA3sM/76Mp/b/6T0XYJNf+v/RSpLqgpATAGJWw1+J297+vjvOoOlb7v6U/wuQRjADAJFwr4OfBAMA=",
            "dtype": "f8"
           },
           "xaxis": "x",
           "y": {
            "bdata": "P33660X6/j+htYCYtmP5P6OE9VCaXAJAxMzRAvHj9z96SA2mRjP9P3BSeiDICPA/Zvm6XnFRAUDshvvRmjUJwEzPhwMvWPQ/ABsLGikY+T+oMZbk4br0P/dUcKZ/NAFAtpolWBoq+z+LLwk0Y5kBQDtoLqNh2AJAblqn1hXW+D90mQCeq5j1P6tBuMANy/s/DreharyLAUCzvg+IAeP+PxgP6r+DPPs/BO74FiDY9D8l+w6MW+XyP4KVFmYle/E/w8j1fGld/j8=",
            "dtype": "f8"
           },
           "yaxis": "y"
          },
          {
           "hovertemplate": "Label=2<br>Time=16<br>Dimension 1=%{x}<br>Dimension 2=%{y}<extra></extra>",
           "legendgroup": "2",
           "marker": {
            "color": "#00cc96",
            "symbol": "circle"
           },
           "mode": "markers",
           "name": "2",
           "orientation": "v",
           "showlegend": true,
           "type": "scatter",
           "x": {
            "bdata": "n89BWSIh+b+X64j+ZQsDwAytIs/dOLw/3mkB5TdKAMDYIaTxqcACwMPmHZ7euvO/A7pFy/Bj9L+orOhm2bkBwHXZtq/+LQXAUMAl9MXl/r9YTutkc4UBwM+Y4UsAYQLAWNL93OWrAMAjao4uVzD7v6GL9J8Eiva/E/eSBOszAcABjDHEWcnyv7gQPY7GTwXAEmjV9UlW8r+7dut+9usEwH/8ErQJwgDANCNH9kv7A8BuIaDWbcECwA==",
            "dtype": "f8"
           },
           "xaxis": "x",
           "y": {
            "bdata": "QF+Wc+dVpr/uAlvBrZfzv2AbXMuTNQnAsLfc6Rv67r84YO88DlLgv9yBikeY6+q/AD0/cMkB179kOTnUhi32vzhagakGcvK/+OYNnqz03r+SHJry7D7yv4z4lYXIoea/1KREo+Z557+4/EDhNsnhvxTfoTwa1+K/YsSnt3nh8b9A4lnujuHfP1SgyCB6Lu2/wNp0/XyA37/+8shnVHLzv5BgQ3zyBrQ/ABcQohvH7b9QqFlAHZj0vw==",
            "dtype": "f8"
           },
           "yaxis": "y"
          },
          {
           "hovertemplate": "Label=3<br>Time=16<br>Dimension 1=%{x}<br>Dimension 2=%{y}<extra></extra>",
           "legendgroup": "3",
           "marker": {
            "color": "#ab63fa",
            "symbol": "circle"
           },
           "mode": "markers",
           "name": "3",
           "orientation": "v",
           "showlegend": true,
           "type": "scatter",
           "x": {
            "bdata": "hirjJcw4vD/JfmwiqPfBv0TEGzrHZKc/4ii146s7uz/IDMu/Izm8PwA3gmAGObw/YBolv4uetD+9+i1tfbLDv/hBHQyHObw/XNIgQnc5vD/8PC1XOji8P3LEnnyVyrA/ckbht6Y5vD+CUad97zi8P/AsYmcSObw/1iX4tHI7uz8wSg986Dm8P5H2IBZmh8u/IvkR9C85vD+cT8w2DQC6P5EFiLdywcc/inkUdRQ5vD/Uk5OZuzm8P8RkYXuHOLw/qgdlzgM5vD/mmN7QfsLBPw==",
            "dtype": "f8"
           },
           "xaxis": "x",
           "y": {
            "bdata": "7toZE5U1CcAwLGAcca7jvyjfukkqwve/OBKBQly4+79WEGcwnDUJwE7ZUj+VNQnAZGX8h2yR+b9+zTxE8gD2v/RxBrmdNQnAOoqD9Jg1CcCOTfsAmzUJwDZ5HDxOVPu/Zhl7Npo1CcCknfGpnTUJwKhnoXyYNQnAVrGk6BS4+7+ej1iWljUJwMI65wNQ5PG/9FVV9JY1CcCs0noScFv5v7BSmboc7Pm/gkg8g5U1CcC8BGL7lTUJwG5Tba2YNQnARt5oAJc1CcCeri9VKNDzvw==",
            "dtype": "f8"
           },
           "yaxis": "y"
          },
          {
           "hovertemplate": "Label=4<br>Time=16<br>Dimension 1=%{x}<br>Dimension 2=%{y}<extra></extra>",
           "legendgroup": "4",
           "marker": {
            "color": "#FFA15A",
            "symbol": "circle"
           },
           "mode": "markers",
           "name": "4",
           "orientation": "v",
           "showlegend": true,
           "type": "scatter",
           "x": {
            "bdata": "c3W4/IIBB8DOZ2jR71gEwP/FIfKHYALA9nyHN9myBcBHt45ZoTwHwGXPYUUwFwvAqJ3cQzKqCMCJZ+FI6rkFwCvI8+/NEAbAi0hrSEJ0AcBsY3MURxkLwC4J2KQW/gTAknqPT+0GCMBMP0mxz2AHwDZowD5xn/m/Lo97piZ9/b/EO1OrglEKwC5j3Sly/gTAsM4VBQCfBsAGsEK4wPQEwLBFu14scQDAuUg4QAGgB8DZpsbO4hcLwA==",
            "dtype": "f8"
           },
           "xaxis": "x",
           "y": {
            "bdata": "HtOVb1bC9z995vsLSXv5P1x1XGNFSPo/u0dC7vcq9z8PrSWg25P4P3wTKExZlfY/tj4S06px9z8si67IJrj3PxVPX/WG2fg/O8Wz51gO+T8WGa9bqjX2P/IcndSMIPc/AYEl3hso9j8VlkPiC1b2Pww4bDP/+fM/9DXoj0Wc9z/azWHMG/b2PxjFfLXt+fg/rRyowT6I9T8xyUp24Iz4PxyWeaeInfo/q+zQY4zZ+D+ElOF/aBn2Pw==",
            "dtype": "f8"
           },
           "yaxis": "y"
          },
          {
           "hovertemplate": "Label=5<br>Time=16<br>Dimension 1=%{x}<br>Dimension 2=%{y}<extra></extra>",
           "legendgroup": "5",
           "marker": {
            "color": "#19d3f3",
            "symbol": "circle"
           },
           "mode": "markers",
           "name": "5",
           "orientation": "v",
           "showlegend": true,
           "type": "scatter",
           "x": {
            "bdata": "19yDBCs8AMBrFgKiT2L0v7T8tcG9hPS/mJu14L7Guz9Gzs0kdHzjvxl0WTVHIvK/5M1VHzvj+r/XCS8EAPjyv36RMidFOLw/6CWCtJcL7L+vwY+z0bvyv4S2EN1d3Pm/MNnLwyfb7785DJyx+Jv4vyq+VWc1iey/iYL2Zq2t+b9+GBJj0+Hzv45LAc2Dsfi/FOpP4w5T+L8g1DbKtB7fvyv0k7oZBPS/K8pHcebK8b8=",
            "dtype": "f8"
           },
           "xaxis": "x",
           "y": {
            "bdata": "njcgiziM/z+ImbKyrkYAQBQUOcbdCwFAwBUuN94Cvr8ZjGqN1RYCQE8TwkKnqQFAje1Hg128AUA9oynH7yD8P/gycpqaNQnAZpNHntL7AEDP6/53ufv/P34+gx9dwP4/ACB5VcV4AUA6YnnY7koBQP5oLHWjFwFA5f0h2W5M/j+Plcdk7QMCQH7JSEM06vw/3wAEsVVY+j9rdg3jut4AQH427ygPywFAdN10Aqi2AUA=",
            "dtype": "f8"
           },
           "yaxis": "y"
          },
          {
           "hovertemplate": "Label=6<br>Time=16<br>Dimension 1=%{x}<br>Dimension 2=%{y}<extra></extra>",
           "legendgroup": "6",
           "marker": {
            "color": "#FF6692",
            "symbol": "circle"
           },
           "mode": "markers",
           "name": "6",
           "orientation": "v",
           "showlegend": true,
           "type": "scatter",
           "x": {
            "bdata": "flcHTYo5vD+2oFpRpjm8P1Tcdm57Obw/DEYmsz85vD9KgV+G5Ti8P8hlgaiIObw/TpSEYmo4vD+uC4Xuazm8P+7EByj+OLw/stJ2TKo4vD+CfMvxtDi8P/YTR8MjObw/5PFE2K05vD9Q7cU9Ezm8P7DxPck7Obw/DPeKAIU5vD9oP2AGPDq8Px40wKJ2Obw/mhocPSs5vD/S1bqtmji8P4DOizSiObw/",
            "dtype": "f8"
           },
           "xaxis": "x",
           "y": {
            "bdata": "5rRNRJo1CcBGu2CUlTUJwEAXDi+VNQnAwroqQ5U1CcA+Zm8KmjUJwLwk1dKZNQnAfHeaUZQ1CcBCyYCAlzUJwHSi4zKcNQnAUoXtbpo1CcByfTQdlzUJwHRv73+XNQnALrRHlZk1CcBEKnb3mjUJwKqSS8+gNQnA+Cj2dJM1CcAYL+ERmjUJwJIc74ScNQnAkom6Rpo1CcC83wAqmDUJwMADLtuWNQnA",
            "dtype": "f8"
           },
           "yaxis": "y"
          },
          {
           "hovertemplate": "Label=7<br>Time=16<br>Dimension 1=%{x}<br>Dimension 2=%{y}<extra></extra>",
           "legendgroup": "7",
           "marker": {
            "color": "#B6E880",
            "symbol": "circle"
           },
           "mode": "markers",
           "name": "7",
           "orientation": "v",
           "showlegend": true,
           "type": "scatter",
           "x": {
            "bdata": "Gu/ARpw5vD8kEs9v5Di8PwCXMgzJOLw/xtvK92s5vD+2WZpjQzm8P0J9S3kOObw/PJImSdc4vD/gXDos6ji8P+Dbbl/TOLw/QLeCsQM5vD8+HeoHFTm8PxhgKmoHObw/mg1Tgfo4vD/Yq0o/5Dm8P8gexAyhOLw/asP0KOM4vD80RtwNiDi8P1aMdrLHOLw/kIBKiSg4vD9cAM0/ljm8P8YGvh8xOLw/Zv/gVW04vD9slWpRRzm8Pw==",
            "dtype": "f8"
           },
           "xaxis": "x",
           "y": {
            "bdata": "6lZ8QZc1CcDMLaUYmTUJwGyZ7liaNQnAqp3e1Jo1CcBiqjyZmTUJwMpsEgeVNQnAtnm2C5k1CcAKO1QnmjUJwHaTFemVNQnAzAQQ2ps1CcA2+s62kzUJwPTpxG2bNQnAdmrf8pc1CcAAayMrmTUJwFw/cEyeNQnA3AWKrZo1CcCCP5EdmzUJwP7c3uycNQnADPxuKJU1CcDctqIBljUJwBqNdcKXNQnAuPZTs5g1CcAawiOHlTUJwA==",
            "dtype": "f8"
           },
           "yaxis": "y"
          },
          {
           "hovertemplate": "Label=8<br>Time=16<br>Dimension 1=%{x}<br>Dimension 2=%{y}<extra></extra>",
           "legendgroup": "8",
           "marker": {
            "color": "#FF97FF",
            "symbol": "circle"
           },
           "mode": "markers",
           "name": "8",
           "orientation": "v",
           "showlegend": true,
           "type": "scatter",
           "x": {
            "bdata": "H0OYhAslAEDVHfdBiIbpPzUxiTg5KQhA+d0ZsKNZ8z9Z04KLH44BQLuFMEflBuw/V0BVGbbrA0BfEf2331boP15qoHnzOLw/Xd4hAY0c8j8cJgcdIUwIQCy+FeTFHQdAhtNvcta38D8sFRSWrUj8P0OunF73Jf0/U+Dqv9SP9D/d75oyv94BQI+uEO4IxQJAV8FQXct88T8IPmzXTPMDQHsNlV78jPc/Z+BHUehHA0A=",
            "dtype": "f8"
           },
           "xaxis": "x",
           "y": {
            "bdata": "2T9dBoM2/z+BKg6wOu38P/ME7bjMbwJA0NwOb1kAAUDE8D7SQKYBQLkIoOoQ3fg/ivJrKf15AEAgbQHF7rP5P46gaZGWNQnA0cpuFRRW9z+31z32CnMBQPQsebo3RP4/+2JWKZU+AUD0JzDwlNwBQAYhdqVyvvw/EaPps9QEA0DXaQQMe7UDQNuzyxu+/Pc/D7Jxom0HAEDFpO71W6T6P6ImjHOP1QFAUv+5RrwuAEA=",
            "dtype": "f8"
           },
           "yaxis": "y"
          },
          {
           "hovertemplate": "Label=9<br>Time=16<br>Dimension 1=%{x}<br>Dimension 2=%{y}<extra></extra>",
           "legendgroup": "9",
           "marker": {
            "color": "#FECB52",
            "symbol": "circle"
           },
           "mode": "markers",
           "name": "9",
           "orientation": "v",
           "showlegend": true,
           "type": "scatter",
           "x": {
            "bdata": "rIYKsYs4vD8wtKz8fVkRQA1ZZHwLYQFAwkTCZmN9DEAzXX35YGkRQEjnUe3Ppw1AqQu5jIAxEUAXx2/d498NQHXezsRWgAxAKEn9Ias4vD/9ygDGeRMRQLefdA0e0BBA5417FyXeEEBoTn8+fFQOQGvtgcrOMRFAZ5KjXzKIDEAVEqs6LOkLQDoHtB7j4xJAUuUcnGIzEUAuM2/TXXMQQCnrwmpzshFArnyaGBU5vD9wEK7qaDAJQBY9FeLFaRBA",
            "dtype": "f8"
           },
           "xaxis": "x",
           "y": {
            "bdata": "2LFerJQ1CcDIYRqFYVHCvyRy9/Ik9d4/dP6kfJ/C0z8g6q9cFdbav/A12+tT67W/IO19Te9Tv7/AgE3pxwTHv0BulSnMIKG/IslXNJU1CcCkyNNYGHnUv/Aag1pLL9K/JGMk0n/z078goVEfFnzAP+jCvZ0i7Ne/oGBVUo5ArT8AcfRuEdaeP0jJfvB5u92/uNN4ufvA0L+ASqXGB5rBv+iHjegi4ta/EL3RmpE1CcD49qmXnIrAP2jTpmbCpMG/",
            "dtype": "f8"
           },
           "yaxis": "y"
          },
          {
           "hovertemplate": "Label=10<br>Time=16<br>Dimension 1=%{x}<br>Dimension 2=%{y}<extra></extra>",
           "legendgroup": "10",
           "marker": {
            "color": "#636efa",
            "symbol": "circle"
           },
           "mode": "markers",
           "name": "10",
           "orientation": "v",
           "showlegend": true,
           "type": "scatter",
           "x": {
            "bdata": "Ti1Md0IFBMAbqcmBAdYQQKExmsApIADAtARrtPA4vD9QLlzQB1/tv4YqPJ+tsvk/rH66DVT2B8CijYS2Pzm8P77v3JuyOLw/O3KAprdc578=",
            "dtype": "f8"
           },
           "xaxis": "x",
           "y": {
            "bdata": "zG/ruhZG+L8owqKKG+bUv957IWyxwAJAGm8bb5g1CcAgT1FBgSDvP+Xfl/QbuABABpoZzBgu9j+Qjse/nDUJwB6bxheUNQnA6JZ83Y2C/D8=",
            "dtype": "f8"
           },
           "yaxis": "y"
          }
         ],
         "name": "16"
        },
        {
         "data": [
          {
           "hovertemplate": "Label=0<br>Time=17<br>Dimension 1=%{x}<br>Dimension 2=%{y}<extra></extra>",
           "legendgroup": "0",
           "marker": {
            "color": "#636efa",
            "symbol": "circle"
           },
           "mode": "markers",
           "name": "0",
           "orientation": "v",
           "showlegend": true,
           "type": "scatter",
           "x": {
            "bdata": "Uh5IDD7Z97+u2VsXWsXdv/XqVHcX4/m/FECPCaW07r+qkGXEiebyv1bjQZ6iuPK/Yi/vi+cO9r9MCcfHyzi8P/UsCqo9Jfe/saNy05FV8L8DR/ORej7yv2QsJcgNafG/eH0vKv0a5783FTWKZj/1vxIwu4ZgSvi/+31JRI0K8r8fn3b9RIj2v/4MSbqUuua/ZHDkqnF7+b8hu2DvBQf0v2ZI8FGGUvW/i7tK278l9r+y7PSiU1r1vw==",
            "dtype": "f8"
           },
           "xaxis": "x",
           "y": {
            "bdata": "YiPnOBY+8T+Qg+Qtk6vbv1yE96o+tfA/UI3g2Awy7j/w+ZJ8Q5nwP2ytXG/yNu8/1BABPAU18T8+GW17lzUJwNS0OIgPevA/CbZjAt/y7D8lWxhVu87wP5nFM7eCxuw/4odt6pmw6T9mHZVwribyPyRA8g2k/PA/iINO1hRO8T9GhRdz3lTzP6A2aW/M+do/7tELpkfZ8z/chlM40QjyP2g06MrDC/M/jY5s2MaL8j9Q/8f9EVvyPw==",
            "dtype": "f8"
           },
           "yaxis": "y"
          },
          {
           "hovertemplate": "Label=1<br>Time=17<br>Dimension 1=%{x}<br>Dimension 2=%{y}<extra></extra>",
           "legendgroup": "1",
           "marker": {
            "color": "#EF553B",
            "symbol": "circle"
           },
           "mode": "markers",
           "name": "1",
           "orientation": "v",
           "showlegend": true,
           "type": "scatter",
           "x": {
            "bdata": "+6DpQPQIAMBK0IcxRZz7v0Cem+NUN/2/dA5tp0E0+7+oMubfUJH9v2n2vrLPgQDAfKMmzpTx/7/wVekt0Di8P9RlCtRhsf+/y/0mnk2g9L9Fu8rIP5r7v5apQ9bt6fy/8o70sEOm+b/iW+rTaTj9v5yzSCXqY/6/AHSinXZH/7/C0gLyUTj9vyvbED7gLPS/pbIUNu3Z+L/f3VfSMj8AwAyE5/41l/6/imrd/M1Q/7/ttc7jeU0BwECZx4H2AQDANF7E+QlH/r8=",
            "dtype": "f8"
           },
           "xaxis": "x",
           "y": {
            "bdata": "ZIesTgmWAkCD8ePLVHgBQCifX/E3FAJARL175hYVAkDXBndaNDUCQNH3FqgzZwBAISgk5bewAkBSB8buljUJwLUgFAhXwgJA3eZZr64w/z9QrKR5+BQCQP+Ca47tGQJAN4wogqZ7AUDS0JSkGkECQAX+VfAjTQJA+UI5yRVoAkDf8AYIZVACQLjeYb4WaABAZijtoZr/AECqhfJ3ZqoCQJ0hS5ljUAJAnSJFCpCcAkBInNAEfNgCQKjHD5FgzgJAUEtBfU+FAkA=",
            "dtype": "f8"
           },
           "yaxis": "y"
          },
          {
           "hovertemplate": "Label=2<br>Time=17<br>Dimension 1=%{x}<br>Dimension 2=%{y}<extra></extra>",
           "legendgroup": "2",
           "marker": {
            "color": "#00cc96",
            "symbol": "circle"
           },
           "mode": "markers",
           "name": "2",
           "orientation": "v",
           "showlegend": true,
           "type": "scatter",
           "x": {
            "bdata": "eAeS2wmI/78rRZQ67wgCwJT8nF8LObw/IN/ZOSaH/b8J+m8z310AwPzOxtKN4vy/Ft5KJ+deAMDX1sQ7Buj3v6yh67SjHgHAZMep9SsXBcByItxUgswBwFSUf/yHAf6/b7p5HJxHAMBT11E7r2wCwKwJeyG3Uv2/kwCvPeaLAMAAbkOJ2nH6vxuJEXtwgAPAwe7u6dLCAMBAwKolJqMCwEoiYiJXK/2/AOVqk4mSAcCcVdEWcmb7vw==",
            "dtype": "f8"
           },
           "xaxis": "x",
           "y": {
            "bdata": "5B3AU2gw8r/KUGhpLcD1vx6dmJmYNQnAbF8j3X8377+4y1zMsjXyvyRYE6ik7eu/2KmCFqeD8b+YUZcaGO7lv2L1uzOK6/S/ZMFyMCJ//r8kXaBxz8/4vwR7410Uy+2/UKnyh5/48b/SvbgLlFX4v7TPIaR80e+/St6kl/G29L/0iWi97mPovwyxSM3FHfy/4PgmzB0I7b9YLcfG9vL2v7TNdpcn4ey/xK7f/9w387/EGJibUvvsvw==",
            "dtype": "f8"
           },
           "yaxis": "y"
          },
          {
           "hovertemplate": "Label=3<br>Time=17<br>Dimension 1=%{x}<br>Dimension 2=%{y}<extra></extra>",
           "legendgroup": "3",
           "marker": {
            "color": "#ab63fa",
            "symbol": "circle"
           },
           "mode": "markers",
           "name": "3",
           "orientation": "v",
           "showlegend": true,
           "type": "scatter",
           "x": {
            "bdata": "0kqid0Jpsr86UQJFjfvVvyIpNmCWsro/lLjyySO+rb9qJNPM5zy8v76xpEhO+dK/PbtU45tEy78g+rOwu2XRvwiPFn2Al5G/3LEbtctz3L+MdaJ0ZHjQv+l1Q69EZ8e/AvkYW50h0b+hmRwO6/LFv+3z8pAe6M+/w9+hkuin0j9gC2UiYsfWvyNtA4HTXcW/YA+s6jg6uz8rPKe6/aHAvzsXV8yaRsC/sEQ9Ht62hr80V0419zi8P1RqgJTMiKi/F3PhDnSHw7+Xeu4puDHNvw==",
            "dtype": "f8"
           },
           "xaxis": "x",
           "y": {
            "bdata": "1I67bkqL9b94ugbgstXqv76irKRe9Pa/tK5W9wCW8L+Q7Gy8IUvzv6C34QDxl+W/cITEpUVh8L9Y/oizQSTivxbRWm4sZPS/gD2+rau7+b+YJDQjxjblv8jQC9K3Uva/sABLNMr47b/mdiMajnfyv3Cc+9qXLvG/6LvwFm6i+b8kI1oE3X7xv2ga6yRYEO+/0D+LP/W3+79Y38AX1rTqvywzZ/k1SeK/BKfGdbSh8b/2xwtymDUJwGA9+6TNn+y/Yh9jCAQ+8b/WZLWUE/zzvw==",
            "dtype": "f8"
           },
           "yaxis": "y"
          },
          {
           "hovertemplate": "Label=4<br>Time=17<br>Dimension 1=%{x}<br>Dimension 2=%{y}<extra></extra>",
           "legendgroup": "4",
           "marker": {
            "color": "#FFA15A",
            "symbol": "circle"
           },
           "mode": "markers",
           "name": "4",
           "orientation": "v",
           "showlegend": true,
           "type": "scatter",
           "x": {
            "bdata": "9iVttZClBMAUTqnffUwDwONx2hutjAHA3OqqIg/1/b9eq44yKuAGwAFhdSuVoAHAZuRDKRmhAcC1Y0nBoMwCwCkBKbjDfgHAlGRoYIfCAMAaJ+06Ewz/vypDjxPrdgXAwpgiRxRJAcDH5Je7nIIEwBiBBxeLywLAknXtF1oyA8B0m+X/XLkDwPdfCaruDPu/SFjsvva/A8BYFoIphxgCwDCSN+CIzv+/vp9/+xlCAcD1aaUbqIgGwA==",
            "dtype": "f8"
           },
           "xaxis": "x",
           "y": {
            "bdata": "7VLYSKnv9T/WYEGJPQT3P7DU+NYKkvU/sDkoU56v9D/LCHCFgpv2P2nOttoapvY/uXY2FikG9z+HKdDN9R/3P/LZuFAu7vY/dzFtLfkn9j8ASbfjnZn1PyirpzmtlvY/tsV+ci0B9j9hlLGm4yj3P0IkQIBJUvY/wV68/S5K9j/uZi8PzCj3P6phPSQ5qPQ/ByWSgKKS9j80eJL1zGX2PyAuqvmjzPQ/m8QZFyoR9j/IiZL8R1b2Pw==",
            "dtype": "f8"
           },
           "yaxis": "y"
          },
          {
           "hovertemplate": "Label=5<br>Time=17<br>Dimension 1=%{x}<br>Dimension 2=%{y}<extra></extra>",
           "legendgroup": "5",
           "marker": {
            "color": "#19d3f3",
            "symbol": "circle"
           },
           "mode": "markers",
           "name": "5",
           "orientation": "v",
           "showlegend": true,
           "type": "scatter",
           "x": {
            "bdata": "qgwPkShG2b9VPfDIe73gv+tJ9MNQG+S/sgTCIHgo2b8xuYVE1dXlv2dZXF+jHeW/n1VOonVv5b9eDrc6+3vjv2oBdnl/OLw/ASi6M4gC57/sh1s4uRqhP6hOpueVQui/ix6HI5rd47/iufsmNDfcvwxZYoUM3eK/kDRb6aVF6b/+dqKOKMfdv3yX1zJwttO/59ZasJVt4b8Y4YFd7hrWvxy86P27meO/lj+dnKLh3L8=",
            "dtype": "f8"
           },
           "xaxis": "x",
           "y": {
            "bdata": "dxZ0uLHsAECpMZOmj9j/PxUREPw/ZAFAEA9idd6G/D9cg3N7qy4CQHLtTqOBswBA8ts/tmk1AkCMgOyaf4wAQOavEAKXNQnABRZS5/PaAUAbWUJeta38PyMt2+OUYQJANoRMe0nsAUB8OaGM1Mb+P0XTKcIFyQFAIkp+Gl6AAkBdtwxGQ4L8P0mHYcvIjwBAkIMfdmYnAUD7vLFbBnQAQMgGUy7ZSwFAFXamy9R9AEA=",
            "dtype": "f8"
           },
           "yaxis": "y"
          },
          {
           "hovertemplate": "Label=6<br>Time=17<br>Dimension 1=%{x}<br>Dimension 2=%{y}<extra></extra>",
           "legendgroup": "6",
           "marker": {
            "color": "#FF6692",
            "symbol": "circle"
           },
           "mode": "markers",
           "name": "6",
           "orientation": "v",
           "showlegend": true,
           "type": "scatter",
           "x": {
            "bdata": "YGziMy05vD+uwSMorTi8P1RSdhs2Obw/EGIZG0M5vD8oEqEpETm8PxyGh0fLOLw/vJ1N/j85vD8c9dM3Vjm8P1TY8/YhObw/inVLEuY4vD8u5kN6UTm8P8wfuzbfOLw/4HBYLTk5vD8AIBhvRTm8P3biyOAmObw/mry284Q5vD/mzZtVsji8P57kZKNQObw/TIWoIQg5vD+yYI1+tzm8PxZet79YObw/",
            "dtype": "f8"
           },
           "xaxis": "x",
           "y": {
            "bdata": "IEEqtpc1CcDMINPfmjUJwNjmD2SZNQnAev2VBJY1CcC6Q3fGmTUJwBb+BE+XNQnA/sW6YJo1CcDqwZM1lzUJwD7thL6UNQnAlK3ocZQ1CcDueAp/ljUJwAJLRsWeNQnASgWJFJo1CcDc8SG8ljUJwJC6rXCUNQnAsErIPJg1CcCar+CEmzUJwIiE7X6XNQnAQtqb6Jk1CcBoAV85mzUJwJC5OhSWNQnA",
            "dtype": "f8"
           },
           "yaxis": "y"
          },
          {
           "hovertemplate": "Label=7<br>Time=17<br>Dimension 1=%{x}<br>Dimension 2=%{y}<extra></extra>",
           "legendgroup": "7",
           "marker": {
            "color": "#B6E880",
            "symbol": "circle"
           },
           "mode": "markers",
           "name": "7",
           "orientation": "v",
           "showlegend": true,
           "type": "scatter",
           "x": {
            "bdata": "LpM8kBI5vD90z4arYTm8P1zRQqwSObw/1uJaZNM4vD9we97F/ji8P7DWlOr5Obw/5j2ZDsY4vD/Y0wKpIDi8P3pvSnOjOLw/SoN+iWE5vD+qyRhKCDm8P+A/WqSeObw/qmb6qdM4vD9eRJDWCTm8P3qeMqbfObw/TDpGFDA5vD8yhM/gwTi8P4BcvsoOObw/lhga8wI5vD92HSvPlTi8P9AwNEhPOLw/kiFd8Cs5vD+Gq12tBjm8Pw==",
            "dtype": "f8"
           },
           "xaxis": "x",
           "y": {
            "bdata": "vnI70JI1CcC0s/zEljUJwExP9oCZNQnAVJocPZk1CcD2dSUKmzUJwHDSBJeTNQnAaGgrr5Y1CcDq5hi8kzUJwNpFiIiZNQnAjiYmGJQ1CcACdaRsmjUJwMRxxFicNQnANBkYIJc1CcDkfO5+mjUJwOCOW7aYNQnAdmwLDJg1CcDMUs8OkzUJwOYTzMGSNQnADqZGrJk1CcDobZDxlDUJwIzO2eGUNQnA1n0sL5Q1CcAA/aWelTUJwA==",
            "dtype": "f8"
           },
           "yaxis": "y"
          },
          {
           "hovertemplate": "Label=8<br>Time=17<br>Dimension 1=%{x}<br>Dimension 2=%{y}<extra></extra>",
           "legendgroup": "8",
           "marker": {
            "color": "#FF97FF",
            "symbol": "circle"
           },
           "mode": "markers",
           "name": "8",
           "orientation": "v",
           "showlegend": true,
           "type": "scatter",
           "x": {
            "bdata": "pjpcNh1GCUC1rH8SgUEGQMEg11vxHApAAOo5AZ1xDEAS/LRTO04FQBfkJ+l1KglAz7y5lDjZCUCTo9KQZ5IMQL6JmwO7OLw/H6tsAALnBUCGDA/tZDi8P8Gvc/XoyghAXFRaXb+RA0DHw5KNMs8IQKklRpBSXQtAg05ltN3j+T/SW/ZO3uwHQKllnNtpqg9Atp9WlhIDEECPDeiQ2FgLQD8V0pGrlgtApeWT9u8nCkA=",
            "dtype": "f8"
           },
           "xaxis": "x",
           "y": {
            "bdata": "WQ/lu8zrAkB776duC+gBQE9PGj9wNANAVumi+ASiA0Awk74bFHIBQMURv6ULBwNARIbSB34uA0BTTxvu7yICQOhctRyTNQnAtyTv9v4RAkBwVTagnTUJwMcoC9p+5gJAKouuwXiXAECFYM25LvQAQJWTkeCqfgNA8whopCOz9T9J+okM5M4CQGC0inGxrQFAzNWZSF5IA0DGN7K1iV8DQGKIW0gNggJAGxibTs9WA0A=",
            "dtype": "f8"
           },
           "yaxis": "y"
          },
          {
           "hovertemplate": "Label=9<br>Time=17<br>Dimension 1=%{x}<br>Dimension 2=%{y}<extra></extra>",
           "legendgroup": "9",
           "marker": {
            "color": "#FECB52",
            "symbol": "circle"
           },
           "mode": "markers",
           "name": "9",
           "orientation": "v",
           "showlegend": true,
           "type": "scatter",
           "x": {
            "bdata": "sPOhovI5vD+cJ2s9+5sAQN7vcQAUYgFAP+Ah0PeeBkAC+aK+MgEGQLUAA8xCowlAMj1LYTgIBEBxjvj/LO8CQG5WxNn/qAFAjux/EkU5vD9IpV3mm5YEQLWzOYQPeARAD7qEg+Ix+D+KWfXVfHQCQNtHeUM//AVATZoxz4jGBUC4IQwhB50BQDzCKv2iVgRAiTSAoBjtBUDV45DuNKEDQFShweCjYfY/mAWL3qw5vD/JTNvd0Bn0P/FfHXDP8gxA",
            "dtype": "f8"
           },
           "xaxis": "x",
           "y": {
            "bdata": "PNJxoZM1CcAAHJpXNLZhP3D3ojQWBLG/IMvTDYXqxz98xfjkN+TVP8DD7oY8NpI/3N154jzz2D/kCXMu1inVP9CLHuLH3s0/orEzLZk1CcCUKa+YqLvXP1jCQVCFJ8E/wJXIS7KWkr8mC4MYzf3hP6CYfpNo5bA/UBvWKESJzD8g4JLM8uWqP+TjTKR9udY/mNh7pJglyj+ElrdaUlvcPwCeX+S6NWq/JCDtLJI1CcC0Rwah0Crrv6BBIxrmf6S/",
            "dtype": "f8"
           },
           "yaxis": "y"
          },
          {
           "hovertemplate": "Label=10<br>Time=17<br>Dimension 1=%{x}<br>Dimension 2=%{y}<extra></extra>",
           "legendgroup": "10",
           "marker": {
            "color": "#636efa",
            "symbol": "circle"
           },
           "mode": "markers",
           "name": "10",
           "orientation": "v",
           "showlegend": true,
           "type": "scatter",
           "x": {
            "bdata": "CdbRXIo4AsBrd88pD9/+Pxbi4AThLfa/7D67pFY5vD+mhZBbntfrv6JdLMeyIQ9AuwuAXqf1CsAHjcrOHYLbP+ja94FWObw/KPkvxjEVlb8=",
            "dtype": "f8"
           },
           "xaxis": "x",
           "y": {
            "bdata": "DGixD4Yw/79ldspKTj7vPxat3MrRzwBAQiSdUpM1CcCWjeeH0zHoP+EbzVF6hgBAMOgKhKgy9T/2Kn1b63zzv6DG+uuVNQnAou9GAFml/j8=",
            "dtype": "f8"
           },
           "yaxis": "y"
          }
         ],
         "name": "17"
        }
       ],
       "layout": {
        "legend": {
         "title": {
          "text": "Label"
         },
         "tracegroupgap": 0
        },
        "margin": {
         "t": 60
        },
        "sliders": [
         {
          "active": 0,
          "currentvalue": {
           "prefix": "Time="
          },
          "len": 0.9,
          "pad": {
           "b": 10,
           "t": 60
          },
          "steps": [
           {
            "args": [
             [
              "0"
             ],
             {
              "frame": {
               "duration": 0,
               "redraw": false
              },
              "fromcurrent": true,
              "mode": "immediate",
              "transition": {
               "duration": 0,
               "easing": "linear"
              }
             }
            ],
            "label": "0",
            "method": "animate"
           },
           {
            "args": [
             [
              "1"
             ],
             {
              "frame": {
               "duration": 0,
               "redraw": false
              },
              "fromcurrent": true,
              "mode": "immediate",
              "transition": {
               "duration": 0,
               "easing": "linear"
              }
             }
            ],
            "label": "1",
            "method": "animate"
           },
           {
            "args": [
             [
              "2"
             ],
             {
              "frame": {
               "duration": 0,
               "redraw": false
              },
              "fromcurrent": true,
              "mode": "immediate",
              "transition": {
               "duration": 0,
               "easing": "linear"
              }
             }
            ],
            "label": "2",
            "method": "animate"
           },
           {
            "args": [
             [
              "3"
             ],
             {
              "frame": {
               "duration": 0,
               "redraw": false
              },
              "fromcurrent": true,
              "mode": "immediate",
              "transition": {
               "duration": 0,
               "easing": "linear"
              }
             }
            ],
            "label": "3",
            "method": "animate"
           },
           {
            "args": [
             [
              "4"
             ],
             {
              "frame": {
               "duration": 0,
               "redraw": false
              },
              "fromcurrent": true,
              "mode": "immediate",
              "transition": {
               "duration": 0,
               "easing": "linear"
              }
             }
            ],
            "label": "4",
            "method": "animate"
           },
           {
            "args": [
             [
              "5"
             ],
             {
              "frame": {
               "duration": 0,
               "redraw": false
              },
              "fromcurrent": true,
              "mode": "immediate",
              "transition": {
               "duration": 0,
               "easing": "linear"
              }
             }
            ],
            "label": "5",
            "method": "animate"
           },
           {
            "args": [
             [
              "6"
             ],
             {
              "frame": {
               "duration": 0,
               "redraw": false
              },
              "fromcurrent": true,
              "mode": "immediate",
              "transition": {
               "duration": 0,
               "easing": "linear"
              }
             }
            ],
            "label": "6",
            "method": "animate"
           },
           {
            "args": [
             [
              "7"
             ],
             {
              "frame": {
               "duration": 0,
               "redraw": false
              },
              "fromcurrent": true,
              "mode": "immediate",
              "transition": {
               "duration": 0,
               "easing": "linear"
              }
             }
            ],
            "label": "7",
            "method": "animate"
           },
           {
            "args": [
             [
              "8"
             ],
             {
              "frame": {
               "duration": 0,
               "redraw": false
              },
              "fromcurrent": true,
              "mode": "immediate",
              "transition": {
               "duration": 0,
               "easing": "linear"
              }
             }
            ],
            "label": "8",
            "method": "animate"
           },
           {
            "args": [
             [
              "9"
             ],
             {
              "frame": {
               "duration": 0,
               "redraw": false
              },
              "fromcurrent": true,
              "mode": "immediate",
              "transition": {
               "duration": 0,
               "easing": "linear"
              }
             }
            ],
            "label": "9",
            "method": "animate"
           },
           {
            "args": [
             [
              "10"
             ],
             {
              "frame": {
               "duration": 0,
               "redraw": false
              },
              "fromcurrent": true,
              "mode": "immediate",
              "transition": {
               "duration": 0,
               "easing": "linear"
              }
             }
            ],
            "label": "10",
            "method": "animate"
           },
           {
            "args": [
             [
              "11"
             ],
             {
              "frame": {
               "duration": 0,
               "redraw": false
              },
              "fromcurrent": true,
              "mode": "immediate",
              "transition": {
               "duration": 0,
               "easing": "linear"
              }
             }
            ],
            "label": "11",
            "method": "animate"
           },
           {
            "args": [
             [
              "12"
             ],
             {
              "frame": {
               "duration": 0,
               "redraw": false
              },
              "fromcurrent": true,
              "mode": "immediate",
              "transition": {
               "duration": 0,
               "easing": "linear"
              }
             }
            ],
            "label": "12",
            "method": "animate"
           },
           {
            "args": [
             [
              "13"
             ],
             {
              "frame": {
               "duration": 0,
               "redraw": false
              },
              "fromcurrent": true,
              "mode": "immediate",
              "transition": {
               "duration": 0,
               "easing": "linear"
              }
             }
            ],
            "label": "13",
            "method": "animate"
           },
           {
            "args": [
             [
              "14"
             ],
             {
              "frame": {
               "duration": 0,
               "redraw": false
              },
              "fromcurrent": true,
              "mode": "immediate",
              "transition": {
               "duration": 0,
               "easing": "linear"
              }
             }
            ],
            "label": "14",
            "method": "animate"
           },
           {
            "args": [
             [
              "15"
             ],
             {
              "frame": {
               "duration": 0,
               "redraw": false
              },
              "fromcurrent": true,
              "mode": "immediate",
              "transition": {
               "duration": 0,
               "easing": "linear"
              }
             }
            ],
            "label": "15",
            "method": "animate"
           },
           {
            "args": [
             [
              "16"
             ],
             {
              "frame": {
               "duration": 0,
               "redraw": false
              },
              "fromcurrent": true,
              "mode": "immediate",
              "transition": {
               "duration": 0,
               "easing": "linear"
              }
             }
            ],
            "label": "16",
            "method": "animate"
           },
           {
            "args": [
             [
              "17"
             ],
             {
              "frame": {
               "duration": 0,
               "redraw": false
              },
              "fromcurrent": true,
              "mode": "immediate",
              "transition": {
               "duration": 0,
               "easing": "linear"
              }
             }
            ],
            "label": "17",
            "method": "animate"
           }
          ],
          "x": 0.1,
          "xanchor": "left",
          "y": 0,
          "yanchor": "top"
         }
        ],
        "template": {
         "data": {
          "bar": [
           {
            "error_x": {
             "color": "#2a3f5f"
            },
            "error_y": {
             "color": "#2a3f5f"
            },
            "marker": {
             "line": {
              "color": "#E5ECF6",
              "width": 0.5
             },
             "pattern": {
              "fillmode": "overlay",
              "size": 10,
              "solidity": 0.2
             }
            },
            "type": "bar"
           }
          ],
          "barpolar": [
           {
            "marker": {
             "line": {
              "color": "#E5ECF6",
              "width": 0.5
             },
             "pattern": {
              "fillmode": "overlay",
              "size": 10,
              "solidity": 0.2
             }
            },
            "type": "barpolar"
           }
          ],
          "carpet": [
           {
            "aaxis": {
             "endlinecolor": "#2a3f5f",
             "gridcolor": "white",
             "linecolor": "white",
             "minorgridcolor": "white",
             "startlinecolor": "#2a3f5f"
            },
            "baxis": {
             "endlinecolor": "#2a3f5f",
             "gridcolor": "white",
             "linecolor": "white",
             "minorgridcolor": "white",
             "startlinecolor": "#2a3f5f"
            },
            "type": "carpet"
           }
          ],
          "choropleth": [
           {
            "colorbar": {
             "outlinewidth": 0,
             "ticks": ""
            },
            "type": "choropleth"
           }
          ],
          "contour": [
           {
            "colorbar": {
             "outlinewidth": 0,
             "ticks": ""
            },
            "colorscale": [
             [
              0,
              "#0d0887"
             ],
             [
              0.1111111111111111,
              "#46039f"
             ],
             [
              0.2222222222222222,
              "#7201a8"
             ],
             [
              0.3333333333333333,
              "#9c179e"
             ],
             [
              0.4444444444444444,
              "#bd3786"
             ],
             [
              0.5555555555555556,
              "#d8576b"
             ],
             [
              0.6666666666666666,
              "#ed7953"
             ],
             [
              0.7777777777777778,
              "#fb9f3a"
             ],
             [
              0.8888888888888888,
              "#fdca26"
             ],
             [
              1,
              "#f0f921"
             ]
            ],
            "type": "contour"
           }
          ],
          "contourcarpet": [
           {
            "colorbar": {
             "outlinewidth": 0,
             "ticks": ""
            },
            "type": "contourcarpet"
           }
          ],
          "heatmap": [
           {
            "colorbar": {
             "outlinewidth": 0,
             "ticks": ""
            },
            "colorscale": [
             [
              0,
              "#0d0887"
             ],
             [
              0.1111111111111111,
              "#46039f"
             ],
             [
              0.2222222222222222,
              "#7201a8"
             ],
             [
              0.3333333333333333,
              "#9c179e"
             ],
             [
              0.4444444444444444,
              "#bd3786"
             ],
             [
              0.5555555555555556,
              "#d8576b"
             ],
             [
              0.6666666666666666,
              "#ed7953"
             ],
             [
              0.7777777777777778,
              "#fb9f3a"
             ],
             [
              0.8888888888888888,
              "#fdca26"
             ],
             [
              1,
              "#f0f921"
             ]
            ],
            "type": "heatmap"
           }
          ],
          "histogram": [
           {
            "marker": {
             "pattern": {
              "fillmode": "overlay",
              "size": 10,
              "solidity": 0.2
             }
            },
            "type": "histogram"
           }
          ],
          "histogram2d": [
           {
            "colorbar": {
             "outlinewidth": 0,
             "ticks": ""
            },
            "colorscale": [
             [
              0,
              "#0d0887"
             ],
             [
              0.1111111111111111,
              "#46039f"
             ],
             [
              0.2222222222222222,
              "#7201a8"
             ],
             [
              0.3333333333333333,
              "#9c179e"
             ],
             [
              0.4444444444444444,
              "#bd3786"
             ],
             [
              0.5555555555555556,
              "#d8576b"
             ],
             [
              0.6666666666666666,
              "#ed7953"
             ],
             [
              0.7777777777777778,
              "#fb9f3a"
             ],
             [
              0.8888888888888888,
              "#fdca26"
             ],
             [
              1,
              "#f0f921"
             ]
            ],
            "type": "histogram2d"
           }
          ],
          "histogram2dcontour": [
           {
            "colorbar": {
             "outlinewidth": 0,
             "ticks": ""
            },
            "colorscale": [
             [
              0,
              "#0d0887"
             ],
             [
              0.1111111111111111,
              "#46039f"
             ],
             [
              0.2222222222222222,
              "#7201a8"
             ],
             [
              0.3333333333333333,
              "#9c179e"
             ],
             [
              0.4444444444444444,
              "#bd3786"
             ],
             [
              0.5555555555555556,
              "#d8576b"
             ],
             [
              0.6666666666666666,
              "#ed7953"
             ],
             [
              0.7777777777777778,
              "#fb9f3a"
             ],
             [
              0.8888888888888888,
              "#fdca26"
             ],
             [
              1,
              "#f0f921"
             ]
            ],
            "type": "histogram2dcontour"
           }
          ],
          "mesh3d": [
           {
            "colorbar": {
             "outlinewidth": 0,
             "ticks": ""
            },
            "type": "mesh3d"
           }
          ],
          "parcoords": [
           {
            "line": {
             "colorbar": {
              "outlinewidth": 0,
              "ticks": ""
             }
            },
            "type": "parcoords"
           }
          ],
          "pie": [
           {
            "automargin": true,
            "type": "pie"
           }
          ],
          "scatter": [
           {
            "fillpattern": {
             "fillmode": "overlay",
             "size": 10,
             "solidity": 0.2
            },
            "type": "scatter"
           }
          ],
          "scatter3d": [
           {
            "line": {
             "colorbar": {
              "outlinewidth": 0,
              "ticks": ""
             }
            },
            "marker": {
             "colorbar": {
              "outlinewidth": 0,
              "ticks": ""
             }
            },
            "type": "scatter3d"
           }
          ],
          "scattercarpet": [
           {
            "marker": {
             "colorbar": {
              "outlinewidth": 0,
              "ticks": ""
             }
            },
            "type": "scattercarpet"
           }
          ],
          "scattergeo": [
           {
            "marker": {
             "colorbar": {
              "outlinewidth": 0,
              "ticks": ""
             }
            },
            "type": "scattergeo"
           }
          ],
          "scattergl": [
           {
            "marker": {
             "colorbar": {
              "outlinewidth": 0,
              "ticks": ""
             }
            },
            "type": "scattergl"
           }
          ],
          "scattermap": [
           {
            "marker": {
             "colorbar": {
              "outlinewidth": 0,
              "ticks": ""
             }
            },
            "type": "scattermap"
           }
          ],
          "scattermapbox": [
           {
            "marker": {
             "colorbar": {
              "outlinewidth": 0,
              "ticks": ""
             }
            },
            "type": "scattermapbox"
           }
          ],
          "scatterpolar": [
           {
            "marker": {
             "colorbar": {
              "outlinewidth": 0,
              "ticks": ""
             }
            },
            "type": "scatterpolar"
           }
          ],
          "scatterpolargl": [
           {
            "marker": {
             "colorbar": {
              "outlinewidth": 0,
              "ticks": ""
             }
            },
            "type": "scatterpolargl"
           }
          ],
          "scatterternary": [
           {
            "marker": {
             "colorbar": {
              "outlinewidth": 0,
              "ticks": ""
             }
            },
            "type": "scatterternary"
           }
          ],
          "surface": [
           {
            "colorbar": {
             "outlinewidth": 0,
             "ticks": ""
            },
            "colorscale": [
             [
              0,
              "#0d0887"
             ],
             [
              0.1111111111111111,
              "#46039f"
             ],
             [
              0.2222222222222222,
              "#7201a8"
             ],
             [
              0.3333333333333333,
              "#9c179e"
             ],
             [
              0.4444444444444444,
              "#bd3786"
             ],
             [
              0.5555555555555556,
              "#d8576b"
             ],
             [
              0.6666666666666666,
              "#ed7953"
             ],
             [
              0.7777777777777778,
              "#fb9f3a"
             ],
             [
              0.8888888888888888,
              "#fdca26"
             ],
             [
              1,
              "#f0f921"
             ]
            ],
            "type": "surface"
           }
          ],
          "table": [
           {
            "cells": {
             "fill": {
              "color": "#EBF0F8"
             },
             "line": {
              "color": "white"
             }
            },
            "header": {
             "fill": {
              "color": "#C8D4E3"
             },
             "line": {
              "color": "white"
             }
            },
            "type": "table"
           }
          ]
         },
         "layout": {
          "annotationdefaults": {
           "arrowcolor": "#2a3f5f",
           "arrowhead": 0,
           "arrowwidth": 1
          },
          "autotypenumbers": "strict",
          "coloraxis": {
           "colorbar": {
            "outlinewidth": 0,
            "ticks": ""
           }
          },
          "colorscale": {
           "diverging": [
            [
             0,
             "#8e0152"
            ],
            [
             0.1,
             "#c51b7d"
            ],
            [
             0.2,
             "#de77ae"
            ],
            [
             0.3,
             "#f1b6da"
            ],
            [
             0.4,
             "#fde0ef"
            ],
            [
             0.5,
             "#f7f7f7"
            ],
            [
             0.6,
             "#e6f5d0"
            ],
            [
             0.7,
             "#b8e186"
            ],
            [
             0.8,
             "#7fbc41"
            ],
            [
             0.9,
             "#4d9221"
            ],
            [
             1,
             "#276419"
            ]
           ],
           "sequential": [
            [
             0,
             "#0d0887"
            ],
            [
             0.1111111111111111,
             "#46039f"
            ],
            [
             0.2222222222222222,
             "#7201a8"
            ],
            [
             0.3333333333333333,
             "#9c179e"
            ],
            [
             0.4444444444444444,
             "#bd3786"
            ],
            [
             0.5555555555555556,
             "#d8576b"
            ],
            [
             0.6666666666666666,
             "#ed7953"
            ],
            [
             0.7777777777777778,
             "#fb9f3a"
            ],
            [
             0.8888888888888888,
             "#fdca26"
            ],
            [
             1,
             "#f0f921"
            ]
           ],
           "sequentialminus": [
            [
             0,
             "#0d0887"
            ],
            [
             0.1111111111111111,
             "#46039f"
            ],
            [
             0.2222222222222222,
             "#7201a8"
            ],
            [
             0.3333333333333333,
             "#9c179e"
            ],
            [
             0.4444444444444444,
             "#bd3786"
            ],
            [
             0.5555555555555556,
             "#d8576b"
            ],
            [
             0.6666666666666666,
             "#ed7953"
            ],
            [
             0.7777777777777778,
             "#fb9f3a"
            ],
            [
             0.8888888888888888,
             "#fdca26"
            ],
            [
             1,
             "#f0f921"
            ]
           ]
          },
          "colorway": [
           "#636efa",
           "#EF553B",
           "#00cc96",
           "#ab63fa",
           "#FFA15A",
           "#19d3f3",
           "#FF6692",
           "#B6E880",
           "#FF97FF",
           "#FECB52"
          ],
          "font": {
           "color": "#2a3f5f"
          },
          "geo": {
           "bgcolor": "white",
           "lakecolor": "white",
           "landcolor": "#E5ECF6",
           "showlakes": true,
           "showland": true,
           "subunitcolor": "white"
          },
          "hoverlabel": {
           "align": "left"
          },
          "hovermode": "closest",
          "mapbox": {
           "style": "light"
          },
          "paper_bgcolor": "white",
          "plot_bgcolor": "#E5ECF6",
          "polar": {
           "angularaxis": {
            "gridcolor": "white",
            "linecolor": "white",
            "ticks": ""
           },
           "bgcolor": "#E5ECF6",
           "radialaxis": {
            "gridcolor": "white",
            "linecolor": "white",
            "ticks": ""
           }
          },
          "scene": {
           "xaxis": {
            "backgroundcolor": "#E5ECF6",
            "gridcolor": "white",
            "gridwidth": 2,
            "linecolor": "white",
            "showbackground": true,
            "ticks": "",
            "zerolinecolor": "white"
           },
           "yaxis": {
            "backgroundcolor": "#E5ECF6",
            "gridcolor": "white",
            "gridwidth": 2,
            "linecolor": "white",
            "showbackground": true,
            "ticks": "",
            "zerolinecolor": "white"
           },
           "zaxis": {
            "backgroundcolor": "#E5ECF6",
            "gridcolor": "white",
            "gridwidth": 2,
            "linecolor": "white",
            "showbackground": true,
            "ticks": "",
            "zerolinecolor": "white"
           }
          },
          "shapedefaults": {
           "line": {
            "color": "#2a3f5f"
           }
          },
          "ternary": {
           "aaxis": {
            "gridcolor": "white",
            "linecolor": "white",
            "ticks": ""
           },
           "baxis": {
            "gridcolor": "white",
            "linecolor": "white",
            "ticks": ""
           },
           "bgcolor": "#E5ECF6",
           "caxis": {
            "gridcolor": "white",
            "linecolor": "white",
            "ticks": ""
           }
          },
          "title": {
           "x": 0.05
          },
          "xaxis": {
           "automargin": true,
           "gridcolor": "white",
           "linecolor": "white",
           "ticks": "",
           "title": {
            "standoff": 15
           },
           "zerolinecolor": "white",
           "zerolinewidth": 2
          },
          "yaxis": {
           "automargin": true,
           "gridcolor": "white",
           "linecolor": "white",
           "ticks": "",
           "title": {
            "standoff": 15
           },
           "zerolinecolor": "white",
           "zerolinewidth": 2
          }
         }
        },
        "updatemenus": [
         {
          "buttons": [
           {
            "args": [
             null,
             {
              "frame": {
               "duration": 500,
               "redraw": false
              },
              "fromcurrent": true,
              "mode": "immediate",
              "transition": {
               "duration": 500,
               "easing": "linear"
              }
             }
            ],
            "label": "&#9654;",
            "method": "animate"
           },
           {
            "args": [
             [
              null
             ],
             {
              "frame": {
               "duration": 0,
               "redraw": false
              },
              "fromcurrent": true,
              "mode": "immediate",
              "transition": {
               "duration": 0,
               "easing": "linear"
              }
             }
            ],
            "label": "&#9724;",
            "method": "animate"
           }
          ],
          "direction": "left",
          "pad": {
           "r": 10,
           "t": 70
          },
          "showactive": false,
          "type": "buttons",
          "x": 0.1,
          "xanchor": "right",
          "y": 0,
          "yanchor": "top"
         }
        ],
        "xaxis": {
         "anchor": "y",
         "domain": [
          0,
          1
         ],
         "range": [
          -3.700274123478742,
          6.117648719791496
         ],
         "title": {
          "text": "Dimension 1"
         }
        },
        "yaxis": {
         "anchor": "x",
         "domain": [
          0,
          1
         ],
         "range": [
          -3.955277598460727,
          2.6624654293799397
         ],
         "title": {
          "text": "Dimension 2"
         }
        }
       }
      }
     },
     "metadata": {},
     "output_type": "display_data"
    }
   ],
   "source": [
    "# Animated plot\n",
    "spatial_node_labels = node_labels[0:n]\n",
    "anim_fig = eb.quick_plot(emb, n, T, node_labels=spatial_node_labels)"
   ]
  },
  {
   "cell_type": "code",
   "execution_count": 8,
   "metadata": {},
   "outputs": [
    {
     "data": {
      "image/png": "[encoded data removed]",
      "text/plain": [
       "<Figure size 1000x500 with 2 Axes>"
      ]
     },
     "metadata": {},
     "output_type": "display_data"
    }
   ],
   "source": [
    "# Plot specific snapshots \n",
    "\n",
    "# Select snapshots to be shown\n",
    "points_of_interest = [0, 5]\n",
    "point_labels = [\"Classtime\", \"Lunchtime\"]\n",
    "\n",
    "# Plot the snapshots\n",
    "snap_fig = eb.snapshot_plot(\n",
    "    emb.reshape(T, n, 2),\n",
    "    node_labels = spatial_node_labels,\n",
    "    idx_of_interest = points_of_interest,\n",
    "    title=point_labels,\n",
    "    sharex = True,\n",
    "    sharey = True,\n",
    "    tick_labels = True,\n",
    "    add_legend=True,\n",
    "    cmap=\"tab20\"\n",
    ")"
   ]
  }
 ],
 "metadata": {
  "kernelspec": {
   "display_name": ".venv",
   "language": "python",
   "name": "python3"
  },
  "language_info": {
   "codemirror_mode": {
    "name": "ipython",
    "version": 3
   },
   "file_extension": ".py",
   "mimetype": "text/x-python",
   "name": "python",
   "nbconvert_exporter": "python",
   "pygments_lexer": "ipython3",
   "version": "3.13.2"
  }
 },
 "nbformat": 4,
 "nbformat_minor": 2
}
